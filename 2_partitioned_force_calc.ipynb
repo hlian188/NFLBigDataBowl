{
 "cells": [
  {
   "cell_type": "markdown",
   "id": "10ac59b3",
   "metadata": {},
   "source": [
    "# Intro\n",
    "This notebook calculates the force of each player per frame, net force of each team per frame, \n",
    "and net partitioned forces per frame"
   ]
  },
  {
   "cell_type": "code",
   "execution_count": 1,
   "id": "24382da0",
   "metadata": {},
   "outputs": [],
   "source": [
    "import pandas as pd\n",
    "import csv\n",
    "import numpy as np\n",
    "from datetime import datetime\n",
    "import dateutil.parser\n",
    "from IPython.display import display\n",
    "import math\n",
    "from math import sin, cos, radians\n",
    "\n",
    "pd.options.display.max_columns = None\n",
    "\n",
    "games = pd.read_csv(\"games.csv\")\n",
    "weeks_dict = dict()\n",
    "for i in range(1, 9):\n",
    "    weeks_dict[i] = pd.read_pickle(f'week{i}_clean_pickled.pkl')\n",
    "pff = pd.read_pickle(\"pff_pickled.pkl\")\n",
    "\n",
    "players = pd.read_csv(\"players.csv\")\n",
    "play = pd.read_csv(\"plays.csv\")"
   ]
  },
  {
   "cell_type": "markdown",
   "id": "c9334d2c",
   "metadata": {},
   "source": [
    "# Read in data\n",
    "\n",
    "Reduce memory usage of large dataframes i.e. tracking data across weeks"
   ]
  },
  {
   "cell_type": "code",
   "execution_count": 2,
   "id": "04087f1b",
   "metadata": {},
   "outputs": [],
   "source": [
    "weeks_dict = dict()\n",
    "for i in range(1, 9):\n",
    "    headers = [*pd.read_csv(f'week{i}_cut_by_frame_clean.csv', nrows=1)]\n",
    "    weeks_dict[i] = pd.read_csv(f'week{i}_cut_by_frame_clean.csv', usecols =[i for i in headers if i != 'time'])\n",
    "    \n",
    "    # reduce memory usage and fill NaN values with 0, if appropriate\n",
    "    weeks_dict[i]['gameId'] = weeks_dict[i]['gameId'].fillna(0).astype('uint32', errors = 'ignore')\n",
    "    weeks_dict[i]['nflId'] = weeks_dict[i]['nflId'].fillna(0).astype('uint32', errors = 'ignore')\n",
    "    weeks_dict[i]['playId'] = weeks_dict[i]['playId'].fillna(0).astype('uint16', errors = 'ignore')\n",
    "    weeks_dict[i]['frameId'] = weeks_dict[i]['frameId'].fillna(0).astype('uint8', errors = 'ignore')\n",
    "    weeks_dict[i]['jerseyNumber'] = weeks_dict[i]['jerseyNumber'].fillna(-1).astype('int8', errors = 'ignore')\n",
    "    weeks_dict[i]['team'] = weeks_dict[i]['team'].astype('category', errors = 'ignore')\n",
    "    weeks_dict[i]['playDirection'] = weeks_dict[i]['playDirection'].astype('category', errors = 'ignore')\n",
    "    weeks_dict[i][weeks_dict[i].select_dtypes(np.float64).columns] = weeks_dict[i].select_dtypes(np.float64).astype(np.float32)\n",
    "    weeks_dict[i]['event'] = weeks_dict[i]['event'].astype('category', errors = 'ignore')\n",
    "    \n",
    "    # pickle the cleaned up tracking data df\n",
    "    weeks_dict[i].to_pickle(f'week{i}_clean_pickled.pkl')\n",
    "\n",
    "games = pd.read_csv(\"games.csv\")\n",
    "pff = pd.read_csv(\"pffScoutingData.csv\")\n",
    "pff = pff[['gameId', 'playId', 'nflId', 'pff_role', 'pff_positionLinedUp', 'pff_hit', 'pff_hurry', 'pff_sack']]\n",
    "\n",
    "pff['gameId'] = pff['gameId'].fillna(-1).astype('uint32', errors = 'ignore')\n",
    "pff['nflId'] = pff['nflId'].fillna(-1).astype('uint32', errors = 'ignore')\n",
    "pff['playId'] = pff['playId'].fillna(-1).astype('uint16', errors = 'ignore')\n",
    "pff['pff_role'] = pff['pff_role'].astype('category')\n",
    "pff['pff_positionLinedUp'] = pff['pff_positionLinedUp'].astype('category')\n",
    "pff['pff_hit'] = pff['pff_hit'].fillna(0).astype('int8')\n",
    "pff['pff_hurry'] = pff['pff_hurry'].fillna(0).astype('int8')\n",
    "pff['pff_sack'] = pff['pff_sack'].fillna(0).astype('int8')\n",
    "\n",
    "players = pd.read_csv(\"players.csv\")\n",
    "play = pd.read_csv(\"plays.csv\")"
   ]
  },
  {
   "cell_type": "markdown",
   "id": "4725e97a",
   "metadata": {},
   "source": [
    "# Force Calculations"
   ]
  },
  {
   "cell_type": "code",
   "execution_count": 3,
   "id": "39748101",
   "metadata": {},
   "outputs": [],
   "source": [
    "# create dictionary to find player weight given their nfl id\n",
    "players_dict = players[['nflId', 'weight']].set_index('nflId').to_dict()\n",
    "\n",
    "def find_player_weight(nflID):\n",
    "    \"\"\"\n",
    "    Wrapper function for finding weight of player given their nfl ID.\n",
    "\n",
    "    Parameters\n",
    "    ----------\n",
    "    nflID: int \n",
    "        Corresponds to the nfl ID of a given player\n",
    "\n",
    "    Returns\n",
    "    -------\n",
    "    int\n",
    "        Weight of the player. If the nfl ID does not exist, then return None \n",
    "    \"\"\"\n",
    "    if nflID in players_dict['weight'].keys():\n",
    "        return players_dict['weight'][nflID]\n",
    "    return None\n"
   ]
  },
  {
   "cell_type": "code",
   "execution_count": 4,
   "id": "3a890775",
   "metadata": {},
   "outputs": [],
   "source": [
    "# calculate force and merge with PFF data\n",
    "merged_weeks = dict()\n",
    "for i in range(1, 9):\n",
    "    weeks_dict[i] = weeks_dict[i].drop(columns = ['s', 'o', 'event'])\n",
    "    weeks_dict[i]['weight'] = weeks_dict[i]['nflId'].apply(lambda x : find_player_weight(x))\n",
    "    weeks_dict[i]['force'] = weeks_dict[i]['a'] * weeks_dict[i]['weight']\n",
    "    merged_weeks[i]  = weeks_dict[i].merge(pff, how = 'left', on = ['gameId', 'playId', 'nflId'])\n"
   ]
  },
  {
   "cell_type": "code",
   "execution_count": 5,
   "id": "d0f6b790",
   "metadata": {},
   "outputs": [],
   "source": [
    "# check if the force is always positive (aka check if no negative acceleration)\n",
    "for i in range(1, 9):\n",
    "    mask = (weeks_dict[i]['a'] < 0)\n",
    "    assert(len(weeks_dict[i][mask]) == 0)"
   ]
  },
  {
   "cell_type": "code",
   "execution_count": null,
   "id": "af21de45",
   "metadata": {},
   "outputs": [],
   "source": [
    "# calculate horizontal and vertical force vectors\n",
    "# calculations are explained in Kaggle notebook\n",
    "for i in range(1, 9):\n",
    "    merged_weeks[i]['adj_angle'] = 90 - merged_weeks[i]['dir'] \n",
    "    merged_weeks[i]['adj_angle'] = merged_weeks[i]['adj_angle'] * math.pi / 180\n",
    "    merged_weeks[i]['cos'] = np.cos(merged_weeks[i]['adj_angle'])\n",
    "    merged_weeks[i]['sin'] = np.sin(merged_weeks[i]['adj_angle'])\n",
    "    merged_weeks[i]['x_force'] = merged_weeks[i]['force'] * merged_weeks[i]['cos']\n",
    "    merged_weeks[i]['y_force'] = merged_weeks[i]['force'] * merged_weeks[i]['sin']\n",
    "    merged_weeks[i] = merged_weeks[i].drop(columns = ['cos', 'sin'])\n",
    "    merged_weeks[i].to_csv(f'forces_week{i}.csv', index = False)"
   ]
  },
  {
   "cell_type": "markdown",
   "id": "752b9244",
   "metadata": {},
   "source": [
    "# Net Force Calculations"
   ]
  },
  {
   "cell_type": "code",
   "execution_count": null,
   "id": "094dc821",
   "metadata": {
    "scrolled": true
   },
   "outputs": [],
   "source": [
    "def calculate_net_forces(df):\n",
    "    \"\"\"\n",
    "    Calculates the net x force and y force\n",
    "\n",
    "    Parameters\n",
    "    ----------\n",
    "    df: pd.DataFrame\n",
    "        Dataframe that contains x force and y force of players over each game, play, and frame\n",
    "\n",
    "    Returns\n",
    "    -------\n",
    "    pd.DataFrame\n",
    "        Dataframe with net x force and net y force of pass rushers and blockers over each game and play.\n",
    "        Note that the dataframe is NOT over frame ID\n",
    "    \"\"\"\n",
    "    df_defense = df[df['pff_role'] == 'Pass Rush']\n",
    "    df_offense = df[df['pff_role'] == 'Pass Block']\n",
    "    \n",
    "    offense_grouped = df_offense.groupby(['gameId', 'playId', 'frameId'])\n",
    "    defense_grouped = df_defense.groupby(['gameId', 'playId', 'frameId'])\n",
    "    \n",
    "    net_x_force_offense = offense_grouped['x_force'].sum()\n",
    "    net_y_force_offense = offense_grouped['y_force'].sum()\n",
    "    \n",
    "    net_x_force_defense = defense_grouped['x_force'].sum()\n",
    "    net_y_force_defense = defense_grouped['y_force'].sum()\n",
    "    \n",
    "    x_idx = net_x_force_defense.index.union(net_x_force_offense.index)\n",
    "    y_idx = net_y_force_defense.index.union(net_y_force_offense.index)\n",
    "    \n",
    "    total_x_force = net_x_force_defense.reindex(x_idx, fill_value = 0) + net_x_force_offense.reindex(x_idx, fill_value = 0)\n",
    "    total_y_force = net_y_force_defense.reindex(y_idx, fill_value = 0) + net_y_force_offense.reindex(y_idx, fill_value = 0)\n",
    "    \n",
    "    \n",
    "    total_x_force_df = total_x_force.to_frame(name = 'net_x_force').reset_index().set_index(['gameId', 'playId', 'frameId'])\n",
    "    total_y_force_df = total_y_force.to_frame(name = 'net_y_force').reset_index().set_index(['gameId', 'playId', 'frameId'])\n",
    "    \n",
    "    total_force_df = pd.concat([total_x_force_df, total_y_force_df], axis = 1).reset_index()\n",
    "    return total_force_df"
   ]
  },
  {
   "cell_type": "code",
   "execution_count": null,
   "id": "297dcc93",
   "metadata": {},
   "outputs": [],
   "source": [
    "# run calculate_net_forces for all our dataframes\n",
    "net_forces_dict = dict()\n",
    "for i in range(1, 9):\n",
    "    net_forces_dict[i] = calculate_net_forces(merged_weeks[i])"
   ]
  },
  {
   "cell_type": "markdown",
   "id": "71a8573c",
   "metadata": {},
   "source": [
    "# Partitioned Force Calculations"
   ]
  },
  {
   "cell_type": "code",
   "execution_count": null,
   "id": "dfd46827",
   "metadata": {
    "scrolled": true
   },
   "outputs": [],
   "source": [
    "def find_lt_y(df):\n",
    "    \"\"\"\n",
    "    Find the y value of the leftmost pass blocker, which is usually the left tackle. \n",
    "    \n",
    "    If left tackle cannot be found, we return the y value of the left guard.\n",
    "\n",
    "    Parameters\n",
    "    ----------\n",
    "    df: pd.DataFrame\n",
    "        Dataframe for a given game ID, play ID\n",
    "        \n",
    "    Returns\n",
    "    -------\n",
    "    float\n",
    "        y value of leftmost pass blocker \n",
    "    \"\"\"\n",
    "    lg_y = df[df['pff_positionLinedUp'] == 'LT']['y']\n",
    "    if len(lg_y) == 0:\n",
    "        lg_y = lg_y = df[df['pff_positionLinedUp'] == 'LG']['y']\n",
    "    return lg_y.values[0]\n",
    "\n",
    "def find_rt_y(df):\n",
    "    \"\"\"\n",
    "    Find the y value of the rightmost pass blocker, which is usually the right tackle. \n",
    "    \n",
    "    If right tackle cannot be found, we return the y value of the right guard.\n",
    "\n",
    "    Parameters\n",
    "    ----------\n",
    "    df: pd.DataFrame\n",
    "        Dataframe for a given game ID, play ID\n",
    "        \n",
    "    Returns\n",
    "    -------\n",
    "    float\n",
    "        y value of rightmost pass blocker \n",
    "    \"\"\"\n",
    "\n",
    "    rg_y = df[df['pff_positionLinedUp'] == 'RT']['y']\n",
    "    if len(rg_y) == 0:\n",
    "        rg_y = df[df['pff_positionLinedUp'] == 'RG']['y']\n",
    "    return rg_y.values[0]\n",
    "    \n",
    "\n",
    "def create_indicator(df, simple = False):\n",
    "    \"\"\"\n",
    "    Create a dataframe with an indicator column that indicates which partition a player is in\n",
    "\n",
    "    Parameters\n",
    "    ----------\n",
    "    df: pd.DataFrame\n",
    "        Dataframe that includes tracking data of player over game, play, and frame.\n",
    "    simple: bool\n",
    "        Optional parameter to specify if partitions stay fixed throughout a play or change over the course of a play.\n",
    "        If simple == False, then the partitions per frame ID are based on locations of \n",
    "        rightmost and leftmost pass blockers.\n",
    "        \n",
    "    Returns\n",
    "    -------\n",
    "    pd.DataFrame\n",
    "        y value of leftmost pass blocker \n",
    "    \"\"\"\n",
    "    if simple:\n",
    "        to_merge1 = df.groupby(['gameId', 'playId']).apply(lambda x : find_lt_y(x)).reset_index().rename(columns = {0 : 'lt_y'})\n",
    "        to_merge2 = df.groupby(['gameId', 'playId']).apply(lambda x : find_rt_y(x)).reset_index().rename(columns = {0 : 'rt_y'})\n",
    "        new_df = pd.merge(df, to_merge1, how = \"left\", on = [\"playId\",\"gameId\"])\n",
    "        new_df = pd.merge(new_df, to_merge2, how = \"left\", on = [\"playId\",\"gameId\"])\n",
    "    else:\n",
    "        # the two merges take around ~30-60 seconds\n",
    "        to_merge1 = df.groupby(['gameId', 'playId', 'frameId']).apply(lambda x : find_lt_y(x)).reset_index().rename(columns = {0 : 'lt_y'})\n",
    "        to_merge2 = df.groupby(['gameId', 'playId', 'frameId']).apply(lambda x : find_rt_y(x)).reset_index().rename(columns = {0 : 'rt_y'})\n",
    "    \n",
    "        new_df = pd.merge(df, to_merge1, how=\"left\",on = [\"frameId\",\"playId\",\"gameId\"])\n",
    "        new_df = pd.merge(new_df, to_merge2, how=\"left\",on = [\"frameId\",\"playId\",\"gameId\"])\n",
    "    \n",
    "    new_df['max_y'] = new_df[['lt_y', 'rt_y']].max(axis = 1)\n",
    "    new_df['min_y'] = new_df[['lt_y', 'rt_y']].min(axis = 1)\n",
    "    new_df['indicator'] = np.where(new_df['y'] < new_df['min_y'], -1, \n",
    "                                         np.where((new_df['min_y'] <= new_df['y']) & (new_df['y'] <= new_df['max_y']), 0, \n",
    "                                                 1))\n",
    "    return new_df    "
   ]
  },
  {
   "cell_type": "code",
   "execution_count": null,
   "id": "09d36de8",
   "metadata": {},
   "outputs": [],
   "source": [
    "# calculate the partitioned forces\n",
    "partitioned_dict = dict()\n",
    "for i in range(1, 9):\n",
    "    force_with_indicator_df = create_indicator(merged_weeks[i], simple = True)\n",
    "    net_force_df = force_with_indicator_df.groupby(['indicator']).apply(calculate_net_forces)\n",
    "    net_force_df = net_force_df.reset_index(level = 1, drop = True)\n",
    "    net_force_df = net_force_df.reset_index()\n",
    "    \n",
    "    # groups will hold dataframe of net force per partitione\n",
    "    groups = []\n",
    "    for n, g in net_force_df.groupby('indicator'):\n",
    "        groups.append(g)\n",
    "        \n",
    "    # merge all the partitioned dataframes together\n",
    "    df = groups[0].merge(groups[1], how = 'outer', on = ['gameId', 'playId', 'frameId'])\n",
    "    df = df.merge(groups[2], how = 'outer', on = ['gameId', 'playId', 'frameId'])\n",
    "\n",
    "    # rename columns\n",
    "    df = df.rename(columns = {'net_x_force' : 'net_x_force_top', 'net_y_force' : 'net_y_force_top',\n",
    "                             'net_x_force_x' : 'net_x_force_bottom', 'net_y_force_x' : 'net_y_force_bottom',\n",
    "                             'net_x_force_y' : 'net_x_force_middle', 'net_y_force_y' : 'net_y_force_middle'})\n",
    "    df = df.drop(columns = ['indicator', 'indicator_x', 'indicator_y'])\n",
    "    partitioned_dict[i] = df"
   ]
  },
  {
   "cell_type": "code",
   "execution_count": null,
   "id": "c853fa71",
   "metadata": {},
   "outputs": [],
   "source": [
    "# merge partitioned net forces and net forces into 1 data frame\n",
    "for i in range(1, 9):\n",
    "    df = pd.merge(partitioned_dict[i], net_forces_dict[i], how = 'outer', on = ['gameId', 'playId', 'frameId'])\n",
    "    df.to_csv(f\"partitioned_forces{i}.csv\")\n",
    "    display(df)"
   ]
  }
 ],
 "metadata": {
  "kernelspec": {
   "display_name": "Python 3 (ipykernel)",
   "language": "python",
   "name": "python3"
  },
  "language_info": {
   "codemirror_mode": {
    "name": "ipython",
    "version": 3
   },
   "file_extension": ".py",
   "mimetype": "text/x-python",
   "name": "python",
   "nbconvert_exporter": "python",
   "pygments_lexer": "ipython3",
   "version": "3.8.10"
  },
  "vscode": {
   "interpreter": {
    "hash": "d4255d3acd36e6da8cfcfa64477eeb4e59d8fb295a407459cbb657cab0c6aa25"
   }
  }
 },
 "nbformat": 4,
 "nbformat_minor": 5
}
