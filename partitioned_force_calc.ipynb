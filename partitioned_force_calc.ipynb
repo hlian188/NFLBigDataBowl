{
 "cells": [
  {
   "cell_type": "code",
   "execution_count": 1,
   "id": "24382da0",
   "metadata": {},
   "outputs": [],
   "source": [
    "import pandas as pd\n",
    "import csv\n",
    "import numpy as np\n",
    "from datetime import datetime\n",
    "import dateutil.parser\n",
    "from IPython.display import display\n",
    "\n",
    "pd.options.display.max_columns = None\n",
    "# pd.set_option('display.max_rows', None)\n"
   ]
  },
  {
   "cell_type": "code",
   "execution_count": 2,
   "id": "263f2b56",
   "metadata": {},
   "outputs": [
    {
     "name": "stdout",
     "output_type": "stream",
     "text": [
      "<class 'pandas.core.frame.DataFrame'>\n",
      "RangeIndex: 843295 entries, 0 to 843294\n",
      "Data columns (total 15 columns):\n",
      " #   Column         Non-Null Count   Dtype   \n",
      "---  ------         --------------   -----   \n",
      " 0   gameId         843295 non-null  uint32  \n",
      " 1   playId         843295 non-null  uint16  \n",
      " 2   nflId          843295 non-null  uint32  \n",
      " 3   jerseyNumber   843295 non-null  int8    \n",
      " 4   team           843295 non-null  category\n",
      " 5   playDirection  843295 non-null  category\n",
      " 6   x              843295 non-null  float32 \n",
      " 7   y              843295 non-null  float32 \n",
      " 8   s              843295 non-null  float32 \n",
      " 9   a              843295 non-null  float32 \n",
      " 10  dis            843295 non-null  float32 \n",
      " 11  o              806630 non-null  float32 \n",
      " 12  dir            806630 non-null  float32 \n",
      " 13  event          843295 non-null  category\n",
      " 14  frameId        843295 non-null  uint8   \n",
      "dtypes: category(3), float32(7), int8(1), uint16(1), uint32(2), uint8(1)\n",
      "memory usage: 34.6 MB\n",
      "None\n"
     ]
    }
   ],
   "source": [
    "#read in data, including data for all weeks\n",
    "games = pd.read_csv(\"games.csv\")\n",
    "weeks_dict = dict()\n",
    "for i in range(1, 2):\n",
    "    headers = [*pd.read_csv(f'week{i}_cut_by_frame_clean.csv', nrows=1)]\n",
    "    weeks_dict[i] = pd.read_csv(f'week{i}_cut_by_frame_clean.csv', usecols =[i for i in headers if i != 'time'])\n",
    "    #reduce memory usage\n",
    "    weeks_dict[i]['gameId'] = weeks_dict[i]['gameId'].fillna(0).astype('uint32', errors = 'ignore')\n",
    "    weeks_dict[i]['nflId'] = weeks_dict[i]['nflId'].fillna(0).astype('uint32', errors = 'ignore')\n",
    "    weeks_dict[i]['playId'] = weeks_dict[i]['playId'].fillna(0).astype('uint16', errors = 'ignore')\n",
    "    weeks_dict[i]['frameId'] = weeks_dict[i]['frameId'].fillna(0).astype('uint8', errors = 'ignore')\n",
    "    weeks_dict[i]['jerseyNumber'] = weeks_dict[i]['jerseyNumber'].fillna(-1).astype('int8', errors = 'ignore')\n",
    "    weeks_dict[i]['team'] = weeks_dict[i]['team'].astype('category', errors = 'ignore')\n",
    "    weeks_dict[i]['playDirection'] = weeks_dict[i]['playDirection'].astype('category', errors = 'ignore')\n",
    "    weeks_dict[i][weeks_dict[i].select_dtypes(np.float64).columns] = weeks_dict[i].select_dtypes(np.float64).astype(np.float32)\n",
    "    weeks_dict[i]['event'] = weeks_dict[i]['event'].astype('category', errors = 'ignore')\n",
    "    print(weeks_dict[i].info(memory_usage='deep'))\n",
    "\n",
    "#nan values in binary response variables become 0\n",
    "pff = pd.read_csv(\"pffScoutingData.csv\")\n",
    "pff['gameId'] = pff['gameId'].fillna(-1).astype('uint32', errors = 'ignore')\n",
    "pff['nflId'] = pff['nflId'].fillna(-1).astype('uint32', errors = 'ignore')\n",
    "pff['playId'] = pff['playId'].fillna(-1).astype('uint16', errors = 'ignore')\n",
    "pff['pff_role'] = pff['pff_role'].astype('category')\n",
    "pff['pff_positionLinedUp'] = pff['pff_positionLinedUp'].astype('category')\n",
    "pff['pff_hit'] = pff['pff_hit'].fillna(0).astype('int8')\n",
    "pff['pff_hurry'] = pff['pff_hurry'].fillna(0).astype('int8')\n",
    "pff['pff_sack'] = pff['pff_sack'].fillna(0).astype('int8')\n",
    "pff['pff_beatenByDefender'] = pff['pff_beatenByDefender'].fillna(0).astype('int8')\n",
    "pff['pff_hitAllowed'] = pff['pff_hitAllowed'].fillna(0).astype('int8')\n",
    "pff['pff_hurryAllowed'] = pff['pff_hurryAllowed'].fillna(0).astype('int8')\n",
    "pff['pff_sackAllowed'] = pff['pff_sackAllowed'].fillna(0).astype('int8')\n",
    "pff['pff_nflIdBlockedPlayer'] = pff['pff_nflIdBlockedPlayer'].fillna(0).astype('uint32')\n",
    "pff['pff_blockType'] = pff['pff_blockType'].astype('category')\n",
    "pff['pff_backFieldBlock'] = pff['pff_backFieldBlock'].fillna(0).astype('int8')\n",
    "\n",
    "players = pd.read_csv(\"players.csv\")\n",
    "play = pd.read_csv(\"plays.csv\")"
   ]
  },
  {
   "cell_type": "code",
   "execution_count": 3,
   "id": "39748101",
   "metadata": {},
   "outputs": [],
   "source": [
    "week1 = weeks_dict[1]\n",
    "players_dict = players[['nflId', 'weight']].set_index('nflId').to_dict()\n",
    "# create dictionary to find player weight given their nfl id\n",
    "def find_player_weight(nflID):\n",
    "    if nflID in players_dict['weight'].keys():\n",
    "        return players_dict['weight'][nflID]\n",
    "    return None\n"
   ]
  },
  {
   "cell_type": "code",
   "execution_count": 4,
   "id": "3a890775",
   "metadata": {},
   "outputs": [],
   "source": [
    "#calculates force\n",
    "week1['weight'] = week1['nflId'].apply(lambda x : find_player_weight(x))\n",
    "week1['force'] = week1['a'] * week1['weight']\n",
    "#add pff positions to week1\n",
    "week1_merged = week1.merge(pff, how = 'left', on = ['gameId', 'playId', 'nflId'])"
   ]
  },
  {
   "cell_type": "code",
   "execution_count": 5,
   "id": "af21de45",
   "metadata": {},
   "outputs": [],
   "source": [
    "# calculate horizontal and vertical force vectors\n",
    "# we add 90 degrees since 0 degrees is facing towards sideline\n",
    "import math\n",
    "from math import sin, cos, radians\n",
    "def calculate_x_force(force, direction):\n",
    "    return force * math.cos(radians(direction + 90))\n",
    "def calculate_y_force(force, direction):\n",
    "    return force * math.sin(radians(direction + 90))\n",
    "\n",
    "week1_merged['x_force'] = week1_merged.apply(lambda x : calculate_x_force(x['force'], x['dir']), axis = 1)\n",
    "week1_merged['y_force'] = week1_merged.apply(lambda x : calculate_y_force(x['force'], x['dir']), axis = 1)\n"
   ]
  },
  {
   "cell_type": "code",
   "execution_count": 6,
   "id": "b618c52c",
   "metadata": {},
   "outputs": [],
   "source": [
    "week1_defense = week1_merged[week1_merged['pff_role'] == 'Pass Rush']\n",
    "week1_offense = week1_merged[week1_merged['pff_role'] == 'Pass Block']\n",
    "week1_defense[['gameId', 'playId', 'nflId', 'frameId', 'dir', 'force', 'x_force', 'y_force', 'pff_role']].to_csv(r\"C:\\Users\\Harrison\\Documents\\cmu2021-2022\\36490\\week1_defense_force.csv\", index = False)\n",
    "week1_offense[['gameId', 'playId', 'nflId', 'frameId', 'dir', 'force', 'x_force', 'y_force', 'pff_role']].to_csv(r\"C:\\Users\\Harrison\\Documents\\cmu2021-2022\\36490\\week1_offense_force.csv\", index = False)"
   ]
  },
  {
   "cell_type": "code",
   "execution_count": 7,
   "id": "16d389e7",
   "metadata": {},
   "outputs": [
    {
     "data": {
      "text/html": [
       "<div>\n",
       "<style scoped>\n",
       "    .dataframe tbody tr th:only-of-type {\n",
       "        vertical-align: middle;\n",
       "    }\n",
       "\n",
       "    .dataframe tbody tr th {\n",
       "        vertical-align: top;\n",
       "    }\n",
       "\n",
       "    .dataframe thead th {\n",
       "        text-align: right;\n",
       "    }\n",
       "</style>\n",
       "<table border=\"1\" class=\"dataframe\">\n",
       "  <thead>\n",
       "    <tr style=\"text-align: right;\">\n",
       "      <th></th>\n",
       "      <th>gameId</th>\n",
       "      <th>playId</th>\n",
       "      <th>nflId</th>\n",
       "      <th>jerseyNumber</th>\n",
       "      <th>team</th>\n",
       "      <th>playDirection</th>\n",
       "      <th>x</th>\n",
       "      <th>y</th>\n",
       "      <th>s</th>\n",
       "      <th>a</th>\n",
       "      <th>dis</th>\n",
       "      <th>o</th>\n",
       "      <th>dir</th>\n",
       "      <th>event</th>\n",
       "      <th>frameId</th>\n",
       "      <th>weight</th>\n",
       "      <th>force</th>\n",
       "      <th>pff_role</th>\n",
       "      <th>pff_positionLinedUp</th>\n",
       "      <th>pff_hit</th>\n",
       "      <th>pff_hurry</th>\n",
       "      <th>pff_sack</th>\n",
       "      <th>pff_beatenByDefender</th>\n",
       "      <th>pff_hitAllowed</th>\n",
       "      <th>pff_hurryAllowed</th>\n",
       "      <th>pff_sackAllowed</th>\n",
       "      <th>pff_nflIdBlockedPlayer</th>\n",
       "      <th>pff_blockType</th>\n",
       "      <th>pff_backFieldBlock</th>\n",
       "      <th>x_force</th>\n",
       "      <th>y_force</th>\n",
       "    </tr>\n",
       "  </thead>\n",
       "  <tbody>\n",
       "    <tr>\n",
       "      <th>0</th>\n",
       "      <td>2021090900</td>\n",
       "      <td>97</td>\n",
       "      <td>25511</td>\n",
       "      <td>12</td>\n",
       "      <td>TB</td>\n",
       "      <td>right</td>\n",
       "      <td>37.639999</td>\n",
       "      <td>24.260000</td>\n",
       "      <td>0.35</td>\n",
       "      <td>0.53</td>\n",
       "      <td>0.05</td>\n",
       "      <td>144.419998</td>\n",
       "      <td>282.720001</td>\n",
       "      <td>ball_snap</td>\n",
       "      <td>1</td>\n",
       "      <td>225.0</td>\n",
       "      <td>119.249994</td>\n",
       "      <td>Pass</td>\n",
       "      <td>QB</td>\n",
       "      <td>0.0</td>\n",
       "      <td>0.0</td>\n",
       "      <td>0.0</td>\n",
       "      <td>0.0</td>\n",
       "      <td>0.0</td>\n",
       "      <td>0.0</td>\n",
       "      <td>0.0</td>\n",
       "      <td>0.0</td>\n",
       "      <td>NaN</td>\n",
       "      <td>0.0</td>\n",
       "      <td>116.323329</td>\n",
       "      <td>26.257267</td>\n",
       "    </tr>\n",
       "    <tr>\n",
       "      <th>1</th>\n",
       "      <td>2021090900</td>\n",
       "      <td>97</td>\n",
       "      <td>25511</td>\n",
       "      <td>12</td>\n",
       "      <td>TB</td>\n",
       "      <td>right</td>\n",
       "      <td>37.560001</td>\n",
       "      <td>24.260000</td>\n",
       "      <td>0.54</td>\n",
       "      <td>1.05</td>\n",
       "      <td>0.08</td>\n",
       "      <td>137.490005</td>\n",
       "      <td>272.950012</td>\n",
       "      <td>None</td>\n",
       "      <td>2</td>\n",
       "      <td>225.0</td>\n",
       "      <td>236.249989</td>\n",
       "      <td>Pass</td>\n",
       "      <td>QB</td>\n",
       "      <td>0.0</td>\n",
       "      <td>0.0</td>\n",
       "      <td>0.0</td>\n",
       "      <td>0.0</td>\n",
       "      <td>0.0</td>\n",
       "      <td>0.0</td>\n",
       "      <td>0.0</td>\n",
       "      <td>0.0</td>\n",
       "      <td>NaN</td>\n",
       "      <td>0.0</td>\n",
       "      <td>235.936914</td>\n",
       "      <td>12.158530</td>\n",
       "    </tr>\n",
       "    <tr>\n",
       "      <th>2</th>\n",
       "      <td>2021090900</td>\n",
       "      <td>97</td>\n",
       "      <td>25511</td>\n",
       "      <td>12</td>\n",
       "      <td>TB</td>\n",
       "      <td>right</td>\n",
       "      <td>37.470001</td>\n",
       "      <td>24.250000</td>\n",
       "      <td>0.80</td>\n",
       "      <td>1.85</td>\n",
       "      <td>0.09</td>\n",
       "      <td>131.949997</td>\n",
       "      <td>267.489990</td>\n",
       "      <td>None</td>\n",
       "      <td>3</td>\n",
       "      <td>225.0</td>\n",
       "      <td>416.250005</td>\n",
       "      <td>Pass</td>\n",
       "      <td>QB</td>\n",
       "      <td>0.0</td>\n",
       "      <td>0.0</td>\n",
       "      <td>0.0</td>\n",
       "      <td>0.0</td>\n",
       "      <td>0.0</td>\n",
       "      <td>0.0</td>\n",
       "      <td>0.0</td>\n",
       "      <td>0.0</td>\n",
       "      <td>NaN</td>\n",
       "      <td>0.0</td>\n",
       "      <td>415.850649</td>\n",
       "      <td>-18.229221</td>\n",
       "    </tr>\n",
       "    <tr>\n",
       "      <th>3</th>\n",
       "      <td>2021090900</td>\n",
       "      <td>97</td>\n",
       "      <td>25511</td>\n",
       "      <td>12</td>\n",
       "      <td>TB</td>\n",
       "      <td>right</td>\n",
       "      <td>37.380001</td>\n",
       "      <td>24.240000</td>\n",
       "      <td>0.99</td>\n",
       "      <td>2.03</td>\n",
       "      <td>0.09</td>\n",
       "      <td>129.850006</td>\n",
       "      <td>263.480011</td>\n",
       "      <td>None</td>\n",
       "      <td>4</td>\n",
       "      <td>225.0</td>\n",
       "      <td>456.749994</td>\n",
       "      <td>Pass</td>\n",
       "      <td>QB</td>\n",
       "      <td>0.0</td>\n",
       "      <td>0.0</td>\n",
       "      <td>0.0</td>\n",
       "      <td>0.0</td>\n",
       "      <td>0.0</td>\n",
       "      <td>0.0</td>\n",
       "      <td>0.0</td>\n",
       "      <td>0.0</td>\n",
       "      <td>NaN</td>\n",
       "      <td>0.0</td>\n",
       "      <td>453.795872</td>\n",
       "      <td>-51.863888</td>\n",
       "    </tr>\n",
       "    <tr>\n",
       "      <th>4</th>\n",
       "      <td>2021090900</td>\n",
       "      <td>97</td>\n",
       "      <td>25511</td>\n",
       "      <td>12</td>\n",
       "      <td>TB</td>\n",
       "      <td>right</td>\n",
       "      <td>37.270000</td>\n",
       "      <td>24.230000</td>\n",
       "      <td>1.19</td>\n",
       "      <td>1.82</td>\n",
       "      <td>0.11</td>\n",
       "      <td>123.790001</td>\n",
       "      <td>263.769989</td>\n",
       "      <td>None</td>\n",
       "      <td>5</td>\n",
       "      <td>225.0</td>\n",
       "      <td>409.500012</td>\n",
       "      <td>Pass</td>\n",
       "      <td>QB</td>\n",
       "      <td>0.0</td>\n",
       "      <td>0.0</td>\n",
       "      <td>0.0</td>\n",
       "      <td>0.0</td>\n",
       "      <td>0.0</td>\n",
       "      <td>0.0</td>\n",
       "      <td>0.0</td>\n",
       "      <td>0.0</td>\n",
       "      <td>NaN</td>\n",
       "      <td>0.0</td>\n",
       "      <td>407.081611</td>\n",
       "      <td>-44.438969</td>\n",
       "    </tr>\n",
       "    <tr>\n",
       "      <th>...</th>\n",
       "      <td>...</td>\n",
       "      <td>...</td>\n",
       "      <td>...</td>\n",
       "      <td>...</td>\n",
       "      <td>...</td>\n",
       "      <td>...</td>\n",
       "      <td>...</td>\n",
       "      <td>...</td>\n",
       "      <td>...</td>\n",
       "      <td>...</td>\n",
       "      <td>...</td>\n",
       "      <td>...</td>\n",
       "      <td>...</td>\n",
       "      <td>...</td>\n",
       "      <td>...</td>\n",
       "      <td>...</td>\n",
       "      <td>...</td>\n",
       "      <td>...</td>\n",
       "      <td>...</td>\n",
       "      <td>...</td>\n",
       "      <td>...</td>\n",
       "      <td>...</td>\n",
       "      <td>...</td>\n",
       "      <td>...</td>\n",
       "      <td>...</td>\n",
       "      <td>...</td>\n",
       "      <td>...</td>\n",
       "      <td>...</td>\n",
       "      <td>...</td>\n",
       "      <td>...</td>\n",
       "      <td>...</td>\n",
       "    </tr>\n",
       "    <tr>\n",
       "      <th>843290</th>\n",
       "      <td>2021091300</td>\n",
       "      <td>4845</td>\n",
       "      <td>0</td>\n",
       "      <td>-1</td>\n",
       "      <td>football</td>\n",
       "      <td>left</td>\n",
       "      <td>50.840000</td>\n",
       "      <td>24.730000</td>\n",
       "      <td>4.30</td>\n",
       "      <td>0.46</td>\n",
       "      <td>0.46</td>\n",
       "      <td>NaN</td>\n",
       "      <td>NaN</td>\n",
       "      <td>None</td>\n",
       "      <td>20</td>\n",
       "      <td>NaN</td>\n",
       "      <td>NaN</td>\n",
       "      <td>NaN</td>\n",
       "      <td>NaN</td>\n",
       "      <td>NaN</td>\n",
       "      <td>NaN</td>\n",
       "      <td>NaN</td>\n",
       "      <td>NaN</td>\n",
       "      <td>NaN</td>\n",
       "      <td>NaN</td>\n",
       "      <td>NaN</td>\n",
       "      <td>NaN</td>\n",
       "      <td>NaN</td>\n",
       "      <td>NaN</td>\n",
       "      <td>NaN</td>\n",
       "      <td>NaN</td>\n",
       "    </tr>\n",
       "    <tr>\n",
       "      <th>843291</th>\n",
       "      <td>2021091300</td>\n",
       "      <td>4845</td>\n",
       "      <td>0</td>\n",
       "      <td>-1</td>\n",
       "      <td>football</td>\n",
       "      <td>left</td>\n",
       "      <td>51.250000</td>\n",
       "      <td>24.830000</td>\n",
       "      <td>4.25</td>\n",
       "      <td>1.15</td>\n",
       "      <td>0.43</td>\n",
       "      <td>NaN</td>\n",
       "      <td>NaN</td>\n",
       "      <td>None</td>\n",
       "      <td>21</td>\n",
       "      <td>NaN</td>\n",
       "      <td>NaN</td>\n",
       "      <td>NaN</td>\n",
       "      <td>NaN</td>\n",
       "      <td>NaN</td>\n",
       "      <td>NaN</td>\n",
       "      <td>NaN</td>\n",
       "      <td>NaN</td>\n",
       "      <td>NaN</td>\n",
       "      <td>NaN</td>\n",
       "      <td>NaN</td>\n",
       "      <td>NaN</td>\n",
       "      <td>NaN</td>\n",
       "      <td>NaN</td>\n",
       "      <td>NaN</td>\n",
       "      <td>NaN</td>\n",
       "    </tr>\n",
       "    <tr>\n",
       "      <th>843292</th>\n",
       "      <td>2021091300</td>\n",
       "      <td>4845</td>\n",
       "      <td>0</td>\n",
       "      <td>-1</td>\n",
       "      <td>football</td>\n",
       "      <td>left</td>\n",
       "      <td>51.669998</td>\n",
       "      <td>24.930000</td>\n",
       "      <td>4.14</td>\n",
       "      <td>1.83</td>\n",
       "      <td>0.42</td>\n",
       "      <td>NaN</td>\n",
       "      <td>NaN</td>\n",
       "      <td>None</td>\n",
       "      <td>22</td>\n",
       "      <td>NaN</td>\n",
       "      <td>NaN</td>\n",
       "      <td>NaN</td>\n",
       "      <td>NaN</td>\n",
       "      <td>NaN</td>\n",
       "      <td>NaN</td>\n",
       "      <td>NaN</td>\n",
       "      <td>NaN</td>\n",
       "      <td>NaN</td>\n",
       "      <td>NaN</td>\n",
       "      <td>NaN</td>\n",
       "      <td>NaN</td>\n",
       "      <td>NaN</td>\n",
       "      <td>NaN</td>\n",
       "      <td>NaN</td>\n",
       "      <td>NaN</td>\n",
       "    </tr>\n",
       "    <tr>\n",
       "      <th>843293</th>\n",
       "      <td>2021091300</td>\n",
       "      <td>4845</td>\n",
       "      <td>0</td>\n",
       "      <td>-1</td>\n",
       "      <td>football</td>\n",
       "      <td>left</td>\n",
       "      <td>52.060001</td>\n",
       "      <td>25.030001</td>\n",
       "      <td>3.96</td>\n",
       "      <td>1.93</td>\n",
       "      <td>0.40</td>\n",
       "      <td>NaN</td>\n",
       "      <td>NaN</td>\n",
       "      <td>None</td>\n",
       "      <td>23</td>\n",
       "      <td>NaN</td>\n",
       "      <td>NaN</td>\n",
       "      <td>NaN</td>\n",
       "      <td>NaN</td>\n",
       "      <td>NaN</td>\n",
       "      <td>NaN</td>\n",
       "      <td>NaN</td>\n",
       "      <td>NaN</td>\n",
       "      <td>NaN</td>\n",
       "      <td>NaN</td>\n",
       "      <td>NaN</td>\n",
       "      <td>NaN</td>\n",
       "      <td>NaN</td>\n",
       "      <td>NaN</td>\n",
       "      <td>NaN</td>\n",
       "      <td>NaN</td>\n",
       "    </tr>\n",
       "    <tr>\n",
       "      <th>843294</th>\n",
       "      <td>2021091300</td>\n",
       "      <td>4845</td>\n",
       "      <td>0</td>\n",
       "      <td>-1</td>\n",
       "      <td>football</td>\n",
       "      <td>left</td>\n",
       "      <td>52.430000</td>\n",
       "      <td>25.129999</td>\n",
       "      <td>3.77</td>\n",
       "      <td>1.98</td>\n",
       "      <td>0.39</td>\n",
       "      <td>NaN</td>\n",
       "      <td>NaN</td>\n",
       "      <td>autoevent_passforward</td>\n",
       "      <td>24</td>\n",
       "      <td>NaN</td>\n",
       "      <td>NaN</td>\n",
       "      <td>NaN</td>\n",
       "      <td>NaN</td>\n",
       "      <td>NaN</td>\n",
       "      <td>NaN</td>\n",
       "      <td>NaN</td>\n",
       "      <td>NaN</td>\n",
       "      <td>NaN</td>\n",
       "      <td>NaN</td>\n",
       "      <td>NaN</td>\n",
       "      <td>NaN</td>\n",
       "      <td>NaN</td>\n",
       "      <td>NaN</td>\n",
       "      <td>NaN</td>\n",
       "      <td>NaN</td>\n",
       "    </tr>\n",
       "  </tbody>\n",
       "</table>\n",
       "<p>843295 rows × 31 columns</p>\n",
       "</div>"
      ],
      "text/plain": [
       "            gameId  playId  nflId  jerseyNumber      team playDirection  \\\n",
       "0       2021090900      97  25511            12        TB         right   \n",
       "1       2021090900      97  25511            12        TB         right   \n",
       "2       2021090900      97  25511            12        TB         right   \n",
       "3       2021090900      97  25511            12        TB         right   \n",
       "4       2021090900      97  25511            12        TB         right   \n",
       "...            ...     ...    ...           ...       ...           ...   \n",
       "843290  2021091300    4845      0            -1  football          left   \n",
       "843291  2021091300    4845      0            -1  football          left   \n",
       "843292  2021091300    4845      0            -1  football          left   \n",
       "843293  2021091300    4845      0            -1  football          left   \n",
       "843294  2021091300    4845      0            -1  football          left   \n",
       "\n",
       "                x          y     s     a   dis           o         dir  \\\n",
       "0       37.639999  24.260000  0.35  0.53  0.05  144.419998  282.720001   \n",
       "1       37.560001  24.260000  0.54  1.05  0.08  137.490005  272.950012   \n",
       "2       37.470001  24.250000  0.80  1.85  0.09  131.949997  267.489990   \n",
       "3       37.380001  24.240000  0.99  2.03  0.09  129.850006  263.480011   \n",
       "4       37.270000  24.230000  1.19  1.82  0.11  123.790001  263.769989   \n",
       "...           ...        ...   ...   ...   ...         ...         ...   \n",
       "843290  50.840000  24.730000  4.30  0.46  0.46         NaN         NaN   \n",
       "843291  51.250000  24.830000  4.25  1.15  0.43         NaN         NaN   \n",
       "843292  51.669998  24.930000  4.14  1.83  0.42         NaN         NaN   \n",
       "843293  52.060001  25.030001  3.96  1.93  0.40         NaN         NaN   \n",
       "843294  52.430000  25.129999  3.77  1.98  0.39         NaN         NaN   \n",
       "\n",
       "                        event  frameId  weight       force pff_role  \\\n",
       "0                   ball_snap        1   225.0  119.249994     Pass   \n",
       "1                        None        2   225.0  236.249989     Pass   \n",
       "2                        None        3   225.0  416.250005     Pass   \n",
       "3                        None        4   225.0  456.749994     Pass   \n",
       "4                        None        5   225.0  409.500012     Pass   \n",
       "...                       ...      ...     ...         ...      ...   \n",
       "843290                   None       20     NaN         NaN      NaN   \n",
       "843291                   None       21     NaN         NaN      NaN   \n",
       "843292                   None       22     NaN         NaN      NaN   \n",
       "843293                   None       23     NaN         NaN      NaN   \n",
       "843294  autoevent_passforward       24     NaN         NaN      NaN   \n",
       "\n",
       "       pff_positionLinedUp  pff_hit  pff_hurry  pff_sack  \\\n",
       "0                       QB      0.0        0.0       0.0   \n",
       "1                       QB      0.0        0.0       0.0   \n",
       "2                       QB      0.0        0.0       0.0   \n",
       "3                       QB      0.0        0.0       0.0   \n",
       "4                       QB      0.0        0.0       0.0   \n",
       "...                    ...      ...        ...       ...   \n",
       "843290                 NaN      NaN        NaN       NaN   \n",
       "843291                 NaN      NaN        NaN       NaN   \n",
       "843292                 NaN      NaN        NaN       NaN   \n",
       "843293                 NaN      NaN        NaN       NaN   \n",
       "843294                 NaN      NaN        NaN       NaN   \n",
       "\n",
       "        pff_beatenByDefender  pff_hitAllowed  pff_hurryAllowed  \\\n",
       "0                        0.0             0.0               0.0   \n",
       "1                        0.0             0.0               0.0   \n",
       "2                        0.0             0.0               0.0   \n",
       "3                        0.0             0.0               0.0   \n",
       "4                        0.0             0.0               0.0   \n",
       "...                      ...             ...               ...   \n",
       "843290                   NaN             NaN               NaN   \n",
       "843291                   NaN             NaN               NaN   \n",
       "843292                   NaN             NaN               NaN   \n",
       "843293                   NaN             NaN               NaN   \n",
       "843294                   NaN             NaN               NaN   \n",
       "\n",
       "        pff_sackAllowed  pff_nflIdBlockedPlayer pff_blockType  \\\n",
       "0                   0.0                     0.0           NaN   \n",
       "1                   0.0                     0.0           NaN   \n",
       "2                   0.0                     0.0           NaN   \n",
       "3                   0.0                     0.0           NaN   \n",
       "4                   0.0                     0.0           NaN   \n",
       "...                 ...                     ...           ...   \n",
       "843290              NaN                     NaN           NaN   \n",
       "843291              NaN                     NaN           NaN   \n",
       "843292              NaN                     NaN           NaN   \n",
       "843293              NaN                     NaN           NaN   \n",
       "843294              NaN                     NaN           NaN   \n",
       "\n",
       "        pff_backFieldBlock     x_force    y_force  \n",
       "0                      0.0  116.323329  26.257267  \n",
       "1                      0.0  235.936914  12.158530  \n",
       "2                      0.0  415.850649 -18.229221  \n",
       "3                      0.0  453.795872 -51.863888  \n",
       "4                      0.0  407.081611 -44.438969  \n",
       "...                    ...         ...        ...  \n",
       "843290                 NaN         NaN        NaN  \n",
       "843291                 NaN         NaN        NaN  \n",
       "843292                 NaN         NaN        NaN  \n",
       "843293                 NaN         NaN        NaN  \n",
       "843294                 NaN         NaN        NaN  \n",
       "\n",
       "[843295 rows x 31 columns]"
      ]
     },
     "metadata": {},
     "output_type": "display_data"
    }
   ],
   "source": [
    "display(week1_merged)"
   ]
  },
  {
   "cell_type": "code",
   "execution_count": 8,
   "id": "094dc821",
   "metadata": {
    "scrolled": true
   },
   "outputs": [
    {
     "data": {
      "text/html": [
       "<div>\n",
       "<style scoped>\n",
       "    .dataframe tbody tr th:only-of-type {\n",
       "        vertical-align: middle;\n",
       "    }\n",
       "\n",
       "    .dataframe tbody tr th {\n",
       "        vertical-align: top;\n",
       "    }\n",
       "\n",
       "    .dataframe thead th {\n",
       "        text-align: right;\n",
       "    }\n",
       "</style>\n",
       "<table border=\"1\" class=\"dataframe\">\n",
       "  <thead>\n",
       "    <tr style=\"text-align: right;\">\n",
       "      <th></th>\n",
       "      <th>gameId</th>\n",
       "      <th>playId</th>\n",
       "      <th>frameId</th>\n",
       "      <th>net_x_force</th>\n",
       "      <th>net_y_force</th>\n",
       "    </tr>\n",
       "  </thead>\n",
       "  <tbody>\n",
       "    <tr>\n",
       "      <th>0</th>\n",
       "      <td>2021090900</td>\n",
       "      <td>97</td>\n",
       "      <td>1</td>\n",
       "      <td>3813.010989</td>\n",
       "      <td>980.210665</td>\n",
       "    </tr>\n",
       "    <tr>\n",
       "      <th>1</th>\n",
       "      <td>2021090900</td>\n",
       "      <td>97</td>\n",
       "      <td>2</td>\n",
       "      <td>5381.368450</td>\n",
       "      <td>952.640458</td>\n",
       "    </tr>\n",
       "    <tr>\n",
       "      <th>2</th>\n",
       "      <td>2021090900</td>\n",
       "      <td>97</td>\n",
       "      <td>3</td>\n",
       "      <td>6375.027117</td>\n",
       "      <td>831.071763</td>\n",
       "    </tr>\n",
       "    <tr>\n",
       "      <th>3</th>\n",
       "      <td>2021090900</td>\n",
       "      <td>97</td>\n",
       "      <td>4</td>\n",
       "      <td>6101.939308</td>\n",
       "      <td>948.761460</td>\n",
       "    </tr>\n",
       "    <tr>\n",
       "      <th>4</th>\n",
       "      <td>2021090900</td>\n",
       "      <td>97</td>\n",
       "      <td>5</td>\n",
       "      <td>5524.171820</td>\n",
       "      <td>801.139818</td>\n",
       "    </tr>\n",
       "    <tr>\n",
       "      <th>...</th>\n",
       "      <td>...</td>\n",
       "      <td>...</td>\n",
       "      <td>...</td>\n",
       "      <td>...</td>\n",
       "      <td>...</td>\n",
       "    </tr>\n",
       "    <tr>\n",
       "      <th>36660</th>\n",
       "      <td>2021091300</td>\n",
       "      <td>4845</td>\n",
       "      <td>20</td>\n",
       "      <td>-4056.204611</td>\n",
       "      <td>584.906955</td>\n",
       "    </tr>\n",
       "    <tr>\n",
       "      <th>36661</th>\n",
       "      <td>2021091300</td>\n",
       "      <td>4845</td>\n",
       "      <td>21</td>\n",
       "      <td>-4247.679106</td>\n",
       "      <td>335.169653</td>\n",
       "    </tr>\n",
       "    <tr>\n",
       "      <th>36662</th>\n",
       "      <td>2021091300</td>\n",
       "      <td>4845</td>\n",
       "      <td>22</td>\n",
       "      <td>-4714.921088</td>\n",
       "      <td>229.592025</td>\n",
       "    </tr>\n",
       "    <tr>\n",
       "      <th>36663</th>\n",
       "      <td>2021091300</td>\n",
       "      <td>4845</td>\n",
       "      <td>23</td>\n",
       "      <td>-4924.005090</td>\n",
       "      <td>60.923283</td>\n",
       "    </tr>\n",
       "    <tr>\n",
       "      <th>36664</th>\n",
       "      <td>2021091300</td>\n",
       "      <td>4845</td>\n",
       "      <td>24</td>\n",
       "      <td>-4955.583952</td>\n",
       "      <td>52.002573</td>\n",
       "    </tr>\n",
       "  </tbody>\n",
       "</table>\n",
       "<p>36665 rows × 5 columns</p>\n",
       "</div>"
      ],
      "text/plain": [
       "           gameId  playId  frameId  net_x_force  net_y_force\n",
       "0      2021090900      97        1  3813.010989   980.210665\n",
       "1      2021090900      97        2  5381.368450   952.640458\n",
       "2      2021090900      97        3  6375.027117   831.071763\n",
       "3      2021090900      97        4  6101.939308   948.761460\n",
       "4      2021090900      97        5  5524.171820   801.139818\n",
       "...           ...     ...      ...          ...          ...\n",
       "36660  2021091300    4845       20 -4056.204611   584.906955\n",
       "36661  2021091300    4845       21 -4247.679106   335.169653\n",
       "36662  2021091300    4845       22 -4714.921088   229.592025\n",
       "36663  2021091300    4845       23 -4924.005090    60.923283\n",
       "36664  2021091300    4845       24 -4955.583952    52.002573\n",
       "\n",
       "[36665 rows x 5 columns]"
      ]
     },
     "metadata": {},
     "output_type": "display_data"
    },
    {
     "data": {
      "text/html": [
       "<div>\n",
       "<style scoped>\n",
       "    .dataframe tbody tr th:only-of-type {\n",
       "        vertical-align: middle;\n",
       "    }\n",
       "\n",
       "    .dataframe tbody tr th {\n",
       "        vertical-align: top;\n",
       "    }\n",
       "\n",
       "    .dataframe thead th {\n",
       "        text-align: right;\n",
       "    }\n",
       "</style>\n",
       "<table border=\"1\" class=\"dataframe\">\n",
       "  <thead>\n",
       "    <tr style=\"text-align: right;\">\n",
       "      <th></th>\n",
       "      <th>gameId</th>\n",
       "      <th>playId</th>\n",
       "      <th>frameId</th>\n",
       "      <th>net_x_force</th>\n",
       "      <th>net_y_force</th>\n",
       "    </tr>\n",
       "  </thead>\n",
       "  <tbody>\n",
       "    <tr>\n",
       "      <th>0</th>\n",
       "      <td>2021090900</td>\n",
       "      <td>97</td>\n",
       "      <td>1</td>\n",
       "      <td>3813.010989</td>\n",
       "      <td>980.210665</td>\n",
       "    </tr>\n",
       "    <tr>\n",
       "      <th>1</th>\n",
       "      <td>2021090900</td>\n",
       "      <td>97</td>\n",
       "      <td>2</td>\n",
       "      <td>5381.368450</td>\n",
       "      <td>952.640458</td>\n",
       "    </tr>\n",
       "    <tr>\n",
       "      <th>2</th>\n",
       "      <td>2021090900</td>\n",
       "      <td>97</td>\n",
       "      <td>3</td>\n",
       "      <td>6375.027117</td>\n",
       "      <td>831.071763</td>\n",
       "    </tr>\n",
       "    <tr>\n",
       "      <th>3</th>\n",
       "      <td>2021090900</td>\n",
       "      <td>97</td>\n",
       "      <td>4</td>\n",
       "      <td>6101.939308</td>\n",
       "      <td>948.761460</td>\n",
       "    </tr>\n",
       "    <tr>\n",
       "      <th>4</th>\n",
       "      <td>2021090900</td>\n",
       "      <td>97</td>\n",
       "      <td>5</td>\n",
       "      <td>5524.171820</td>\n",
       "      <td>801.139818</td>\n",
       "    </tr>\n",
       "    <tr>\n",
       "      <th>...</th>\n",
       "      <td>...</td>\n",
       "      <td>...</td>\n",
       "      <td>...</td>\n",
       "      <td>...</td>\n",
       "      <td>...</td>\n",
       "    </tr>\n",
       "    <tr>\n",
       "      <th>36660</th>\n",
       "      <td>2021091300</td>\n",
       "      <td>4845</td>\n",
       "      <td>20</td>\n",
       "      <td>-4056.204611</td>\n",
       "      <td>584.906955</td>\n",
       "    </tr>\n",
       "    <tr>\n",
       "      <th>36661</th>\n",
       "      <td>2021091300</td>\n",
       "      <td>4845</td>\n",
       "      <td>21</td>\n",
       "      <td>-4247.679106</td>\n",
       "      <td>335.169653</td>\n",
       "    </tr>\n",
       "    <tr>\n",
       "      <th>36662</th>\n",
       "      <td>2021091300</td>\n",
       "      <td>4845</td>\n",
       "      <td>22</td>\n",
       "      <td>-4714.921088</td>\n",
       "      <td>229.592025</td>\n",
       "    </tr>\n",
       "    <tr>\n",
       "      <th>36663</th>\n",
       "      <td>2021091300</td>\n",
       "      <td>4845</td>\n",
       "      <td>23</td>\n",
       "      <td>-4924.005090</td>\n",
       "      <td>60.923283</td>\n",
       "    </tr>\n",
       "    <tr>\n",
       "      <th>36664</th>\n",
       "      <td>2021091300</td>\n",
       "      <td>4845</td>\n",
       "      <td>24</td>\n",
       "      <td>-4955.583952</td>\n",
       "      <td>52.002573</td>\n",
       "    </tr>\n",
       "  </tbody>\n",
       "</table>\n",
       "<p>36665 rows × 5 columns</p>\n",
       "</div>"
      ],
      "text/plain": [
       "           gameId  playId  frameId  net_x_force  net_y_force\n",
       "0      2021090900      97        1  3813.010989   980.210665\n",
       "1      2021090900      97        2  5381.368450   952.640458\n",
       "2      2021090900      97        3  6375.027117   831.071763\n",
       "3      2021090900      97        4  6101.939308   948.761460\n",
       "4      2021090900      97        5  5524.171820   801.139818\n",
       "...           ...     ...      ...          ...          ...\n",
       "36660  2021091300    4845       20 -4056.204611   584.906955\n",
       "36661  2021091300    4845       21 -4247.679106   335.169653\n",
       "36662  2021091300    4845       22 -4714.921088   229.592025\n",
       "36663  2021091300    4845       23 -4924.005090    60.923283\n",
       "36664  2021091300    4845       24 -4955.583952    52.002573\n",
       "\n",
       "[36665 rows x 5 columns]"
      ]
     },
     "execution_count": 8,
     "metadata": {},
     "output_type": "execute_result"
    }
   ],
   "source": [
    "\n",
    "# week1_defense_grouped = week1_defense.groupby(['gameId', 'playId', 'frameId'])\n",
    "# week1_offense_grouped = week1_offense.groupby(['gameId', 'playId', 'frameId'])\n",
    "\n",
    "def calculate_net_forces(df):\n",
    "    \"\"\"\n",
    "    @brief calculate next x and y force\n",
    "    @param[in] df is either defense or offense df (filtered dfs that contain either pass rushers or pass blockers)\n",
    "    @param[out] df of columns of x force and y force\n",
    "    \"\"\"\n",
    "    df_defense = df[df['pff_role'] == 'Pass Rush']\n",
    "    df_offense = df[df['pff_role'] == 'Pass Block']\n",
    "    \n",
    "    offense_grouped = df_offense.groupby(['gameId', 'playId', 'frameId'])\n",
    "    defense_grouped = df_defense.groupby(['gameId', 'playId', 'frameId'])\n",
    "    \n",
    "    net_x_force_offense = offense_grouped['x_force'].sum()\n",
    "    net_y_force_offense = offense_grouped['y_force'].sum()\n",
    "    \n",
    "    net_x_force_defense = defense_grouped['x_force'].sum()\n",
    "    net_y_force_defense = defense_grouped['y_force'].sum()\n",
    "    \n",
    "#     display(net_x_force_defense)\n",
    "#     display(net_x_force_offense)\n",
    "#     print(net_x_force_defense.index)\n",
    "#     print(net_x_force_offense.index)\n",
    "    x_idx = net_x_force_defense.index.union(net_x_force_offense.index)\n",
    "    y_idx = net_y_force_defense.index.union(net_y_force_offense.index)\n",
    "    \n",
    "    total_x_force = net_x_force_defense.reindex(x_idx, fill_value = 0) + net_x_force_offense.reindex(x_idx, fill_value = 0)\n",
    "    total_y_force = net_y_force_defense.reindex(y_idx, fill_value = 0) + net_y_force_offense.reindex(y_idx, fill_value = 0)\n",
    "    \n",
    "    \n",
    "    total_x_force_df = total_x_force.to_frame(name = 'net_x_force').reset_index().set_index(['gameId', 'playId', 'frameId'])\n",
    "    total_y_force_df = total_y_force.to_frame(name = 'net_y_force').reset_index().set_index(['gameId', 'playId', 'frameId'])\n",
    "    \n",
    "    total_force_df = pd.concat([total_x_force_df, total_y_force_df], axis = 1).reset_index()\n",
    "    display(total_force_df)\n",
    "    return total_force_df\n",
    "\n",
    "calculate_net_forces(week1_merged)\n"
   ]
  },
  {
   "cell_type": "code",
   "execution_count": 9,
   "id": "dfd46827",
   "metadata": {
    "scrolled": true
   },
   "outputs": [],
   "source": [
    "\"\"\"\n",
    "Find y locations of tackles at start of frame, and partition dataframes\n",
    "\n",
    "\"\"\"\n",
    "offense_grouped = week1_offense.groupby(['gameId', 'playId', 'frameId'])\n",
    "# lg_y, rg_y = find_tackles_y(week1_merged)\n",
    "# print(lg_y, rg_y)\n",
    "\n",
    "\n",
    "def find_lt_y(df, simple = False):\n",
    "    if simple:\n",
    "        return df[(df['pff_positionLinedUp'] == 'LT') & (df['frameId'] == 1)]['y'].values[0]\n",
    "    lg_y = df[df['pff_positionLinedUp'] == 'LT']['y']\n",
    "    return lg_y.values[0]\n",
    "\n",
    "def find_rt_y(df, simple = False):\n",
    "    if simple:\n",
    "        return df[(df['pff_positionLinedUp'] == 'LT') & (df['frameId'] == 1)]['y'].values[0]\n",
    "    rg_y = df[df['pff_positionLinedUp'] == 'RT']['y']\n",
    "    return rg_y.values[0]\n",
    "\n",
    "def create_indicator(df):\n",
    "    \"\"\"\n",
    "    @brief\n",
    "    @param[in]\n",
    "    @param[out]\n",
    "    \"\"\"\n",
    "    # first two merges take the longest ~30-60 seconds\n",
    "    to_merge1 = df.groupby(['gameId', 'playId', 'frameId']).apply(lambda x : find_lt_y(x)).reset_index().rename(columns = {0 : 'lt_y'})\n",
    "    to_merge2 = df.groupby(['gameId', 'playId', 'frameId']).apply(lambda x : find_rt_y(x)).reset_index().rename(columns = {0 : 'rt_y'})\n",
    "    \n",
    "    new_df = pd.merge(df, to_merge1, how=\"left\",on = [\"frameId\",\"playId\",\"gameId\"])\n",
    "    new_df = pd.merge(new_df, to_merge2, how=\"left\",on = [\"frameId\",\"playId\",\"gameId\"])\n",
    "    \n",
    "    new_df['max_y'] = new_df[['lt_y', 'rt_y']].max(axis = 1)\n",
    "    new_df['min_y'] = new_df[['lt_y', 'rt_y']].min(axis = 1)\n",
    "    new_df['indicator'] = np.where(new_df['y'] < new_df['min_y'], -1, \n",
    "                                         np.where((new_df['min_y'] <= new_df['y']) & (new_df['y'] <= new_df['max_y']), 0, \n",
    "                                                 1))\n",
    "    return new_df\n",
    "\n",
    "new_df = create_indicator(week1_merged)\n",
    "    \n",
    "    "
   ]
  },
  {
   "cell_type": "code",
   "execution_count": 10,
   "id": "09d36de8",
   "metadata": {},
   "outputs": [
    {
     "data": {
      "text/html": [
       "<div>\n",
       "<style scoped>\n",
       "    .dataframe tbody tr th:only-of-type {\n",
       "        vertical-align: middle;\n",
       "    }\n",
       "\n",
       "    .dataframe tbody tr th {\n",
       "        vertical-align: top;\n",
       "    }\n",
       "\n",
       "    .dataframe thead th {\n",
       "        text-align: right;\n",
       "    }\n",
       "</style>\n",
       "<table border=\"1\" class=\"dataframe\">\n",
       "  <thead>\n",
       "    <tr style=\"text-align: right;\">\n",
       "      <th></th>\n",
       "      <th>gameId</th>\n",
       "      <th>playId</th>\n",
       "      <th>nflId</th>\n",
       "      <th>jerseyNumber</th>\n",
       "      <th>team</th>\n",
       "      <th>playDirection</th>\n",
       "      <th>x</th>\n",
       "      <th>y</th>\n",
       "      <th>s</th>\n",
       "      <th>a</th>\n",
       "      <th>dis</th>\n",
       "      <th>o</th>\n",
       "      <th>dir</th>\n",
       "      <th>event</th>\n",
       "      <th>frameId</th>\n",
       "      <th>weight</th>\n",
       "      <th>force</th>\n",
       "      <th>pff_role</th>\n",
       "      <th>pff_positionLinedUp</th>\n",
       "      <th>pff_hit</th>\n",
       "      <th>pff_hurry</th>\n",
       "      <th>pff_sack</th>\n",
       "      <th>pff_beatenByDefender</th>\n",
       "      <th>pff_hitAllowed</th>\n",
       "      <th>pff_hurryAllowed</th>\n",
       "      <th>pff_sackAllowed</th>\n",
       "      <th>pff_nflIdBlockedPlayer</th>\n",
       "      <th>pff_blockType</th>\n",
       "      <th>pff_backFieldBlock</th>\n",
       "      <th>x_force</th>\n",
       "      <th>y_force</th>\n",
       "      <th>lt_y</th>\n",
       "      <th>rt_y</th>\n",
       "      <th>max_y</th>\n",
       "      <th>min_y</th>\n",
       "      <th>indicator</th>\n",
       "    </tr>\n",
       "  </thead>\n",
       "  <tbody>\n",
       "    <tr>\n",
       "      <th>0</th>\n",
       "      <td>2021090900</td>\n",
       "      <td>97</td>\n",
       "      <td>25511</td>\n",
       "      <td>12</td>\n",
       "      <td>TB</td>\n",
       "      <td>right</td>\n",
       "      <td>37.639999</td>\n",
       "      <td>24.260000</td>\n",
       "      <td>0.35</td>\n",
       "      <td>0.53</td>\n",
       "      <td>0.05</td>\n",
       "      <td>144.419998</td>\n",
       "      <td>282.720001</td>\n",
       "      <td>ball_snap</td>\n",
       "      <td>1</td>\n",
       "      <td>225.0</td>\n",
       "      <td>119.249994</td>\n",
       "      <td>Pass</td>\n",
       "      <td>QB</td>\n",
       "      <td>0.0</td>\n",
       "      <td>0.0</td>\n",
       "      <td>0.0</td>\n",
       "      <td>0.0</td>\n",
       "      <td>0.0</td>\n",
       "      <td>0.0</td>\n",
       "      <td>0.0</td>\n",
       "      <td>0.0</td>\n",
       "      <td>NaN</td>\n",
       "      <td>0.0</td>\n",
       "      <td>116.323329</td>\n",
       "      <td>26.257267</td>\n",
       "      <td>26.920000</td>\n",
       "      <td>21.309999</td>\n",
       "      <td>26.920000</td>\n",
       "      <td>21.309999</td>\n",
       "      <td>0</td>\n",
       "    </tr>\n",
       "    <tr>\n",
       "      <th>1</th>\n",
       "      <td>2021090900</td>\n",
       "      <td>97</td>\n",
       "      <td>25511</td>\n",
       "      <td>12</td>\n",
       "      <td>TB</td>\n",
       "      <td>right</td>\n",
       "      <td>37.560001</td>\n",
       "      <td>24.260000</td>\n",
       "      <td>0.54</td>\n",
       "      <td>1.05</td>\n",
       "      <td>0.08</td>\n",
       "      <td>137.490005</td>\n",
       "      <td>272.950012</td>\n",
       "      <td>None</td>\n",
       "      <td>2</td>\n",
       "      <td>225.0</td>\n",
       "      <td>236.249989</td>\n",
       "      <td>Pass</td>\n",
       "      <td>QB</td>\n",
       "      <td>0.0</td>\n",
       "      <td>0.0</td>\n",
       "      <td>0.0</td>\n",
       "      <td>0.0</td>\n",
       "      <td>0.0</td>\n",
       "      <td>0.0</td>\n",
       "      <td>0.0</td>\n",
       "      <td>0.0</td>\n",
       "      <td>NaN</td>\n",
       "      <td>0.0</td>\n",
       "      <td>235.936914</td>\n",
       "      <td>12.158530</td>\n",
       "      <td>26.950001</td>\n",
       "      <td>21.270000</td>\n",
       "      <td>26.950001</td>\n",
       "      <td>21.270000</td>\n",
       "      <td>0</td>\n",
       "    </tr>\n",
       "    <tr>\n",
       "      <th>2</th>\n",
       "      <td>2021090900</td>\n",
       "      <td>97</td>\n",
       "      <td>25511</td>\n",
       "      <td>12</td>\n",
       "      <td>TB</td>\n",
       "      <td>right</td>\n",
       "      <td>37.470001</td>\n",
       "      <td>24.250000</td>\n",
       "      <td>0.80</td>\n",
       "      <td>1.85</td>\n",
       "      <td>0.09</td>\n",
       "      <td>131.949997</td>\n",
       "      <td>267.489990</td>\n",
       "      <td>None</td>\n",
       "      <td>3</td>\n",
       "      <td>225.0</td>\n",
       "      <td>416.250005</td>\n",
       "      <td>Pass</td>\n",
       "      <td>QB</td>\n",
       "      <td>0.0</td>\n",
       "      <td>0.0</td>\n",
       "      <td>0.0</td>\n",
       "      <td>0.0</td>\n",
       "      <td>0.0</td>\n",
       "      <td>0.0</td>\n",
       "      <td>0.0</td>\n",
       "      <td>0.0</td>\n",
       "      <td>NaN</td>\n",
       "      <td>0.0</td>\n",
       "      <td>415.850649</td>\n",
       "      <td>-18.229221</td>\n",
       "      <td>27.010000</td>\n",
       "      <td>21.209999</td>\n",
       "      <td>27.010000</td>\n",
       "      <td>21.209999</td>\n",
       "      <td>0</td>\n",
       "    </tr>\n",
       "    <tr>\n",
       "      <th>3</th>\n",
       "      <td>2021090900</td>\n",
       "      <td>97</td>\n",
       "      <td>25511</td>\n",
       "      <td>12</td>\n",
       "      <td>TB</td>\n",
       "      <td>right</td>\n",
       "      <td>37.380001</td>\n",
       "      <td>24.240000</td>\n",
       "      <td>0.99</td>\n",
       "      <td>2.03</td>\n",
       "      <td>0.09</td>\n",
       "      <td>129.850006</td>\n",
       "      <td>263.480011</td>\n",
       "      <td>None</td>\n",
       "      <td>4</td>\n",
       "      <td>225.0</td>\n",
       "      <td>456.749994</td>\n",
       "      <td>Pass</td>\n",
       "      <td>QB</td>\n",
       "      <td>0.0</td>\n",
       "      <td>0.0</td>\n",
       "      <td>0.0</td>\n",
       "      <td>0.0</td>\n",
       "      <td>0.0</td>\n",
       "      <td>0.0</td>\n",
       "      <td>0.0</td>\n",
       "      <td>0.0</td>\n",
       "      <td>NaN</td>\n",
       "      <td>0.0</td>\n",
       "      <td>453.795872</td>\n",
       "      <td>-51.863888</td>\n",
       "      <td>27.110001</td>\n",
       "      <td>21.139999</td>\n",
       "      <td>27.110001</td>\n",
       "      <td>21.139999</td>\n",
       "      <td>0</td>\n",
       "    </tr>\n",
       "    <tr>\n",
       "      <th>4</th>\n",
       "      <td>2021090900</td>\n",
       "      <td>97</td>\n",
       "      <td>25511</td>\n",
       "      <td>12</td>\n",
       "      <td>TB</td>\n",
       "      <td>right</td>\n",
       "      <td>37.270000</td>\n",
       "      <td>24.230000</td>\n",
       "      <td>1.19</td>\n",
       "      <td>1.82</td>\n",
       "      <td>0.11</td>\n",
       "      <td>123.790001</td>\n",
       "      <td>263.769989</td>\n",
       "      <td>None</td>\n",
       "      <td>5</td>\n",
       "      <td>225.0</td>\n",
       "      <td>409.500012</td>\n",
       "      <td>Pass</td>\n",
       "      <td>QB</td>\n",
       "      <td>0.0</td>\n",
       "      <td>0.0</td>\n",
       "      <td>0.0</td>\n",
       "      <td>0.0</td>\n",
       "      <td>0.0</td>\n",
       "      <td>0.0</td>\n",
       "      <td>0.0</td>\n",
       "      <td>0.0</td>\n",
       "      <td>NaN</td>\n",
       "      <td>0.0</td>\n",
       "      <td>407.081611</td>\n",
       "      <td>-44.438969</td>\n",
       "      <td>27.200001</td>\n",
       "      <td>21.049999</td>\n",
       "      <td>27.200001</td>\n",
       "      <td>21.049999</td>\n",
       "      <td>0</td>\n",
       "    </tr>\n",
       "    <tr>\n",
       "      <th>...</th>\n",
       "      <td>...</td>\n",
       "      <td>...</td>\n",
       "      <td>...</td>\n",
       "      <td>...</td>\n",
       "      <td>...</td>\n",
       "      <td>...</td>\n",
       "      <td>...</td>\n",
       "      <td>...</td>\n",
       "      <td>...</td>\n",
       "      <td>...</td>\n",
       "      <td>...</td>\n",
       "      <td>...</td>\n",
       "      <td>...</td>\n",
       "      <td>...</td>\n",
       "      <td>...</td>\n",
       "      <td>...</td>\n",
       "      <td>...</td>\n",
       "      <td>...</td>\n",
       "      <td>...</td>\n",
       "      <td>...</td>\n",
       "      <td>...</td>\n",
       "      <td>...</td>\n",
       "      <td>...</td>\n",
       "      <td>...</td>\n",
       "      <td>...</td>\n",
       "      <td>...</td>\n",
       "      <td>...</td>\n",
       "      <td>...</td>\n",
       "      <td>...</td>\n",
       "      <td>...</td>\n",
       "      <td>...</td>\n",
       "      <td>...</td>\n",
       "      <td>...</td>\n",
       "      <td>...</td>\n",
       "      <td>...</td>\n",
       "      <td>...</td>\n",
       "    </tr>\n",
       "    <tr>\n",
       "      <th>843290</th>\n",
       "      <td>2021091300</td>\n",
       "      <td>4845</td>\n",
       "      <td>0</td>\n",
       "      <td>-1</td>\n",
       "      <td>football</td>\n",
       "      <td>left</td>\n",
       "      <td>50.840000</td>\n",
       "      <td>24.730000</td>\n",
       "      <td>4.30</td>\n",
       "      <td>0.46</td>\n",
       "      <td>0.46</td>\n",
       "      <td>NaN</td>\n",
       "      <td>NaN</td>\n",
       "      <td>None</td>\n",
       "      <td>20</td>\n",
       "      <td>NaN</td>\n",
       "      <td>NaN</td>\n",
       "      <td>NaN</td>\n",
       "      <td>NaN</td>\n",
       "      <td>NaN</td>\n",
       "      <td>NaN</td>\n",
       "      <td>NaN</td>\n",
       "      <td>NaN</td>\n",
       "      <td>NaN</td>\n",
       "      <td>NaN</td>\n",
       "      <td>NaN</td>\n",
       "      <td>NaN</td>\n",
       "      <td>NaN</td>\n",
       "      <td>NaN</td>\n",
       "      <td>NaN</td>\n",
       "      <td>NaN</td>\n",
       "      <td>21.040001</td>\n",
       "      <td>25.020000</td>\n",
       "      <td>25.020000</td>\n",
       "      <td>21.040001</td>\n",
       "      <td>0</td>\n",
       "    </tr>\n",
       "    <tr>\n",
       "      <th>843291</th>\n",
       "      <td>2021091300</td>\n",
       "      <td>4845</td>\n",
       "      <td>0</td>\n",
       "      <td>-1</td>\n",
       "      <td>football</td>\n",
       "      <td>left</td>\n",
       "      <td>51.250000</td>\n",
       "      <td>24.830000</td>\n",
       "      <td>4.25</td>\n",
       "      <td>1.15</td>\n",
       "      <td>0.43</td>\n",
       "      <td>NaN</td>\n",
       "      <td>NaN</td>\n",
       "      <td>None</td>\n",
       "      <td>21</td>\n",
       "      <td>NaN</td>\n",
       "      <td>NaN</td>\n",
       "      <td>NaN</td>\n",
       "      <td>NaN</td>\n",
       "      <td>NaN</td>\n",
       "      <td>NaN</td>\n",
       "      <td>NaN</td>\n",
       "      <td>NaN</td>\n",
       "      <td>NaN</td>\n",
       "      <td>NaN</td>\n",
       "      <td>NaN</td>\n",
       "      <td>NaN</td>\n",
       "      <td>NaN</td>\n",
       "      <td>NaN</td>\n",
       "      <td>NaN</td>\n",
       "      <td>NaN</td>\n",
       "      <td>21.090000</td>\n",
       "      <td>24.809999</td>\n",
       "      <td>24.809999</td>\n",
       "      <td>21.090000</td>\n",
       "      <td>1</td>\n",
       "    </tr>\n",
       "    <tr>\n",
       "      <th>843292</th>\n",
       "      <td>2021091300</td>\n",
       "      <td>4845</td>\n",
       "      <td>0</td>\n",
       "      <td>-1</td>\n",
       "      <td>football</td>\n",
       "      <td>left</td>\n",
       "      <td>51.669998</td>\n",
       "      <td>24.930000</td>\n",
       "      <td>4.14</td>\n",
       "      <td>1.83</td>\n",
       "      <td>0.42</td>\n",
       "      <td>NaN</td>\n",
       "      <td>NaN</td>\n",
       "      <td>None</td>\n",
       "      <td>22</td>\n",
       "      <td>NaN</td>\n",
       "      <td>NaN</td>\n",
       "      <td>NaN</td>\n",
       "      <td>NaN</td>\n",
       "      <td>NaN</td>\n",
       "      <td>NaN</td>\n",
       "      <td>NaN</td>\n",
       "      <td>NaN</td>\n",
       "      <td>NaN</td>\n",
       "      <td>NaN</td>\n",
       "      <td>NaN</td>\n",
       "      <td>NaN</td>\n",
       "      <td>NaN</td>\n",
       "      <td>NaN</td>\n",
       "      <td>NaN</td>\n",
       "      <td>NaN</td>\n",
       "      <td>21.170000</td>\n",
       "      <td>24.600000</td>\n",
       "      <td>24.600000</td>\n",
       "      <td>21.170000</td>\n",
       "      <td>1</td>\n",
       "    </tr>\n",
       "    <tr>\n",
       "      <th>843293</th>\n",
       "      <td>2021091300</td>\n",
       "      <td>4845</td>\n",
       "      <td>0</td>\n",
       "      <td>-1</td>\n",
       "      <td>football</td>\n",
       "      <td>left</td>\n",
       "      <td>52.060001</td>\n",
       "      <td>25.030001</td>\n",
       "      <td>3.96</td>\n",
       "      <td>1.93</td>\n",
       "      <td>0.40</td>\n",
       "      <td>NaN</td>\n",
       "      <td>NaN</td>\n",
       "      <td>None</td>\n",
       "      <td>23</td>\n",
       "      <td>NaN</td>\n",
       "      <td>NaN</td>\n",
       "      <td>NaN</td>\n",
       "      <td>NaN</td>\n",
       "      <td>NaN</td>\n",
       "      <td>NaN</td>\n",
       "      <td>NaN</td>\n",
       "      <td>NaN</td>\n",
       "      <td>NaN</td>\n",
       "      <td>NaN</td>\n",
       "      <td>NaN</td>\n",
       "      <td>NaN</td>\n",
       "      <td>NaN</td>\n",
       "      <td>NaN</td>\n",
       "      <td>NaN</td>\n",
       "      <td>NaN</td>\n",
       "      <td>21.250000</td>\n",
       "      <td>24.400000</td>\n",
       "      <td>24.400000</td>\n",
       "      <td>21.250000</td>\n",
       "      <td>1</td>\n",
       "    </tr>\n",
       "    <tr>\n",
       "      <th>843294</th>\n",
       "      <td>2021091300</td>\n",
       "      <td>4845</td>\n",
       "      <td>0</td>\n",
       "      <td>-1</td>\n",
       "      <td>football</td>\n",
       "      <td>left</td>\n",
       "      <td>52.430000</td>\n",
       "      <td>25.129999</td>\n",
       "      <td>3.77</td>\n",
       "      <td>1.98</td>\n",
       "      <td>0.39</td>\n",
       "      <td>NaN</td>\n",
       "      <td>NaN</td>\n",
       "      <td>autoevent_passforward</td>\n",
       "      <td>24</td>\n",
       "      <td>NaN</td>\n",
       "      <td>NaN</td>\n",
       "      <td>NaN</td>\n",
       "      <td>NaN</td>\n",
       "      <td>NaN</td>\n",
       "      <td>NaN</td>\n",
       "      <td>NaN</td>\n",
       "      <td>NaN</td>\n",
       "      <td>NaN</td>\n",
       "      <td>NaN</td>\n",
       "      <td>NaN</td>\n",
       "      <td>NaN</td>\n",
       "      <td>NaN</td>\n",
       "      <td>NaN</td>\n",
       "      <td>NaN</td>\n",
       "      <td>NaN</td>\n",
       "      <td>21.340000</td>\n",
       "      <td>24.209999</td>\n",
       "      <td>24.209999</td>\n",
       "      <td>21.340000</td>\n",
       "      <td>1</td>\n",
       "    </tr>\n",
       "  </tbody>\n",
       "</table>\n",
       "<p>843295 rows × 36 columns</p>\n",
       "</div>"
      ],
      "text/plain": [
       "            gameId  playId  nflId  jerseyNumber      team playDirection  \\\n",
       "0       2021090900      97  25511            12        TB         right   \n",
       "1       2021090900      97  25511            12        TB         right   \n",
       "2       2021090900      97  25511            12        TB         right   \n",
       "3       2021090900      97  25511            12        TB         right   \n",
       "4       2021090900      97  25511            12        TB         right   \n",
       "...            ...     ...    ...           ...       ...           ...   \n",
       "843290  2021091300    4845      0            -1  football          left   \n",
       "843291  2021091300    4845      0            -1  football          left   \n",
       "843292  2021091300    4845      0            -1  football          left   \n",
       "843293  2021091300    4845      0            -1  football          left   \n",
       "843294  2021091300    4845      0            -1  football          left   \n",
       "\n",
       "                x          y     s     a   dis           o         dir  \\\n",
       "0       37.639999  24.260000  0.35  0.53  0.05  144.419998  282.720001   \n",
       "1       37.560001  24.260000  0.54  1.05  0.08  137.490005  272.950012   \n",
       "2       37.470001  24.250000  0.80  1.85  0.09  131.949997  267.489990   \n",
       "3       37.380001  24.240000  0.99  2.03  0.09  129.850006  263.480011   \n",
       "4       37.270000  24.230000  1.19  1.82  0.11  123.790001  263.769989   \n",
       "...           ...        ...   ...   ...   ...         ...         ...   \n",
       "843290  50.840000  24.730000  4.30  0.46  0.46         NaN         NaN   \n",
       "843291  51.250000  24.830000  4.25  1.15  0.43         NaN         NaN   \n",
       "843292  51.669998  24.930000  4.14  1.83  0.42         NaN         NaN   \n",
       "843293  52.060001  25.030001  3.96  1.93  0.40         NaN         NaN   \n",
       "843294  52.430000  25.129999  3.77  1.98  0.39         NaN         NaN   \n",
       "\n",
       "                        event  frameId  weight       force pff_role  \\\n",
       "0                   ball_snap        1   225.0  119.249994     Pass   \n",
       "1                        None        2   225.0  236.249989     Pass   \n",
       "2                        None        3   225.0  416.250005     Pass   \n",
       "3                        None        4   225.0  456.749994     Pass   \n",
       "4                        None        5   225.0  409.500012     Pass   \n",
       "...                       ...      ...     ...         ...      ...   \n",
       "843290                   None       20     NaN         NaN      NaN   \n",
       "843291                   None       21     NaN         NaN      NaN   \n",
       "843292                   None       22     NaN         NaN      NaN   \n",
       "843293                   None       23     NaN         NaN      NaN   \n",
       "843294  autoevent_passforward       24     NaN         NaN      NaN   \n",
       "\n",
       "       pff_positionLinedUp  pff_hit  pff_hurry  pff_sack  \\\n",
       "0                       QB      0.0        0.0       0.0   \n",
       "1                       QB      0.0        0.0       0.0   \n",
       "2                       QB      0.0        0.0       0.0   \n",
       "3                       QB      0.0        0.0       0.0   \n",
       "4                       QB      0.0        0.0       0.0   \n",
       "...                    ...      ...        ...       ...   \n",
       "843290                 NaN      NaN        NaN       NaN   \n",
       "843291                 NaN      NaN        NaN       NaN   \n",
       "843292                 NaN      NaN        NaN       NaN   \n",
       "843293                 NaN      NaN        NaN       NaN   \n",
       "843294                 NaN      NaN        NaN       NaN   \n",
       "\n",
       "        pff_beatenByDefender  pff_hitAllowed  pff_hurryAllowed  \\\n",
       "0                        0.0             0.0               0.0   \n",
       "1                        0.0             0.0               0.0   \n",
       "2                        0.0             0.0               0.0   \n",
       "3                        0.0             0.0               0.0   \n",
       "4                        0.0             0.0               0.0   \n",
       "...                      ...             ...               ...   \n",
       "843290                   NaN             NaN               NaN   \n",
       "843291                   NaN             NaN               NaN   \n",
       "843292                   NaN             NaN               NaN   \n",
       "843293                   NaN             NaN               NaN   \n",
       "843294                   NaN             NaN               NaN   \n",
       "\n",
       "        pff_sackAllowed  pff_nflIdBlockedPlayer pff_blockType  \\\n",
       "0                   0.0                     0.0           NaN   \n",
       "1                   0.0                     0.0           NaN   \n",
       "2                   0.0                     0.0           NaN   \n",
       "3                   0.0                     0.0           NaN   \n",
       "4                   0.0                     0.0           NaN   \n",
       "...                 ...                     ...           ...   \n",
       "843290              NaN                     NaN           NaN   \n",
       "843291              NaN                     NaN           NaN   \n",
       "843292              NaN                     NaN           NaN   \n",
       "843293              NaN                     NaN           NaN   \n",
       "843294              NaN                     NaN           NaN   \n",
       "\n",
       "        pff_backFieldBlock     x_force    y_force       lt_y       rt_y  \\\n",
       "0                      0.0  116.323329  26.257267  26.920000  21.309999   \n",
       "1                      0.0  235.936914  12.158530  26.950001  21.270000   \n",
       "2                      0.0  415.850649 -18.229221  27.010000  21.209999   \n",
       "3                      0.0  453.795872 -51.863888  27.110001  21.139999   \n",
       "4                      0.0  407.081611 -44.438969  27.200001  21.049999   \n",
       "...                    ...         ...        ...        ...        ...   \n",
       "843290                 NaN         NaN        NaN  21.040001  25.020000   \n",
       "843291                 NaN         NaN        NaN  21.090000  24.809999   \n",
       "843292                 NaN         NaN        NaN  21.170000  24.600000   \n",
       "843293                 NaN         NaN        NaN  21.250000  24.400000   \n",
       "843294                 NaN         NaN        NaN  21.340000  24.209999   \n",
       "\n",
       "            max_y      min_y  indicator  \n",
       "0       26.920000  21.309999          0  \n",
       "1       26.950001  21.270000          0  \n",
       "2       27.010000  21.209999          0  \n",
       "3       27.110001  21.139999          0  \n",
       "4       27.200001  21.049999          0  \n",
       "...           ...        ...        ...  \n",
       "843290  25.020000  21.040001          0  \n",
       "843291  24.809999  21.090000          1  \n",
       "843292  24.600000  21.170000          1  \n",
       "843293  24.400000  21.250000          1  \n",
       "843294  24.209999  21.340000          1  \n",
       "\n",
       "[843295 rows x 36 columns]"
      ]
     },
     "metadata": {},
     "output_type": "display_data"
    }
   ],
   "source": [
    "display(new_df)"
   ]
  },
  {
   "cell_type": "code",
   "execution_count": 11,
   "id": "76cb471e",
   "metadata": {
    "scrolled": true
   },
   "outputs": [
    {
     "data": {
      "text/html": [
       "<div>\n",
       "<style scoped>\n",
       "    .dataframe tbody tr th:only-of-type {\n",
       "        vertical-align: middle;\n",
       "    }\n",
       "\n",
       "    .dataframe tbody tr th {\n",
       "        vertical-align: top;\n",
       "    }\n",
       "\n",
       "    .dataframe thead th {\n",
       "        text-align: right;\n",
       "    }\n",
       "</style>\n",
       "<table border=\"1\" class=\"dataframe\">\n",
       "  <thead>\n",
       "    <tr style=\"text-align: right;\">\n",
       "      <th></th>\n",
       "      <th>gameId</th>\n",
       "      <th>playId</th>\n",
       "      <th>frameId</th>\n",
       "      <th>net_x_force</th>\n",
       "      <th>net_y_force</th>\n",
       "    </tr>\n",
       "  </thead>\n",
       "  <tbody>\n",
       "    <tr>\n",
       "      <th>0</th>\n",
       "      <td>2021090900</td>\n",
       "      <td>97</td>\n",
       "      <td>1</td>\n",
       "      <td>225.829433</td>\n",
       "      <td>76.702765</td>\n",
       "    </tr>\n",
       "    <tr>\n",
       "      <th>1</th>\n",
       "      <td>2021090900</td>\n",
       "      <td>97</td>\n",
       "      <td>2</td>\n",
       "      <td>222.811755</td>\n",
       "      <td>47.888761</td>\n",
       "    </tr>\n",
       "    <tr>\n",
       "      <th>2</th>\n",
       "      <td>2021090900</td>\n",
       "      <td>97</td>\n",
       "      <td>3</td>\n",
       "      <td>223.532487</td>\n",
       "      <td>27.763155</td>\n",
       "    </tr>\n",
       "    <tr>\n",
       "      <th>3</th>\n",
       "      <td>2021090900</td>\n",
       "      <td>97</td>\n",
       "      <td>4</td>\n",
       "      <td>206.406079</td>\n",
       "      <td>34.985072</td>\n",
       "    </tr>\n",
       "    <tr>\n",
       "      <th>4</th>\n",
       "      <td>2021090900</td>\n",
       "      <td>97</td>\n",
       "      <td>5</td>\n",
       "      <td>340.844242</td>\n",
       "      <td>99.605315</td>\n",
       "    </tr>\n",
       "    <tr>\n",
       "      <th>...</th>\n",
       "      <td>...</td>\n",
       "      <td>...</td>\n",
       "      <td>...</td>\n",
       "      <td>...</td>\n",
       "      <td>...</td>\n",
       "    </tr>\n",
       "    <tr>\n",
       "      <th>32491</th>\n",
       "      <td>2021091300</td>\n",
       "      <td>4845</td>\n",
       "      <td>20</td>\n",
       "      <td>-143.132826</td>\n",
       "      <td>98.851377</td>\n",
       "    </tr>\n",
       "    <tr>\n",
       "      <th>32492</th>\n",
       "      <td>2021091300</td>\n",
       "      <td>4845</td>\n",
       "      <td>21</td>\n",
       "      <td>-67.925403</td>\n",
       "      <td>48.218562</td>\n",
       "    </tr>\n",
       "    <tr>\n",
       "      <th>32493</th>\n",
       "      <td>2021091300</td>\n",
       "      <td>4845</td>\n",
       "      <td>22</td>\n",
       "      <td>-91.187775</td>\n",
       "      <td>66.227488</td>\n",
       "    </tr>\n",
       "    <tr>\n",
       "      <th>32494</th>\n",
       "      <td>2021091300</td>\n",
       "      <td>4845</td>\n",
       "      <td>23</td>\n",
       "      <td>-182.732102</td>\n",
       "      <td>136.105115</td>\n",
       "    </tr>\n",
       "    <tr>\n",
       "      <th>32495</th>\n",
       "      <td>2021091300</td>\n",
       "      <td>4845</td>\n",
       "      <td>24</td>\n",
       "      <td>-287.052391</td>\n",
       "      <td>221.539360</td>\n",
       "    </tr>\n",
       "  </tbody>\n",
       "</table>\n",
       "<p>32496 rows × 5 columns</p>\n",
       "</div>"
      ],
      "text/plain": [
       "           gameId  playId  frameId  net_x_force  net_y_force\n",
       "0      2021090900      97        1   225.829433    76.702765\n",
       "1      2021090900      97        2   222.811755    47.888761\n",
       "2      2021090900      97        3   223.532487    27.763155\n",
       "3      2021090900      97        4   206.406079    34.985072\n",
       "4      2021090900      97        5   340.844242    99.605315\n",
       "...           ...     ...      ...          ...          ...\n",
       "32491  2021091300    4845       20  -143.132826    98.851377\n",
       "32492  2021091300    4845       21   -67.925403    48.218562\n",
       "32493  2021091300    4845       22   -91.187775    66.227488\n",
       "32494  2021091300    4845       23  -182.732102   136.105115\n",
       "32495  2021091300    4845       24  -287.052391   221.539360\n",
       "\n",
       "[32496 rows x 5 columns]"
      ]
     },
     "metadata": {},
     "output_type": "display_data"
    },
    {
     "data": {
      "text/html": [
       "<div>\n",
       "<style scoped>\n",
       "    .dataframe tbody tr th:only-of-type {\n",
       "        vertical-align: middle;\n",
       "    }\n",
       "\n",
       "    .dataframe tbody tr th {\n",
       "        vertical-align: top;\n",
       "    }\n",
       "\n",
       "    .dataframe thead th {\n",
       "        text-align: right;\n",
       "    }\n",
       "</style>\n",
       "<table border=\"1\" class=\"dataframe\">\n",
       "  <thead>\n",
       "    <tr style=\"text-align: right;\">\n",
       "      <th></th>\n",
       "      <th>gameId</th>\n",
       "      <th>playId</th>\n",
       "      <th>frameId</th>\n",
       "      <th>net_x_force</th>\n",
       "      <th>net_y_force</th>\n",
       "    </tr>\n",
       "  </thead>\n",
       "  <tbody>\n",
       "    <tr>\n",
       "      <th>0</th>\n",
       "      <td>2021090900</td>\n",
       "      <td>97</td>\n",
       "      <td>1</td>\n",
       "      <td>3011.310241</td>\n",
       "      <td>1139.103075</td>\n",
       "    </tr>\n",
       "    <tr>\n",
       "      <th>1</th>\n",
       "      <td>2021090900</td>\n",
       "      <td>97</td>\n",
       "      <td>2</td>\n",
       "      <td>4179.353807</td>\n",
       "      <td>1208.053041</td>\n",
       "    </tr>\n",
       "    <tr>\n",
       "      <th>2</th>\n",
       "      <td>2021090900</td>\n",
       "      <td>97</td>\n",
       "      <td>3</td>\n",
       "      <td>5065.204141</td>\n",
       "      <td>1239.113916</td>\n",
       "    </tr>\n",
       "    <tr>\n",
       "      <th>3</th>\n",
       "      <td>2021090900</td>\n",
       "      <td>97</td>\n",
       "      <td>4</td>\n",
       "      <td>5127.171588</td>\n",
       "      <td>1244.208433</td>\n",
       "    </tr>\n",
       "    <tr>\n",
       "      <th>4</th>\n",
       "      <td>2021090900</td>\n",
       "      <td>97</td>\n",
       "      <td>5</td>\n",
       "      <td>4395.666783</td>\n",
       "      <td>1093.389779</td>\n",
       "    </tr>\n",
       "    <tr>\n",
       "      <th>...</th>\n",
       "      <td>...</td>\n",
       "      <td>...</td>\n",
       "      <td>...</td>\n",
       "      <td>...</td>\n",
       "      <td>...</td>\n",
       "    </tr>\n",
       "    <tr>\n",
       "      <th>36660</th>\n",
       "      <td>2021091300</td>\n",
       "      <td>4845</td>\n",
       "      <td>20</td>\n",
       "      <td>-2900.586634</td>\n",
       "      <td>267.046953</td>\n",
       "    </tr>\n",
       "    <tr>\n",
       "      <th>36661</th>\n",
       "      <td>2021091300</td>\n",
       "      <td>4845</td>\n",
       "      <td>21</td>\n",
       "      <td>-3131.608748</td>\n",
       "      <td>240.612911</td>\n",
       "    </tr>\n",
       "    <tr>\n",
       "      <th>36662</th>\n",
       "      <td>2021091300</td>\n",
       "      <td>4845</td>\n",
       "      <td>22</td>\n",
       "      <td>-3338.164103</td>\n",
       "      <td>148.210615</td>\n",
       "    </tr>\n",
       "    <tr>\n",
       "      <th>36663</th>\n",
       "      <td>2021091300</td>\n",
       "      <td>4845</td>\n",
       "      <td>23</td>\n",
       "      <td>-3142.577825</td>\n",
       "      <td>-133.516249</td>\n",
       "    </tr>\n",
       "    <tr>\n",
       "      <th>36664</th>\n",
       "      <td>2021091300</td>\n",
       "      <td>4845</td>\n",
       "      <td>24</td>\n",
       "      <td>-2953.382506</td>\n",
       "      <td>-312.746580</td>\n",
       "    </tr>\n",
       "  </tbody>\n",
       "</table>\n",
       "<p>36665 rows × 5 columns</p>\n",
       "</div>"
      ],
      "text/plain": [
       "           gameId  playId  frameId  net_x_force  net_y_force\n",
       "0      2021090900      97        1  3011.310241  1139.103075\n",
       "1      2021090900      97        2  4179.353807  1208.053041\n",
       "2      2021090900      97        3  5065.204141  1239.113916\n",
       "3      2021090900      97        4  5127.171588  1244.208433\n",
       "4      2021090900      97        5  4395.666783  1093.389779\n",
       "...           ...     ...      ...          ...          ...\n",
       "36660  2021091300    4845       20 -2900.586634   267.046953\n",
       "36661  2021091300    4845       21 -3131.608748   240.612911\n",
       "36662  2021091300    4845       22 -3338.164103   148.210615\n",
       "36663  2021091300    4845       23 -3142.577825  -133.516249\n",
       "36664  2021091300    4845       24 -2953.382506  -312.746580\n",
       "\n",
       "[36665 rows x 5 columns]"
      ]
     },
     "metadata": {},
     "output_type": "display_data"
    },
    {
     "data": {
      "text/html": [
       "<div>\n",
       "<style scoped>\n",
       "    .dataframe tbody tr th:only-of-type {\n",
       "        vertical-align: middle;\n",
       "    }\n",
       "\n",
       "    .dataframe tbody tr th {\n",
       "        vertical-align: top;\n",
       "    }\n",
       "\n",
       "    .dataframe thead th {\n",
       "        text-align: right;\n",
       "    }\n",
       "</style>\n",
       "<table border=\"1\" class=\"dataframe\">\n",
       "  <thead>\n",
       "    <tr style=\"text-align: right;\">\n",
       "      <th></th>\n",
       "      <th>gameId</th>\n",
       "      <th>playId</th>\n",
       "      <th>frameId</th>\n",
       "      <th>net_x_force</th>\n",
       "      <th>net_y_force</th>\n",
       "    </tr>\n",
       "  </thead>\n",
       "  <tbody>\n",
       "    <tr>\n",
       "      <th>0</th>\n",
       "      <td>2021090900</td>\n",
       "      <td>97</td>\n",
       "      <td>1</td>\n",
       "      <td>575.871315</td>\n",
       "      <td>-235.595175</td>\n",
       "    </tr>\n",
       "    <tr>\n",
       "      <th>1</th>\n",
       "      <td>2021090900</td>\n",
       "      <td>97</td>\n",
       "      <td>2</td>\n",
       "      <td>979.202888</td>\n",
       "      <td>-303.301343</td>\n",
       "    </tr>\n",
       "    <tr>\n",
       "      <th>2</th>\n",
       "      <td>2021090900</td>\n",
       "      <td>97</td>\n",
       "      <td>3</td>\n",
       "      <td>1086.290489</td>\n",
       "      <td>-435.805309</td>\n",
       "    </tr>\n",
       "    <tr>\n",
       "      <th>3</th>\n",
       "      <td>2021090900</td>\n",
       "      <td>97</td>\n",
       "      <td>4</td>\n",
       "      <td>768.361641</td>\n",
       "      <td>-330.432045</td>\n",
       "    </tr>\n",
       "    <tr>\n",
       "      <th>4</th>\n",
       "      <td>2021090900</td>\n",
       "      <td>97</td>\n",
       "      <td>5</td>\n",
       "      <td>787.660795</td>\n",
       "      <td>-391.855275</td>\n",
       "    </tr>\n",
       "    <tr>\n",
       "      <th>...</th>\n",
       "      <td>...</td>\n",
       "      <td>...</td>\n",
       "      <td>...</td>\n",
       "      <td>...</td>\n",
       "      <td>...</td>\n",
       "    </tr>\n",
       "    <tr>\n",
       "      <th>32063</th>\n",
       "      <td>2021091300</td>\n",
       "      <td>4845</td>\n",
       "      <td>20</td>\n",
       "      <td>-1012.485151</td>\n",
       "      <td>219.008625</td>\n",
       "    </tr>\n",
       "    <tr>\n",
       "      <th>32064</th>\n",
       "      <td>2021091300</td>\n",
       "      <td>4845</td>\n",
       "      <td>21</td>\n",
       "      <td>-1048.144954</td>\n",
       "      <td>46.338180</td>\n",
       "    </tr>\n",
       "    <tr>\n",
       "      <th>32065</th>\n",
       "      <td>2021091300</td>\n",
       "      <td>4845</td>\n",
       "      <td>22</td>\n",
       "      <td>-1285.569210</td>\n",
       "      <td>15.153922</td>\n",
       "    </tr>\n",
       "    <tr>\n",
       "      <th>32066</th>\n",
       "      <td>2021091300</td>\n",
       "      <td>4845</td>\n",
       "      <td>23</td>\n",
       "      <td>-1598.695163</td>\n",
       "      <td>58.334418</td>\n",
       "    </tr>\n",
       "    <tr>\n",
       "      <th>32067</th>\n",
       "      <td>2021091300</td>\n",
       "      <td>4845</td>\n",
       "      <td>24</td>\n",
       "      <td>-1715.149055</td>\n",
       "      <td>143.209793</td>\n",
       "    </tr>\n",
       "  </tbody>\n",
       "</table>\n",
       "<p>32068 rows × 5 columns</p>\n",
       "</div>"
      ],
      "text/plain": [
       "           gameId  playId  frameId  net_x_force  net_y_force\n",
       "0      2021090900      97        1   575.871315  -235.595175\n",
       "1      2021090900      97        2   979.202888  -303.301343\n",
       "2      2021090900      97        3  1086.290489  -435.805309\n",
       "3      2021090900      97        4   768.361641  -330.432045\n",
       "4      2021090900      97        5   787.660795  -391.855275\n",
       "...           ...     ...      ...          ...          ...\n",
       "32063  2021091300    4845       20 -1012.485151   219.008625\n",
       "32064  2021091300    4845       21 -1048.144954    46.338180\n",
       "32065  2021091300    4845       22 -1285.569210    15.153922\n",
       "32066  2021091300    4845       23 -1598.695163    58.334418\n",
       "32067  2021091300    4845       24 -1715.149055   143.209793\n",
       "\n",
       "[32068 rows x 5 columns]"
      ]
     },
     "metadata": {},
     "output_type": "display_data"
    }
   ],
   "source": [
    "test = new_df.groupby(['indicator']).apply(calculate_net_forces)"
   ]
  },
  {
   "cell_type": "code",
   "execution_count": 12,
   "id": "e222cfc7",
   "metadata": {},
   "outputs": [
    {
     "data": {
      "text/html": [
       "<div>\n",
       "<style scoped>\n",
       "    .dataframe tbody tr th:only-of-type {\n",
       "        vertical-align: middle;\n",
       "    }\n",
       "\n",
       "    .dataframe tbody tr th {\n",
       "        vertical-align: top;\n",
       "    }\n",
       "\n",
       "    .dataframe thead th {\n",
       "        text-align: right;\n",
       "    }\n",
       "</style>\n",
       "<table border=\"1\" class=\"dataframe\">\n",
       "  <thead>\n",
       "    <tr style=\"text-align: right;\">\n",
       "      <th></th>\n",
       "      <th>indicator</th>\n",
       "      <th>gameId</th>\n",
       "      <th>playId</th>\n",
       "      <th>frameId</th>\n",
       "      <th>net_x_force</th>\n",
       "      <th>net_y_force</th>\n",
       "    </tr>\n",
       "  </thead>\n",
       "  <tbody>\n",
       "    <tr>\n",
       "      <th>0</th>\n",
       "      <td>-1</td>\n",
       "      <td>2021090900</td>\n",
       "      <td>97</td>\n",
       "      <td>1</td>\n",
       "      <td>225.829433</td>\n",
       "      <td>76.702765</td>\n",
       "    </tr>\n",
       "    <tr>\n",
       "      <th>1</th>\n",
       "      <td>-1</td>\n",
       "      <td>2021090900</td>\n",
       "      <td>97</td>\n",
       "      <td>2</td>\n",
       "      <td>222.811755</td>\n",
       "      <td>47.888761</td>\n",
       "    </tr>\n",
       "    <tr>\n",
       "      <th>2</th>\n",
       "      <td>-1</td>\n",
       "      <td>2021090900</td>\n",
       "      <td>97</td>\n",
       "      <td>3</td>\n",
       "      <td>223.532487</td>\n",
       "      <td>27.763155</td>\n",
       "    </tr>\n",
       "    <tr>\n",
       "      <th>3</th>\n",
       "      <td>-1</td>\n",
       "      <td>2021090900</td>\n",
       "      <td>97</td>\n",
       "      <td>4</td>\n",
       "      <td>206.406079</td>\n",
       "      <td>34.985072</td>\n",
       "    </tr>\n",
       "    <tr>\n",
       "      <th>4</th>\n",
       "      <td>-1</td>\n",
       "      <td>2021090900</td>\n",
       "      <td>97</td>\n",
       "      <td>5</td>\n",
       "      <td>340.844242</td>\n",
       "      <td>99.605315</td>\n",
       "    </tr>\n",
       "    <tr>\n",
       "      <th>...</th>\n",
       "      <td>...</td>\n",
       "      <td>...</td>\n",
       "      <td>...</td>\n",
       "      <td>...</td>\n",
       "      <td>...</td>\n",
       "      <td>...</td>\n",
       "    </tr>\n",
       "    <tr>\n",
       "      <th>101224</th>\n",
       "      <td>1</td>\n",
       "      <td>2021091300</td>\n",
       "      <td>4845</td>\n",
       "      <td>20</td>\n",
       "      <td>-1012.485151</td>\n",
       "      <td>219.008625</td>\n",
       "    </tr>\n",
       "    <tr>\n",
       "      <th>101225</th>\n",
       "      <td>1</td>\n",
       "      <td>2021091300</td>\n",
       "      <td>4845</td>\n",
       "      <td>21</td>\n",
       "      <td>-1048.144954</td>\n",
       "      <td>46.338180</td>\n",
       "    </tr>\n",
       "    <tr>\n",
       "      <th>101226</th>\n",
       "      <td>1</td>\n",
       "      <td>2021091300</td>\n",
       "      <td>4845</td>\n",
       "      <td>22</td>\n",
       "      <td>-1285.569210</td>\n",
       "      <td>15.153922</td>\n",
       "    </tr>\n",
       "    <tr>\n",
       "      <th>101227</th>\n",
       "      <td>1</td>\n",
       "      <td>2021091300</td>\n",
       "      <td>4845</td>\n",
       "      <td>23</td>\n",
       "      <td>-1598.695163</td>\n",
       "      <td>58.334418</td>\n",
       "    </tr>\n",
       "    <tr>\n",
       "      <th>101228</th>\n",
       "      <td>1</td>\n",
       "      <td>2021091300</td>\n",
       "      <td>4845</td>\n",
       "      <td>24</td>\n",
       "      <td>-1715.149055</td>\n",
       "      <td>143.209793</td>\n",
       "    </tr>\n",
       "  </tbody>\n",
       "</table>\n",
       "<p>101229 rows × 6 columns</p>\n",
       "</div>"
      ],
      "text/plain": [
       "        indicator      gameId  playId  frameId  net_x_force  net_y_force\n",
       "0              -1  2021090900      97        1   225.829433    76.702765\n",
       "1              -1  2021090900      97        2   222.811755    47.888761\n",
       "2              -1  2021090900      97        3   223.532487    27.763155\n",
       "3              -1  2021090900      97        4   206.406079    34.985072\n",
       "4              -1  2021090900      97        5   340.844242    99.605315\n",
       "...           ...         ...     ...      ...          ...          ...\n",
       "101224          1  2021091300    4845       20 -1012.485151   219.008625\n",
       "101225          1  2021091300    4845       21 -1048.144954    46.338180\n",
       "101226          1  2021091300    4845       22 -1285.569210    15.153922\n",
       "101227          1  2021091300    4845       23 -1598.695163    58.334418\n",
       "101228          1  2021091300    4845       24 -1715.149055   143.209793\n",
       "\n",
       "[101229 rows x 6 columns]"
      ]
     },
     "metadata": {},
     "output_type": "display_data"
    },
    {
     "data": {
      "text/html": [
       "<div>\n",
       "<style scoped>\n",
       "    .dataframe tbody tr th:only-of-type {\n",
       "        vertical-align: middle;\n",
       "    }\n",
       "\n",
       "    .dataframe tbody tr th {\n",
       "        vertical-align: top;\n",
       "    }\n",
       "\n",
       "    .dataframe thead th {\n",
       "        text-align: right;\n",
       "    }\n",
       "</style>\n",
       "<table border=\"1\" class=\"dataframe\">\n",
       "  <thead>\n",
       "    <tr style=\"text-align: right;\">\n",
       "      <th></th>\n",
       "      <th>indicator</th>\n",
       "      <th>gameId</th>\n",
       "      <th>playId</th>\n",
       "      <th>frameId</th>\n",
       "      <th>net_x_force</th>\n",
       "      <th>net_y_force</th>\n",
       "    </tr>\n",
       "  </thead>\n",
       "  <tbody>\n",
       "    <tr>\n",
       "      <th>0</th>\n",
       "      <td>-1</td>\n",
       "      <td>2021090900</td>\n",
       "      <td>97</td>\n",
       "      <td>1</td>\n",
       "      <td>225.829433</td>\n",
       "      <td>76.702765</td>\n",
       "    </tr>\n",
       "    <tr>\n",
       "      <th>1</th>\n",
       "      <td>-1</td>\n",
       "      <td>2021090900</td>\n",
       "      <td>97</td>\n",
       "      <td>2</td>\n",
       "      <td>222.811755</td>\n",
       "      <td>47.888761</td>\n",
       "    </tr>\n",
       "    <tr>\n",
       "      <th>2</th>\n",
       "      <td>-1</td>\n",
       "      <td>2021090900</td>\n",
       "      <td>97</td>\n",
       "      <td>3</td>\n",
       "      <td>223.532487</td>\n",
       "      <td>27.763155</td>\n",
       "    </tr>\n",
       "    <tr>\n",
       "      <th>3</th>\n",
       "      <td>-1</td>\n",
       "      <td>2021090900</td>\n",
       "      <td>97</td>\n",
       "      <td>4</td>\n",
       "      <td>206.406079</td>\n",
       "      <td>34.985072</td>\n",
       "    </tr>\n",
       "    <tr>\n",
       "      <th>4</th>\n",
       "      <td>-1</td>\n",
       "      <td>2021090900</td>\n",
       "      <td>97</td>\n",
       "      <td>5</td>\n",
       "      <td>340.844242</td>\n",
       "      <td>99.605315</td>\n",
       "    </tr>\n",
       "    <tr>\n",
       "      <th>...</th>\n",
       "      <td>...</td>\n",
       "      <td>...</td>\n",
       "      <td>...</td>\n",
       "      <td>...</td>\n",
       "      <td>...</td>\n",
       "      <td>...</td>\n",
       "    </tr>\n",
       "    <tr>\n",
       "      <th>32491</th>\n",
       "      <td>-1</td>\n",
       "      <td>2021091300</td>\n",
       "      <td>4845</td>\n",
       "      <td>20</td>\n",
       "      <td>-143.132826</td>\n",
       "      <td>98.851377</td>\n",
       "    </tr>\n",
       "    <tr>\n",
       "      <th>32492</th>\n",
       "      <td>-1</td>\n",
       "      <td>2021091300</td>\n",
       "      <td>4845</td>\n",
       "      <td>21</td>\n",
       "      <td>-67.925403</td>\n",
       "      <td>48.218562</td>\n",
       "    </tr>\n",
       "    <tr>\n",
       "      <th>32493</th>\n",
       "      <td>-1</td>\n",
       "      <td>2021091300</td>\n",
       "      <td>4845</td>\n",
       "      <td>22</td>\n",
       "      <td>-91.187775</td>\n",
       "      <td>66.227488</td>\n",
       "    </tr>\n",
       "    <tr>\n",
       "      <th>32494</th>\n",
       "      <td>-1</td>\n",
       "      <td>2021091300</td>\n",
       "      <td>4845</td>\n",
       "      <td>23</td>\n",
       "      <td>-182.732102</td>\n",
       "      <td>136.105115</td>\n",
       "    </tr>\n",
       "    <tr>\n",
       "      <th>32495</th>\n",
       "      <td>-1</td>\n",
       "      <td>2021091300</td>\n",
       "      <td>4845</td>\n",
       "      <td>24</td>\n",
       "      <td>-287.052391</td>\n",
       "      <td>221.539360</td>\n",
       "    </tr>\n",
       "  </tbody>\n",
       "</table>\n",
       "<p>32496 rows × 6 columns</p>\n",
       "</div>"
      ],
      "text/plain": [
       "       indicator      gameId  playId  frameId  net_x_force  net_y_force\n",
       "0             -1  2021090900      97        1   225.829433    76.702765\n",
       "1             -1  2021090900      97        2   222.811755    47.888761\n",
       "2             -1  2021090900      97        3   223.532487    27.763155\n",
       "3             -1  2021090900      97        4   206.406079    34.985072\n",
       "4             -1  2021090900      97        5   340.844242    99.605315\n",
       "...          ...         ...     ...      ...          ...          ...\n",
       "32491         -1  2021091300    4845       20  -143.132826    98.851377\n",
       "32492         -1  2021091300    4845       21   -67.925403    48.218562\n",
       "32493         -1  2021091300    4845       22   -91.187775    66.227488\n",
       "32494         -1  2021091300    4845       23  -182.732102   136.105115\n",
       "32495         -1  2021091300    4845       24  -287.052391   221.539360\n",
       "\n",
       "[32496 rows x 6 columns]"
      ]
     },
     "metadata": {},
     "output_type": "display_data"
    },
    {
     "data": {
      "text/html": [
       "<div>\n",
       "<style scoped>\n",
       "    .dataframe tbody tr th:only-of-type {\n",
       "        vertical-align: middle;\n",
       "    }\n",
       "\n",
       "    .dataframe tbody tr th {\n",
       "        vertical-align: top;\n",
       "    }\n",
       "\n",
       "    .dataframe thead th {\n",
       "        text-align: right;\n",
       "    }\n",
       "</style>\n",
       "<table border=\"1\" class=\"dataframe\">\n",
       "  <thead>\n",
       "    <tr style=\"text-align: right;\">\n",
       "      <th></th>\n",
       "      <th>indicator</th>\n",
       "      <th>gameId</th>\n",
       "      <th>playId</th>\n",
       "      <th>frameId</th>\n",
       "      <th>net_x_force</th>\n",
       "      <th>net_y_force</th>\n",
       "    </tr>\n",
       "  </thead>\n",
       "  <tbody>\n",
       "    <tr>\n",
       "      <th>32496</th>\n",
       "      <td>0</td>\n",
       "      <td>2021090900</td>\n",
       "      <td>97</td>\n",
       "      <td>1</td>\n",
       "      <td>3011.310241</td>\n",
       "      <td>1139.103075</td>\n",
       "    </tr>\n",
       "    <tr>\n",
       "      <th>32497</th>\n",
       "      <td>0</td>\n",
       "      <td>2021090900</td>\n",
       "      <td>97</td>\n",
       "      <td>2</td>\n",
       "      <td>4179.353807</td>\n",
       "      <td>1208.053041</td>\n",
       "    </tr>\n",
       "    <tr>\n",
       "      <th>32498</th>\n",
       "      <td>0</td>\n",
       "      <td>2021090900</td>\n",
       "      <td>97</td>\n",
       "      <td>3</td>\n",
       "      <td>5065.204141</td>\n",
       "      <td>1239.113916</td>\n",
       "    </tr>\n",
       "    <tr>\n",
       "      <th>32499</th>\n",
       "      <td>0</td>\n",
       "      <td>2021090900</td>\n",
       "      <td>97</td>\n",
       "      <td>4</td>\n",
       "      <td>5127.171588</td>\n",
       "      <td>1244.208433</td>\n",
       "    </tr>\n",
       "    <tr>\n",
       "      <th>32500</th>\n",
       "      <td>0</td>\n",
       "      <td>2021090900</td>\n",
       "      <td>97</td>\n",
       "      <td>5</td>\n",
       "      <td>4395.666783</td>\n",
       "      <td>1093.389779</td>\n",
       "    </tr>\n",
       "    <tr>\n",
       "      <th>...</th>\n",
       "      <td>...</td>\n",
       "      <td>...</td>\n",
       "      <td>...</td>\n",
       "      <td>...</td>\n",
       "      <td>...</td>\n",
       "      <td>...</td>\n",
       "    </tr>\n",
       "    <tr>\n",
       "      <th>69156</th>\n",
       "      <td>0</td>\n",
       "      <td>2021091300</td>\n",
       "      <td>4845</td>\n",
       "      <td>20</td>\n",
       "      <td>-2900.586634</td>\n",
       "      <td>267.046953</td>\n",
       "    </tr>\n",
       "    <tr>\n",
       "      <th>69157</th>\n",
       "      <td>0</td>\n",
       "      <td>2021091300</td>\n",
       "      <td>4845</td>\n",
       "      <td>21</td>\n",
       "      <td>-3131.608748</td>\n",
       "      <td>240.612911</td>\n",
       "    </tr>\n",
       "    <tr>\n",
       "      <th>69158</th>\n",
       "      <td>0</td>\n",
       "      <td>2021091300</td>\n",
       "      <td>4845</td>\n",
       "      <td>22</td>\n",
       "      <td>-3338.164103</td>\n",
       "      <td>148.210615</td>\n",
       "    </tr>\n",
       "    <tr>\n",
       "      <th>69159</th>\n",
       "      <td>0</td>\n",
       "      <td>2021091300</td>\n",
       "      <td>4845</td>\n",
       "      <td>23</td>\n",
       "      <td>-3142.577825</td>\n",
       "      <td>-133.516249</td>\n",
       "    </tr>\n",
       "    <tr>\n",
       "      <th>69160</th>\n",
       "      <td>0</td>\n",
       "      <td>2021091300</td>\n",
       "      <td>4845</td>\n",
       "      <td>24</td>\n",
       "      <td>-2953.382506</td>\n",
       "      <td>-312.746580</td>\n",
       "    </tr>\n",
       "  </tbody>\n",
       "</table>\n",
       "<p>36665 rows × 6 columns</p>\n",
       "</div>"
      ],
      "text/plain": [
       "       indicator      gameId  playId  frameId  net_x_force  net_y_force\n",
       "32496          0  2021090900      97        1  3011.310241  1139.103075\n",
       "32497          0  2021090900      97        2  4179.353807  1208.053041\n",
       "32498          0  2021090900      97        3  5065.204141  1239.113916\n",
       "32499          0  2021090900      97        4  5127.171588  1244.208433\n",
       "32500          0  2021090900      97        5  4395.666783  1093.389779\n",
       "...          ...         ...     ...      ...          ...          ...\n",
       "69156          0  2021091300    4845       20 -2900.586634   267.046953\n",
       "69157          0  2021091300    4845       21 -3131.608748   240.612911\n",
       "69158          0  2021091300    4845       22 -3338.164103   148.210615\n",
       "69159          0  2021091300    4845       23 -3142.577825  -133.516249\n",
       "69160          0  2021091300    4845       24 -2953.382506  -312.746580\n",
       "\n",
       "[36665 rows x 6 columns]"
      ]
     },
     "metadata": {},
     "output_type": "display_data"
    },
    {
     "data": {
      "text/html": [
       "<div>\n",
       "<style scoped>\n",
       "    .dataframe tbody tr th:only-of-type {\n",
       "        vertical-align: middle;\n",
       "    }\n",
       "\n",
       "    .dataframe tbody tr th {\n",
       "        vertical-align: top;\n",
       "    }\n",
       "\n",
       "    .dataframe thead th {\n",
       "        text-align: right;\n",
       "    }\n",
       "</style>\n",
       "<table border=\"1\" class=\"dataframe\">\n",
       "  <thead>\n",
       "    <tr style=\"text-align: right;\">\n",
       "      <th></th>\n",
       "      <th>indicator</th>\n",
       "      <th>gameId</th>\n",
       "      <th>playId</th>\n",
       "      <th>frameId</th>\n",
       "      <th>net_x_force</th>\n",
       "      <th>net_y_force</th>\n",
       "    </tr>\n",
       "  </thead>\n",
       "  <tbody>\n",
       "    <tr>\n",
       "      <th>69161</th>\n",
       "      <td>1</td>\n",
       "      <td>2021090900</td>\n",
       "      <td>97</td>\n",
       "      <td>1</td>\n",
       "      <td>575.871315</td>\n",
       "      <td>-235.595175</td>\n",
       "    </tr>\n",
       "    <tr>\n",
       "      <th>69162</th>\n",
       "      <td>1</td>\n",
       "      <td>2021090900</td>\n",
       "      <td>97</td>\n",
       "      <td>2</td>\n",
       "      <td>979.202888</td>\n",
       "      <td>-303.301343</td>\n",
       "    </tr>\n",
       "    <tr>\n",
       "      <th>69163</th>\n",
       "      <td>1</td>\n",
       "      <td>2021090900</td>\n",
       "      <td>97</td>\n",
       "      <td>3</td>\n",
       "      <td>1086.290489</td>\n",
       "      <td>-435.805309</td>\n",
       "    </tr>\n",
       "    <tr>\n",
       "      <th>69164</th>\n",
       "      <td>1</td>\n",
       "      <td>2021090900</td>\n",
       "      <td>97</td>\n",
       "      <td>4</td>\n",
       "      <td>768.361641</td>\n",
       "      <td>-330.432045</td>\n",
       "    </tr>\n",
       "    <tr>\n",
       "      <th>69165</th>\n",
       "      <td>1</td>\n",
       "      <td>2021090900</td>\n",
       "      <td>97</td>\n",
       "      <td>5</td>\n",
       "      <td>787.660795</td>\n",
       "      <td>-391.855275</td>\n",
       "    </tr>\n",
       "    <tr>\n",
       "      <th>...</th>\n",
       "      <td>...</td>\n",
       "      <td>...</td>\n",
       "      <td>...</td>\n",
       "      <td>...</td>\n",
       "      <td>...</td>\n",
       "      <td>...</td>\n",
       "    </tr>\n",
       "    <tr>\n",
       "      <th>101224</th>\n",
       "      <td>1</td>\n",
       "      <td>2021091300</td>\n",
       "      <td>4845</td>\n",
       "      <td>20</td>\n",
       "      <td>-1012.485151</td>\n",
       "      <td>219.008625</td>\n",
       "    </tr>\n",
       "    <tr>\n",
       "      <th>101225</th>\n",
       "      <td>1</td>\n",
       "      <td>2021091300</td>\n",
       "      <td>4845</td>\n",
       "      <td>21</td>\n",
       "      <td>-1048.144954</td>\n",
       "      <td>46.338180</td>\n",
       "    </tr>\n",
       "    <tr>\n",
       "      <th>101226</th>\n",
       "      <td>1</td>\n",
       "      <td>2021091300</td>\n",
       "      <td>4845</td>\n",
       "      <td>22</td>\n",
       "      <td>-1285.569210</td>\n",
       "      <td>15.153922</td>\n",
       "    </tr>\n",
       "    <tr>\n",
       "      <th>101227</th>\n",
       "      <td>1</td>\n",
       "      <td>2021091300</td>\n",
       "      <td>4845</td>\n",
       "      <td>23</td>\n",
       "      <td>-1598.695163</td>\n",
       "      <td>58.334418</td>\n",
       "    </tr>\n",
       "    <tr>\n",
       "      <th>101228</th>\n",
       "      <td>1</td>\n",
       "      <td>2021091300</td>\n",
       "      <td>4845</td>\n",
       "      <td>24</td>\n",
       "      <td>-1715.149055</td>\n",
       "      <td>143.209793</td>\n",
       "    </tr>\n",
       "  </tbody>\n",
       "</table>\n",
       "<p>32068 rows × 6 columns</p>\n",
       "</div>"
      ],
      "text/plain": [
       "        indicator      gameId  playId  frameId  net_x_force  net_y_force\n",
       "69161           1  2021090900      97        1   575.871315  -235.595175\n",
       "69162           1  2021090900      97        2   979.202888  -303.301343\n",
       "69163           1  2021090900      97        3  1086.290489  -435.805309\n",
       "69164           1  2021090900      97        4   768.361641  -330.432045\n",
       "69165           1  2021090900      97        5   787.660795  -391.855275\n",
       "...           ...         ...     ...      ...          ...          ...\n",
       "101224          1  2021091300    4845       20 -1012.485151   219.008625\n",
       "101225          1  2021091300    4845       21 -1048.144954    46.338180\n",
       "101226          1  2021091300    4845       22 -1285.569210    15.153922\n",
       "101227          1  2021091300    4845       23 -1598.695163    58.334418\n",
       "101228          1  2021091300    4845       24 -1715.149055   143.209793\n",
       "\n",
       "[32068 rows x 6 columns]"
      ]
     },
     "metadata": {},
     "output_type": "display_data"
    },
    {
     "data": {
      "text/html": [
       "<div>\n",
       "<style scoped>\n",
       "    .dataframe tbody tr th:only-of-type {\n",
       "        vertical-align: middle;\n",
       "    }\n",
       "\n",
       "    .dataframe tbody tr th {\n",
       "        vertical-align: top;\n",
       "    }\n",
       "\n",
       "    .dataframe thead th {\n",
       "        text-align: right;\n",
       "    }\n",
       "</style>\n",
       "<table border=\"1\" class=\"dataframe\">\n",
       "  <thead>\n",
       "    <tr style=\"text-align: right;\">\n",
       "      <th></th>\n",
       "      <th>indicator_x</th>\n",
       "      <th>gameId</th>\n",
       "      <th>playId</th>\n",
       "      <th>frameId</th>\n",
       "      <th>net_x_force_x</th>\n",
       "      <th>net_y_force_x</th>\n",
       "      <th>indicator_y</th>\n",
       "      <th>net_x_force_y</th>\n",
       "      <th>net_y_force_y</th>\n",
       "      <th>indicator</th>\n",
       "      <th>net_x_force</th>\n",
       "      <th>net_y_force</th>\n",
       "    </tr>\n",
       "  </thead>\n",
       "  <tbody>\n",
       "    <tr>\n",
       "      <th>0</th>\n",
       "      <td>-1.0</td>\n",
       "      <td>2021090900</td>\n",
       "      <td>97</td>\n",
       "      <td>1</td>\n",
       "      <td>225.829433</td>\n",
       "      <td>76.702765</td>\n",
       "      <td>0</td>\n",
       "      <td>3011.310241</td>\n",
       "      <td>1139.103075</td>\n",
       "      <td>1.0</td>\n",
       "      <td>575.871315</td>\n",
       "      <td>-235.595175</td>\n",
       "    </tr>\n",
       "    <tr>\n",
       "      <th>1</th>\n",
       "      <td>-1.0</td>\n",
       "      <td>2021090900</td>\n",
       "      <td>97</td>\n",
       "      <td>2</td>\n",
       "      <td>222.811755</td>\n",
       "      <td>47.888761</td>\n",
       "      <td>0</td>\n",
       "      <td>4179.353807</td>\n",
       "      <td>1208.053041</td>\n",
       "      <td>1.0</td>\n",
       "      <td>979.202888</td>\n",
       "      <td>-303.301343</td>\n",
       "    </tr>\n",
       "    <tr>\n",
       "      <th>2</th>\n",
       "      <td>-1.0</td>\n",
       "      <td>2021090900</td>\n",
       "      <td>97</td>\n",
       "      <td>3</td>\n",
       "      <td>223.532487</td>\n",
       "      <td>27.763155</td>\n",
       "      <td>0</td>\n",
       "      <td>5065.204141</td>\n",
       "      <td>1239.113916</td>\n",
       "      <td>1.0</td>\n",
       "      <td>1086.290489</td>\n",
       "      <td>-435.805309</td>\n",
       "    </tr>\n",
       "    <tr>\n",
       "      <th>3</th>\n",
       "      <td>-1.0</td>\n",
       "      <td>2021090900</td>\n",
       "      <td>97</td>\n",
       "      <td>4</td>\n",
       "      <td>206.406079</td>\n",
       "      <td>34.985072</td>\n",
       "      <td>0</td>\n",
       "      <td>5127.171588</td>\n",
       "      <td>1244.208433</td>\n",
       "      <td>1.0</td>\n",
       "      <td>768.361641</td>\n",
       "      <td>-330.432045</td>\n",
       "    </tr>\n",
       "    <tr>\n",
       "      <th>4</th>\n",
       "      <td>-1.0</td>\n",
       "      <td>2021090900</td>\n",
       "      <td>97</td>\n",
       "      <td>5</td>\n",
       "      <td>340.844242</td>\n",
       "      <td>99.605315</td>\n",
       "      <td>0</td>\n",
       "      <td>4395.666783</td>\n",
       "      <td>1093.389779</td>\n",
       "      <td>1.0</td>\n",
       "      <td>787.660795</td>\n",
       "      <td>-391.855275</td>\n",
       "    </tr>\n",
       "    <tr>\n",
       "      <th>...</th>\n",
       "      <td>...</td>\n",
       "      <td>...</td>\n",
       "      <td>...</td>\n",
       "      <td>...</td>\n",
       "      <td>...</td>\n",
       "      <td>...</td>\n",
       "      <td>...</td>\n",
       "      <td>...</td>\n",
       "      <td>...</td>\n",
       "      <td>...</td>\n",
       "      <td>...</td>\n",
       "      <td>...</td>\n",
       "    </tr>\n",
       "    <tr>\n",
       "      <th>36660</th>\n",
       "      <td>NaN</td>\n",
       "      <td>2021091300</td>\n",
       "      <td>4765</td>\n",
       "      <td>30</td>\n",
       "      <td>NaN</td>\n",
       "      <td>NaN</td>\n",
       "      <td>0</td>\n",
       "      <td>1118.764123</td>\n",
       "      <td>898.635577</td>\n",
       "      <td>1.0</td>\n",
       "      <td>51.306529</td>\n",
       "      <td>-1780.221784</td>\n",
       "    </tr>\n",
       "    <tr>\n",
       "      <th>36661</th>\n",
       "      <td>NaN</td>\n",
       "      <td>2021091300</td>\n",
       "      <td>4765</td>\n",
       "      <td>31</td>\n",
       "      <td>NaN</td>\n",
       "      <td>NaN</td>\n",
       "      <td>0</td>\n",
       "      <td>929.065577</td>\n",
       "      <td>647.767261</td>\n",
       "      <td>1.0</td>\n",
       "      <td>-583.874277</td>\n",
       "      <td>-1512.301239</td>\n",
       "    </tr>\n",
       "    <tr>\n",
       "      <th>36662</th>\n",
       "      <td>NaN</td>\n",
       "      <td>2021091300</td>\n",
       "      <td>4765</td>\n",
       "      <td>32</td>\n",
       "      <td>NaN</td>\n",
       "      <td>NaN</td>\n",
       "      <td>0</td>\n",
       "      <td>789.571179</td>\n",
       "      <td>130.987269</td>\n",
       "      <td>1.0</td>\n",
       "      <td>-1134.759790</td>\n",
       "      <td>-893.942712</td>\n",
       "    </tr>\n",
       "    <tr>\n",
       "      <th>36663</th>\n",
       "      <td>NaN</td>\n",
       "      <td>2021091300</td>\n",
       "      <td>4765</td>\n",
       "      <td>33</td>\n",
       "      <td>NaN</td>\n",
       "      <td>NaN</td>\n",
       "      <td>0</td>\n",
       "      <td>439.674322</td>\n",
       "      <td>-862.376669</td>\n",
       "      <td>1.0</td>\n",
       "      <td>-1975.420449</td>\n",
       "      <td>440.543421</td>\n",
       "    </tr>\n",
       "    <tr>\n",
       "      <th>36664</th>\n",
       "      <td>NaN</td>\n",
       "      <td>2021091300</td>\n",
       "      <td>4765</td>\n",
       "      <td>34</td>\n",
       "      <td>NaN</td>\n",
       "      <td>NaN</td>\n",
       "      <td>0</td>\n",
       "      <td>162.484158</td>\n",
       "      <td>-622.645956</td>\n",
       "      <td>1.0</td>\n",
       "      <td>-1902.433260</td>\n",
       "      <td>921.498975</td>\n",
       "    </tr>\n",
       "  </tbody>\n",
       "</table>\n",
       "<p>36665 rows × 12 columns</p>\n",
       "</div>"
      ],
      "text/plain": [
       "       indicator_x      gameId  playId  frameId  net_x_force_x  net_y_force_x  \\\n",
       "0             -1.0  2021090900      97        1     225.829433      76.702765   \n",
       "1             -1.0  2021090900      97        2     222.811755      47.888761   \n",
       "2             -1.0  2021090900      97        3     223.532487      27.763155   \n",
       "3             -1.0  2021090900      97        4     206.406079      34.985072   \n",
       "4             -1.0  2021090900      97        5     340.844242      99.605315   \n",
       "...            ...         ...     ...      ...            ...            ...   \n",
       "36660          NaN  2021091300    4765       30            NaN            NaN   \n",
       "36661          NaN  2021091300    4765       31            NaN            NaN   \n",
       "36662          NaN  2021091300    4765       32            NaN            NaN   \n",
       "36663          NaN  2021091300    4765       33            NaN            NaN   \n",
       "36664          NaN  2021091300    4765       34            NaN            NaN   \n",
       "\n",
       "       indicator_y  net_x_force_y  net_y_force_y  indicator  net_x_force  \\\n",
       "0                0    3011.310241    1139.103075        1.0   575.871315   \n",
       "1                0    4179.353807    1208.053041        1.0   979.202888   \n",
       "2                0    5065.204141    1239.113916        1.0  1086.290489   \n",
       "3                0    5127.171588    1244.208433        1.0   768.361641   \n",
       "4                0    4395.666783    1093.389779        1.0   787.660795   \n",
       "...            ...            ...            ...        ...          ...   \n",
       "36660            0    1118.764123     898.635577        1.0    51.306529   \n",
       "36661            0     929.065577     647.767261        1.0  -583.874277   \n",
       "36662            0     789.571179     130.987269        1.0 -1134.759790   \n",
       "36663            0     439.674322    -862.376669        1.0 -1975.420449   \n",
       "36664            0     162.484158    -622.645956        1.0 -1902.433260   \n",
       "\n",
       "       net_y_force  \n",
       "0      -235.595175  \n",
       "1      -303.301343  \n",
       "2      -435.805309  \n",
       "3      -330.432045  \n",
       "4      -391.855275  \n",
       "...            ...  \n",
       "36660 -1780.221784  \n",
       "36661 -1512.301239  \n",
       "36662  -893.942712  \n",
       "36663   440.543421  \n",
       "36664   921.498975  \n",
       "\n",
       "[36665 rows x 12 columns]"
      ]
     },
     "metadata": {},
     "output_type": "display_data"
    },
    {
     "data": {
      "text/html": [
       "<div>\n",
       "<style scoped>\n",
       "    .dataframe tbody tr th:only-of-type {\n",
       "        vertical-align: middle;\n",
       "    }\n",
       "\n",
       "    .dataframe tbody tr th {\n",
       "        vertical-align: top;\n",
       "    }\n",
       "\n",
       "    .dataframe thead th {\n",
       "        text-align: right;\n",
       "    }\n",
       "</style>\n",
       "<table border=\"1\" class=\"dataframe\">\n",
       "  <thead>\n",
       "    <tr style=\"text-align: right;\">\n",
       "      <th></th>\n",
       "      <th>indicator_x</th>\n",
       "      <th>gameId</th>\n",
       "      <th>playId</th>\n",
       "      <th>frameId</th>\n",
       "      <th>net_x_force_bottom</th>\n",
       "      <th>net_y_force_bottom</th>\n",
       "      <th>indicator_y</th>\n",
       "      <th>net_x_force_middle</th>\n",
       "      <th>net_y_force_y</th>\n",
       "      <th>indicator</th>\n",
       "      <th>net_x_force_top</th>\n",
       "      <th>net_y_force_middle</th>\n",
       "    </tr>\n",
       "  </thead>\n",
       "  <tbody>\n",
       "    <tr>\n",
       "      <th>0</th>\n",
       "      <td>-1.0</td>\n",
       "      <td>2021090900</td>\n",
       "      <td>97</td>\n",
       "      <td>1</td>\n",
       "      <td>225.829433</td>\n",
       "      <td>76.702765</td>\n",
       "      <td>0</td>\n",
       "      <td>3011.310241</td>\n",
       "      <td>1139.103075</td>\n",
       "      <td>1.0</td>\n",
       "      <td>575.871315</td>\n",
       "      <td>-235.595175</td>\n",
       "    </tr>\n",
       "    <tr>\n",
       "      <th>1</th>\n",
       "      <td>-1.0</td>\n",
       "      <td>2021090900</td>\n",
       "      <td>97</td>\n",
       "      <td>2</td>\n",
       "      <td>222.811755</td>\n",
       "      <td>47.888761</td>\n",
       "      <td>0</td>\n",
       "      <td>4179.353807</td>\n",
       "      <td>1208.053041</td>\n",
       "      <td>1.0</td>\n",
       "      <td>979.202888</td>\n",
       "      <td>-303.301343</td>\n",
       "    </tr>\n",
       "    <tr>\n",
       "      <th>2</th>\n",
       "      <td>-1.0</td>\n",
       "      <td>2021090900</td>\n",
       "      <td>97</td>\n",
       "      <td>3</td>\n",
       "      <td>223.532487</td>\n",
       "      <td>27.763155</td>\n",
       "      <td>0</td>\n",
       "      <td>5065.204141</td>\n",
       "      <td>1239.113916</td>\n",
       "      <td>1.0</td>\n",
       "      <td>1086.290489</td>\n",
       "      <td>-435.805309</td>\n",
       "    </tr>\n",
       "    <tr>\n",
       "      <th>3</th>\n",
       "      <td>-1.0</td>\n",
       "      <td>2021090900</td>\n",
       "      <td>97</td>\n",
       "      <td>4</td>\n",
       "      <td>206.406079</td>\n",
       "      <td>34.985072</td>\n",
       "      <td>0</td>\n",
       "      <td>5127.171588</td>\n",
       "      <td>1244.208433</td>\n",
       "      <td>1.0</td>\n",
       "      <td>768.361641</td>\n",
       "      <td>-330.432045</td>\n",
       "    </tr>\n",
       "    <tr>\n",
       "      <th>4</th>\n",
       "      <td>-1.0</td>\n",
       "      <td>2021090900</td>\n",
       "      <td>97</td>\n",
       "      <td>5</td>\n",
       "      <td>340.844242</td>\n",
       "      <td>99.605315</td>\n",
       "      <td>0</td>\n",
       "      <td>4395.666783</td>\n",
       "      <td>1093.389779</td>\n",
       "      <td>1.0</td>\n",
       "      <td>787.660795</td>\n",
       "      <td>-391.855275</td>\n",
       "    </tr>\n",
       "    <tr>\n",
       "      <th>...</th>\n",
       "      <td>...</td>\n",
       "      <td>...</td>\n",
       "      <td>...</td>\n",
       "      <td>...</td>\n",
       "      <td>...</td>\n",
       "      <td>...</td>\n",
       "      <td>...</td>\n",
       "      <td>...</td>\n",
       "      <td>...</td>\n",
       "      <td>...</td>\n",
       "      <td>...</td>\n",
       "      <td>...</td>\n",
       "    </tr>\n",
       "    <tr>\n",
       "      <th>36660</th>\n",
       "      <td>NaN</td>\n",
       "      <td>2021091300</td>\n",
       "      <td>4765</td>\n",
       "      <td>30</td>\n",
       "      <td>NaN</td>\n",
       "      <td>NaN</td>\n",
       "      <td>0</td>\n",
       "      <td>1118.764123</td>\n",
       "      <td>898.635577</td>\n",
       "      <td>1.0</td>\n",
       "      <td>51.306529</td>\n",
       "      <td>-1780.221784</td>\n",
       "    </tr>\n",
       "    <tr>\n",
       "      <th>36661</th>\n",
       "      <td>NaN</td>\n",
       "      <td>2021091300</td>\n",
       "      <td>4765</td>\n",
       "      <td>31</td>\n",
       "      <td>NaN</td>\n",
       "      <td>NaN</td>\n",
       "      <td>0</td>\n",
       "      <td>929.065577</td>\n",
       "      <td>647.767261</td>\n",
       "      <td>1.0</td>\n",
       "      <td>-583.874277</td>\n",
       "      <td>-1512.301239</td>\n",
       "    </tr>\n",
       "    <tr>\n",
       "      <th>36662</th>\n",
       "      <td>NaN</td>\n",
       "      <td>2021091300</td>\n",
       "      <td>4765</td>\n",
       "      <td>32</td>\n",
       "      <td>NaN</td>\n",
       "      <td>NaN</td>\n",
       "      <td>0</td>\n",
       "      <td>789.571179</td>\n",
       "      <td>130.987269</td>\n",
       "      <td>1.0</td>\n",
       "      <td>-1134.759790</td>\n",
       "      <td>-893.942712</td>\n",
       "    </tr>\n",
       "    <tr>\n",
       "      <th>36663</th>\n",
       "      <td>NaN</td>\n",
       "      <td>2021091300</td>\n",
       "      <td>4765</td>\n",
       "      <td>33</td>\n",
       "      <td>NaN</td>\n",
       "      <td>NaN</td>\n",
       "      <td>0</td>\n",
       "      <td>439.674322</td>\n",
       "      <td>-862.376669</td>\n",
       "      <td>1.0</td>\n",
       "      <td>-1975.420449</td>\n",
       "      <td>440.543421</td>\n",
       "    </tr>\n",
       "    <tr>\n",
       "      <th>36664</th>\n",
       "      <td>NaN</td>\n",
       "      <td>2021091300</td>\n",
       "      <td>4765</td>\n",
       "      <td>34</td>\n",
       "      <td>NaN</td>\n",
       "      <td>NaN</td>\n",
       "      <td>0</td>\n",
       "      <td>162.484158</td>\n",
       "      <td>-622.645956</td>\n",
       "      <td>1.0</td>\n",
       "      <td>-1902.433260</td>\n",
       "      <td>921.498975</td>\n",
       "    </tr>\n",
       "  </tbody>\n",
       "</table>\n",
       "<p>36665 rows × 12 columns</p>\n",
       "</div>"
      ],
      "text/plain": [
       "       indicator_x      gameId  playId  frameId  net_x_force_bottom  \\\n",
       "0             -1.0  2021090900      97        1          225.829433   \n",
       "1             -1.0  2021090900      97        2          222.811755   \n",
       "2             -1.0  2021090900      97        3          223.532487   \n",
       "3             -1.0  2021090900      97        4          206.406079   \n",
       "4             -1.0  2021090900      97        5          340.844242   \n",
       "...            ...         ...     ...      ...                 ...   \n",
       "36660          NaN  2021091300    4765       30                 NaN   \n",
       "36661          NaN  2021091300    4765       31                 NaN   \n",
       "36662          NaN  2021091300    4765       32                 NaN   \n",
       "36663          NaN  2021091300    4765       33                 NaN   \n",
       "36664          NaN  2021091300    4765       34                 NaN   \n",
       "\n",
       "       net_y_force_bottom  indicator_y  net_x_force_middle  net_y_force_y  \\\n",
       "0               76.702765            0         3011.310241    1139.103075   \n",
       "1               47.888761            0         4179.353807    1208.053041   \n",
       "2               27.763155            0         5065.204141    1239.113916   \n",
       "3               34.985072            0         5127.171588    1244.208433   \n",
       "4               99.605315            0         4395.666783    1093.389779   \n",
       "...                   ...          ...                 ...            ...   \n",
       "36660                 NaN            0         1118.764123     898.635577   \n",
       "36661                 NaN            0          929.065577     647.767261   \n",
       "36662                 NaN            0          789.571179     130.987269   \n",
       "36663                 NaN            0          439.674322    -862.376669   \n",
       "36664                 NaN            0          162.484158    -622.645956   \n",
       "\n",
       "       indicator  net_x_force_top  net_y_force_middle  \n",
       "0            1.0       575.871315         -235.595175  \n",
       "1            1.0       979.202888         -303.301343  \n",
       "2            1.0      1086.290489         -435.805309  \n",
       "3            1.0       768.361641         -330.432045  \n",
       "4            1.0       787.660795         -391.855275  \n",
       "...          ...              ...                 ...  \n",
       "36660        1.0        51.306529        -1780.221784  \n",
       "36661        1.0      -583.874277        -1512.301239  \n",
       "36662        1.0     -1134.759790         -893.942712  \n",
       "36663        1.0     -1975.420449          440.543421  \n",
       "36664        1.0     -1902.433260          921.498975  \n",
       "\n",
       "[36665 rows x 12 columns]"
      ]
     },
     "metadata": {},
     "output_type": "display_data"
    },
    {
     "data": {
      "text/html": [
       "<div>\n",
       "<style scoped>\n",
       "    .dataframe tbody tr th:only-of-type {\n",
       "        vertical-align: middle;\n",
       "    }\n",
       "\n",
       "    .dataframe tbody tr th {\n",
       "        vertical-align: top;\n",
       "    }\n",
       "\n",
       "    .dataframe thead th {\n",
       "        text-align: right;\n",
       "    }\n",
       "</style>\n",
       "<table border=\"1\" class=\"dataframe\">\n",
       "  <thead>\n",
       "    <tr style=\"text-align: right;\">\n",
       "      <th></th>\n",
       "      <th>gameId</th>\n",
       "      <th>playId</th>\n",
       "      <th>frameId</th>\n",
       "      <th>net_x_force_bottom</th>\n",
       "      <th>net_y_force_bottom</th>\n",
       "      <th>net_x_force_middle</th>\n",
       "      <th>net_y_force_y</th>\n",
       "      <th>net_x_force_top</th>\n",
       "      <th>net_y_force_middle</th>\n",
       "    </tr>\n",
       "  </thead>\n",
       "  <tbody>\n",
       "    <tr>\n",
       "      <th>0</th>\n",
       "      <td>2021090900</td>\n",
       "      <td>97</td>\n",
       "      <td>1</td>\n",
       "      <td>225.829433</td>\n",
       "      <td>76.702765</td>\n",
       "      <td>3011.310241</td>\n",
       "      <td>1139.103075</td>\n",
       "      <td>575.871315</td>\n",
       "      <td>-235.595175</td>\n",
       "    </tr>\n",
       "    <tr>\n",
       "      <th>1</th>\n",
       "      <td>2021090900</td>\n",
       "      <td>97</td>\n",
       "      <td>2</td>\n",
       "      <td>222.811755</td>\n",
       "      <td>47.888761</td>\n",
       "      <td>4179.353807</td>\n",
       "      <td>1208.053041</td>\n",
       "      <td>979.202888</td>\n",
       "      <td>-303.301343</td>\n",
       "    </tr>\n",
       "    <tr>\n",
       "      <th>2</th>\n",
       "      <td>2021090900</td>\n",
       "      <td>97</td>\n",
       "      <td>3</td>\n",
       "      <td>223.532487</td>\n",
       "      <td>27.763155</td>\n",
       "      <td>5065.204141</td>\n",
       "      <td>1239.113916</td>\n",
       "      <td>1086.290489</td>\n",
       "      <td>-435.805309</td>\n",
       "    </tr>\n",
       "    <tr>\n",
       "      <th>3</th>\n",
       "      <td>2021090900</td>\n",
       "      <td>97</td>\n",
       "      <td>4</td>\n",
       "      <td>206.406079</td>\n",
       "      <td>34.985072</td>\n",
       "      <td>5127.171588</td>\n",
       "      <td>1244.208433</td>\n",
       "      <td>768.361641</td>\n",
       "      <td>-330.432045</td>\n",
       "    </tr>\n",
       "    <tr>\n",
       "      <th>4</th>\n",
       "      <td>2021090900</td>\n",
       "      <td>97</td>\n",
       "      <td>5</td>\n",
       "      <td>340.844242</td>\n",
       "      <td>99.605315</td>\n",
       "      <td>4395.666783</td>\n",
       "      <td>1093.389779</td>\n",
       "      <td>787.660795</td>\n",
       "      <td>-391.855275</td>\n",
       "    </tr>\n",
       "    <tr>\n",
       "      <th>...</th>\n",
       "      <td>...</td>\n",
       "      <td>...</td>\n",
       "      <td>...</td>\n",
       "      <td>...</td>\n",
       "      <td>...</td>\n",
       "      <td>...</td>\n",
       "      <td>...</td>\n",
       "      <td>...</td>\n",
       "      <td>...</td>\n",
       "    </tr>\n",
       "    <tr>\n",
       "      <th>36660</th>\n",
       "      <td>2021091300</td>\n",
       "      <td>4765</td>\n",
       "      <td>30</td>\n",
       "      <td>NaN</td>\n",
       "      <td>NaN</td>\n",
       "      <td>1118.764123</td>\n",
       "      <td>898.635577</td>\n",
       "      <td>51.306529</td>\n",
       "      <td>-1780.221784</td>\n",
       "    </tr>\n",
       "    <tr>\n",
       "      <th>36661</th>\n",
       "      <td>2021091300</td>\n",
       "      <td>4765</td>\n",
       "      <td>31</td>\n",
       "      <td>NaN</td>\n",
       "      <td>NaN</td>\n",
       "      <td>929.065577</td>\n",
       "      <td>647.767261</td>\n",
       "      <td>-583.874277</td>\n",
       "      <td>-1512.301239</td>\n",
       "    </tr>\n",
       "    <tr>\n",
       "      <th>36662</th>\n",
       "      <td>2021091300</td>\n",
       "      <td>4765</td>\n",
       "      <td>32</td>\n",
       "      <td>NaN</td>\n",
       "      <td>NaN</td>\n",
       "      <td>789.571179</td>\n",
       "      <td>130.987269</td>\n",
       "      <td>-1134.759790</td>\n",
       "      <td>-893.942712</td>\n",
       "    </tr>\n",
       "    <tr>\n",
       "      <th>36663</th>\n",
       "      <td>2021091300</td>\n",
       "      <td>4765</td>\n",
       "      <td>33</td>\n",
       "      <td>NaN</td>\n",
       "      <td>NaN</td>\n",
       "      <td>439.674322</td>\n",
       "      <td>-862.376669</td>\n",
       "      <td>-1975.420449</td>\n",
       "      <td>440.543421</td>\n",
       "    </tr>\n",
       "    <tr>\n",
       "      <th>36664</th>\n",
       "      <td>2021091300</td>\n",
       "      <td>4765</td>\n",
       "      <td>34</td>\n",
       "      <td>NaN</td>\n",
       "      <td>NaN</td>\n",
       "      <td>162.484158</td>\n",
       "      <td>-622.645956</td>\n",
       "      <td>-1902.433260</td>\n",
       "      <td>921.498975</td>\n",
       "    </tr>\n",
       "  </tbody>\n",
       "</table>\n",
       "<p>36665 rows × 9 columns</p>\n",
       "</div>"
      ],
      "text/plain": [
       "           gameId  playId  frameId  net_x_force_bottom  net_y_force_bottom  \\\n",
       "0      2021090900      97        1          225.829433           76.702765   \n",
       "1      2021090900      97        2          222.811755           47.888761   \n",
       "2      2021090900      97        3          223.532487           27.763155   \n",
       "3      2021090900      97        4          206.406079           34.985072   \n",
       "4      2021090900      97        5          340.844242           99.605315   \n",
       "...           ...     ...      ...                 ...                 ...   \n",
       "36660  2021091300    4765       30                 NaN                 NaN   \n",
       "36661  2021091300    4765       31                 NaN                 NaN   \n",
       "36662  2021091300    4765       32                 NaN                 NaN   \n",
       "36663  2021091300    4765       33                 NaN                 NaN   \n",
       "36664  2021091300    4765       34                 NaN                 NaN   \n",
       "\n",
       "       net_x_force_middle  net_y_force_y  net_x_force_top  net_y_force_middle  \n",
       "0             3011.310241    1139.103075       575.871315         -235.595175  \n",
       "1             4179.353807    1208.053041       979.202888         -303.301343  \n",
       "2             5065.204141    1239.113916      1086.290489         -435.805309  \n",
       "3             5127.171588    1244.208433       768.361641         -330.432045  \n",
       "4             4395.666783    1093.389779       787.660795         -391.855275  \n",
       "...                   ...            ...              ...                 ...  \n",
       "36660         1118.764123     898.635577        51.306529        -1780.221784  \n",
       "36661          929.065577     647.767261      -583.874277        -1512.301239  \n",
       "36662          789.571179     130.987269     -1134.759790         -893.942712  \n",
       "36663          439.674322    -862.376669     -1975.420449          440.543421  \n",
       "36664          162.484158    -622.645956     -1902.433260          921.498975  \n",
       "\n",
       "[36665 rows x 9 columns]"
      ]
     },
     "metadata": {},
     "output_type": "display_data"
    }
   ],
   "source": [
    "test1 = test.reset_index(level = 1, drop = True)\n",
    "test1 = test1.reset_index()\n",
    "display(test1)\n",
    "groups = []\n",
    "for n, g in test1.groupby('indicator'):\n",
    "    groups.append(g)\n",
    "#     df = start.merge(g, how = 'cross', on = [['gameId', 'playId', 'frameId']])\n",
    "#     display(df)\n",
    "#     break\n",
    "display(groups[0])\n",
    "display(groups[1])\n",
    "display(groups[2])\n",
    "df = groups[0].merge(groups[1], how = 'outer', on = ['gameId', 'playId', 'frameId'])\n",
    "df = df.merge(groups[2], how = 'outer', on = ['gameId', 'playId', 'frameId'])\n",
    "display(df)\n",
    "\n",
    "df = df.rename(columns = {'net_x_force' : 'net_x_force_top', 'net_y_force' : 'net_y_force_top',\n",
    "                         'net_x_force_x' : 'net_x_force_bottom', 'net_y_force_x' : 'net_y_force_bottom',\n",
    "                         'net_x_force_y' : 'net_x_force_middle', 'net_y_force' : 'net_y_force_middle'})\n",
    "display(df)\n",
    "df = df.drop(columns = ['indicator', 'indicator_x', 'indicator_y'])\n",
    "display(df)"
   ]
  },
  {
   "cell_type": "code",
   "execution_count": 19,
   "id": "3be3e559",
   "metadata": {},
   "outputs": [],
   "source": [
    "def animate_play(tracking_df, play_df,players,pffScoutingData, gameId,playId):\n",
    "    selected_play_df = play_df[(play_df.playId==playId)&(play_df.gameId==gameId)].copy()\n",
    "    \n",
    "    tracking_players_df = pd.merge(tracking_df,players,how=\"left\",on = \"nflId\")\n",
    "    tracking_players_df = pd.merge(tracking_players_df,pffScoutingData,how=\"left\",on = [\"nflId\",\"playId\",\"gameId\"])\n",
    "    selected_tracking_df = tracking_players_df[(tracking_players_df.playId==playId)&(tracking_players_df.gameId==gameId)].copy()\n",
    "\n",
    "    sorted_frame_list = selected_tracking_df.frameId.unique()\n",
    "    sorted_frame_list.sort()\n",
    "\n",
    "    # get play General information \n",
    "    line_of_scrimmage = selected_play_df.absoluteYardlineNumber.values[0]\n",
    "    first_down_marker = line_of_scrimmage + selected_play_df.yardsToGo.values[0]\n",
    "    down = selected_play_df.down.values[0]\n",
    "    quarter = selected_play_df.quarter.values[0]\n",
    "    gameClock = selected_play_df.gameClock.values[0]\n",
    "    playDescription = selected_play_df.playDescription.values[0]\n",
    "    # Handle case where we have a really long Play Description and want to split it into two lines\n",
    "    if len(playDescription.split(\" \"))>15 and len(playDescription)>115:\n",
    "        playDescription = \" \".join(playDescription.split(\" \")[0:16]) + \"<br>\" + \" \".join(playDescription.split(\" \")[16:])\n",
    "\n",
    "    # initialize plotly start and stop buttons for animation\n",
    "    updatemenus_dict = [\n",
    "        {\n",
    "            \"buttons\": [\n",
    "                {\n",
    "                    \"args\": [None, {\"frame\": {\"duration\": 100, \"redraw\": False},\n",
    "                                \"fromcurrent\": True, \"transition\": {\"duration\": 0}}],\n",
    "                    \"label\": \"Play\",\n",
    "                    \"method\": \"animate\"\n",
    "                },\n",
    "                {\n",
    "                    \"args\": [[None], {\"frame\": {\"duration\": 0, \"redraw\": False},\n",
    "                                      \"mode\": \"immediate\",\n",
    "                                      \"transition\": {\"duration\": 0}}],\n",
    "                    \"label\": \"Pause\",\n",
    "                    \"method\": \"animate\"\n",
    "                }\n",
    "            ],\n",
    "            \"direction\": \"left\",\n",
    "            \"pad\": {\"r\": 10, \"t\": 87},\n",
    "            \"showactive\": False,\n",
    "            \"type\": \"buttons\",\n",
    "            \"x\": 0.1,\n",
    "            \"xanchor\": \"right\",\n",
    "            \"y\": 0,\n",
    "            \"yanchor\": \"top\"\n",
    "        }\n",
    "    ]\n",
    "    # initialize plotly slider to show frame position in animation\n",
    "    sliders_dict = {\n",
    "        \"active\": 0,\n",
    "        \"yanchor\": \"top\",\n",
    "        \"xanchor\": \"left\",\n",
    "        \"currentvalue\": {\n",
    "            \"font\": {\"size\": 20},\n",
    "            \"prefix\": \"Frame:\",\n",
    "            \"visible\": True,\n",
    "            \"xanchor\": \"right\"\n",
    "        },\n",
    "        \"transition\": {\"duration\": 300, \"easing\": \"cubic-in-out\"},\n",
    "        \"pad\": {\"b\": 10, \"t\": 50},\n",
    "        \"len\": 0.9,\n",
    "        \"x\": 0.1,\n",
    "        \"y\": 0,\n",
    "        \"steps\": []\n",
    "    }\n",
    "\n",
    "\n",
    "    frames = []\n",
    "    for frameId in sorted_frame_list:\n",
    "        data = []\n",
    "        # Add Numbers to Field \n",
    "        data.append(\n",
    "            go.Scatter(\n",
    "                x=np.arange(20,110,10), \n",
    "                y=[5]*len(np.arange(20,110,10)),\n",
    "                mode='text',\n",
    "                text=list(map(str,list(np.arange(20, 61, 10)-10)+list(np.arange(40, 9, -10)))),\n",
    "                textfont_size = 30,\n",
    "                textfont_family = \"Courier New, monospace\",\n",
    "                textfont_color = \"#ffffff\",\n",
    "                showlegend=False,\n",
    "                hoverinfo='none'\n",
    "            )\n",
    "        )\n",
    "        data.append(\n",
    "            go.Scatter(\n",
    "                x=np.arange(20,110,10), \n",
    "                y=[53.5-5]*len(np.arange(20,110,10)),\n",
    "                mode='text',\n",
    "                text=list(map(str,list(np.arange(20, 61, 10)-10)+list(np.arange(40, 9, -10)))),\n",
    "                textfont_size = 30,\n",
    "                textfont_family = \"Courier New, monospace\",\n",
    "                textfont_color = \"#ffffff\",\n",
    "                showlegend=False,\n",
    "                hoverinfo='none'\n",
    "            )\n",
    "        )\n",
    "        # Add line of scrimage \n",
    "        data.append(\n",
    "            go.Scatter(\n",
    "                x=[line_of_scrimmage,line_of_scrimmage], \n",
    "                y=[0,53.5],\n",
    "                line_dash='dash',\n",
    "                line_color='blue',\n",
    "                showlegend=False,\n",
    "                hoverinfo='none'\n",
    "            )\n",
    "        )\n",
    "        # Add First down line \n",
    "        data.append(\n",
    "            go.Scatter(\n",
    "                x=[first_down_marker,first_down_marker], \n",
    "                y=[0,53.5],\n",
    "                line_dash='dash',\n",
    "                line_color='yellow',\n",
    "                showlegend=False,\n",
    "                hoverinfo='none'\n",
    "            )\n",
    "        )\n",
    "        # Plot Players\n",
    "        for team in selected_tracking_df.team.unique():\n",
    "            plot_df = selected_tracking_df[(selected_tracking_df.team==team)&(selected_tracking_df.frameId==frameId)].copy()\n",
    "            if team != \"football\":\n",
    "                hover_text_array=[]\n",
    "                for nflId in plot_df.nflId:\n",
    "                    selected_player_df = plot_df[plot_df.nflId==nflId]\n",
    "                    hover_text_array.append(\"nflId:{}<br>displayName:{}<br>Position:{}<br>Role:{}\".format(selected_player_df[\"nflId\"].values[0],\n",
    "                                                                                      selected_player_df[\"displayName\"].values[0],\n",
    "                                                                                      selected_player_df[\"pff_positionLinedUp\"].values[0],\n",
    "                                                                                      selected_player_df[\"pff_role\"].values[0]))\n",
    "                data.append(go.Scatter(x=plot_df[\"x\"], y=plot_df[\"y\"],mode = 'markers',marker_color=colors[team],name=team,hovertext=hover_text_array,hoverinfo=\"text\"))\n",
    "                #appending arrows here\n",
    "                data.append(go.Scatter(x=plot_df[\"x\"], y = plot_df[\"y\"], mode = 'lines', marker_color=\"red\"))\n",
    "            else:\n",
    "                data.append(go.Scatter(x=plot_df[\"x\"], y=plot_df[\"y\"],mode = 'markers',marker_color=colors[team],name=team,hoverinfo='none'))\n",
    "        # add frame to slider\n",
    "        slider_step = {\"args\": [\n",
    "            [frameId],\n",
    "            {\"frame\": {\"duration\": 100, \"redraw\": False},\n",
    "             \"mode\": \"immediate\",\n",
    "             \"transition\": {\"duration\": 0}}\n",
    "        ],\n",
    "            \"label\": str(frameId),\n",
    "            \"method\": \"animate\"}\n",
    "        sliders_dict[\"steps\"].append(slider_step)\n",
    "        frames.append(go.Frame(data=data, name=str(frameId)))\n",
    "\n",
    "    scale=10\n",
    "    layout = go.Layout(\n",
    "        autosize=False,\n",
    "        width=120*scale,\n",
    "        height=60*scale,\n",
    "        xaxis=dict(range=[0, 120], autorange=False, tickmode='array',tickvals=np.arange(10, 111, 5).tolist(),showticklabels=False),\n",
    "        yaxis=dict(range=[0, 53.3], autorange=False,showgrid=False,showticklabels=False),\n",
    "\n",
    "        plot_bgcolor='#00B140',\n",
    "        # Create title and add play description at the bottom of the chart for better visual appeal\n",
    "        title=f\"GameId: {gameId}, PlayId: {playId}<br>{gameClock} {quarter}Q\"+\"<br>\"*19+f\"{playDescription}\",\n",
    "        updatemenus=updatemenus_dict,\n",
    "        sliders = [sliders_dict]\n",
    "    )\n",
    "\n",
    "    fig = go.Figure(\n",
    "        data=frames[0][\"data\"],\n",
    "        layout= layout,\n",
    "        frames=frames[1:]\n",
    "    )\n",
    "    # Create First Down Markers \n",
    "    for y_val in [0,53]:\n",
    "        fig.add_annotation(\n",
    "                x=first_down_marker,\n",
    "                y=y_val,\n",
    "                text=str(down),\n",
    "                showarrow=False,\n",
    "                font=dict(\n",
    "                    family=\"Courier New, monospace\",\n",
    "                    size=16,\n",
    "                    color=\"black\"\n",
    "                    ),\n",
    "                align=\"center\",\n",
    "                bordercolor=\"black\",\n",
    "                borderwidth=2,\n",
    "                borderpad=4,\n",
    "                bgcolor=\"#ff7f0e\",\n",
    "                opacity=1\n",
    "                )\n",
    "\n",
    "    return fig"
   ]
  },
  {
   "cell_type": "code",
   "execution_count": 20,
   "id": "3ebe3cd2",
   "metadata": {},
   "outputs": [
    {
     "data": {
      "application/vnd.plotly.v1+json": {
       "config": {
        "plotlyServerURL": "https://plot.ly"
       },
       "data": [
        {
         "hoverinfo": "none",
         "mode": "text",
         "showlegend": false,
         "text": [
          "10",
          "20",
          "30",
          "40",
          "50",
          "40",
          "30",
          "20",
          "10"
         ],
         "textfont": {
          "color": "#ffffff",
          "family": "Courier New, monospace",
          "size": 30
         },
         "type": "scatter",
         "x": [
          20,
          30,
          40,
          50,
          60,
          70,
          80,
          90,
          100
         ],
         "y": [
          5,
          5,
          5,
          5,
          5,
          5,
          5,
          5,
          5
         ]
        },
        {
         "hoverinfo": "none",
         "mode": "text",
         "showlegend": false,
         "text": [
          "10",
          "20",
          "30",
          "40",
          "50",
          "40",
          "30",
          "20",
          "10"
         ],
         "textfont": {
          "color": "#ffffff",
          "family": "Courier New, monospace",
          "size": 30
         },
         "type": "scatter",
         "x": [
          20,
          30,
          40,
          50,
          60,
          70,
          80,
          90,
          100
         ],
         "y": [
          48.5,
          48.5,
          48.5,
          48.5,
          48.5,
          48.5,
          48.5,
          48.5,
          48.5
         ]
        },
        {
         "hoverinfo": "none",
         "line": {
          "color": "blue",
          "dash": "dash"
         },
         "showlegend": false,
         "type": "scatter",
         "x": [
          41,
          41
         ],
         "y": [
          0,
          53.5
         ]
        },
        {
         "hoverinfo": "none",
         "line": {
          "color": "yellow",
          "dash": "dash"
         },
         "showlegend": false,
         "type": "scatter",
         "x": [
          55,
          55
         ],
         "y": [
          0,
          53.5
         ]
        },
        {
         "hoverinfo": "text",
         "hovertext": [
          "nflId:33131<br>displayName:Calais Campbell<br>Position:DRT<br>Role:Pass Rush",
          "nflId:37240<br>displayName:Pernell McPhee<br>Position:ROLB<br>Role:Pass Rush",
          "nflId:40042<br>displayName:Brandon Williams<br>Position:NLT<br>Role:Pass Rush",
          "nflId:44828<br>displayName:Marlon Humphrey<br>Position:SCBiR<br>Role:Coverage",
          "nflId:44999<br>displayName:Chuck Clark<br>Position:LOLB<br>Role:Coverage",
          "nflId:46187<br>displayName:Anthony Averett<br>Position:SCBoR<br>Role:Coverage",
          "nflId:46259<br>displayName:DeShon Elliott<br>Position:LOLB<br>Role:Pass Rush",
          "nflId:48565<br>displayName:Chris Westry<br>Position:SCBiR<br>Role:Coverage",
          "nflId:52436<br>displayName:Patrick Queen<br>Position:MLB<br>Role:Coverage",
          "nflId:52506<br>displayName:Malik Harrison<br>Position:RCB<br>Role:Pass Rush",
          "nflId:53460<br>displayName:Odafe Oweh<br>Position:LOLB<br>Role:Pass Rush"
         ],
         "marker": {
          "color": "#241773"
         },
         "mode": "markers",
         "name": "BAL",
         "type": "scatter",
         "x": [
          39.86000061035156,
          39.869998931884766,
          40.02000045776367,
          39.779998779296875,
          39.66999816894531,
          34.65999984741211,
          39.939998626708984,
          38.0099983215332,
          37.20000076293945,
          39.720001220703125,
          39.5099983215332
         ],
         "y": [
          21.459999084472656,
          18.639999389648438,
          24.280000686645508,
          16.489999771118164,
          29.170000076293945,
          15.210000038146973,
          31.079999923706055,
          17.8799991607666,
          24.440000534057617,
          14.029999732971191,
          27.81999969482422
         ]
        },
        {
         "marker": {
          "color": "#241773"
         },
         "mode": "lines",
         "name": "BAL",
         "type": "scatter",
         "x": [
          39.86000061035156,
          39.869998931884766,
          40.02000045776367,
          39.779998779296875,
          39.66999816894531,
          34.65999984741211,
          39.939998626708984,
          38.0099983215332,
          37.20000076293945,
          39.720001220703125,
          39.5099983215332
         ],
         "y": [
          21.459999084472656,
          18.639999389648438,
          24.280000686645508,
          16.489999771118164,
          29.170000076293945,
          15.210000038146973,
          31.079999923706055,
          17.8799991607666,
          24.440000534057617,
          14.029999732971191,
          27.81999969482422
         ]
        },
        {
         "hoverinfo": "text",
         "hovertext": [
          "nflId:41265<br>displayName:Derek Carr<br>Position:QB<br>Role:Pass",
          "nflId:42547<br>displayName:Darren Waller<br>Position:LWR<br>Role:Pass Route",
          "nflId:43362<br>displayName:Kenyan Drake<br>Position:HB-L<br>Role:Pass Block",
          "nflId:44849<br>displayName:Zay Jones<br>Position:SLoWR<br>Role:Pass Route",
          "nflId:44972<br>displayName:Jermaine Eluemunor<br>Position:RG<br>Role:Pass Block",
          "nflId:46084<br>displayName:Kolton Miller<br>Position:LT<br>Role:Pass Block",
          "nflId:47920<br>displayName:Foster Moreau<br>Position:TE-R<br>Role:Pass Block",
          "nflId:47932<br>displayName:Hunter Renfrow<br>Position:SLiWR<br>Role:Pass Route",
          "nflId:48235<br>displayName:Andre James<br>Position:C<br>Role:Pass Block",
          "nflId:52517<br>displayName:John Simpson<br>Position:LG<br>Role:Pass Block",
          "nflId:53446<br>displayName:Alex Leatherwood<br>Position:RT<br>Role:Pass Block"
         ],
         "marker": {
          "color": "#000000"
         },
         "mode": "markers",
         "name": "LV",
         "type": "scatter",
         "x": [
          45.0099983215332,
          43.08000183105469,
          45.4900016784668,
          41.58000183105469,
          41.58000183105469,
          41.79999923706055,
          41.52000045776367,
          42.720001220703125,
          41.130001068115234,
          41.83000183105469,
          41.47999954223633
         ],
         "y": [
          23.780000686645508,
          14.470000267028809,
          21.84000015258789,
          16.479999542236328,
          25.40999984741211,
          20.65999984741211,
          28.56999969482422,
          17.520000457763672,
          23.790000915527344,
          22.290000915527344,
          27.139999389648438
         ]
        },
        {
         "marker": {
          "color": "#000000"
         },
         "mode": "lines",
         "name": "LV",
         "type": "scatter",
         "x": [
          45.0099983215332,
          43.08000183105469,
          45.4900016784668,
          41.58000183105469,
          41.58000183105469,
          41.79999923706055,
          41.52000045776367,
          42.720001220703125,
          41.130001068115234,
          41.83000183105469,
          41.47999954223633
         ],
         "y": [
          23.780000686645508,
          14.470000267028809,
          21.84000015258789,
          16.479999542236328,
          25.40999984741211,
          20.65999984741211,
          28.56999969482422,
          17.520000457763672,
          23.790000915527344,
          22.290000915527344,
          27.139999389648438
         ]
        },
        {
         "hoverinfo": "none",
         "marker": {
          "color": "#CBB67C"
         },
         "mode": "markers",
         "name": "football",
         "type": "scatter",
         "x": [
          41.40999984741211
         ],
         "y": [
          24.06999969482422
         ]
        }
       ],
       "frames": [
        {
         "data": [
          {
           "hoverinfo": "none",
           "mode": "text",
           "showlegend": false,
           "text": [
            "10",
            "20",
            "30",
            "40",
            "50",
            "40",
            "30",
            "20",
            "10"
           ],
           "textfont": {
            "color": "#ffffff",
            "family": "Courier New, monospace",
            "size": 30
           },
           "type": "scatter",
           "x": [
            20,
            30,
            40,
            50,
            60,
            70,
            80,
            90,
            100
           ],
           "y": [
            5,
            5,
            5,
            5,
            5,
            5,
            5,
            5,
            5
           ]
          },
          {
           "hoverinfo": "none",
           "mode": "text",
           "showlegend": false,
           "text": [
            "10",
            "20",
            "30",
            "40",
            "50",
            "40",
            "30",
            "20",
            "10"
           ],
           "textfont": {
            "color": "#ffffff",
            "family": "Courier New, monospace",
            "size": 30
           },
           "type": "scatter",
           "x": [
            20,
            30,
            40,
            50,
            60,
            70,
            80,
            90,
            100
           ],
           "y": [
            48.5,
            48.5,
            48.5,
            48.5,
            48.5,
            48.5,
            48.5,
            48.5,
            48.5
           ]
          },
          {
           "hoverinfo": "none",
           "line": {
            "color": "blue",
            "dash": "dash"
           },
           "showlegend": false,
           "type": "scatter",
           "x": [
            41,
            41
           ],
           "y": [
            0,
            53.5
           ]
          },
          {
           "hoverinfo": "none",
           "line": {
            "color": "yellow",
            "dash": "dash"
           },
           "showlegend": false,
           "type": "scatter",
           "x": [
            55,
            55
           ],
           "y": [
            0,
            53.5
           ]
          },
          {
           "hoverinfo": "text",
           "hovertext": [
            "nflId:33131<br>displayName:Calais Campbell<br>Position:DRT<br>Role:Pass Rush",
            "nflId:37240<br>displayName:Pernell McPhee<br>Position:ROLB<br>Role:Pass Rush",
            "nflId:40042<br>displayName:Brandon Williams<br>Position:NLT<br>Role:Pass Rush",
            "nflId:44828<br>displayName:Marlon Humphrey<br>Position:SCBiR<br>Role:Coverage",
            "nflId:44999<br>displayName:Chuck Clark<br>Position:LOLB<br>Role:Coverage",
            "nflId:46187<br>displayName:Anthony Averett<br>Position:SCBoR<br>Role:Coverage",
            "nflId:46259<br>displayName:DeShon Elliott<br>Position:LOLB<br>Role:Pass Rush",
            "nflId:48565<br>displayName:Chris Westry<br>Position:SCBiR<br>Role:Coverage",
            "nflId:52436<br>displayName:Patrick Queen<br>Position:MLB<br>Role:Coverage",
            "nflId:52506<br>displayName:Malik Harrison<br>Position:RCB<br>Role:Pass Rush",
            "nflId:53460<br>displayName:Odafe Oweh<br>Position:LOLB<br>Role:Pass Rush"
           ],
           "marker": {
            "color": "#241773"
           },
           "mode": "markers",
           "name": "BAL",
           "type": "scatter",
           "x": [
            39.880001068115234,
            39.900001525878906,
            40.060001373291016,
            39.720001220703125,
            39.68000030517578,
            34.630001068115234,
            39.95000076293945,
            38.02000045776367,
            37.290000915527344,
            39.7400016784668,
            39.529998779296875
           ],
           "y": [
            21.479999542236328,
            18.65999984741211,
            24.290000915527344,
            16.510000228881836,
            29.170000076293945,
            15.229999542236328,
            31.06999969482422,
            17.8799991607666,
            24.420000076293945,
            14.039999961853027,
            27.809999465942383
           ]
          },
          {
           "marker": {
            "color": "#241773"
           },
           "mode": "lines",
           "name": "BAL",
           "type": "scatter",
           "x": [
            39.880001068115234,
            39.900001525878906,
            40.060001373291016,
            39.720001220703125,
            39.68000030517578,
            34.630001068115234,
            39.95000076293945,
            38.02000045776367,
            37.290000915527344,
            39.7400016784668,
            39.529998779296875
           ],
           "y": [
            21.479999542236328,
            18.65999984741211,
            24.290000915527344,
            16.510000228881836,
            29.170000076293945,
            15.229999542236328,
            31.06999969482422,
            17.8799991607666,
            24.420000076293945,
            14.039999961853027,
            27.809999465942383
           ]
          },
          {
           "hoverinfo": "text",
           "hovertext": [
            "nflId:41265<br>displayName:Derek Carr<br>Position:QB<br>Role:Pass",
            "nflId:42547<br>displayName:Darren Waller<br>Position:LWR<br>Role:Pass Route",
            "nflId:43362<br>displayName:Kenyan Drake<br>Position:HB-L<br>Role:Pass Block",
            "nflId:44849<br>displayName:Zay Jones<br>Position:SLoWR<br>Role:Pass Route",
            "nflId:44972<br>displayName:Jermaine Eluemunor<br>Position:RG<br>Role:Pass Block",
            "nflId:46084<br>displayName:Kolton Miller<br>Position:LT<br>Role:Pass Block",
            "nflId:47920<br>displayName:Foster Moreau<br>Position:TE-R<br>Role:Pass Block",
            "nflId:47932<br>displayName:Hunter Renfrow<br>Position:SLiWR<br>Role:Pass Route",
            "nflId:48235<br>displayName:Andre James<br>Position:C<br>Role:Pass Block",
            "nflId:52517<br>displayName:John Simpson<br>Position:LG<br>Role:Pass Block",
            "nflId:53446<br>displayName:Alex Leatherwood<br>Position:RT<br>Role:Pass Block"
           ],
           "marker": {
            "color": "#000000"
           },
           "mode": "markers",
           "name": "LV",
           "type": "scatter",
           "x": [
            45.029998779296875,
            43.06999969482422,
            45.4900016784668,
            41.54999923706055,
            41.59000015258789,
            41.83000183105469,
            41.5099983215332,
            42.709999084472656,
            41.16999816894531,
            41.849998474121094,
            41.4900016784668
           ],
           "y": [
            23.770000457763672,
            14.470000267028809,
            21.84000015258789,
            16.510000228881836,
            25.350000381469727,
            20.639999389648438,
            28.549999237060547,
            17.520000457763672,
            23.790000915527344,
            22.280000686645508,
            27.139999389648438
           ]
          },
          {
           "marker": {
            "color": "#000000"
           },
           "mode": "lines",
           "name": "LV",
           "type": "scatter",
           "x": [
            45.029998779296875,
            43.06999969482422,
            45.4900016784668,
            41.54999923706055,
            41.59000015258789,
            41.83000183105469,
            41.5099983215332,
            42.709999084472656,
            41.16999816894531,
            41.849998474121094,
            41.4900016784668
           ],
           "y": [
            23.770000457763672,
            14.470000267028809,
            21.84000015258789,
            16.510000228881836,
            25.350000381469727,
            20.639999389648438,
            28.549999237060547,
            17.520000457763672,
            23.790000915527344,
            22.280000686645508,
            27.139999389648438
           ]
          },
          {
           "hoverinfo": "none",
           "marker": {
            "color": "#CBB67C"
           },
           "mode": "markers",
           "name": "football",
           "type": "scatter",
           "x": [
            42.029998779296875
           ],
           "y": [
            24.06999969482422
           ]
          }
         ],
         "name": "2"
        },
        {
         "data": [
          {
           "hoverinfo": "none",
           "mode": "text",
           "showlegend": false,
           "text": [
            "10",
            "20",
            "30",
            "40",
            "50",
            "40",
            "30",
            "20",
            "10"
           ],
           "textfont": {
            "color": "#ffffff",
            "family": "Courier New, monospace",
            "size": 30
           },
           "type": "scatter",
           "x": [
            20,
            30,
            40,
            50,
            60,
            70,
            80,
            90,
            100
           ],
           "y": [
            5,
            5,
            5,
            5,
            5,
            5,
            5,
            5,
            5
           ]
          },
          {
           "hoverinfo": "none",
           "mode": "text",
           "showlegend": false,
           "text": [
            "10",
            "20",
            "30",
            "40",
            "50",
            "40",
            "30",
            "20",
            "10"
           ],
           "textfont": {
            "color": "#ffffff",
            "family": "Courier New, monospace",
            "size": 30
           },
           "type": "scatter",
           "x": [
            20,
            30,
            40,
            50,
            60,
            70,
            80,
            90,
            100
           ],
           "y": [
            48.5,
            48.5,
            48.5,
            48.5,
            48.5,
            48.5,
            48.5,
            48.5,
            48.5
           ]
          },
          {
           "hoverinfo": "none",
           "line": {
            "color": "blue",
            "dash": "dash"
           },
           "showlegend": false,
           "type": "scatter",
           "x": [
            41,
            41
           ],
           "y": [
            0,
            53.5
           ]
          },
          {
           "hoverinfo": "none",
           "line": {
            "color": "yellow",
            "dash": "dash"
           },
           "showlegend": false,
           "type": "scatter",
           "x": [
            55,
            55
           ],
           "y": [
            0,
            53.5
           ]
          },
          {
           "hoverinfo": "text",
           "hovertext": [
            "nflId:33131<br>displayName:Calais Campbell<br>Position:DRT<br>Role:Pass Rush",
            "nflId:37240<br>displayName:Pernell McPhee<br>Position:ROLB<br>Role:Pass Rush",
            "nflId:40042<br>displayName:Brandon Williams<br>Position:NLT<br>Role:Pass Rush",
            "nflId:44828<br>displayName:Marlon Humphrey<br>Position:SCBiR<br>Role:Coverage",
            "nflId:44999<br>displayName:Chuck Clark<br>Position:LOLB<br>Role:Coverage",
            "nflId:46187<br>displayName:Anthony Averett<br>Position:SCBoR<br>Role:Coverage",
            "nflId:46259<br>displayName:DeShon Elliott<br>Position:LOLB<br>Role:Pass Rush",
            "nflId:48565<br>displayName:Chris Westry<br>Position:SCBiR<br>Role:Coverage",
            "nflId:52436<br>displayName:Patrick Queen<br>Position:MLB<br>Role:Coverage",
            "nflId:52506<br>displayName:Malik Harrison<br>Position:RCB<br>Role:Pass Rush",
            "nflId:53460<br>displayName:Odafe Oweh<br>Position:LOLB<br>Role:Pass Rush"
           ],
           "marker": {
            "color": "#241773"
           },
           "mode": "markers",
           "name": "BAL",
           "type": "scatter",
           "x": [
            39.900001525878906,
            39.959999084472656,
            40.130001068115234,
            39.689998626708984,
            39.689998626708984,
            34.59000015258789,
            39.970001220703125,
            38.02000045776367,
            37.380001068115234,
            39.779998779296875,
            39.560001373291016
           ],
           "y": [
            21.5,
            18.700000762939453,
            24.299999237060547,
            16.530000686645508,
            29.149999618530273,
            15.25,
            31.059999465942383,
            17.8799991607666,
            24.389999389648438,
            14.050000190734863,
            27.780000686645508
           ]
          },
          {
           "marker": {
            "color": "#241773"
           },
           "mode": "lines",
           "name": "BAL",
           "type": "scatter",
           "x": [
            39.900001525878906,
            39.959999084472656,
            40.130001068115234,
            39.689998626708984,
            39.689998626708984,
            34.59000015258789,
            39.970001220703125,
            38.02000045776367,
            37.380001068115234,
            39.779998779296875,
            39.560001373291016
           ],
           "y": [
            21.5,
            18.700000762939453,
            24.299999237060547,
            16.530000686645508,
            29.149999618530273,
            15.25,
            31.059999465942383,
            17.8799991607666,
            24.389999389648438,
            14.050000190734863,
            27.780000686645508
           ]
          },
          {
           "hoverinfo": "text",
           "hovertext": [
            "nflId:41265<br>displayName:Derek Carr<br>Position:QB<br>Role:Pass",
            "nflId:42547<br>displayName:Darren Waller<br>Position:LWR<br>Role:Pass Route",
            "nflId:43362<br>displayName:Kenyan Drake<br>Position:HB-L<br>Role:Pass Block",
            "nflId:44849<br>displayName:Zay Jones<br>Position:SLoWR<br>Role:Pass Route",
            "nflId:44972<br>displayName:Jermaine Eluemunor<br>Position:RG<br>Role:Pass Block",
            "nflId:46084<br>displayName:Kolton Miller<br>Position:LT<br>Role:Pass Block",
            "nflId:47920<br>displayName:Foster Moreau<br>Position:TE-R<br>Role:Pass Block",
            "nflId:47932<br>displayName:Hunter Renfrow<br>Position:SLiWR<br>Role:Pass Route",
            "nflId:48235<br>displayName:Andre James<br>Position:C<br>Role:Pass Block",
            "nflId:52517<br>displayName:John Simpson<br>Position:LG<br>Role:Pass Block",
            "nflId:53446<br>displayName:Alex Leatherwood<br>Position:RT<br>Role:Pass Block"
           ],
           "marker": {
            "color": "#000000"
           },
           "mode": "markers",
           "name": "LV",
           "type": "scatter",
           "x": [
            45.04999923706055,
            43.06999969482422,
            45.4900016784668,
            41.4900016784668,
            41.599998474121094,
            41.88999938964844,
            41.5,
            42.66999816894531,
            41.2400016784668,
            41.88999938964844,
            41.4900016784668
           ],
           "y": [
            23.770000457763672,
            14.470000267028809,
            21.850000381469727,
            16.579999923706055,
            25.290000915527344,
            20.6299991607666,
            28.520000457763672,
            17.530000686645508,
            23.770000457763672,
            22.270000457763672,
            27.1299991607666
           ]
          },
          {
           "marker": {
            "color": "#000000"
           },
           "mode": "lines",
           "name": "LV",
           "type": "scatter",
           "x": [
            45.04999923706055,
            43.06999969482422,
            45.4900016784668,
            41.4900016784668,
            41.599998474121094,
            41.88999938964844,
            41.5,
            42.66999816894531,
            41.2400016784668,
            41.88999938964844,
            41.4900016784668
           ],
           "y": [
            23.770000457763672,
            14.470000267028809,
            21.850000381469727,
            16.579999923706055,
            25.290000915527344,
            20.6299991607666,
            28.520000457763672,
            17.530000686645508,
            23.770000457763672,
            22.270000457763672,
            27.1299991607666
           ]
          },
          {
           "hoverinfo": "none",
           "marker": {
            "color": "#CBB67C"
           },
           "mode": "markers",
           "name": "football",
           "type": "scatter",
           "x": [
            42.630001068115234
           ],
           "y": [
            24.059999465942383
           ]
          }
         ],
         "name": "3"
        },
        {
         "data": [
          {
           "hoverinfo": "none",
           "mode": "text",
           "showlegend": false,
           "text": [
            "10",
            "20",
            "30",
            "40",
            "50",
            "40",
            "30",
            "20",
            "10"
           ],
           "textfont": {
            "color": "#ffffff",
            "family": "Courier New, monospace",
            "size": 30
           },
           "type": "scatter",
           "x": [
            20,
            30,
            40,
            50,
            60,
            70,
            80,
            90,
            100
           ],
           "y": [
            5,
            5,
            5,
            5,
            5,
            5,
            5,
            5,
            5
           ]
          },
          {
           "hoverinfo": "none",
           "mode": "text",
           "showlegend": false,
           "text": [
            "10",
            "20",
            "30",
            "40",
            "50",
            "40",
            "30",
            "20",
            "10"
           ],
           "textfont": {
            "color": "#ffffff",
            "family": "Courier New, monospace",
            "size": 30
           },
           "type": "scatter",
           "x": [
            20,
            30,
            40,
            50,
            60,
            70,
            80,
            90,
            100
           ],
           "y": [
            48.5,
            48.5,
            48.5,
            48.5,
            48.5,
            48.5,
            48.5,
            48.5,
            48.5
           ]
          },
          {
           "hoverinfo": "none",
           "line": {
            "color": "blue",
            "dash": "dash"
           },
           "showlegend": false,
           "type": "scatter",
           "x": [
            41,
            41
           ],
           "y": [
            0,
            53.5
           ]
          },
          {
           "hoverinfo": "none",
           "line": {
            "color": "yellow",
            "dash": "dash"
           },
           "showlegend": false,
           "type": "scatter",
           "x": [
            55,
            55
           ],
           "y": [
            0,
            53.5
           ]
          },
          {
           "hoverinfo": "text",
           "hovertext": [
            "nflId:33131<br>displayName:Calais Campbell<br>Position:DRT<br>Role:Pass Rush",
            "nflId:37240<br>displayName:Pernell McPhee<br>Position:ROLB<br>Role:Pass Rush",
            "nflId:40042<br>displayName:Brandon Williams<br>Position:NLT<br>Role:Pass Rush",
            "nflId:44828<br>displayName:Marlon Humphrey<br>Position:SCBiR<br>Role:Coverage",
            "nflId:44999<br>displayName:Chuck Clark<br>Position:LOLB<br>Role:Coverage",
            "nflId:46187<br>displayName:Anthony Averett<br>Position:SCBoR<br>Role:Coverage",
            "nflId:46259<br>displayName:DeShon Elliott<br>Position:LOLB<br>Role:Pass Rush",
            "nflId:48565<br>displayName:Chris Westry<br>Position:SCBiR<br>Role:Coverage",
            "nflId:52436<br>displayName:Patrick Queen<br>Position:MLB<br>Role:Coverage",
            "nflId:52506<br>displayName:Malik Harrison<br>Position:RCB<br>Role:Pass Rush",
            "nflId:53460<br>displayName:Odafe Oweh<br>Position:LOLB<br>Role:Pass Rush"
           ],
           "marker": {
            "color": "#241773"
           },
           "mode": "markers",
           "name": "BAL",
           "type": "scatter",
           "x": [
            39.970001220703125,
            40.04999923706055,
            40.2599983215332,
            39.650001525878906,
            39.70000076293945,
            34.560001373291016,
            40.0099983215332,
            38.02000045776367,
            37.4900016784668,
            39.83000183105469,
            39.630001068115234
           ],
           "y": [
            21.559999465942383,
            18.760000228881836,
            24.31999969482422,
            16.559999465942383,
            29.149999618530273,
            15.270000457763672,
            31.030000686645508,
            17.8799991607666,
            24.350000381469727,
            14.079999923706055,
            27.719999313354492
           ]
          },
          {
           "marker": {
            "color": "#241773"
           },
           "mode": "lines",
           "name": "BAL",
           "type": "scatter",
           "x": [
            39.970001220703125,
            40.04999923706055,
            40.2599983215332,
            39.650001525878906,
            39.70000076293945,
            34.560001373291016,
            40.0099983215332,
            38.02000045776367,
            37.4900016784668,
            39.83000183105469,
            39.630001068115234
           ],
           "y": [
            21.559999465942383,
            18.760000228881836,
            24.31999969482422,
            16.559999465942383,
            29.149999618530273,
            15.270000457763672,
            31.030000686645508,
            17.8799991607666,
            24.350000381469727,
            14.079999923706055,
            27.719999313354492
           ]
          },
          {
           "hoverinfo": "text",
           "hovertext": [
            "nflId:41265<br>displayName:Derek Carr<br>Position:QB<br>Role:Pass",
            "nflId:42547<br>displayName:Darren Waller<br>Position:LWR<br>Role:Pass Route",
            "nflId:43362<br>displayName:Kenyan Drake<br>Position:HB-L<br>Role:Pass Block",
            "nflId:44849<br>displayName:Zay Jones<br>Position:SLoWR<br>Role:Pass Route",
            "nflId:44972<br>displayName:Jermaine Eluemunor<br>Position:RG<br>Role:Pass Block",
            "nflId:46084<br>displayName:Kolton Miller<br>Position:LT<br>Role:Pass Block",
            "nflId:47920<br>displayName:Foster Moreau<br>Position:TE-R<br>Role:Pass Block",
            "nflId:47932<br>displayName:Hunter Renfrow<br>Position:SLiWR<br>Role:Pass Route",
            "nflId:48235<br>displayName:Andre James<br>Position:C<br>Role:Pass Block",
            "nflId:52517<br>displayName:John Simpson<br>Position:LG<br>Role:Pass Block",
            "nflId:53446<br>displayName:Alex Leatherwood<br>Position:RT<br>Role:Pass Block"
           ],
           "marker": {
            "color": "#000000"
           },
           "mode": "markers",
           "name": "LV",
           "type": "scatter",
           "x": [
            45.11000061035156,
            43.040000915527344,
            45.47999954223633,
            41.369998931884766,
            41.63999938964844,
            41.97999954223633,
            41.47999954223633,
            42.59000015258789,
            41.310001373291016,
            41.939998626708984,
            41.5
           ],
           "y": [
            23.770000457763672,
            14.460000038146973,
            21.8700008392334,
            16.68000030517578,
            25.209999084472656,
            20.610000610351562,
            28.469999313354492,
            17.530000686645508,
            23.760000228881836,
            22.260000228881836,
            27.1200008392334
           ]
          },
          {
           "marker": {
            "color": "#000000"
           },
           "mode": "lines",
           "name": "LV",
           "type": "scatter",
           "x": [
            45.11000061035156,
            43.040000915527344,
            45.47999954223633,
            41.369998931884766,
            41.63999938964844,
            41.97999954223633,
            41.47999954223633,
            42.59000015258789,
            41.310001373291016,
            41.939998626708984,
            41.5
           ],
           "y": [
            23.770000457763672,
            14.460000038146973,
            21.8700008392334,
            16.68000030517578,
            25.209999084472656,
            20.610000610351562,
            28.469999313354492,
            17.530000686645508,
            23.760000228881836,
            22.260000228881836,
            27.1200008392334
           ]
          },
          {
           "hoverinfo": "none",
           "marker": {
            "color": "#CBB67C"
           },
           "mode": "markers",
           "name": "football",
           "type": "scatter",
           "x": [
            43.27000045776367
           ],
           "y": [
            24.040000915527344
           ]
          }
         ],
         "name": "4"
        },
        {
         "data": [
          {
           "hoverinfo": "none",
           "mode": "text",
           "showlegend": false,
           "text": [
            "10",
            "20",
            "30",
            "40",
            "50",
            "40",
            "30",
            "20",
            "10"
           ],
           "textfont": {
            "color": "#ffffff",
            "family": "Courier New, monospace",
            "size": 30
           },
           "type": "scatter",
           "x": [
            20,
            30,
            40,
            50,
            60,
            70,
            80,
            90,
            100
           ],
           "y": [
            5,
            5,
            5,
            5,
            5,
            5,
            5,
            5,
            5
           ]
          },
          {
           "hoverinfo": "none",
           "mode": "text",
           "showlegend": false,
           "text": [
            "10",
            "20",
            "30",
            "40",
            "50",
            "40",
            "30",
            "20",
            "10"
           ],
           "textfont": {
            "color": "#ffffff",
            "family": "Courier New, monospace",
            "size": 30
           },
           "type": "scatter",
           "x": [
            20,
            30,
            40,
            50,
            60,
            70,
            80,
            90,
            100
           ],
           "y": [
            48.5,
            48.5,
            48.5,
            48.5,
            48.5,
            48.5,
            48.5,
            48.5,
            48.5
           ]
          },
          {
           "hoverinfo": "none",
           "line": {
            "color": "blue",
            "dash": "dash"
           },
           "showlegend": false,
           "type": "scatter",
           "x": [
            41,
            41
           ],
           "y": [
            0,
            53.5
           ]
          },
          {
           "hoverinfo": "none",
           "line": {
            "color": "yellow",
            "dash": "dash"
           },
           "showlegend": false,
           "type": "scatter",
           "x": [
            55,
            55
           ],
           "y": [
            0,
            53.5
           ]
          },
          {
           "hoverinfo": "text",
           "hovertext": [
            "nflId:33131<br>displayName:Calais Campbell<br>Position:DRT<br>Role:Pass Rush",
            "nflId:37240<br>displayName:Pernell McPhee<br>Position:ROLB<br>Role:Pass Rush",
            "nflId:40042<br>displayName:Brandon Williams<br>Position:NLT<br>Role:Pass Rush",
            "nflId:44828<br>displayName:Marlon Humphrey<br>Position:SCBiR<br>Role:Coverage",
            "nflId:44999<br>displayName:Chuck Clark<br>Position:LOLB<br>Role:Coverage",
            "nflId:46187<br>displayName:Anthony Averett<br>Position:SCBoR<br>Role:Coverage",
            "nflId:46259<br>displayName:DeShon Elliott<br>Position:LOLB<br>Role:Pass Rush",
            "nflId:48565<br>displayName:Chris Westry<br>Position:SCBiR<br>Role:Coverage",
            "nflId:52436<br>displayName:Patrick Queen<br>Position:MLB<br>Role:Coverage",
            "nflId:52506<br>displayName:Malik Harrison<br>Position:RCB<br>Role:Pass Rush",
            "nflId:53460<br>displayName:Odafe Oweh<br>Position:LOLB<br>Role:Pass Rush"
           ],
           "marker": {
            "color": "#241773"
           },
           "mode": "markers",
           "name": "BAL",
           "type": "scatter",
           "x": [
            40.06999969482422,
            40.18000030517578,
            40.41999816894531,
            39.619998931884766,
            39.720001220703125,
            34.52000045776367,
            40.099998474121094,
            38.02000045776367,
            37.61000061035156,
            39.900001525878906,
            39.72999954223633
           ],
           "y": [
            21.6299991607666,
            18.850000381469727,
            24.34000015258789,
            16.579999923706055,
            29.1299991607666,
            15.279999732971191,
            30.979999542236328,
            17.8700008392334,
            24.31999969482422,
            14.119999885559082,
            27.610000610351562
           ]
          },
          {
           "marker": {
            "color": "#241773"
           },
           "mode": "lines",
           "name": "BAL",
           "type": "scatter",
           "x": [
            40.06999969482422,
            40.18000030517578,
            40.41999816894531,
            39.619998931884766,
            39.720001220703125,
            34.52000045776367,
            40.099998474121094,
            38.02000045776367,
            37.61000061035156,
            39.900001525878906,
            39.72999954223633
           ],
           "y": [
            21.6299991607666,
            18.850000381469727,
            24.34000015258789,
            16.579999923706055,
            29.1299991607666,
            15.279999732971191,
            30.979999542236328,
            17.8700008392334,
            24.31999969482422,
            14.119999885559082,
            27.610000610351562
           ]
          },
          {
           "hoverinfo": "text",
           "hovertext": [
            "nflId:41265<br>displayName:Derek Carr<br>Position:QB<br>Role:Pass",
            "nflId:42547<br>displayName:Darren Waller<br>Position:LWR<br>Role:Pass Route",
            "nflId:43362<br>displayName:Kenyan Drake<br>Position:HB-L<br>Role:Pass Block",
            "nflId:44849<br>displayName:Zay Jones<br>Position:SLoWR<br>Role:Pass Route",
            "nflId:44972<br>displayName:Jermaine Eluemunor<br>Position:RG<br>Role:Pass Block",
            "nflId:46084<br>displayName:Kolton Miller<br>Position:LT<br>Role:Pass Block",
            "nflId:47920<br>displayName:Foster Moreau<br>Position:TE-R<br>Role:Pass Block",
            "nflId:47932<br>displayName:Hunter Renfrow<br>Position:SLiWR<br>Role:Pass Route",
            "nflId:48235<br>displayName:Andre James<br>Position:C<br>Role:Pass Block",
            "nflId:52517<br>displayName:John Simpson<br>Position:LG<br>Role:Pass Block",
            "nflId:53446<br>displayName:Alex Leatherwood<br>Position:RT<br>Role:Pass Block"
           ],
           "marker": {
            "color": "#000000"
           },
           "mode": "markers",
           "name": "LV",
           "type": "scatter",
           "x": [
            45.209999084472656,
            42.9900016784668,
            45.470001220703125,
            41.22999954223633,
            41.689998626708984,
            42.09000015258789,
            41.459999084472656,
            42.47999954223633,
            41.40999984741211,
            42.029998779296875,
            41.5099983215332
           ],
           "y": [
            23.75,
            14.4399995803833,
            21.90999984741211,
            16.809999465942383,
            25.1299991607666,
            20.579999923706055,
            28.40999984741211,
            17.530000686645508,
            23.739999771118164,
            22.239999771118164,
            27.09000015258789
           ]
          },
          {
           "marker": {
            "color": "#000000"
           },
           "mode": "lines",
           "name": "LV",
           "type": "scatter",
           "x": [
            45.209999084472656,
            42.9900016784668,
            45.470001220703125,
            41.22999954223633,
            41.689998626708984,
            42.09000015258789,
            41.459999084472656,
            42.47999954223633,
            41.40999984741211,
            42.029998779296875,
            41.5099983215332
           ],
           "y": [
            23.75,
            14.4399995803833,
            21.90999984741211,
            16.809999465942383,
            25.1299991607666,
            20.579999923706055,
            28.40999984741211,
            17.530000686645508,
            23.739999771118164,
            22.239999771118164,
            27.09000015258789
           ]
          },
          {
           "hoverinfo": "none",
           "marker": {
            "color": "#CBB67C"
           },
           "mode": "markers",
           "name": "football",
           "type": "scatter",
           "x": [
            43.849998474121094
           ],
           "y": [
            24.020000457763672
           ]
          }
         ],
         "name": "5"
        },
        {
         "data": [
          {
           "hoverinfo": "none",
           "mode": "text",
           "showlegend": false,
           "text": [
            "10",
            "20",
            "30",
            "40",
            "50",
            "40",
            "30",
            "20",
            "10"
           ],
           "textfont": {
            "color": "#ffffff",
            "family": "Courier New, monospace",
            "size": 30
           },
           "type": "scatter",
           "x": [
            20,
            30,
            40,
            50,
            60,
            70,
            80,
            90,
            100
           ],
           "y": [
            5,
            5,
            5,
            5,
            5,
            5,
            5,
            5,
            5
           ]
          },
          {
           "hoverinfo": "none",
           "mode": "text",
           "showlegend": false,
           "text": [
            "10",
            "20",
            "30",
            "40",
            "50",
            "40",
            "30",
            "20",
            "10"
           ],
           "textfont": {
            "color": "#ffffff",
            "family": "Courier New, monospace",
            "size": 30
           },
           "type": "scatter",
           "x": [
            20,
            30,
            40,
            50,
            60,
            70,
            80,
            90,
            100
           ],
           "y": [
            48.5,
            48.5,
            48.5,
            48.5,
            48.5,
            48.5,
            48.5,
            48.5,
            48.5
           ]
          },
          {
           "hoverinfo": "none",
           "line": {
            "color": "blue",
            "dash": "dash"
           },
           "showlegend": false,
           "type": "scatter",
           "x": [
            41,
            41
           ],
           "y": [
            0,
            53.5
           ]
          },
          {
           "hoverinfo": "none",
           "line": {
            "color": "yellow",
            "dash": "dash"
           },
           "showlegend": false,
           "type": "scatter",
           "x": [
            55,
            55
           ],
           "y": [
            0,
            53.5
           ]
          },
          {
           "hoverinfo": "text",
           "hovertext": [
            "nflId:33131<br>displayName:Calais Campbell<br>Position:DRT<br>Role:Pass Rush",
            "nflId:37240<br>displayName:Pernell McPhee<br>Position:ROLB<br>Role:Pass Rush",
            "nflId:40042<br>displayName:Brandon Williams<br>Position:NLT<br>Role:Pass Rush",
            "nflId:44828<br>displayName:Marlon Humphrey<br>Position:SCBiR<br>Role:Coverage",
            "nflId:44999<br>displayName:Chuck Clark<br>Position:LOLB<br>Role:Coverage",
            "nflId:46187<br>displayName:Anthony Averett<br>Position:SCBoR<br>Role:Coverage",
            "nflId:46259<br>displayName:DeShon Elliott<br>Position:LOLB<br>Role:Pass Rush",
            "nflId:48565<br>displayName:Chris Westry<br>Position:SCBiR<br>Role:Coverage",
            "nflId:52436<br>displayName:Patrick Queen<br>Position:MLB<br>Role:Coverage",
            "nflId:52506<br>displayName:Malik Harrison<br>Position:RCB<br>Role:Pass Rush",
            "nflId:53460<br>displayName:Odafe Oweh<br>Position:LOLB<br>Role:Pass Rush"
           ],
           "marker": {
            "color": "#241773"
           },
           "mode": "markers",
           "name": "BAL",
           "type": "scatter",
           "x": [
            40.22999954223633,
            40.34000015258789,
            40.599998474121094,
            39.560001373291016,
            39.7400016784668,
            34.4900016784668,
            40.22999954223633,
            38.02000045776367,
            37.75,
            40.02000045776367,
            39.869998931884766
           ],
           "y": [
            21.729999542236328,
            18.969999313354492,
            24.3700008392334,
            16.6200008392334,
            29.110000610351562,
            15.279999732971191,
            30.899999618530273,
            17.8700008392334,
            24.280000686645508,
            14.1899995803833,
            27.489999771118164
           ]
          },
          {
           "marker": {
            "color": "#241773"
           },
           "mode": "lines",
           "name": "BAL",
           "type": "scatter",
           "x": [
            40.22999954223633,
            40.34000015258789,
            40.599998474121094,
            39.560001373291016,
            39.7400016784668,
            34.4900016784668,
            40.22999954223633,
            38.02000045776367,
            37.75,
            40.02000045776367,
            39.869998931884766
           ],
           "y": [
            21.729999542236328,
            18.969999313354492,
            24.3700008392334,
            16.6200008392334,
            29.110000610351562,
            15.279999732971191,
            30.899999618530273,
            17.8700008392334,
            24.280000686645508,
            14.1899995803833,
            27.489999771118164
           ]
          },
          {
           "hoverinfo": "text",
           "hovertext": [
            "nflId:41265<br>displayName:Derek Carr<br>Position:QB<br>Role:Pass",
            "nflId:42547<br>displayName:Darren Waller<br>Position:LWR<br>Role:Pass Route",
            "nflId:43362<br>displayName:Kenyan Drake<br>Position:HB-L<br>Role:Pass Block",
            "nflId:44849<br>displayName:Zay Jones<br>Position:SLoWR<br>Role:Pass Route",
            "nflId:44972<br>displayName:Jermaine Eluemunor<br>Position:RG<br>Role:Pass Block",
            "nflId:46084<br>displayName:Kolton Miller<br>Position:LT<br>Role:Pass Block",
            "nflId:47920<br>displayName:Foster Moreau<br>Position:TE-R<br>Role:Pass Block",
            "nflId:47932<br>displayName:Hunter Renfrow<br>Position:SLiWR<br>Role:Pass Route",
            "nflId:48235<br>displayName:Andre James<br>Position:C<br>Role:Pass Block",
            "nflId:52517<br>displayName:John Simpson<br>Position:LG<br>Role:Pass Block",
            "nflId:53446<br>displayName:Alex Leatherwood<br>Position:RT<br>Role:Pass Block"
           ],
           "marker": {
            "color": "#000000"
           },
           "mode": "markers",
           "name": "LV",
           "type": "scatter",
           "x": [
            45.36000061035156,
            42.88999938964844,
            45.439998626708984,
            41.04999923706055,
            41.7599983215332,
            42.220001220703125,
            41.45000076293945,
            42.31999969482422,
            41.529998779296875,
            42.119998931884766,
            41.529998779296875
           ],
           "y": [
            23.729999542236328,
            14.399999618530273,
            22,
            17,
            25.049999237060547,
            20.56999969482422,
            28.34000015258789,
            17.510000228881836,
            23.709999084472656,
            22.219999313354492,
            27.049999237060547
           ]
          },
          {
           "marker": {
            "color": "#000000"
           },
           "mode": "lines",
           "name": "LV",
           "type": "scatter",
           "x": [
            45.36000061035156,
            42.88999938964844,
            45.439998626708984,
            41.04999923706055,
            41.7599983215332,
            42.220001220703125,
            41.45000076293945,
            42.31999969482422,
            41.529998779296875,
            42.119998931884766,
            41.529998779296875
           ],
           "y": [
            23.729999542236328,
            14.399999618530273,
            22,
            17,
            25.049999237060547,
            20.56999969482422,
            28.34000015258789,
            17.510000228881836,
            23.709999084472656,
            22.219999313354492,
            27.049999237060547
           ]
          },
          {
           "hoverinfo": "none",
           "marker": {
            "color": "#CBB67C"
           },
           "mode": "markers",
           "name": "football",
           "type": "scatter",
           "x": [
            44.38999938964844
           ],
           "y": [
            24.010000228881836
           ]
          }
         ],
         "name": "6"
        },
        {
         "data": [
          {
           "hoverinfo": "none",
           "mode": "text",
           "showlegend": false,
           "text": [
            "10",
            "20",
            "30",
            "40",
            "50",
            "40",
            "30",
            "20",
            "10"
           ],
           "textfont": {
            "color": "#ffffff",
            "family": "Courier New, monospace",
            "size": 30
           },
           "type": "scatter",
           "x": [
            20,
            30,
            40,
            50,
            60,
            70,
            80,
            90,
            100
           ],
           "y": [
            5,
            5,
            5,
            5,
            5,
            5,
            5,
            5,
            5
           ]
          },
          {
           "hoverinfo": "none",
           "mode": "text",
           "showlegend": false,
           "text": [
            "10",
            "20",
            "30",
            "40",
            "50",
            "40",
            "30",
            "20",
            "10"
           ],
           "textfont": {
            "color": "#ffffff",
            "family": "Courier New, monospace",
            "size": 30
           },
           "type": "scatter",
           "x": [
            20,
            30,
            40,
            50,
            60,
            70,
            80,
            90,
            100
           ],
           "y": [
            48.5,
            48.5,
            48.5,
            48.5,
            48.5,
            48.5,
            48.5,
            48.5,
            48.5
           ]
          },
          {
           "hoverinfo": "none",
           "line": {
            "color": "blue",
            "dash": "dash"
           },
           "showlegend": false,
           "type": "scatter",
           "x": [
            41,
            41
           ],
           "y": [
            0,
            53.5
           ]
          },
          {
           "hoverinfo": "none",
           "line": {
            "color": "yellow",
            "dash": "dash"
           },
           "showlegend": false,
           "type": "scatter",
           "x": [
            55,
            55
           ],
           "y": [
            0,
            53.5
           ]
          },
          {
           "hoverinfo": "text",
           "hovertext": [
            "nflId:33131<br>displayName:Calais Campbell<br>Position:DRT<br>Role:Pass Rush",
            "nflId:37240<br>displayName:Pernell McPhee<br>Position:ROLB<br>Role:Pass Rush",
            "nflId:40042<br>displayName:Brandon Williams<br>Position:NLT<br>Role:Pass Rush",
            "nflId:44828<br>displayName:Marlon Humphrey<br>Position:SCBiR<br>Role:Coverage",
            "nflId:44999<br>displayName:Chuck Clark<br>Position:LOLB<br>Role:Coverage",
            "nflId:46187<br>displayName:Anthony Averett<br>Position:SCBoR<br>Role:Coverage",
            "nflId:46259<br>displayName:DeShon Elliott<br>Position:LOLB<br>Role:Pass Rush",
            "nflId:48565<br>displayName:Chris Westry<br>Position:SCBiR<br>Role:Coverage",
            "nflId:52436<br>displayName:Patrick Queen<br>Position:MLB<br>Role:Coverage",
            "nflId:52506<br>displayName:Malik Harrison<br>Position:RCB<br>Role:Pass Rush",
            "nflId:53460<br>displayName:Odafe Oweh<br>Position:LOLB<br>Role:Pass Rush"
           ],
           "marker": {
            "color": "#241773"
           },
           "mode": "markers",
           "name": "BAL",
           "type": "scatter",
           "x": [
            40.38999938964844,
            40.540000915527344,
            40.79999923706055,
            39.470001220703125,
            39.810001373291016,
            34.459999084472656,
            40.41999816894531,
            38.02000045776367,
            37.900001525878906,
            40.16999816894531,
            40.04999923706055
           ],
           "y": [
            21.829999923706055,
            19.1299991607666,
            24.389999389648438,
            16.709999084472656,
            29.059999465942383,
            15.300000190734863,
            30.790000915527344,
            17.8700008392334,
            24.260000228881836,
            14.300000190734863,
            27.31999969482422
           ]
          },
          {
           "marker": {
            "color": "#241773"
           },
           "mode": "lines",
           "name": "BAL",
           "type": "scatter",
           "x": [
            40.38999938964844,
            40.540000915527344,
            40.79999923706055,
            39.470001220703125,
            39.810001373291016,
            34.459999084472656,
            40.41999816894531,
            38.02000045776367,
            37.900001525878906,
            40.16999816894531,
            40.04999923706055
           ],
           "y": [
            21.829999923706055,
            19.1299991607666,
            24.389999389648438,
            16.709999084472656,
            29.059999465942383,
            15.300000190734863,
            30.790000915527344,
            17.8700008392334,
            24.260000228881836,
            14.300000190734863,
            27.31999969482422
           ]
          },
          {
           "hoverinfo": "text",
           "hovertext": [
            "nflId:41265<br>displayName:Derek Carr<br>Position:QB<br>Role:Pass",
            "nflId:42547<br>displayName:Darren Waller<br>Position:LWR<br>Role:Pass Route",
            "nflId:43362<br>displayName:Kenyan Drake<br>Position:HB-L<br>Role:Pass Block",
            "nflId:44849<br>displayName:Zay Jones<br>Position:SLoWR<br>Role:Pass Route",
            "nflId:44972<br>displayName:Jermaine Eluemunor<br>Position:RG<br>Role:Pass Block",
            "nflId:46084<br>displayName:Kolton Miller<br>Position:LT<br>Role:Pass Block",
            "nflId:47920<br>displayName:Foster Moreau<br>Position:TE-R<br>Role:Pass Block",
            "nflId:47932<br>displayName:Hunter Renfrow<br>Position:SLiWR<br>Role:Pass Route",
            "nflId:48235<br>displayName:Andre James<br>Position:C<br>Role:Pass Block",
            "nflId:52517<br>displayName:John Simpson<br>Position:LG<br>Role:Pass Block",
            "nflId:53446<br>displayName:Alex Leatherwood<br>Position:RT<br>Role:Pass Block"
           ],
           "marker": {
            "color": "#000000"
           },
           "mode": "markers",
           "name": "LV",
           "type": "scatter",
           "x": [
            45.560001373291016,
            42.77000045776367,
            45.400001525878906,
            40.84000015258789,
            41.86000061035156,
            42.349998474121094,
            41.439998626708984,
            42.119998931884766,
            41.66999816894531,
            42.25,
            41.54999923706055
           ],
           "y": [
            23.729999542236328,
            14.350000381469727,
            22.1200008392334,
            17.209999084472656,
            24.979999542236328,
            20.559999465942383,
            28.260000228881836,
            17.459999084472656,
            23.670000076293945,
            22.200000762939453,
            27
           ]
          },
          {
           "marker": {
            "color": "#000000"
           },
           "mode": "lines",
           "name": "LV",
           "type": "scatter",
           "x": [
            45.560001373291016,
            42.77000045776367,
            45.400001525878906,
            40.84000015258789,
            41.86000061035156,
            42.349998474121094,
            41.439998626708984,
            42.119998931884766,
            41.66999816894531,
            42.25,
            41.54999923706055
           ],
           "y": [
            23.729999542236328,
            14.350000381469727,
            22.1200008392334,
            17.209999084472656,
            24.979999542236328,
            20.559999465942383,
            28.260000228881836,
            17.459999084472656,
            23.670000076293945,
            22.200000762939453,
            27
           ]
          },
          {
           "hoverinfo": "none",
           "marker": {
            "color": "#CBB67C"
           },
           "mode": "markers",
           "name": "football",
           "type": "scatter",
           "x": [
            44.9900016784668
           ],
           "y": [
            24
           ]
          }
         ],
         "name": "7"
        },
        {
         "data": [
          {
           "hoverinfo": "none",
           "mode": "text",
           "showlegend": false,
           "text": [
            "10",
            "20",
            "30",
            "40",
            "50",
            "40",
            "30",
            "20",
            "10"
           ],
           "textfont": {
            "color": "#ffffff",
            "family": "Courier New, monospace",
            "size": 30
           },
           "type": "scatter",
           "x": [
            20,
            30,
            40,
            50,
            60,
            70,
            80,
            90,
            100
           ],
           "y": [
            5,
            5,
            5,
            5,
            5,
            5,
            5,
            5,
            5
           ]
          },
          {
           "hoverinfo": "none",
           "mode": "text",
           "showlegend": false,
           "text": [
            "10",
            "20",
            "30",
            "40",
            "50",
            "40",
            "30",
            "20",
            "10"
           ],
           "textfont": {
            "color": "#ffffff",
            "family": "Courier New, monospace",
            "size": 30
           },
           "type": "scatter",
           "x": [
            20,
            30,
            40,
            50,
            60,
            70,
            80,
            90,
            100
           ],
           "y": [
            48.5,
            48.5,
            48.5,
            48.5,
            48.5,
            48.5,
            48.5,
            48.5,
            48.5
           ]
          },
          {
           "hoverinfo": "none",
           "line": {
            "color": "blue",
            "dash": "dash"
           },
           "showlegend": false,
           "type": "scatter",
           "x": [
            41,
            41
           ],
           "y": [
            0,
            53.5
           ]
          },
          {
           "hoverinfo": "none",
           "line": {
            "color": "yellow",
            "dash": "dash"
           },
           "showlegend": false,
           "type": "scatter",
           "x": [
            55,
            55
           ],
           "y": [
            0,
            53.5
           ]
          },
          {
           "hoverinfo": "text",
           "hovertext": [
            "nflId:33131<br>displayName:Calais Campbell<br>Position:DRT<br>Role:Pass Rush",
            "nflId:37240<br>displayName:Pernell McPhee<br>Position:ROLB<br>Role:Pass Rush",
            "nflId:40042<br>displayName:Brandon Williams<br>Position:NLT<br>Role:Pass Rush",
            "nflId:44828<br>displayName:Marlon Humphrey<br>Position:SCBiR<br>Role:Coverage",
            "nflId:44999<br>displayName:Chuck Clark<br>Position:LOLB<br>Role:Coverage",
            "nflId:46187<br>displayName:Anthony Averett<br>Position:SCBoR<br>Role:Coverage",
            "nflId:46259<br>displayName:DeShon Elliott<br>Position:LOLB<br>Role:Pass Rush",
            "nflId:48565<br>displayName:Chris Westry<br>Position:SCBiR<br>Role:Coverage",
            "nflId:52436<br>displayName:Patrick Queen<br>Position:MLB<br>Role:Coverage",
            "nflId:52506<br>displayName:Malik Harrison<br>Position:RCB<br>Role:Pass Rush",
            "nflId:53460<br>displayName:Odafe Oweh<br>Position:LOLB<br>Role:Pass Rush"
           ],
           "marker": {
            "color": "#241773"
           },
           "mode": "markers",
           "name": "BAL",
           "type": "scatter",
           "x": [
            40.63999938964844,
            40.75,
            41.040000915527344,
            39.349998474121094,
            39.88999938964844,
            34.40999984741211,
            40.65999984741211,
            38.0099983215332,
            38.06999969482422,
            40.369998931884766,
            40.25
           ],
           "y": [
            21.950000762939453,
            19.309999465942383,
            24.40999984741211,
            16.850000381469727,
            29,
            15.3100004196167,
            30.65999984741211,
            17.860000610351562,
            24.25,
            14.4399995803833,
            27.1299991607666
           ]
          },
          {
           "marker": {
            "color": "#241773"
           },
           "mode": "lines",
           "name": "BAL",
           "type": "scatter",
           "x": [
            40.63999938964844,
            40.75,
            41.040000915527344,
            39.349998474121094,
            39.88999938964844,
            34.40999984741211,
            40.65999984741211,
            38.0099983215332,
            38.06999969482422,
            40.369998931884766,
            40.25
           ],
           "y": [
            21.950000762939453,
            19.309999465942383,
            24.40999984741211,
            16.850000381469727,
            29,
            15.3100004196167,
            30.65999984741211,
            17.860000610351562,
            24.25,
            14.4399995803833,
            27.1299991607666
           ]
          },
          {
           "hoverinfo": "text",
           "hovertext": [
            "nflId:41265<br>displayName:Derek Carr<br>Position:QB<br>Role:Pass",
            "nflId:42547<br>displayName:Darren Waller<br>Position:LWR<br>Role:Pass Route",
            "nflId:43362<br>displayName:Kenyan Drake<br>Position:HB-L<br>Role:Pass Block",
            "nflId:44849<br>displayName:Zay Jones<br>Position:SLoWR<br>Role:Pass Route",
            "nflId:44972<br>displayName:Jermaine Eluemunor<br>Position:RG<br>Role:Pass Block",
            "nflId:46084<br>displayName:Kolton Miller<br>Position:LT<br>Role:Pass Block",
            "nflId:47920<br>displayName:Foster Moreau<br>Position:TE-R<br>Role:Pass Block",
            "nflId:47932<br>displayName:Hunter Renfrow<br>Position:SLiWR<br>Role:Pass Route",
            "nflId:48235<br>displayName:Andre James<br>Position:C<br>Role:Pass Block",
            "nflId:52517<br>displayName:John Simpson<br>Position:LG<br>Role:Pass Block",
            "nflId:53446<br>displayName:Alex Leatherwood<br>Position:RT<br>Role:Pass Block"
           ],
           "marker": {
            "color": "#000000"
           },
           "mode": "markers",
           "name": "LV",
           "type": "scatter",
           "x": [
            45.79999923706055,
            42.619998931884766,
            45.36000061035156,
            40.58000183105469,
            41.959999084472656,
            42.47999954223633,
            41.439998626708984,
            41.900001525878906,
            41.810001373291016,
            42.38999938964844,
            41.58000183105469
           ],
           "y": [
            23.709999084472656,
            14.270000457763672,
            22.299999237060547,
            17.469999313354492,
            24.90999984741211,
            20.559999465942383,
            28.200000762939453,
            17.40999984741211,
            23.6299991607666,
            22.190000534057617,
            26.93000030517578
           ]
          },
          {
           "marker": {
            "color": "#000000"
           },
           "mode": "lines",
           "name": "LV",
           "type": "scatter",
           "x": [
            45.79999923706055,
            42.619998931884766,
            45.36000061035156,
            40.58000183105469,
            41.959999084472656,
            42.47999954223633,
            41.439998626708984,
            41.900001525878906,
            41.810001373291016,
            42.38999938964844,
            41.58000183105469
           ],
           "y": [
            23.709999084472656,
            14.270000457763672,
            22.299999237060547,
            17.469999313354492,
            24.90999984741211,
            20.559999465942383,
            28.200000762939453,
            17.40999984741211,
            23.6299991607666,
            22.190000534057617,
            26.93000030517578
           ]
          },
          {
           "hoverinfo": "none",
           "marker": {
            "color": "#CBB67C"
           },
           "mode": "markers",
           "name": "football",
           "type": "scatter",
           "x": [
            45.56999969482422
           ],
           "y": [
            23.989999771118164
           ]
          }
         ],
         "name": "8"
        },
        {
         "data": [
          {
           "hoverinfo": "none",
           "mode": "text",
           "showlegend": false,
           "text": [
            "10",
            "20",
            "30",
            "40",
            "50",
            "40",
            "30",
            "20",
            "10"
           ],
           "textfont": {
            "color": "#ffffff",
            "family": "Courier New, monospace",
            "size": 30
           },
           "type": "scatter",
           "x": [
            20,
            30,
            40,
            50,
            60,
            70,
            80,
            90,
            100
           ],
           "y": [
            5,
            5,
            5,
            5,
            5,
            5,
            5,
            5,
            5
           ]
          },
          {
           "hoverinfo": "none",
           "mode": "text",
           "showlegend": false,
           "text": [
            "10",
            "20",
            "30",
            "40",
            "50",
            "40",
            "30",
            "20",
            "10"
           ],
           "textfont": {
            "color": "#ffffff",
            "family": "Courier New, monospace",
            "size": 30
           },
           "type": "scatter",
           "x": [
            20,
            30,
            40,
            50,
            60,
            70,
            80,
            90,
            100
           ],
           "y": [
            48.5,
            48.5,
            48.5,
            48.5,
            48.5,
            48.5,
            48.5,
            48.5,
            48.5
           ]
          },
          {
           "hoverinfo": "none",
           "line": {
            "color": "blue",
            "dash": "dash"
           },
           "showlegend": false,
           "type": "scatter",
           "x": [
            41,
            41
           ],
           "y": [
            0,
            53.5
           ]
          },
          {
           "hoverinfo": "none",
           "line": {
            "color": "yellow",
            "dash": "dash"
           },
           "showlegend": false,
           "type": "scatter",
           "x": [
            55,
            55
           ],
           "y": [
            0,
            53.5
           ]
          },
          {
           "hoverinfo": "text",
           "hovertext": [
            "nflId:33131<br>displayName:Calais Campbell<br>Position:DRT<br>Role:Pass Rush",
            "nflId:37240<br>displayName:Pernell McPhee<br>Position:ROLB<br>Role:Pass Rush",
            "nflId:40042<br>displayName:Brandon Williams<br>Position:NLT<br>Role:Pass Rush",
            "nflId:44828<br>displayName:Marlon Humphrey<br>Position:SCBiR<br>Role:Coverage",
            "nflId:44999<br>displayName:Chuck Clark<br>Position:LOLB<br>Role:Coverage",
            "nflId:46187<br>displayName:Anthony Averett<br>Position:SCBoR<br>Role:Coverage",
            "nflId:46259<br>displayName:DeShon Elliott<br>Position:LOLB<br>Role:Pass Rush",
            "nflId:48565<br>displayName:Chris Westry<br>Position:SCBiR<br>Role:Coverage",
            "nflId:52436<br>displayName:Patrick Queen<br>Position:MLB<br>Role:Coverage",
            "nflId:52506<br>displayName:Malik Harrison<br>Position:RCB<br>Role:Pass Rush",
            "nflId:53460<br>displayName:Odafe Oweh<br>Position:LOLB<br>Role:Pass Rush"
           ],
           "marker": {
            "color": "#241773"
           },
           "mode": "markers",
           "name": "BAL",
           "type": "scatter",
           "x": [
            40.86000061035156,
            40.9900016784668,
            41.279998779296875,
            39.209999084472656,
            40.0099983215332,
            34.349998474121094,
            40.959999084472656,
            37.9900016784668,
            38.2599983215332,
            40.619998931884766,
            40.470001220703125
           ],
           "y": [
            22.049999237060547,
            19.530000686645508,
            24.43000030517578,
            17.020000457763672,
            28.93000030517578,
            15.300000190734863,
            30.510000228881836,
            17.850000381469727,
            24.280000686645508,
            14.619999885559082,
            26.899999618530273
           ]
          },
          {
           "marker": {
            "color": "#241773"
           },
           "mode": "lines",
           "name": "BAL",
           "type": "scatter",
           "x": [
            40.86000061035156,
            40.9900016784668,
            41.279998779296875,
            39.209999084472656,
            40.0099983215332,
            34.349998474121094,
            40.959999084472656,
            37.9900016784668,
            38.2599983215332,
            40.619998931884766,
            40.470001220703125
           ],
           "y": [
            22.049999237060547,
            19.530000686645508,
            24.43000030517578,
            17.020000457763672,
            28.93000030517578,
            15.300000190734863,
            30.510000228881836,
            17.850000381469727,
            24.280000686645508,
            14.619999885559082,
            26.899999618530273
           ]
          },
          {
           "hoverinfo": "text",
           "hovertext": [
            "nflId:41265<br>displayName:Derek Carr<br>Position:QB<br>Role:Pass",
            "nflId:42547<br>displayName:Darren Waller<br>Position:LWR<br>Role:Pass Route",
            "nflId:43362<br>displayName:Kenyan Drake<br>Position:HB-L<br>Role:Pass Block",
            "nflId:44849<br>displayName:Zay Jones<br>Position:SLoWR<br>Role:Pass Route",
            "nflId:44972<br>displayName:Jermaine Eluemunor<br>Position:RG<br>Role:Pass Block",
            "nflId:46084<br>displayName:Kolton Miller<br>Position:LT<br>Role:Pass Block",
            "nflId:47920<br>displayName:Foster Moreau<br>Position:TE-R<br>Role:Pass Block",
            "nflId:47932<br>displayName:Hunter Renfrow<br>Position:SLiWR<br>Role:Pass Route",
            "nflId:48235<br>displayName:Andre James<br>Position:C<br>Role:Pass Block",
            "nflId:52517<br>displayName:John Simpson<br>Position:LG<br>Role:Pass Block",
            "nflId:53446<br>displayName:Alex Leatherwood<br>Position:RT<br>Role:Pass Block"
           ],
           "marker": {
            "color": "#000000"
           },
           "mode": "markers",
           "name": "LV",
           "type": "scatter",
           "x": [
            46.08000183105469,
            42.41999816894531,
            45.33000183105469,
            40.290000915527344,
            42.099998474121094,
            42.61000061035156,
            41.45000076293945,
            41.630001068115234,
            41.959999084472656,
            42.529998779296875,
            41.630001068115234
           ],
           "y": [
            23.700000762939453,
            14.15999984741211,
            22.520000457763672,
            17.760000228881836,
            24.829999923706055,
            20.559999465942383,
            28.1299991607666,
            17.329999923706055,
            23.59000015258789,
            22.170000076293945,
            26.850000381469727
           ]
          },
          {
           "marker": {
            "color": "#000000"
           },
           "mode": "lines",
           "name": "LV",
           "type": "scatter",
           "x": [
            46.08000183105469,
            42.41999816894531,
            45.33000183105469,
            40.290000915527344,
            42.099998474121094,
            42.61000061035156,
            41.45000076293945,
            41.630001068115234,
            41.959999084472656,
            42.529998779296875,
            41.630001068115234
           ],
           "y": [
            23.700000762939453,
            14.15999984741211,
            22.520000457763672,
            17.760000228881836,
            24.829999923706055,
            20.559999465942383,
            28.1299991607666,
            17.329999923706055,
            23.59000015258789,
            22.170000076293945,
            26.850000381469727
           ]
          },
          {
           "hoverinfo": "none",
           "marker": {
            "color": "#CBB67C"
           },
           "mode": "markers",
           "name": "football",
           "type": "scatter",
           "x": [
            46.08000183105469
           ],
           "y": [
            24.040000915527344
           ]
          }
         ],
         "name": "9"
        },
        {
         "data": [
          {
           "hoverinfo": "none",
           "mode": "text",
           "showlegend": false,
           "text": [
            "10",
            "20",
            "30",
            "40",
            "50",
            "40",
            "30",
            "20",
            "10"
           ],
           "textfont": {
            "color": "#ffffff",
            "family": "Courier New, monospace",
            "size": 30
           },
           "type": "scatter",
           "x": [
            20,
            30,
            40,
            50,
            60,
            70,
            80,
            90,
            100
           ],
           "y": [
            5,
            5,
            5,
            5,
            5,
            5,
            5,
            5,
            5
           ]
          },
          {
           "hoverinfo": "none",
           "mode": "text",
           "showlegend": false,
           "text": [
            "10",
            "20",
            "30",
            "40",
            "50",
            "40",
            "30",
            "20",
            "10"
           ],
           "textfont": {
            "color": "#ffffff",
            "family": "Courier New, monospace",
            "size": 30
           },
           "type": "scatter",
           "x": [
            20,
            30,
            40,
            50,
            60,
            70,
            80,
            90,
            100
           ],
           "y": [
            48.5,
            48.5,
            48.5,
            48.5,
            48.5,
            48.5,
            48.5,
            48.5,
            48.5
           ]
          },
          {
           "hoverinfo": "none",
           "line": {
            "color": "blue",
            "dash": "dash"
           },
           "showlegend": false,
           "type": "scatter",
           "x": [
            41,
            41
           ],
           "y": [
            0,
            53.5
           ]
          },
          {
           "hoverinfo": "none",
           "line": {
            "color": "yellow",
            "dash": "dash"
           },
           "showlegend": false,
           "type": "scatter",
           "x": [
            55,
            55
           ],
           "y": [
            0,
            53.5
           ]
          },
          {
           "hoverinfo": "text",
           "hovertext": [
            "nflId:33131<br>displayName:Calais Campbell<br>Position:DRT<br>Role:Pass Rush",
            "nflId:37240<br>displayName:Pernell McPhee<br>Position:ROLB<br>Role:Pass Rush",
            "nflId:40042<br>displayName:Brandon Williams<br>Position:NLT<br>Role:Pass Rush",
            "nflId:44828<br>displayName:Marlon Humphrey<br>Position:SCBiR<br>Role:Coverage",
            "nflId:44999<br>displayName:Chuck Clark<br>Position:LOLB<br>Role:Coverage",
            "nflId:46187<br>displayName:Anthony Averett<br>Position:SCBoR<br>Role:Coverage",
            "nflId:46259<br>displayName:DeShon Elliott<br>Position:LOLB<br>Role:Pass Rush",
            "nflId:48565<br>displayName:Chris Westry<br>Position:SCBiR<br>Role:Coverage",
            "nflId:52436<br>displayName:Patrick Queen<br>Position:MLB<br>Role:Coverage",
            "nflId:52506<br>displayName:Malik Harrison<br>Position:RCB<br>Role:Pass Rush",
            "nflId:53460<br>displayName:Odafe Oweh<br>Position:LOLB<br>Role:Pass Rush"
           ],
           "marker": {
            "color": "#241773"
           },
           "mode": "markers",
           "name": "BAL",
           "type": "scatter",
           "x": [
            41.119998931884766,
            41.22999954223633,
            41.529998779296875,
            39.040000915527344,
            40.13999938964844,
            34.2599983215332,
            41.310001373291016,
            37.95000076293945,
            38.470001220703125,
            40.90999984741211,
            40.709999084472656
           ],
           "y": [
            22.15999984741211,
            19.780000686645508,
            24.440000534057617,
            17.25,
            28.850000381469727,
            15.279999732971191,
            30.31999969482422,
            17.81999969482422,
            24.350000381469727,
            14.829999923706055,
            26.649999618530273
           ]
          },
          {
           "marker": {
            "color": "#241773"
           },
           "mode": "lines",
           "name": "BAL",
           "type": "scatter",
           "x": [
            41.119998931884766,
            41.22999954223633,
            41.529998779296875,
            39.040000915527344,
            40.13999938964844,
            34.2599983215332,
            41.310001373291016,
            37.95000076293945,
            38.470001220703125,
            40.90999984741211,
            40.709999084472656
           ],
           "y": [
            22.15999984741211,
            19.780000686645508,
            24.440000534057617,
            17.25,
            28.850000381469727,
            15.279999732971191,
            30.31999969482422,
            17.81999969482422,
            24.350000381469727,
            14.829999923706055,
            26.649999618530273
           ]
          },
          {
           "hoverinfo": "text",
           "hovertext": [
            "nflId:41265<br>displayName:Derek Carr<br>Position:QB<br>Role:Pass",
            "nflId:42547<br>displayName:Darren Waller<br>Position:LWR<br>Role:Pass Route",
            "nflId:43362<br>displayName:Kenyan Drake<br>Position:HB-L<br>Role:Pass Block",
            "nflId:44849<br>displayName:Zay Jones<br>Position:SLoWR<br>Role:Pass Route",
            "nflId:44972<br>displayName:Jermaine Eluemunor<br>Position:RG<br>Role:Pass Block",
            "nflId:46084<br>displayName:Kolton Miller<br>Position:LT<br>Role:Pass Block",
            "nflId:47920<br>displayName:Foster Moreau<br>Position:TE-R<br>Role:Pass Block",
            "nflId:47932<br>displayName:Hunter Renfrow<br>Position:SLiWR<br>Role:Pass Route",
            "nflId:48235<br>displayName:Andre James<br>Position:C<br>Role:Pass Block",
            "nflId:52517<br>displayName:John Simpson<br>Position:LG<br>Role:Pass Block",
            "nflId:53446<br>displayName:Alex Leatherwood<br>Position:RT<br>Role:Pass Block"
           ],
           "marker": {
            "color": "#000000"
           },
           "mode": "markers",
           "name": "LV",
           "type": "scatter",
           "x": [
            46.400001525878906,
            42.20000076293945,
            45.31999969482422,
            39.959999084472656,
            42.220001220703125,
            42.72999954223633,
            41.470001220703125,
            41.33000183105469,
            42.130001068115234,
            42.689998626708984,
            41.68000030517578
           ],
           "y": [
            23.700000762939453,
            14.020000457763672,
            22.780000686645508,
            18.079999923706055,
            24.75,
            20.59000015258789,
            28.079999923706055,
            17.229999542236328,
            23.549999237060547,
            22.149999618530273,
            26.75
           ]
          },
          {
           "marker": {
            "color": "#000000"
           },
           "mode": "lines",
           "name": "LV",
           "type": "scatter",
           "x": [
            46.400001525878906,
            42.20000076293945,
            45.31999969482422,
            39.959999084472656,
            42.220001220703125,
            42.72999954223633,
            41.470001220703125,
            41.33000183105469,
            42.130001068115234,
            42.689998626708984,
            41.68000030517578
           ],
           "y": [
            23.700000762939453,
            14.020000457763672,
            22.780000686645508,
            18.079999923706055,
            24.75,
            20.59000015258789,
            28.079999923706055,
            17.229999542236328,
            23.549999237060547,
            22.149999618530273,
            26.75
           ]
          },
          {
           "hoverinfo": "none",
           "marker": {
            "color": "#CBB67C"
           },
           "mode": "markers",
           "name": "football",
           "type": "scatter",
           "x": [
            46.560001373291016
           ],
           "y": [
            24.09000015258789
           ]
          }
         ],
         "name": "10"
        },
        {
         "data": [
          {
           "hoverinfo": "none",
           "mode": "text",
           "showlegend": false,
           "text": [
            "10",
            "20",
            "30",
            "40",
            "50",
            "40",
            "30",
            "20",
            "10"
           ],
           "textfont": {
            "color": "#ffffff",
            "family": "Courier New, monospace",
            "size": 30
           },
           "type": "scatter",
           "x": [
            20,
            30,
            40,
            50,
            60,
            70,
            80,
            90,
            100
           ],
           "y": [
            5,
            5,
            5,
            5,
            5,
            5,
            5,
            5,
            5
           ]
          },
          {
           "hoverinfo": "none",
           "mode": "text",
           "showlegend": false,
           "text": [
            "10",
            "20",
            "30",
            "40",
            "50",
            "40",
            "30",
            "20",
            "10"
           ],
           "textfont": {
            "color": "#ffffff",
            "family": "Courier New, monospace",
            "size": 30
           },
           "type": "scatter",
           "x": [
            20,
            30,
            40,
            50,
            60,
            70,
            80,
            90,
            100
           ],
           "y": [
            48.5,
            48.5,
            48.5,
            48.5,
            48.5,
            48.5,
            48.5,
            48.5,
            48.5
           ]
          },
          {
           "hoverinfo": "none",
           "line": {
            "color": "blue",
            "dash": "dash"
           },
           "showlegend": false,
           "type": "scatter",
           "x": [
            41,
            41
           ],
           "y": [
            0,
            53.5
           ]
          },
          {
           "hoverinfo": "none",
           "line": {
            "color": "yellow",
            "dash": "dash"
           },
           "showlegend": false,
           "type": "scatter",
           "x": [
            55,
            55
           ],
           "y": [
            0,
            53.5
           ]
          },
          {
           "hoverinfo": "text",
           "hovertext": [
            "nflId:33131<br>displayName:Calais Campbell<br>Position:DRT<br>Role:Pass Rush",
            "nflId:37240<br>displayName:Pernell McPhee<br>Position:ROLB<br>Role:Pass Rush",
            "nflId:40042<br>displayName:Brandon Williams<br>Position:NLT<br>Role:Pass Rush",
            "nflId:44828<br>displayName:Marlon Humphrey<br>Position:SCBiR<br>Role:Coverage",
            "nflId:44999<br>displayName:Chuck Clark<br>Position:LOLB<br>Role:Coverage",
            "nflId:46187<br>displayName:Anthony Averett<br>Position:SCBoR<br>Role:Coverage",
            "nflId:46259<br>displayName:DeShon Elliott<br>Position:LOLB<br>Role:Pass Rush",
            "nflId:48565<br>displayName:Chris Westry<br>Position:SCBiR<br>Role:Coverage",
            "nflId:52436<br>displayName:Patrick Queen<br>Position:MLB<br>Role:Coverage",
            "nflId:52506<br>displayName:Malik Harrison<br>Position:RCB<br>Role:Pass Rush",
            "nflId:53460<br>displayName:Odafe Oweh<br>Position:LOLB<br>Role:Pass Rush"
           ],
           "marker": {
            "color": "#241773"
           },
           "mode": "markers",
           "name": "BAL",
           "type": "scatter",
           "x": [
            41.38999938964844,
            41.47999954223633,
            41.779998779296875,
            38.849998474121094,
            40.29999923706055,
            34.15999984741211,
            41.709999084472656,
            37.869998931884766,
            38.68000030517578,
            41.2400016784668,
            40.959999084472656
           ],
           "y": [
            22.260000228881836,
            20.049999237060547,
            24.450000762939453,
            17.5,
            28.780000686645508,
            15.239999771118164,
            30.1200008392334,
            17.780000686645508,
            24.459999084472656,
            15.079999923706055,
            26.3799991607666
           ]
          },
          {
           "marker": {
            "color": "#241773"
           },
           "mode": "lines",
           "name": "BAL",
           "type": "scatter",
           "x": [
            41.38999938964844,
            41.47999954223633,
            41.779998779296875,
            38.849998474121094,
            40.29999923706055,
            34.15999984741211,
            41.709999084472656,
            37.869998931884766,
            38.68000030517578,
            41.2400016784668,
            40.959999084472656
           ],
           "y": [
            22.260000228881836,
            20.049999237060547,
            24.450000762939453,
            17.5,
            28.780000686645508,
            15.239999771118164,
            30.1200008392334,
            17.780000686645508,
            24.459999084472656,
            15.079999923706055,
            26.3799991607666
           ]
          },
          {
           "hoverinfo": "text",
           "hovertext": [
            "nflId:41265<br>displayName:Derek Carr<br>Position:QB<br>Role:Pass",
            "nflId:42547<br>displayName:Darren Waller<br>Position:LWR<br>Role:Pass Route",
            "nflId:43362<br>displayName:Kenyan Drake<br>Position:HB-L<br>Role:Pass Block",
            "nflId:44849<br>displayName:Zay Jones<br>Position:SLoWR<br>Role:Pass Route",
            "nflId:44972<br>displayName:Jermaine Eluemunor<br>Position:RG<br>Role:Pass Block",
            "nflId:46084<br>displayName:Kolton Miller<br>Position:LT<br>Role:Pass Block",
            "nflId:47920<br>displayName:Foster Moreau<br>Position:TE-R<br>Role:Pass Block",
            "nflId:47932<br>displayName:Hunter Renfrow<br>Position:SLiWR<br>Role:Pass Route",
            "nflId:48235<br>displayName:Andre James<br>Position:C<br>Role:Pass Block",
            "nflId:52517<br>displayName:John Simpson<br>Position:LG<br>Role:Pass Block",
            "nflId:53446<br>displayName:Alex Leatherwood<br>Position:RT<br>Role:Pass Block"
           ],
           "marker": {
            "color": "#000000"
           },
           "mode": "markers",
           "name": "LV",
           "type": "scatter",
           "x": [
            46.7599983215332,
            41.959999084472656,
            45.349998474121094,
            39.599998474121094,
            42.369998931884766,
            42.86000061035156,
            41.5,
            40.97999954223633,
            42.29999923706055,
            42.849998474121094,
            41.7400016784668
           ],
           "y": [
            23.719999313354492,
            13.880000114440918,
            23.06999969482422,
            18.440000534057617,
            24.68000030517578,
            20.6299991607666,
            28.040000915527344,
            17.079999923706055,
            23.5,
            22.1299991607666,
            26.639999389648438
           ]
          },
          {
           "marker": {
            "color": "#000000"
           },
           "mode": "lines",
           "name": "LV",
           "type": "scatter",
           "x": [
            46.7599983215332,
            41.959999084472656,
            45.349998474121094,
            39.599998474121094,
            42.369998931884766,
            42.86000061035156,
            41.5,
            40.97999954223633,
            42.29999923706055,
            42.849998474121094,
            41.7400016784668
           ],
           "y": [
            23.719999313354492,
            13.880000114440918,
            23.06999969482422,
            18.440000534057617,
            24.68000030517578,
            20.6299991607666,
            28.040000915527344,
            17.079999923706055,
            23.5,
            22.1299991607666,
            26.639999389648438
           ]
          },
          {
           "hoverinfo": "none",
           "marker": {
            "color": "#CBB67C"
           },
           "mode": "markers",
           "name": "football",
           "type": "scatter",
           "x": [
            47.02000045776367
           ],
           "y": [
            24.1299991607666
           ]
          }
         ],
         "name": "11"
        },
        {
         "data": [
          {
           "hoverinfo": "none",
           "mode": "text",
           "showlegend": false,
           "text": [
            "10",
            "20",
            "30",
            "40",
            "50",
            "40",
            "30",
            "20",
            "10"
           ],
           "textfont": {
            "color": "#ffffff",
            "family": "Courier New, monospace",
            "size": 30
           },
           "type": "scatter",
           "x": [
            20,
            30,
            40,
            50,
            60,
            70,
            80,
            90,
            100
           ],
           "y": [
            5,
            5,
            5,
            5,
            5,
            5,
            5,
            5,
            5
           ]
          },
          {
           "hoverinfo": "none",
           "mode": "text",
           "showlegend": false,
           "text": [
            "10",
            "20",
            "30",
            "40",
            "50",
            "40",
            "30",
            "20",
            "10"
           ],
           "textfont": {
            "color": "#ffffff",
            "family": "Courier New, monospace",
            "size": 30
           },
           "type": "scatter",
           "x": [
            20,
            30,
            40,
            50,
            60,
            70,
            80,
            90,
            100
           ],
           "y": [
            48.5,
            48.5,
            48.5,
            48.5,
            48.5,
            48.5,
            48.5,
            48.5,
            48.5
           ]
          },
          {
           "hoverinfo": "none",
           "line": {
            "color": "blue",
            "dash": "dash"
           },
           "showlegend": false,
           "type": "scatter",
           "x": [
            41,
            41
           ],
           "y": [
            0,
            53.5
           ]
          },
          {
           "hoverinfo": "none",
           "line": {
            "color": "yellow",
            "dash": "dash"
           },
           "showlegend": false,
           "type": "scatter",
           "x": [
            55,
            55
           ],
           "y": [
            0,
            53.5
           ]
          },
          {
           "hoverinfo": "text",
           "hovertext": [
            "nflId:33131<br>displayName:Calais Campbell<br>Position:DRT<br>Role:Pass Rush",
            "nflId:37240<br>displayName:Pernell McPhee<br>Position:ROLB<br>Role:Pass Rush",
            "nflId:40042<br>displayName:Brandon Williams<br>Position:NLT<br>Role:Pass Rush",
            "nflId:44828<br>displayName:Marlon Humphrey<br>Position:SCBiR<br>Role:Coverage",
            "nflId:44999<br>displayName:Chuck Clark<br>Position:LOLB<br>Role:Coverage",
            "nflId:46187<br>displayName:Anthony Averett<br>Position:SCBoR<br>Role:Coverage",
            "nflId:46259<br>displayName:DeShon Elliott<br>Position:LOLB<br>Role:Pass Rush",
            "nflId:48565<br>displayName:Chris Westry<br>Position:SCBiR<br>Role:Coverage",
            "nflId:52436<br>displayName:Patrick Queen<br>Position:MLB<br>Role:Coverage",
            "nflId:52506<br>displayName:Malik Harrison<br>Position:RCB<br>Role:Pass Rush",
            "nflId:53460<br>displayName:Odafe Oweh<br>Position:LOLB<br>Role:Pass Rush"
           ],
           "marker": {
            "color": "#241773"
           },
           "mode": "markers",
           "name": "BAL",
           "type": "scatter",
           "x": [
            41.720001220703125,
            41.72999954223633,
            42.040000915527344,
            38.630001068115234,
            40.470001220703125,
            34.04999923706055,
            42.15999984741211,
            37.77000045776367,
            38.900001525878906,
            41.61000061035156,
            41.209999084472656
           ],
           "y": [
            22.34000015258789,
            20.34000015258789,
            24.459999084472656,
            17.770000457763672,
            28.709999084472656,
            15.180000305175781,
            29.899999618530273,
            17.729999542236328,
            24.600000381469727,
            15.350000381469727,
            26.079999923706055
           ]
          },
          {
           "marker": {
            "color": "#241773"
           },
           "mode": "lines",
           "name": "BAL",
           "type": "scatter",
           "x": [
            41.720001220703125,
            41.72999954223633,
            42.040000915527344,
            38.630001068115234,
            40.470001220703125,
            34.04999923706055,
            42.15999984741211,
            37.77000045776367,
            38.900001525878906,
            41.61000061035156,
            41.209999084472656
           ],
           "y": [
            22.34000015258789,
            20.34000015258789,
            24.459999084472656,
            17.770000457763672,
            28.709999084472656,
            15.180000305175781,
            29.899999618530273,
            17.729999542236328,
            24.600000381469727,
            15.350000381469727,
            26.079999923706055
           ]
          },
          {
           "hoverinfo": "text",
           "hovertext": [
            "nflId:41265<br>displayName:Derek Carr<br>Position:QB<br>Role:Pass",
            "nflId:42547<br>displayName:Darren Waller<br>Position:LWR<br>Role:Pass Route",
            "nflId:43362<br>displayName:Kenyan Drake<br>Position:HB-L<br>Role:Pass Block",
            "nflId:44849<br>displayName:Zay Jones<br>Position:SLoWR<br>Role:Pass Route",
            "nflId:44972<br>displayName:Jermaine Eluemunor<br>Position:RG<br>Role:Pass Block",
            "nflId:46084<br>displayName:Kolton Miller<br>Position:LT<br>Role:Pass Block",
            "nflId:47920<br>displayName:Foster Moreau<br>Position:TE-R<br>Role:Pass Block",
            "nflId:47932<br>displayName:Hunter Renfrow<br>Position:SLiWR<br>Role:Pass Route",
            "nflId:48235<br>displayName:Andre James<br>Position:C<br>Role:Pass Block",
            "nflId:52517<br>displayName:John Simpson<br>Position:LG<br>Role:Pass Block",
            "nflId:53446<br>displayName:Alex Leatherwood<br>Position:RT<br>Role:Pass Block"
           ],
           "marker": {
            "color": "#000000"
           },
           "mode": "markers",
           "name": "LV",
           "type": "scatter",
           "x": [
            47.150001525878906,
            41.689998626708984,
            45.380001068115234,
            39.20000076293945,
            42.540000915527344,
            43,
            41.540000915527344,
            40.599998474121094,
            42.47999954223633,
            43,
            41.849998474121094
           ],
           "y": [
            23.739999771118164,
            13.710000038146973,
            23.3799991607666,
            18.829999923706055,
            24.610000610351562,
            20.670000076293945,
            28.030000686645508,
            16.90999984741211,
            23.450000762939453,
            22.110000610351562,
            26.5
           ]
          },
          {
           "marker": {
            "color": "#000000"
           },
           "mode": "lines",
           "name": "LV",
           "type": "scatter",
           "x": [
            47.150001525878906,
            41.689998626708984,
            45.380001068115234,
            39.20000076293945,
            42.540000915527344,
            43,
            41.540000915527344,
            40.599998474121094,
            42.47999954223633,
            43,
            41.849998474121094
           ],
           "y": [
            23.739999771118164,
            13.710000038146973,
            23.3799991607666,
            18.829999923706055,
            24.610000610351562,
            20.670000076293945,
            28.030000686645508,
            16.90999984741211,
            23.450000762939453,
            22.110000610351562,
            26.5
           ]
          },
          {
           "hoverinfo": "none",
           "marker": {
            "color": "#CBB67C"
           },
           "mode": "markers",
           "name": "football",
           "type": "scatter",
           "x": [
            47.459999084472656
           ],
           "y": [
            24.170000076293945
           ]
          }
         ],
         "name": "12"
        },
        {
         "data": [
          {
           "hoverinfo": "none",
           "mode": "text",
           "showlegend": false,
           "text": [
            "10",
            "20",
            "30",
            "40",
            "50",
            "40",
            "30",
            "20",
            "10"
           ],
           "textfont": {
            "color": "#ffffff",
            "family": "Courier New, monospace",
            "size": 30
           },
           "type": "scatter",
           "x": [
            20,
            30,
            40,
            50,
            60,
            70,
            80,
            90,
            100
           ],
           "y": [
            5,
            5,
            5,
            5,
            5,
            5,
            5,
            5,
            5
           ]
          },
          {
           "hoverinfo": "none",
           "mode": "text",
           "showlegend": false,
           "text": [
            "10",
            "20",
            "30",
            "40",
            "50",
            "40",
            "30",
            "20",
            "10"
           ],
           "textfont": {
            "color": "#ffffff",
            "family": "Courier New, monospace",
            "size": 30
           },
           "type": "scatter",
           "x": [
            20,
            30,
            40,
            50,
            60,
            70,
            80,
            90,
            100
           ],
           "y": [
            48.5,
            48.5,
            48.5,
            48.5,
            48.5,
            48.5,
            48.5,
            48.5,
            48.5
           ]
          },
          {
           "hoverinfo": "none",
           "line": {
            "color": "blue",
            "dash": "dash"
           },
           "showlegend": false,
           "type": "scatter",
           "x": [
            41,
            41
           ],
           "y": [
            0,
            53.5
           ]
          },
          {
           "hoverinfo": "none",
           "line": {
            "color": "yellow",
            "dash": "dash"
           },
           "showlegend": false,
           "type": "scatter",
           "x": [
            55,
            55
           ],
           "y": [
            0,
            53.5
           ]
          },
          {
           "hoverinfo": "text",
           "hovertext": [
            "nflId:33131<br>displayName:Calais Campbell<br>Position:DRT<br>Role:Pass Rush",
            "nflId:37240<br>displayName:Pernell McPhee<br>Position:ROLB<br>Role:Pass Rush",
            "nflId:40042<br>displayName:Brandon Williams<br>Position:NLT<br>Role:Pass Rush",
            "nflId:44828<br>displayName:Marlon Humphrey<br>Position:SCBiR<br>Role:Coverage",
            "nflId:44999<br>displayName:Chuck Clark<br>Position:LOLB<br>Role:Coverage",
            "nflId:46187<br>displayName:Anthony Averett<br>Position:SCBoR<br>Role:Coverage",
            "nflId:46259<br>displayName:DeShon Elliott<br>Position:LOLB<br>Role:Pass Rush",
            "nflId:48565<br>displayName:Chris Westry<br>Position:SCBiR<br>Role:Coverage",
            "nflId:52436<br>displayName:Patrick Queen<br>Position:MLB<br>Role:Coverage",
            "nflId:52506<br>displayName:Malik Harrison<br>Position:RCB<br>Role:Pass Rush",
            "nflId:53460<br>displayName:Odafe Oweh<br>Position:LOLB<br>Role:Pass Rush"
           ],
           "marker": {
            "color": "#241773"
           },
           "mode": "markers",
           "name": "BAL",
           "type": "scatter",
           "x": [
            42.060001373291016,
            41.970001220703125,
            42.279998779296875,
            38.38999938964844,
            40.63999938964844,
            33.91999816894531,
            42.65999984741211,
            37.63999938964844,
            39.130001068115234,
            42.0099983215332,
            41.45000076293945
           ],
           "y": [
            22.399999618530273,
            20.639999389648438,
            24.479999542236328,
            18.06999969482422,
            28.639999389648438,
            15.09000015258789,
            29.670000076293945,
            17.670000076293945,
            24.780000686645508,
            15.640000343322754,
            25.770000457763672
           ]
          },
          {
           "marker": {
            "color": "#241773"
           },
           "mode": "lines",
           "name": "BAL",
           "type": "scatter",
           "x": [
            42.060001373291016,
            41.970001220703125,
            42.279998779296875,
            38.38999938964844,
            40.63999938964844,
            33.91999816894531,
            42.65999984741211,
            37.63999938964844,
            39.130001068115234,
            42.0099983215332,
            41.45000076293945
           ],
           "y": [
            22.399999618530273,
            20.639999389648438,
            24.479999542236328,
            18.06999969482422,
            28.639999389648438,
            15.09000015258789,
            29.670000076293945,
            17.670000076293945,
            24.780000686645508,
            15.640000343322754,
            25.770000457763672
           ]
          },
          {
           "hoverinfo": "text",
           "hovertext": [
            "nflId:41265<br>displayName:Derek Carr<br>Position:QB<br>Role:Pass",
            "nflId:42547<br>displayName:Darren Waller<br>Position:LWR<br>Role:Pass Route",
            "nflId:43362<br>displayName:Kenyan Drake<br>Position:HB-L<br>Role:Pass Block",
            "nflId:44849<br>displayName:Zay Jones<br>Position:SLoWR<br>Role:Pass Route",
            "nflId:44972<br>displayName:Jermaine Eluemunor<br>Position:RG<br>Role:Pass Block",
            "nflId:46084<br>displayName:Kolton Miller<br>Position:LT<br>Role:Pass Block",
            "nflId:47920<br>displayName:Foster Moreau<br>Position:TE-R<br>Role:Pass Block",
            "nflId:47932<br>displayName:Hunter Renfrow<br>Position:SLiWR<br>Role:Pass Route",
            "nflId:48235<br>displayName:Andre James<br>Position:C<br>Role:Pass Block",
            "nflId:52517<br>displayName:John Simpson<br>Position:LG<br>Role:Pass Block",
            "nflId:53446<br>displayName:Alex Leatherwood<br>Position:RT<br>Role:Pass Block"
           ],
           "marker": {
            "color": "#000000"
           },
           "mode": "markers",
           "name": "LV",
           "type": "scatter",
           "x": [
            47.560001373291016,
            41.38999938964844,
            45.439998626708984,
            38.7599983215332,
            42.7400016784668,
            43.13999938964844,
            41.59000015258789,
            40.18000030517578,
            42.66999816894531,
            43.150001525878906,
            41.959999084472656
           ],
           "y": [
            23.790000915527344,
            13.539999961853027,
            23.719999313354492,
            19.239999771118164,
            24.540000915527344,
            20.719999313354492,
            28.040000915527344,
            16.719999313354492,
            23.389999389648438,
            22.09000015258789,
            26.350000381469727
           ]
          },
          {
           "marker": {
            "color": "#000000"
           },
           "mode": "lines",
           "name": "LV",
           "type": "scatter",
           "x": [
            47.560001373291016,
            41.38999938964844,
            45.439998626708984,
            38.7599983215332,
            42.7400016784668,
            43.13999938964844,
            41.59000015258789,
            40.18000030517578,
            42.66999816894531,
            43.150001525878906,
            41.959999084472656
           ],
           "y": [
            23.790000915527344,
            13.539999961853027,
            23.719999313354492,
            19.239999771118164,
            24.540000915527344,
            20.719999313354492,
            28.040000915527344,
            16.719999313354492,
            23.389999389648438,
            22.09000015258789,
            26.350000381469727
           ]
          },
          {
           "hoverinfo": "none",
           "marker": {
            "color": "#CBB67C"
           },
           "mode": "markers",
           "name": "football",
           "type": "scatter",
           "x": [
            47.869998931884766
           ],
           "y": [
            24.209999084472656
           ]
          }
         ],
         "name": "13"
        },
        {
         "data": [
          {
           "hoverinfo": "none",
           "mode": "text",
           "showlegend": false,
           "text": [
            "10",
            "20",
            "30",
            "40",
            "50",
            "40",
            "30",
            "20",
            "10"
           ],
           "textfont": {
            "color": "#ffffff",
            "family": "Courier New, monospace",
            "size": 30
           },
           "type": "scatter",
           "x": [
            20,
            30,
            40,
            50,
            60,
            70,
            80,
            90,
            100
           ],
           "y": [
            5,
            5,
            5,
            5,
            5,
            5,
            5,
            5,
            5
           ]
          },
          {
           "hoverinfo": "none",
           "mode": "text",
           "showlegend": false,
           "text": [
            "10",
            "20",
            "30",
            "40",
            "50",
            "40",
            "30",
            "20",
            "10"
           ],
           "textfont": {
            "color": "#ffffff",
            "family": "Courier New, monospace",
            "size": 30
           },
           "type": "scatter",
           "x": [
            20,
            30,
            40,
            50,
            60,
            70,
            80,
            90,
            100
           ],
           "y": [
            48.5,
            48.5,
            48.5,
            48.5,
            48.5,
            48.5,
            48.5,
            48.5,
            48.5
           ]
          },
          {
           "hoverinfo": "none",
           "line": {
            "color": "blue",
            "dash": "dash"
           },
           "showlegend": false,
           "type": "scatter",
           "x": [
            41,
            41
           ],
           "y": [
            0,
            53.5
           ]
          },
          {
           "hoverinfo": "none",
           "line": {
            "color": "yellow",
            "dash": "dash"
           },
           "showlegend": false,
           "type": "scatter",
           "x": [
            55,
            55
           ],
           "y": [
            0,
            53.5
           ]
          },
          {
           "hoverinfo": "text",
           "hovertext": [
            "nflId:33131<br>displayName:Calais Campbell<br>Position:DRT<br>Role:Pass Rush",
            "nflId:37240<br>displayName:Pernell McPhee<br>Position:ROLB<br>Role:Pass Rush",
            "nflId:40042<br>displayName:Brandon Williams<br>Position:NLT<br>Role:Pass Rush",
            "nflId:44828<br>displayName:Marlon Humphrey<br>Position:SCBiR<br>Role:Coverage",
            "nflId:44999<br>displayName:Chuck Clark<br>Position:LOLB<br>Role:Coverage",
            "nflId:46187<br>displayName:Anthony Averett<br>Position:SCBoR<br>Role:Coverage",
            "nflId:46259<br>displayName:DeShon Elliott<br>Position:LOLB<br>Role:Pass Rush",
            "nflId:48565<br>displayName:Chris Westry<br>Position:SCBiR<br>Role:Coverage",
            "nflId:52436<br>displayName:Patrick Queen<br>Position:MLB<br>Role:Coverage",
            "nflId:52506<br>displayName:Malik Harrison<br>Position:RCB<br>Role:Pass Rush",
            "nflId:53460<br>displayName:Odafe Oweh<br>Position:LOLB<br>Role:Pass Rush"
           ],
           "marker": {
            "color": "#241773"
           },
           "mode": "markers",
           "name": "BAL",
           "type": "scatter",
           "x": [
            42.400001525878906,
            42.189998626708984,
            42.529998779296875,
            38.13999938964844,
            40.810001373291016,
            33.790000915527344,
            43.209999084472656,
            37.47999954223633,
            39.369998931884766,
            42.45000076293945,
            41.689998626708984
           ],
           "y": [
            22.469999313354492,
            20.959999084472656,
            24.510000228881836,
            18.389999389648438,
            28.600000381469727,
            14.979999542236328,
            29.43000030517578,
            17.59000015258789,
            24.989999771118164,
            15.979999542236328,
            25.459999084472656
           ]
          },
          {
           "marker": {
            "color": "#241773"
           },
           "mode": "lines",
           "name": "BAL",
           "type": "scatter",
           "x": [
            42.400001525878906,
            42.189998626708984,
            42.529998779296875,
            38.13999938964844,
            40.810001373291016,
            33.790000915527344,
            43.209999084472656,
            37.47999954223633,
            39.369998931884766,
            42.45000076293945,
            41.689998626708984
           ],
           "y": [
            22.469999313354492,
            20.959999084472656,
            24.510000228881836,
            18.389999389648438,
            28.600000381469727,
            14.979999542236328,
            29.43000030517578,
            17.59000015258789,
            24.989999771118164,
            15.979999542236328,
            25.459999084472656
           ]
          },
          {
           "hoverinfo": "text",
           "hovertext": [
            "nflId:41265<br>displayName:Derek Carr<br>Position:QB<br>Role:Pass",
            "nflId:42547<br>displayName:Darren Waller<br>Position:LWR<br>Role:Pass Route",
            "nflId:43362<br>displayName:Kenyan Drake<br>Position:HB-L<br>Role:Pass Block",
            "nflId:44849<br>displayName:Zay Jones<br>Position:SLoWR<br>Role:Pass Route",
            "nflId:44972<br>displayName:Jermaine Eluemunor<br>Position:RG<br>Role:Pass Block",
            "nflId:46084<br>displayName:Kolton Miller<br>Position:LT<br>Role:Pass Block",
            "nflId:47920<br>displayName:Foster Moreau<br>Position:TE-R<br>Role:Pass Block",
            "nflId:47932<br>displayName:Hunter Renfrow<br>Position:SLiWR<br>Role:Pass Route",
            "nflId:48235<br>displayName:Andre James<br>Position:C<br>Role:Pass Block",
            "nflId:52517<br>displayName:John Simpson<br>Position:LG<br>Role:Pass Block",
            "nflId:53446<br>displayName:Alex Leatherwood<br>Position:RT<br>Role:Pass Block"
           ],
           "marker": {
            "color": "#000000"
           },
           "mode": "markers",
           "name": "LV",
           "type": "scatter",
           "x": [
            48.0099983215332,
            41.06999969482422,
            45.540000915527344,
            38.279998779296875,
            42.939998626708984,
            43.310001373291016,
            41.650001525878906,
            39.72999954223633,
            42.869998931884766,
            43.31999969482422,
            42.099998474121094
           ],
           "y": [
            23.84000015258789,
            13.359999656677246,
            24.079999923706055,
            19.670000076293945,
            24.489999771118164,
            20.780000686645508,
            28.06999969482422,
            16.510000228881836,
            23.350000381469727,
            22.079999923706055,
            26.190000534057617
           ]
          },
          {
           "marker": {
            "color": "#000000"
           },
           "mode": "lines",
           "name": "LV",
           "type": "scatter",
           "x": [
            48.0099983215332,
            41.06999969482422,
            45.540000915527344,
            38.279998779296875,
            42.939998626708984,
            43.310001373291016,
            41.650001525878906,
            39.72999954223633,
            42.869998931884766,
            43.31999969482422,
            42.099998474121094
           ],
           "y": [
            23.84000015258789,
            13.359999656677246,
            24.079999923706055,
            19.670000076293945,
            24.489999771118164,
            20.780000686645508,
            28.06999969482422,
            16.510000228881836,
            23.350000381469727,
            22.079999923706055,
            26.190000534057617
           ]
          },
          {
           "hoverinfo": "none",
           "marker": {
            "color": "#CBB67C"
           },
           "mode": "markers",
           "name": "football",
           "type": "scatter",
           "x": [
            48.22999954223633
           ],
           "y": [
            24.260000228881836
           ]
          }
         ],
         "name": "14"
        },
        {
         "data": [
          {
           "hoverinfo": "none",
           "mode": "text",
           "showlegend": false,
           "text": [
            "10",
            "20",
            "30",
            "40",
            "50",
            "40",
            "30",
            "20",
            "10"
           ],
           "textfont": {
            "color": "#ffffff",
            "family": "Courier New, monospace",
            "size": 30
           },
           "type": "scatter",
           "x": [
            20,
            30,
            40,
            50,
            60,
            70,
            80,
            90,
            100
           ],
           "y": [
            5,
            5,
            5,
            5,
            5,
            5,
            5,
            5,
            5
           ]
          },
          {
           "hoverinfo": "none",
           "mode": "text",
           "showlegend": false,
           "text": [
            "10",
            "20",
            "30",
            "40",
            "50",
            "40",
            "30",
            "20",
            "10"
           ],
           "textfont": {
            "color": "#ffffff",
            "family": "Courier New, monospace",
            "size": 30
           },
           "type": "scatter",
           "x": [
            20,
            30,
            40,
            50,
            60,
            70,
            80,
            90,
            100
           ],
           "y": [
            48.5,
            48.5,
            48.5,
            48.5,
            48.5,
            48.5,
            48.5,
            48.5,
            48.5
           ]
          },
          {
           "hoverinfo": "none",
           "line": {
            "color": "blue",
            "dash": "dash"
           },
           "showlegend": false,
           "type": "scatter",
           "x": [
            41,
            41
           ],
           "y": [
            0,
            53.5
           ]
          },
          {
           "hoverinfo": "none",
           "line": {
            "color": "yellow",
            "dash": "dash"
           },
           "showlegend": false,
           "type": "scatter",
           "x": [
            55,
            55
           ],
           "y": [
            0,
            53.5
           ]
          },
          {
           "hoverinfo": "text",
           "hovertext": [
            "nflId:33131<br>displayName:Calais Campbell<br>Position:DRT<br>Role:Pass Rush",
            "nflId:37240<br>displayName:Pernell McPhee<br>Position:ROLB<br>Role:Pass Rush",
            "nflId:40042<br>displayName:Brandon Williams<br>Position:NLT<br>Role:Pass Rush",
            "nflId:44828<br>displayName:Marlon Humphrey<br>Position:SCBiR<br>Role:Coverage",
            "nflId:44999<br>displayName:Chuck Clark<br>Position:LOLB<br>Role:Coverage",
            "nflId:46187<br>displayName:Anthony Averett<br>Position:SCBoR<br>Role:Coverage",
            "nflId:46259<br>displayName:DeShon Elliott<br>Position:LOLB<br>Role:Pass Rush",
            "nflId:48565<br>displayName:Chris Westry<br>Position:SCBiR<br>Role:Coverage",
            "nflId:52436<br>displayName:Patrick Queen<br>Position:MLB<br>Role:Coverage",
            "nflId:52506<br>displayName:Malik Harrison<br>Position:RCB<br>Role:Pass Rush",
            "nflId:53460<br>displayName:Odafe Oweh<br>Position:LOLB<br>Role:Pass Rush"
           ],
           "marker": {
            "color": "#241773"
           },
           "mode": "markers",
           "name": "BAL",
           "type": "scatter",
           "x": [
            42.7400016784668,
            42.41999816894531,
            42.790000915527344,
            37.869998931884766,
            40.97999954223633,
            33.650001525878906,
            43.790000915527344,
            37.290000915527344,
            39.619998931884766,
            42.91999816894531,
            41.90999984741211
           ],
           "y": [
            22.520000457763672,
            21.270000457763672,
            24.540000915527344,
            18.729999542236328,
            28.579999923706055,
            14.850000381469727,
            29.18000030517578,
            17.479999542236328,
            25.229999542236328,
            16.329999923706055,
            25.139999389648438
           ]
          },
          {
           "marker": {
            "color": "#241773"
           },
           "mode": "lines",
           "name": "BAL",
           "type": "scatter",
           "x": [
            42.7400016784668,
            42.41999816894531,
            42.790000915527344,
            37.869998931884766,
            40.97999954223633,
            33.650001525878906,
            43.790000915527344,
            37.290000915527344,
            39.619998931884766,
            42.91999816894531,
            41.90999984741211
           ],
           "y": [
            22.520000457763672,
            21.270000457763672,
            24.540000915527344,
            18.729999542236328,
            28.579999923706055,
            14.850000381469727,
            29.18000030517578,
            17.479999542236328,
            25.229999542236328,
            16.329999923706055,
            25.139999389648438
           ]
          },
          {
           "hoverinfo": "text",
           "hovertext": [
            "nflId:41265<br>displayName:Derek Carr<br>Position:QB<br>Role:Pass",
            "nflId:42547<br>displayName:Darren Waller<br>Position:LWR<br>Role:Pass Route",
            "nflId:43362<br>displayName:Kenyan Drake<br>Position:HB-L<br>Role:Pass Block",
            "nflId:44849<br>displayName:Zay Jones<br>Position:SLoWR<br>Role:Pass Route",
            "nflId:44972<br>displayName:Jermaine Eluemunor<br>Position:RG<br>Role:Pass Block",
            "nflId:46084<br>displayName:Kolton Miller<br>Position:LT<br>Role:Pass Block",
            "nflId:47920<br>displayName:Foster Moreau<br>Position:TE-R<br>Role:Pass Block",
            "nflId:47932<br>displayName:Hunter Renfrow<br>Position:SLiWR<br>Role:Pass Route",
            "nflId:48235<br>displayName:Andre James<br>Position:C<br>Role:Pass Block",
            "nflId:52517<br>displayName:John Simpson<br>Position:LG<br>Role:Pass Block",
            "nflId:53446<br>displayName:Alex Leatherwood<br>Position:RT<br>Role:Pass Block"
           ],
           "marker": {
            "color": "#000000"
           },
           "mode": "markers",
           "name": "LV",
           "type": "scatter",
           "x": [
            48.459999084472656,
            40.72999954223633,
            45.689998626708984,
            37.77000045776367,
            43.13999938964844,
            43.5,
            41.720001220703125,
            39.2400016784668,
            43.06999969482422,
            43.470001220703125,
            42.2400016784668
           ],
           "y": [
            23.899999618530273,
            13.1899995803833,
            24.440000534057617,
            20.100000381469727,
            24.450000762939453,
            20.81999969482422,
            28.110000610351562,
            16.299999237060547,
            23.309999465942383,
            22.06999969482422,
            26.020000457763672
           ]
          },
          {
           "marker": {
            "color": "#000000"
           },
           "mode": "lines",
           "name": "LV",
           "type": "scatter",
           "x": [
            48.459999084472656,
            40.72999954223633,
            45.689998626708984,
            37.77000045776367,
            43.13999938964844,
            43.5,
            41.720001220703125,
            39.2400016784668,
            43.06999969482422,
            43.470001220703125,
            42.2400016784668
           ],
           "y": [
            23.899999618530273,
            13.1899995803833,
            24.440000534057617,
            20.100000381469727,
            24.450000762939453,
            20.81999969482422,
            28.110000610351562,
            16.299999237060547,
            23.309999465942383,
            22.06999969482422,
            26.020000457763672
           ]
          },
          {
           "hoverinfo": "none",
           "marker": {
            "color": "#CBB67C"
           },
           "mode": "markers",
           "name": "football",
           "type": "scatter",
           "x": [
            48.54999923706055
           ],
           "y": [
            24.299999237060547
           ]
          }
         ],
         "name": "15"
        },
        {
         "data": [
          {
           "hoverinfo": "none",
           "mode": "text",
           "showlegend": false,
           "text": [
            "10",
            "20",
            "30",
            "40",
            "50",
            "40",
            "30",
            "20",
            "10"
           ],
           "textfont": {
            "color": "#ffffff",
            "family": "Courier New, monospace",
            "size": 30
           },
           "type": "scatter",
           "x": [
            20,
            30,
            40,
            50,
            60,
            70,
            80,
            90,
            100
           ],
           "y": [
            5,
            5,
            5,
            5,
            5,
            5,
            5,
            5,
            5
           ]
          },
          {
           "hoverinfo": "none",
           "mode": "text",
           "showlegend": false,
           "text": [
            "10",
            "20",
            "30",
            "40",
            "50",
            "40",
            "30",
            "20",
            "10"
           ],
           "textfont": {
            "color": "#ffffff",
            "family": "Courier New, monospace",
            "size": 30
           },
           "type": "scatter",
           "x": [
            20,
            30,
            40,
            50,
            60,
            70,
            80,
            90,
            100
           ],
           "y": [
            48.5,
            48.5,
            48.5,
            48.5,
            48.5,
            48.5,
            48.5,
            48.5,
            48.5
           ]
          },
          {
           "hoverinfo": "none",
           "line": {
            "color": "blue",
            "dash": "dash"
           },
           "showlegend": false,
           "type": "scatter",
           "x": [
            41,
            41
           ],
           "y": [
            0,
            53.5
           ]
          },
          {
           "hoverinfo": "none",
           "line": {
            "color": "yellow",
            "dash": "dash"
           },
           "showlegend": false,
           "type": "scatter",
           "x": [
            55,
            55
           ],
           "y": [
            0,
            53.5
           ]
          },
          {
           "hoverinfo": "text",
           "hovertext": [
            "nflId:33131<br>displayName:Calais Campbell<br>Position:DRT<br>Role:Pass Rush",
            "nflId:37240<br>displayName:Pernell McPhee<br>Position:ROLB<br>Role:Pass Rush",
            "nflId:40042<br>displayName:Brandon Williams<br>Position:NLT<br>Role:Pass Rush",
            "nflId:44828<br>displayName:Marlon Humphrey<br>Position:SCBiR<br>Role:Coverage",
            "nflId:44999<br>displayName:Chuck Clark<br>Position:LOLB<br>Role:Coverage",
            "nflId:46187<br>displayName:Anthony Averett<br>Position:SCBoR<br>Role:Coverage",
            "nflId:46259<br>displayName:DeShon Elliott<br>Position:LOLB<br>Role:Pass Rush",
            "nflId:48565<br>displayName:Chris Westry<br>Position:SCBiR<br>Role:Coverage",
            "nflId:52436<br>displayName:Patrick Queen<br>Position:MLB<br>Role:Coverage",
            "nflId:52506<br>displayName:Malik Harrison<br>Position:RCB<br>Role:Pass Rush",
            "nflId:53460<br>displayName:Odafe Oweh<br>Position:LOLB<br>Role:Pass Rush"
           ],
           "marker": {
            "color": "#241773"
           },
           "mode": "markers",
           "name": "BAL",
           "type": "scatter",
           "x": [
            43.06999969482422,
            42.630001068115234,
            43.029998779296875,
            37.54999923706055,
            41.130001068115234,
            33.52000045776367,
            44.38999938964844,
            37.04999923706055,
            39.900001525878906,
            43.40999984741211,
            42.13999938964844
           ],
           "y": [
            22.56999969482422,
            21.59000015258789,
            24.56999969482422,
            19.09000015258789,
            28.59000015258789,
            14.699999809265137,
            28.93000030517578,
            17.350000381469727,
            25.469999313354492,
            16.690000534057617,
            24.829999923706055
           ]
          },
          {
           "marker": {
            "color": "#241773"
           },
           "mode": "lines",
           "name": "BAL",
           "type": "scatter",
           "x": [
            43.06999969482422,
            42.630001068115234,
            43.029998779296875,
            37.54999923706055,
            41.130001068115234,
            33.52000045776367,
            44.38999938964844,
            37.04999923706055,
            39.900001525878906,
            43.40999984741211,
            42.13999938964844
           ],
           "y": [
            22.56999969482422,
            21.59000015258789,
            24.56999969482422,
            19.09000015258789,
            28.59000015258789,
            14.699999809265137,
            28.93000030517578,
            17.350000381469727,
            25.469999313354492,
            16.690000534057617,
            24.829999923706055
           ]
          },
          {
           "hoverinfo": "text",
           "hovertext": [
            "nflId:41265<br>displayName:Derek Carr<br>Position:QB<br>Role:Pass",
            "nflId:42547<br>displayName:Darren Waller<br>Position:LWR<br>Role:Pass Route",
            "nflId:43362<br>displayName:Kenyan Drake<br>Position:HB-L<br>Role:Pass Block",
            "nflId:44849<br>displayName:Zay Jones<br>Position:SLoWR<br>Role:Pass Route",
            "nflId:44972<br>displayName:Jermaine Eluemunor<br>Position:RG<br>Role:Pass Block",
            "nflId:46084<br>displayName:Kolton Miller<br>Position:LT<br>Role:Pass Block",
            "nflId:47920<br>displayName:Foster Moreau<br>Position:TE-R<br>Role:Pass Block",
            "nflId:47932<br>displayName:Hunter Renfrow<br>Position:SLiWR<br>Role:Pass Route",
            "nflId:48235<br>displayName:Andre James<br>Position:C<br>Role:Pass Block",
            "nflId:52517<br>displayName:John Simpson<br>Position:LG<br>Role:Pass Block",
            "nflId:53446<br>displayName:Alex Leatherwood<br>Position:RT<br>Role:Pass Block"
           ],
           "marker": {
            "color": "#000000"
           },
           "mode": "markers",
           "name": "LV",
           "type": "scatter",
           "x": [
            48.93000030517578,
            40.36000061035156,
            45.880001068115234,
            37.22999954223633,
            43.349998474121094,
            43.70000076293945,
            41.810001373291016,
            38.72999954223633,
            43.27000045776367,
            43.650001525878906,
            42.38999938964844
           ],
           "y": [
            23.979999542236328,
            13.020000457763672,
            24.809999465942383,
            20.549999237060547,
            24.420000076293945,
            20.8700008392334,
            28.170000076293945,
            16.079999923706055,
            23.280000686645508,
            22.06999969482422,
            25.850000381469727
           ]
          },
          {
           "marker": {
            "color": "#000000"
           },
           "mode": "lines",
           "name": "LV",
           "type": "scatter",
           "x": [
            48.93000030517578,
            40.36000061035156,
            45.880001068115234,
            37.22999954223633,
            43.349998474121094,
            43.70000076293945,
            41.810001373291016,
            38.72999954223633,
            43.27000045776367,
            43.650001525878906,
            42.38999938964844
           ],
           "y": [
            23.979999542236328,
            13.020000457763672,
            24.809999465942383,
            20.549999237060547,
            24.420000076293945,
            20.8700008392334,
            28.170000076293945,
            16.079999923706055,
            23.280000686645508,
            22.06999969482422,
            25.850000381469727
           ]
          },
          {
           "hoverinfo": "none",
           "marker": {
            "color": "#CBB67C"
           },
           "mode": "markers",
           "name": "football",
           "type": "scatter",
           "x": [
            48.970001220703125
           ],
           "y": [
            24.3799991607666
           ]
          }
         ],
         "name": "16"
        },
        {
         "data": [
          {
           "hoverinfo": "none",
           "mode": "text",
           "showlegend": false,
           "text": [
            "10",
            "20",
            "30",
            "40",
            "50",
            "40",
            "30",
            "20",
            "10"
           ],
           "textfont": {
            "color": "#ffffff",
            "family": "Courier New, monospace",
            "size": 30
           },
           "type": "scatter",
           "x": [
            20,
            30,
            40,
            50,
            60,
            70,
            80,
            90,
            100
           ],
           "y": [
            5,
            5,
            5,
            5,
            5,
            5,
            5,
            5,
            5
           ]
          },
          {
           "hoverinfo": "none",
           "mode": "text",
           "showlegend": false,
           "text": [
            "10",
            "20",
            "30",
            "40",
            "50",
            "40",
            "30",
            "20",
            "10"
           ],
           "textfont": {
            "color": "#ffffff",
            "family": "Courier New, monospace",
            "size": 30
           },
           "type": "scatter",
           "x": [
            20,
            30,
            40,
            50,
            60,
            70,
            80,
            90,
            100
           ],
           "y": [
            48.5,
            48.5,
            48.5,
            48.5,
            48.5,
            48.5,
            48.5,
            48.5,
            48.5
           ]
          },
          {
           "hoverinfo": "none",
           "line": {
            "color": "blue",
            "dash": "dash"
           },
           "showlegend": false,
           "type": "scatter",
           "x": [
            41,
            41
           ],
           "y": [
            0,
            53.5
           ]
          },
          {
           "hoverinfo": "none",
           "line": {
            "color": "yellow",
            "dash": "dash"
           },
           "showlegend": false,
           "type": "scatter",
           "x": [
            55,
            55
           ],
           "y": [
            0,
            53.5
           ]
          },
          {
           "hoverinfo": "text",
           "hovertext": [
            "nflId:33131<br>displayName:Calais Campbell<br>Position:DRT<br>Role:Pass Rush",
            "nflId:37240<br>displayName:Pernell McPhee<br>Position:ROLB<br>Role:Pass Rush",
            "nflId:40042<br>displayName:Brandon Williams<br>Position:NLT<br>Role:Pass Rush",
            "nflId:44828<br>displayName:Marlon Humphrey<br>Position:SCBiR<br>Role:Coverage",
            "nflId:44999<br>displayName:Chuck Clark<br>Position:LOLB<br>Role:Coverage",
            "nflId:46187<br>displayName:Anthony Averett<br>Position:SCBoR<br>Role:Coverage",
            "nflId:46259<br>displayName:DeShon Elliott<br>Position:LOLB<br>Role:Pass Rush",
            "nflId:48565<br>displayName:Chris Westry<br>Position:SCBiR<br>Role:Coverage",
            "nflId:52436<br>displayName:Patrick Queen<br>Position:MLB<br>Role:Coverage",
            "nflId:52506<br>displayName:Malik Harrison<br>Position:RCB<br>Role:Pass Rush",
            "nflId:53460<br>displayName:Odafe Oweh<br>Position:LOLB<br>Role:Pass Rush"
           ],
           "marker": {
            "color": "#241773"
           },
           "mode": "markers",
           "name": "BAL",
           "type": "scatter",
           "x": [
            43.38999938964844,
            42.84000015258789,
            43.279998779296875,
            37.209999084472656,
            41.279998779296875,
            33.38999938964844,
            45.0099983215332,
            36.779998779296875,
            40.209999084472656,
            43.939998626708984,
            42.349998474121094
           ],
           "y": [
            22.610000610351562,
            21.889999389648438,
            24.610000610351562,
            19.440000534057617,
            28.6200008392334,
            14.529999732971191,
            28.68000030517578,
            17.190000534057617,
            25.719999313354492,
            17.059999465942383,
            24.530000686645508
           ]
          },
          {
           "marker": {
            "color": "#241773"
           },
           "mode": "lines",
           "name": "BAL",
           "type": "scatter",
           "x": [
            43.38999938964844,
            42.84000015258789,
            43.279998779296875,
            37.209999084472656,
            41.279998779296875,
            33.38999938964844,
            45.0099983215332,
            36.779998779296875,
            40.209999084472656,
            43.939998626708984,
            42.349998474121094
           ],
           "y": [
            22.610000610351562,
            21.889999389648438,
            24.610000610351562,
            19.440000534057617,
            28.6200008392334,
            14.529999732971191,
            28.68000030517578,
            17.190000534057617,
            25.719999313354492,
            17.059999465942383,
            24.530000686645508
           ]
          },
          {
           "hoverinfo": "text",
           "hovertext": [
            "nflId:41265<br>displayName:Derek Carr<br>Position:QB<br>Role:Pass",
            "nflId:42547<br>displayName:Darren Waller<br>Position:LWR<br>Role:Pass Route",
            "nflId:43362<br>displayName:Kenyan Drake<br>Position:HB-L<br>Role:Pass Block",
            "nflId:44849<br>displayName:Zay Jones<br>Position:SLoWR<br>Role:Pass Route",
            "nflId:44972<br>displayName:Jermaine Eluemunor<br>Position:RG<br>Role:Pass Block",
            "nflId:46084<br>displayName:Kolton Miller<br>Position:LT<br>Role:Pass Block",
            "nflId:47920<br>displayName:Foster Moreau<br>Position:TE-R<br>Role:Pass Block",
            "nflId:47932<br>displayName:Hunter Renfrow<br>Position:SLiWR<br>Role:Pass Route",
            "nflId:48235<br>displayName:Andre James<br>Position:C<br>Role:Pass Block",
            "nflId:52517<br>displayName:John Simpson<br>Position:LG<br>Role:Pass Block",
            "nflId:53446<br>displayName:Alex Leatherwood<br>Position:RT<br>Role:Pass Block"
           ],
           "marker": {
            "color": "#000000"
           },
           "mode": "markers",
           "name": "LV",
           "type": "scatter",
           "x": [
            49.400001525878906,
            39.97999954223633,
            46.119998931884766,
            36.650001525878906,
            43.540000915527344,
            43.959999084472656,
            41.90999984741211,
            38.15999984741211,
            43.47999954223633,
            43.81999969482422,
            42.56999969482422
           ],
           "y": [
            24.059999465942383,
            12.880000114440918,
            25.170000076293945,
            21,
            24.389999389648438,
            20.90999984741211,
            28.219999313354492,
            15.850000381469727,
            23.25,
            22.06999969482422,
            25.639999389648438
           ]
          },
          {
           "marker": {
            "color": "#000000"
           },
           "mode": "lines",
           "name": "LV",
           "type": "scatter",
           "x": [
            49.400001525878906,
            39.97999954223633,
            46.119998931884766,
            36.650001525878906,
            43.540000915527344,
            43.959999084472656,
            41.90999984741211,
            38.15999984741211,
            43.47999954223633,
            43.81999969482422,
            42.56999969482422
           ],
           "y": [
            24.059999465942383,
            12.880000114440918,
            25.170000076293945,
            21,
            24.389999389648438,
            20.90999984741211,
            28.219999313354492,
            15.850000381469727,
            23.25,
            22.06999969482422,
            25.639999389648438
           ]
          },
          {
           "hoverinfo": "none",
           "marker": {
            "color": "#CBB67C"
           },
           "mode": "markers",
           "name": "football",
           "type": "scatter",
           "x": [
            49.52000045776367
           ],
           "y": [
            24.489999771118164
           ]
          }
         ],
         "name": "17"
        },
        {
         "data": [
          {
           "hoverinfo": "none",
           "mode": "text",
           "showlegend": false,
           "text": [
            "10",
            "20",
            "30",
            "40",
            "50",
            "40",
            "30",
            "20",
            "10"
           ],
           "textfont": {
            "color": "#ffffff",
            "family": "Courier New, monospace",
            "size": 30
           },
           "type": "scatter",
           "x": [
            20,
            30,
            40,
            50,
            60,
            70,
            80,
            90,
            100
           ],
           "y": [
            5,
            5,
            5,
            5,
            5,
            5,
            5,
            5,
            5
           ]
          },
          {
           "hoverinfo": "none",
           "mode": "text",
           "showlegend": false,
           "text": [
            "10",
            "20",
            "30",
            "40",
            "50",
            "40",
            "30",
            "20",
            "10"
           ],
           "textfont": {
            "color": "#ffffff",
            "family": "Courier New, monospace",
            "size": 30
           },
           "type": "scatter",
           "x": [
            20,
            30,
            40,
            50,
            60,
            70,
            80,
            90,
            100
           ],
           "y": [
            48.5,
            48.5,
            48.5,
            48.5,
            48.5,
            48.5,
            48.5,
            48.5,
            48.5
           ]
          },
          {
           "hoverinfo": "none",
           "line": {
            "color": "blue",
            "dash": "dash"
           },
           "showlegend": false,
           "type": "scatter",
           "x": [
            41,
            41
           ],
           "y": [
            0,
            53.5
           ]
          },
          {
           "hoverinfo": "none",
           "line": {
            "color": "yellow",
            "dash": "dash"
           },
           "showlegend": false,
           "type": "scatter",
           "x": [
            55,
            55
           ],
           "y": [
            0,
            53.5
           ]
          },
          {
           "hoverinfo": "text",
           "hovertext": [
            "nflId:33131<br>displayName:Calais Campbell<br>Position:DRT<br>Role:Pass Rush",
            "nflId:37240<br>displayName:Pernell McPhee<br>Position:ROLB<br>Role:Pass Rush",
            "nflId:40042<br>displayName:Brandon Williams<br>Position:NLT<br>Role:Pass Rush",
            "nflId:44828<br>displayName:Marlon Humphrey<br>Position:SCBiR<br>Role:Coverage",
            "nflId:44999<br>displayName:Chuck Clark<br>Position:LOLB<br>Role:Coverage",
            "nflId:46187<br>displayName:Anthony Averett<br>Position:SCBoR<br>Role:Coverage",
            "nflId:46259<br>displayName:DeShon Elliott<br>Position:LOLB<br>Role:Pass Rush",
            "nflId:48565<br>displayName:Chris Westry<br>Position:SCBiR<br>Role:Coverage",
            "nflId:52436<br>displayName:Patrick Queen<br>Position:MLB<br>Role:Coverage",
            "nflId:52506<br>displayName:Malik Harrison<br>Position:RCB<br>Role:Pass Rush",
            "nflId:53460<br>displayName:Odafe Oweh<br>Position:LOLB<br>Role:Pass Rush"
           ],
           "marker": {
            "color": "#241773"
           },
           "mode": "markers",
           "name": "BAL",
           "type": "scatter",
           "x": [
            43.689998626708984,
            43.040000915527344,
            43.529998779296875,
            36.81999969482422,
            41.400001525878906,
            33.27000045776367,
            45.650001525878906,
            36.470001220703125,
            40.540000915527344,
            44.4900016784668,
            42.56999969482422
           ],
           "y": [
            22.639999389648438,
            22.18000030517578,
            24.65999984741211,
            19.809999465942383,
            28.65999984741211,
            14.369999885559082,
            28.43000030517578,
            17.020000457763672,
            25.969999313354492,
            17.440000534057617,
            24.270000457763672
           ]
          },
          {
           "marker": {
            "color": "#241773"
           },
           "mode": "lines",
           "name": "BAL",
           "type": "scatter",
           "x": [
            43.689998626708984,
            43.040000915527344,
            43.529998779296875,
            36.81999969482422,
            41.400001525878906,
            33.27000045776367,
            45.650001525878906,
            36.470001220703125,
            40.540000915527344,
            44.4900016784668,
            42.56999969482422
           ],
           "y": [
            22.639999389648438,
            22.18000030517578,
            24.65999984741211,
            19.809999465942383,
            28.65999984741211,
            14.369999885559082,
            28.43000030517578,
            17.020000457763672,
            25.969999313354492,
            17.440000534057617,
            24.270000457763672
           ]
          },
          {
           "hoverinfo": "text",
           "hovertext": [
            "nflId:41265<br>displayName:Derek Carr<br>Position:QB<br>Role:Pass",
            "nflId:42547<br>displayName:Darren Waller<br>Position:LWR<br>Role:Pass Route",
            "nflId:43362<br>displayName:Kenyan Drake<br>Position:HB-L<br>Role:Pass Block",
            "nflId:44849<br>displayName:Zay Jones<br>Position:SLoWR<br>Role:Pass Route",
            "nflId:44972<br>displayName:Jermaine Eluemunor<br>Position:RG<br>Role:Pass Block",
            "nflId:46084<br>displayName:Kolton Miller<br>Position:LT<br>Role:Pass Block",
            "nflId:47920<br>displayName:Foster Moreau<br>Position:TE-R<br>Role:Pass Block",
            "nflId:47932<br>displayName:Hunter Renfrow<br>Position:SLiWR<br>Role:Pass Route",
            "nflId:48235<br>displayName:Andre James<br>Position:C<br>Role:Pass Block",
            "nflId:52517<br>displayName:John Simpson<br>Position:LG<br>Role:Pass Block",
            "nflId:53446<br>displayName:Alex Leatherwood<br>Position:RT<br>Role:Pass Block"
           ],
           "marker": {
            "color": "#000000"
           },
           "mode": "markers",
           "name": "LV",
           "type": "scatter",
           "x": [
            49.86000061035156,
            39.58000183105469,
            46.40999984741211,
            36.040000915527344,
            43.7400016784668,
            44.2400016784668,
            42.02000045776367,
            37.56999969482422,
            43.689998626708984,
            44,
            42.7400016784668
           ],
           "y": [
            24.149999618530273,
            12.760000228881836,
            25.510000228881836,
            21.459999084472656,
            24.3700008392334,
            20.959999084472656,
            28.25,
            15.640000343322754,
            23.239999771118164,
            22.079999923706055,
            25.440000534057617
           ]
          },
          {
           "marker": {
            "color": "#000000"
           },
           "mode": "lines",
           "name": "LV",
           "type": "scatter",
           "x": [
            49.86000061035156,
            39.58000183105469,
            46.40999984741211,
            36.040000915527344,
            43.7400016784668,
            44.2400016784668,
            42.02000045776367,
            37.56999969482422,
            43.689998626708984,
            44,
            42.7400016784668
           ],
           "y": [
            24.149999618530273,
            12.760000228881836,
            25.510000228881836,
            21.459999084472656,
            24.3700008392334,
            20.959999084472656,
            28.25,
            15.640000343322754,
            23.239999771118164,
            22.079999923706055,
            25.440000534057617
           ]
          },
          {
           "hoverinfo": "none",
           "marker": {
            "color": "#CBB67C"
           },
           "mode": "markers",
           "name": "football",
           "type": "scatter",
           "x": [
            49.959999084472656
           ],
           "y": [
            24.56999969482422
           ]
          }
         ],
         "name": "18"
        },
        {
         "data": [
          {
           "hoverinfo": "none",
           "mode": "text",
           "showlegend": false,
           "text": [
            "10",
            "20",
            "30",
            "40",
            "50",
            "40",
            "30",
            "20",
            "10"
           ],
           "textfont": {
            "color": "#ffffff",
            "family": "Courier New, monospace",
            "size": 30
           },
           "type": "scatter",
           "x": [
            20,
            30,
            40,
            50,
            60,
            70,
            80,
            90,
            100
           ],
           "y": [
            5,
            5,
            5,
            5,
            5,
            5,
            5,
            5,
            5
           ]
          },
          {
           "hoverinfo": "none",
           "mode": "text",
           "showlegend": false,
           "text": [
            "10",
            "20",
            "30",
            "40",
            "50",
            "40",
            "30",
            "20",
            "10"
           ],
           "textfont": {
            "color": "#ffffff",
            "family": "Courier New, monospace",
            "size": 30
           },
           "type": "scatter",
           "x": [
            20,
            30,
            40,
            50,
            60,
            70,
            80,
            90,
            100
           ],
           "y": [
            48.5,
            48.5,
            48.5,
            48.5,
            48.5,
            48.5,
            48.5,
            48.5,
            48.5
           ]
          },
          {
           "hoverinfo": "none",
           "line": {
            "color": "blue",
            "dash": "dash"
           },
           "showlegend": false,
           "type": "scatter",
           "x": [
            41,
            41
           ],
           "y": [
            0,
            53.5
           ]
          },
          {
           "hoverinfo": "none",
           "line": {
            "color": "yellow",
            "dash": "dash"
           },
           "showlegend": false,
           "type": "scatter",
           "x": [
            55,
            55
           ],
           "y": [
            0,
            53.5
           ]
          },
          {
           "hoverinfo": "text",
           "hovertext": [
            "nflId:33131<br>displayName:Calais Campbell<br>Position:DRT<br>Role:Pass Rush",
            "nflId:37240<br>displayName:Pernell McPhee<br>Position:ROLB<br>Role:Pass Rush",
            "nflId:40042<br>displayName:Brandon Williams<br>Position:NLT<br>Role:Pass Rush",
            "nflId:44828<br>displayName:Marlon Humphrey<br>Position:SCBiR<br>Role:Coverage",
            "nflId:44999<br>displayName:Chuck Clark<br>Position:LOLB<br>Role:Coverage",
            "nflId:46187<br>displayName:Anthony Averett<br>Position:SCBoR<br>Role:Coverage",
            "nflId:46259<br>displayName:DeShon Elliott<br>Position:LOLB<br>Role:Pass Rush",
            "nflId:48565<br>displayName:Chris Westry<br>Position:SCBiR<br>Role:Coverage",
            "nflId:52436<br>displayName:Patrick Queen<br>Position:MLB<br>Role:Coverage",
            "nflId:52506<br>displayName:Malik Harrison<br>Position:RCB<br>Role:Pass Rush",
            "nflId:53460<br>displayName:Odafe Oweh<br>Position:LOLB<br>Role:Pass Rush"
           ],
           "marker": {
            "color": "#241773"
           },
           "mode": "markers",
           "name": "BAL",
           "type": "scatter",
           "x": [
            43.97999954223633,
            43.25,
            43.779998779296875,
            36.400001525878906,
            41.5099983215332,
            33.16999816894531,
            46.290000915527344,
            36.119998931884766,
            40.88999938964844,
            45.060001373291016,
            42.790000915527344
           ],
           "y": [
            22.68000030517578,
            22.450000762939453,
            24.709999084472656,
            20.18000030517578,
            28.700000762939453,
            14.220000267028809,
            28.200000762939453,
            16.829999923706055,
            26.200000762939453,
            17.84000015258789,
            24.020000457763672
           ]
          },
          {
           "marker": {
            "color": "#241773"
           },
           "mode": "lines",
           "name": "BAL",
           "type": "scatter",
           "x": [
            43.97999954223633,
            43.25,
            43.779998779296875,
            36.400001525878906,
            41.5099983215332,
            33.16999816894531,
            46.290000915527344,
            36.119998931884766,
            40.88999938964844,
            45.060001373291016,
            42.790000915527344
           ],
           "y": [
            22.68000030517578,
            22.450000762939453,
            24.709999084472656,
            20.18000030517578,
            28.700000762939453,
            14.220000267028809,
            28.200000762939453,
            16.829999923706055,
            26.200000762939453,
            17.84000015258789,
            24.020000457763672
           ]
          },
          {
           "hoverinfo": "text",
           "hovertext": [
            "nflId:41265<br>displayName:Derek Carr<br>Position:QB<br>Role:Pass",
            "nflId:42547<br>displayName:Darren Waller<br>Position:LWR<br>Role:Pass Route",
            "nflId:43362<br>displayName:Kenyan Drake<br>Position:HB-L<br>Role:Pass Block",
            "nflId:44849<br>displayName:Zay Jones<br>Position:SLoWR<br>Role:Pass Route",
            "nflId:44972<br>displayName:Jermaine Eluemunor<br>Position:RG<br>Role:Pass Block",
            "nflId:46084<br>displayName:Kolton Miller<br>Position:LT<br>Role:Pass Block",
            "nflId:47920<br>displayName:Foster Moreau<br>Position:TE-R<br>Role:Pass Block",
            "nflId:47932<br>displayName:Hunter Renfrow<br>Position:SLiWR<br>Role:Pass Route",
            "nflId:48235<br>displayName:Andre James<br>Position:C<br>Role:Pass Block",
            "nflId:52517<br>displayName:John Simpson<br>Position:LG<br>Role:Pass Block",
            "nflId:53446<br>displayName:Alex Leatherwood<br>Position:RT<br>Role:Pass Block"
           ],
           "marker": {
            "color": "#000000"
           },
           "mode": "markers",
           "name": "LV",
           "type": "scatter",
           "x": [
            50.310001373291016,
            39.16999816894531,
            46.72999954223633,
            35.40999984741211,
            43.970001220703125,
            44.560001373291016,
            42.119998931884766,
            36.959999084472656,
            43.900001525878906,
            44.16999816894531,
            42.93000030517578
           ],
           "y": [
            24.239999771118164,
            12.65999984741211,
            25.860000610351562,
            21.920000076293945,
            24.360000610351562,
            21,
            28.260000228881836,
            15.430000305175781,
            23.219999313354492,
            22.06999969482422,
            25.229999542236328
           ]
          },
          {
           "marker": {
            "color": "#000000"
           },
           "mode": "lines",
           "name": "LV",
           "type": "scatter",
           "x": [
            50.310001373291016,
            39.16999816894531,
            46.72999954223633,
            35.40999984741211,
            43.970001220703125,
            44.560001373291016,
            42.119998931884766,
            36.959999084472656,
            43.900001525878906,
            44.16999816894531,
            42.93000030517578
           ],
           "y": [
            24.239999771118164,
            12.65999984741211,
            25.860000610351562,
            21.920000076293945,
            24.360000610351562,
            21,
            28.260000228881836,
            15.430000305175781,
            23.219999313354492,
            22.06999969482422,
            25.229999542236328
           ]
          },
          {
           "hoverinfo": "none",
           "marker": {
            "color": "#CBB67C"
           },
           "mode": "markers",
           "name": "football",
           "type": "scatter",
           "x": [
            50.38999938964844
           ],
           "y": [
            24.649999618530273
           ]
          }
         ],
         "name": "19"
        },
        {
         "data": [
          {
           "hoverinfo": "none",
           "mode": "text",
           "showlegend": false,
           "text": [
            "10",
            "20",
            "30",
            "40",
            "50",
            "40",
            "30",
            "20",
            "10"
           ],
           "textfont": {
            "color": "#ffffff",
            "family": "Courier New, monospace",
            "size": 30
           },
           "type": "scatter",
           "x": [
            20,
            30,
            40,
            50,
            60,
            70,
            80,
            90,
            100
           ],
           "y": [
            5,
            5,
            5,
            5,
            5,
            5,
            5,
            5,
            5
           ]
          },
          {
           "hoverinfo": "none",
           "mode": "text",
           "showlegend": false,
           "text": [
            "10",
            "20",
            "30",
            "40",
            "50",
            "40",
            "30",
            "20",
            "10"
           ],
           "textfont": {
            "color": "#ffffff",
            "family": "Courier New, monospace",
            "size": 30
           },
           "type": "scatter",
           "x": [
            20,
            30,
            40,
            50,
            60,
            70,
            80,
            90,
            100
           ],
           "y": [
            48.5,
            48.5,
            48.5,
            48.5,
            48.5,
            48.5,
            48.5,
            48.5,
            48.5
           ]
          },
          {
           "hoverinfo": "none",
           "line": {
            "color": "blue",
            "dash": "dash"
           },
           "showlegend": false,
           "type": "scatter",
           "x": [
            41,
            41
           ],
           "y": [
            0,
            53.5
           ]
          },
          {
           "hoverinfo": "none",
           "line": {
            "color": "yellow",
            "dash": "dash"
           },
           "showlegend": false,
           "type": "scatter",
           "x": [
            55,
            55
           ],
           "y": [
            0,
            53.5
           ]
          },
          {
           "hoverinfo": "text",
           "hovertext": [
            "nflId:33131<br>displayName:Calais Campbell<br>Position:DRT<br>Role:Pass Rush",
            "nflId:37240<br>displayName:Pernell McPhee<br>Position:ROLB<br>Role:Pass Rush",
            "nflId:40042<br>displayName:Brandon Williams<br>Position:NLT<br>Role:Pass Rush",
            "nflId:44828<br>displayName:Marlon Humphrey<br>Position:SCBiR<br>Role:Coverage",
            "nflId:44999<br>displayName:Chuck Clark<br>Position:LOLB<br>Role:Coverage",
            "nflId:46187<br>displayName:Anthony Averett<br>Position:SCBoR<br>Role:Coverage",
            "nflId:46259<br>displayName:DeShon Elliott<br>Position:LOLB<br>Role:Pass Rush",
            "nflId:48565<br>displayName:Chris Westry<br>Position:SCBiR<br>Role:Coverage",
            "nflId:52436<br>displayName:Patrick Queen<br>Position:MLB<br>Role:Coverage",
            "nflId:52506<br>displayName:Malik Harrison<br>Position:RCB<br>Role:Pass Rush",
            "nflId:53460<br>displayName:Odafe Oweh<br>Position:LOLB<br>Role:Pass Rush"
           ],
           "marker": {
            "color": "#241773"
           },
           "mode": "markers",
           "name": "BAL",
           "type": "scatter",
           "x": [
            44.27000045776367,
            43.45000076293945,
            44.040000915527344,
            35.959999084472656,
            41.599998474121094,
            33.08000183105469,
            46.939998626708984,
            35.72999954223633,
            41.25,
            45.63999938964844,
            43.0099983215332
           ],
           "y": [
            22.729999542236328,
            22.649999618530273,
            24.75,
            20.549999237060547,
            28.729999542236328,
            14.09000015258789,
            27.979999542236328,
            16.6299991607666,
            26.40999984741211,
            18.239999771118164,
            23.81999969482422
           ]
          },
          {
           "marker": {
            "color": "#241773"
           },
           "mode": "lines",
           "name": "BAL",
           "type": "scatter",
           "x": [
            44.27000045776367,
            43.45000076293945,
            44.040000915527344,
            35.959999084472656,
            41.599998474121094,
            33.08000183105469,
            46.939998626708984,
            35.72999954223633,
            41.25,
            45.63999938964844,
            43.0099983215332
           ],
           "y": [
            22.729999542236328,
            22.649999618530273,
            24.75,
            20.549999237060547,
            28.729999542236328,
            14.09000015258789,
            27.979999542236328,
            16.6299991607666,
            26.40999984741211,
            18.239999771118164,
            23.81999969482422
           ]
          },
          {
           "hoverinfo": "text",
           "hovertext": [
            "nflId:41265<br>displayName:Derek Carr<br>Position:QB<br>Role:Pass",
            "nflId:42547<br>displayName:Darren Waller<br>Position:LWR<br>Role:Pass Route",
            "nflId:43362<br>displayName:Kenyan Drake<br>Position:HB-L<br>Role:Pass Block",
            "nflId:44849<br>displayName:Zay Jones<br>Position:SLoWR<br>Role:Pass Route",
            "nflId:44972<br>displayName:Jermaine Eluemunor<br>Position:RG<br>Role:Pass Block",
            "nflId:46084<br>displayName:Kolton Miller<br>Position:LT<br>Role:Pass Block",
            "nflId:47920<br>displayName:Foster Moreau<br>Position:TE-R<br>Role:Pass Block",
            "nflId:47932<br>displayName:Hunter Renfrow<br>Position:SLiWR<br>Role:Pass Route",
            "nflId:48235<br>displayName:Andre James<br>Position:C<br>Role:Pass Block",
            "nflId:52517<br>displayName:John Simpson<br>Position:LG<br>Role:Pass Block",
            "nflId:53446<br>displayName:Alex Leatherwood<br>Position:RT<br>Role:Pass Block"
           ],
           "marker": {
            "color": "#000000"
           },
           "mode": "markers",
           "name": "LV",
           "type": "scatter",
           "x": [
            50.7400016784668,
            38.75,
            47.08000183105469,
            34.75,
            44.16999816894531,
            44.90999984741211,
            42.220001220703125,
            36.310001373291016,
            44.119998931884766,
            44.369998931884766,
            43.130001068115234
           ],
           "y": [
            24.34000015258789,
            12.609999656677246,
            26.18000030517578,
            22.389999389648438,
            24.360000610351562,
            21.040000915527344,
            28.260000228881836,
            15.260000228881836,
            23.229999542236328,
            22.09000015258789,
            25.020000457763672
           ]
          },
          {
           "marker": {
            "color": "#000000"
           },
           "mode": "lines",
           "name": "LV",
           "type": "scatter",
           "x": [
            50.7400016784668,
            38.75,
            47.08000183105469,
            34.75,
            44.16999816894531,
            44.90999984741211,
            42.220001220703125,
            36.310001373291016,
            44.119998931884766,
            44.369998931884766,
            43.130001068115234
           ],
           "y": [
            24.34000015258789,
            12.609999656677246,
            26.18000030517578,
            22.389999389648438,
            24.360000610351562,
            21.040000915527344,
            28.260000228881836,
            15.260000228881836,
            23.229999542236328,
            22.09000015258789,
            25.020000457763672
           ]
          },
          {
           "hoverinfo": "none",
           "marker": {
            "color": "#CBB67C"
           },
           "mode": "markers",
           "name": "football",
           "type": "scatter",
           "x": [
            50.84000015258789
           ],
           "y": [
            24.729999542236328
           ]
          }
         ],
         "name": "20"
        },
        {
         "data": [
          {
           "hoverinfo": "none",
           "mode": "text",
           "showlegend": false,
           "text": [
            "10",
            "20",
            "30",
            "40",
            "50",
            "40",
            "30",
            "20",
            "10"
           ],
           "textfont": {
            "color": "#ffffff",
            "family": "Courier New, monospace",
            "size": 30
           },
           "type": "scatter",
           "x": [
            20,
            30,
            40,
            50,
            60,
            70,
            80,
            90,
            100
           ],
           "y": [
            5,
            5,
            5,
            5,
            5,
            5,
            5,
            5,
            5
           ]
          },
          {
           "hoverinfo": "none",
           "mode": "text",
           "showlegend": false,
           "text": [
            "10",
            "20",
            "30",
            "40",
            "50",
            "40",
            "30",
            "20",
            "10"
           ],
           "textfont": {
            "color": "#ffffff",
            "family": "Courier New, monospace",
            "size": 30
           },
           "type": "scatter",
           "x": [
            20,
            30,
            40,
            50,
            60,
            70,
            80,
            90,
            100
           ],
           "y": [
            48.5,
            48.5,
            48.5,
            48.5,
            48.5,
            48.5,
            48.5,
            48.5,
            48.5
           ]
          },
          {
           "hoverinfo": "none",
           "line": {
            "color": "blue",
            "dash": "dash"
           },
           "showlegend": false,
           "type": "scatter",
           "x": [
            41,
            41
           ],
           "y": [
            0,
            53.5
           ]
          },
          {
           "hoverinfo": "none",
           "line": {
            "color": "yellow",
            "dash": "dash"
           },
           "showlegend": false,
           "type": "scatter",
           "x": [
            55,
            55
           ],
           "y": [
            0,
            53.5
           ]
          },
          {
           "hoverinfo": "text",
           "hovertext": [
            "nflId:33131<br>displayName:Calais Campbell<br>Position:DRT<br>Role:Pass Rush",
            "nflId:37240<br>displayName:Pernell McPhee<br>Position:ROLB<br>Role:Pass Rush",
            "nflId:40042<br>displayName:Brandon Williams<br>Position:NLT<br>Role:Pass Rush",
            "nflId:44828<br>displayName:Marlon Humphrey<br>Position:SCBiR<br>Role:Coverage",
            "nflId:44999<br>displayName:Chuck Clark<br>Position:LOLB<br>Role:Coverage",
            "nflId:46187<br>displayName:Anthony Averett<br>Position:SCBoR<br>Role:Coverage",
            "nflId:46259<br>displayName:DeShon Elliott<br>Position:LOLB<br>Role:Pass Rush",
            "nflId:48565<br>displayName:Chris Westry<br>Position:SCBiR<br>Role:Coverage",
            "nflId:52436<br>displayName:Patrick Queen<br>Position:MLB<br>Role:Coverage",
            "nflId:52506<br>displayName:Malik Harrison<br>Position:RCB<br>Role:Pass Rush",
            "nflId:53460<br>displayName:Odafe Oweh<br>Position:LOLB<br>Role:Pass Rush"
           ],
           "marker": {
            "color": "#241773"
           },
           "mode": "markers",
           "name": "BAL",
           "type": "scatter",
           "x": [
            44.54999923706055,
            43.66999816894531,
            44.310001373291016,
            35.470001220703125,
            41.68000030517578,
            33,
            47.59000015258789,
            35.290000915527344,
            41.63999938964844,
            46.22999954223633,
            43.22999954223633
           ],
           "y": [
            22.770000457763672,
            22.799999237060547,
            24.790000915527344,
            20.90999984741211,
            28.75,
            13.989999771118164,
            27.790000915527344,
            16.43000030517578,
            26.600000381469727,
            18.65999984741211,
            23.6299991607666
           ]
          },
          {
           "marker": {
            "color": "#241773"
           },
           "mode": "lines",
           "name": "BAL",
           "type": "scatter",
           "x": [
            44.54999923706055,
            43.66999816894531,
            44.310001373291016,
            35.470001220703125,
            41.68000030517578,
            33,
            47.59000015258789,
            35.290000915527344,
            41.63999938964844,
            46.22999954223633,
            43.22999954223633
           ],
           "y": [
            22.770000457763672,
            22.799999237060547,
            24.790000915527344,
            20.90999984741211,
            28.75,
            13.989999771118164,
            27.790000915527344,
            16.43000030517578,
            26.600000381469727,
            18.65999984741211,
            23.6299991607666
           ]
          },
          {
           "hoverinfo": "text",
           "hovertext": [
            "nflId:41265<br>displayName:Derek Carr<br>Position:QB<br>Role:Pass",
            "nflId:42547<br>displayName:Darren Waller<br>Position:LWR<br>Role:Pass Route",
            "nflId:43362<br>displayName:Kenyan Drake<br>Position:HB-L<br>Role:Pass Block",
            "nflId:44849<br>displayName:Zay Jones<br>Position:SLoWR<br>Role:Pass Route",
            "nflId:44972<br>displayName:Jermaine Eluemunor<br>Position:RG<br>Role:Pass Block",
            "nflId:46084<br>displayName:Kolton Miller<br>Position:LT<br>Role:Pass Block",
            "nflId:47920<br>displayName:Foster Moreau<br>Position:TE-R<br>Role:Pass Block",
            "nflId:47932<br>displayName:Hunter Renfrow<br>Position:SLiWR<br>Role:Pass Route",
            "nflId:48235<br>displayName:Andre James<br>Position:C<br>Role:Pass Block",
            "nflId:52517<br>displayName:John Simpson<br>Position:LG<br>Role:Pass Block",
            "nflId:53446<br>displayName:Alex Leatherwood<br>Position:RT<br>Role:Pass Block"
           ],
           "marker": {
            "color": "#000000"
           },
           "mode": "markers",
           "name": "LV",
           "type": "scatter",
           "x": [
            51.13999938964844,
            38.31999969482422,
            47.45000076293945,
            34.08000183105469,
            44.380001068115234,
            45.29999923706055,
            42.310001373291016,
            35.630001068115234,
            44.33000183105469,
            44.58000183105469,
            43.31999969482422
           ],
           "y": [
            24.440000534057617,
            12.600000381469727,
            26.5,
            22.860000610351562,
            24.360000610351562,
            21.09000015258789,
            28.239999771118164,
            15.109999656677246,
            23.239999771118164,
            22.1299991607666,
            24.809999465942383
           ]
          },
          {
           "marker": {
            "color": "#000000"
           },
           "mode": "lines",
           "name": "LV",
           "type": "scatter",
           "x": [
            51.13999938964844,
            38.31999969482422,
            47.45000076293945,
            34.08000183105469,
            44.380001068115234,
            45.29999923706055,
            42.310001373291016,
            35.630001068115234,
            44.33000183105469,
            44.58000183105469,
            43.31999969482422
           ],
           "y": [
            24.440000534057617,
            12.600000381469727,
            26.5,
            22.860000610351562,
            24.360000610351562,
            21.09000015258789,
            28.239999771118164,
            15.109999656677246,
            23.239999771118164,
            22.1299991607666,
            24.809999465942383
           ]
          },
          {
           "hoverinfo": "none",
           "marker": {
            "color": "#CBB67C"
           },
           "mode": "markers",
           "name": "football",
           "type": "scatter",
           "x": [
            51.25
           ],
           "y": [
            24.829999923706055
           ]
          }
         ],
         "name": "21"
        },
        {
         "data": [
          {
           "hoverinfo": "none",
           "mode": "text",
           "showlegend": false,
           "text": [
            "10",
            "20",
            "30",
            "40",
            "50",
            "40",
            "30",
            "20",
            "10"
           ],
           "textfont": {
            "color": "#ffffff",
            "family": "Courier New, monospace",
            "size": 30
           },
           "type": "scatter",
           "x": [
            20,
            30,
            40,
            50,
            60,
            70,
            80,
            90,
            100
           ],
           "y": [
            5,
            5,
            5,
            5,
            5,
            5,
            5,
            5,
            5
           ]
          },
          {
           "hoverinfo": "none",
           "mode": "text",
           "showlegend": false,
           "text": [
            "10",
            "20",
            "30",
            "40",
            "50",
            "40",
            "30",
            "20",
            "10"
           ],
           "textfont": {
            "color": "#ffffff",
            "family": "Courier New, monospace",
            "size": 30
           },
           "type": "scatter",
           "x": [
            20,
            30,
            40,
            50,
            60,
            70,
            80,
            90,
            100
           ],
           "y": [
            48.5,
            48.5,
            48.5,
            48.5,
            48.5,
            48.5,
            48.5,
            48.5,
            48.5
           ]
          },
          {
           "hoverinfo": "none",
           "line": {
            "color": "blue",
            "dash": "dash"
           },
           "showlegend": false,
           "type": "scatter",
           "x": [
            41,
            41
           ],
           "y": [
            0,
            53.5
           ]
          },
          {
           "hoverinfo": "none",
           "line": {
            "color": "yellow",
            "dash": "dash"
           },
           "showlegend": false,
           "type": "scatter",
           "x": [
            55,
            55
           ],
           "y": [
            0,
            53.5
           ]
          },
          {
           "hoverinfo": "text",
           "hovertext": [
            "nflId:33131<br>displayName:Calais Campbell<br>Position:DRT<br>Role:Pass Rush",
            "nflId:37240<br>displayName:Pernell McPhee<br>Position:ROLB<br>Role:Pass Rush",
            "nflId:40042<br>displayName:Brandon Williams<br>Position:NLT<br>Role:Pass Rush",
            "nflId:44828<br>displayName:Marlon Humphrey<br>Position:SCBiR<br>Role:Coverage",
            "nflId:44999<br>displayName:Chuck Clark<br>Position:LOLB<br>Role:Coverage",
            "nflId:46187<br>displayName:Anthony Averett<br>Position:SCBoR<br>Role:Coverage",
            "nflId:46259<br>displayName:DeShon Elliott<br>Position:LOLB<br>Role:Pass Rush",
            "nflId:48565<br>displayName:Chris Westry<br>Position:SCBiR<br>Role:Coverage",
            "nflId:52436<br>displayName:Patrick Queen<br>Position:MLB<br>Role:Coverage",
            "nflId:52506<br>displayName:Malik Harrison<br>Position:RCB<br>Role:Pass Rush",
            "nflId:53460<br>displayName:Odafe Oweh<br>Position:LOLB<br>Role:Pass Rush"
           ],
           "marker": {
            "color": "#241773"
           },
           "mode": "markers",
           "name": "BAL",
           "type": "scatter",
           "x": [
            44.83000183105469,
            43.88999938964844,
            44.59000015258789,
            34.959999084472656,
            41.720001220703125,
            32.93000030517578,
            48.25,
            34.810001373291016,
            42.060001373291016,
            46.810001373291016,
            43.45000076293945
           ],
           "y": [
            22.829999923706055,
            22.889999389648438,
            24.850000381469727,
            21.280000686645508,
            28.75,
            13.920000076293945,
            27.610000610351562,
            16.229999542236328,
            26.739999771118164,
            19.079999923706055,
            23.469999313354492
           ]
          },
          {
           "marker": {
            "color": "#241773"
           },
           "mode": "lines",
           "name": "BAL",
           "type": "scatter",
           "x": [
            44.83000183105469,
            43.88999938964844,
            44.59000015258789,
            34.959999084472656,
            41.720001220703125,
            32.93000030517578,
            48.25,
            34.810001373291016,
            42.060001373291016,
            46.810001373291016,
            43.45000076293945
           ],
           "y": [
            22.829999923706055,
            22.889999389648438,
            24.850000381469727,
            21.280000686645508,
            28.75,
            13.920000076293945,
            27.610000610351562,
            16.229999542236328,
            26.739999771118164,
            19.079999923706055,
            23.469999313354492
           ]
          },
          {
           "hoverinfo": "text",
           "hovertext": [
            "nflId:41265<br>displayName:Derek Carr<br>Position:QB<br>Role:Pass",
            "nflId:42547<br>displayName:Darren Waller<br>Position:LWR<br>Role:Pass Route",
            "nflId:43362<br>displayName:Kenyan Drake<br>Position:HB-L<br>Role:Pass Block",
            "nflId:44849<br>displayName:Zay Jones<br>Position:SLoWR<br>Role:Pass Route",
            "nflId:44972<br>displayName:Jermaine Eluemunor<br>Position:RG<br>Role:Pass Block",
            "nflId:46084<br>displayName:Kolton Miller<br>Position:LT<br>Role:Pass Block",
            "nflId:47920<br>displayName:Foster Moreau<br>Position:TE-R<br>Role:Pass Block",
            "nflId:47932<br>displayName:Hunter Renfrow<br>Position:SLiWR<br>Role:Pass Route",
            "nflId:48235<br>displayName:Andre James<br>Position:C<br>Role:Pass Block",
            "nflId:52517<br>displayName:John Simpson<br>Position:LG<br>Role:Pass Block",
            "nflId:53446<br>displayName:Alex Leatherwood<br>Position:RT<br>Role:Pass Block"
           ],
           "marker": {
            "color": "#000000"
           },
           "mode": "markers",
           "name": "LV",
           "type": "scatter",
           "x": [
            51.52000045776367,
            37.88999938964844,
            47.790000915527344,
            33.400001525878906,
            44.599998474121094,
            45.7400016784668,
            42.38999938964844,
            34.91999816894531,
            44.540000915527344,
            44.790000915527344,
            43.52000045776367
           ],
           "y": [
            24.520000457763672,
            12.649999618530273,
            26.780000686645508,
            23.34000015258789,
            24.3799991607666,
            21.170000076293945,
            28.209999084472656,
            14.989999771118164,
            23.239999771118164,
            22.18000030517578,
            24.600000381469727
           ]
          },
          {
           "marker": {
            "color": "#000000"
           },
           "mode": "lines",
           "name": "LV",
           "type": "scatter",
           "x": [
            51.52000045776367,
            37.88999938964844,
            47.790000915527344,
            33.400001525878906,
            44.599998474121094,
            45.7400016784668,
            42.38999938964844,
            34.91999816894531,
            44.540000915527344,
            44.790000915527344,
            43.52000045776367
           ],
           "y": [
            24.520000457763672,
            12.649999618530273,
            26.780000686645508,
            23.34000015258789,
            24.3799991607666,
            21.170000076293945,
            28.209999084472656,
            14.989999771118164,
            23.239999771118164,
            22.18000030517578,
            24.600000381469727
           ]
          },
          {
           "hoverinfo": "none",
           "marker": {
            "color": "#CBB67C"
           },
           "mode": "markers",
           "name": "football",
           "type": "scatter",
           "x": [
            51.66999816894531
           ],
           "y": [
            24.93000030517578
           ]
          }
         ],
         "name": "22"
        },
        {
         "data": [
          {
           "hoverinfo": "none",
           "mode": "text",
           "showlegend": false,
           "text": [
            "10",
            "20",
            "30",
            "40",
            "50",
            "40",
            "30",
            "20",
            "10"
           ],
           "textfont": {
            "color": "#ffffff",
            "family": "Courier New, monospace",
            "size": 30
           },
           "type": "scatter",
           "x": [
            20,
            30,
            40,
            50,
            60,
            70,
            80,
            90,
            100
           ],
           "y": [
            5,
            5,
            5,
            5,
            5,
            5,
            5,
            5,
            5
           ]
          },
          {
           "hoverinfo": "none",
           "mode": "text",
           "showlegend": false,
           "text": [
            "10",
            "20",
            "30",
            "40",
            "50",
            "40",
            "30",
            "20",
            "10"
           ],
           "textfont": {
            "color": "#ffffff",
            "family": "Courier New, monospace",
            "size": 30
           },
           "type": "scatter",
           "x": [
            20,
            30,
            40,
            50,
            60,
            70,
            80,
            90,
            100
           ],
           "y": [
            48.5,
            48.5,
            48.5,
            48.5,
            48.5,
            48.5,
            48.5,
            48.5,
            48.5
           ]
          },
          {
           "hoverinfo": "none",
           "line": {
            "color": "blue",
            "dash": "dash"
           },
           "showlegend": false,
           "type": "scatter",
           "x": [
            41,
            41
           ],
           "y": [
            0,
            53.5
           ]
          },
          {
           "hoverinfo": "none",
           "line": {
            "color": "yellow",
            "dash": "dash"
           },
           "showlegend": false,
           "type": "scatter",
           "x": [
            55,
            55
           ],
           "y": [
            0,
            53.5
           ]
          },
          {
           "hoverinfo": "text",
           "hovertext": [
            "nflId:33131<br>displayName:Calais Campbell<br>Position:DRT<br>Role:Pass Rush",
            "nflId:37240<br>displayName:Pernell McPhee<br>Position:ROLB<br>Role:Pass Rush",
            "nflId:40042<br>displayName:Brandon Williams<br>Position:NLT<br>Role:Pass Rush",
            "nflId:44828<br>displayName:Marlon Humphrey<br>Position:SCBiR<br>Role:Coverage",
            "nflId:44999<br>displayName:Chuck Clark<br>Position:LOLB<br>Role:Coverage",
            "nflId:46187<br>displayName:Anthony Averett<br>Position:SCBoR<br>Role:Coverage",
            "nflId:46259<br>displayName:DeShon Elliott<br>Position:LOLB<br>Role:Pass Rush",
            "nflId:48565<br>displayName:Chris Westry<br>Position:SCBiR<br>Role:Coverage",
            "nflId:52436<br>displayName:Patrick Queen<br>Position:MLB<br>Role:Coverage",
            "nflId:52506<br>displayName:Malik Harrison<br>Position:RCB<br>Role:Pass Rush",
            "nflId:53460<br>displayName:Odafe Oweh<br>Position:LOLB<br>Role:Pass Rush"
           ],
           "marker": {
            "color": "#241773"
           },
           "mode": "markers",
           "name": "BAL",
           "type": "scatter",
           "x": [
            45.099998474121094,
            44.11000061035156,
            44.869998931884766,
            34.40999984741211,
            41.72999954223633,
            32.88999938964844,
            48.900001525878906,
            34.279998779296875,
            42.47999954223633,
            47.38999938964844,
            43.65999984741211
           ],
           "y": [
            22.889999389648438,
            22.93000030517578,
            24.90999984741211,
            21.639999389648438,
            28.719999313354492,
            13.890000343322754,
            27.450000762939453,
            16.040000915527344,
            26.860000610351562,
            19.510000228881836,
            23.329999923706055
           ]
          },
          {
           "marker": {
            "color": "#241773"
           },
           "mode": "lines",
           "name": "BAL",
           "type": "scatter",
           "x": [
            45.099998474121094,
            44.11000061035156,
            44.869998931884766,
            34.40999984741211,
            41.72999954223633,
            32.88999938964844,
            48.900001525878906,
            34.279998779296875,
            42.47999954223633,
            47.38999938964844,
            43.65999984741211
           ],
           "y": [
            22.889999389648438,
            22.93000030517578,
            24.90999984741211,
            21.639999389648438,
            28.719999313354492,
            13.890000343322754,
            27.450000762939453,
            16.040000915527344,
            26.860000610351562,
            19.510000228881836,
            23.329999923706055
           ]
          },
          {
           "hoverinfo": "text",
           "hovertext": [
            "nflId:41265<br>displayName:Derek Carr<br>Position:QB<br>Role:Pass",
            "nflId:42547<br>displayName:Darren Waller<br>Position:LWR<br>Role:Pass Route",
            "nflId:43362<br>displayName:Kenyan Drake<br>Position:HB-L<br>Role:Pass Block",
            "nflId:44849<br>displayName:Zay Jones<br>Position:SLoWR<br>Role:Pass Route",
            "nflId:44972<br>displayName:Jermaine Eluemunor<br>Position:RG<br>Role:Pass Block",
            "nflId:46084<br>displayName:Kolton Miller<br>Position:LT<br>Role:Pass Block",
            "nflId:47920<br>displayName:Foster Moreau<br>Position:TE-R<br>Role:Pass Block",
            "nflId:47932<br>displayName:Hunter Renfrow<br>Position:SLiWR<br>Role:Pass Route",
            "nflId:48235<br>displayName:Andre James<br>Position:C<br>Role:Pass Block",
            "nflId:52517<br>displayName:John Simpson<br>Position:LG<br>Role:Pass Block",
            "nflId:53446<br>displayName:Alex Leatherwood<br>Position:RT<br>Role:Pass Block"
           ],
           "marker": {
            "color": "#000000"
           },
           "mode": "markers",
           "name": "LV",
           "type": "scatter",
           "x": [
            51.869998931884766,
            37.459999084472656,
            48.130001068115234,
            32.709999084472656,
            44.810001373291016,
            46.18000030517578,
            42.459999084472656,
            34.209999084472656,
            44.75,
            45.029998779296875,
            43.709999084472656
           ],
           "y": [
            24.59000015258789,
            12.739999771118164,
            27.049999237060547,
            23.809999465942383,
            24.40999984741211,
            21.25,
            28.170000076293945,
            14.890000343322754,
            23.270000457763672,
            22.239999771118164,
            24.399999618530273
           ]
          },
          {
           "marker": {
            "color": "#000000"
           },
           "mode": "lines",
           "name": "LV",
           "type": "scatter",
           "x": [
            51.869998931884766,
            37.459999084472656,
            48.130001068115234,
            32.709999084472656,
            44.810001373291016,
            46.18000030517578,
            42.459999084472656,
            34.209999084472656,
            44.75,
            45.029998779296875,
            43.709999084472656
           ],
           "y": [
            24.59000015258789,
            12.739999771118164,
            27.049999237060547,
            23.809999465942383,
            24.40999984741211,
            21.25,
            28.170000076293945,
            14.890000343322754,
            23.270000457763672,
            22.239999771118164,
            24.399999618530273
           ]
          },
          {
           "hoverinfo": "none",
           "marker": {
            "color": "#CBB67C"
           },
           "mode": "markers",
           "name": "football",
           "type": "scatter",
           "x": [
            52.060001373291016
           ],
           "y": [
            25.030000686645508
           ]
          }
         ],
         "name": "23"
        },
        {
         "data": [
          {
           "hoverinfo": "none",
           "mode": "text",
           "showlegend": false,
           "text": [
            "10",
            "20",
            "30",
            "40",
            "50",
            "40",
            "30",
            "20",
            "10"
           ],
           "textfont": {
            "color": "#ffffff",
            "family": "Courier New, monospace",
            "size": 30
           },
           "type": "scatter",
           "x": [
            20,
            30,
            40,
            50,
            60,
            70,
            80,
            90,
            100
           ],
           "y": [
            5,
            5,
            5,
            5,
            5,
            5,
            5,
            5,
            5
           ]
          },
          {
           "hoverinfo": "none",
           "mode": "text",
           "showlegend": false,
           "text": [
            "10",
            "20",
            "30",
            "40",
            "50",
            "40",
            "30",
            "20",
            "10"
           ],
           "textfont": {
            "color": "#ffffff",
            "family": "Courier New, monospace",
            "size": 30
           },
           "type": "scatter",
           "x": [
            20,
            30,
            40,
            50,
            60,
            70,
            80,
            90,
            100
           ],
           "y": [
            48.5,
            48.5,
            48.5,
            48.5,
            48.5,
            48.5,
            48.5,
            48.5,
            48.5
           ]
          },
          {
           "hoverinfo": "none",
           "line": {
            "color": "blue",
            "dash": "dash"
           },
           "showlegend": false,
           "type": "scatter",
           "x": [
            41,
            41
           ],
           "y": [
            0,
            53.5
           ]
          },
          {
           "hoverinfo": "none",
           "line": {
            "color": "yellow",
            "dash": "dash"
           },
           "showlegend": false,
           "type": "scatter",
           "x": [
            55,
            55
           ],
           "y": [
            0,
            53.5
           ]
          },
          {
           "hoverinfo": "text",
           "hovertext": [
            "nflId:33131<br>displayName:Calais Campbell<br>Position:DRT<br>Role:Pass Rush",
            "nflId:37240<br>displayName:Pernell McPhee<br>Position:ROLB<br>Role:Pass Rush",
            "nflId:40042<br>displayName:Brandon Williams<br>Position:NLT<br>Role:Pass Rush",
            "nflId:44828<br>displayName:Marlon Humphrey<br>Position:SCBiR<br>Role:Coverage",
            "nflId:44999<br>displayName:Chuck Clark<br>Position:LOLB<br>Role:Coverage",
            "nflId:46187<br>displayName:Anthony Averett<br>Position:SCBoR<br>Role:Coverage",
            "nflId:46259<br>displayName:DeShon Elliott<br>Position:LOLB<br>Role:Pass Rush",
            "nflId:48565<br>displayName:Chris Westry<br>Position:SCBiR<br>Role:Coverage",
            "nflId:52436<br>displayName:Patrick Queen<br>Position:MLB<br>Role:Coverage",
            "nflId:52506<br>displayName:Malik Harrison<br>Position:RCB<br>Role:Pass Rush",
            "nflId:53460<br>displayName:Odafe Oweh<br>Position:LOLB<br>Role:Pass Rush"
           ],
           "marker": {
            "color": "#241773"
           },
           "mode": "markers",
           "name": "BAL",
           "type": "scatter",
           "x": [
            45.36000061035156,
            44.349998474121094,
            45.15999984741211,
            33.84000015258789,
            41.720001220703125,
            32.869998931884766,
            49.540000915527344,
            33.709999084472656,
            42.91999816894531,
            47.959999084472656,
            43.849998474121094
           ],
           "y": [
            22.989999771118164,
            22.93000030517578,
            24.979999542236328,
            22.010000228881836,
            28.68000030517578,
            13.899999618530273,
            27.31999969482422,
            15.880000114440918,
            26.959999084472656,
            19.940000534057617,
            23.209999084472656
           ]
          },
          {
           "marker": {
            "color": "#241773"
           },
           "mode": "lines",
           "name": "BAL",
           "type": "scatter",
           "x": [
            45.36000061035156,
            44.349998474121094,
            45.15999984741211,
            33.84000015258789,
            41.720001220703125,
            32.869998931884766,
            49.540000915527344,
            33.709999084472656,
            42.91999816894531,
            47.959999084472656,
            43.849998474121094
           ],
           "y": [
            22.989999771118164,
            22.93000030517578,
            24.979999542236328,
            22.010000228881836,
            28.68000030517578,
            13.899999618530273,
            27.31999969482422,
            15.880000114440918,
            26.959999084472656,
            19.940000534057617,
            23.209999084472656
           ]
          },
          {
           "hoverinfo": "text",
           "hovertext": [
            "nflId:41265<br>displayName:Derek Carr<br>Position:QB<br>Role:Pass",
            "nflId:42547<br>displayName:Darren Waller<br>Position:LWR<br>Role:Pass Route",
            "nflId:43362<br>displayName:Kenyan Drake<br>Position:HB-L<br>Role:Pass Block",
            "nflId:44849<br>displayName:Zay Jones<br>Position:SLoWR<br>Role:Pass Route",
            "nflId:44972<br>displayName:Jermaine Eluemunor<br>Position:RG<br>Role:Pass Block",
            "nflId:46084<br>displayName:Kolton Miller<br>Position:LT<br>Role:Pass Block",
            "nflId:47920<br>displayName:Foster Moreau<br>Position:TE-R<br>Role:Pass Block",
            "nflId:47932<br>displayName:Hunter Renfrow<br>Position:SLiWR<br>Role:Pass Route",
            "nflId:48235<br>displayName:Andre James<br>Position:C<br>Role:Pass Block",
            "nflId:52517<br>displayName:John Simpson<br>Position:LG<br>Role:Pass Block",
            "nflId:53446<br>displayName:Alex Leatherwood<br>Position:RT<br>Role:Pass Block"
           ],
           "marker": {
            "color": "#000000"
           },
           "mode": "markers",
           "name": "LV",
           "type": "scatter",
           "x": [
            52.189998626708984,
            37.04999923706055,
            48.439998626708984,
            32,
            45.040000915527344,
            46.630001068115234,
            42.5,
            33.47999954223633,
            44.95000076293945,
            45.25,
            43.900001525878906
           ],
           "y": [
            24.649999618530273,
            12.899999618530273,
            27.290000915527344,
            24.290000915527344,
            24.440000534057617,
            21.34000015258789,
            28.1200008392334,
            14.819999694824219,
            23.290000915527344,
            22.34000015258789,
            24.209999084472656
           ]
          },
          {
           "marker": {
            "color": "#000000"
           },
           "mode": "lines",
           "name": "LV",
           "type": "scatter",
           "x": [
            52.189998626708984,
            37.04999923706055,
            48.439998626708984,
            32,
            45.040000915527344,
            46.630001068115234,
            42.5,
            33.47999954223633,
            44.95000076293945,
            45.25,
            43.900001525878906
           ],
           "y": [
            24.649999618530273,
            12.899999618530273,
            27.290000915527344,
            24.290000915527344,
            24.440000534057617,
            21.34000015258789,
            28.1200008392334,
            14.819999694824219,
            23.290000915527344,
            22.34000015258789,
            24.209999084472656
           ]
          },
          {
           "hoverinfo": "none",
           "marker": {
            "color": "#CBB67C"
           },
           "mode": "markers",
           "name": "football",
           "type": "scatter",
           "x": [
            52.43000030517578
           ],
           "y": [
            25.1299991607666
           ]
          }
         ],
         "name": "24"
        }
       ],
       "layout": {
        "annotations": [
         {
          "align": "center",
          "bgcolor": "#ff7f0e",
          "bordercolor": "black",
          "borderpad": 4,
          "borderwidth": 2,
          "font": {
           "color": "black",
           "family": "Courier New, monospace",
           "size": 16
          },
          "opacity": 1,
          "showarrow": false,
          "text": "2",
          "x": 55,
          "y": 0
         },
         {
          "align": "center",
          "bgcolor": "#ff7f0e",
          "bordercolor": "black",
          "borderpad": 4,
          "borderwidth": 2,
          "font": {
           "color": "black",
           "family": "Courier New, monospace",
           "size": 16
          },
          "opacity": 1,
          "showarrow": false,
          "text": "2",
          "x": 55,
          "y": 53
         }
        ],
        "autosize": false,
        "height": 600,
        "plot_bgcolor": "#00B140",
        "sliders": [
         {
          "active": 0,
          "currentvalue": {
           "font": {
            "size": 20
           },
           "prefix": "Frame:",
           "visible": true,
           "xanchor": "right"
          },
          "len": 0.9,
          "pad": {
           "b": 10,
           "t": 50
          },
          "steps": [
           {
            "args": [
             [
              1
             ],
             {
              "frame": {
               "duration": 100,
               "redraw": false
              },
              "mode": "immediate",
              "transition": {
               "duration": 0
              }
             }
            ],
            "label": "1",
            "method": "animate"
           },
           {
            "args": [
             [
              2
             ],
             {
              "frame": {
               "duration": 100,
               "redraw": false
              },
              "mode": "immediate",
              "transition": {
               "duration": 0
              }
             }
            ],
            "label": "2",
            "method": "animate"
           },
           {
            "args": [
             [
              3
             ],
             {
              "frame": {
               "duration": 100,
               "redraw": false
              },
              "mode": "immediate",
              "transition": {
               "duration": 0
              }
             }
            ],
            "label": "3",
            "method": "animate"
           },
           {
            "args": [
             [
              4
             ],
             {
              "frame": {
               "duration": 100,
               "redraw": false
              },
              "mode": "immediate",
              "transition": {
               "duration": 0
              }
             }
            ],
            "label": "4",
            "method": "animate"
           },
           {
            "args": [
             [
              5
             ],
             {
              "frame": {
               "duration": 100,
               "redraw": false
              },
              "mode": "immediate",
              "transition": {
               "duration": 0
              }
             }
            ],
            "label": "5",
            "method": "animate"
           },
           {
            "args": [
             [
              6
             ],
             {
              "frame": {
               "duration": 100,
               "redraw": false
              },
              "mode": "immediate",
              "transition": {
               "duration": 0
              }
             }
            ],
            "label": "6",
            "method": "animate"
           },
           {
            "args": [
             [
              7
             ],
             {
              "frame": {
               "duration": 100,
               "redraw": false
              },
              "mode": "immediate",
              "transition": {
               "duration": 0
              }
             }
            ],
            "label": "7",
            "method": "animate"
           },
           {
            "args": [
             [
              8
             ],
             {
              "frame": {
               "duration": 100,
               "redraw": false
              },
              "mode": "immediate",
              "transition": {
               "duration": 0
              }
             }
            ],
            "label": "8",
            "method": "animate"
           },
           {
            "args": [
             [
              9
             ],
             {
              "frame": {
               "duration": 100,
               "redraw": false
              },
              "mode": "immediate",
              "transition": {
               "duration": 0
              }
             }
            ],
            "label": "9",
            "method": "animate"
           },
           {
            "args": [
             [
              10
             ],
             {
              "frame": {
               "duration": 100,
               "redraw": false
              },
              "mode": "immediate",
              "transition": {
               "duration": 0
              }
             }
            ],
            "label": "10",
            "method": "animate"
           },
           {
            "args": [
             [
              11
             ],
             {
              "frame": {
               "duration": 100,
               "redraw": false
              },
              "mode": "immediate",
              "transition": {
               "duration": 0
              }
             }
            ],
            "label": "11",
            "method": "animate"
           },
           {
            "args": [
             [
              12
             ],
             {
              "frame": {
               "duration": 100,
               "redraw": false
              },
              "mode": "immediate",
              "transition": {
               "duration": 0
              }
             }
            ],
            "label": "12",
            "method": "animate"
           },
           {
            "args": [
             [
              13
             ],
             {
              "frame": {
               "duration": 100,
               "redraw": false
              },
              "mode": "immediate",
              "transition": {
               "duration": 0
              }
             }
            ],
            "label": "13",
            "method": "animate"
           },
           {
            "args": [
             [
              14
             ],
             {
              "frame": {
               "duration": 100,
               "redraw": false
              },
              "mode": "immediate",
              "transition": {
               "duration": 0
              }
             }
            ],
            "label": "14",
            "method": "animate"
           },
           {
            "args": [
             [
              15
             ],
             {
              "frame": {
               "duration": 100,
               "redraw": false
              },
              "mode": "immediate",
              "transition": {
               "duration": 0
              }
             }
            ],
            "label": "15",
            "method": "animate"
           },
           {
            "args": [
             [
              16
             ],
             {
              "frame": {
               "duration": 100,
               "redraw": false
              },
              "mode": "immediate",
              "transition": {
               "duration": 0
              }
             }
            ],
            "label": "16",
            "method": "animate"
           },
           {
            "args": [
             [
              17
             ],
             {
              "frame": {
               "duration": 100,
               "redraw": false
              },
              "mode": "immediate",
              "transition": {
               "duration": 0
              }
             }
            ],
            "label": "17",
            "method": "animate"
           },
           {
            "args": [
             [
              18
             ],
             {
              "frame": {
               "duration": 100,
               "redraw": false
              },
              "mode": "immediate",
              "transition": {
               "duration": 0
              }
             }
            ],
            "label": "18",
            "method": "animate"
           },
           {
            "args": [
             [
              19
             ],
             {
              "frame": {
               "duration": 100,
               "redraw": false
              },
              "mode": "immediate",
              "transition": {
               "duration": 0
              }
             }
            ],
            "label": "19",
            "method": "animate"
           },
           {
            "args": [
             [
              20
             ],
             {
              "frame": {
               "duration": 100,
               "redraw": false
              },
              "mode": "immediate",
              "transition": {
               "duration": 0
              }
             }
            ],
            "label": "20",
            "method": "animate"
           },
           {
            "args": [
             [
              21
             ],
             {
              "frame": {
               "duration": 100,
               "redraw": false
              },
              "mode": "immediate",
              "transition": {
               "duration": 0
              }
             }
            ],
            "label": "21",
            "method": "animate"
           },
           {
            "args": [
             [
              22
             ],
             {
              "frame": {
               "duration": 100,
               "redraw": false
              },
              "mode": "immediate",
              "transition": {
               "duration": 0
              }
             }
            ],
            "label": "22",
            "method": "animate"
           },
           {
            "args": [
             [
              23
             ],
             {
              "frame": {
               "duration": 100,
               "redraw": false
              },
              "mode": "immediate",
              "transition": {
               "duration": 0
              }
             }
            ],
            "label": "23",
            "method": "animate"
           },
           {
            "args": [
             [
              24
             ],
             {
              "frame": {
               "duration": 100,
               "redraw": false
              },
              "mode": "immediate",
              "transition": {
               "duration": 0
              }
             }
            ],
            "label": "24",
            "method": "animate"
           }
          ],
          "transition": {
           "duration": 300,
           "easing": "cubic-in-out"
          },
          "x": 0.1,
          "xanchor": "left",
          "y": 0,
          "yanchor": "top"
         }
        ],
        "template": {
         "data": {
          "bar": [
           {
            "error_x": {
             "color": "#2a3f5f"
            },
            "error_y": {
             "color": "#2a3f5f"
            },
            "marker": {
             "line": {
              "color": "#E5ECF6",
              "width": 0.5
             },
             "pattern": {
              "fillmode": "overlay",
              "size": 10,
              "solidity": 0.2
             }
            },
            "type": "bar"
           }
          ],
          "barpolar": [
           {
            "marker": {
             "line": {
              "color": "#E5ECF6",
              "width": 0.5
             },
             "pattern": {
              "fillmode": "overlay",
              "size": 10,
              "solidity": 0.2
             }
            },
            "type": "barpolar"
           }
          ],
          "carpet": [
           {
            "aaxis": {
             "endlinecolor": "#2a3f5f",
             "gridcolor": "white",
             "linecolor": "white",
             "minorgridcolor": "white",
             "startlinecolor": "#2a3f5f"
            },
            "baxis": {
             "endlinecolor": "#2a3f5f",
             "gridcolor": "white",
             "linecolor": "white",
             "minorgridcolor": "white",
             "startlinecolor": "#2a3f5f"
            },
            "type": "carpet"
           }
          ],
          "choropleth": [
           {
            "colorbar": {
             "outlinewidth": 0,
             "ticks": ""
            },
            "type": "choropleth"
           }
          ],
          "contour": [
           {
            "colorbar": {
             "outlinewidth": 0,
             "ticks": ""
            },
            "colorscale": [
             [
              0,
              "#0d0887"
             ],
             [
              0.1111111111111111,
              "#46039f"
             ],
             [
              0.2222222222222222,
              "#7201a8"
             ],
             [
              0.3333333333333333,
              "#9c179e"
             ],
             [
              0.4444444444444444,
              "#bd3786"
             ],
             [
              0.5555555555555556,
              "#d8576b"
             ],
             [
              0.6666666666666666,
              "#ed7953"
             ],
             [
              0.7777777777777778,
              "#fb9f3a"
             ],
             [
              0.8888888888888888,
              "#fdca26"
             ],
             [
              1,
              "#f0f921"
             ]
            ],
            "type": "contour"
           }
          ],
          "contourcarpet": [
           {
            "colorbar": {
             "outlinewidth": 0,
             "ticks": ""
            },
            "type": "contourcarpet"
           }
          ],
          "heatmap": [
           {
            "colorbar": {
             "outlinewidth": 0,
             "ticks": ""
            },
            "colorscale": [
             [
              0,
              "#0d0887"
             ],
             [
              0.1111111111111111,
              "#46039f"
             ],
             [
              0.2222222222222222,
              "#7201a8"
             ],
             [
              0.3333333333333333,
              "#9c179e"
             ],
             [
              0.4444444444444444,
              "#bd3786"
             ],
             [
              0.5555555555555556,
              "#d8576b"
             ],
             [
              0.6666666666666666,
              "#ed7953"
             ],
             [
              0.7777777777777778,
              "#fb9f3a"
             ],
             [
              0.8888888888888888,
              "#fdca26"
             ],
             [
              1,
              "#f0f921"
             ]
            ],
            "type": "heatmap"
           }
          ],
          "heatmapgl": [
           {
            "colorbar": {
             "outlinewidth": 0,
             "ticks": ""
            },
            "colorscale": [
             [
              0,
              "#0d0887"
             ],
             [
              0.1111111111111111,
              "#46039f"
             ],
             [
              0.2222222222222222,
              "#7201a8"
             ],
             [
              0.3333333333333333,
              "#9c179e"
             ],
             [
              0.4444444444444444,
              "#bd3786"
             ],
             [
              0.5555555555555556,
              "#d8576b"
             ],
             [
              0.6666666666666666,
              "#ed7953"
             ],
             [
              0.7777777777777778,
              "#fb9f3a"
             ],
             [
              0.8888888888888888,
              "#fdca26"
             ],
             [
              1,
              "#f0f921"
             ]
            ],
            "type": "heatmapgl"
           }
          ],
          "histogram": [
           {
            "marker": {
             "pattern": {
              "fillmode": "overlay",
              "size": 10,
              "solidity": 0.2
             }
            },
            "type": "histogram"
           }
          ],
          "histogram2d": [
           {
            "colorbar": {
             "outlinewidth": 0,
             "ticks": ""
            },
            "colorscale": [
             [
              0,
              "#0d0887"
             ],
             [
              0.1111111111111111,
              "#46039f"
             ],
             [
              0.2222222222222222,
              "#7201a8"
             ],
             [
              0.3333333333333333,
              "#9c179e"
             ],
             [
              0.4444444444444444,
              "#bd3786"
             ],
             [
              0.5555555555555556,
              "#d8576b"
             ],
             [
              0.6666666666666666,
              "#ed7953"
             ],
             [
              0.7777777777777778,
              "#fb9f3a"
             ],
             [
              0.8888888888888888,
              "#fdca26"
             ],
             [
              1,
              "#f0f921"
             ]
            ],
            "type": "histogram2d"
           }
          ],
          "histogram2dcontour": [
           {
            "colorbar": {
             "outlinewidth": 0,
             "ticks": ""
            },
            "colorscale": [
             [
              0,
              "#0d0887"
             ],
             [
              0.1111111111111111,
              "#46039f"
             ],
             [
              0.2222222222222222,
              "#7201a8"
             ],
             [
              0.3333333333333333,
              "#9c179e"
             ],
             [
              0.4444444444444444,
              "#bd3786"
             ],
             [
              0.5555555555555556,
              "#d8576b"
             ],
             [
              0.6666666666666666,
              "#ed7953"
             ],
             [
              0.7777777777777778,
              "#fb9f3a"
             ],
             [
              0.8888888888888888,
              "#fdca26"
             ],
             [
              1,
              "#f0f921"
             ]
            ],
            "type": "histogram2dcontour"
           }
          ],
          "mesh3d": [
           {
            "colorbar": {
             "outlinewidth": 0,
             "ticks": ""
            },
            "type": "mesh3d"
           }
          ],
          "parcoords": [
           {
            "line": {
             "colorbar": {
              "outlinewidth": 0,
              "ticks": ""
             }
            },
            "type": "parcoords"
           }
          ],
          "pie": [
           {
            "automargin": true,
            "type": "pie"
           }
          ],
          "scatter": [
           {
            "fillpattern": {
             "fillmode": "overlay",
             "size": 10,
             "solidity": 0.2
            },
            "type": "scatter"
           }
          ],
          "scatter3d": [
           {
            "line": {
             "colorbar": {
              "outlinewidth": 0,
              "ticks": ""
             }
            },
            "marker": {
             "colorbar": {
              "outlinewidth": 0,
              "ticks": ""
             }
            },
            "type": "scatter3d"
           }
          ],
          "scattercarpet": [
           {
            "marker": {
             "colorbar": {
              "outlinewidth": 0,
              "ticks": ""
             }
            },
            "type": "scattercarpet"
           }
          ],
          "scattergeo": [
           {
            "marker": {
             "colorbar": {
              "outlinewidth": 0,
              "ticks": ""
             }
            },
            "type": "scattergeo"
           }
          ],
          "scattergl": [
           {
            "marker": {
             "colorbar": {
              "outlinewidth": 0,
              "ticks": ""
             }
            },
            "type": "scattergl"
           }
          ],
          "scattermapbox": [
           {
            "marker": {
             "colorbar": {
              "outlinewidth": 0,
              "ticks": ""
             }
            },
            "type": "scattermapbox"
           }
          ],
          "scatterpolar": [
           {
            "marker": {
             "colorbar": {
              "outlinewidth": 0,
              "ticks": ""
             }
            },
            "type": "scatterpolar"
           }
          ],
          "scatterpolargl": [
           {
            "marker": {
             "colorbar": {
              "outlinewidth": 0,
              "ticks": ""
             }
            },
            "type": "scatterpolargl"
           }
          ],
          "scatterternary": [
           {
            "marker": {
             "colorbar": {
              "outlinewidth": 0,
              "ticks": ""
             }
            },
            "type": "scatterternary"
           }
          ],
          "surface": [
           {
            "colorbar": {
             "outlinewidth": 0,
             "ticks": ""
            },
            "colorscale": [
             [
              0,
              "#0d0887"
             ],
             [
              0.1111111111111111,
              "#46039f"
             ],
             [
              0.2222222222222222,
              "#7201a8"
             ],
             [
              0.3333333333333333,
              "#9c179e"
             ],
             [
              0.4444444444444444,
              "#bd3786"
             ],
             [
              0.5555555555555556,
              "#d8576b"
             ],
             [
              0.6666666666666666,
              "#ed7953"
             ],
             [
              0.7777777777777778,
              "#fb9f3a"
             ],
             [
              0.8888888888888888,
              "#fdca26"
             ],
             [
              1,
              "#f0f921"
             ]
            ],
            "type": "surface"
           }
          ],
          "table": [
           {
            "cells": {
             "fill": {
              "color": "#EBF0F8"
             },
             "line": {
              "color": "white"
             }
            },
            "header": {
             "fill": {
              "color": "#C8D4E3"
             },
             "line": {
              "color": "white"
             }
            },
            "type": "table"
           }
          ]
         },
         "layout": {
          "annotationdefaults": {
           "arrowcolor": "#2a3f5f",
           "arrowhead": 0,
           "arrowwidth": 1
          },
          "autotypenumbers": "strict",
          "coloraxis": {
           "colorbar": {
            "outlinewidth": 0,
            "ticks": ""
           }
          },
          "colorscale": {
           "diverging": [
            [
             0,
             "#8e0152"
            ],
            [
             0.1,
             "#c51b7d"
            ],
            [
             0.2,
             "#de77ae"
            ],
            [
             0.3,
             "#f1b6da"
            ],
            [
             0.4,
             "#fde0ef"
            ],
            [
             0.5,
             "#f7f7f7"
            ],
            [
             0.6,
             "#e6f5d0"
            ],
            [
             0.7,
             "#b8e186"
            ],
            [
             0.8,
             "#7fbc41"
            ],
            [
             0.9,
             "#4d9221"
            ],
            [
             1,
             "#276419"
            ]
           ],
           "sequential": [
            [
             0,
             "#0d0887"
            ],
            [
             0.1111111111111111,
             "#46039f"
            ],
            [
             0.2222222222222222,
             "#7201a8"
            ],
            [
             0.3333333333333333,
             "#9c179e"
            ],
            [
             0.4444444444444444,
             "#bd3786"
            ],
            [
             0.5555555555555556,
             "#d8576b"
            ],
            [
             0.6666666666666666,
             "#ed7953"
            ],
            [
             0.7777777777777778,
             "#fb9f3a"
            ],
            [
             0.8888888888888888,
             "#fdca26"
            ],
            [
             1,
             "#f0f921"
            ]
           ],
           "sequentialminus": [
            [
             0,
             "#0d0887"
            ],
            [
             0.1111111111111111,
             "#46039f"
            ],
            [
             0.2222222222222222,
             "#7201a8"
            ],
            [
             0.3333333333333333,
             "#9c179e"
            ],
            [
             0.4444444444444444,
             "#bd3786"
            ],
            [
             0.5555555555555556,
             "#d8576b"
            ],
            [
             0.6666666666666666,
             "#ed7953"
            ],
            [
             0.7777777777777778,
             "#fb9f3a"
            ],
            [
             0.8888888888888888,
             "#fdca26"
            ],
            [
             1,
             "#f0f921"
            ]
           ]
          },
          "colorway": [
           "#636efa",
           "#EF553B",
           "#00cc96",
           "#ab63fa",
           "#FFA15A",
           "#19d3f3",
           "#FF6692",
           "#B6E880",
           "#FF97FF",
           "#FECB52"
          ],
          "font": {
           "color": "#2a3f5f"
          },
          "geo": {
           "bgcolor": "white",
           "lakecolor": "white",
           "landcolor": "#E5ECF6",
           "showlakes": true,
           "showland": true,
           "subunitcolor": "white"
          },
          "hoverlabel": {
           "align": "left"
          },
          "hovermode": "closest",
          "mapbox": {
           "style": "light"
          },
          "paper_bgcolor": "white",
          "plot_bgcolor": "#E5ECF6",
          "polar": {
           "angularaxis": {
            "gridcolor": "white",
            "linecolor": "white",
            "ticks": ""
           },
           "bgcolor": "#E5ECF6",
           "radialaxis": {
            "gridcolor": "white",
            "linecolor": "white",
            "ticks": ""
           }
          },
          "scene": {
           "xaxis": {
            "backgroundcolor": "#E5ECF6",
            "gridcolor": "white",
            "gridwidth": 2,
            "linecolor": "white",
            "showbackground": true,
            "ticks": "",
            "zerolinecolor": "white"
           },
           "yaxis": {
            "backgroundcolor": "#E5ECF6",
            "gridcolor": "white",
            "gridwidth": 2,
            "linecolor": "white",
            "showbackground": true,
            "ticks": "",
            "zerolinecolor": "white"
           },
           "zaxis": {
            "backgroundcolor": "#E5ECF6",
            "gridcolor": "white",
            "gridwidth": 2,
            "linecolor": "white",
            "showbackground": true,
            "ticks": "",
            "zerolinecolor": "white"
           }
          },
          "shapedefaults": {
           "line": {
            "color": "#2a3f5f"
           }
          },
          "ternary": {
           "aaxis": {
            "gridcolor": "white",
            "linecolor": "white",
            "ticks": ""
           },
           "baxis": {
            "gridcolor": "white",
            "linecolor": "white",
            "ticks": ""
           },
           "bgcolor": "#E5ECF6",
           "caxis": {
            "gridcolor": "white",
            "linecolor": "white",
            "ticks": ""
           }
          },
          "title": {
           "x": 0.05
          },
          "xaxis": {
           "automargin": true,
           "gridcolor": "white",
           "linecolor": "white",
           "ticks": "",
           "title": {
            "standoff": 15
           },
           "zerolinecolor": "white",
           "zerolinewidth": 2
          },
          "yaxis": {
           "automargin": true,
           "gridcolor": "white",
           "linecolor": "white",
           "ticks": "",
           "title": {
            "standoff": 15
           },
           "zerolinecolor": "white",
           "zerolinewidth": 2
          }
         }
        },
        "title": {
         "text": "GameId: 2021091300, PlayId: 4845<br>03:44 5Q<br><br><br><br><br><br><br><br><br><br><br><br><br><br><br><br><br><br><br>(3:44) (Shotgun) D.Carr pass deep right to Z.Jones for 31 yards, TOUCHDOWN."
        },
        "updatemenus": [
         {
          "buttons": [
           {
            "args": [
             null,
             {
              "frame": {
               "duration": 100,
               "redraw": false
              },
              "fromcurrent": true,
              "transition": {
               "duration": 0
              }
             }
            ],
            "label": "Play",
            "method": "animate"
           },
           {
            "args": [
             [
              null
             ],
             {
              "frame": {
               "duration": 0,
               "redraw": false
              },
              "mode": "immediate",
              "transition": {
               "duration": 0
              }
             }
            ],
            "label": "Pause",
            "method": "animate"
           }
          ],
          "direction": "left",
          "pad": {
           "r": 10,
           "t": 87
          },
          "showactive": false,
          "type": "buttons",
          "x": 0.1,
          "xanchor": "right",
          "y": 0,
          "yanchor": "top"
         }
        ],
        "width": 1200,
        "xaxis": {
         "autorange": false,
         "range": [
          0,
          120
         ],
         "showticklabels": false,
         "tickmode": "array",
         "tickvals": [
          10,
          15,
          20,
          25,
          30,
          35,
          40,
          45,
          50,
          55,
          60,
          65,
          70,
          75,
          80,
          85,
          90,
          95,
          100,
          105,
          110
         ]
        },
        "yaxis": {
         "autorange": false,
         "range": [
          0,
          53.3
         ],
         "showgrid": false,
         "showticklabels": false
        }
       }
      },
      "text/html": [
       "<div>                            <div id=\"25f58303-9feb-4cc8-8916-344ae5c76d19\" class=\"plotly-graph-div\" style=\"height:600px; width:1200px;\"></div>            <script type=\"text/javascript\">                require([\"plotly\"], function(Plotly) {                    window.PLOTLYENV=window.PLOTLYENV || {};                                    if (document.getElementById(\"25f58303-9feb-4cc8-8916-344ae5c76d19\")) {                    Plotly.newPlot(                        \"25f58303-9feb-4cc8-8916-344ae5c76d19\",                        [{\"hoverinfo\":\"none\",\"mode\":\"text\",\"showlegend\":false,\"text\":[\"10\",\"20\",\"30\",\"40\",\"50\",\"40\",\"30\",\"20\",\"10\"],\"textfont\":{\"color\":\"#ffffff\",\"family\":\"Courier New, monospace\",\"size\":30},\"x\":[20,30,40,50,60,70,80,90,100],\"y\":[5,5,5,5,5,5,5,5,5],\"type\":\"scatter\"},{\"hoverinfo\":\"none\",\"mode\":\"text\",\"showlegend\":false,\"text\":[\"10\",\"20\",\"30\",\"40\",\"50\",\"40\",\"30\",\"20\",\"10\"],\"textfont\":{\"color\":\"#ffffff\",\"family\":\"Courier New, monospace\",\"size\":30},\"x\":[20,30,40,50,60,70,80,90,100],\"y\":[48.5,48.5,48.5,48.5,48.5,48.5,48.5,48.5,48.5],\"type\":\"scatter\"},{\"hoverinfo\":\"none\",\"line\":{\"color\":\"blue\",\"dash\":\"dash\"},\"showlegend\":false,\"x\":[41.0,41.0],\"y\":[0,53.5],\"type\":\"scatter\"},{\"hoverinfo\":\"none\",\"line\":{\"color\":\"yellow\",\"dash\":\"dash\"},\"showlegend\":false,\"x\":[55.0,55.0],\"y\":[0,53.5],\"type\":\"scatter\"},{\"hoverinfo\":\"text\",\"hovertext\":[\"nflId:33131<br>displayName:Calais Campbell<br>Position:DRT<br>Role:Pass Rush\",\"nflId:37240<br>displayName:Pernell McPhee<br>Position:ROLB<br>Role:Pass Rush\",\"nflId:40042<br>displayName:Brandon Williams<br>Position:NLT<br>Role:Pass Rush\",\"nflId:44828<br>displayName:Marlon Humphrey<br>Position:SCBiR<br>Role:Coverage\",\"nflId:44999<br>displayName:Chuck Clark<br>Position:LOLB<br>Role:Coverage\",\"nflId:46187<br>displayName:Anthony Averett<br>Position:SCBoR<br>Role:Coverage\",\"nflId:46259<br>displayName:DeShon Elliott<br>Position:LOLB<br>Role:Pass Rush\",\"nflId:48565<br>displayName:Chris Westry<br>Position:SCBiR<br>Role:Coverage\",\"nflId:52436<br>displayName:Patrick Queen<br>Position:MLB<br>Role:Coverage\",\"nflId:52506<br>displayName:Malik Harrison<br>Position:RCB<br>Role:Pass Rush\",\"nflId:53460<br>displayName:Odafe Oweh<br>Position:LOLB<br>Role:Pass Rush\"],\"marker\":{\"color\":\"#241773\"},\"mode\":\"markers\",\"name\":\"BAL\",\"x\":[39.86000061035156,39.869998931884766,40.02000045776367,39.779998779296875,39.66999816894531,34.65999984741211,39.939998626708984,38.0099983215332,37.20000076293945,39.720001220703125,39.5099983215332],\"y\":[21.459999084472656,18.639999389648438,24.280000686645508,16.489999771118164,29.170000076293945,15.210000038146973,31.079999923706055,17.8799991607666,24.440000534057617,14.029999732971191,27.81999969482422],\"type\":\"scatter\"},{\"marker\":{\"color\":\"#241773\"},\"mode\":\"lines\",\"name\":\"BAL\",\"x\":[39.86000061035156,39.869998931884766,40.02000045776367,39.779998779296875,39.66999816894531,34.65999984741211,39.939998626708984,38.0099983215332,37.20000076293945,39.720001220703125,39.5099983215332],\"y\":[21.459999084472656,18.639999389648438,24.280000686645508,16.489999771118164,29.170000076293945,15.210000038146973,31.079999923706055,17.8799991607666,24.440000534057617,14.029999732971191,27.81999969482422],\"type\":\"scatter\"},{\"hoverinfo\":\"text\",\"hovertext\":[\"nflId:41265<br>displayName:Derek Carr<br>Position:QB<br>Role:Pass\",\"nflId:42547<br>displayName:Darren Waller<br>Position:LWR<br>Role:Pass Route\",\"nflId:43362<br>displayName:Kenyan Drake<br>Position:HB-L<br>Role:Pass Block\",\"nflId:44849<br>displayName:Zay Jones<br>Position:SLoWR<br>Role:Pass Route\",\"nflId:44972<br>displayName:Jermaine Eluemunor<br>Position:RG<br>Role:Pass Block\",\"nflId:46084<br>displayName:Kolton Miller<br>Position:LT<br>Role:Pass Block\",\"nflId:47920<br>displayName:Foster Moreau<br>Position:TE-R<br>Role:Pass Block\",\"nflId:47932<br>displayName:Hunter Renfrow<br>Position:SLiWR<br>Role:Pass Route\",\"nflId:48235<br>displayName:Andre James<br>Position:C<br>Role:Pass Block\",\"nflId:52517<br>displayName:John Simpson<br>Position:LG<br>Role:Pass Block\",\"nflId:53446<br>displayName:Alex Leatherwood<br>Position:RT<br>Role:Pass Block\"],\"marker\":{\"color\":\"#000000\"},\"mode\":\"markers\",\"name\":\"LV\",\"x\":[45.0099983215332,43.08000183105469,45.4900016784668,41.58000183105469,41.58000183105469,41.79999923706055,41.52000045776367,42.720001220703125,41.130001068115234,41.83000183105469,41.47999954223633],\"y\":[23.780000686645508,14.470000267028809,21.84000015258789,16.479999542236328,25.40999984741211,20.65999984741211,28.56999969482422,17.520000457763672,23.790000915527344,22.290000915527344,27.139999389648438],\"type\":\"scatter\"},{\"marker\":{\"color\":\"#000000\"},\"mode\":\"lines\",\"name\":\"LV\",\"x\":[45.0099983215332,43.08000183105469,45.4900016784668,41.58000183105469,41.58000183105469,41.79999923706055,41.52000045776367,42.720001220703125,41.130001068115234,41.83000183105469,41.47999954223633],\"y\":[23.780000686645508,14.470000267028809,21.84000015258789,16.479999542236328,25.40999984741211,20.65999984741211,28.56999969482422,17.520000457763672,23.790000915527344,22.290000915527344,27.139999389648438],\"type\":\"scatter\"},{\"hoverinfo\":\"none\",\"marker\":{\"color\":\"#CBB67C\"},\"mode\":\"markers\",\"name\":\"football\",\"x\":[41.40999984741211],\"y\":[24.06999969482422],\"type\":\"scatter\"}],                        {\"autosize\":false,\"height\":600,\"plot_bgcolor\":\"#00B140\",\"sliders\":[{\"active\":0,\"currentvalue\":{\"font\":{\"size\":20},\"prefix\":\"Frame:\",\"visible\":true,\"xanchor\":\"right\"},\"len\":0.9,\"pad\":{\"b\":10,\"t\":50},\"steps\":[{\"args\":[[1],{\"frame\":{\"duration\":100,\"redraw\":false},\"mode\":\"immediate\",\"transition\":{\"duration\":0}}],\"label\":\"1\",\"method\":\"animate\"},{\"args\":[[2],{\"frame\":{\"duration\":100,\"redraw\":false},\"mode\":\"immediate\",\"transition\":{\"duration\":0}}],\"label\":\"2\",\"method\":\"animate\"},{\"args\":[[3],{\"frame\":{\"duration\":100,\"redraw\":false},\"mode\":\"immediate\",\"transition\":{\"duration\":0}}],\"label\":\"3\",\"method\":\"animate\"},{\"args\":[[4],{\"frame\":{\"duration\":100,\"redraw\":false},\"mode\":\"immediate\",\"transition\":{\"duration\":0}}],\"label\":\"4\",\"method\":\"animate\"},{\"args\":[[5],{\"frame\":{\"duration\":100,\"redraw\":false},\"mode\":\"immediate\",\"transition\":{\"duration\":0}}],\"label\":\"5\",\"method\":\"animate\"},{\"args\":[[6],{\"frame\":{\"duration\":100,\"redraw\":false},\"mode\":\"immediate\",\"transition\":{\"duration\":0}}],\"label\":\"6\",\"method\":\"animate\"},{\"args\":[[7],{\"frame\":{\"duration\":100,\"redraw\":false},\"mode\":\"immediate\",\"transition\":{\"duration\":0}}],\"label\":\"7\",\"method\":\"animate\"},{\"args\":[[8],{\"frame\":{\"duration\":100,\"redraw\":false},\"mode\":\"immediate\",\"transition\":{\"duration\":0}}],\"label\":\"8\",\"method\":\"animate\"},{\"args\":[[9],{\"frame\":{\"duration\":100,\"redraw\":false},\"mode\":\"immediate\",\"transition\":{\"duration\":0}}],\"label\":\"9\",\"method\":\"animate\"},{\"args\":[[10],{\"frame\":{\"duration\":100,\"redraw\":false},\"mode\":\"immediate\",\"transition\":{\"duration\":0}}],\"label\":\"10\",\"method\":\"animate\"},{\"args\":[[11],{\"frame\":{\"duration\":100,\"redraw\":false},\"mode\":\"immediate\",\"transition\":{\"duration\":0}}],\"label\":\"11\",\"method\":\"animate\"},{\"args\":[[12],{\"frame\":{\"duration\":100,\"redraw\":false},\"mode\":\"immediate\",\"transition\":{\"duration\":0}}],\"label\":\"12\",\"method\":\"animate\"},{\"args\":[[13],{\"frame\":{\"duration\":100,\"redraw\":false},\"mode\":\"immediate\",\"transition\":{\"duration\":0}}],\"label\":\"13\",\"method\":\"animate\"},{\"args\":[[14],{\"frame\":{\"duration\":100,\"redraw\":false},\"mode\":\"immediate\",\"transition\":{\"duration\":0}}],\"label\":\"14\",\"method\":\"animate\"},{\"args\":[[15],{\"frame\":{\"duration\":100,\"redraw\":false},\"mode\":\"immediate\",\"transition\":{\"duration\":0}}],\"label\":\"15\",\"method\":\"animate\"},{\"args\":[[16],{\"frame\":{\"duration\":100,\"redraw\":false},\"mode\":\"immediate\",\"transition\":{\"duration\":0}}],\"label\":\"16\",\"method\":\"animate\"},{\"args\":[[17],{\"frame\":{\"duration\":100,\"redraw\":false},\"mode\":\"immediate\",\"transition\":{\"duration\":0}}],\"label\":\"17\",\"method\":\"animate\"},{\"args\":[[18],{\"frame\":{\"duration\":100,\"redraw\":false},\"mode\":\"immediate\",\"transition\":{\"duration\":0}}],\"label\":\"18\",\"method\":\"animate\"},{\"args\":[[19],{\"frame\":{\"duration\":100,\"redraw\":false},\"mode\":\"immediate\",\"transition\":{\"duration\":0}}],\"label\":\"19\",\"method\":\"animate\"},{\"args\":[[20],{\"frame\":{\"duration\":100,\"redraw\":false},\"mode\":\"immediate\",\"transition\":{\"duration\":0}}],\"label\":\"20\",\"method\":\"animate\"},{\"args\":[[21],{\"frame\":{\"duration\":100,\"redraw\":false},\"mode\":\"immediate\",\"transition\":{\"duration\":0}}],\"label\":\"21\",\"method\":\"animate\"},{\"args\":[[22],{\"frame\":{\"duration\":100,\"redraw\":false},\"mode\":\"immediate\",\"transition\":{\"duration\":0}}],\"label\":\"22\",\"method\":\"animate\"},{\"args\":[[23],{\"frame\":{\"duration\":100,\"redraw\":false},\"mode\":\"immediate\",\"transition\":{\"duration\":0}}],\"label\":\"23\",\"method\":\"animate\"},{\"args\":[[24],{\"frame\":{\"duration\":100,\"redraw\":false},\"mode\":\"immediate\",\"transition\":{\"duration\":0}}],\"label\":\"24\",\"method\":\"animate\"}],\"transition\":{\"duration\":300,\"easing\":\"cubic-in-out\"},\"x\":0.1,\"xanchor\":\"left\",\"y\":0,\"yanchor\":\"top\"}],\"title\":{\"text\":\"GameId: 2021091300, PlayId: 4845<br>03:44 5Q<br><br><br><br><br><br><br><br><br><br><br><br><br><br><br><br><br><br><br>(3:44) (Shotgun) D.Carr pass deep right to Z.Jones for 31 yards, TOUCHDOWN.\"},\"updatemenus\":[{\"buttons\":[{\"args\":[null,{\"frame\":{\"duration\":100,\"redraw\":false},\"fromcurrent\":true,\"transition\":{\"duration\":0}}],\"label\":\"Play\",\"method\":\"animate\"},{\"args\":[[null],{\"frame\":{\"duration\":0,\"redraw\":false},\"mode\":\"immediate\",\"transition\":{\"duration\":0}}],\"label\":\"Pause\",\"method\":\"animate\"}],\"direction\":\"left\",\"pad\":{\"r\":10,\"t\":87},\"showactive\":false,\"type\":\"buttons\",\"x\":0.1,\"xanchor\":\"right\",\"y\":0,\"yanchor\":\"top\"}],\"width\":1200,\"xaxis\":{\"autorange\":false,\"range\":[0,120],\"showticklabels\":false,\"tickmode\":\"array\",\"tickvals\":[10,15,20,25,30,35,40,45,50,55,60,65,70,75,80,85,90,95,100,105,110]},\"yaxis\":{\"autorange\":false,\"range\":[0,53.3],\"showgrid\":false,\"showticklabels\":false},\"template\":{\"data\":{\"histogram2dcontour\":[{\"type\":\"histogram2dcontour\",\"colorbar\":{\"outlinewidth\":0,\"ticks\":\"\"},\"colorscale\":[[0.0,\"#0d0887\"],[0.1111111111111111,\"#46039f\"],[0.2222222222222222,\"#7201a8\"],[0.3333333333333333,\"#9c179e\"],[0.4444444444444444,\"#bd3786\"],[0.5555555555555556,\"#d8576b\"],[0.6666666666666666,\"#ed7953\"],[0.7777777777777778,\"#fb9f3a\"],[0.8888888888888888,\"#fdca26\"],[1.0,\"#f0f921\"]]}],\"choropleth\":[{\"type\":\"choropleth\",\"colorbar\":{\"outlinewidth\":0,\"ticks\":\"\"}}],\"histogram2d\":[{\"type\":\"histogram2d\",\"colorbar\":{\"outlinewidth\":0,\"ticks\":\"\"},\"colorscale\":[[0.0,\"#0d0887\"],[0.1111111111111111,\"#46039f\"],[0.2222222222222222,\"#7201a8\"],[0.3333333333333333,\"#9c179e\"],[0.4444444444444444,\"#bd3786\"],[0.5555555555555556,\"#d8576b\"],[0.6666666666666666,\"#ed7953\"],[0.7777777777777778,\"#fb9f3a\"],[0.8888888888888888,\"#fdca26\"],[1.0,\"#f0f921\"]]}],\"heatmap\":[{\"type\":\"heatmap\",\"colorbar\":{\"outlinewidth\":0,\"ticks\":\"\"},\"colorscale\":[[0.0,\"#0d0887\"],[0.1111111111111111,\"#46039f\"],[0.2222222222222222,\"#7201a8\"],[0.3333333333333333,\"#9c179e\"],[0.4444444444444444,\"#bd3786\"],[0.5555555555555556,\"#d8576b\"],[0.6666666666666666,\"#ed7953\"],[0.7777777777777778,\"#fb9f3a\"],[0.8888888888888888,\"#fdca26\"],[1.0,\"#f0f921\"]]}],\"heatmapgl\":[{\"type\":\"heatmapgl\",\"colorbar\":{\"outlinewidth\":0,\"ticks\":\"\"},\"colorscale\":[[0.0,\"#0d0887\"],[0.1111111111111111,\"#46039f\"],[0.2222222222222222,\"#7201a8\"],[0.3333333333333333,\"#9c179e\"],[0.4444444444444444,\"#bd3786\"],[0.5555555555555556,\"#d8576b\"],[0.6666666666666666,\"#ed7953\"],[0.7777777777777778,\"#fb9f3a\"],[0.8888888888888888,\"#fdca26\"],[1.0,\"#f0f921\"]]}],\"contourcarpet\":[{\"type\":\"contourcarpet\",\"colorbar\":{\"outlinewidth\":0,\"ticks\":\"\"}}],\"contour\":[{\"type\":\"contour\",\"colorbar\":{\"outlinewidth\":0,\"ticks\":\"\"},\"colorscale\":[[0.0,\"#0d0887\"],[0.1111111111111111,\"#46039f\"],[0.2222222222222222,\"#7201a8\"],[0.3333333333333333,\"#9c179e\"],[0.4444444444444444,\"#bd3786\"],[0.5555555555555556,\"#d8576b\"],[0.6666666666666666,\"#ed7953\"],[0.7777777777777778,\"#fb9f3a\"],[0.8888888888888888,\"#fdca26\"],[1.0,\"#f0f921\"]]}],\"surface\":[{\"type\":\"surface\",\"colorbar\":{\"outlinewidth\":0,\"ticks\":\"\"},\"colorscale\":[[0.0,\"#0d0887\"],[0.1111111111111111,\"#46039f\"],[0.2222222222222222,\"#7201a8\"],[0.3333333333333333,\"#9c179e\"],[0.4444444444444444,\"#bd3786\"],[0.5555555555555556,\"#d8576b\"],[0.6666666666666666,\"#ed7953\"],[0.7777777777777778,\"#fb9f3a\"],[0.8888888888888888,\"#fdca26\"],[1.0,\"#f0f921\"]]}],\"mesh3d\":[{\"type\":\"mesh3d\",\"colorbar\":{\"outlinewidth\":0,\"ticks\":\"\"}}],\"scatter\":[{\"fillpattern\":{\"fillmode\":\"overlay\",\"size\":10,\"solidity\":0.2},\"type\":\"scatter\"}],\"parcoords\":[{\"type\":\"parcoords\",\"line\":{\"colorbar\":{\"outlinewidth\":0,\"ticks\":\"\"}}}],\"scatterpolargl\":[{\"type\":\"scatterpolargl\",\"marker\":{\"colorbar\":{\"outlinewidth\":0,\"ticks\":\"\"}}}],\"bar\":[{\"error_x\":{\"color\":\"#2a3f5f\"},\"error_y\":{\"color\":\"#2a3f5f\"},\"marker\":{\"line\":{\"color\":\"#E5ECF6\",\"width\":0.5},\"pattern\":{\"fillmode\":\"overlay\",\"size\":10,\"solidity\":0.2}},\"type\":\"bar\"}],\"scattergeo\":[{\"type\":\"scattergeo\",\"marker\":{\"colorbar\":{\"outlinewidth\":0,\"ticks\":\"\"}}}],\"scatterpolar\":[{\"type\":\"scatterpolar\",\"marker\":{\"colorbar\":{\"outlinewidth\":0,\"ticks\":\"\"}}}],\"histogram\":[{\"marker\":{\"pattern\":{\"fillmode\":\"overlay\",\"size\":10,\"solidity\":0.2}},\"type\":\"histogram\"}],\"scattergl\":[{\"type\":\"scattergl\",\"marker\":{\"colorbar\":{\"outlinewidth\":0,\"ticks\":\"\"}}}],\"scatter3d\":[{\"type\":\"scatter3d\",\"line\":{\"colorbar\":{\"outlinewidth\":0,\"ticks\":\"\"}},\"marker\":{\"colorbar\":{\"outlinewidth\":0,\"ticks\":\"\"}}}],\"scattermapbox\":[{\"type\":\"scattermapbox\",\"marker\":{\"colorbar\":{\"outlinewidth\":0,\"ticks\":\"\"}}}],\"scatterternary\":[{\"type\":\"scatterternary\",\"marker\":{\"colorbar\":{\"outlinewidth\":0,\"ticks\":\"\"}}}],\"scattercarpet\":[{\"type\":\"scattercarpet\",\"marker\":{\"colorbar\":{\"outlinewidth\":0,\"ticks\":\"\"}}}],\"carpet\":[{\"aaxis\":{\"endlinecolor\":\"#2a3f5f\",\"gridcolor\":\"white\",\"linecolor\":\"white\",\"minorgridcolor\":\"white\",\"startlinecolor\":\"#2a3f5f\"},\"baxis\":{\"endlinecolor\":\"#2a3f5f\",\"gridcolor\":\"white\",\"linecolor\":\"white\",\"minorgridcolor\":\"white\",\"startlinecolor\":\"#2a3f5f\"},\"type\":\"carpet\"}],\"table\":[{\"cells\":{\"fill\":{\"color\":\"#EBF0F8\"},\"line\":{\"color\":\"white\"}},\"header\":{\"fill\":{\"color\":\"#C8D4E3\"},\"line\":{\"color\":\"white\"}},\"type\":\"table\"}],\"barpolar\":[{\"marker\":{\"line\":{\"color\":\"#E5ECF6\",\"width\":0.5},\"pattern\":{\"fillmode\":\"overlay\",\"size\":10,\"solidity\":0.2}},\"type\":\"barpolar\"}],\"pie\":[{\"automargin\":true,\"type\":\"pie\"}]},\"layout\":{\"autotypenumbers\":\"strict\",\"colorway\":[\"#636efa\",\"#EF553B\",\"#00cc96\",\"#ab63fa\",\"#FFA15A\",\"#19d3f3\",\"#FF6692\",\"#B6E880\",\"#FF97FF\",\"#FECB52\"],\"font\":{\"color\":\"#2a3f5f\"},\"hovermode\":\"closest\",\"hoverlabel\":{\"align\":\"left\"},\"paper_bgcolor\":\"white\",\"plot_bgcolor\":\"#E5ECF6\",\"polar\":{\"bgcolor\":\"#E5ECF6\",\"angularaxis\":{\"gridcolor\":\"white\",\"linecolor\":\"white\",\"ticks\":\"\"},\"radialaxis\":{\"gridcolor\":\"white\",\"linecolor\":\"white\",\"ticks\":\"\"}},\"ternary\":{\"bgcolor\":\"#E5ECF6\",\"aaxis\":{\"gridcolor\":\"white\",\"linecolor\":\"white\",\"ticks\":\"\"},\"baxis\":{\"gridcolor\":\"white\",\"linecolor\":\"white\",\"ticks\":\"\"},\"caxis\":{\"gridcolor\":\"white\",\"linecolor\":\"white\",\"ticks\":\"\"}},\"coloraxis\":{\"colorbar\":{\"outlinewidth\":0,\"ticks\":\"\"}},\"colorscale\":{\"sequential\":[[0.0,\"#0d0887\"],[0.1111111111111111,\"#46039f\"],[0.2222222222222222,\"#7201a8\"],[0.3333333333333333,\"#9c179e\"],[0.4444444444444444,\"#bd3786\"],[0.5555555555555556,\"#d8576b\"],[0.6666666666666666,\"#ed7953\"],[0.7777777777777778,\"#fb9f3a\"],[0.8888888888888888,\"#fdca26\"],[1.0,\"#f0f921\"]],\"sequentialminus\":[[0.0,\"#0d0887\"],[0.1111111111111111,\"#46039f\"],[0.2222222222222222,\"#7201a8\"],[0.3333333333333333,\"#9c179e\"],[0.4444444444444444,\"#bd3786\"],[0.5555555555555556,\"#d8576b\"],[0.6666666666666666,\"#ed7953\"],[0.7777777777777778,\"#fb9f3a\"],[0.8888888888888888,\"#fdca26\"],[1.0,\"#f0f921\"]],\"diverging\":[[0,\"#8e0152\"],[0.1,\"#c51b7d\"],[0.2,\"#de77ae\"],[0.3,\"#f1b6da\"],[0.4,\"#fde0ef\"],[0.5,\"#f7f7f7\"],[0.6,\"#e6f5d0\"],[0.7,\"#b8e186\"],[0.8,\"#7fbc41\"],[0.9,\"#4d9221\"],[1,\"#276419\"]]},\"xaxis\":{\"gridcolor\":\"white\",\"linecolor\":\"white\",\"ticks\":\"\",\"title\":{\"standoff\":15},\"zerolinecolor\":\"white\",\"automargin\":true,\"zerolinewidth\":2},\"yaxis\":{\"gridcolor\":\"white\",\"linecolor\":\"white\",\"ticks\":\"\",\"title\":{\"standoff\":15},\"zerolinecolor\":\"white\",\"automargin\":true,\"zerolinewidth\":2},\"scene\":{\"xaxis\":{\"backgroundcolor\":\"#E5ECF6\",\"gridcolor\":\"white\",\"linecolor\":\"white\",\"showbackground\":true,\"ticks\":\"\",\"zerolinecolor\":\"white\",\"gridwidth\":2},\"yaxis\":{\"backgroundcolor\":\"#E5ECF6\",\"gridcolor\":\"white\",\"linecolor\":\"white\",\"showbackground\":true,\"ticks\":\"\",\"zerolinecolor\":\"white\",\"gridwidth\":2},\"zaxis\":{\"backgroundcolor\":\"#E5ECF6\",\"gridcolor\":\"white\",\"linecolor\":\"white\",\"showbackground\":true,\"ticks\":\"\",\"zerolinecolor\":\"white\",\"gridwidth\":2}},\"shapedefaults\":{\"line\":{\"color\":\"#2a3f5f\"}},\"annotationdefaults\":{\"arrowcolor\":\"#2a3f5f\",\"arrowhead\":0,\"arrowwidth\":1},\"geo\":{\"bgcolor\":\"white\",\"landcolor\":\"#E5ECF6\",\"subunitcolor\":\"white\",\"showland\":true,\"showlakes\":true,\"lakecolor\":\"white\"},\"title\":{\"x\":0.05},\"mapbox\":{\"style\":\"light\"}}},\"annotations\":[{\"align\":\"center\",\"bgcolor\":\"#ff7f0e\",\"bordercolor\":\"black\",\"borderpad\":4,\"borderwidth\":2,\"font\":{\"color\":\"black\",\"family\":\"Courier New, monospace\",\"size\":16},\"opacity\":1,\"showarrow\":false,\"text\":\"2\",\"x\":55.0,\"y\":0},{\"align\":\"center\",\"bgcolor\":\"#ff7f0e\",\"bordercolor\":\"black\",\"borderpad\":4,\"borderwidth\":2,\"font\":{\"color\":\"black\",\"family\":\"Courier New, monospace\",\"size\":16},\"opacity\":1,\"showarrow\":false,\"text\":\"2\",\"x\":55.0,\"y\":53}]},                        {\"responsive\": true}                    ).then(function(){\n",
       "                            Plotly.addFrames('25f58303-9feb-4cc8-8916-344ae5c76d19', [{\"data\":[{\"hoverinfo\":\"none\",\"mode\":\"text\",\"showlegend\":false,\"text\":[\"10\",\"20\",\"30\",\"40\",\"50\",\"40\",\"30\",\"20\",\"10\"],\"textfont\":{\"color\":\"#ffffff\",\"family\":\"Courier New, monospace\",\"size\":30},\"x\":[20,30,40,50,60,70,80,90,100],\"y\":[5,5,5,5,5,5,5,5,5],\"type\":\"scatter\"},{\"hoverinfo\":\"none\",\"mode\":\"text\",\"showlegend\":false,\"text\":[\"10\",\"20\",\"30\",\"40\",\"50\",\"40\",\"30\",\"20\",\"10\"],\"textfont\":{\"color\":\"#ffffff\",\"family\":\"Courier New, monospace\",\"size\":30},\"x\":[20,30,40,50,60,70,80,90,100],\"y\":[48.5,48.5,48.5,48.5,48.5,48.5,48.5,48.5,48.5],\"type\":\"scatter\"},{\"hoverinfo\":\"none\",\"line\":{\"color\":\"blue\",\"dash\":\"dash\"},\"showlegend\":false,\"x\":[41.0,41.0],\"y\":[0,53.5],\"type\":\"scatter\"},{\"hoverinfo\":\"none\",\"line\":{\"color\":\"yellow\",\"dash\":\"dash\"},\"showlegend\":false,\"x\":[55.0,55.0],\"y\":[0,53.5],\"type\":\"scatter\"},{\"hoverinfo\":\"text\",\"hovertext\":[\"nflId:33131<br>displayName:Calais Campbell<br>Position:DRT<br>Role:Pass Rush\",\"nflId:37240<br>displayName:Pernell McPhee<br>Position:ROLB<br>Role:Pass Rush\",\"nflId:40042<br>displayName:Brandon Williams<br>Position:NLT<br>Role:Pass Rush\",\"nflId:44828<br>displayName:Marlon Humphrey<br>Position:SCBiR<br>Role:Coverage\",\"nflId:44999<br>displayName:Chuck Clark<br>Position:LOLB<br>Role:Coverage\",\"nflId:46187<br>displayName:Anthony Averett<br>Position:SCBoR<br>Role:Coverage\",\"nflId:46259<br>displayName:DeShon Elliott<br>Position:LOLB<br>Role:Pass Rush\",\"nflId:48565<br>displayName:Chris Westry<br>Position:SCBiR<br>Role:Coverage\",\"nflId:52436<br>displayName:Patrick Queen<br>Position:MLB<br>Role:Coverage\",\"nflId:52506<br>displayName:Malik Harrison<br>Position:RCB<br>Role:Pass Rush\",\"nflId:53460<br>displayName:Odafe Oweh<br>Position:LOLB<br>Role:Pass Rush\"],\"marker\":{\"color\":\"#241773\"},\"mode\":\"markers\",\"name\":\"BAL\",\"x\":[39.880001068115234,39.900001525878906,40.060001373291016,39.720001220703125,39.68000030517578,34.630001068115234,39.95000076293945,38.02000045776367,37.290000915527344,39.7400016784668,39.529998779296875],\"y\":[21.479999542236328,18.65999984741211,24.290000915527344,16.510000228881836,29.170000076293945,15.229999542236328,31.06999969482422,17.8799991607666,24.420000076293945,14.039999961853027,27.809999465942383],\"type\":\"scatter\"},{\"marker\":{\"color\":\"#241773\"},\"mode\":\"lines\",\"name\":\"BAL\",\"x\":[39.880001068115234,39.900001525878906,40.060001373291016,39.720001220703125,39.68000030517578,34.630001068115234,39.95000076293945,38.02000045776367,37.290000915527344,39.7400016784668,39.529998779296875],\"y\":[21.479999542236328,18.65999984741211,24.290000915527344,16.510000228881836,29.170000076293945,15.229999542236328,31.06999969482422,17.8799991607666,24.420000076293945,14.039999961853027,27.809999465942383],\"type\":\"scatter\"},{\"hoverinfo\":\"text\",\"hovertext\":[\"nflId:41265<br>displayName:Derek Carr<br>Position:QB<br>Role:Pass\",\"nflId:42547<br>displayName:Darren Waller<br>Position:LWR<br>Role:Pass Route\",\"nflId:43362<br>displayName:Kenyan Drake<br>Position:HB-L<br>Role:Pass Block\",\"nflId:44849<br>displayName:Zay Jones<br>Position:SLoWR<br>Role:Pass Route\",\"nflId:44972<br>displayName:Jermaine Eluemunor<br>Position:RG<br>Role:Pass Block\",\"nflId:46084<br>displayName:Kolton Miller<br>Position:LT<br>Role:Pass Block\",\"nflId:47920<br>displayName:Foster Moreau<br>Position:TE-R<br>Role:Pass Block\",\"nflId:47932<br>displayName:Hunter Renfrow<br>Position:SLiWR<br>Role:Pass Route\",\"nflId:48235<br>displayName:Andre James<br>Position:C<br>Role:Pass Block\",\"nflId:52517<br>displayName:John Simpson<br>Position:LG<br>Role:Pass Block\",\"nflId:53446<br>displayName:Alex Leatherwood<br>Position:RT<br>Role:Pass Block\"],\"marker\":{\"color\":\"#000000\"},\"mode\":\"markers\",\"name\":\"LV\",\"x\":[45.029998779296875,43.06999969482422,45.4900016784668,41.54999923706055,41.59000015258789,41.83000183105469,41.5099983215332,42.709999084472656,41.16999816894531,41.849998474121094,41.4900016784668],\"y\":[23.770000457763672,14.470000267028809,21.84000015258789,16.510000228881836,25.350000381469727,20.639999389648438,28.549999237060547,17.520000457763672,23.790000915527344,22.280000686645508,27.139999389648438],\"type\":\"scatter\"},{\"marker\":{\"color\":\"#000000\"},\"mode\":\"lines\",\"name\":\"LV\",\"x\":[45.029998779296875,43.06999969482422,45.4900016784668,41.54999923706055,41.59000015258789,41.83000183105469,41.5099983215332,42.709999084472656,41.16999816894531,41.849998474121094,41.4900016784668],\"y\":[23.770000457763672,14.470000267028809,21.84000015258789,16.510000228881836,25.350000381469727,20.639999389648438,28.549999237060547,17.520000457763672,23.790000915527344,22.280000686645508,27.139999389648438],\"type\":\"scatter\"},{\"hoverinfo\":\"none\",\"marker\":{\"color\":\"#CBB67C\"},\"mode\":\"markers\",\"name\":\"football\",\"x\":[42.029998779296875],\"y\":[24.06999969482422],\"type\":\"scatter\"}],\"name\":\"2\"},{\"data\":[{\"hoverinfo\":\"none\",\"mode\":\"text\",\"showlegend\":false,\"text\":[\"10\",\"20\",\"30\",\"40\",\"50\",\"40\",\"30\",\"20\",\"10\"],\"textfont\":{\"color\":\"#ffffff\",\"family\":\"Courier New, monospace\",\"size\":30},\"x\":[20,30,40,50,60,70,80,90,100],\"y\":[5,5,5,5,5,5,5,5,5],\"type\":\"scatter\"},{\"hoverinfo\":\"none\",\"mode\":\"text\",\"showlegend\":false,\"text\":[\"10\",\"20\",\"30\",\"40\",\"50\",\"40\",\"30\",\"20\",\"10\"],\"textfont\":{\"color\":\"#ffffff\",\"family\":\"Courier New, monospace\",\"size\":30},\"x\":[20,30,40,50,60,70,80,90,100],\"y\":[48.5,48.5,48.5,48.5,48.5,48.5,48.5,48.5,48.5],\"type\":\"scatter\"},{\"hoverinfo\":\"none\",\"line\":{\"color\":\"blue\",\"dash\":\"dash\"},\"showlegend\":false,\"x\":[41.0,41.0],\"y\":[0,53.5],\"type\":\"scatter\"},{\"hoverinfo\":\"none\",\"line\":{\"color\":\"yellow\",\"dash\":\"dash\"},\"showlegend\":false,\"x\":[55.0,55.0],\"y\":[0,53.5],\"type\":\"scatter\"},{\"hoverinfo\":\"text\",\"hovertext\":[\"nflId:33131<br>displayName:Calais Campbell<br>Position:DRT<br>Role:Pass Rush\",\"nflId:37240<br>displayName:Pernell McPhee<br>Position:ROLB<br>Role:Pass Rush\",\"nflId:40042<br>displayName:Brandon Williams<br>Position:NLT<br>Role:Pass Rush\",\"nflId:44828<br>displayName:Marlon Humphrey<br>Position:SCBiR<br>Role:Coverage\",\"nflId:44999<br>displayName:Chuck Clark<br>Position:LOLB<br>Role:Coverage\",\"nflId:46187<br>displayName:Anthony Averett<br>Position:SCBoR<br>Role:Coverage\",\"nflId:46259<br>displayName:DeShon Elliott<br>Position:LOLB<br>Role:Pass Rush\",\"nflId:48565<br>displayName:Chris Westry<br>Position:SCBiR<br>Role:Coverage\",\"nflId:52436<br>displayName:Patrick Queen<br>Position:MLB<br>Role:Coverage\",\"nflId:52506<br>displayName:Malik Harrison<br>Position:RCB<br>Role:Pass Rush\",\"nflId:53460<br>displayName:Odafe Oweh<br>Position:LOLB<br>Role:Pass Rush\"],\"marker\":{\"color\":\"#241773\"},\"mode\":\"markers\",\"name\":\"BAL\",\"x\":[39.900001525878906,39.959999084472656,40.130001068115234,39.689998626708984,39.689998626708984,34.59000015258789,39.970001220703125,38.02000045776367,37.380001068115234,39.779998779296875,39.560001373291016],\"y\":[21.5,18.700000762939453,24.299999237060547,16.530000686645508,29.149999618530273,15.25,31.059999465942383,17.8799991607666,24.389999389648438,14.050000190734863,27.780000686645508],\"type\":\"scatter\"},{\"marker\":{\"color\":\"#241773\"},\"mode\":\"lines\",\"name\":\"BAL\",\"x\":[39.900001525878906,39.959999084472656,40.130001068115234,39.689998626708984,39.689998626708984,34.59000015258789,39.970001220703125,38.02000045776367,37.380001068115234,39.779998779296875,39.560001373291016],\"y\":[21.5,18.700000762939453,24.299999237060547,16.530000686645508,29.149999618530273,15.25,31.059999465942383,17.8799991607666,24.389999389648438,14.050000190734863,27.780000686645508],\"type\":\"scatter\"},{\"hoverinfo\":\"text\",\"hovertext\":[\"nflId:41265<br>displayName:Derek Carr<br>Position:QB<br>Role:Pass\",\"nflId:42547<br>displayName:Darren Waller<br>Position:LWR<br>Role:Pass Route\",\"nflId:43362<br>displayName:Kenyan Drake<br>Position:HB-L<br>Role:Pass Block\",\"nflId:44849<br>displayName:Zay Jones<br>Position:SLoWR<br>Role:Pass Route\",\"nflId:44972<br>displayName:Jermaine Eluemunor<br>Position:RG<br>Role:Pass Block\",\"nflId:46084<br>displayName:Kolton Miller<br>Position:LT<br>Role:Pass Block\",\"nflId:47920<br>displayName:Foster Moreau<br>Position:TE-R<br>Role:Pass Block\",\"nflId:47932<br>displayName:Hunter Renfrow<br>Position:SLiWR<br>Role:Pass Route\",\"nflId:48235<br>displayName:Andre James<br>Position:C<br>Role:Pass Block\",\"nflId:52517<br>displayName:John Simpson<br>Position:LG<br>Role:Pass Block\",\"nflId:53446<br>displayName:Alex Leatherwood<br>Position:RT<br>Role:Pass Block\"],\"marker\":{\"color\":\"#000000\"},\"mode\":\"markers\",\"name\":\"LV\",\"x\":[45.04999923706055,43.06999969482422,45.4900016784668,41.4900016784668,41.599998474121094,41.88999938964844,41.5,42.66999816894531,41.2400016784668,41.88999938964844,41.4900016784668],\"y\":[23.770000457763672,14.470000267028809,21.850000381469727,16.579999923706055,25.290000915527344,20.6299991607666,28.520000457763672,17.530000686645508,23.770000457763672,22.270000457763672,27.1299991607666],\"type\":\"scatter\"},{\"marker\":{\"color\":\"#000000\"},\"mode\":\"lines\",\"name\":\"LV\",\"x\":[45.04999923706055,43.06999969482422,45.4900016784668,41.4900016784668,41.599998474121094,41.88999938964844,41.5,42.66999816894531,41.2400016784668,41.88999938964844,41.4900016784668],\"y\":[23.770000457763672,14.470000267028809,21.850000381469727,16.579999923706055,25.290000915527344,20.6299991607666,28.520000457763672,17.530000686645508,23.770000457763672,22.270000457763672,27.1299991607666],\"type\":\"scatter\"},{\"hoverinfo\":\"none\",\"marker\":{\"color\":\"#CBB67C\"},\"mode\":\"markers\",\"name\":\"football\",\"x\":[42.630001068115234],\"y\":[24.059999465942383],\"type\":\"scatter\"}],\"name\":\"3\"},{\"data\":[{\"hoverinfo\":\"none\",\"mode\":\"text\",\"showlegend\":false,\"text\":[\"10\",\"20\",\"30\",\"40\",\"50\",\"40\",\"30\",\"20\",\"10\"],\"textfont\":{\"color\":\"#ffffff\",\"family\":\"Courier New, monospace\",\"size\":30},\"x\":[20,30,40,50,60,70,80,90,100],\"y\":[5,5,5,5,5,5,5,5,5],\"type\":\"scatter\"},{\"hoverinfo\":\"none\",\"mode\":\"text\",\"showlegend\":false,\"text\":[\"10\",\"20\",\"30\",\"40\",\"50\",\"40\",\"30\",\"20\",\"10\"],\"textfont\":{\"color\":\"#ffffff\",\"family\":\"Courier New, monospace\",\"size\":30},\"x\":[20,30,40,50,60,70,80,90,100],\"y\":[48.5,48.5,48.5,48.5,48.5,48.5,48.5,48.5,48.5],\"type\":\"scatter\"},{\"hoverinfo\":\"none\",\"line\":{\"color\":\"blue\",\"dash\":\"dash\"},\"showlegend\":false,\"x\":[41.0,41.0],\"y\":[0,53.5],\"type\":\"scatter\"},{\"hoverinfo\":\"none\",\"line\":{\"color\":\"yellow\",\"dash\":\"dash\"},\"showlegend\":false,\"x\":[55.0,55.0],\"y\":[0,53.5],\"type\":\"scatter\"},{\"hoverinfo\":\"text\",\"hovertext\":[\"nflId:33131<br>displayName:Calais Campbell<br>Position:DRT<br>Role:Pass Rush\",\"nflId:37240<br>displayName:Pernell McPhee<br>Position:ROLB<br>Role:Pass Rush\",\"nflId:40042<br>displayName:Brandon Williams<br>Position:NLT<br>Role:Pass Rush\",\"nflId:44828<br>displayName:Marlon Humphrey<br>Position:SCBiR<br>Role:Coverage\",\"nflId:44999<br>displayName:Chuck Clark<br>Position:LOLB<br>Role:Coverage\",\"nflId:46187<br>displayName:Anthony Averett<br>Position:SCBoR<br>Role:Coverage\",\"nflId:46259<br>displayName:DeShon Elliott<br>Position:LOLB<br>Role:Pass Rush\",\"nflId:48565<br>displayName:Chris Westry<br>Position:SCBiR<br>Role:Coverage\",\"nflId:52436<br>displayName:Patrick Queen<br>Position:MLB<br>Role:Coverage\",\"nflId:52506<br>displayName:Malik Harrison<br>Position:RCB<br>Role:Pass Rush\",\"nflId:53460<br>displayName:Odafe Oweh<br>Position:LOLB<br>Role:Pass Rush\"],\"marker\":{\"color\":\"#241773\"},\"mode\":\"markers\",\"name\":\"BAL\",\"x\":[39.970001220703125,40.04999923706055,40.2599983215332,39.650001525878906,39.70000076293945,34.560001373291016,40.0099983215332,38.02000045776367,37.4900016784668,39.83000183105469,39.630001068115234],\"y\":[21.559999465942383,18.760000228881836,24.31999969482422,16.559999465942383,29.149999618530273,15.270000457763672,31.030000686645508,17.8799991607666,24.350000381469727,14.079999923706055,27.719999313354492],\"type\":\"scatter\"},{\"marker\":{\"color\":\"#241773\"},\"mode\":\"lines\",\"name\":\"BAL\",\"x\":[39.970001220703125,40.04999923706055,40.2599983215332,39.650001525878906,39.70000076293945,34.560001373291016,40.0099983215332,38.02000045776367,37.4900016784668,39.83000183105469,39.630001068115234],\"y\":[21.559999465942383,18.760000228881836,24.31999969482422,16.559999465942383,29.149999618530273,15.270000457763672,31.030000686645508,17.8799991607666,24.350000381469727,14.079999923706055,27.719999313354492],\"type\":\"scatter\"},{\"hoverinfo\":\"text\",\"hovertext\":[\"nflId:41265<br>displayName:Derek Carr<br>Position:QB<br>Role:Pass\",\"nflId:42547<br>displayName:Darren Waller<br>Position:LWR<br>Role:Pass Route\",\"nflId:43362<br>displayName:Kenyan Drake<br>Position:HB-L<br>Role:Pass Block\",\"nflId:44849<br>displayName:Zay Jones<br>Position:SLoWR<br>Role:Pass Route\",\"nflId:44972<br>displayName:Jermaine Eluemunor<br>Position:RG<br>Role:Pass Block\",\"nflId:46084<br>displayName:Kolton Miller<br>Position:LT<br>Role:Pass Block\",\"nflId:47920<br>displayName:Foster Moreau<br>Position:TE-R<br>Role:Pass Block\",\"nflId:47932<br>displayName:Hunter Renfrow<br>Position:SLiWR<br>Role:Pass Route\",\"nflId:48235<br>displayName:Andre James<br>Position:C<br>Role:Pass Block\",\"nflId:52517<br>displayName:John Simpson<br>Position:LG<br>Role:Pass Block\",\"nflId:53446<br>displayName:Alex Leatherwood<br>Position:RT<br>Role:Pass Block\"],\"marker\":{\"color\":\"#000000\"},\"mode\":\"markers\",\"name\":\"LV\",\"x\":[45.11000061035156,43.040000915527344,45.47999954223633,41.369998931884766,41.63999938964844,41.97999954223633,41.47999954223633,42.59000015258789,41.310001373291016,41.939998626708984,41.5],\"y\":[23.770000457763672,14.460000038146973,21.8700008392334,16.68000030517578,25.209999084472656,20.610000610351562,28.469999313354492,17.530000686645508,23.760000228881836,22.260000228881836,27.1200008392334],\"type\":\"scatter\"},{\"marker\":{\"color\":\"#000000\"},\"mode\":\"lines\",\"name\":\"LV\",\"x\":[45.11000061035156,43.040000915527344,45.47999954223633,41.369998931884766,41.63999938964844,41.97999954223633,41.47999954223633,42.59000015258789,41.310001373291016,41.939998626708984,41.5],\"y\":[23.770000457763672,14.460000038146973,21.8700008392334,16.68000030517578,25.209999084472656,20.610000610351562,28.469999313354492,17.530000686645508,23.760000228881836,22.260000228881836,27.1200008392334],\"type\":\"scatter\"},{\"hoverinfo\":\"none\",\"marker\":{\"color\":\"#CBB67C\"},\"mode\":\"markers\",\"name\":\"football\",\"x\":[43.27000045776367],\"y\":[24.040000915527344],\"type\":\"scatter\"}],\"name\":\"4\"},{\"data\":[{\"hoverinfo\":\"none\",\"mode\":\"text\",\"showlegend\":false,\"text\":[\"10\",\"20\",\"30\",\"40\",\"50\",\"40\",\"30\",\"20\",\"10\"],\"textfont\":{\"color\":\"#ffffff\",\"family\":\"Courier New, monospace\",\"size\":30},\"x\":[20,30,40,50,60,70,80,90,100],\"y\":[5,5,5,5,5,5,5,5,5],\"type\":\"scatter\"},{\"hoverinfo\":\"none\",\"mode\":\"text\",\"showlegend\":false,\"text\":[\"10\",\"20\",\"30\",\"40\",\"50\",\"40\",\"30\",\"20\",\"10\"],\"textfont\":{\"color\":\"#ffffff\",\"family\":\"Courier New, monospace\",\"size\":30},\"x\":[20,30,40,50,60,70,80,90,100],\"y\":[48.5,48.5,48.5,48.5,48.5,48.5,48.5,48.5,48.5],\"type\":\"scatter\"},{\"hoverinfo\":\"none\",\"line\":{\"color\":\"blue\",\"dash\":\"dash\"},\"showlegend\":false,\"x\":[41.0,41.0],\"y\":[0,53.5],\"type\":\"scatter\"},{\"hoverinfo\":\"none\",\"line\":{\"color\":\"yellow\",\"dash\":\"dash\"},\"showlegend\":false,\"x\":[55.0,55.0],\"y\":[0,53.5],\"type\":\"scatter\"},{\"hoverinfo\":\"text\",\"hovertext\":[\"nflId:33131<br>displayName:Calais Campbell<br>Position:DRT<br>Role:Pass Rush\",\"nflId:37240<br>displayName:Pernell McPhee<br>Position:ROLB<br>Role:Pass Rush\",\"nflId:40042<br>displayName:Brandon Williams<br>Position:NLT<br>Role:Pass Rush\",\"nflId:44828<br>displayName:Marlon Humphrey<br>Position:SCBiR<br>Role:Coverage\",\"nflId:44999<br>displayName:Chuck Clark<br>Position:LOLB<br>Role:Coverage\",\"nflId:46187<br>displayName:Anthony Averett<br>Position:SCBoR<br>Role:Coverage\",\"nflId:46259<br>displayName:DeShon Elliott<br>Position:LOLB<br>Role:Pass Rush\",\"nflId:48565<br>displayName:Chris Westry<br>Position:SCBiR<br>Role:Coverage\",\"nflId:52436<br>displayName:Patrick Queen<br>Position:MLB<br>Role:Coverage\",\"nflId:52506<br>displayName:Malik Harrison<br>Position:RCB<br>Role:Pass Rush\",\"nflId:53460<br>displayName:Odafe Oweh<br>Position:LOLB<br>Role:Pass Rush\"],\"marker\":{\"color\":\"#241773\"},\"mode\":\"markers\",\"name\":\"BAL\",\"x\":[40.06999969482422,40.18000030517578,40.41999816894531,39.619998931884766,39.720001220703125,34.52000045776367,40.099998474121094,38.02000045776367,37.61000061035156,39.900001525878906,39.72999954223633],\"y\":[21.6299991607666,18.850000381469727,24.34000015258789,16.579999923706055,29.1299991607666,15.279999732971191,30.979999542236328,17.8700008392334,24.31999969482422,14.119999885559082,27.610000610351562],\"type\":\"scatter\"},{\"marker\":{\"color\":\"#241773\"},\"mode\":\"lines\",\"name\":\"BAL\",\"x\":[40.06999969482422,40.18000030517578,40.41999816894531,39.619998931884766,39.720001220703125,34.52000045776367,40.099998474121094,38.02000045776367,37.61000061035156,39.900001525878906,39.72999954223633],\"y\":[21.6299991607666,18.850000381469727,24.34000015258789,16.579999923706055,29.1299991607666,15.279999732971191,30.979999542236328,17.8700008392334,24.31999969482422,14.119999885559082,27.610000610351562],\"type\":\"scatter\"},{\"hoverinfo\":\"text\",\"hovertext\":[\"nflId:41265<br>displayName:Derek Carr<br>Position:QB<br>Role:Pass\",\"nflId:42547<br>displayName:Darren Waller<br>Position:LWR<br>Role:Pass Route\",\"nflId:43362<br>displayName:Kenyan Drake<br>Position:HB-L<br>Role:Pass Block\",\"nflId:44849<br>displayName:Zay Jones<br>Position:SLoWR<br>Role:Pass Route\",\"nflId:44972<br>displayName:Jermaine Eluemunor<br>Position:RG<br>Role:Pass Block\",\"nflId:46084<br>displayName:Kolton Miller<br>Position:LT<br>Role:Pass Block\",\"nflId:47920<br>displayName:Foster Moreau<br>Position:TE-R<br>Role:Pass Block\",\"nflId:47932<br>displayName:Hunter Renfrow<br>Position:SLiWR<br>Role:Pass Route\",\"nflId:48235<br>displayName:Andre James<br>Position:C<br>Role:Pass Block\",\"nflId:52517<br>displayName:John Simpson<br>Position:LG<br>Role:Pass Block\",\"nflId:53446<br>displayName:Alex Leatherwood<br>Position:RT<br>Role:Pass Block\"],\"marker\":{\"color\":\"#000000\"},\"mode\":\"markers\",\"name\":\"LV\",\"x\":[45.209999084472656,42.9900016784668,45.470001220703125,41.22999954223633,41.689998626708984,42.09000015258789,41.459999084472656,42.47999954223633,41.40999984741211,42.029998779296875,41.5099983215332],\"y\":[23.75,14.4399995803833,21.90999984741211,16.809999465942383,25.1299991607666,20.579999923706055,28.40999984741211,17.530000686645508,23.739999771118164,22.239999771118164,27.09000015258789],\"type\":\"scatter\"},{\"marker\":{\"color\":\"#000000\"},\"mode\":\"lines\",\"name\":\"LV\",\"x\":[45.209999084472656,42.9900016784668,45.470001220703125,41.22999954223633,41.689998626708984,42.09000015258789,41.459999084472656,42.47999954223633,41.40999984741211,42.029998779296875,41.5099983215332],\"y\":[23.75,14.4399995803833,21.90999984741211,16.809999465942383,25.1299991607666,20.579999923706055,28.40999984741211,17.530000686645508,23.739999771118164,22.239999771118164,27.09000015258789],\"type\":\"scatter\"},{\"hoverinfo\":\"none\",\"marker\":{\"color\":\"#CBB67C\"},\"mode\":\"markers\",\"name\":\"football\",\"x\":[43.849998474121094],\"y\":[24.020000457763672],\"type\":\"scatter\"}],\"name\":\"5\"},{\"data\":[{\"hoverinfo\":\"none\",\"mode\":\"text\",\"showlegend\":false,\"text\":[\"10\",\"20\",\"30\",\"40\",\"50\",\"40\",\"30\",\"20\",\"10\"],\"textfont\":{\"color\":\"#ffffff\",\"family\":\"Courier New, monospace\",\"size\":30},\"x\":[20,30,40,50,60,70,80,90,100],\"y\":[5,5,5,5,5,5,5,5,5],\"type\":\"scatter\"},{\"hoverinfo\":\"none\",\"mode\":\"text\",\"showlegend\":false,\"text\":[\"10\",\"20\",\"30\",\"40\",\"50\",\"40\",\"30\",\"20\",\"10\"],\"textfont\":{\"color\":\"#ffffff\",\"family\":\"Courier New, monospace\",\"size\":30},\"x\":[20,30,40,50,60,70,80,90,100],\"y\":[48.5,48.5,48.5,48.5,48.5,48.5,48.5,48.5,48.5],\"type\":\"scatter\"},{\"hoverinfo\":\"none\",\"line\":{\"color\":\"blue\",\"dash\":\"dash\"},\"showlegend\":false,\"x\":[41.0,41.0],\"y\":[0,53.5],\"type\":\"scatter\"},{\"hoverinfo\":\"none\",\"line\":{\"color\":\"yellow\",\"dash\":\"dash\"},\"showlegend\":false,\"x\":[55.0,55.0],\"y\":[0,53.5],\"type\":\"scatter\"},{\"hoverinfo\":\"text\",\"hovertext\":[\"nflId:33131<br>displayName:Calais Campbell<br>Position:DRT<br>Role:Pass Rush\",\"nflId:37240<br>displayName:Pernell McPhee<br>Position:ROLB<br>Role:Pass Rush\",\"nflId:40042<br>displayName:Brandon Williams<br>Position:NLT<br>Role:Pass Rush\",\"nflId:44828<br>displayName:Marlon Humphrey<br>Position:SCBiR<br>Role:Coverage\",\"nflId:44999<br>displayName:Chuck Clark<br>Position:LOLB<br>Role:Coverage\",\"nflId:46187<br>displayName:Anthony Averett<br>Position:SCBoR<br>Role:Coverage\",\"nflId:46259<br>displayName:DeShon Elliott<br>Position:LOLB<br>Role:Pass Rush\",\"nflId:48565<br>displayName:Chris Westry<br>Position:SCBiR<br>Role:Coverage\",\"nflId:52436<br>displayName:Patrick Queen<br>Position:MLB<br>Role:Coverage\",\"nflId:52506<br>displayName:Malik Harrison<br>Position:RCB<br>Role:Pass Rush\",\"nflId:53460<br>displayName:Odafe Oweh<br>Position:LOLB<br>Role:Pass Rush\"],\"marker\":{\"color\":\"#241773\"},\"mode\":\"markers\",\"name\":\"BAL\",\"x\":[40.22999954223633,40.34000015258789,40.599998474121094,39.560001373291016,39.7400016784668,34.4900016784668,40.22999954223633,38.02000045776367,37.75,40.02000045776367,39.869998931884766],\"y\":[21.729999542236328,18.969999313354492,24.3700008392334,16.6200008392334,29.110000610351562,15.279999732971191,30.899999618530273,17.8700008392334,24.280000686645508,14.1899995803833,27.489999771118164],\"type\":\"scatter\"},{\"marker\":{\"color\":\"#241773\"},\"mode\":\"lines\",\"name\":\"BAL\",\"x\":[40.22999954223633,40.34000015258789,40.599998474121094,39.560001373291016,39.7400016784668,34.4900016784668,40.22999954223633,38.02000045776367,37.75,40.02000045776367,39.869998931884766],\"y\":[21.729999542236328,18.969999313354492,24.3700008392334,16.6200008392334,29.110000610351562,15.279999732971191,30.899999618530273,17.8700008392334,24.280000686645508,14.1899995803833,27.489999771118164],\"type\":\"scatter\"},{\"hoverinfo\":\"text\",\"hovertext\":[\"nflId:41265<br>displayName:Derek Carr<br>Position:QB<br>Role:Pass\",\"nflId:42547<br>displayName:Darren Waller<br>Position:LWR<br>Role:Pass Route\",\"nflId:43362<br>displayName:Kenyan Drake<br>Position:HB-L<br>Role:Pass Block\",\"nflId:44849<br>displayName:Zay Jones<br>Position:SLoWR<br>Role:Pass Route\",\"nflId:44972<br>displayName:Jermaine Eluemunor<br>Position:RG<br>Role:Pass Block\",\"nflId:46084<br>displayName:Kolton Miller<br>Position:LT<br>Role:Pass Block\",\"nflId:47920<br>displayName:Foster Moreau<br>Position:TE-R<br>Role:Pass Block\",\"nflId:47932<br>displayName:Hunter Renfrow<br>Position:SLiWR<br>Role:Pass Route\",\"nflId:48235<br>displayName:Andre James<br>Position:C<br>Role:Pass Block\",\"nflId:52517<br>displayName:John Simpson<br>Position:LG<br>Role:Pass Block\",\"nflId:53446<br>displayName:Alex Leatherwood<br>Position:RT<br>Role:Pass Block\"],\"marker\":{\"color\":\"#000000\"},\"mode\":\"markers\",\"name\":\"LV\",\"x\":[45.36000061035156,42.88999938964844,45.439998626708984,41.04999923706055,41.7599983215332,42.220001220703125,41.45000076293945,42.31999969482422,41.529998779296875,42.119998931884766,41.529998779296875],\"y\":[23.729999542236328,14.399999618530273,22.0,17.0,25.049999237060547,20.56999969482422,28.34000015258789,17.510000228881836,23.709999084472656,22.219999313354492,27.049999237060547],\"type\":\"scatter\"},{\"marker\":{\"color\":\"#000000\"},\"mode\":\"lines\",\"name\":\"LV\",\"x\":[45.36000061035156,42.88999938964844,45.439998626708984,41.04999923706055,41.7599983215332,42.220001220703125,41.45000076293945,42.31999969482422,41.529998779296875,42.119998931884766,41.529998779296875],\"y\":[23.729999542236328,14.399999618530273,22.0,17.0,25.049999237060547,20.56999969482422,28.34000015258789,17.510000228881836,23.709999084472656,22.219999313354492,27.049999237060547],\"type\":\"scatter\"},{\"hoverinfo\":\"none\",\"marker\":{\"color\":\"#CBB67C\"},\"mode\":\"markers\",\"name\":\"football\",\"x\":[44.38999938964844],\"y\":[24.010000228881836],\"type\":\"scatter\"}],\"name\":\"6\"},{\"data\":[{\"hoverinfo\":\"none\",\"mode\":\"text\",\"showlegend\":false,\"text\":[\"10\",\"20\",\"30\",\"40\",\"50\",\"40\",\"30\",\"20\",\"10\"],\"textfont\":{\"color\":\"#ffffff\",\"family\":\"Courier New, monospace\",\"size\":30},\"x\":[20,30,40,50,60,70,80,90,100],\"y\":[5,5,5,5,5,5,5,5,5],\"type\":\"scatter\"},{\"hoverinfo\":\"none\",\"mode\":\"text\",\"showlegend\":false,\"text\":[\"10\",\"20\",\"30\",\"40\",\"50\",\"40\",\"30\",\"20\",\"10\"],\"textfont\":{\"color\":\"#ffffff\",\"family\":\"Courier New, monospace\",\"size\":30},\"x\":[20,30,40,50,60,70,80,90,100],\"y\":[48.5,48.5,48.5,48.5,48.5,48.5,48.5,48.5,48.5],\"type\":\"scatter\"},{\"hoverinfo\":\"none\",\"line\":{\"color\":\"blue\",\"dash\":\"dash\"},\"showlegend\":false,\"x\":[41.0,41.0],\"y\":[0,53.5],\"type\":\"scatter\"},{\"hoverinfo\":\"none\",\"line\":{\"color\":\"yellow\",\"dash\":\"dash\"},\"showlegend\":false,\"x\":[55.0,55.0],\"y\":[0,53.5],\"type\":\"scatter\"},{\"hoverinfo\":\"text\",\"hovertext\":[\"nflId:33131<br>displayName:Calais Campbell<br>Position:DRT<br>Role:Pass Rush\",\"nflId:37240<br>displayName:Pernell McPhee<br>Position:ROLB<br>Role:Pass Rush\",\"nflId:40042<br>displayName:Brandon Williams<br>Position:NLT<br>Role:Pass Rush\",\"nflId:44828<br>displayName:Marlon Humphrey<br>Position:SCBiR<br>Role:Coverage\",\"nflId:44999<br>displayName:Chuck Clark<br>Position:LOLB<br>Role:Coverage\",\"nflId:46187<br>displayName:Anthony Averett<br>Position:SCBoR<br>Role:Coverage\",\"nflId:46259<br>displayName:DeShon Elliott<br>Position:LOLB<br>Role:Pass Rush\",\"nflId:48565<br>displayName:Chris Westry<br>Position:SCBiR<br>Role:Coverage\",\"nflId:52436<br>displayName:Patrick Queen<br>Position:MLB<br>Role:Coverage\",\"nflId:52506<br>displayName:Malik Harrison<br>Position:RCB<br>Role:Pass Rush\",\"nflId:53460<br>displayName:Odafe Oweh<br>Position:LOLB<br>Role:Pass Rush\"],\"marker\":{\"color\":\"#241773\"},\"mode\":\"markers\",\"name\":\"BAL\",\"x\":[40.38999938964844,40.540000915527344,40.79999923706055,39.470001220703125,39.810001373291016,34.459999084472656,40.41999816894531,38.02000045776367,37.900001525878906,40.16999816894531,40.04999923706055],\"y\":[21.829999923706055,19.1299991607666,24.389999389648438,16.709999084472656,29.059999465942383,15.300000190734863,30.790000915527344,17.8700008392334,24.260000228881836,14.300000190734863,27.31999969482422],\"type\":\"scatter\"},{\"marker\":{\"color\":\"#241773\"},\"mode\":\"lines\",\"name\":\"BAL\",\"x\":[40.38999938964844,40.540000915527344,40.79999923706055,39.470001220703125,39.810001373291016,34.459999084472656,40.41999816894531,38.02000045776367,37.900001525878906,40.16999816894531,40.04999923706055],\"y\":[21.829999923706055,19.1299991607666,24.389999389648438,16.709999084472656,29.059999465942383,15.300000190734863,30.790000915527344,17.8700008392334,24.260000228881836,14.300000190734863,27.31999969482422],\"type\":\"scatter\"},{\"hoverinfo\":\"text\",\"hovertext\":[\"nflId:41265<br>displayName:Derek Carr<br>Position:QB<br>Role:Pass\",\"nflId:42547<br>displayName:Darren Waller<br>Position:LWR<br>Role:Pass Route\",\"nflId:43362<br>displayName:Kenyan Drake<br>Position:HB-L<br>Role:Pass Block\",\"nflId:44849<br>displayName:Zay Jones<br>Position:SLoWR<br>Role:Pass Route\",\"nflId:44972<br>displayName:Jermaine Eluemunor<br>Position:RG<br>Role:Pass Block\",\"nflId:46084<br>displayName:Kolton Miller<br>Position:LT<br>Role:Pass Block\",\"nflId:47920<br>displayName:Foster Moreau<br>Position:TE-R<br>Role:Pass Block\",\"nflId:47932<br>displayName:Hunter Renfrow<br>Position:SLiWR<br>Role:Pass Route\",\"nflId:48235<br>displayName:Andre James<br>Position:C<br>Role:Pass Block\",\"nflId:52517<br>displayName:John Simpson<br>Position:LG<br>Role:Pass Block\",\"nflId:53446<br>displayName:Alex Leatherwood<br>Position:RT<br>Role:Pass Block\"],\"marker\":{\"color\":\"#000000\"},\"mode\":\"markers\",\"name\":\"LV\",\"x\":[45.560001373291016,42.77000045776367,45.400001525878906,40.84000015258789,41.86000061035156,42.349998474121094,41.439998626708984,42.119998931884766,41.66999816894531,42.25,41.54999923706055],\"y\":[23.729999542236328,14.350000381469727,22.1200008392334,17.209999084472656,24.979999542236328,20.559999465942383,28.260000228881836,17.459999084472656,23.670000076293945,22.200000762939453,27.0],\"type\":\"scatter\"},{\"marker\":{\"color\":\"#000000\"},\"mode\":\"lines\",\"name\":\"LV\",\"x\":[45.560001373291016,42.77000045776367,45.400001525878906,40.84000015258789,41.86000061035156,42.349998474121094,41.439998626708984,42.119998931884766,41.66999816894531,42.25,41.54999923706055],\"y\":[23.729999542236328,14.350000381469727,22.1200008392334,17.209999084472656,24.979999542236328,20.559999465942383,28.260000228881836,17.459999084472656,23.670000076293945,22.200000762939453,27.0],\"type\":\"scatter\"},{\"hoverinfo\":\"none\",\"marker\":{\"color\":\"#CBB67C\"},\"mode\":\"markers\",\"name\":\"football\",\"x\":[44.9900016784668],\"y\":[24.0],\"type\":\"scatter\"}],\"name\":\"7\"},{\"data\":[{\"hoverinfo\":\"none\",\"mode\":\"text\",\"showlegend\":false,\"text\":[\"10\",\"20\",\"30\",\"40\",\"50\",\"40\",\"30\",\"20\",\"10\"],\"textfont\":{\"color\":\"#ffffff\",\"family\":\"Courier New, monospace\",\"size\":30},\"x\":[20,30,40,50,60,70,80,90,100],\"y\":[5,5,5,5,5,5,5,5,5],\"type\":\"scatter\"},{\"hoverinfo\":\"none\",\"mode\":\"text\",\"showlegend\":false,\"text\":[\"10\",\"20\",\"30\",\"40\",\"50\",\"40\",\"30\",\"20\",\"10\"],\"textfont\":{\"color\":\"#ffffff\",\"family\":\"Courier New, monospace\",\"size\":30},\"x\":[20,30,40,50,60,70,80,90,100],\"y\":[48.5,48.5,48.5,48.5,48.5,48.5,48.5,48.5,48.5],\"type\":\"scatter\"},{\"hoverinfo\":\"none\",\"line\":{\"color\":\"blue\",\"dash\":\"dash\"},\"showlegend\":false,\"x\":[41.0,41.0],\"y\":[0,53.5],\"type\":\"scatter\"},{\"hoverinfo\":\"none\",\"line\":{\"color\":\"yellow\",\"dash\":\"dash\"},\"showlegend\":false,\"x\":[55.0,55.0],\"y\":[0,53.5],\"type\":\"scatter\"},{\"hoverinfo\":\"text\",\"hovertext\":[\"nflId:33131<br>displayName:Calais Campbell<br>Position:DRT<br>Role:Pass Rush\",\"nflId:37240<br>displayName:Pernell McPhee<br>Position:ROLB<br>Role:Pass Rush\",\"nflId:40042<br>displayName:Brandon Williams<br>Position:NLT<br>Role:Pass Rush\",\"nflId:44828<br>displayName:Marlon Humphrey<br>Position:SCBiR<br>Role:Coverage\",\"nflId:44999<br>displayName:Chuck Clark<br>Position:LOLB<br>Role:Coverage\",\"nflId:46187<br>displayName:Anthony Averett<br>Position:SCBoR<br>Role:Coverage\",\"nflId:46259<br>displayName:DeShon Elliott<br>Position:LOLB<br>Role:Pass Rush\",\"nflId:48565<br>displayName:Chris Westry<br>Position:SCBiR<br>Role:Coverage\",\"nflId:52436<br>displayName:Patrick Queen<br>Position:MLB<br>Role:Coverage\",\"nflId:52506<br>displayName:Malik Harrison<br>Position:RCB<br>Role:Pass Rush\",\"nflId:53460<br>displayName:Odafe Oweh<br>Position:LOLB<br>Role:Pass Rush\"],\"marker\":{\"color\":\"#241773\"},\"mode\":\"markers\",\"name\":\"BAL\",\"x\":[40.63999938964844,40.75,41.040000915527344,39.349998474121094,39.88999938964844,34.40999984741211,40.65999984741211,38.0099983215332,38.06999969482422,40.369998931884766,40.25],\"y\":[21.950000762939453,19.309999465942383,24.40999984741211,16.850000381469727,29.0,15.3100004196167,30.65999984741211,17.860000610351562,24.25,14.4399995803833,27.1299991607666],\"type\":\"scatter\"},{\"marker\":{\"color\":\"#241773\"},\"mode\":\"lines\",\"name\":\"BAL\",\"x\":[40.63999938964844,40.75,41.040000915527344,39.349998474121094,39.88999938964844,34.40999984741211,40.65999984741211,38.0099983215332,38.06999969482422,40.369998931884766,40.25],\"y\":[21.950000762939453,19.309999465942383,24.40999984741211,16.850000381469727,29.0,15.3100004196167,30.65999984741211,17.860000610351562,24.25,14.4399995803833,27.1299991607666],\"type\":\"scatter\"},{\"hoverinfo\":\"text\",\"hovertext\":[\"nflId:41265<br>displayName:Derek Carr<br>Position:QB<br>Role:Pass\",\"nflId:42547<br>displayName:Darren Waller<br>Position:LWR<br>Role:Pass Route\",\"nflId:43362<br>displayName:Kenyan Drake<br>Position:HB-L<br>Role:Pass Block\",\"nflId:44849<br>displayName:Zay Jones<br>Position:SLoWR<br>Role:Pass Route\",\"nflId:44972<br>displayName:Jermaine Eluemunor<br>Position:RG<br>Role:Pass Block\",\"nflId:46084<br>displayName:Kolton Miller<br>Position:LT<br>Role:Pass Block\",\"nflId:47920<br>displayName:Foster Moreau<br>Position:TE-R<br>Role:Pass Block\",\"nflId:47932<br>displayName:Hunter Renfrow<br>Position:SLiWR<br>Role:Pass Route\",\"nflId:48235<br>displayName:Andre James<br>Position:C<br>Role:Pass Block\",\"nflId:52517<br>displayName:John Simpson<br>Position:LG<br>Role:Pass Block\",\"nflId:53446<br>displayName:Alex Leatherwood<br>Position:RT<br>Role:Pass Block\"],\"marker\":{\"color\":\"#000000\"},\"mode\":\"markers\",\"name\":\"LV\",\"x\":[45.79999923706055,42.619998931884766,45.36000061035156,40.58000183105469,41.959999084472656,42.47999954223633,41.439998626708984,41.900001525878906,41.810001373291016,42.38999938964844,41.58000183105469],\"y\":[23.709999084472656,14.270000457763672,22.299999237060547,17.469999313354492,24.90999984741211,20.559999465942383,28.200000762939453,17.40999984741211,23.6299991607666,22.190000534057617,26.93000030517578],\"type\":\"scatter\"},{\"marker\":{\"color\":\"#000000\"},\"mode\":\"lines\",\"name\":\"LV\",\"x\":[45.79999923706055,42.619998931884766,45.36000061035156,40.58000183105469,41.959999084472656,42.47999954223633,41.439998626708984,41.900001525878906,41.810001373291016,42.38999938964844,41.58000183105469],\"y\":[23.709999084472656,14.270000457763672,22.299999237060547,17.469999313354492,24.90999984741211,20.559999465942383,28.200000762939453,17.40999984741211,23.6299991607666,22.190000534057617,26.93000030517578],\"type\":\"scatter\"},{\"hoverinfo\":\"none\",\"marker\":{\"color\":\"#CBB67C\"},\"mode\":\"markers\",\"name\":\"football\",\"x\":[45.56999969482422],\"y\":[23.989999771118164],\"type\":\"scatter\"}],\"name\":\"8\"},{\"data\":[{\"hoverinfo\":\"none\",\"mode\":\"text\",\"showlegend\":false,\"text\":[\"10\",\"20\",\"30\",\"40\",\"50\",\"40\",\"30\",\"20\",\"10\"],\"textfont\":{\"color\":\"#ffffff\",\"family\":\"Courier New, monospace\",\"size\":30},\"x\":[20,30,40,50,60,70,80,90,100],\"y\":[5,5,5,5,5,5,5,5,5],\"type\":\"scatter\"},{\"hoverinfo\":\"none\",\"mode\":\"text\",\"showlegend\":false,\"text\":[\"10\",\"20\",\"30\",\"40\",\"50\",\"40\",\"30\",\"20\",\"10\"],\"textfont\":{\"color\":\"#ffffff\",\"family\":\"Courier New, monospace\",\"size\":30},\"x\":[20,30,40,50,60,70,80,90,100],\"y\":[48.5,48.5,48.5,48.5,48.5,48.5,48.5,48.5,48.5],\"type\":\"scatter\"},{\"hoverinfo\":\"none\",\"line\":{\"color\":\"blue\",\"dash\":\"dash\"},\"showlegend\":false,\"x\":[41.0,41.0],\"y\":[0,53.5],\"type\":\"scatter\"},{\"hoverinfo\":\"none\",\"line\":{\"color\":\"yellow\",\"dash\":\"dash\"},\"showlegend\":false,\"x\":[55.0,55.0],\"y\":[0,53.5],\"type\":\"scatter\"},{\"hoverinfo\":\"text\",\"hovertext\":[\"nflId:33131<br>displayName:Calais Campbell<br>Position:DRT<br>Role:Pass Rush\",\"nflId:37240<br>displayName:Pernell McPhee<br>Position:ROLB<br>Role:Pass Rush\",\"nflId:40042<br>displayName:Brandon Williams<br>Position:NLT<br>Role:Pass Rush\",\"nflId:44828<br>displayName:Marlon Humphrey<br>Position:SCBiR<br>Role:Coverage\",\"nflId:44999<br>displayName:Chuck Clark<br>Position:LOLB<br>Role:Coverage\",\"nflId:46187<br>displayName:Anthony Averett<br>Position:SCBoR<br>Role:Coverage\",\"nflId:46259<br>displayName:DeShon Elliott<br>Position:LOLB<br>Role:Pass Rush\",\"nflId:48565<br>displayName:Chris Westry<br>Position:SCBiR<br>Role:Coverage\",\"nflId:52436<br>displayName:Patrick Queen<br>Position:MLB<br>Role:Coverage\",\"nflId:52506<br>displayName:Malik Harrison<br>Position:RCB<br>Role:Pass Rush\",\"nflId:53460<br>displayName:Odafe Oweh<br>Position:LOLB<br>Role:Pass Rush\"],\"marker\":{\"color\":\"#241773\"},\"mode\":\"markers\",\"name\":\"BAL\",\"x\":[40.86000061035156,40.9900016784668,41.279998779296875,39.209999084472656,40.0099983215332,34.349998474121094,40.959999084472656,37.9900016784668,38.2599983215332,40.619998931884766,40.470001220703125],\"y\":[22.049999237060547,19.530000686645508,24.43000030517578,17.020000457763672,28.93000030517578,15.300000190734863,30.510000228881836,17.850000381469727,24.280000686645508,14.619999885559082,26.899999618530273],\"type\":\"scatter\"},{\"marker\":{\"color\":\"#241773\"},\"mode\":\"lines\",\"name\":\"BAL\",\"x\":[40.86000061035156,40.9900016784668,41.279998779296875,39.209999084472656,40.0099983215332,34.349998474121094,40.959999084472656,37.9900016784668,38.2599983215332,40.619998931884766,40.470001220703125],\"y\":[22.049999237060547,19.530000686645508,24.43000030517578,17.020000457763672,28.93000030517578,15.300000190734863,30.510000228881836,17.850000381469727,24.280000686645508,14.619999885559082,26.899999618530273],\"type\":\"scatter\"},{\"hoverinfo\":\"text\",\"hovertext\":[\"nflId:41265<br>displayName:Derek Carr<br>Position:QB<br>Role:Pass\",\"nflId:42547<br>displayName:Darren Waller<br>Position:LWR<br>Role:Pass Route\",\"nflId:43362<br>displayName:Kenyan Drake<br>Position:HB-L<br>Role:Pass Block\",\"nflId:44849<br>displayName:Zay Jones<br>Position:SLoWR<br>Role:Pass Route\",\"nflId:44972<br>displayName:Jermaine Eluemunor<br>Position:RG<br>Role:Pass Block\",\"nflId:46084<br>displayName:Kolton Miller<br>Position:LT<br>Role:Pass Block\",\"nflId:47920<br>displayName:Foster Moreau<br>Position:TE-R<br>Role:Pass Block\",\"nflId:47932<br>displayName:Hunter Renfrow<br>Position:SLiWR<br>Role:Pass Route\",\"nflId:48235<br>displayName:Andre James<br>Position:C<br>Role:Pass Block\",\"nflId:52517<br>displayName:John Simpson<br>Position:LG<br>Role:Pass Block\",\"nflId:53446<br>displayName:Alex Leatherwood<br>Position:RT<br>Role:Pass Block\"],\"marker\":{\"color\":\"#000000\"},\"mode\":\"markers\",\"name\":\"LV\",\"x\":[46.08000183105469,42.41999816894531,45.33000183105469,40.290000915527344,42.099998474121094,42.61000061035156,41.45000076293945,41.630001068115234,41.959999084472656,42.529998779296875,41.630001068115234],\"y\":[23.700000762939453,14.15999984741211,22.520000457763672,17.760000228881836,24.829999923706055,20.559999465942383,28.1299991607666,17.329999923706055,23.59000015258789,22.170000076293945,26.850000381469727],\"type\":\"scatter\"},{\"marker\":{\"color\":\"#000000\"},\"mode\":\"lines\",\"name\":\"LV\",\"x\":[46.08000183105469,42.41999816894531,45.33000183105469,40.290000915527344,42.099998474121094,42.61000061035156,41.45000076293945,41.630001068115234,41.959999084472656,42.529998779296875,41.630001068115234],\"y\":[23.700000762939453,14.15999984741211,22.520000457763672,17.760000228881836,24.829999923706055,20.559999465942383,28.1299991607666,17.329999923706055,23.59000015258789,22.170000076293945,26.850000381469727],\"type\":\"scatter\"},{\"hoverinfo\":\"none\",\"marker\":{\"color\":\"#CBB67C\"},\"mode\":\"markers\",\"name\":\"football\",\"x\":[46.08000183105469],\"y\":[24.040000915527344],\"type\":\"scatter\"}],\"name\":\"9\"},{\"data\":[{\"hoverinfo\":\"none\",\"mode\":\"text\",\"showlegend\":false,\"text\":[\"10\",\"20\",\"30\",\"40\",\"50\",\"40\",\"30\",\"20\",\"10\"],\"textfont\":{\"color\":\"#ffffff\",\"family\":\"Courier New, monospace\",\"size\":30},\"x\":[20,30,40,50,60,70,80,90,100],\"y\":[5,5,5,5,5,5,5,5,5],\"type\":\"scatter\"},{\"hoverinfo\":\"none\",\"mode\":\"text\",\"showlegend\":false,\"text\":[\"10\",\"20\",\"30\",\"40\",\"50\",\"40\",\"30\",\"20\",\"10\"],\"textfont\":{\"color\":\"#ffffff\",\"family\":\"Courier New, monospace\",\"size\":30},\"x\":[20,30,40,50,60,70,80,90,100],\"y\":[48.5,48.5,48.5,48.5,48.5,48.5,48.5,48.5,48.5],\"type\":\"scatter\"},{\"hoverinfo\":\"none\",\"line\":{\"color\":\"blue\",\"dash\":\"dash\"},\"showlegend\":false,\"x\":[41.0,41.0],\"y\":[0,53.5],\"type\":\"scatter\"},{\"hoverinfo\":\"none\",\"line\":{\"color\":\"yellow\",\"dash\":\"dash\"},\"showlegend\":false,\"x\":[55.0,55.0],\"y\":[0,53.5],\"type\":\"scatter\"},{\"hoverinfo\":\"text\",\"hovertext\":[\"nflId:33131<br>displayName:Calais Campbell<br>Position:DRT<br>Role:Pass Rush\",\"nflId:37240<br>displayName:Pernell McPhee<br>Position:ROLB<br>Role:Pass Rush\",\"nflId:40042<br>displayName:Brandon Williams<br>Position:NLT<br>Role:Pass Rush\",\"nflId:44828<br>displayName:Marlon Humphrey<br>Position:SCBiR<br>Role:Coverage\",\"nflId:44999<br>displayName:Chuck Clark<br>Position:LOLB<br>Role:Coverage\",\"nflId:46187<br>displayName:Anthony Averett<br>Position:SCBoR<br>Role:Coverage\",\"nflId:46259<br>displayName:DeShon Elliott<br>Position:LOLB<br>Role:Pass Rush\",\"nflId:48565<br>displayName:Chris Westry<br>Position:SCBiR<br>Role:Coverage\",\"nflId:52436<br>displayName:Patrick Queen<br>Position:MLB<br>Role:Coverage\",\"nflId:52506<br>displayName:Malik Harrison<br>Position:RCB<br>Role:Pass Rush\",\"nflId:53460<br>displayName:Odafe Oweh<br>Position:LOLB<br>Role:Pass Rush\"],\"marker\":{\"color\":\"#241773\"},\"mode\":\"markers\",\"name\":\"BAL\",\"x\":[41.119998931884766,41.22999954223633,41.529998779296875,39.040000915527344,40.13999938964844,34.2599983215332,41.310001373291016,37.95000076293945,38.470001220703125,40.90999984741211,40.709999084472656],\"y\":[22.15999984741211,19.780000686645508,24.440000534057617,17.25,28.850000381469727,15.279999732971191,30.31999969482422,17.81999969482422,24.350000381469727,14.829999923706055,26.649999618530273],\"type\":\"scatter\"},{\"marker\":{\"color\":\"#241773\"},\"mode\":\"lines\",\"name\":\"BAL\",\"x\":[41.119998931884766,41.22999954223633,41.529998779296875,39.040000915527344,40.13999938964844,34.2599983215332,41.310001373291016,37.95000076293945,38.470001220703125,40.90999984741211,40.709999084472656],\"y\":[22.15999984741211,19.780000686645508,24.440000534057617,17.25,28.850000381469727,15.279999732971191,30.31999969482422,17.81999969482422,24.350000381469727,14.829999923706055,26.649999618530273],\"type\":\"scatter\"},{\"hoverinfo\":\"text\",\"hovertext\":[\"nflId:41265<br>displayName:Derek Carr<br>Position:QB<br>Role:Pass\",\"nflId:42547<br>displayName:Darren Waller<br>Position:LWR<br>Role:Pass Route\",\"nflId:43362<br>displayName:Kenyan Drake<br>Position:HB-L<br>Role:Pass Block\",\"nflId:44849<br>displayName:Zay Jones<br>Position:SLoWR<br>Role:Pass Route\",\"nflId:44972<br>displayName:Jermaine Eluemunor<br>Position:RG<br>Role:Pass Block\",\"nflId:46084<br>displayName:Kolton Miller<br>Position:LT<br>Role:Pass Block\",\"nflId:47920<br>displayName:Foster Moreau<br>Position:TE-R<br>Role:Pass Block\",\"nflId:47932<br>displayName:Hunter Renfrow<br>Position:SLiWR<br>Role:Pass Route\",\"nflId:48235<br>displayName:Andre James<br>Position:C<br>Role:Pass Block\",\"nflId:52517<br>displayName:John Simpson<br>Position:LG<br>Role:Pass Block\",\"nflId:53446<br>displayName:Alex Leatherwood<br>Position:RT<br>Role:Pass Block\"],\"marker\":{\"color\":\"#000000\"},\"mode\":\"markers\",\"name\":\"LV\",\"x\":[46.400001525878906,42.20000076293945,45.31999969482422,39.959999084472656,42.220001220703125,42.72999954223633,41.470001220703125,41.33000183105469,42.130001068115234,42.689998626708984,41.68000030517578],\"y\":[23.700000762939453,14.020000457763672,22.780000686645508,18.079999923706055,24.75,20.59000015258789,28.079999923706055,17.229999542236328,23.549999237060547,22.149999618530273,26.75],\"type\":\"scatter\"},{\"marker\":{\"color\":\"#000000\"},\"mode\":\"lines\",\"name\":\"LV\",\"x\":[46.400001525878906,42.20000076293945,45.31999969482422,39.959999084472656,42.220001220703125,42.72999954223633,41.470001220703125,41.33000183105469,42.130001068115234,42.689998626708984,41.68000030517578],\"y\":[23.700000762939453,14.020000457763672,22.780000686645508,18.079999923706055,24.75,20.59000015258789,28.079999923706055,17.229999542236328,23.549999237060547,22.149999618530273,26.75],\"type\":\"scatter\"},{\"hoverinfo\":\"none\",\"marker\":{\"color\":\"#CBB67C\"},\"mode\":\"markers\",\"name\":\"football\",\"x\":[46.560001373291016],\"y\":[24.09000015258789],\"type\":\"scatter\"}],\"name\":\"10\"},{\"data\":[{\"hoverinfo\":\"none\",\"mode\":\"text\",\"showlegend\":false,\"text\":[\"10\",\"20\",\"30\",\"40\",\"50\",\"40\",\"30\",\"20\",\"10\"],\"textfont\":{\"color\":\"#ffffff\",\"family\":\"Courier New, monospace\",\"size\":30},\"x\":[20,30,40,50,60,70,80,90,100],\"y\":[5,5,5,5,5,5,5,5,5],\"type\":\"scatter\"},{\"hoverinfo\":\"none\",\"mode\":\"text\",\"showlegend\":false,\"text\":[\"10\",\"20\",\"30\",\"40\",\"50\",\"40\",\"30\",\"20\",\"10\"],\"textfont\":{\"color\":\"#ffffff\",\"family\":\"Courier New, monospace\",\"size\":30},\"x\":[20,30,40,50,60,70,80,90,100],\"y\":[48.5,48.5,48.5,48.5,48.5,48.5,48.5,48.5,48.5],\"type\":\"scatter\"},{\"hoverinfo\":\"none\",\"line\":{\"color\":\"blue\",\"dash\":\"dash\"},\"showlegend\":false,\"x\":[41.0,41.0],\"y\":[0,53.5],\"type\":\"scatter\"},{\"hoverinfo\":\"none\",\"line\":{\"color\":\"yellow\",\"dash\":\"dash\"},\"showlegend\":false,\"x\":[55.0,55.0],\"y\":[0,53.5],\"type\":\"scatter\"},{\"hoverinfo\":\"text\",\"hovertext\":[\"nflId:33131<br>displayName:Calais Campbell<br>Position:DRT<br>Role:Pass Rush\",\"nflId:37240<br>displayName:Pernell McPhee<br>Position:ROLB<br>Role:Pass Rush\",\"nflId:40042<br>displayName:Brandon Williams<br>Position:NLT<br>Role:Pass Rush\",\"nflId:44828<br>displayName:Marlon Humphrey<br>Position:SCBiR<br>Role:Coverage\",\"nflId:44999<br>displayName:Chuck Clark<br>Position:LOLB<br>Role:Coverage\",\"nflId:46187<br>displayName:Anthony Averett<br>Position:SCBoR<br>Role:Coverage\",\"nflId:46259<br>displayName:DeShon Elliott<br>Position:LOLB<br>Role:Pass Rush\",\"nflId:48565<br>displayName:Chris Westry<br>Position:SCBiR<br>Role:Coverage\",\"nflId:52436<br>displayName:Patrick Queen<br>Position:MLB<br>Role:Coverage\",\"nflId:52506<br>displayName:Malik Harrison<br>Position:RCB<br>Role:Pass Rush\",\"nflId:53460<br>displayName:Odafe Oweh<br>Position:LOLB<br>Role:Pass Rush\"],\"marker\":{\"color\":\"#241773\"},\"mode\":\"markers\",\"name\":\"BAL\",\"x\":[41.38999938964844,41.47999954223633,41.779998779296875,38.849998474121094,40.29999923706055,34.15999984741211,41.709999084472656,37.869998931884766,38.68000030517578,41.2400016784668,40.959999084472656],\"y\":[22.260000228881836,20.049999237060547,24.450000762939453,17.5,28.780000686645508,15.239999771118164,30.1200008392334,17.780000686645508,24.459999084472656,15.079999923706055,26.3799991607666],\"type\":\"scatter\"},{\"marker\":{\"color\":\"#241773\"},\"mode\":\"lines\",\"name\":\"BAL\",\"x\":[41.38999938964844,41.47999954223633,41.779998779296875,38.849998474121094,40.29999923706055,34.15999984741211,41.709999084472656,37.869998931884766,38.68000030517578,41.2400016784668,40.959999084472656],\"y\":[22.260000228881836,20.049999237060547,24.450000762939453,17.5,28.780000686645508,15.239999771118164,30.1200008392334,17.780000686645508,24.459999084472656,15.079999923706055,26.3799991607666],\"type\":\"scatter\"},{\"hoverinfo\":\"text\",\"hovertext\":[\"nflId:41265<br>displayName:Derek Carr<br>Position:QB<br>Role:Pass\",\"nflId:42547<br>displayName:Darren Waller<br>Position:LWR<br>Role:Pass Route\",\"nflId:43362<br>displayName:Kenyan Drake<br>Position:HB-L<br>Role:Pass Block\",\"nflId:44849<br>displayName:Zay Jones<br>Position:SLoWR<br>Role:Pass Route\",\"nflId:44972<br>displayName:Jermaine Eluemunor<br>Position:RG<br>Role:Pass Block\",\"nflId:46084<br>displayName:Kolton Miller<br>Position:LT<br>Role:Pass Block\",\"nflId:47920<br>displayName:Foster Moreau<br>Position:TE-R<br>Role:Pass Block\",\"nflId:47932<br>displayName:Hunter Renfrow<br>Position:SLiWR<br>Role:Pass Route\",\"nflId:48235<br>displayName:Andre James<br>Position:C<br>Role:Pass Block\",\"nflId:52517<br>displayName:John Simpson<br>Position:LG<br>Role:Pass Block\",\"nflId:53446<br>displayName:Alex Leatherwood<br>Position:RT<br>Role:Pass Block\"],\"marker\":{\"color\":\"#000000\"},\"mode\":\"markers\",\"name\":\"LV\",\"x\":[46.7599983215332,41.959999084472656,45.349998474121094,39.599998474121094,42.369998931884766,42.86000061035156,41.5,40.97999954223633,42.29999923706055,42.849998474121094,41.7400016784668],\"y\":[23.719999313354492,13.880000114440918,23.06999969482422,18.440000534057617,24.68000030517578,20.6299991607666,28.040000915527344,17.079999923706055,23.5,22.1299991607666,26.639999389648438],\"type\":\"scatter\"},{\"marker\":{\"color\":\"#000000\"},\"mode\":\"lines\",\"name\":\"LV\",\"x\":[46.7599983215332,41.959999084472656,45.349998474121094,39.599998474121094,42.369998931884766,42.86000061035156,41.5,40.97999954223633,42.29999923706055,42.849998474121094,41.7400016784668],\"y\":[23.719999313354492,13.880000114440918,23.06999969482422,18.440000534057617,24.68000030517578,20.6299991607666,28.040000915527344,17.079999923706055,23.5,22.1299991607666,26.639999389648438],\"type\":\"scatter\"},{\"hoverinfo\":\"none\",\"marker\":{\"color\":\"#CBB67C\"},\"mode\":\"markers\",\"name\":\"football\",\"x\":[47.02000045776367],\"y\":[24.1299991607666],\"type\":\"scatter\"}],\"name\":\"11\"},{\"data\":[{\"hoverinfo\":\"none\",\"mode\":\"text\",\"showlegend\":false,\"text\":[\"10\",\"20\",\"30\",\"40\",\"50\",\"40\",\"30\",\"20\",\"10\"],\"textfont\":{\"color\":\"#ffffff\",\"family\":\"Courier New, monospace\",\"size\":30},\"x\":[20,30,40,50,60,70,80,90,100],\"y\":[5,5,5,5,5,5,5,5,5],\"type\":\"scatter\"},{\"hoverinfo\":\"none\",\"mode\":\"text\",\"showlegend\":false,\"text\":[\"10\",\"20\",\"30\",\"40\",\"50\",\"40\",\"30\",\"20\",\"10\"],\"textfont\":{\"color\":\"#ffffff\",\"family\":\"Courier New, monospace\",\"size\":30},\"x\":[20,30,40,50,60,70,80,90,100],\"y\":[48.5,48.5,48.5,48.5,48.5,48.5,48.5,48.5,48.5],\"type\":\"scatter\"},{\"hoverinfo\":\"none\",\"line\":{\"color\":\"blue\",\"dash\":\"dash\"},\"showlegend\":false,\"x\":[41.0,41.0],\"y\":[0,53.5],\"type\":\"scatter\"},{\"hoverinfo\":\"none\",\"line\":{\"color\":\"yellow\",\"dash\":\"dash\"},\"showlegend\":false,\"x\":[55.0,55.0],\"y\":[0,53.5],\"type\":\"scatter\"},{\"hoverinfo\":\"text\",\"hovertext\":[\"nflId:33131<br>displayName:Calais Campbell<br>Position:DRT<br>Role:Pass Rush\",\"nflId:37240<br>displayName:Pernell McPhee<br>Position:ROLB<br>Role:Pass Rush\",\"nflId:40042<br>displayName:Brandon Williams<br>Position:NLT<br>Role:Pass Rush\",\"nflId:44828<br>displayName:Marlon Humphrey<br>Position:SCBiR<br>Role:Coverage\",\"nflId:44999<br>displayName:Chuck Clark<br>Position:LOLB<br>Role:Coverage\",\"nflId:46187<br>displayName:Anthony Averett<br>Position:SCBoR<br>Role:Coverage\",\"nflId:46259<br>displayName:DeShon Elliott<br>Position:LOLB<br>Role:Pass Rush\",\"nflId:48565<br>displayName:Chris Westry<br>Position:SCBiR<br>Role:Coverage\",\"nflId:52436<br>displayName:Patrick Queen<br>Position:MLB<br>Role:Coverage\",\"nflId:52506<br>displayName:Malik Harrison<br>Position:RCB<br>Role:Pass Rush\",\"nflId:53460<br>displayName:Odafe Oweh<br>Position:LOLB<br>Role:Pass Rush\"],\"marker\":{\"color\":\"#241773\"},\"mode\":\"markers\",\"name\":\"BAL\",\"x\":[41.720001220703125,41.72999954223633,42.040000915527344,38.630001068115234,40.470001220703125,34.04999923706055,42.15999984741211,37.77000045776367,38.900001525878906,41.61000061035156,41.209999084472656],\"y\":[22.34000015258789,20.34000015258789,24.459999084472656,17.770000457763672,28.709999084472656,15.180000305175781,29.899999618530273,17.729999542236328,24.600000381469727,15.350000381469727,26.079999923706055],\"type\":\"scatter\"},{\"marker\":{\"color\":\"#241773\"},\"mode\":\"lines\",\"name\":\"BAL\",\"x\":[41.720001220703125,41.72999954223633,42.040000915527344,38.630001068115234,40.470001220703125,34.04999923706055,42.15999984741211,37.77000045776367,38.900001525878906,41.61000061035156,41.209999084472656],\"y\":[22.34000015258789,20.34000015258789,24.459999084472656,17.770000457763672,28.709999084472656,15.180000305175781,29.899999618530273,17.729999542236328,24.600000381469727,15.350000381469727,26.079999923706055],\"type\":\"scatter\"},{\"hoverinfo\":\"text\",\"hovertext\":[\"nflId:41265<br>displayName:Derek Carr<br>Position:QB<br>Role:Pass\",\"nflId:42547<br>displayName:Darren Waller<br>Position:LWR<br>Role:Pass Route\",\"nflId:43362<br>displayName:Kenyan Drake<br>Position:HB-L<br>Role:Pass Block\",\"nflId:44849<br>displayName:Zay Jones<br>Position:SLoWR<br>Role:Pass Route\",\"nflId:44972<br>displayName:Jermaine Eluemunor<br>Position:RG<br>Role:Pass Block\",\"nflId:46084<br>displayName:Kolton Miller<br>Position:LT<br>Role:Pass Block\",\"nflId:47920<br>displayName:Foster Moreau<br>Position:TE-R<br>Role:Pass Block\",\"nflId:47932<br>displayName:Hunter Renfrow<br>Position:SLiWR<br>Role:Pass Route\",\"nflId:48235<br>displayName:Andre James<br>Position:C<br>Role:Pass Block\",\"nflId:52517<br>displayName:John Simpson<br>Position:LG<br>Role:Pass Block\",\"nflId:53446<br>displayName:Alex Leatherwood<br>Position:RT<br>Role:Pass Block\"],\"marker\":{\"color\":\"#000000\"},\"mode\":\"markers\",\"name\":\"LV\",\"x\":[47.150001525878906,41.689998626708984,45.380001068115234,39.20000076293945,42.540000915527344,43.0,41.540000915527344,40.599998474121094,42.47999954223633,43.0,41.849998474121094],\"y\":[23.739999771118164,13.710000038146973,23.3799991607666,18.829999923706055,24.610000610351562,20.670000076293945,28.030000686645508,16.90999984741211,23.450000762939453,22.110000610351562,26.5],\"type\":\"scatter\"},{\"marker\":{\"color\":\"#000000\"},\"mode\":\"lines\",\"name\":\"LV\",\"x\":[47.150001525878906,41.689998626708984,45.380001068115234,39.20000076293945,42.540000915527344,43.0,41.540000915527344,40.599998474121094,42.47999954223633,43.0,41.849998474121094],\"y\":[23.739999771118164,13.710000038146973,23.3799991607666,18.829999923706055,24.610000610351562,20.670000076293945,28.030000686645508,16.90999984741211,23.450000762939453,22.110000610351562,26.5],\"type\":\"scatter\"},{\"hoverinfo\":\"none\",\"marker\":{\"color\":\"#CBB67C\"},\"mode\":\"markers\",\"name\":\"football\",\"x\":[47.459999084472656],\"y\":[24.170000076293945],\"type\":\"scatter\"}],\"name\":\"12\"},{\"data\":[{\"hoverinfo\":\"none\",\"mode\":\"text\",\"showlegend\":false,\"text\":[\"10\",\"20\",\"30\",\"40\",\"50\",\"40\",\"30\",\"20\",\"10\"],\"textfont\":{\"color\":\"#ffffff\",\"family\":\"Courier New, monospace\",\"size\":30},\"x\":[20,30,40,50,60,70,80,90,100],\"y\":[5,5,5,5,5,5,5,5,5],\"type\":\"scatter\"},{\"hoverinfo\":\"none\",\"mode\":\"text\",\"showlegend\":false,\"text\":[\"10\",\"20\",\"30\",\"40\",\"50\",\"40\",\"30\",\"20\",\"10\"],\"textfont\":{\"color\":\"#ffffff\",\"family\":\"Courier New, monospace\",\"size\":30},\"x\":[20,30,40,50,60,70,80,90,100],\"y\":[48.5,48.5,48.5,48.5,48.5,48.5,48.5,48.5,48.5],\"type\":\"scatter\"},{\"hoverinfo\":\"none\",\"line\":{\"color\":\"blue\",\"dash\":\"dash\"},\"showlegend\":false,\"x\":[41.0,41.0],\"y\":[0,53.5],\"type\":\"scatter\"},{\"hoverinfo\":\"none\",\"line\":{\"color\":\"yellow\",\"dash\":\"dash\"},\"showlegend\":false,\"x\":[55.0,55.0],\"y\":[0,53.5],\"type\":\"scatter\"},{\"hoverinfo\":\"text\",\"hovertext\":[\"nflId:33131<br>displayName:Calais Campbell<br>Position:DRT<br>Role:Pass Rush\",\"nflId:37240<br>displayName:Pernell McPhee<br>Position:ROLB<br>Role:Pass Rush\",\"nflId:40042<br>displayName:Brandon Williams<br>Position:NLT<br>Role:Pass Rush\",\"nflId:44828<br>displayName:Marlon Humphrey<br>Position:SCBiR<br>Role:Coverage\",\"nflId:44999<br>displayName:Chuck Clark<br>Position:LOLB<br>Role:Coverage\",\"nflId:46187<br>displayName:Anthony Averett<br>Position:SCBoR<br>Role:Coverage\",\"nflId:46259<br>displayName:DeShon Elliott<br>Position:LOLB<br>Role:Pass Rush\",\"nflId:48565<br>displayName:Chris Westry<br>Position:SCBiR<br>Role:Coverage\",\"nflId:52436<br>displayName:Patrick Queen<br>Position:MLB<br>Role:Coverage\",\"nflId:52506<br>displayName:Malik Harrison<br>Position:RCB<br>Role:Pass Rush\",\"nflId:53460<br>displayName:Odafe Oweh<br>Position:LOLB<br>Role:Pass Rush\"],\"marker\":{\"color\":\"#241773\"},\"mode\":\"markers\",\"name\":\"BAL\",\"x\":[42.060001373291016,41.970001220703125,42.279998779296875,38.38999938964844,40.63999938964844,33.91999816894531,42.65999984741211,37.63999938964844,39.130001068115234,42.0099983215332,41.45000076293945],\"y\":[22.399999618530273,20.639999389648438,24.479999542236328,18.06999969482422,28.639999389648438,15.09000015258789,29.670000076293945,17.670000076293945,24.780000686645508,15.640000343322754,25.770000457763672],\"type\":\"scatter\"},{\"marker\":{\"color\":\"#241773\"},\"mode\":\"lines\",\"name\":\"BAL\",\"x\":[42.060001373291016,41.970001220703125,42.279998779296875,38.38999938964844,40.63999938964844,33.91999816894531,42.65999984741211,37.63999938964844,39.130001068115234,42.0099983215332,41.45000076293945],\"y\":[22.399999618530273,20.639999389648438,24.479999542236328,18.06999969482422,28.639999389648438,15.09000015258789,29.670000076293945,17.670000076293945,24.780000686645508,15.640000343322754,25.770000457763672],\"type\":\"scatter\"},{\"hoverinfo\":\"text\",\"hovertext\":[\"nflId:41265<br>displayName:Derek Carr<br>Position:QB<br>Role:Pass\",\"nflId:42547<br>displayName:Darren Waller<br>Position:LWR<br>Role:Pass Route\",\"nflId:43362<br>displayName:Kenyan Drake<br>Position:HB-L<br>Role:Pass Block\",\"nflId:44849<br>displayName:Zay Jones<br>Position:SLoWR<br>Role:Pass Route\",\"nflId:44972<br>displayName:Jermaine Eluemunor<br>Position:RG<br>Role:Pass Block\",\"nflId:46084<br>displayName:Kolton Miller<br>Position:LT<br>Role:Pass Block\",\"nflId:47920<br>displayName:Foster Moreau<br>Position:TE-R<br>Role:Pass Block\",\"nflId:47932<br>displayName:Hunter Renfrow<br>Position:SLiWR<br>Role:Pass Route\",\"nflId:48235<br>displayName:Andre James<br>Position:C<br>Role:Pass Block\",\"nflId:52517<br>displayName:John Simpson<br>Position:LG<br>Role:Pass Block\",\"nflId:53446<br>displayName:Alex Leatherwood<br>Position:RT<br>Role:Pass Block\"],\"marker\":{\"color\":\"#000000\"},\"mode\":\"markers\",\"name\":\"LV\",\"x\":[47.560001373291016,41.38999938964844,45.439998626708984,38.7599983215332,42.7400016784668,43.13999938964844,41.59000015258789,40.18000030517578,42.66999816894531,43.150001525878906,41.959999084472656],\"y\":[23.790000915527344,13.539999961853027,23.719999313354492,19.239999771118164,24.540000915527344,20.719999313354492,28.040000915527344,16.719999313354492,23.389999389648438,22.09000015258789,26.350000381469727],\"type\":\"scatter\"},{\"marker\":{\"color\":\"#000000\"},\"mode\":\"lines\",\"name\":\"LV\",\"x\":[47.560001373291016,41.38999938964844,45.439998626708984,38.7599983215332,42.7400016784668,43.13999938964844,41.59000015258789,40.18000030517578,42.66999816894531,43.150001525878906,41.959999084472656],\"y\":[23.790000915527344,13.539999961853027,23.719999313354492,19.239999771118164,24.540000915527344,20.719999313354492,28.040000915527344,16.719999313354492,23.389999389648438,22.09000015258789,26.350000381469727],\"type\":\"scatter\"},{\"hoverinfo\":\"none\",\"marker\":{\"color\":\"#CBB67C\"},\"mode\":\"markers\",\"name\":\"football\",\"x\":[47.869998931884766],\"y\":[24.209999084472656],\"type\":\"scatter\"}],\"name\":\"13\"},{\"data\":[{\"hoverinfo\":\"none\",\"mode\":\"text\",\"showlegend\":false,\"text\":[\"10\",\"20\",\"30\",\"40\",\"50\",\"40\",\"30\",\"20\",\"10\"],\"textfont\":{\"color\":\"#ffffff\",\"family\":\"Courier New, monospace\",\"size\":30},\"x\":[20,30,40,50,60,70,80,90,100],\"y\":[5,5,5,5,5,5,5,5,5],\"type\":\"scatter\"},{\"hoverinfo\":\"none\",\"mode\":\"text\",\"showlegend\":false,\"text\":[\"10\",\"20\",\"30\",\"40\",\"50\",\"40\",\"30\",\"20\",\"10\"],\"textfont\":{\"color\":\"#ffffff\",\"family\":\"Courier New, monospace\",\"size\":30},\"x\":[20,30,40,50,60,70,80,90,100],\"y\":[48.5,48.5,48.5,48.5,48.5,48.5,48.5,48.5,48.5],\"type\":\"scatter\"},{\"hoverinfo\":\"none\",\"line\":{\"color\":\"blue\",\"dash\":\"dash\"},\"showlegend\":false,\"x\":[41.0,41.0],\"y\":[0,53.5],\"type\":\"scatter\"},{\"hoverinfo\":\"none\",\"line\":{\"color\":\"yellow\",\"dash\":\"dash\"},\"showlegend\":false,\"x\":[55.0,55.0],\"y\":[0,53.5],\"type\":\"scatter\"},{\"hoverinfo\":\"text\",\"hovertext\":[\"nflId:33131<br>displayName:Calais Campbell<br>Position:DRT<br>Role:Pass Rush\",\"nflId:37240<br>displayName:Pernell McPhee<br>Position:ROLB<br>Role:Pass Rush\",\"nflId:40042<br>displayName:Brandon Williams<br>Position:NLT<br>Role:Pass Rush\",\"nflId:44828<br>displayName:Marlon Humphrey<br>Position:SCBiR<br>Role:Coverage\",\"nflId:44999<br>displayName:Chuck Clark<br>Position:LOLB<br>Role:Coverage\",\"nflId:46187<br>displayName:Anthony Averett<br>Position:SCBoR<br>Role:Coverage\",\"nflId:46259<br>displayName:DeShon Elliott<br>Position:LOLB<br>Role:Pass Rush\",\"nflId:48565<br>displayName:Chris Westry<br>Position:SCBiR<br>Role:Coverage\",\"nflId:52436<br>displayName:Patrick Queen<br>Position:MLB<br>Role:Coverage\",\"nflId:52506<br>displayName:Malik Harrison<br>Position:RCB<br>Role:Pass Rush\",\"nflId:53460<br>displayName:Odafe Oweh<br>Position:LOLB<br>Role:Pass Rush\"],\"marker\":{\"color\":\"#241773\"},\"mode\":\"markers\",\"name\":\"BAL\",\"x\":[42.400001525878906,42.189998626708984,42.529998779296875,38.13999938964844,40.810001373291016,33.790000915527344,43.209999084472656,37.47999954223633,39.369998931884766,42.45000076293945,41.689998626708984],\"y\":[22.469999313354492,20.959999084472656,24.510000228881836,18.389999389648438,28.600000381469727,14.979999542236328,29.43000030517578,17.59000015258789,24.989999771118164,15.979999542236328,25.459999084472656],\"type\":\"scatter\"},{\"marker\":{\"color\":\"#241773\"},\"mode\":\"lines\",\"name\":\"BAL\",\"x\":[42.400001525878906,42.189998626708984,42.529998779296875,38.13999938964844,40.810001373291016,33.790000915527344,43.209999084472656,37.47999954223633,39.369998931884766,42.45000076293945,41.689998626708984],\"y\":[22.469999313354492,20.959999084472656,24.510000228881836,18.389999389648438,28.600000381469727,14.979999542236328,29.43000030517578,17.59000015258789,24.989999771118164,15.979999542236328,25.459999084472656],\"type\":\"scatter\"},{\"hoverinfo\":\"text\",\"hovertext\":[\"nflId:41265<br>displayName:Derek Carr<br>Position:QB<br>Role:Pass\",\"nflId:42547<br>displayName:Darren Waller<br>Position:LWR<br>Role:Pass Route\",\"nflId:43362<br>displayName:Kenyan Drake<br>Position:HB-L<br>Role:Pass Block\",\"nflId:44849<br>displayName:Zay Jones<br>Position:SLoWR<br>Role:Pass Route\",\"nflId:44972<br>displayName:Jermaine Eluemunor<br>Position:RG<br>Role:Pass Block\",\"nflId:46084<br>displayName:Kolton Miller<br>Position:LT<br>Role:Pass Block\",\"nflId:47920<br>displayName:Foster Moreau<br>Position:TE-R<br>Role:Pass Block\",\"nflId:47932<br>displayName:Hunter Renfrow<br>Position:SLiWR<br>Role:Pass Route\",\"nflId:48235<br>displayName:Andre James<br>Position:C<br>Role:Pass Block\",\"nflId:52517<br>displayName:John Simpson<br>Position:LG<br>Role:Pass Block\",\"nflId:53446<br>displayName:Alex Leatherwood<br>Position:RT<br>Role:Pass Block\"],\"marker\":{\"color\":\"#000000\"},\"mode\":\"markers\",\"name\":\"LV\",\"x\":[48.0099983215332,41.06999969482422,45.540000915527344,38.279998779296875,42.939998626708984,43.310001373291016,41.650001525878906,39.72999954223633,42.869998931884766,43.31999969482422,42.099998474121094],\"y\":[23.84000015258789,13.359999656677246,24.079999923706055,19.670000076293945,24.489999771118164,20.780000686645508,28.06999969482422,16.510000228881836,23.350000381469727,22.079999923706055,26.190000534057617],\"type\":\"scatter\"},{\"marker\":{\"color\":\"#000000\"},\"mode\":\"lines\",\"name\":\"LV\",\"x\":[48.0099983215332,41.06999969482422,45.540000915527344,38.279998779296875,42.939998626708984,43.310001373291016,41.650001525878906,39.72999954223633,42.869998931884766,43.31999969482422,42.099998474121094],\"y\":[23.84000015258789,13.359999656677246,24.079999923706055,19.670000076293945,24.489999771118164,20.780000686645508,28.06999969482422,16.510000228881836,23.350000381469727,22.079999923706055,26.190000534057617],\"type\":\"scatter\"},{\"hoverinfo\":\"none\",\"marker\":{\"color\":\"#CBB67C\"},\"mode\":\"markers\",\"name\":\"football\",\"x\":[48.22999954223633],\"y\":[24.260000228881836],\"type\":\"scatter\"}],\"name\":\"14\"},{\"data\":[{\"hoverinfo\":\"none\",\"mode\":\"text\",\"showlegend\":false,\"text\":[\"10\",\"20\",\"30\",\"40\",\"50\",\"40\",\"30\",\"20\",\"10\"],\"textfont\":{\"color\":\"#ffffff\",\"family\":\"Courier New, monospace\",\"size\":30},\"x\":[20,30,40,50,60,70,80,90,100],\"y\":[5,5,5,5,5,5,5,5,5],\"type\":\"scatter\"},{\"hoverinfo\":\"none\",\"mode\":\"text\",\"showlegend\":false,\"text\":[\"10\",\"20\",\"30\",\"40\",\"50\",\"40\",\"30\",\"20\",\"10\"],\"textfont\":{\"color\":\"#ffffff\",\"family\":\"Courier New, monospace\",\"size\":30},\"x\":[20,30,40,50,60,70,80,90,100],\"y\":[48.5,48.5,48.5,48.5,48.5,48.5,48.5,48.5,48.5],\"type\":\"scatter\"},{\"hoverinfo\":\"none\",\"line\":{\"color\":\"blue\",\"dash\":\"dash\"},\"showlegend\":false,\"x\":[41.0,41.0],\"y\":[0,53.5],\"type\":\"scatter\"},{\"hoverinfo\":\"none\",\"line\":{\"color\":\"yellow\",\"dash\":\"dash\"},\"showlegend\":false,\"x\":[55.0,55.0],\"y\":[0,53.5],\"type\":\"scatter\"},{\"hoverinfo\":\"text\",\"hovertext\":[\"nflId:33131<br>displayName:Calais Campbell<br>Position:DRT<br>Role:Pass Rush\",\"nflId:37240<br>displayName:Pernell McPhee<br>Position:ROLB<br>Role:Pass Rush\",\"nflId:40042<br>displayName:Brandon Williams<br>Position:NLT<br>Role:Pass Rush\",\"nflId:44828<br>displayName:Marlon Humphrey<br>Position:SCBiR<br>Role:Coverage\",\"nflId:44999<br>displayName:Chuck Clark<br>Position:LOLB<br>Role:Coverage\",\"nflId:46187<br>displayName:Anthony Averett<br>Position:SCBoR<br>Role:Coverage\",\"nflId:46259<br>displayName:DeShon Elliott<br>Position:LOLB<br>Role:Pass Rush\",\"nflId:48565<br>displayName:Chris Westry<br>Position:SCBiR<br>Role:Coverage\",\"nflId:52436<br>displayName:Patrick Queen<br>Position:MLB<br>Role:Coverage\",\"nflId:52506<br>displayName:Malik Harrison<br>Position:RCB<br>Role:Pass Rush\",\"nflId:53460<br>displayName:Odafe Oweh<br>Position:LOLB<br>Role:Pass Rush\"],\"marker\":{\"color\":\"#241773\"},\"mode\":\"markers\",\"name\":\"BAL\",\"x\":[42.7400016784668,42.41999816894531,42.790000915527344,37.869998931884766,40.97999954223633,33.650001525878906,43.790000915527344,37.290000915527344,39.619998931884766,42.91999816894531,41.90999984741211],\"y\":[22.520000457763672,21.270000457763672,24.540000915527344,18.729999542236328,28.579999923706055,14.850000381469727,29.18000030517578,17.479999542236328,25.229999542236328,16.329999923706055,25.139999389648438],\"type\":\"scatter\"},{\"marker\":{\"color\":\"#241773\"},\"mode\":\"lines\",\"name\":\"BAL\",\"x\":[42.7400016784668,42.41999816894531,42.790000915527344,37.869998931884766,40.97999954223633,33.650001525878906,43.790000915527344,37.290000915527344,39.619998931884766,42.91999816894531,41.90999984741211],\"y\":[22.520000457763672,21.270000457763672,24.540000915527344,18.729999542236328,28.579999923706055,14.850000381469727,29.18000030517578,17.479999542236328,25.229999542236328,16.329999923706055,25.139999389648438],\"type\":\"scatter\"},{\"hoverinfo\":\"text\",\"hovertext\":[\"nflId:41265<br>displayName:Derek Carr<br>Position:QB<br>Role:Pass\",\"nflId:42547<br>displayName:Darren Waller<br>Position:LWR<br>Role:Pass Route\",\"nflId:43362<br>displayName:Kenyan Drake<br>Position:HB-L<br>Role:Pass Block\",\"nflId:44849<br>displayName:Zay Jones<br>Position:SLoWR<br>Role:Pass Route\",\"nflId:44972<br>displayName:Jermaine Eluemunor<br>Position:RG<br>Role:Pass Block\",\"nflId:46084<br>displayName:Kolton Miller<br>Position:LT<br>Role:Pass Block\",\"nflId:47920<br>displayName:Foster Moreau<br>Position:TE-R<br>Role:Pass Block\",\"nflId:47932<br>displayName:Hunter Renfrow<br>Position:SLiWR<br>Role:Pass Route\",\"nflId:48235<br>displayName:Andre James<br>Position:C<br>Role:Pass Block\",\"nflId:52517<br>displayName:John Simpson<br>Position:LG<br>Role:Pass Block\",\"nflId:53446<br>displayName:Alex Leatherwood<br>Position:RT<br>Role:Pass Block\"],\"marker\":{\"color\":\"#000000\"},\"mode\":\"markers\",\"name\":\"LV\",\"x\":[48.459999084472656,40.72999954223633,45.689998626708984,37.77000045776367,43.13999938964844,43.5,41.720001220703125,39.2400016784668,43.06999969482422,43.470001220703125,42.2400016784668],\"y\":[23.899999618530273,13.1899995803833,24.440000534057617,20.100000381469727,24.450000762939453,20.81999969482422,28.110000610351562,16.299999237060547,23.309999465942383,22.06999969482422,26.020000457763672],\"type\":\"scatter\"},{\"marker\":{\"color\":\"#000000\"},\"mode\":\"lines\",\"name\":\"LV\",\"x\":[48.459999084472656,40.72999954223633,45.689998626708984,37.77000045776367,43.13999938964844,43.5,41.720001220703125,39.2400016784668,43.06999969482422,43.470001220703125,42.2400016784668],\"y\":[23.899999618530273,13.1899995803833,24.440000534057617,20.100000381469727,24.450000762939453,20.81999969482422,28.110000610351562,16.299999237060547,23.309999465942383,22.06999969482422,26.020000457763672],\"type\":\"scatter\"},{\"hoverinfo\":\"none\",\"marker\":{\"color\":\"#CBB67C\"},\"mode\":\"markers\",\"name\":\"football\",\"x\":[48.54999923706055],\"y\":[24.299999237060547],\"type\":\"scatter\"}],\"name\":\"15\"},{\"data\":[{\"hoverinfo\":\"none\",\"mode\":\"text\",\"showlegend\":false,\"text\":[\"10\",\"20\",\"30\",\"40\",\"50\",\"40\",\"30\",\"20\",\"10\"],\"textfont\":{\"color\":\"#ffffff\",\"family\":\"Courier New, monospace\",\"size\":30},\"x\":[20,30,40,50,60,70,80,90,100],\"y\":[5,5,5,5,5,5,5,5,5],\"type\":\"scatter\"},{\"hoverinfo\":\"none\",\"mode\":\"text\",\"showlegend\":false,\"text\":[\"10\",\"20\",\"30\",\"40\",\"50\",\"40\",\"30\",\"20\",\"10\"],\"textfont\":{\"color\":\"#ffffff\",\"family\":\"Courier New, monospace\",\"size\":30},\"x\":[20,30,40,50,60,70,80,90,100],\"y\":[48.5,48.5,48.5,48.5,48.5,48.5,48.5,48.5,48.5],\"type\":\"scatter\"},{\"hoverinfo\":\"none\",\"line\":{\"color\":\"blue\",\"dash\":\"dash\"},\"showlegend\":false,\"x\":[41.0,41.0],\"y\":[0,53.5],\"type\":\"scatter\"},{\"hoverinfo\":\"none\",\"line\":{\"color\":\"yellow\",\"dash\":\"dash\"},\"showlegend\":false,\"x\":[55.0,55.0],\"y\":[0,53.5],\"type\":\"scatter\"},{\"hoverinfo\":\"text\",\"hovertext\":[\"nflId:33131<br>displayName:Calais Campbell<br>Position:DRT<br>Role:Pass Rush\",\"nflId:37240<br>displayName:Pernell McPhee<br>Position:ROLB<br>Role:Pass Rush\",\"nflId:40042<br>displayName:Brandon Williams<br>Position:NLT<br>Role:Pass Rush\",\"nflId:44828<br>displayName:Marlon Humphrey<br>Position:SCBiR<br>Role:Coverage\",\"nflId:44999<br>displayName:Chuck Clark<br>Position:LOLB<br>Role:Coverage\",\"nflId:46187<br>displayName:Anthony Averett<br>Position:SCBoR<br>Role:Coverage\",\"nflId:46259<br>displayName:DeShon Elliott<br>Position:LOLB<br>Role:Pass Rush\",\"nflId:48565<br>displayName:Chris Westry<br>Position:SCBiR<br>Role:Coverage\",\"nflId:52436<br>displayName:Patrick Queen<br>Position:MLB<br>Role:Coverage\",\"nflId:52506<br>displayName:Malik Harrison<br>Position:RCB<br>Role:Pass Rush\",\"nflId:53460<br>displayName:Odafe Oweh<br>Position:LOLB<br>Role:Pass Rush\"],\"marker\":{\"color\":\"#241773\"},\"mode\":\"markers\",\"name\":\"BAL\",\"x\":[43.06999969482422,42.630001068115234,43.029998779296875,37.54999923706055,41.130001068115234,33.52000045776367,44.38999938964844,37.04999923706055,39.900001525878906,43.40999984741211,42.13999938964844],\"y\":[22.56999969482422,21.59000015258789,24.56999969482422,19.09000015258789,28.59000015258789,14.699999809265137,28.93000030517578,17.350000381469727,25.469999313354492,16.690000534057617,24.829999923706055],\"type\":\"scatter\"},{\"marker\":{\"color\":\"#241773\"},\"mode\":\"lines\",\"name\":\"BAL\",\"x\":[43.06999969482422,42.630001068115234,43.029998779296875,37.54999923706055,41.130001068115234,33.52000045776367,44.38999938964844,37.04999923706055,39.900001525878906,43.40999984741211,42.13999938964844],\"y\":[22.56999969482422,21.59000015258789,24.56999969482422,19.09000015258789,28.59000015258789,14.699999809265137,28.93000030517578,17.350000381469727,25.469999313354492,16.690000534057617,24.829999923706055],\"type\":\"scatter\"},{\"hoverinfo\":\"text\",\"hovertext\":[\"nflId:41265<br>displayName:Derek Carr<br>Position:QB<br>Role:Pass\",\"nflId:42547<br>displayName:Darren Waller<br>Position:LWR<br>Role:Pass Route\",\"nflId:43362<br>displayName:Kenyan Drake<br>Position:HB-L<br>Role:Pass Block\",\"nflId:44849<br>displayName:Zay Jones<br>Position:SLoWR<br>Role:Pass Route\",\"nflId:44972<br>displayName:Jermaine Eluemunor<br>Position:RG<br>Role:Pass Block\",\"nflId:46084<br>displayName:Kolton Miller<br>Position:LT<br>Role:Pass Block\",\"nflId:47920<br>displayName:Foster Moreau<br>Position:TE-R<br>Role:Pass Block\",\"nflId:47932<br>displayName:Hunter Renfrow<br>Position:SLiWR<br>Role:Pass Route\",\"nflId:48235<br>displayName:Andre James<br>Position:C<br>Role:Pass Block\",\"nflId:52517<br>displayName:John Simpson<br>Position:LG<br>Role:Pass Block\",\"nflId:53446<br>displayName:Alex Leatherwood<br>Position:RT<br>Role:Pass Block\"],\"marker\":{\"color\":\"#000000\"},\"mode\":\"markers\",\"name\":\"LV\",\"x\":[48.93000030517578,40.36000061035156,45.880001068115234,37.22999954223633,43.349998474121094,43.70000076293945,41.810001373291016,38.72999954223633,43.27000045776367,43.650001525878906,42.38999938964844],\"y\":[23.979999542236328,13.020000457763672,24.809999465942383,20.549999237060547,24.420000076293945,20.8700008392334,28.170000076293945,16.079999923706055,23.280000686645508,22.06999969482422,25.850000381469727],\"type\":\"scatter\"},{\"marker\":{\"color\":\"#000000\"},\"mode\":\"lines\",\"name\":\"LV\",\"x\":[48.93000030517578,40.36000061035156,45.880001068115234,37.22999954223633,43.349998474121094,43.70000076293945,41.810001373291016,38.72999954223633,43.27000045776367,43.650001525878906,42.38999938964844],\"y\":[23.979999542236328,13.020000457763672,24.809999465942383,20.549999237060547,24.420000076293945,20.8700008392334,28.170000076293945,16.079999923706055,23.280000686645508,22.06999969482422,25.850000381469727],\"type\":\"scatter\"},{\"hoverinfo\":\"none\",\"marker\":{\"color\":\"#CBB67C\"},\"mode\":\"markers\",\"name\":\"football\",\"x\":[48.970001220703125],\"y\":[24.3799991607666],\"type\":\"scatter\"}],\"name\":\"16\"},{\"data\":[{\"hoverinfo\":\"none\",\"mode\":\"text\",\"showlegend\":false,\"text\":[\"10\",\"20\",\"30\",\"40\",\"50\",\"40\",\"30\",\"20\",\"10\"],\"textfont\":{\"color\":\"#ffffff\",\"family\":\"Courier New, monospace\",\"size\":30},\"x\":[20,30,40,50,60,70,80,90,100],\"y\":[5,5,5,5,5,5,5,5,5],\"type\":\"scatter\"},{\"hoverinfo\":\"none\",\"mode\":\"text\",\"showlegend\":false,\"text\":[\"10\",\"20\",\"30\",\"40\",\"50\",\"40\",\"30\",\"20\",\"10\"],\"textfont\":{\"color\":\"#ffffff\",\"family\":\"Courier New, monospace\",\"size\":30},\"x\":[20,30,40,50,60,70,80,90,100],\"y\":[48.5,48.5,48.5,48.5,48.5,48.5,48.5,48.5,48.5],\"type\":\"scatter\"},{\"hoverinfo\":\"none\",\"line\":{\"color\":\"blue\",\"dash\":\"dash\"},\"showlegend\":false,\"x\":[41.0,41.0],\"y\":[0,53.5],\"type\":\"scatter\"},{\"hoverinfo\":\"none\",\"line\":{\"color\":\"yellow\",\"dash\":\"dash\"},\"showlegend\":false,\"x\":[55.0,55.0],\"y\":[0,53.5],\"type\":\"scatter\"},{\"hoverinfo\":\"text\",\"hovertext\":[\"nflId:33131<br>displayName:Calais Campbell<br>Position:DRT<br>Role:Pass Rush\",\"nflId:37240<br>displayName:Pernell McPhee<br>Position:ROLB<br>Role:Pass Rush\",\"nflId:40042<br>displayName:Brandon Williams<br>Position:NLT<br>Role:Pass Rush\",\"nflId:44828<br>displayName:Marlon Humphrey<br>Position:SCBiR<br>Role:Coverage\",\"nflId:44999<br>displayName:Chuck Clark<br>Position:LOLB<br>Role:Coverage\",\"nflId:46187<br>displayName:Anthony Averett<br>Position:SCBoR<br>Role:Coverage\",\"nflId:46259<br>displayName:DeShon Elliott<br>Position:LOLB<br>Role:Pass Rush\",\"nflId:48565<br>displayName:Chris Westry<br>Position:SCBiR<br>Role:Coverage\",\"nflId:52436<br>displayName:Patrick Queen<br>Position:MLB<br>Role:Coverage\",\"nflId:52506<br>displayName:Malik Harrison<br>Position:RCB<br>Role:Pass Rush\",\"nflId:53460<br>displayName:Odafe Oweh<br>Position:LOLB<br>Role:Pass Rush\"],\"marker\":{\"color\":\"#241773\"},\"mode\":\"markers\",\"name\":\"BAL\",\"x\":[43.38999938964844,42.84000015258789,43.279998779296875,37.209999084472656,41.279998779296875,33.38999938964844,45.0099983215332,36.779998779296875,40.209999084472656,43.939998626708984,42.349998474121094],\"y\":[22.610000610351562,21.889999389648438,24.610000610351562,19.440000534057617,28.6200008392334,14.529999732971191,28.68000030517578,17.190000534057617,25.719999313354492,17.059999465942383,24.530000686645508],\"type\":\"scatter\"},{\"marker\":{\"color\":\"#241773\"},\"mode\":\"lines\",\"name\":\"BAL\",\"x\":[43.38999938964844,42.84000015258789,43.279998779296875,37.209999084472656,41.279998779296875,33.38999938964844,45.0099983215332,36.779998779296875,40.209999084472656,43.939998626708984,42.349998474121094],\"y\":[22.610000610351562,21.889999389648438,24.610000610351562,19.440000534057617,28.6200008392334,14.529999732971191,28.68000030517578,17.190000534057617,25.719999313354492,17.059999465942383,24.530000686645508],\"type\":\"scatter\"},{\"hoverinfo\":\"text\",\"hovertext\":[\"nflId:41265<br>displayName:Derek Carr<br>Position:QB<br>Role:Pass\",\"nflId:42547<br>displayName:Darren Waller<br>Position:LWR<br>Role:Pass Route\",\"nflId:43362<br>displayName:Kenyan Drake<br>Position:HB-L<br>Role:Pass Block\",\"nflId:44849<br>displayName:Zay Jones<br>Position:SLoWR<br>Role:Pass Route\",\"nflId:44972<br>displayName:Jermaine Eluemunor<br>Position:RG<br>Role:Pass Block\",\"nflId:46084<br>displayName:Kolton Miller<br>Position:LT<br>Role:Pass Block\",\"nflId:47920<br>displayName:Foster Moreau<br>Position:TE-R<br>Role:Pass Block\",\"nflId:47932<br>displayName:Hunter Renfrow<br>Position:SLiWR<br>Role:Pass Route\",\"nflId:48235<br>displayName:Andre James<br>Position:C<br>Role:Pass Block\",\"nflId:52517<br>displayName:John Simpson<br>Position:LG<br>Role:Pass Block\",\"nflId:53446<br>displayName:Alex Leatherwood<br>Position:RT<br>Role:Pass Block\"],\"marker\":{\"color\":\"#000000\"},\"mode\":\"markers\",\"name\":\"LV\",\"x\":[49.400001525878906,39.97999954223633,46.119998931884766,36.650001525878906,43.540000915527344,43.959999084472656,41.90999984741211,38.15999984741211,43.47999954223633,43.81999969482422,42.56999969482422],\"y\":[24.059999465942383,12.880000114440918,25.170000076293945,21.0,24.389999389648438,20.90999984741211,28.219999313354492,15.850000381469727,23.25,22.06999969482422,25.639999389648438],\"type\":\"scatter\"},{\"marker\":{\"color\":\"#000000\"},\"mode\":\"lines\",\"name\":\"LV\",\"x\":[49.400001525878906,39.97999954223633,46.119998931884766,36.650001525878906,43.540000915527344,43.959999084472656,41.90999984741211,38.15999984741211,43.47999954223633,43.81999969482422,42.56999969482422],\"y\":[24.059999465942383,12.880000114440918,25.170000076293945,21.0,24.389999389648438,20.90999984741211,28.219999313354492,15.850000381469727,23.25,22.06999969482422,25.639999389648438],\"type\":\"scatter\"},{\"hoverinfo\":\"none\",\"marker\":{\"color\":\"#CBB67C\"},\"mode\":\"markers\",\"name\":\"football\",\"x\":[49.52000045776367],\"y\":[24.489999771118164],\"type\":\"scatter\"}],\"name\":\"17\"},{\"data\":[{\"hoverinfo\":\"none\",\"mode\":\"text\",\"showlegend\":false,\"text\":[\"10\",\"20\",\"30\",\"40\",\"50\",\"40\",\"30\",\"20\",\"10\"],\"textfont\":{\"color\":\"#ffffff\",\"family\":\"Courier New, monospace\",\"size\":30},\"x\":[20,30,40,50,60,70,80,90,100],\"y\":[5,5,5,5,5,5,5,5,5],\"type\":\"scatter\"},{\"hoverinfo\":\"none\",\"mode\":\"text\",\"showlegend\":false,\"text\":[\"10\",\"20\",\"30\",\"40\",\"50\",\"40\",\"30\",\"20\",\"10\"],\"textfont\":{\"color\":\"#ffffff\",\"family\":\"Courier New, monospace\",\"size\":30},\"x\":[20,30,40,50,60,70,80,90,100],\"y\":[48.5,48.5,48.5,48.5,48.5,48.5,48.5,48.5,48.5],\"type\":\"scatter\"},{\"hoverinfo\":\"none\",\"line\":{\"color\":\"blue\",\"dash\":\"dash\"},\"showlegend\":false,\"x\":[41.0,41.0],\"y\":[0,53.5],\"type\":\"scatter\"},{\"hoverinfo\":\"none\",\"line\":{\"color\":\"yellow\",\"dash\":\"dash\"},\"showlegend\":false,\"x\":[55.0,55.0],\"y\":[0,53.5],\"type\":\"scatter\"},{\"hoverinfo\":\"text\",\"hovertext\":[\"nflId:33131<br>displayName:Calais Campbell<br>Position:DRT<br>Role:Pass Rush\",\"nflId:37240<br>displayName:Pernell McPhee<br>Position:ROLB<br>Role:Pass Rush\",\"nflId:40042<br>displayName:Brandon Williams<br>Position:NLT<br>Role:Pass Rush\",\"nflId:44828<br>displayName:Marlon Humphrey<br>Position:SCBiR<br>Role:Coverage\",\"nflId:44999<br>displayName:Chuck Clark<br>Position:LOLB<br>Role:Coverage\",\"nflId:46187<br>displayName:Anthony Averett<br>Position:SCBoR<br>Role:Coverage\",\"nflId:46259<br>displayName:DeShon Elliott<br>Position:LOLB<br>Role:Pass Rush\",\"nflId:48565<br>displayName:Chris Westry<br>Position:SCBiR<br>Role:Coverage\",\"nflId:52436<br>displayName:Patrick Queen<br>Position:MLB<br>Role:Coverage\",\"nflId:52506<br>displayName:Malik Harrison<br>Position:RCB<br>Role:Pass Rush\",\"nflId:53460<br>displayName:Odafe Oweh<br>Position:LOLB<br>Role:Pass Rush\"],\"marker\":{\"color\":\"#241773\"},\"mode\":\"markers\",\"name\":\"BAL\",\"x\":[43.689998626708984,43.040000915527344,43.529998779296875,36.81999969482422,41.400001525878906,33.27000045776367,45.650001525878906,36.470001220703125,40.540000915527344,44.4900016784668,42.56999969482422],\"y\":[22.639999389648438,22.18000030517578,24.65999984741211,19.809999465942383,28.65999984741211,14.369999885559082,28.43000030517578,17.020000457763672,25.969999313354492,17.440000534057617,24.270000457763672],\"type\":\"scatter\"},{\"marker\":{\"color\":\"#241773\"},\"mode\":\"lines\",\"name\":\"BAL\",\"x\":[43.689998626708984,43.040000915527344,43.529998779296875,36.81999969482422,41.400001525878906,33.27000045776367,45.650001525878906,36.470001220703125,40.540000915527344,44.4900016784668,42.56999969482422],\"y\":[22.639999389648438,22.18000030517578,24.65999984741211,19.809999465942383,28.65999984741211,14.369999885559082,28.43000030517578,17.020000457763672,25.969999313354492,17.440000534057617,24.270000457763672],\"type\":\"scatter\"},{\"hoverinfo\":\"text\",\"hovertext\":[\"nflId:41265<br>displayName:Derek Carr<br>Position:QB<br>Role:Pass\",\"nflId:42547<br>displayName:Darren Waller<br>Position:LWR<br>Role:Pass Route\",\"nflId:43362<br>displayName:Kenyan Drake<br>Position:HB-L<br>Role:Pass Block\",\"nflId:44849<br>displayName:Zay Jones<br>Position:SLoWR<br>Role:Pass Route\",\"nflId:44972<br>displayName:Jermaine Eluemunor<br>Position:RG<br>Role:Pass Block\",\"nflId:46084<br>displayName:Kolton Miller<br>Position:LT<br>Role:Pass Block\",\"nflId:47920<br>displayName:Foster Moreau<br>Position:TE-R<br>Role:Pass Block\",\"nflId:47932<br>displayName:Hunter Renfrow<br>Position:SLiWR<br>Role:Pass Route\",\"nflId:48235<br>displayName:Andre James<br>Position:C<br>Role:Pass Block\",\"nflId:52517<br>displayName:John Simpson<br>Position:LG<br>Role:Pass Block\",\"nflId:53446<br>displayName:Alex Leatherwood<br>Position:RT<br>Role:Pass Block\"],\"marker\":{\"color\":\"#000000\"},\"mode\":\"markers\",\"name\":\"LV\",\"x\":[49.86000061035156,39.58000183105469,46.40999984741211,36.040000915527344,43.7400016784668,44.2400016784668,42.02000045776367,37.56999969482422,43.689998626708984,44.0,42.7400016784668],\"y\":[24.149999618530273,12.760000228881836,25.510000228881836,21.459999084472656,24.3700008392334,20.959999084472656,28.25,15.640000343322754,23.239999771118164,22.079999923706055,25.440000534057617],\"type\":\"scatter\"},{\"marker\":{\"color\":\"#000000\"},\"mode\":\"lines\",\"name\":\"LV\",\"x\":[49.86000061035156,39.58000183105469,46.40999984741211,36.040000915527344,43.7400016784668,44.2400016784668,42.02000045776367,37.56999969482422,43.689998626708984,44.0,42.7400016784668],\"y\":[24.149999618530273,12.760000228881836,25.510000228881836,21.459999084472656,24.3700008392334,20.959999084472656,28.25,15.640000343322754,23.239999771118164,22.079999923706055,25.440000534057617],\"type\":\"scatter\"},{\"hoverinfo\":\"none\",\"marker\":{\"color\":\"#CBB67C\"},\"mode\":\"markers\",\"name\":\"football\",\"x\":[49.959999084472656],\"y\":[24.56999969482422],\"type\":\"scatter\"}],\"name\":\"18\"},{\"data\":[{\"hoverinfo\":\"none\",\"mode\":\"text\",\"showlegend\":false,\"text\":[\"10\",\"20\",\"30\",\"40\",\"50\",\"40\",\"30\",\"20\",\"10\"],\"textfont\":{\"color\":\"#ffffff\",\"family\":\"Courier New, monospace\",\"size\":30},\"x\":[20,30,40,50,60,70,80,90,100],\"y\":[5,5,5,5,5,5,5,5,5],\"type\":\"scatter\"},{\"hoverinfo\":\"none\",\"mode\":\"text\",\"showlegend\":false,\"text\":[\"10\",\"20\",\"30\",\"40\",\"50\",\"40\",\"30\",\"20\",\"10\"],\"textfont\":{\"color\":\"#ffffff\",\"family\":\"Courier New, monospace\",\"size\":30},\"x\":[20,30,40,50,60,70,80,90,100],\"y\":[48.5,48.5,48.5,48.5,48.5,48.5,48.5,48.5,48.5],\"type\":\"scatter\"},{\"hoverinfo\":\"none\",\"line\":{\"color\":\"blue\",\"dash\":\"dash\"},\"showlegend\":false,\"x\":[41.0,41.0],\"y\":[0,53.5],\"type\":\"scatter\"},{\"hoverinfo\":\"none\",\"line\":{\"color\":\"yellow\",\"dash\":\"dash\"},\"showlegend\":false,\"x\":[55.0,55.0],\"y\":[0,53.5],\"type\":\"scatter\"},{\"hoverinfo\":\"text\",\"hovertext\":[\"nflId:33131<br>displayName:Calais Campbell<br>Position:DRT<br>Role:Pass Rush\",\"nflId:37240<br>displayName:Pernell McPhee<br>Position:ROLB<br>Role:Pass Rush\",\"nflId:40042<br>displayName:Brandon Williams<br>Position:NLT<br>Role:Pass Rush\",\"nflId:44828<br>displayName:Marlon Humphrey<br>Position:SCBiR<br>Role:Coverage\",\"nflId:44999<br>displayName:Chuck Clark<br>Position:LOLB<br>Role:Coverage\",\"nflId:46187<br>displayName:Anthony Averett<br>Position:SCBoR<br>Role:Coverage\",\"nflId:46259<br>displayName:DeShon Elliott<br>Position:LOLB<br>Role:Pass Rush\",\"nflId:48565<br>displayName:Chris Westry<br>Position:SCBiR<br>Role:Coverage\",\"nflId:52436<br>displayName:Patrick Queen<br>Position:MLB<br>Role:Coverage\",\"nflId:52506<br>displayName:Malik Harrison<br>Position:RCB<br>Role:Pass Rush\",\"nflId:53460<br>displayName:Odafe Oweh<br>Position:LOLB<br>Role:Pass Rush\"],\"marker\":{\"color\":\"#241773\"},\"mode\":\"markers\",\"name\":\"BAL\",\"x\":[43.97999954223633,43.25,43.779998779296875,36.400001525878906,41.5099983215332,33.16999816894531,46.290000915527344,36.119998931884766,40.88999938964844,45.060001373291016,42.790000915527344],\"y\":[22.68000030517578,22.450000762939453,24.709999084472656,20.18000030517578,28.700000762939453,14.220000267028809,28.200000762939453,16.829999923706055,26.200000762939453,17.84000015258789,24.020000457763672],\"type\":\"scatter\"},{\"marker\":{\"color\":\"#241773\"},\"mode\":\"lines\",\"name\":\"BAL\",\"x\":[43.97999954223633,43.25,43.779998779296875,36.400001525878906,41.5099983215332,33.16999816894531,46.290000915527344,36.119998931884766,40.88999938964844,45.060001373291016,42.790000915527344],\"y\":[22.68000030517578,22.450000762939453,24.709999084472656,20.18000030517578,28.700000762939453,14.220000267028809,28.200000762939453,16.829999923706055,26.200000762939453,17.84000015258789,24.020000457763672],\"type\":\"scatter\"},{\"hoverinfo\":\"text\",\"hovertext\":[\"nflId:41265<br>displayName:Derek Carr<br>Position:QB<br>Role:Pass\",\"nflId:42547<br>displayName:Darren Waller<br>Position:LWR<br>Role:Pass Route\",\"nflId:43362<br>displayName:Kenyan Drake<br>Position:HB-L<br>Role:Pass Block\",\"nflId:44849<br>displayName:Zay Jones<br>Position:SLoWR<br>Role:Pass Route\",\"nflId:44972<br>displayName:Jermaine Eluemunor<br>Position:RG<br>Role:Pass Block\",\"nflId:46084<br>displayName:Kolton Miller<br>Position:LT<br>Role:Pass Block\",\"nflId:47920<br>displayName:Foster Moreau<br>Position:TE-R<br>Role:Pass Block\",\"nflId:47932<br>displayName:Hunter Renfrow<br>Position:SLiWR<br>Role:Pass Route\",\"nflId:48235<br>displayName:Andre James<br>Position:C<br>Role:Pass Block\",\"nflId:52517<br>displayName:John Simpson<br>Position:LG<br>Role:Pass Block\",\"nflId:53446<br>displayName:Alex Leatherwood<br>Position:RT<br>Role:Pass Block\"],\"marker\":{\"color\":\"#000000\"},\"mode\":\"markers\",\"name\":\"LV\",\"x\":[50.310001373291016,39.16999816894531,46.72999954223633,35.40999984741211,43.970001220703125,44.560001373291016,42.119998931884766,36.959999084472656,43.900001525878906,44.16999816894531,42.93000030517578],\"y\":[24.239999771118164,12.65999984741211,25.860000610351562,21.920000076293945,24.360000610351562,21.0,28.260000228881836,15.430000305175781,23.219999313354492,22.06999969482422,25.229999542236328],\"type\":\"scatter\"},{\"marker\":{\"color\":\"#000000\"},\"mode\":\"lines\",\"name\":\"LV\",\"x\":[50.310001373291016,39.16999816894531,46.72999954223633,35.40999984741211,43.970001220703125,44.560001373291016,42.119998931884766,36.959999084472656,43.900001525878906,44.16999816894531,42.93000030517578],\"y\":[24.239999771118164,12.65999984741211,25.860000610351562,21.920000076293945,24.360000610351562,21.0,28.260000228881836,15.430000305175781,23.219999313354492,22.06999969482422,25.229999542236328],\"type\":\"scatter\"},{\"hoverinfo\":\"none\",\"marker\":{\"color\":\"#CBB67C\"},\"mode\":\"markers\",\"name\":\"football\",\"x\":[50.38999938964844],\"y\":[24.649999618530273],\"type\":\"scatter\"}],\"name\":\"19\"},{\"data\":[{\"hoverinfo\":\"none\",\"mode\":\"text\",\"showlegend\":false,\"text\":[\"10\",\"20\",\"30\",\"40\",\"50\",\"40\",\"30\",\"20\",\"10\"],\"textfont\":{\"color\":\"#ffffff\",\"family\":\"Courier New, monospace\",\"size\":30},\"x\":[20,30,40,50,60,70,80,90,100],\"y\":[5,5,5,5,5,5,5,5,5],\"type\":\"scatter\"},{\"hoverinfo\":\"none\",\"mode\":\"text\",\"showlegend\":false,\"text\":[\"10\",\"20\",\"30\",\"40\",\"50\",\"40\",\"30\",\"20\",\"10\"],\"textfont\":{\"color\":\"#ffffff\",\"family\":\"Courier New, monospace\",\"size\":30},\"x\":[20,30,40,50,60,70,80,90,100],\"y\":[48.5,48.5,48.5,48.5,48.5,48.5,48.5,48.5,48.5],\"type\":\"scatter\"},{\"hoverinfo\":\"none\",\"line\":{\"color\":\"blue\",\"dash\":\"dash\"},\"showlegend\":false,\"x\":[41.0,41.0],\"y\":[0,53.5],\"type\":\"scatter\"},{\"hoverinfo\":\"none\",\"line\":{\"color\":\"yellow\",\"dash\":\"dash\"},\"showlegend\":false,\"x\":[55.0,55.0],\"y\":[0,53.5],\"type\":\"scatter\"},{\"hoverinfo\":\"text\",\"hovertext\":[\"nflId:33131<br>displayName:Calais Campbell<br>Position:DRT<br>Role:Pass Rush\",\"nflId:37240<br>displayName:Pernell McPhee<br>Position:ROLB<br>Role:Pass Rush\",\"nflId:40042<br>displayName:Brandon Williams<br>Position:NLT<br>Role:Pass Rush\",\"nflId:44828<br>displayName:Marlon Humphrey<br>Position:SCBiR<br>Role:Coverage\",\"nflId:44999<br>displayName:Chuck Clark<br>Position:LOLB<br>Role:Coverage\",\"nflId:46187<br>displayName:Anthony Averett<br>Position:SCBoR<br>Role:Coverage\",\"nflId:46259<br>displayName:DeShon Elliott<br>Position:LOLB<br>Role:Pass Rush\",\"nflId:48565<br>displayName:Chris Westry<br>Position:SCBiR<br>Role:Coverage\",\"nflId:52436<br>displayName:Patrick Queen<br>Position:MLB<br>Role:Coverage\",\"nflId:52506<br>displayName:Malik Harrison<br>Position:RCB<br>Role:Pass Rush\",\"nflId:53460<br>displayName:Odafe Oweh<br>Position:LOLB<br>Role:Pass Rush\"],\"marker\":{\"color\":\"#241773\"},\"mode\":\"markers\",\"name\":\"BAL\",\"x\":[44.27000045776367,43.45000076293945,44.040000915527344,35.959999084472656,41.599998474121094,33.08000183105469,46.939998626708984,35.72999954223633,41.25,45.63999938964844,43.0099983215332],\"y\":[22.729999542236328,22.649999618530273,24.75,20.549999237060547,28.729999542236328,14.09000015258789,27.979999542236328,16.6299991607666,26.40999984741211,18.239999771118164,23.81999969482422],\"type\":\"scatter\"},{\"marker\":{\"color\":\"#241773\"},\"mode\":\"lines\",\"name\":\"BAL\",\"x\":[44.27000045776367,43.45000076293945,44.040000915527344,35.959999084472656,41.599998474121094,33.08000183105469,46.939998626708984,35.72999954223633,41.25,45.63999938964844,43.0099983215332],\"y\":[22.729999542236328,22.649999618530273,24.75,20.549999237060547,28.729999542236328,14.09000015258789,27.979999542236328,16.6299991607666,26.40999984741211,18.239999771118164,23.81999969482422],\"type\":\"scatter\"},{\"hoverinfo\":\"text\",\"hovertext\":[\"nflId:41265<br>displayName:Derek Carr<br>Position:QB<br>Role:Pass\",\"nflId:42547<br>displayName:Darren Waller<br>Position:LWR<br>Role:Pass Route\",\"nflId:43362<br>displayName:Kenyan Drake<br>Position:HB-L<br>Role:Pass Block\",\"nflId:44849<br>displayName:Zay Jones<br>Position:SLoWR<br>Role:Pass Route\",\"nflId:44972<br>displayName:Jermaine Eluemunor<br>Position:RG<br>Role:Pass Block\",\"nflId:46084<br>displayName:Kolton Miller<br>Position:LT<br>Role:Pass Block\",\"nflId:47920<br>displayName:Foster Moreau<br>Position:TE-R<br>Role:Pass Block\",\"nflId:47932<br>displayName:Hunter Renfrow<br>Position:SLiWR<br>Role:Pass Route\",\"nflId:48235<br>displayName:Andre James<br>Position:C<br>Role:Pass Block\",\"nflId:52517<br>displayName:John Simpson<br>Position:LG<br>Role:Pass Block\",\"nflId:53446<br>displayName:Alex Leatherwood<br>Position:RT<br>Role:Pass Block\"],\"marker\":{\"color\":\"#000000\"},\"mode\":\"markers\",\"name\":\"LV\",\"x\":[50.7400016784668,38.75,47.08000183105469,34.75,44.16999816894531,44.90999984741211,42.220001220703125,36.310001373291016,44.119998931884766,44.369998931884766,43.130001068115234],\"y\":[24.34000015258789,12.609999656677246,26.18000030517578,22.389999389648438,24.360000610351562,21.040000915527344,28.260000228881836,15.260000228881836,23.229999542236328,22.09000015258789,25.020000457763672],\"type\":\"scatter\"},{\"marker\":{\"color\":\"#000000\"},\"mode\":\"lines\",\"name\":\"LV\",\"x\":[50.7400016784668,38.75,47.08000183105469,34.75,44.16999816894531,44.90999984741211,42.220001220703125,36.310001373291016,44.119998931884766,44.369998931884766,43.130001068115234],\"y\":[24.34000015258789,12.609999656677246,26.18000030517578,22.389999389648438,24.360000610351562,21.040000915527344,28.260000228881836,15.260000228881836,23.229999542236328,22.09000015258789,25.020000457763672],\"type\":\"scatter\"},{\"hoverinfo\":\"none\",\"marker\":{\"color\":\"#CBB67C\"},\"mode\":\"markers\",\"name\":\"football\",\"x\":[50.84000015258789],\"y\":[24.729999542236328],\"type\":\"scatter\"}],\"name\":\"20\"},{\"data\":[{\"hoverinfo\":\"none\",\"mode\":\"text\",\"showlegend\":false,\"text\":[\"10\",\"20\",\"30\",\"40\",\"50\",\"40\",\"30\",\"20\",\"10\"],\"textfont\":{\"color\":\"#ffffff\",\"family\":\"Courier New, monospace\",\"size\":30},\"x\":[20,30,40,50,60,70,80,90,100],\"y\":[5,5,5,5,5,5,5,5,5],\"type\":\"scatter\"},{\"hoverinfo\":\"none\",\"mode\":\"text\",\"showlegend\":false,\"text\":[\"10\",\"20\",\"30\",\"40\",\"50\",\"40\",\"30\",\"20\",\"10\"],\"textfont\":{\"color\":\"#ffffff\",\"family\":\"Courier New, monospace\",\"size\":30},\"x\":[20,30,40,50,60,70,80,90,100],\"y\":[48.5,48.5,48.5,48.5,48.5,48.5,48.5,48.5,48.5],\"type\":\"scatter\"},{\"hoverinfo\":\"none\",\"line\":{\"color\":\"blue\",\"dash\":\"dash\"},\"showlegend\":false,\"x\":[41.0,41.0],\"y\":[0,53.5],\"type\":\"scatter\"},{\"hoverinfo\":\"none\",\"line\":{\"color\":\"yellow\",\"dash\":\"dash\"},\"showlegend\":false,\"x\":[55.0,55.0],\"y\":[0,53.5],\"type\":\"scatter\"},{\"hoverinfo\":\"text\",\"hovertext\":[\"nflId:33131<br>displayName:Calais Campbell<br>Position:DRT<br>Role:Pass Rush\",\"nflId:37240<br>displayName:Pernell McPhee<br>Position:ROLB<br>Role:Pass Rush\",\"nflId:40042<br>displayName:Brandon Williams<br>Position:NLT<br>Role:Pass Rush\",\"nflId:44828<br>displayName:Marlon Humphrey<br>Position:SCBiR<br>Role:Coverage\",\"nflId:44999<br>displayName:Chuck Clark<br>Position:LOLB<br>Role:Coverage\",\"nflId:46187<br>displayName:Anthony Averett<br>Position:SCBoR<br>Role:Coverage\",\"nflId:46259<br>displayName:DeShon Elliott<br>Position:LOLB<br>Role:Pass Rush\",\"nflId:48565<br>displayName:Chris Westry<br>Position:SCBiR<br>Role:Coverage\",\"nflId:52436<br>displayName:Patrick Queen<br>Position:MLB<br>Role:Coverage\",\"nflId:52506<br>displayName:Malik Harrison<br>Position:RCB<br>Role:Pass Rush\",\"nflId:53460<br>displayName:Odafe Oweh<br>Position:LOLB<br>Role:Pass Rush\"],\"marker\":{\"color\":\"#241773\"},\"mode\":\"markers\",\"name\":\"BAL\",\"x\":[44.54999923706055,43.66999816894531,44.310001373291016,35.470001220703125,41.68000030517578,33.0,47.59000015258789,35.290000915527344,41.63999938964844,46.22999954223633,43.22999954223633],\"y\":[22.770000457763672,22.799999237060547,24.790000915527344,20.90999984741211,28.75,13.989999771118164,27.790000915527344,16.43000030517578,26.600000381469727,18.65999984741211,23.6299991607666],\"type\":\"scatter\"},{\"marker\":{\"color\":\"#241773\"},\"mode\":\"lines\",\"name\":\"BAL\",\"x\":[44.54999923706055,43.66999816894531,44.310001373291016,35.470001220703125,41.68000030517578,33.0,47.59000015258789,35.290000915527344,41.63999938964844,46.22999954223633,43.22999954223633],\"y\":[22.770000457763672,22.799999237060547,24.790000915527344,20.90999984741211,28.75,13.989999771118164,27.790000915527344,16.43000030517578,26.600000381469727,18.65999984741211,23.6299991607666],\"type\":\"scatter\"},{\"hoverinfo\":\"text\",\"hovertext\":[\"nflId:41265<br>displayName:Derek Carr<br>Position:QB<br>Role:Pass\",\"nflId:42547<br>displayName:Darren Waller<br>Position:LWR<br>Role:Pass Route\",\"nflId:43362<br>displayName:Kenyan Drake<br>Position:HB-L<br>Role:Pass Block\",\"nflId:44849<br>displayName:Zay Jones<br>Position:SLoWR<br>Role:Pass Route\",\"nflId:44972<br>displayName:Jermaine Eluemunor<br>Position:RG<br>Role:Pass Block\",\"nflId:46084<br>displayName:Kolton Miller<br>Position:LT<br>Role:Pass Block\",\"nflId:47920<br>displayName:Foster Moreau<br>Position:TE-R<br>Role:Pass Block\",\"nflId:47932<br>displayName:Hunter Renfrow<br>Position:SLiWR<br>Role:Pass Route\",\"nflId:48235<br>displayName:Andre James<br>Position:C<br>Role:Pass Block\",\"nflId:52517<br>displayName:John Simpson<br>Position:LG<br>Role:Pass Block\",\"nflId:53446<br>displayName:Alex Leatherwood<br>Position:RT<br>Role:Pass Block\"],\"marker\":{\"color\":\"#000000\"},\"mode\":\"markers\",\"name\":\"LV\",\"x\":[51.13999938964844,38.31999969482422,47.45000076293945,34.08000183105469,44.380001068115234,45.29999923706055,42.310001373291016,35.630001068115234,44.33000183105469,44.58000183105469,43.31999969482422],\"y\":[24.440000534057617,12.600000381469727,26.5,22.860000610351562,24.360000610351562,21.09000015258789,28.239999771118164,15.109999656677246,23.239999771118164,22.1299991607666,24.809999465942383],\"type\":\"scatter\"},{\"marker\":{\"color\":\"#000000\"},\"mode\":\"lines\",\"name\":\"LV\",\"x\":[51.13999938964844,38.31999969482422,47.45000076293945,34.08000183105469,44.380001068115234,45.29999923706055,42.310001373291016,35.630001068115234,44.33000183105469,44.58000183105469,43.31999969482422],\"y\":[24.440000534057617,12.600000381469727,26.5,22.860000610351562,24.360000610351562,21.09000015258789,28.239999771118164,15.109999656677246,23.239999771118164,22.1299991607666,24.809999465942383],\"type\":\"scatter\"},{\"hoverinfo\":\"none\",\"marker\":{\"color\":\"#CBB67C\"},\"mode\":\"markers\",\"name\":\"football\",\"x\":[51.25],\"y\":[24.829999923706055],\"type\":\"scatter\"}],\"name\":\"21\"},{\"data\":[{\"hoverinfo\":\"none\",\"mode\":\"text\",\"showlegend\":false,\"text\":[\"10\",\"20\",\"30\",\"40\",\"50\",\"40\",\"30\",\"20\",\"10\"],\"textfont\":{\"color\":\"#ffffff\",\"family\":\"Courier New, monospace\",\"size\":30},\"x\":[20,30,40,50,60,70,80,90,100],\"y\":[5,5,5,5,5,5,5,5,5],\"type\":\"scatter\"},{\"hoverinfo\":\"none\",\"mode\":\"text\",\"showlegend\":false,\"text\":[\"10\",\"20\",\"30\",\"40\",\"50\",\"40\",\"30\",\"20\",\"10\"],\"textfont\":{\"color\":\"#ffffff\",\"family\":\"Courier New, monospace\",\"size\":30},\"x\":[20,30,40,50,60,70,80,90,100],\"y\":[48.5,48.5,48.5,48.5,48.5,48.5,48.5,48.5,48.5],\"type\":\"scatter\"},{\"hoverinfo\":\"none\",\"line\":{\"color\":\"blue\",\"dash\":\"dash\"},\"showlegend\":false,\"x\":[41.0,41.0],\"y\":[0,53.5],\"type\":\"scatter\"},{\"hoverinfo\":\"none\",\"line\":{\"color\":\"yellow\",\"dash\":\"dash\"},\"showlegend\":false,\"x\":[55.0,55.0],\"y\":[0,53.5],\"type\":\"scatter\"},{\"hoverinfo\":\"text\",\"hovertext\":[\"nflId:33131<br>displayName:Calais Campbell<br>Position:DRT<br>Role:Pass Rush\",\"nflId:37240<br>displayName:Pernell McPhee<br>Position:ROLB<br>Role:Pass Rush\",\"nflId:40042<br>displayName:Brandon Williams<br>Position:NLT<br>Role:Pass Rush\",\"nflId:44828<br>displayName:Marlon Humphrey<br>Position:SCBiR<br>Role:Coverage\",\"nflId:44999<br>displayName:Chuck Clark<br>Position:LOLB<br>Role:Coverage\",\"nflId:46187<br>displayName:Anthony Averett<br>Position:SCBoR<br>Role:Coverage\",\"nflId:46259<br>displayName:DeShon Elliott<br>Position:LOLB<br>Role:Pass Rush\",\"nflId:48565<br>displayName:Chris Westry<br>Position:SCBiR<br>Role:Coverage\",\"nflId:52436<br>displayName:Patrick Queen<br>Position:MLB<br>Role:Coverage\",\"nflId:52506<br>displayName:Malik Harrison<br>Position:RCB<br>Role:Pass Rush\",\"nflId:53460<br>displayName:Odafe Oweh<br>Position:LOLB<br>Role:Pass Rush\"],\"marker\":{\"color\":\"#241773\"},\"mode\":\"markers\",\"name\":\"BAL\",\"x\":[44.83000183105469,43.88999938964844,44.59000015258789,34.959999084472656,41.720001220703125,32.93000030517578,48.25,34.810001373291016,42.060001373291016,46.810001373291016,43.45000076293945],\"y\":[22.829999923706055,22.889999389648438,24.850000381469727,21.280000686645508,28.75,13.920000076293945,27.610000610351562,16.229999542236328,26.739999771118164,19.079999923706055,23.469999313354492],\"type\":\"scatter\"},{\"marker\":{\"color\":\"#241773\"},\"mode\":\"lines\",\"name\":\"BAL\",\"x\":[44.83000183105469,43.88999938964844,44.59000015258789,34.959999084472656,41.720001220703125,32.93000030517578,48.25,34.810001373291016,42.060001373291016,46.810001373291016,43.45000076293945],\"y\":[22.829999923706055,22.889999389648438,24.850000381469727,21.280000686645508,28.75,13.920000076293945,27.610000610351562,16.229999542236328,26.739999771118164,19.079999923706055,23.469999313354492],\"type\":\"scatter\"},{\"hoverinfo\":\"text\",\"hovertext\":[\"nflId:41265<br>displayName:Derek Carr<br>Position:QB<br>Role:Pass\",\"nflId:42547<br>displayName:Darren Waller<br>Position:LWR<br>Role:Pass Route\",\"nflId:43362<br>displayName:Kenyan Drake<br>Position:HB-L<br>Role:Pass Block\",\"nflId:44849<br>displayName:Zay Jones<br>Position:SLoWR<br>Role:Pass Route\",\"nflId:44972<br>displayName:Jermaine Eluemunor<br>Position:RG<br>Role:Pass Block\",\"nflId:46084<br>displayName:Kolton Miller<br>Position:LT<br>Role:Pass Block\",\"nflId:47920<br>displayName:Foster Moreau<br>Position:TE-R<br>Role:Pass Block\",\"nflId:47932<br>displayName:Hunter Renfrow<br>Position:SLiWR<br>Role:Pass Route\",\"nflId:48235<br>displayName:Andre James<br>Position:C<br>Role:Pass Block\",\"nflId:52517<br>displayName:John Simpson<br>Position:LG<br>Role:Pass Block\",\"nflId:53446<br>displayName:Alex Leatherwood<br>Position:RT<br>Role:Pass Block\"],\"marker\":{\"color\":\"#000000\"},\"mode\":\"markers\",\"name\":\"LV\",\"x\":[51.52000045776367,37.88999938964844,47.790000915527344,33.400001525878906,44.599998474121094,45.7400016784668,42.38999938964844,34.91999816894531,44.540000915527344,44.790000915527344,43.52000045776367],\"y\":[24.520000457763672,12.649999618530273,26.780000686645508,23.34000015258789,24.3799991607666,21.170000076293945,28.209999084472656,14.989999771118164,23.239999771118164,22.18000030517578,24.600000381469727],\"type\":\"scatter\"},{\"marker\":{\"color\":\"#000000\"},\"mode\":\"lines\",\"name\":\"LV\",\"x\":[51.52000045776367,37.88999938964844,47.790000915527344,33.400001525878906,44.599998474121094,45.7400016784668,42.38999938964844,34.91999816894531,44.540000915527344,44.790000915527344,43.52000045776367],\"y\":[24.520000457763672,12.649999618530273,26.780000686645508,23.34000015258789,24.3799991607666,21.170000076293945,28.209999084472656,14.989999771118164,23.239999771118164,22.18000030517578,24.600000381469727],\"type\":\"scatter\"},{\"hoverinfo\":\"none\",\"marker\":{\"color\":\"#CBB67C\"},\"mode\":\"markers\",\"name\":\"football\",\"x\":[51.66999816894531],\"y\":[24.93000030517578],\"type\":\"scatter\"}],\"name\":\"22\"},{\"data\":[{\"hoverinfo\":\"none\",\"mode\":\"text\",\"showlegend\":false,\"text\":[\"10\",\"20\",\"30\",\"40\",\"50\",\"40\",\"30\",\"20\",\"10\"],\"textfont\":{\"color\":\"#ffffff\",\"family\":\"Courier New, monospace\",\"size\":30},\"x\":[20,30,40,50,60,70,80,90,100],\"y\":[5,5,5,5,5,5,5,5,5],\"type\":\"scatter\"},{\"hoverinfo\":\"none\",\"mode\":\"text\",\"showlegend\":false,\"text\":[\"10\",\"20\",\"30\",\"40\",\"50\",\"40\",\"30\",\"20\",\"10\"],\"textfont\":{\"color\":\"#ffffff\",\"family\":\"Courier New, monospace\",\"size\":30},\"x\":[20,30,40,50,60,70,80,90,100],\"y\":[48.5,48.5,48.5,48.5,48.5,48.5,48.5,48.5,48.5],\"type\":\"scatter\"},{\"hoverinfo\":\"none\",\"line\":{\"color\":\"blue\",\"dash\":\"dash\"},\"showlegend\":false,\"x\":[41.0,41.0],\"y\":[0,53.5],\"type\":\"scatter\"},{\"hoverinfo\":\"none\",\"line\":{\"color\":\"yellow\",\"dash\":\"dash\"},\"showlegend\":false,\"x\":[55.0,55.0],\"y\":[0,53.5],\"type\":\"scatter\"},{\"hoverinfo\":\"text\",\"hovertext\":[\"nflId:33131<br>displayName:Calais Campbell<br>Position:DRT<br>Role:Pass Rush\",\"nflId:37240<br>displayName:Pernell McPhee<br>Position:ROLB<br>Role:Pass Rush\",\"nflId:40042<br>displayName:Brandon Williams<br>Position:NLT<br>Role:Pass Rush\",\"nflId:44828<br>displayName:Marlon Humphrey<br>Position:SCBiR<br>Role:Coverage\",\"nflId:44999<br>displayName:Chuck Clark<br>Position:LOLB<br>Role:Coverage\",\"nflId:46187<br>displayName:Anthony Averett<br>Position:SCBoR<br>Role:Coverage\",\"nflId:46259<br>displayName:DeShon Elliott<br>Position:LOLB<br>Role:Pass Rush\",\"nflId:48565<br>displayName:Chris Westry<br>Position:SCBiR<br>Role:Coverage\",\"nflId:52436<br>displayName:Patrick Queen<br>Position:MLB<br>Role:Coverage\",\"nflId:52506<br>displayName:Malik Harrison<br>Position:RCB<br>Role:Pass Rush\",\"nflId:53460<br>displayName:Odafe Oweh<br>Position:LOLB<br>Role:Pass Rush\"],\"marker\":{\"color\":\"#241773\"},\"mode\":\"markers\",\"name\":\"BAL\",\"x\":[45.099998474121094,44.11000061035156,44.869998931884766,34.40999984741211,41.72999954223633,32.88999938964844,48.900001525878906,34.279998779296875,42.47999954223633,47.38999938964844,43.65999984741211],\"y\":[22.889999389648438,22.93000030517578,24.90999984741211,21.639999389648438,28.719999313354492,13.890000343322754,27.450000762939453,16.040000915527344,26.860000610351562,19.510000228881836,23.329999923706055],\"type\":\"scatter\"},{\"marker\":{\"color\":\"#241773\"},\"mode\":\"lines\",\"name\":\"BAL\",\"x\":[45.099998474121094,44.11000061035156,44.869998931884766,34.40999984741211,41.72999954223633,32.88999938964844,48.900001525878906,34.279998779296875,42.47999954223633,47.38999938964844,43.65999984741211],\"y\":[22.889999389648438,22.93000030517578,24.90999984741211,21.639999389648438,28.719999313354492,13.890000343322754,27.450000762939453,16.040000915527344,26.860000610351562,19.510000228881836,23.329999923706055],\"type\":\"scatter\"},{\"hoverinfo\":\"text\",\"hovertext\":[\"nflId:41265<br>displayName:Derek Carr<br>Position:QB<br>Role:Pass\",\"nflId:42547<br>displayName:Darren Waller<br>Position:LWR<br>Role:Pass Route\",\"nflId:43362<br>displayName:Kenyan Drake<br>Position:HB-L<br>Role:Pass Block\",\"nflId:44849<br>displayName:Zay Jones<br>Position:SLoWR<br>Role:Pass Route\",\"nflId:44972<br>displayName:Jermaine Eluemunor<br>Position:RG<br>Role:Pass Block\",\"nflId:46084<br>displayName:Kolton Miller<br>Position:LT<br>Role:Pass Block\",\"nflId:47920<br>displayName:Foster Moreau<br>Position:TE-R<br>Role:Pass Block\",\"nflId:47932<br>displayName:Hunter Renfrow<br>Position:SLiWR<br>Role:Pass Route\",\"nflId:48235<br>displayName:Andre James<br>Position:C<br>Role:Pass Block\",\"nflId:52517<br>displayName:John Simpson<br>Position:LG<br>Role:Pass Block\",\"nflId:53446<br>displayName:Alex Leatherwood<br>Position:RT<br>Role:Pass Block\"],\"marker\":{\"color\":\"#000000\"},\"mode\":\"markers\",\"name\":\"LV\",\"x\":[51.869998931884766,37.459999084472656,48.130001068115234,32.709999084472656,44.810001373291016,46.18000030517578,42.459999084472656,34.209999084472656,44.75,45.029998779296875,43.709999084472656],\"y\":[24.59000015258789,12.739999771118164,27.049999237060547,23.809999465942383,24.40999984741211,21.25,28.170000076293945,14.890000343322754,23.270000457763672,22.239999771118164,24.399999618530273],\"type\":\"scatter\"},{\"marker\":{\"color\":\"#000000\"},\"mode\":\"lines\",\"name\":\"LV\",\"x\":[51.869998931884766,37.459999084472656,48.130001068115234,32.709999084472656,44.810001373291016,46.18000030517578,42.459999084472656,34.209999084472656,44.75,45.029998779296875,43.709999084472656],\"y\":[24.59000015258789,12.739999771118164,27.049999237060547,23.809999465942383,24.40999984741211,21.25,28.170000076293945,14.890000343322754,23.270000457763672,22.239999771118164,24.399999618530273],\"type\":\"scatter\"},{\"hoverinfo\":\"none\",\"marker\":{\"color\":\"#CBB67C\"},\"mode\":\"markers\",\"name\":\"football\",\"x\":[52.060001373291016],\"y\":[25.030000686645508],\"type\":\"scatter\"}],\"name\":\"23\"},{\"data\":[{\"hoverinfo\":\"none\",\"mode\":\"text\",\"showlegend\":false,\"text\":[\"10\",\"20\",\"30\",\"40\",\"50\",\"40\",\"30\",\"20\",\"10\"],\"textfont\":{\"color\":\"#ffffff\",\"family\":\"Courier New, monospace\",\"size\":30},\"x\":[20,30,40,50,60,70,80,90,100],\"y\":[5,5,5,5,5,5,5,5,5],\"type\":\"scatter\"},{\"hoverinfo\":\"none\",\"mode\":\"text\",\"showlegend\":false,\"text\":[\"10\",\"20\",\"30\",\"40\",\"50\",\"40\",\"30\",\"20\",\"10\"],\"textfont\":{\"color\":\"#ffffff\",\"family\":\"Courier New, monospace\",\"size\":30},\"x\":[20,30,40,50,60,70,80,90,100],\"y\":[48.5,48.5,48.5,48.5,48.5,48.5,48.5,48.5,48.5],\"type\":\"scatter\"},{\"hoverinfo\":\"none\",\"line\":{\"color\":\"blue\",\"dash\":\"dash\"},\"showlegend\":false,\"x\":[41.0,41.0],\"y\":[0,53.5],\"type\":\"scatter\"},{\"hoverinfo\":\"none\",\"line\":{\"color\":\"yellow\",\"dash\":\"dash\"},\"showlegend\":false,\"x\":[55.0,55.0],\"y\":[0,53.5],\"type\":\"scatter\"},{\"hoverinfo\":\"text\",\"hovertext\":[\"nflId:33131<br>displayName:Calais Campbell<br>Position:DRT<br>Role:Pass Rush\",\"nflId:37240<br>displayName:Pernell McPhee<br>Position:ROLB<br>Role:Pass Rush\",\"nflId:40042<br>displayName:Brandon Williams<br>Position:NLT<br>Role:Pass Rush\",\"nflId:44828<br>displayName:Marlon Humphrey<br>Position:SCBiR<br>Role:Coverage\",\"nflId:44999<br>displayName:Chuck Clark<br>Position:LOLB<br>Role:Coverage\",\"nflId:46187<br>displayName:Anthony Averett<br>Position:SCBoR<br>Role:Coverage\",\"nflId:46259<br>displayName:DeShon Elliott<br>Position:LOLB<br>Role:Pass Rush\",\"nflId:48565<br>displayName:Chris Westry<br>Position:SCBiR<br>Role:Coverage\",\"nflId:52436<br>displayName:Patrick Queen<br>Position:MLB<br>Role:Coverage\",\"nflId:52506<br>displayName:Malik Harrison<br>Position:RCB<br>Role:Pass Rush\",\"nflId:53460<br>displayName:Odafe Oweh<br>Position:LOLB<br>Role:Pass Rush\"],\"marker\":{\"color\":\"#241773\"},\"mode\":\"markers\",\"name\":\"BAL\",\"x\":[45.36000061035156,44.349998474121094,45.15999984741211,33.84000015258789,41.720001220703125,32.869998931884766,49.540000915527344,33.709999084472656,42.91999816894531,47.959999084472656,43.849998474121094],\"y\":[22.989999771118164,22.93000030517578,24.979999542236328,22.010000228881836,28.68000030517578,13.899999618530273,27.31999969482422,15.880000114440918,26.959999084472656,19.940000534057617,23.209999084472656],\"type\":\"scatter\"},{\"marker\":{\"color\":\"#241773\"},\"mode\":\"lines\",\"name\":\"BAL\",\"x\":[45.36000061035156,44.349998474121094,45.15999984741211,33.84000015258789,41.720001220703125,32.869998931884766,49.540000915527344,33.709999084472656,42.91999816894531,47.959999084472656,43.849998474121094],\"y\":[22.989999771118164,22.93000030517578,24.979999542236328,22.010000228881836,28.68000030517578,13.899999618530273,27.31999969482422,15.880000114440918,26.959999084472656,19.940000534057617,23.209999084472656],\"type\":\"scatter\"},{\"hoverinfo\":\"text\",\"hovertext\":[\"nflId:41265<br>displayName:Derek Carr<br>Position:QB<br>Role:Pass\",\"nflId:42547<br>displayName:Darren Waller<br>Position:LWR<br>Role:Pass Route\",\"nflId:43362<br>displayName:Kenyan Drake<br>Position:HB-L<br>Role:Pass Block\",\"nflId:44849<br>displayName:Zay Jones<br>Position:SLoWR<br>Role:Pass Route\",\"nflId:44972<br>displayName:Jermaine Eluemunor<br>Position:RG<br>Role:Pass Block\",\"nflId:46084<br>displayName:Kolton Miller<br>Position:LT<br>Role:Pass Block\",\"nflId:47920<br>displayName:Foster Moreau<br>Position:TE-R<br>Role:Pass Block\",\"nflId:47932<br>displayName:Hunter Renfrow<br>Position:SLiWR<br>Role:Pass Route\",\"nflId:48235<br>displayName:Andre James<br>Position:C<br>Role:Pass Block\",\"nflId:52517<br>displayName:John Simpson<br>Position:LG<br>Role:Pass Block\",\"nflId:53446<br>displayName:Alex Leatherwood<br>Position:RT<br>Role:Pass Block\"],\"marker\":{\"color\":\"#000000\"},\"mode\":\"markers\",\"name\":\"LV\",\"x\":[52.189998626708984,37.04999923706055,48.439998626708984,32.0,45.040000915527344,46.630001068115234,42.5,33.47999954223633,44.95000076293945,45.25,43.900001525878906],\"y\":[24.649999618530273,12.899999618530273,27.290000915527344,24.290000915527344,24.440000534057617,21.34000015258789,28.1200008392334,14.819999694824219,23.290000915527344,22.34000015258789,24.209999084472656],\"type\":\"scatter\"},{\"marker\":{\"color\":\"#000000\"},\"mode\":\"lines\",\"name\":\"LV\",\"x\":[52.189998626708984,37.04999923706055,48.439998626708984,32.0,45.040000915527344,46.630001068115234,42.5,33.47999954223633,44.95000076293945,45.25,43.900001525878906],\"y\":[24.649999618530273,12.899999618530273,27.290000915527344,24.290000915527344,24.440000534057617,21.34000015258789,28.1200008392334,14.819999694824219,23.290000915527344,22.34000015258789,24.209999084472656],\"type\":\"scatter\"},{\"hoverinfo\":\"none\",\"marker\":{\"color\":\"#CBB67C\"},\"mode\":\"markers\",\"name\":\"football\",\"x\":[52.43000030517578],\"y\":[25.1299991607666],\"type\":\"scatter\"}],\"name\":\"24\"}]);\n",
       "                        }).then(function(){\n",
       "                            \n",
       "var gd = document.getElementById('25f58303-9feb-4cc8-8916-344ae5c76d19');\n",
       "var x = new MutationObserver(function (mutations, observer) {{\n",
       "        var display = window.getComputedStyle(gd).display;\n",
       "        if (!display || display === 'none') {{\n",
       "            console.log([gd, 'removed!']);\n",
       "            Plotly.purge(gd);\n",
       "            observer.disconnect();\n",
       "        }}\n",
       "}});\n",
       "\n",
       "// Listen for the removal of the full notebook cells\n",
       "var notebookContainer = gd.closest('#notebook-container');\n",
       "if (notebookContainer) {{\n",
       "    x.observe(notebookContainer, {childList: true});\n",
       "}}\n",
       "\n",
       "// Listen for the clearing of the current output cell\n",
       "var outputEl = gd.closest('.output');\n",
       "if (outputEl) {{\n",
       "    x.observe(outputEl, {childList: true});\n",
       "}}\n",
       "\n",
       "                        })                };                });            </script>        </div>"
      ]
     },
     "metadata": {},
     "output_type": "display_data"
    }
   ],
   "source": [
    "import plotly.graph_objects as go\n",
    "colors = {\n",
    "    'ARI':\"#97233F\", \n",
    "    'ATL':\"#A71930\", \n",
    "    'BAL':'#241773', \n",
    "    'BUF':\"#00338D\", \n",
    "    'CAR':\"#0085CA\", \n",
    "    'CHI':\"#C83803\", \n",
    "    'CIN':\"#FB4F14\", \n",
    "    'CLE':\"#311D00\", \n",
    "    'DAL':'#003594',\n",
    "    'DEN':\"#FB4F14\", \n",
    "    'DET':\"#0076B6\", \n",
    "    'GB':\"#203731\", \n",
    "    'HOU':\"#03202F\", \n",
    "    'IND':\"#002C5F\", \n",
    "    'JAX':\"#9F792C\", \n",
    "    'KC':\"#E31837\", \n",
    "    'LA':\"#003594\", \n",
    "    'LAC':\"#0080C6\", \n",
    "    'LV':\"#000000\",\n",
    "    'MIA':\"#008E97\", \n",
    "    'MIN':\"#4F2683\", \n",
    "    'NE':\"#002244\", \n",
    "    'NO':\"#D3BC8D\", \n",
    "    'NYG':\"#0B2265\", \n",
    "    'NYJ':\"#125740\", \n",
    "    'PHI':\"#004C54\", \n",
    "    'PIT':\"#FFB612\", \n",
    "    'SEA':\"#69BE28\", \n",
    "    'SF':\"#AA0000\",\n",
    "    'TB':'#D50A0A', \n",
    "    'TEN':\"#4B92DB\", \n",
    "    'WAS':\"#5A1414\", \n",
    "    'football':'#CBB67C'\n",
    "}\n",
    "\n",
    "# input was originally weeks1_dict\n",
    "animate_play(weeks_dict[1], play,players,pff, 2021091300,4845).show()"
   ]
  },
  {
   "cell_type": "code",
   "execution_count": 15,
   "id": "c107d12b",
   "metadata": {},
   "outputs": [
    {
     "data": {
      "text/html": [
       "<div>\n",
       "<style scoped>\n",
       "    .dataframe tbody tr th:only-of-type {\n",
       "        vertical-align: middle;\n",
       "    }\n",
       "\n",
       "    .dataframe tbody tr th {\n",
       "        vertical-align: top;\n",
       "    }\n",
       "\n",
       "    .dataframe thead th {\n",
       "        text-align: right;\n",
       "    }\n",
       "</style>\n",
       "<table border=\"1\" class=\"dataframe\">\n",
       "  <thead>\n",
       "    <tr style=\"text-align: right;\">\n",
       "      <th></th>\n",
       "      <th>gameId</th>\n",
       "      <th>playId</th>\n",
       "      <th>nflId</th>\n",
       "      <th>pff_role</th>\n",
       "      <th>pff_positionLinedUp</th>\n",
       "      <th>pff_hit</th>\n",
       "      <th>pff_hurry</th>\n",
       "      <th>pff_sack</th>\n",
       "      <th>pff_beatenByDefender</th>\n",
       "      <th>pff_hitAllowed</th>\n",
       "      <th>pff_hurryAllowed</th>\n",
       "      <th>pff_sackAllowed</th>\n",
       "      <th>pff_nflIdBlockedPlayer</th>\n",
       "      <th>pff_blockType</th>\n",
       "      <th>pff_backFieldBlock</th>\n",
       "    </tr>\n",
       "  </thead>\n",
       "  <tbody>\n",
       "    <tr>\n",
       "      <th>0</th>\n",
       "      <td>2021090900</td>\n",
       "      <td>97</td>\n",
       "      <td>25511</td>\n",
       "      <td>Pass</td>\n",
       "      <td>QB</td>\n",
       "      <td>0</td>\n",
       "      <td>0</td>\n",
       "      <td>0</td>\n",
       "      <td>0</td>\n",
       "      <td>0</td>\n",
       "      <td>0</td>\n",
       "      <td>0</td>\n",
       "      <td>0</td>\n",
       "      <td>NaN</td>\n",
       "      <td>0</td>\n",
       "    </tr>\n",
       "    <tr>\n",
       "      <th>1</th>\n",
       "      <td>2021090900</td>\n",
       "      <td>97</td>\n",
       "      <td>35481</td>\n",
       "      <td>Pass Route</td>\n",
       "      <td>TE-L</td>\n",
       "      <td>0</td>\n",
       "      <td>0</td>\n",
       "      <td>0</td>\n",
       "      <td>0</td>\n",
       "      <td>0</td>\n",
       "      <td>0</td>\n",
       "      <td>0</td>\n",
       "      <td>0</td>\n",
       "      <td>NaN</td>\n",
       "      <td>0</td>\n",
       "    </tr>\n",
       "    <tr>\n",
       "      <th>2</th>\n",
       "      <td>2021090900</td>\n",
       "      <td>97</td>\n",
       "      <td>35634</td>\n",
       "      <td>Pass Route</td>\n",
       "      <td>LWR</td>\n",
       "      <td>0</td>\n",
       "      <td>0</td>\n",
       "      <td>0</td>\n",
       "      <td>0</td>\n",
       "      <td>0</td>\n",
       "      <td>0</td>\n",
       "      <td>0</td>\n",
       "      <td>0</td>\n",
       "      <td>NaN</td>\n",
       "      <td>0</td>\n",
       "    </tr>\n",
       "    <tr>\n",
       "      <th>3</th>\n",
       "      <td>2021090900</td>\n",
       "      <td>97</td>\n",
       "      <td>39985</td>\n",
       "      <td>Pass Route</td>\n",
       "      <td>HB-R</td>\n",
       "      <td>0</td>\n",
       "      <td>0</td>\n",
       "      <td>0</td>\n",
       "      <td>0</td>\n",
       "      <td>0</td>\n",
       "      <td>0</td>\n",
       "      <td>0</td>\n",
       "      <td>0</td>\n",
       "      <td>NaN</td>\n",
       "      <td>0</td>\n",
       "    </tr>\n",
       "    <tr>\n",
       "      <th>4</th>\n",
       "      <td>2021090900</td>\n",
       "      <td>97</td>\n",
       "      <td>40151</td>\n",
       "      <td>Pass Block</td>\n",
       "      <td>C</td>\n",
       "      <td>0</td>\n",
       "      <td>0</td>\n",
       "      <td>0</td>\n",
       "      <td>0</td>\n",
       "      <td>0</td>\n",
       "      <td>0</td>\n",
       "      <td>0</td>\n",
       "      <td>44955</td>\n",
       "      <td>SW</td>\n",
       "      <td>0</td>\n",
       "    </tr>\n",
       "  </tbody>\n",
       "</table>\n",
       "</div>"
      ],
      "text/plain": [
       "       gameId  playId  nflId    pff_role pff_positionLinedUp  pff_hit  \\\n",
       "0  2021090900      97  25511        Pass                  QB        0   \n",
       "1  2021090900      97  35481  Pass Route                TE-L        0   \n",
       "2  2021090900      97  35634  Pass Route                 LWR        0   \n",
       "3  2021090900      97  39985  Pass Route                HB-R        0   \n",
       "4  2021090900      97  40151  Pass Block                   C        0   \n",
       "\n",
       "   pff_hurry  pff_sack  pff_beatenByDefender  pff_hitAllowed  \\\n",
       "0          0         0                     0               0   \n",
       "1          0         0                     0               0   \n",
       "2          0         0                     0               0   \n",
       "3          0         0                     0               0   \n",
       "4          0         0                     0               0   \n",
       "\n",
       "   pff_hurryAllowed  pff_sackAllowed  pff_nflIdBlockedPlayer pff_blockType  \\\n",
       "0                 0                0                       0           NaN   \n",
       "1                 0                0                       0           NaN   \n",
       "2                 0                0                       0           NaN   \n",
       "3                 0                0                       0           NaN   \n",
       "4                 0                0                   44955            SW   \n",
       "\n",
       "   pff_backFieldBlock  \n",
       "0                   0  \n",
       "1                   0  \n",
       "2                   0  \n",
       "3                   0  \n",
       "4                   0  "
      ]
     },
     "metadata": {},
     "output_type": "display_data"
    }
   ],
   "source": [
    "display(pff.head())"
   ]
  },
  {
   "cell_type": "code",
   "execution_count": 16,
   "id": "c48e79a1",
   "metadata": {},
   "outputs": [],
   "source": [
    "#consider partitioning the field in 6ths, consider force in those regions. maybe consider the coverage as well\n",
    "# weigh by summing up the inverses, 1/\n",
    "# multiply this \"avg\" by the number of players on offense or defense\n",
    "# random forest\n",
    "# gradient boosted trees\n",
    "# consider making a prediciton for a specific frame\n",
    "# consider using frame id as categorical variable\n",
    "# a decision rule could be if frame 1, no hit, no sack, no hurry \n",
    "# probability increases as frame increases\n",
    "# xgboost\n",
    "# how does model perform over time?\n",
    "# try a gam model, get some linear terms, smoothing terms, partial response terms\n",
    "# autocorrelation, between frames? how would we capture that\n",
    "# ELO with football players?"
   ]
  }
 ],
 "metadata": {
  "kernelspec": {
   "display_name": "Python 3 (ipykernel)",
   "language": "python",
   "name": "python3"
  },
  "language_info": {
   "codemirror_mode": {
    "name": "ipython",
    "version": 3
   },
   "file_extension": ".py",
   "mimetype": "text/x-python",
   "name": "python",
   "nbconvert_exporter": "python",
   "pygments_lexer": "ipython3",
   "version": "3.8.10"
  }
 },
 "nbformat": 4,
 "nbformat_minor": 5
}
