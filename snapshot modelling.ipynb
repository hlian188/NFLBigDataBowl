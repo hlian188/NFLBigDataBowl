{
 "cells": [
  {
   "cell_type": "code",
   "execution_count": 1,
   "id": "c3c77f15",
   "metadata": {},
   "outputs": [
    {
     "name": "stdout",
     "output_type": "stream",
     "text": [
      "<class 'pandas.core.frame.DataFrame'>\n",
      "RangeIndex: 274529 entries, 0 to 274528\n",
      "Data columns (total 28 columns):\n",
      " #   Column                 Non-Null Count   Dtype  \n",
      "---  ------                 --------------   -----  \n",
      " 0   playId                 274529 non-null  int64  \n",
      " 1   gameId                 274529 non-null  int64  \n",
      " 2   frameId                274529 non-null  int64  \n",
      " 3   area_block             274529 non-null  float64\n",
      " 4   dist_block             274529 non-null  float64\n",
      " 5   dist_to_qb_block       274529 non-null  float64\n",
      " 6   x_force_block          274529 non-null  float64\n",
      " 7   y_force_block          274529 non-null  float64\n",
      " 8   norm_weighted_x_block  274529 non-null  float64\n",
      " 9   norm_weighted_y_block  274529 non-null  float64\n",
      " 10  area_rush              274529 non-null  float64\n",
      " 11  dist_rush              274529 non-null  float64\n",
      " 12  dist_to_qb_rush        274529 non-null  float64\n",
      " 13  x_force_rush           274529 non-null  float64\n",
      " 14  y_force_rush           274529 non-null  float64\n",
      " 15  norm_weighted_x_rush   274529 non-null  float64\n",
      " 16  norm_weighted_y_rush   274529 non-null  float64\n",
      " 17  net_x_force_bottom     274529 non-null  float64\n",
      " 18  net_y_force_bottom     274529 non-null  float64\n",
      " 19  net_x_force_middle     274529 non-null  float64\n",
      " 20  net_y_force_middle     274529 non-null  float64\n",
      " 21  net_x_force_top        274529 non-null  float64\n",
      " 22  net_y_force_top        274529 non-null  float64\n",
      " 23  hit                    274529 non-null  int64  \n",
      " 24  hurry                  274529 non-null  int64  \n",
      " 25  sack                   274529 non-null  int64  \n",
      " 26  bad_thing              274529 non-null  int64  \n",
      " 27  week                   274529 non-null  int64  \n",
      "dtypes: float64(20), int64(8)\n",
      "memory usage: 58.6 MB\n",
      "None\n"
     ]
    },
    {
     "name": "stderr",
     "output_type": "stream",
     "text": [
      "C:\\Users\\Harrison\\AppData\\Local\\Temp\\ipykernel_18232\\2618881155.py:12: SettingWithCopyWarning: \n",
      "A value is trying to be set on a copy of a slice from a DataFrame\n",
      "\n",
      "See the caveats in the documentation: https://pandas.pydata.org/pandas-docs/stable/user_guide/indexing.html#returning-a-view-versus-a-copy\n",
      "  unclean_train_df.drop(columns = ['week'], inplace = True)\n",
      "C:\\Users\\Harrison\\AppData\\Local\\Temp\\ipykernel_18232\\2618881155.py:13: SettingWithCopyWarning: \n",
      "A value is trying to be set on a copy of a slice from a DataFrame\n",
      "\n",
      "See the caveats in the documentation: https://pandas.pydata.org/pandas-docs/stable/user_guide/indexing.html#returning-a-view-versus-a-copy\n",
      "  unclean_test_df.drop(columns = ['week'], inplace = True)\n"
     ]
    }
   ],
   "source": [
    "import pandas as pd\n",
    "import numpy as np\n",
    "\n",
    "features_all = pd.read_csv('features_all_weeks.csv')\n",
    "features_all.drop(columns = ['Unnamed: 0', 'X1', 'X'], inplace = True)\n",
    "# display(features_all)\n",
    "print(features_all.info())\n",
    "\n",
    "unclean_train_df = features_all[features_all['week'] != 8]\n",
    "unclean_test_df = features_all[features_all['week'] == 8]\n",
    "\n",
    "unclean_train_df.drop(columns = ['week'], inplace = True)\n",
    "unclean_test_df.drop(columns = ['week'], inplace = True)"
   ]
  },
  {
   "cell_type": "code",
   "execution_count": null,
   "id": "433851ee",
   "metadata": {},
   "outputs": [],
   "source": []
  },
  {
   "cell_type": "code",
   "execution_count": null,
   "id": "ac70e325",
   "metadata": {},
   "outputs": [],
   "source": [
    "# keep track of frameID\n",
    "def df_split_by_frame(df, group_by = 5, features = 'all'):\n",
    "    df_grouped = df.groupby('frameId')\n",
    "    df_dict = dict()\n",
    "\n",
    "    for n, df in df_grouped:\n",
    "        if (n % group_by == 1 and n < 60):\n",
    "            y = df['bad_thing']\n",
    "            x = df.drop(columns = ['bad_thing', 'hit', 'hurry', 'sack', 'playId', 'gameId', 'frameId'])\n",
    "            # display(x)\n",
    "            df_dict[n] = (x, y)\n",
    "            # df_list.append((n, x, y))\n",
    "    return df_dict"
   ]
  },
  {
   "cell_type": "code",
   "execution_count": null,
   "id": "dac4a803",
   "metadata": {},
   "outputs": [],
   "source": [
    "from sklearn.ensemble import RandomForestClassifier\n",
    "\n",
    "def train_rf_model(df_dict):\n",
    "    models = dict()\n",
    "    for (frameID, (x, y)) in df_dict.items():\n",
    "        print(frameID)\n",
    "        rf = RandomForestClassifier(n_estimators=500, oob_score=True, random_state=123456, max_depth = 15)\n",
    "        rf.fit(x, y)\n",
    "        models[frameID] = rf\n",
    "        del rf\n",
    "    return models\n",
    "\n",
    "def train_lr_model(df_list):\n",
    "    models = []\n",
    "    for (frameID, x, y) in df_list:\n",
    "        # TODO: change to LR model with intercept\n",
    "        rf = RandomForestClassifier(n_estimators=500, oob_score=True, random_state=123456, max_depth = 15)\n",
    "        rf.fit(x, y)\n",
    "        models.append((frameID, rf))\n",
    "        del rf\n",
    "    return models\n",
    "\n",
    "from sklearn.metrics import accuracy_score, recall_score\n",
    "def evaluate(test_df_dict, models):\n",
    "    for frameID, model in models.items():\n",
    "        x, y = test_df_dict[frameID]\n",
    "        pred = model.predict(x)\n",
    "        accuracy = accuracy_score(y, pred)\n",
    "        recall = recall_score(y, pred)\n",
    "        \n",
    "        print(f'{frameID}: Out-of-bag score estimate: {model.oob_score_:.3}')\n",
    "        print(f'{frameID}: Mean accuracy score: {accuracy:.3}')\n",
    "        print(f'{frameID}: Recall: {recall:.3}')\n"
   ]
  },
  {
   "cell_type": "code",
   "execution_count": null,
   "id": "4702f2a3",
   "metadata": {},
   "outputs": [],
   "source": [
    "clean_train_df_dict = df_split_by_frame(unclean_train_df)\n",
    "clean_test_df_dict = df_split_by_frame(unclean_test_df)\n",
    "\n",
    "models = train_rf_model(clean_train_df_dict)\n",
    "pickle.dump(models, open(\"model_list_all_features.pkl\", \"wb\"))"
   ]
  },
  {
   "cell_type": "code",
   "execution_count": null,
   "id": "c904aa0c",
   "metadata": {},
   "outputs": [],
   "source": [
    "models = pickle.load(open(\"model_list_all_features.pkl\", \"rb\"))"
   ]
  },
  {
   "cell_type": "code",
   "execution_count": null,
   "id": "d972a125",
   "metadata": {},
   "outputs": [],
   "source": [
    "evaluate(clean_test_df_dict, models)"
   ]
  }
 ],
 "metadata": {
  "kernelspec": {
   "display_name": "Python 3 (ipykernel)",
   "language": "python",
   "name": "python3"
  },
  "language_info": {
   "codemirror_mode": {
    "name": "ipython",
    "version": 3
   },
   "file_extension": ".py",
   "mimetype": "text/x-python",
   "name": "python",
   "nbconvert_exporter": "python",
   "pygments_lexer": "ipython3",
   "version": "3.8.10"
  }
 },
 "nbformat": 4,
 "nbformat_minor": 5
}
