{
 "cells": [
  {
   "cell_type": "code",
   "execution_count": 1,
   "id": "30a4d76c",
   "metadata": {},
   "outputs": [],
   "source": [
    "import pandas as pd\n",
    "import csv\n",
    "import numpy as np\n",
    "from datetime import datetime\n",
    "import dateutil.parser\n",
    "from IPython.display import display\n",
    "import math\n",
    "import copy \n",
    "\n",
    "import xgboost as xgb\n",
    "from sklearn.metrics import accuracy_score\n",
    "from sklearn.model_selection import train_test_split\n",
    "\n",
    "\n",
    "\n",
    "pd.options.display.max_columns = None\n",
    "pd.set_option('display.max_rows', None)\n",
    "\n"
   ]
  },
  {
   "cell_type": "code",
   "execution_count": null,
   "id": "09c79061",
   "metadata": {},
   "outputs": [],
   "source": []
  },
  {
   "cell_type": "code",
   "execution_count": null,
   "id": "77bb629a",
   "metadata": {},
   "outputs": [],
   "source": []
  },
  {
   "cell_type": "code",
   "execution_count": null,
   "id": "6a024d72",
   "metadata": {},
   "outputs": [],
   "source": [
    "#can skip to way later if using Jing Chun's preprocessed csv"
   ]
  },
  {
   "cell_type": "code",
   "execution_count": 21,
   "id": "359b37f2",
   "metadata": {},
   "outputs": [
    {
     "data": {
      "text/html": [
       "<div>\n",
       "<style scoped>\n",
       "    .dataframe tbody tr th:only-of-type {\n",
       "        vertical-align: middle;\n",
       "    }\n",
       "\n",
       "    .dataframe tbody tr th {\n",
       "        vertical-align: top;\n",
       "    }\n",
       "\n",
       "    .dataframe thead th {\n",
       "        text-align: right;\n",
       "    }\n",
       "</style>\n",
       "<table border=\"1\" class=\"dataframe\">\n",
       "  <thead>\n",
       "    <tr style=\"text-align: right;\">\n",
       "      <th></th>\n",
       "      <th>Unnamed: 0</th>\n",
       "      <th>gameId</th>\n",
       "      <th>playId</th>\n",
       "      <th>frameId</th>\n",
       "      <th>nflId</th>\n",
       "      <th>x.x</th>\n",
       "      <th>y.x</th>\n",
       "      <th>dist</th>\n",
       "      <th>dist_to_qb</th>\n",
       "      <th>area</th>\n",
       "      <th>dir</th>\n",
       "      <th>force</th>\n",
       "      <th>x_force</th>\n",
       "      <th>y_force</th>\n",
       "      <th>pff_role</th>\n",
       "    </tr>\n",
       "  </thead>\n",
       "  <tbody>\n",
       "    <tr>\n",
       "      <th>0</th>\n",
       "      <td>1</td>\n",
       "      <td>2021090900</td>\n",
       "      <td>1078</td>\n",
       "      <td>1</td>\n",
       "      <td>37082</td>\n",
       "      <td>15.33</td>\n",
       "      <td>33.05</td>\n",
       "      <td>3.145100</td>\n",
       "      <td>4.455581</td>\n",
       "      <td>94.9405</td>\n",
       "      <td>266.94</td>\n",
       "      <td>128.000002</td>\n",
       "      <td>127.817497</td>\n",
       "      <td>-6.832851</td>\n",
       "      <td>Pass Block</td>\n",
       "    </tr>\n",
       "    <tr>\n",
       "      <th>1</th>\n",
       "      <td>2</td>\n",
       "      <td>2021090900</td>\n",
       "      <td>1078</td>\n",
       "      <td>1</td>\n",
       "      <td>42654</td>\n",
       "      <td>15.35</td>\n",
       "      <td>26.90</td>\n",
       "      <td>3.025854</td>\n",
       "      <td>4.279685</td>\n",
       "      <td>94.9405</td>\n",
       "      <td>330.79</td>\n",
       "      <td>3.200000</td>\n",
       "      <td>1.561638</td>\n",
       "      <td>2.793078</td>\n",
       "      <td>Pass Block</td>\n",
       "    </tr>\n",
       "    <tr>\n",
       "      <th>2</th>\n",
       "      <td>3</td>\n",
       "      <td>2021090900</td>\n",
       "      <td>1078</td>\n",
       "      <td>1</td>\n",
       "      <td>46119</td>\n",
       "      <td>15.76</td>\n",
       "      <td>31.50</td>\n",
       "      <td>1.592674</td>\n",
       "      <td>3.891786</td>\n",
       "      <td>94.9405</td>\n",
       "      <td>288.55</td>\n",
       "      <td>381.439991</td>\n",
       "      <td>361.622834</td>\n",
       "      <td>121.348230</td>\n",
       "      <td>Pass Block</td>\n",
       "    </tr>\n",
       "  </tbody>\n",
       "</table>\n",
       "</div>"
      ],
      "text/plain": [
       "   Unnamed: 0      gameId  playId  frameId  nflId    x.x    y.x      dist  \\\n",
       "0           1  2021090900    1078        1  37082  15.33  33.05  3.145100   \n",
       "1           2  2021090900    1078        1  42654  15.35  26.90  3.025854   \n",
       "2           3  2021090900    1078        1  46119  15.76  31.50  1.592674   \n",
       "\n",
       "   dist_to_qb     area     dir       force     x_force     y_force    pff_role  \n",
       "0    4.455581  94.9405  266.94  128.000002  127.817497   -6.832851  Pass Block  \n",
       "1    4.279685  94.9405  330.79    3.200000    1.561638    2.793078  Pass Block  \n",
       "2    3.891786  94.9405  288.55  381.439991  361.622834  121.348230  Pass Block  "
      ]
     },
     "execution_count": 21,
     "metadata": {},
     "output_type": "execute_result"
    }
   ],
   "source": [
    "df=pd.read_csv(\"/Users/joonghochoi/Desktop/NFLBigDataBowl/NFL/combined_per_player_block.csv\")\n",
    "df.head(3)"
   ]
  },
  {
   "cell_type": "code",
   "execution_count": 22,
   "id": "c8374156",
   "metadata": {},
   "outputs": [
    {
     "data": {
      "text/html": [
       "<div>\n",
       "<style scoped>\n",
       "    .dataframe tbody tr th:only-of-type {\n",
       "        vertical-align: middle;\n",
       "    }\n",
       "\n",
       "    .dataframe tbody tr th {\n",
       "        vertical-align: top;\n",
       "    }\n",
       "\n",
       "    .dataframe thead th {\n",
       "        text-align: right;\n",
       "    }\n",
       "</style>\n",
       "<table border=\"1\" class=\"dataframe\">\n",
       "  <thead>\n",
       "    <tr style=\"text-align: right;\">\n",
       "      <th></th>\n",
       "      <th>Unnamed: 0</th>\n",
       "      <th>gameId</th>\n",
       "      <th>playId</th>\n",
       "      <th>frameId</th>\n",
       "      <th>nflId</th>\n",
       "      <th>x.x</th>\n",
       "      <th>y.x</th>\n",
       "      <th>dist</th>\n",
       "      <th>dist_to_qb</th>\n",
       "      <th>area</th>\n",
       "      <th>dir</th>\n",
       "      <th>force</th>\n",
       "      <th>x_force</th>\n",
       "      <th>y_force</th>\n",
       "      <th>pff_role</th>\n",
       "    </tr>\n",
       "  </thead>\n",
       "  <tbody>\n",
       "    <tr>\n",
       "      <th>0</th>\n",
       "      <td>1</td>\n",
       "      <td>2021090900</td>\n",
       "      <td>1078</td>\n",
       "      <td>1</td>\n",
       "      <td>34777</td>\n",
       "      <td>17.26</td>\n",
       "      <td>31.84</td>\n",
       "      <td>1.579377</td>\n",
       "      <td>5.403739</td>\n",
       "      <td>85.2136</td>\n",
       "      <td>0.90</td>\n",
       "      <td>43.400000</td>\n",
       "      <td>-0.681698</td>\n",
       "      <td>43.394646</td>\n",
       "      <td>Pass Rush</td>\n",
       "    </tr>\n",
       "    <tr>\n",
       "      <th>1</th>\n",
       "      <td>2</td>\n",
       "      <td>2021090900</td>\n",
       "      <td>1078</td>\n",
       "      <td>1</td>\n",
       "      <td>35454</td>\n",
       "      <td>17.29</td>\n",
       "      <td>35.06</td>\n",
       "      <td>4.795798</td>\n",
       "      <td>7.262981</td>\n",
       "      <td>85.2136</td>\n",
       "      <td>269.25</td>\n",
       "      <td>16.500000</td>\n",
       "      <td>16.498586</td>\n",
       "      <td>-0.215978</td>\n",
       "      <td>Pass Rush</td>\n",
       "    </tr>\n",
       "    <tr>\n",
       "      <th>2</th>\n",
       "      <td>3</td>\n",
       "      <td>2021090900</td>\n",
       "      <td>1078</td>\n",
       "      <td>1</td>\n",
       "      <td>41915</td>\n",
       "      <td>17.53</td>\n",
       "      <td>24.72</td>\n",
       "      <td>5.547097</td>\n",
       "      <td>7.361963</td>\n",
       "      <td>85.2136</td>\n",
       "      <td>305.98</td>\n",
       "      <td>200.000003</td>\n",
       "      <td>161.844404</td>\n",
       "      <td>117.500596</td>\n",
       "      <td>Pass Rush</td>\n",
       "    </tr>\n",
       "  </tbody>\n",
       "</table>\n",
       "</div>"
      ],
      "text/plain": [
       "   Unnamed: 0      gameId  playId  frameId  nflId    x.x    y.x      dist  \\\n",
       "0           1  2021090900    1078        1  34777  17.26  31.84  1.579377   \n",
       "1           2  2021090900    1078        1  35454  17.29  35.06  4.795798   \n",
       "2           3  2021090900    1078        1  41915  17.53  24.72  5.547097   \n",
       "\n",
       "   dist_to_qb     area     dir       force     x_force     y_force   pff_role  \n",
       "0    5.403739  85.2136    0.90   43.400000   -0.681698   43.394646  Pass Rush  \n",
       "1    7.262981  85.2136  269.25   16.500000   16.498586   -0.215978  Pass Rush  \n",
       "2    7.361963  85.2136  305.98  200.000003  161.844404  117.500596  Pass Rush  "
      ]
     },
     "execution_count": 22,
     "metadata": {},
     "output_type": "execute_result"
    }
   ],
   "source": [
    "df1=pd.read_csv(\"/Users/joonghochoi/Desktop/NFLBigDataBowl/NFL/combined_per_player_rush.csv\")\n",
    "df1.head(3)"
   ]
  },
  {
   "cell_type": "code",
   "execution_count": 83,
   "id": "fa6cbdf9",
   "metadata": {},
   "outputs": [
    {
     "name": "stdout",
     "output_type": "stream",
     "text": [
      "{'Pass Block'}\n",
      "{'Pass Rush'}\n",
      "(243576, 15)\n",
      "(180877, 15)\n",
      "(1118122, 21)\n"
     ]
    }
   ],
   "source": [
    "print(set(df.pff_role))\n",
    "print(set(df1.pff_role))\n",
    "print(df.shape)\n",
    "print(df1.shape)\n",
    "print(df2.shape)"
   ]
  },
  {
   "cell_type": "code",
   "execution_count": 27,
   "id": "a5c10c34",
   "metadata": {},
   "outputs": [
    {
     "name": "stdout",
     "output_type": "stream",
     "text": [
      "(424453, 15)\n"
     ]
    },
    {
     "data": {
      "text/html": [
       "<div>\n",
       "<style scoped>\n",
       "    .dataframe tbody tr th:only-of-type {\n",
       "        vertical-align: middle;\n",
       "    }\n",
       "\n",
       "    .dataframe tbody tr th {\n",
       "        vertical-align: top;\n",
       "    }\n",
       "\n",
       "    .dataframe thead th {\n",
       "        text-align: right;\n",
       "    }\n",
       "</style>\n",
       "<table border=\"1\" class=\"dataframe\">\n",
       "  <thead>\n",
       "    <tr style=\"text-align: right;\">\n",
       "      <th></th>\n",
       "      <th>Unnamed: 0</th>\n",
       "      <th>gameId</th>\n",
       "      <th>playId</th>\n",
       "      <th>frameId</th>\n",
       "      <th>nflId</th>\n",
       "      <th>x.x</th>\n",
       "      <th>y.x</th>\n",
       "      <th>dist</th>\n",
       "      <th>dist_to_qb</th>\n",
       "      <th>area</th>\n",
       "      <th>dir</th>\n",
       "      <th>force</th>\n",
       "      <th>x_force</th>\n",
       "      <th>y_force</th>\n",
       "      <th>pff_role</th>\n",
       "    </tr>\n",
       "  </thead>\n",
       "  <tbody>\n",
       "    <tr>\n",
       "      <th>0</th>\n",
       "      <td>1</td>\n",
       "      <td>2021090900</td>\n",
       "      <td>1078</td>\n",
       "      <td>1</td>\n",
       "      <td>37082</td>\n",
       "      <td>15.33</td>\n",
       "      <td>33.05</td>\n",
       "      <td>3.145100</td>\n",
       "      <td>4.455581</td>\n",
       "      <td>94.9405</td>\n",
       "      <td>266.94</td>\n",
       "      <td>128.000002</td>\n",
       "      <td>127.817497</td>\n",
       "      <td>-6.832851</td>\n",
       "      <td>Pass Block</td>\n",
       "    </tr>\n",
       "    <tr>\n",
       "      <th>1</th>\n",
       "      <td>2</td>\n",
       "      <td>2021090900</td>\n",
       "      <td>1078</td>\n",
       "      <td>1</td>\n",
       "      <td>42654</td>\n",
       "      <td>15.35</td>\n",
       "      <td>26.90</td>\n",
       "      <td>3.025854</td>\n",
       "      <td>4.279685</td>\n",
       "      <td>94.9405</td>\n",
       "      <td>330.79</td>\n",
       "      <td>3.200000</td>\n",
       "      <td>1.561638</td>\n",
       "      <td>2.793078</td>\n",
       "      <td>Pass Block</td>\n",
       "    </tr>\n",
       "    <tr>\n",
       "      <th>2</th>\n",
       "      <td>3</td>\n",
       "      <td>2021090900</td>\n",
       "      <td>1078</td>\n",
       "      <td>1</td>\n",
       "      <td>46119</td>\n",
       "      <td>15.76</td>\n",
       "      <td>31.50</td>\n",
       "      <td>1.592674</td>\n",
       "      <td>3.891786</td>\n",
       "      <td>94.9405</td>\n",
       "      <td>288.55</td>\n",
       "      <td>381.439991</td>\n",
       "      <td>361.622834</td>\n",
       "      <td>121.348230</td>\n",
       "      <td>Pass Block</td>\n",
       "    </tr>\n",
       "  </tbody>\n",
       "</table>\n",
       "</div>"
      ],
      "text/plain": [
       "   Unnamed: 0      gameId  playId  frameId  nflId    x.x    y.x      dist  \\\n",
       "0           1  2021090900    1078        1  37082  15.33  33.05  3.145100   \n",
       "1           2  2021090900    1078        1  42654  15.35  26.90  3.025854   \n",
       "2           3  2021090900    1078        1  46119  15.76  31.50  1.592674   \n",
       "\n",
       "   dist_to_qb     area     dir       force     x_force     y_force    pff_role  \n",
       "0    4.455581  94.9405  266.94  128.000002  127.817497   -6.832851  Pass Block  \n",
       "1    4.279685  94.9405  330.79    3.200000    1.561638    2.793078  Pass Block  \n",
       "2    3.891786  94.9405  288.55  381.439991  361.622834  121.348230  Pass Block  "
      ]
     },
     "execution_count": 27,
     "metadata": {},
     "output_type": "execute_result"
    }
   ],
   "source": [
    "frames = [df,df1]\n",
    "\n",
    "result = pd.concat(frames)\n",
    "print(result.shape)\n",
    "result.head(3)"
   ]
  },
  {
   "cell_type": "code",
   "execution_count": 29,
   "id": "8fb6b881",
   "metadata": {},
   "outputs": [
    {
     "data": {
      "text/html": [
       "<div>\n",
       "<style scoped>\n",
       "    .dataframe tbody tr th:only-of-type {\n",
       "        vertical-align: middle;\n",
       "    }\n",
       "\n",
       "    .dataframe tbody tr th {\n",
       "        vertical-align: top;\n",
       "    }\n",
       "\n",
       "    .dataframe thead th {\n",
       "        text-align: right;\n",
       "    }\n",
       "</style>\n",
       "<table border=\"1\" class=\"dataframe\">\n",
       "  <thead>\n",
       "    <tr style=\"text-align: right;\">\n",
       "      <th></th>\n",
       "      <th>gameId</th>\n",
       "      <th>playId</th>\n",
       "      <th>frameId</th>\n",
       "      <th>nflId</th>\n",
       "      <th>x.x</th>\n",
       "      <th>y.x</th>\n",
       "      <th>dist</th>\n",
       "      <th>dist_to_qb</th>\n",
       "      <th>area</th>\n",
       "      <th>dir</th>\n",
       "      <th>force</th>\n",
       "      <th>x_force</th>\n",
       "      <th>y_force</th>\n",
       "      <th>pff_role</th>\n",
       "    </tr>\n",
       "  </thead>\n",
       "  <tbody>\n",
       "    <tr>\n",
       "      <th>0</th>\n",
       "      <td>2021090900</td>\n",
       "      <td>1078</td>\n",
       "      <td>1</td>\n",
       "      <td>37082</td>\n",
       "      <td>15.33</td>\n",
       "      <td>33.05</td>\n",
       "      <td>3.145100</td>\n",
       "      <td>4.455581</td>\n",
       "      <td>94.9405</td>\n",
       "      <td>266.94</td>\n",
       "      <td>128.000002</td>\n",
       "      <td>127.817497</td>\n",
       "      <td>-6.832851</td>\n",
       "      <td>Pass Block</td>\n",
       "    </tr>\n",
       "    <tr>\n",
       "      <th>1</th>\n",
       "      <td>2021090900</td>\n",
       "      <td>1078</td>\n",
       "      <td>1</td>\n",
       "      <td>42654</td>\n",
       "      <td>15.35</td>\n",
       "      <td>26.90</td>\n",
       "      <td>3.025854</td>\n",
       "      <td>4.279685</td>\n",
       "      <td>94.9405</td>\n",
       "      <td>330.79</td>\n",
       "      <td>3.200000</td>\n",
       "      <td>1.561638</td>\n",
       "      <td>2.793078</td>\n",
       "      <td>Pass Block</td>\n",
       "    </tr>\n",
       "    <tr>\n",
       "      <th>2</th>\n",
       "      <td>2021090900</td>\n",
       "      <td>1078</td>\n",
       "      <td>1</td>\n",
       "      <td>46119</td>\n",
       "      <td>15.76</td>\n",
       "      <td>31.50</td>\n",
       "      <td>1.592674</td>\n",
       "      <td>3.891786</td>\n",
       "      <td>94.9405</td>\n",
       "      <td>288.55</td>\n",
       "      <td>381.439991</td>\n",
       "      <td>361.622834</td>\n",
       "      <td>121.348230</td>\n",
       "      <td>Pass Block</td>\n",
       "    </tr>\n",
       "  </tbody>\n",
       "</table>\n",
       "</div>"
      ],
      "text/plain": [
       "       gameId  playId  frameId  nflId    x.x    y.x      dist  dist_to_qb  \\\n",
       "0  2021090900    1078        1  37082  15.33  33.05  3.145100    4.455581   \n",
       "1  2021090900    1078        1  42654  15.35  26.90  3.025854    4.279685   \n",
       "2  2021090900    1078        1  46119  15.76  31.50  1.592674    3.891786   \n",
       "\n",
       "      area     dir       force     x_force     y_force    pff_role  \n",
       "0  94.9405  266.94  128.000002  127.817497   -6.832851  Pass Block  \n",
       "1  94.9405  330.79    3.200000    1.561638    2.793078  Pass Block  \n",
       "2  94.9405  288.55  381.439991  361.622834  121.348230  Pass Block  "
      ]
     },
     "execution_count": 29,
     "metadata": {},
     "output_type": "execute_result"
    }
   ],
   "source": [
    "result=result.drop(columns=['Unnamed: 0'])\n",
    "result.head(3)"
   ]
  },
  {
   "cell_type": "code",
   "execution_count": 34,
   "id": "4c0be3fb",
   "metadata": {},
   "outputs": [
    {
     "name": "stdout",
     "output_type": "stream",
     "text": [
      "{'Pass Rush', 'Pass Block'}\n"
     ]
    }
   ],
   "source": [
    "print(set(result.pff_role))\n"
   ]
  },
  {
   "cell_type": "code",
   "execution_count": 84,
   "id": "6944dbf9",
   "metadata": {},
   "outputs": [
    {
     "data": {
      "text/html": [
       "<div>\n",
       "<style scoped>\n",
       "    .dataframe tbody tr th:only-of-type {\n",
       "        vertical-align: middle;\n",
       "    }\n",
       "\n",
       "    .dataframe tbody tr th {\n",
       "        vertical-align: top;\n",
       "    }\n",
       "\n",
       "    .dataframe thead th {\n",
       "        text-align: right;\n",
       "    }\n",
       "</style>\n",
       "<table border=\"1\" class=\"dataframe\">\n",
       "  <thead>\n",
       "    <tr style=\"text-align: right;\">\n",
       "      <th></th>\n",
       "      <th>gameId</th>\n",
       "      <th>playId</th>\n",
       "      <th>nflId</th>\n",
       "      <th>pff_role</th>\n",
       "      <th>pff_positionLinedUp</th>\n",
       "      <th>pff_hit</th>\n",
       "      <th>pff_hurry</th>\n",
       "      <th>pff_sack</th>\n",
       "      <th>pff_beatenByDefender</th>\n",
       "      <th>pff_hitAllowed</th>\n",
       "      <th>pff_hurryAllowed</th>\n",
       "      <th>pff_sackAllowed</th>\n",
       "      <th>pff_nflIdBlockedPlayer</th>\n",
       "      <th>pff_blockType</th>\n",
       "      <th>pff_backFieldBlock</th>\n",
       "    </tr>\n",
       "  </thead>\n",
       "  <tbody>\n",
       "    <tr>\n",
       "      <th>0</th>\n",
       "      <td>2021090900</td>\n",
       "      <td>97</td>\n",
       "      <td>25511</td>\n",
       "      <td>Pass</td>\n",
       "      <td>QB</td>\n",
       "      <td>NaN</td>\n",
       "      <td>NaN</td>\n",
       "      <td>NaN</td>\n",
       "      <td>NaN</td>\n",
       "      <td>NaN</td>\n",
       "      <td>NaN</td>\n",
       "      <td>NaN</td>\n",
       "      <td>NaN</td>\n",
       "      <td>NaN</td>\n",
       "      <td>NaN</td>\n",
       "    </tr>\n",
       "    <tr>\n",
       "      <th>1</th>\n",
       "      <td>2021090900</td>\n",
       "      <td>97</td>\n",
       "      <td>35481</td>\n",
       "      <td>Pass Route</td>\n",
       "      <td>TE-L</td>\n",
       "      <td>NaN</td>\n",
       "      <td>NaN</td>\n",
       "      <td>NaN</td>\n",
       "      <td>NaN</td>\n",
       "      <td>NaN</td>\n",
       "      <td>NaN</td>\n",
       "      <td>NaN</td>\n",
       "      <td>NaN</td>\n",
       "      <td>NaN</td>\n",
       "      <td>NaN</td>\n",
       "    </tr>\n",
       "    <tr>\n",
       "      <th>2</th>\n",
       "      <td>2021090900</td>\n",
       "      <td>97</td>\n",
       "      <td>35634</td>\n",
       "      <td>Pass Route</td>\n",
       "      <td>LWR</td>\n",
       "      <td>NaN</td>\n",
       "      <td>NaN</td>\n",
       "      <td>NaN</td>\n",
       "      <td>NaN</td>\n",
       "      <td>NaN</td>\n",
       "      <td>NaN</td>\n",
       "      <td>NaN</td>\n",
       "      <td>NaN</td>\n",
       "      <td>NaN</td>\n",
       "      <td>NaN</td>\n",
       "    </tr>\n",
       "  </tbody>\n",
       "</table>\n",
       "</div>"
      ],
      "text/plain": [
       "       gameId  playId  nflId    pff_role pff_positionLinedUp  pff_hit  \\\n",
       "0  2021090900      97  25511        Pass                  QB      NaN   \n",
       "1  2021090900      97  35481  Pass Route                TE-L      NaN   \n",
       "2  2021090900      97  35634  Pass Route                 LWR      NaN   \n",
       "\n",
       "   pff_hurry  pff_sack  pff_beatenByDefender  pff_hitAllowed  \\\n",
       "0        NaN       NaN                   NaN             NaN   \n",
       "1        NaN       NaN                   NaN             NaN   \n",
       "2        NaN       NaN                   NaN             NaN   \n",
       "\n",
       "   pff_hurryAllowed  pff_sackAllowed  pff_nflIdBlockedPlayer pff_blockType  \\\n",
       "0               NaN              NaN                     NaN           NaN   \n",
       "1               NaN              NaN                     NaN           NaN   \n",
       "2               NaN              NaN                     NaN           NaN   \n",
       "\n",
       "   pff_backFieldBlock  \n",
       "0                 NaN  \n",
       "1                 NaN  \n",
       "2                 NaN  "
      ]
     },
     "execution_count": 84,
     "metadata": {},
     "output_type": "execute_result"
    }
   ],
   "source": [
    "df2=pd.read_csv(\"/Users/joonghochoi/Desktop/NFLBigDataBowl/NFL/2023/pffScoutingData.csv\")\n",
    "set(df2.playId)"
   ]
  },
  {
   "cell_type": "code",
   "execution_count": 86,
   "id": "d1bb1608",
   "metadata": {},
   "outputs": [
    {
     "data": {
      "text/html": [
       "<div>\n",
       "<style scoped>\n",
       "    .dataframe tbody tr th:only-of-type {\n",
       "        vertical-align: middle;\n",
       "    }\n",
       "\n",
       "    .dataframe tbody tr th {\n",
       "        vertical-align: top;\n",
       "    }\n",
       "\n",
       "    .dataframe thead th {\n",
       "        text-align: right;\n",
       "    }\n",
       "</style>\n",
       "<table border=\"1\" class=\"dataframe\">\n",
       "  <thead>\n",
       "    <tr style=\"text-align: right;\">\n",
       "      <th></th>\n",
       "      <th>gameId</th>\n",
       "      <th>playId</th>\n",
       "      <th>nflId</th>\n",
       "      <th>pff_hit</th>\n",
       "      <th>pff_hurry</th>\n",
       "      <th>pff_sack</th>\n",
       "    </tr>\n",
       "  </thead>\n",
       "  <tbody>\n",
       "    <tr>\n",
       "      <th>0</th>\n",
       "      <td>2021090900</td>\n",
       "      <td>97</td>\n",
       "      <td>25511</td>\n",
       "      <td>NaN</td>\n",
       "      <td>NaN</td>\n",
       "      <td>NaN</td>\n",
       "    </tr>\n",
       "    <tr>\n",
       "      <th>1</th>\n",
       "      <td>2021090900</td>\n",
       "      <td>97</td>\n",
       "      <td>35481</td>\n",
       "      <td>NaN</td>\n",
       "      <td>NaN</td>\n",
       "      <td>NaN</td>\n",
       "    </tr>\n",
       "    <tr>\n",
       "      <th>2</th>\n",
       "      <td>2021090900</td>\n",
       "      <td>97</td>\n",
       "      <td>35634</td>\n",
       "      <td>NaN</td>\n",
       "      <td>NaN</td>\n",
       "      <td>NaN</td>\n",
       "    </tr>\n",
       "  </tbody>\n",
       "</table>\n",
       "</div>"
      ],
      "text/plain": [
       "       gameId  playId  nflId  pff_hit  pff_hurry  pff_sack\n",
       "0  2021090900      97  25511      NaN        NaN       NaN\n",
       "1  2021090900      97  35481      NaN        NaN       NaN\n",
       "2  2021090900      97  35634      NaN        NaN       NaN"
      ]
     },
     "execution_count": 86,
     "metadata": {},
     "output_type": "execute_result"
    }
   ],
   "source": [
    "df3=df2[df2.columns[df2.columns.isin(['gameId','playId','nflId','pff_hit','pff_hurry','pff_sack'])]]\n",
    "df3.head(3)"
   ]
  },
  {
   "cell_type": "code",
   "execution_count": 87,
   "id": "37bab1aa",
   "metadata": {},
   "outputs": [
    {
     "name": "stdout",
     "output_type": "stream",
     "text": [
      "(424453, 14)\n",
      "(188254, 6)\n"
     ]
    }
   ],
   "source": [
    "print(result.shape)\n",
    "print(df3.shape)"
   ]
  },
  {
   "cell_type": "code",
   "execution_count": 91,
   "id": "cf14df00",
   "metadata": {},
   "outputs": [],
   "source": [
    "df4=df3.merge(result, left_on=['gameId','playId','nflId'],right_on=['gameId','playId','nflId'])"
   ]
  },
  {
   "cell_type": "code",
   "execution_count": 93,
   "id": "bdcb39fe",
   "metadata": {},
   "outputs": [
    {
     "name": "stdout",
     "output_type": "stream",
     "text": [
      "(424453, 17)\n"
     ]
    },
    {
     "data": {
      "text/html": [
       "<div>\n",
       "<style scoped>\n",
       "    .dataframe tbody tr th:only-of-type {\n",
       "        vertical-align: middle;\n",
       "    }\n",
       "\n",
       "    .dataframe tbody tr th {\n",
       "        vertical-align: top;\n",
       "    }\n",
       "\n",
       "    .dataframe thead th {\n",
       "        text-align: right;\n",
       "    }\n",
       "</style>\n",
       "<table border=\"1\" class=\"dataframe\">\n",
       "  <thead>\n",
       "    <tr style=\"text-align: right;\">\n",
       "      <th></th>\n",
       "      <th>gameId</th>\n",
       "      <th>playId</th>\n",
       "      <th>nflId</th>\n",
       "      <th>pff_hit</th>\n",
       "      <th>pff_hurry</th>\n",
       "      <th>pff_sack</th>\n",
       "      <th>frameId</th>\n",
       "      <th>x.x</th>\n",
       "      <th>y.x</th>\n",
       "      <th>dist</th>\n",
       "      <th>dist_to_qb</th>\n",
       "      <th>area</th>\n",
       "      <th>dir</th>\n",
       "      <th>force</th>\n",
       "      <th>x_force</th>\n",
       "      <th>y_force</th>\n",
       "      <th>pff_role</th>\n",
       "    </tr>\n",
       "  </thead>\n",
       "  <tbody>\n",
       "    <tr>\n",
       "      <th>0</th>\n",
       "      <td>2021090900</td>\n",
       "      <td>97</td>\n",
       "      <td>40151</td>\n",
       "      <td>NaN</td>\n",
       "      <td>NaN</td>\n",
       "      <td>NaN</td>\n",
       "      <td>1</td>\n",
       "      <td>42.10</td>\n",
       "      <td>24.02</td>\n",
       "      <td>0.521145</td>\n",
       "      <td>4.466453</td>\n",
       "      <td>90.3112</td>\n",
       "      <td>308.34</td>\n",
       "      <td>631.620006</td>\n",
       "      <td>495.407066</td>\n",
       "      <td>391.810759</td>\n",
       "      <td>Pass Block</td>\n",
       "    </tr>\n",
       "    <tr>\n",
       "      <th>1</th>\n",
       "      <td>2021090900</td>\n",
       "      <td>97</td>\n",
       "      <td>40151</td>\n",
       "      <td>NaN</td>\n",
       "      <td>NaN</td>\n",
       "      <td>NaN</td>\n",
       "      <td>10</td>\n",
       "      <td>40.82</td>\n",
       "      <td>24.55</td>\n",
       "      <td>0.563368</td>\n",
       "      <td>4.500589</td>\n",
       "      <td>44.2454</td>\n",
       "      <td>285.24</td>\n",
       "      <td>175.450004</td>\n",
       "      <td>169.279999</td>\n",
       "      <td>46.119254</td>\n",
       "      <td>Pass Block</td>\n",
       "    </tr>\n",
       "  </tbody>\n",
       "</table>\n",
       "</div>"
      ],
      "text/plain": [
       "       gameId  playId  nflId  pff_hit  pff_hurry  pff_sack  frameId    x.x  \\\n",
       "0  2021090900      97  40151      NaN        NaN       NaN        1  42.10   \n",
       "1  2021090900      97  40151      NaN        NaN       NaN       10  40.82   \n",
       "\n",
       "     y.x      dist  dist_to_qb     area     dir       force     x_force  \\\n",
       "0  24.02  0.521145    4.466453  90.3112  308.34  631.620006  495.407066   \n",
       "1  24.55  0.563368    4.500589  44.2454  285.24  175.450004  169.279999   \n",
       "\n",
       "      y_force    pff_role  \n",
       "0  391.810759  Pass Block  \n",
       "1   46.119254  Pass Block  "
      ]
     },
     "execution_count": 93,
     "metadata": {},
     "output_type": "execute_result"
    }
   ],
   "source": [
    "print(df4.shape)\n",
    "df4.head(2)"
   ]
  },
  {
   "cell_type": "code",
   "execution_count": 96,
   "id": "9729952a",
   "metadata": {},
   "outputs": [
    {
     "name": "stdout",
     "output_type": "stream",
     "text": [
      "(180877, 17)\n"
     ]
    },
    {
     "data": {
      "text/html": [
       "<div>\n",
       "<style scoped>\n",
       "    .dataframe tbody tr th:only-of-type {\n",
       "        vertical-align: middle;\n",
       "    }\n",
       "\n",
       "    .dataframe tbody tr th {\n",
       "        vertical-align: top;\n",
       "    }\n",
       "\n",
       "    .dataframe thead th {\n",
       "        text-align: right;\n",
       "    }\n",
       "</style>\n",
       "<table border=\"1\" class=\"dataframe\">\n",
       "  <thead>\n",
       "    <tr style=\"text-align: right;\">\n",
       "      <th></th>\n",
       "      <th>gameId</th>\n",
       "      <th>playId</th>\n",
       "      <th>nflId</th>\n",
       "      <th>pff_hit</th>\n",
       "      <th>pff_hurry</th>\n",
       "      <th>pff_sack</th>\n",
       "      <th>frameId</th>\n",
       "      <th>x.x</th>\n",
       "      <th>y.x</th>\n",
       "      <th>dist</th>\n",
       "      <th>dist_to_qb</th>\n",
       "      <th>area</th>\n",
       "      <th>dir</th>\n",
       "      <th>force</th>\n",
       "      <th>x_force</th>\n",
       "      <th>y_force</th>\n",
       "      <th>pff_role</th>\n",
       "    </tr>\n",
       "  </thead>\n",
       "  <tbody>\n",
       "    <tr>\n",
       "      <th>33</th>\n",
       "      <td>2021090900</td>\n",
       "      <td>97</td>\n",
       "      <td>41263</td>\n",
       "      <td>0.0</td>\n",
       "      <td>1.0</td>\n",
       "      <td>0.0</td>\n",
       "      <td>1</td>\n",
       "      <td>43.30</td>\n",
       "      <td>18.89</td>\n",
       "      <td>6.935151</td>\n",
       "      <td>7.802083</td>\n",
       "      <td>271.4125</td>\n",
       "      <td>288.76</td>\n",
       "      <td>238.499994</td>\n",
       "      <td>225.829433</td>\n",
       "      <td>76.702765</td>\n",
       "      <td>Pass Rush</td>\n",
       "    </tr>\n",
       "    <tr>\n",
       "      <th>34</th>\n",
       "      <td>2021090900</td>\n",
       "      <td>97</td>\n",
       "      <td>41263</td>\n",
       "      <td>0.0</td>\n",
       "      <td>1.0</td>\n",
       "      <td>0.0</td>\n",
       "      <td>10</td>\n",
       "      <td>41.42</td>\n",
       "      <td>19.90</td>\n",
       "      <td>5.793641</td>\n",
       "      <td>6.604150</td>\n",
       "      <td>0.0000</td>\n",
       "      <td>310.65</td>\n",
       "      <td>363.050001</td>\n",
       "      <td>275.447190</td>\n",
       "      <td>236.504014</td>\n",
       "      <td>Pass Rush</td>\n",
       "    </tr>\n",
       "  </tbody>\n",
       "</table>\n",
       "</div>"
      ],
      "text/plain": [
       "        gameId  playId  nflId  pff_hit  pff_hurry  pff_sack  frameId    x.x  \\\n",
       "33  2021090900      97  41263      0.0        1.0       0.0        1  43.30   \n",
       "34  2021090900      97  41263      0.0        1.0       0.0       10  41.42   \n",
       "\n",
       "      y.x      dist  dist_to_qb      area     dir       force     x_force  \\\n",
       "33  18.89  6.935151    7.802083  271.4125  288.76  238.499994  225.829433   \n",
       "34  19.90  5.793641    6.604150    0.0000  310.65  363.050001  275.447190   \n",
       "\n",
       "       y_force   pff_role  \n",
       "33   76.702765  Pass Rush  \n",
       "34  236.504014  Pass Rush  "
      ]
     },
     "execution_count": 96,
     "metadata": {},
     "output_type": "execute_result"
    }
   ],
   "source": [
    "df5=df4.dropna()\n",
    "print(df5.shape)\n",
    "df5.head(2)"
   ]
  },
  {
   "cell_type": "code",
   "execution_count": 107,
   "id": "0790715d",
   "metadata": {},
   "outputs": [
    {
     "name": "stderr",
     "output_type": "stream",
     "text": [
      "<ipython-input-107-f56a258df7df>:1: SettingWithCopyWarning: \n",
      "A value is trying to be set on a copy of a slice from a DataFrame.\n",
      "Try using .loc[row_indexer,col_indexer] = value instead\n",
      "\n",
      "See the caveats in the documentation: https://pandas.pydata.org/pandas-docs/stable/user_guide/indexing.html#returning-a-view-versus-a-copy\n",
      "  df5['outcome']=0\n"
     ]
    }
   ],
   "source": [
    "df5['outcome']=0\n",
    "df5.loc[df5['pff_hurry'] == 1, 'outcome']='Hurry'\n",
    "df5.loc[df5['pff_hit'] == 1, 'outcome']='Hit'\n",
    "df5.loc[df5['pff_sack'] == 1, 'outcome']='Sack'"
   ]
  },
  {
   "cell_type": "code",
   "execution_count": 109,
   "id": "81ae7e16",
   "metadata": {},
   "outputs": [
    {
     "data": {
      "text/html": [
       "<div>\n",
       "<style scoped>\n",
       "    .dataframe tbody tr th:only-of-type {\n",
       "        vertical-align: middle;\n",
       "    }\n",
       "\n",
       "    .dataframe tbody tr th {\n",
       "        vertical-align: top;\n",
       "    }\n",
       "\n",
       "    .dataframe thead th {\n",
       "        text-align: right;\n",
       "    }\n",
       "</style>\n",
       "<table border=\"1\" class=\"dataframe\">\n",
       "  <thead>\n",
       "    <tr style=\"text-align: right;\">\n",
       "      <th></th>\n",
       "      <th>gameId</th>\n",
       "      <th>playId</th>\n",
       "      <th>nflId</th>\n",
       "      <th>pff_hit</th>\n",
       "      <th>pff_hurry</th>\n",
       "      <th>pff_sack</th>\n",
       "      <th>frameId</th>\n",
       "      <th>x.x</th>\n",
       "      <th>y.x</th>\n",
       "      <th>dist</th>\n",
       "      <th>dist_to_qb</th>\n",
       "      <th>area</th>\n",
       "      <th>dir</th>\n",
       "      <th>force</th>\n",
       "      <th>x_force</th>\n",
       "      <th>y_force</th>\n",
       "      <th>pff_role</th>\n",
       "      <th>outcome</th>\n",
       "    </tr>\n",
       "  </thead>\n",
       "  <tbody>\n",
       "    <tr>\n",
       "      <th>33</th>\n",
       "      <td>2021090900</td>\n",
       "      <td>97</td>\n",
       "      <td>41263</td>\n",
       "      <td>0.0</td>\n",
       "      <td>1.0</td>\n",
       "      <td>0.0</td>\n",
       "      <td>1</td>\n",
       "      <td>43.30</td>\n",
       "      <td>18.89</td>\n",
       "      <td>6.935151</td>\n",
       "      <td>7.802083</td>\n",
       "      <td>271.4125</td>\n",
       "      <td>288.76</td>\n",
       "      <td>238.499994</td>\n",
       "      <td>225.829433</td>\n",
       "      <td>76.702765</td>\n",
       "      <td>Pass Rush</td>\n",
       "      <td>Hurry</td>\n",
       "    </tr>\n",
       "    <tr>\n",
       "      <th>34</th>\n",
       "      <td>2021090900</td>\n",
       "      <td>97</td>\n",
       "      <td>41263</td>\n",
       "      <td>0.0</td>\n",
       "      <td>1.0</td>\n",
       "      <td>0.0</td>\n",
       "      <td>10</td>\n",
       "      <td>41.42</td>\n",
       "      <td>19.90</td>\n",
       "      <td>5.793641</td>\n",
       "      <td>6.604150</td>\n",
       "      <td>0.0000</td>\n",
       "      <td>310.65</td>\n",
       "      <td>363.050001</td>\n",
       "      <td>275.447190</td>\n",
       "      <td>236.504014</td>\n",
       "      <td>Pass Rush</td>\n",
       "      <td>Hurry</td>\n",
       "    </tr>\n",
       "  </tbody>\n",
       "</table>\n",
       "</div>"
      ],
      "text/plain": [
       "        gameId  playId  nflId  pff_hit  pff_hurry  pff_sack  frameId    x.x  \\\n",
       "33  2021090900      97  41263      0.0        1.0       0.0        1  43.30   \n",
       "34  2021090900      97  41263      0.0        1.0       0.0       10  41.42   \n",
       "\n",
       "      y.x      dist  dist_to_qb      area     dir       force     x_force  \\\n",
       "33  18.89  6.935151    7.802083  271.4125  288.76  238.499994  225.829433   \n",
       "34  19.90  5.793641    6.604150    0.0000  310.65  363.050001  275.447190   \n",
       "\n",
       "       y_force   pff_role outcome  \n",
       "33   76.702765  Pass Rush   Hurry  \n",
       "34  236.504014  Pass Rush   Hurry  "
      ]
     },
     "execution_count": 109,
     "metadata": {},
     "output_type": "execute_result"
    }
   ],
   "source": [
    "df5.head(2)"
   ]
  },
  {
   "cell_type": "code",
   "execution_count": 110,
   "id": "9e0b793e",
   "metadata": {},
   "outputs": [
    {
     "data": {
      "text/html": [
       "<div>\n",
       "<style scoped>\n",
       "    .dataframe tbody tr th:only-of-type {\n",
       "        vertical-align: middle;\n",
       "    }\n",
       "\n",
       "    .dataframe tbody tr th {\n",
       "        vertical-align: top;\n",
       "    }\n",
       "\n",
       "    .dataframe thead th {\n",
       "        text-align: right;\n",
       "    }\n",
       "</style>\n",
       "<table border=\"1\" class=\"dataframe\">\n",
       "  <thead>\n",
       "    <tr style=\"text-align: right;\">\n",
       "      <th></th>\n",
       "      <th>pff_hit</th>\n",
       "      <th>pff_hurry</th>\n",
       "      <th>pff_sack</th>\n",
       "      <th>frameId</th>\n",
       "      <th>x.x</th>\n",
       "      <th>y.x</th>\n",
       "      <th>dist</th>\n",
       "      <th>dist_to_qb</th>\n",
       "      <th>area</th>\n",
       "      <th>dir</th>\n",
       "      <th>force</th>\n",
       "      <th>x_force</th>\n",
       "      <th>y_force</th>\n",
       "      <th>pff_role</th>\n",
       "      <th>outcome</th>\n",
       "    </tr>\n",
       "  </thead>\n",
       "  <tbody>\n",
       "    <tr>\n",
       "      <th>33</th>\n",
       "      <td>0.0</td>\n",
       "      <td>1.0</td>\n",
       "      <td>0.0</td>\n",
       "      <td>1</td>\n",
       "      <td>43.30</td>\n",
       "      <td>18.89</td>\n",
       "      <td>6.935151</td>\n",
       "      <td>7.802083</td>\n",
       "      <td>271.4125</td>\n",
       "      <td>288.76</td>\n",
       "      <td>238.499994</td>\n",
       "      <td>225.829433</td>\n",
       "      <td>76.702765</td>\n",
       "      <td>Pass Rush</td>\n",
       "      <td>Hurry</td>\n",
       "    </tr>\n",
       "    <tr>\n",
       "      <th>34</th>\n",
       "      <td>0.0</td>\n",
       "      <td>1.0</td>\n",
       "      <td>0.0</td>\n",
       "      <td>10</td>\n",
       "      <td>41.42</td>\n",
       "      <td>19.90</td>\n",
       "      <td>5.793641</td>\n",
       "      <td>6.604150</td>\n",
       "      <td>0.0000</td>\n",
       "      <td>310.65</td>\n",
       "      <td>363.050001</td>\n",
       "      <td>275.447190</td>\n",
       "      <td>236.504014</td>\n",
       "      <td>Pass Rush</td>\n",
       "      <td>Hurry</td>\n",
       "    </tr>\n",
       "    <tr>\n",
       "      <th>35</th>\n",
       "      <td>0.0</td>\n",
       "      <td>1.0</td>\n",
       "      <td>0.0</td>\n",
       "      <td>11</td>\n",
       "      <td>41.18</td>\n",
       "      <td>20.13</td>\n",
       "      <td>5.511346</td>\n",
       "      <td>6.447271</td>\n",
       "      <td>0.0000</td>\n",
       "      <td>314.12</td>\n",
       "      <td>347.149985</td>\n",
       "      <td>249.213209</td>\n",
       "      <td>241.673102</td>\n",
       "      <td>Pass Rush</td>\n",
       "      <td>Hurry</td>\n",
       "    </tr>\n",
       "  </tbody>\n",
       "</table>\n",
       "</div>"
      ],
      "text/plain": [
       "    pff_hit  pff_hurry  pff_sack  frameId    x.x    y.x      dist  dist_to_qb  \\\n",
       "33      0.0        1.0       0.0        1  43.30  18.89  6.935151    7.802083   \n",
       "34      0.0        1.0       0.0       10  41.42  19.90  5.793641    6.604150   \n",
       "35      0.0        1.0       0.0       11  41.18  20.13  5.511346    6.447271   \n",
       "\n",
       "        area     dir       force     x_force     y_force   pff_role outcome  \n",
       "33  271.4125  288.76  238.499994  225.829433   76.702765  Pass Rush   Hurry  \n",
       "34    0.0000  310.65  363.050001  275.447190  236.504014  Pass Rush   Hurry  \n",
       "35    0.0000  314.12  347.149985  249.213209  241.673102  Pass Rush   Hurry  "
      ]
     },
     "execution_count": 110,
     "metadata": {},
     "output_type": "execute_result"
    }
   ],
   "source": [
    "x_df=df5[df5.columns[~df5.columns.isin(['gameId','playId','nflId','outcome'])]]\n",
    "x_df.head(3)"
   ]
  },
  {
   "cell_type": "code",
   "execution_count": 116,
   "id": "56f9b30a",
   "metadata": {},
   "outputs": [
    {
     "data": {
      "text/html": [
       "<div>\n",
       "<style scoped>\n",
       "    .dataframe tbody tr th:only-of-type {\n",
       "        vertical-align: middle;\n",
       "    }\n",
       "\n",
       "    .dataframe tbody tr th {\n",
       "        vertical-align: top;\n",
       "    }\n",
       "\n",
       "    .dataframe thead th {\n",
       "        text-align: right;\n",
       "    }\n",
       "</style>\n",
       "<table border=\"1\" class=\"dataframe\">\n",
       "  <thead>\n",
       "    <tr style=\"text-align: right;\">\n",
       "      <th></th>\n",
       "      <th>outcome</th>\n",
       "    </tr>\n",
       "  </thead>\n",
       "  <tbody>\n",
       "    <tr>\n",
       "      <th>33</th>\n",
       "      <td>Hurry</td>\n",
       "    </tr>\n",
       "    <tr>\n",
       "      <th>34</th>\n",
       "      <td>Hurry</td>\n",
       "    </tr>\n",
       "    <tr>\n",
       "      <th>35</th>\n",
       "      <td>Hurry</td>\n",
       "    </tr>\n",
       "  </tbody>\n",
       "</table>\n",
       "</div>"
      ],
      "text/plain": [
       "   outcome\n",
       "33   Hurry\n",
       "34   Hurry\n",
       "35   Hurry"
      ]
     },
     "execution_count": 116,
     "metadata": {},
     "output_type": "execute_result"
    }
   ],
   "source": [
    "y_df=df5[df5.columns[df5.columns.isin(['outcome'])]]\n",
    "y_df.head(3)"
   ]
  },
  {
   "cell_type": "code",
   "execution_count": null,
   "id": "dd253a70",
   "metadata": {},
   "outputs": [],
   "source": []
  },
  {
   "cell_type": "code",
   "execution_count": null,
   "id": "bd91b9bf",
   "metadata": {},
   "outputs": [],
   "source": [
    "#continue from here using Jing chun's."
   ]
  },
  {
   "cell_type": "code",
   "execution_count": 2,
   "id": "8b3c2862",
   "metadata": {},
   "outputs": [
    {
     "data": {
      "text/html": [
       "<div>\n",
       "<style scoped>\n",
       "    .dataframe tbody tr th:only-of-type {\n",
       "        vertical-align: middle;\n",
       "    }\n",
       "\n",
       "    .dataframe tbody tr th {\n",
       "        vertical-align: top;\n",
       "    }\n",
       "\n",
       "    .dataframe thead th {\n",
       "        text-align: right;\n",
       "    }\n",
       "</style>\n",
       "<table border=\"1\" class=\"dataframe\">\n",
       "  <thead>\n",
       "    <tr style=\"text-align: right;\">\n",
       "      <th></th>\n",
       "      <th>Unnamed: 0</th>\n",
       "      <th>playId</th>\n",
       "      <th>gameId.x</th>\n",
       "      <th>frameId</th>\n",
       "      <th>dist_name</th>\n",
       "      <th>dist_to_qb_name</th>\n",
       "      <th>area_name</th>\n",
       "      <th>x_force_name</th>\n",
       "      <th>y_force_name</th>\n",
       "      <th>norm_weighted_x_name</th>\n",
       "      <th>norm_weighted_y_name</th>\n",
       "      <th>net_x_force_bottom_name</th>\n",
       "      <th>net_x_force_middle_name</th>\n",
       "      <th>net_x_force_top_name</th>\n",
       "      <th>net_y_force_bottom_name</th>\n",
       "      <th>net_y_force_middle_name</th>\n",
       "      <th>net_y_force_y_name</th>\n",
       "      <th>gameId.y</th>\n",
       "      <th>hit</th>\n",
       "      <th>hurry</th>\n",
       "      <th>sack</th>\n",
       "      <th>bad_thing</th>\n",
       "    </tr>\n",
       "  </thead>\n",
       "  <tbody>\n",
       "    <tr>\n",
       "      <th>0</th>\n",
       "      <td>1</td>\n",
       "      <td>55</td>\n",
       "      <td>2021091300</td>\n",
       "      <td>5</td>\n",
       "      <td>2.997692</td>\n",
       "      <td>4.280639</td>\n",
       "      <td>47.856033</td>\n",
       "      <td>-350.675972</td>\n",
       "      <td>18.667865</td>\n",
       "      <td>-336.460695</td>\n",
       "      <td>33.720778</td>\n",
       "      <td>0.0</td>\n",
       "      <td>-597.356840</td>\n",
       "      <td>-122.274350</td>\n",
       "      <td>0.0</td>\n",
       "      <td>-48.033561</td>\n",
       "      <td>281.792595</td>\n",
       "      <td>2021103112</td>\n",
       "      <td>0</td>\n",
       "      <td>1</td>\n",
       "      <td>1</td>\n",
       "      <td>1</td>\n",
       "    </tr>\n",
       "    <tr>\n",
       "      <th>1</th>\n",
       "      <td>2</td>\n",
       "      <td>55</td>\n",
       "      <td>2021091300</td>\n",
       "      <td>3</td>\n",
       "      <td>2.964995</td>\n",
       "      <td>4.353640</td>\n",
       "      <td>51.280733</td>\n",
       "      <td>-407.128155</td>\n",
       "      <td>38.829978</td>\n",
       "      <td>-392.110675</td>\n",
       "      <td>53.648174</td>\n",
       "      <td>0.0</td>\n",
       "      <td>60.448704</td>\n",
       "      <td>-86.818662</td>\n",
       "      <td>0.0</td>\n",
       "      <td>-11.572894</td>\n",
       "      <td>-38.766470</td>\n",
       "      <td>2021103112</td>\n",
       "      <td>0</td>\n",
       "      <td>1</td>\n",
       "      <td>1</td>\n",
       "      <td>1</td>\n",
       "    </tr>\n",
       "  </tbody>\n",
       "</table>\n",
       "</div>"
      ],
      "text/plain": [
       "   Unnamed: 0  playId    gameId.x  frameId  dist_name  dist_to_qb_name  \\\n",
       "0           1      55  2021091300        5   2.997692         4.280639   \n",
       "1           2      55  2021091300        3   2.964995         4.353640   \n",
       "\n",
       "   area_name  x_force_name  y_force_name  norm_weighted_x_name  \\\n",
       "0  47.856033   -350.675972     18.667865           -336.460695   \n",
       "1  51.280733   -407.128155     38.829978           -392.110675   \n",
       "\n",
       "   norm_weighted_y_name  net_x_force_bottom_name  net_x_force_middle_name  \\\n",
       "0             33.720778                      0.0              -597.356840   \n",
       "1             53.648174                      0.0                60.448704   \n",
       "\n",
       "   net_x_force_top_name  net_y_force_bottom_name  net_y_force_middle_name  \\\n",
       "0           -122.274350                      0.0               -48.033561   \n",
       "1            -86.818662                      0.0               -11.572894   \n",
       "\n",
       "   net_y_force_y_name    gameId.y  hit  hurry  sack  bad_thing  \n",
       "0          281.792595  2021103112    0      1     1          1  \n",
       "1          -38.766470  2021103112    0      1     1          1  "
      ]
     },
     "execution_count": 2,
     "metadata": {},
     "output_type": "execute_result"
    }
   ],
   "source": [
    "new_df=pd.read_csv(\"/Users/joonghochoi/Desktop/NFLBigDataBowl/NFL/2023/by_frame_all.csv\")\n",
    "new_df.head(2)"
   ]
  },
  {
   "cell_type": "code",
   "execution_count": 3,
   "id": "a1ed6f9d",
   "metadata": {},
   "outputs": [],
   "source": [
    "#new_df[new_df.bad_thing==0,]"
   ]
  },
  {
   "cell_type": "code",
   "execution_count": 4,
   "id": "4b1a0fdc",
   "metadata": {},
   "outputs": [
    {
     "name": "stdout",
     "output_type": "stream",
     "text": [
      "(36665, 15)\n"
     ]
    }
   ],
   "source": [
    "new_df1=new_df.drop(columns=['Unnamed: 0','playId','gameId.x','gameId.y','hit','hurry','sack'])\n",
    "print(new_df1.shape)\n"
   ]
  },
  {
   "cell_type": "code",
   "execution_count": 5,
   "id": "171fbd11",
   "metadata": {},
   "outputs": [
    {
     "data": {
      "text/html": [
       "<div>\n",
       "<style scoped>\n",
       "    .dataframe tbody tr th:only-of-type {\n",
       "        vertical-align: middle;\n",
       "    }\n",
       "\n",
       "    .dataframe tbody tr th {\n",
       "        vertical-align: top;\n",
       "    }\n",
       "\n",
       "    .dataframe thead th {\n",
       "        text-align: right;\n",
       "    }\n",
       "</style>\n",
       "<table border=\"1\" class=\"dataframe\">\n",
       "  <thead>\n",
       "    <tr style=\"text-align: right;\">\n",
       "      <th></th>\n",
       "      <th>frameId</th>\n",
       "      <th>dist_name</th>\n",
       "      <th>dist_to_qb_name</th>\n",
       "      <th>area_name</th>\n",
       "      <th>x_force_name</th>\n",
       "      <th>y_force_name</th>\n",
       "      <th>norm_weighted_x_name</th>\n",
       "      <th>norm_weighted_y_name</th>\n",
       "      <th>net_x_force_bottom_name</th>\n",
       "      <th>net_x_force_middle_name</th>\n",
       "      <th>net_x_force_top_name</th>\n",
       "      <th>net_y_force_bottom_name</th>\n",
       "      <th>net_y_force_middle_name</th>\n",
       "      <th>net_y_force_y_name</th>\n",
       "      <th>bad_thing</th>\n",
       "    </tr>\n",
       "  </thead>\n",
       "  <tbody>\n",
       "    <tr>\n",
       "      <th>0</th>\n",
       "      <td>5</td>\n",
       "      <td>2.997692</td>\n",
       "      <td>4.280639</td>\n",
       "      <td>47.856033</td>\n",
       "      <td>-350.675972</td>\n",
       "      <td>18.667865</td>\n",
       "      <td>-336.460695</td>\n",
       "      <td>33.720778</td>\n",
       "      <td>0.0</td>\n",
       "      <td>-597.356840</td>\n",
       "      <td>-122.274350</td>\n",
       "      <td>0.0</td>\n",
       "      <td>-48.033561</td>\n",
       "      <td>281.792595</td>\n",
       "      <td>1</td>\n",
       "    </tr>\n",
       "    <tr>\n",
       "      <th>1</th>\n",
       "      <td>3</td>\n",
       "      <td>2.964995</td>\n",
       "      <td>4.353640</td>\n",
       "      <td>51.280733</td>\n",
       "      <td>-407.128155</td>\n",
       "      <td>38.829978</td>\n",
       "      <td>-392.110675</td>\n",
       "      <td>53.648174</td>\n",
       "      <td>0.0</td>\n",
       "      <td>60.448704</td>\n",
       "      <td>-86.818662</td>\n",
       "      <td>0.0</td>\n",
       "      <td>-11.572894</td>\n",
       "      <td>-38.766470</td>\n",
       "      <td>1</td>\n",
       "    </tr>\n",
       "  </tbody>\n",
       "</table>\n",
       "</div>"
      ],
      "text/plain": [
       "   frameId  dist_name  dist_to_qb_name  area_name  x_force_name  y_force_name  \\\n",
       "0        5   2.997692         4.280639  47.856033   -350.675972     18.667865   \n",
       "1        3   2.964995         4.353640  51.280733   -407.128155     38.829978   \n",
       "\n",
       "   norm_weighted_x_name  norm_weighted_y_name  net_x_force_bottom_name  \\\n",
       "0           -336.460695             33.720778                      0.0   \n",
       "1           -392.110675             53.648174                      0.0   \n",
       "\n",
       "   net_x_force_middle_name  net_x_force_top_name  net_y_force_bottom_name  \\\n",
       "0              -597.356840           -122.274350                      0.0   \n",
       "1                60.448704            -86.818662                      0.0   \n",
       "\n",
       "   net_y_force_middle_name  net_y_force_y_name  bad_thing  \n",
       "0               -48.033561          281.792595          1  \n",
       "1               -11.572894          -38.766470          1  "
      ]
     },
     "execution_count": 5,
     "metadata": {},
     "output_type": "execute_result"
    }
   ],
   "source": [
    "new_df1.head(2)"
   ]
  },
  {
   "cell_type": "code",
   "execution_count": 6,
   "id": "bf98c418",
   "metadata": {},
   "outputs": [
    {
     "data": {
      "text/html": [
       "<div>\n",
       "<style scoped>\n",
       "    .dataframe tbody tr th:only-of-type {\n",
       "        vertical-align: middle;\n",
       "    }\n",
       "\n",
       "    .dataframe tbody tr th {\n",
       "        vertical-align: top;\n",
       "    }\n",
       "\n",
       "    .dataframe thead th {\n",
       "        text-align: right;\n",
       "    }\n",
       "</style>\n",
       "<table border=\"1\" class=\"dataframe\">\n",
       "  <thead>\n",
       "    <tr style=\"text-align: right;\">\n",
       "      <th></th>\n",
       "      <th>frameId</th>\n",
       "      <th>dist_name</th>\n",
       "      <th>dist_to_qb_name</th>\n",
       "      <th>area_name</th>\n",
       "      <th>x_force_name</th>\n",
       "      <th>y_force_name</th>\n",
       "      <th>norm_weighted_x_name</th>\n",
       "      <th>norm_weighted_y_name</th>\n",
       "      <th>net_x_force_bottom_name</th>\n",
       "      <th>net_x_force_middle_name</th>\n",
       "      <th>net_x_force_top_name</th>\n",
       "      <th>net_y_force_bottom_name</th>\n",
       "      <th>net_y_force_middle_name</th>\n",
       "      <th>net_y_force_y_name</th>\n",
       "    </tr>\n",
       "  </thead>\n",
       "  <tbody>\n",
       "    <tr>\n",
       "      <th>0</th>\n",
       "      <td>5</td>\n",
       "      <td>2.997692</td>\n",
       "      <td>4.280639</td>\n",
       "      <td>47.856033</td>\n",
       "      <td>-350.675972</td>\n",
       "      <td>18.667865</td>\n",
       "      <td>-336.460695</td>\n",
       "      <td>33.720778</td>\n",
       "      <td>0.0</td>\n",
       "      <td>-597.356840</td>\n",
       "      <td>-122.274350</td>\n",
       "      <td>0.0</td>\n",
       "      <td>-48.033561</td>\n",
       "      <td>281.792595</td>\n",
       "    </tr>\n",
       "    <tr>\n",
       "      <th>1</th>\n",
       "      <td>3</td>\n",
       "      <td>2.964995</td>\n",
       "      <td>4.353640</td>\n",
       "      <td>51.280733</td>\n",
       "      <td>-407.128155</td>\n",
       "      <td>38.829978</td>\n",
       "      <td>-392.110675</td>\n",
       "      <td>53.648174</td>\n",
       "      <td>0.0</td>\n",
       "      <td>60.448704</td>\n",
       "      <td>-86.818662</td>\n",
       "      <td>0.0</td>\n",
       "      <td>-11.572894</td>\n",
       "      <td>-38.766470</td>\n",
       "    </tr>\n",
       "    <tr>\n",
       "      <th>2</th>\n",
       "      <td>2</td>\n",
       "      <td>2.952259</td>\n",
       "      <td>4.371644</td>\n",
       "      <td>608.395633</td>\n",
       "      <td>-310.765476</td>\n",
       "      <td>39.107485</td>\n",
       "      <td>-298.388494</td>\n",
       "      <td>52.769109</td>\n",
       "      <td>0.0</td>\n",
       "      <td>2.063553</td>\n",
       "      <td>-36.320075</td>\n",
       "      <td>0.0</td>\n",
       "      <td>-6.810917</td>\n",
       "      <td>-32.231495</td>\n",
       "    </tr>\n",
       "  </tbody>\n",
       "</table>\n",
       "</div>"
      ],
      "text/plain": [
       "   frameId  dist_name  dist_to_qb_name   area_name  x_force_name  \\\n",
       "0        5   2.997692         4.280639   47.856033   -350.675972   \n",
       "1        3   2.964995         4.353640   51.280733   -407.128155   \n",
       "2        2   2.952259         4.371644  608.395633   -310.765476   \n",
       "\n",
       "   y_force_name  norm_weighted_x_name  norm_weighted_y_name  \\\n",
       "0     18.667865           -336.460695             33.720778   \n",
       "1     38.829978           -392.110675             53.648174   \n",
       "2     39.107485           -298.388494             52.769109   \n",
       "\n",
       "   net_x_force_bottom_name  net_x_force_middle_name  net_x_force_top_name  \\\n",
       "0                      0.0              -597.356840           -122.274350   \n",
       "1                      0.0                60.448704            -86.818662   \n",
       "2                      0.0                 2.063553            -36.320075   \n",
       "\n",
       "   net_y_force_bottom_name  net_y_force_middle_name  net_y_force_y_name  \n",
       "0                      0.0               -48.033561          281.792595  \n",
       "1                      0.0               -11.572894          -38.766470  \n",
       "2                      0.0                -6.810917          -32.231495  "
      ]
     },
     "execution_count": 6,
     "metadata": {},
     "output_type": "execute_result"
    }
   ],
   "source": [
    "x_df=new_df1[new_df1.columns[~new_df1.columns.isin(['bad_thing'])]]\n",
    "x_df.head(3)\n"
   ]
  },
  {
   "cell_type": "code",
   "execution_count": 7,
   "id": "53771509",
   "metadata": {},
   "outputs": [
    {
     "data": {
      "text/html": [
       "<div>\n",
       "<style scoped>\n",
       "    .dataframe tbody tr th:only-of-type {\n",
       "        vertical-align: middle;\n",
       "    }\n",
       "\n",
       "    .dataframe tbody tr th {\n",
       "        vertical-align: top;\n",
       "    }\n",
       "\n",
       "    .dataframe thead th {\n",
       "        text-align: right;\n",
       "    }\n",
       "</style>\n",
       "<table border=\"1\" class=\"dataframe\">\n",
       "  <thead>\n",
       "    <tr style=\"text-align: right;\">\n",
       "      <th></th>\n",
       "      <th>bad_thing</th>\n",
       "    </tr>\n",
       "  </thead>\n",
       "  <tbody>\n",
       "    <tr>\n",
       "      <th>0</th>\n",
       "      <td>1</td>\n",
       "    </tr>\n",
       "    <tr>\n",
       "      <th>1</th>\n",
       "      <td>1</td>\n",
       "    </tr>\n",
       "    <tr>\n",
       "      <th>2</th>\n",
       "      <td>1</td>\n",
       "    </tr>\n",
       "  </tbody>\n",
       "</table>\n",
       "</div>"
      ],
      "text/plain": [
       "   bad_thing\n",
       "0          1\n",
       "1          1\n",
       "2          1"
      ]
     },
     "execution_count": 7,
     "metadata": {},
     "output_type": "execute_result"
    }
   ],
   "source": [
    "y_df=new_df1[new_df1.columns[new_df1.columns.isin(['bad_thing'])]]\n",
    "y_df.head(3)"
   ]
  },
  {
   "cell_type": "code",
   "execution_count": 8,
   "id": "87241b4d",
   "metadata": {},
   "outputs": [
    {
     "name": "stdout",
     "output_type": "stream",
     "text": [
      "(26626, 1)\n",
      "(10039, 1)\n"
     ]
    }
   ],
   "source": [
    "bad=y_df.loc[y_df['bad_thing'] == 1]\n",
    "\n",
    "not_bad=y_df.loc[y_df['bad_thing'] == 0]\n",
    "\n",
    "\n",
    "print(bad.shape)\n",
    "print(not_bad.shape) #imbalanced as expected"
   ]
  },
  {
   "cell_type": "code",
   "execution_count": null,
   "id": "eaacd552",
   "metadata": {},
   "outputs": [],
   "source": []
  },
  {
   "cell_type": "code",
   "execution_count": 9,
   "id": "c8e96174",
   "metadata": {},
   "outputs": [],
   "source": [
    "X_train, X_test, y_train, y_test = train_test_split(x_df, y_df, test_size=0.33, random_state=42)"
   ]
  },
  {
   "cell_type": "code",
   "execution_count": 10,
   "id": "810903d9",
   "metadata": {},
   "outputs": [
    {
     "data": {
      "text/html": [
       "<div>\n",
       "<style scoped>\n",
       "    .dataframe tbody tr th:only-of-type {\n",
       "        vertical-align: middle;\n",
       "    }\n",
       "\n",
       "    .dataframe tbody tr th {\n",
       "        vertical-align: top;\n",
       "    }\n",
       "\n",
       "    .dataframe thead th {\n",
       "        text-align: right;\n",
       "    }\n",
       "</style>\n",
       "<table border=\"1\" class=\"dataframe\">\n",
       "  <thead>\n",
       "    <tr style=\"text-align: right;\">\n",
       "      <th></th>\n",
       "      <th>bad_thing</th>\n",
       "    </tr>\n",
       "  </thead>\n",
       "  <tbody>\n",
       "    <tr>\n",
       "      <th>32269</th>\n",
       "      <td>1</td>\n",
       "    </tr>\n",
       "    <tr>\n",
       "      <th>3181</th>\n",
       "      <td>1</td>\n",
       "    </tr>\n",
       "  </tbody>\n",
       "</table>\n",
       "</div>"
      ],
      "text/plain": [
       "       bad_thing\n",
       "32269          1\n",
       "3181           1"
      ]
     },
     "execution_count": 10,
     "metadata": {},
     "output_type": "execute_result"
    }
   ],
   "source": [
    "X_train.head(2)\n",
    "y_train.head(2)"
   ]
  },
  {
   "cell_type": "code",
   "execution_count": 11,
   "id": "cbec8f78",
   "metadata": {},
   "outputs": [
    {
     "name": "stderr",
     "output_type": "stream",
     "text": [
      "/usr/local/lib/python3.9/site-packages/xgboost/sklearn.py:1146: UserWarning: The use of label encoder in XGBClassifier is deprecated and will be removed in a future release. To remove this warning, do the following: 1) Pass option use_label_encoder=False when constructing XGBClassifier object; and 2) Encode your labels (y) as integers starting with 0, i.e. 0, 1, 2, ..., [num_class - 1].\n",
      "  warnings.warn(label_encoder_deprecation_msg, UserWarning)\n",
      "/usr/local/lib/python3.9/site-packages/sklearn/utils/validation.py:63: DataConversionWarning: A column-vector y was passed when a 1d array was expected. Please change the shape of y to (n_samples, ), for example using ravel().\n",
      "  return f(*args, **kwargs)\n"
     ]
    },
    {
     "name": "stdout",
     "output_type": "stream",
     "text": [
      "[22:38:21] WARNING: /Users/travis/build/dmlc/xgboost/src/learner.cc:1095: Starting in XGBoost 1.3.0, the default evaluation metric used with the objective 'binary:logistic' was changed from 'error' to 'logloss'. Explicitly set eval_metric if you'd like to restore the old behavior.\n"
     ]
    }
   ],
   "source": [
    "clf = xgb.XGBClassifier(max_depth=5, n_estimators=30,objective='binary:logistic')\n",
    "# clf = xgb.XGBClassifier(max_depth=5, objective='multi:softprob', n_estimators=1000, \n",
    "#                         num_classes=2)\n",
    "\n",
    "clf.fit(X_train, y_train)  \n",
    "pred = clf.predict(X_test)"
   ]
  },
  {
   "cell_type": "code",
   "execution_count": 12,
   "id": "84a5a70a",
   "metadata": {},
   "outputs": [
    {
     "name": "stdout",
     "output_type": "stream",
     "text": [
      "Accuracy of Model:: 0.7378512396694215\n"
     ]
    }
   ],
   "source": [
    "\n",
    "print(\"Accuracy of Model::\",accuracy_score(y_test,pred))\n",
    "\n"
   ]
  },
  {
   "cell_type": "code",
   "execution_count": null,
   "id": "2f81d4c4",
   "metadata": {},
   "outputs": [],
   "source": []
  },
  {
   "cell_type": "code",
   "execution_count": 33,
   "id": "3da7e39f",
   "metadata": {},
   "outputs": [
    {
     "data": {
      "text/html": [
       "<div>\n",
       "<style scoped>\n",
       "    .dataframe tbody tr th:only-of-type {\n",
       "        vertical-align: middle;\n",
       "    }\n",
       "\n",
       "    .dataframe tbody tr th {\n",
       "        vertical-align: top;\n",
       "    }\n",
       "\n",
       "    .dataframe thead th {\n",
       "        text-align: right;\n",
       "    }\n",
       "</style>\n",
       "<table border=\"1\" class=\"dataframe\">\n",
       "  <thead>\n",
       "    <tr style=\"text-align: right;\">\n",
       "      <th></th>\n",
       "      <th>frameId</th>\n",
       "      <th>dist_name</th>\n",
       "      <th>dist_to_qb_name</th>\n",
       "      <th>area_name</th>\n",
       "      <th>x_force_name</th>\n",
       "      <th>y_force_name</th>\n",
       "      <th>norm_weighted_x_name</th>\n",
       "      <th>norm_weighted_y_name</th>\n",
       "      <th>net_x_force_bottom_name</th>\n",
       "      <th>net_x_force_middle_name</th>\n",
       "      <th>net_x_force_top_name</th>\n",
       "      <th>net_y_force_bottom_name</th>\n",
       "      <th>net_y_force_middle_name</th>\n",
       "      <th>net_y_force_y_name</th>\n",
       "      <th>bad_thing</th>\n",
       "      <th>net_xy_force_middle_ratio</th>\n",
       "      <th>net_xy_force_top_ratio</th>\n",
       "      <th>dist_to_qb_ratio_area</th>\n",
       "    </tr>\n",
       "  </thead>\n",
       "  <tbody>\n",
       "    <tr>\n",
       "      <th>0</th>\n",
       "      <td>5</td>\n",
       "      <td>2.997692</td>\n",
       "      <td>4.280639</td>\n",
       "      <td>47.856033</td>\n",
       "      <td>-350.675972</td>\n",
       "      <td>18.667865</td>\n",
       "      <td>-336.460695</td>\n",
       "      <td>33.720778</td>\n",
       "      <td>0.0</td>\n",
       "      <td>-597.356840</td>\n",
       "      <td>-122.274350</td>\n",
       "      <td>0.0</td>\n",
       "      <td>-48.033561</td>\n",
       "      <td>281.792595</td>\n",
       "      <td>1</td>\n",
       "      <td>12.436239</td>\n",
       "      <td>-0.433916</td>\n",
       "      <td>0.089448</td>\n",
       "    </tr>\n",
       "    <tr>\n",
       "      <th>1</th>\n",
       "      <td>3</td>\n",
       "      <td>2.964995</td>\n",
       "      <td>4.353640</td>\n",
       "      <td>51.280733</td>\n",
       "      <td>-407.128155</td>\n",
       "      <td>38.829978</td>\n",
       "      <td>-392.110675</td>\n",
       "      <td>53.648174</td>\n",
       "      <td>0.0</td>\n",
       "      <td>60.448704</td>\n",
       "      <td>-86.818662</td>\n",
       "      <td>0.0</td>\n",
       "      <td>-11.572894</td>\n",
       "      <td>-38.766470</td>\n",
       "      <td>1</td>\n",
       "      <td>-5.223300</td>\n",
       "      <td>2.239530</td>\n",
       "      <td>0.084898</td>\n",
       "    </tr>\n",
       "  </tbody>\n",
       "</table>\n",
       "</div>"
      ],
      "text/plain": [
       "   frameId  dist_name  dist_to_qb_name  area_name  x_force_name  y_force_name  \\\n",
       "0        5   2.997692         4.280639  47.856033   -350.675972     18.667865   \n",
       "1        3   2.964995         4.353640  51.280733   -407.128155     38.829978   \n",
       "\n",
       "   norm_weighted_x_name  norm_weighted_y_name  net_x_force_bottom_name  \\\n",
       "0           -336.460695             33.720778                      0.0   \n",
       "1           -392.110675             53.648174                      0.0   \n",
       "\n",
       "   net_x_force_middle_name  net_x_force_top_name  net_y_force_bottom_name  \\\n",
       "0              -597.356840           -122.274350                      0.0   \n",
       "1                60.448704            -86.818662                      0.0   \n",
       "\n",
       "   net_y_force_middle_name  net_y_force_y_name  bad_thing  \\\n",
       "0               -48.033561          281.792595          1   \n",
       "1               -11.572894          -38.766470          1   \n",
       "\n",
       "   net_xy_force_middle_ratio  net_xy_force_top_ratio  dist_to_qb_ratio_area  \n",
       "0                  12.436239               -0.433916               0.089448  \n",
       "1                  -5.223300                2.239530               0.084898  "
      ]
     },
     "execution_count": 33,
     "metadata": {},
     "output_type": "execute_result"
    }
   ],
   "source": [
    "#check before feature engineering \n",
    "\n",
    "new_df2=copy.deepcopy(new_df1)\n",
    "new_df2['net_xy_force_middle_ratio']=new_df2['net_x_force_middle_name']/new_df2['net_y_force_middle_name']\n",
    "new_df2['net_xy_force_top_ratio']=new_df2['net_x_force_top_name']/new_df2['net_y_force_y_name']\n",
    "new_df2['dist_to_qb_ratio_area']=new_df2['dist_to_qb_name']/new_df2['area_name']\n",
    "new_df2.head(2)"
   ]
  },
  {
   "cell_type": "code",
   "execution_count": 34,
   "id": "5969abef",
   "metadata": {},
   "outputs": [
    {
     "name": "stdout",
     "output_type": "stream",
     "text": [
      "False\n"
     ]
    }
   ],
   "source": [
    "\n",
    "new_df2.replace([np.inf, -np.inf], np.nan, inplace=True)\n",
    "# Drop rows with NaN\n",
    "new_df2.dropna(inplace=True)\n",
    "print(new_df2.isnull().values.any())\n"
   ]
  },
  {
   "cell_type": "code",
   "execution_count": 35,
   "id": "f0351a15",
   "metadata": {},
   "outputs": [],
   "source": [
    "x_df1=new_df2[new_df2.columns[~new_df2.columns.isin(['bad_thing'])]]\n",
    "y_df1=new_df2[new_df2.columns[new_df2.columns.isin(['bad_thing'])]]"
   ]
  },
  {
   "cell_type": "code",
   "execution_count": 36,
   "id": "92de0972",
   "metadata": {},
   "outputs": [
    {
     "name": "stdout",
     "output_type": "stream",
     "text": [
      "Infinity values...  0\n"
     ]
    }
   ],
   "source": [
    "count = np.isinf(new_df2).values.sum()\n",
    "print(\"Infinity values... \",count)"
   ]
  },
  {
   "cell_type": "code",
   "execution_count": 37,
   "id": "a3551d71",
   "metadata": {},
   "outputs": [],
   "source": [
    "X_train, X_test, y_train, y_test = train_test_split(x_df1, y_df1, test_size=0.33, random_state=42)"
   ]
  },
  {
   "cell_type": "code",
   "execution_count": 38,
   "id": "922c10f4",
   "metadata": {},
   "outputs": [
    {
     "name": "stdout",
     "output_type": "stream",
     "text": [
      "(18401, 17)\n",
      "(9064, 17)\n",
      "(18401, 1)\n",
      "(9064, 1)\n"
     ]
    }
   ],
   "source": [
    "# print(X_train.shape)\n",
    "# print(X_test.shape)\n",
    "# print(y_train.shape)\n",
    "# print(y_test.shape)\n",
    "\n",
    "# print(X_train.isnull().values.any())\n",
    "# print(X_test.isnull().values.any())\n",
    "# print(y_train.isnull().values.any())\n",
    "# print(y_test.isnull().values.any())"
   ]
  },
  {
   "cell_type": "code",
   "execution_count": 40,
   "id": "c0a9eaac",
   "metadata": {},
   "outputs": [
    {
     "name": "stderr",
     "output_type": "stream",
     "text": [
      "/usr/local/lib/python3.9/site-packages/xgboost/sklearn.py:1146: UserWarning: The use of label encoder in XGBClassifier is deprecated and will be removed in a future release. To remove this warning, do the following: 1) Pass option use_label_encoder=False when constructing XGBClassifier object; and 2) Encode your labels (y) as integers starting with 0, i.e. 0, 1, 2, ..., [num_class - 1].\n",
      "  warnings.warn(label_encoder_deprecation_msg, UserWarning)\n",
      "/usr/local/lib/python3.9/site-packages/sklearn/utils/validation.py:63: DataConversionWarning: A column-vector y was passed when a 1d array was expected. Please change the shape of y to (n_samples, ), for example using ravel().\n",
      "  return f(*args, **kwargs)\n"
     ]
    },
    {
     "name": "stdout",
     "output_type": "stream",
     "text": [
      "[22:47:36] WARNING: /Users/travis/build/dmlc/xgboost/src/learner.cc:1095: Starting in XGBoost 1.3.0, the default evaluation metric used with the objective 'binary:logistic' was changed from 'error' to 'logloss'. Explicitly set eval_metric if you'd like to restore the old behavior.\n"
     ]
    }
   ],
   "source": [
    "clf = xgb.XGBClassifier(max_depth=5, n_estimators=30,objective='binary:logistic')\n",
    "# clf = xgb.XGBClassifier(max_depth=5, objective='multi:softprob', n_estimators=1000, \n",
    "#                         num_classes=2)\n",
    "\n",
    "clf.fit(X_train, y_train)  \n",
    "pred = clf.predict(X_test)"
   ]
  },
  {
   "cell_type": "code",
   "execution_count": 41,
   "id": "8fa71f1a",
   "metadata": {},
   "outputs": [
    {
     "name": "stdout",
     "output_type": "stream",
     "text": [
      "Accuracy of Model:: 0.7220873786407767\n"
     ]
    }
   ],
   "source": [
    "print(\"Accuracy of Model::\",accuracy_score(y_test,pred))\n",
    "\n",
    "#didn't perform better"
   ]
  },
  {
   "cell_type": "code",
   "execution_count": null,
   "id": "b905c25a",
   "metadata": {},
   "outputs": [],
   "source": []
  },
  {
   "cell_type": "code",
   "execution_count": 48,
   "id": "444d8405",
   "metadata": {},
   "outputs": [],
   "source": [
    "#grid search\n",
    "from sklearn.model_selection import StratifiedKFold\n",
    "from sklearn.model_selection import RandomizedSearchCV, GridSearchCV\n",
    "from sklearn.metrics import roc_auc_score\n",
    "\n",
    "parameters = {\n",
    "              'objective':['binary:logistic'],\n",
    "              'learning_rate': [0.05], #so called `eta` value\n",
    "              'max_depth': [4,5,6],\n",
    "              'subsample': [0.8],\n",
    "              'colsample_bytree': [0.7],\n",
    "              'n_estimators': [30,40,50] #number of trees, change it to 1000 for better results\n",
    "            }"
   ]
  },
  {
   "cell_type": "code",
   "execution_count": 49,
   "id": "76fa01eb",
   "metadata": {},
   "outputs": [],
   "source": [
    "skf = StratifiedKFold(n_splits=4, shuffle = True, random_state = 42)\n",
    "\n",
    "random_search = RandomizedSearchCV(xgb.XGBClassifier(), param_distributions=parameters, scoring='roc_auc', cv=skf.split(x_df1, y_df1), verbose=3, random_state=42 )"
   ]
  },
  {
   "cell_type": "code",
   "execution_count": 50,
   "id": "b664d4ea",
   "metadata": {},
   "outputs": [
    {
     "name": "stderr",
     "output_type": "stream",
     "text": [
      "/usr/local/lib/python3.9/site-packages/sklearn/model_selection/_search.py:285: UserWarning: The total space of parameters 9 is smaller than n_iter=10. Running 9 iterations. For exhaustive searches, use GridSearchCV.\n",
      "  warnings.warn(\n",
      "/usr/local/lib/python3.9/site-packages/xgboost/sklearn.py:1146: UserWarning: The use of label encoder in XGBClassifier is deprecated and will be removed in a future release. To remove this warning, do the following: 1) Pass option use_label_encoder=False when constructing XGBClassifier object; and 2) Encode your labels (y) as integers starting with 0, i.e. 0, 1, 2, ..., [num_class - 1].\n",
      "  warnings.warn(label_encoder_deprecation_msg, UserWarning)\n",
      "/usr/local/lib/python3.9/site-packages/sklearn/utils/validation.py:63: DataConversionWarning: A column-vector y was passed when a 1d array was expected. Please change the shape of y to (n_samples, ), for example using ravel().\n",
      "  return f(*args, **kwargs)\n"
     ]
    },
    {
     "name": "stdout",
     "output_type": "stream",
     "text": [
      "Fitting 4 folds for each of 9 candidates, totalling 36 fits\n",
      "[23:00:09] WARNING: /Users/travis/build/dmlc/xgboost/src/learner.cc:1095: Starting in XGBoost 1.3.0, the default evaluation metric used with the objective 'binary:logistic' was changed from 'error' to 'logloss'. Explicitly set eval_metric if you'd like to restore the old behavior.\n",
      "[CV 1/4] END colsample_bytree=0.7, learning_rate=0.05, max_depth=4, n_estimators=30, objective=binary:logistic, subsample=0.8;, score=0.615 total time=   0.3s\n",
      "[23:00:10] WARNING: /Users/travis/build/dmlc/xgboost/src/learner.cc:1095: Starting in XGBoost 1.3.0, the default evaluation metric used with the objective 'binary:logistic' was changed from 'error' to 'logloss'. Explicitly set eval_metric if you'd like to restore the old behavior.\n"
     ]
    },
    {
     "name": "stderr",
     "output_type": "stream",
     "text": [
      "/usr/local/lib/python3.9/site-packages/xgboost/sklearn.py:1146: UserWarning: The use of label encoder in XGBClassifier is deprecated and will be removed in a future release. To remove this warning, do the following: 1) Pass option use_label_encoder=False when constructing XGBClassifier object; and 2) Encode your labels (y) as integers starting with 0, i.e. 0, 1, 2, ..., [num_class - 1].\n",
      "  warnings.warn(label_encoder_deprecation_msg, UserWarning)\n",
      "/usr/local/lib/python3.9/site-packages/sklearn/utils/validation.py:63: DataConversionWarning: A column-vector y was passed when a 1d array was expected. Please change the shape of y to (n_samples, ), for example using ravel().\n",
      "  return f(*args, **kwargs)\n"
     ]
    },
    {
     "name": "stdout",
     "output_type": "stream",
     "text": [
      "[CV 2/4] END colsample_bytree=0.7, learning_rate=0.05, max_depth=4, n_estimators=30, objective=binary:logistic, subsample=0.8;, score=0.610 total time=   0.3s\n",
      "[23:00:10] WARNING: /Users/travis/build/dmlc/xgboost/src/learner.cc:1095: Starting in XGBoost 1.3.0, the default evaluation metric used with the objective 'binary:logistic' was changed from 'error' to 'logloss'. Explicitly set eval_metric if you'd like to restore the old behavior.\n"
     ]
    },
    {
     "name": "stderr",
     "output_type": "stream",
     "text": [
      "/usr/local/lib/python3.9/site-packages/xgboost/sklearn.py:1146: UserWarning: The use of label encoder in XGBClassifier is deprecated and will be removed in a future release. To remove this warning, do the following: 1) Pass option use_label_encoder=False when constructing XGBClassifier object; and 2) Encode your labels (y) as integers starting with 0, i.e. 0, 1, 2, ..., [num_class - 1].\n",
      "  warnings.warn(label_encoder_deprecation_msg, UserWarning)\n",
      "/usr/local/lib/python3.9/site-packages/sklearn/utils/validation.py:63: DataConversionWarning: A column-vector y was passed when a 1d array was expected. Please change the shape of y to (n_samples, ), for example using ravel().\n",
      "  return f(*args, **kwargs)\n"
     ]
    },
    {
     "name": "stdout",
     "output_type": "stream",
     "text": [
      "[CV 3/4] END colsample_bytree=0.7, learning_rate=0.05, max_depth=4, n_estimators=30, objective=binary:logistic, subsample=0.8;, score=0.606 total time=   0.3s\n",
      "[23:00:10] WARNING: /Users/travis/build/dmlc/xgboost/src/learner.cc:1095: Starting in XGBoost 1.3.0, the default evaluation metric used with the objective 'binary:logistic' was changed from 'error' to 'logloss'. Explicitly set eval_metric if you'd like to restore the old behavior.\n"
     ]
    },
    {
     "name": "stderr",
     "output_type": "stream",
     "text": [
      "/usr/local/lib/python3.9/site-packages/xgboost/sklearn.py:1146: UserWarning: The use of label encoder in XGBClassifier is deprecated and will be removed in a future release. To remove this warning, do the following: 1) Pass option use_label_encoder=False when constructing XGBClassifier object; and 2) Encode your labels (y) as integers starting with 0, i.e. 0, 1, 2, ..., [num_class - 1].\n",
      "  warnings.warn(label_encoder_deprecation_msg, UserWarning)\n",
      "/usr/local/lib/python3.9/site-packages/sklearn/utils/validation.py:63: DataConversionWarning: A column-vector y was passed when a 1d array was expected. Please change the shape of y to (n_samples, ), for example using ravel().\n",
      "  return f(*args, **kwargs)\n"
     ]
    },
    {
     "name": "stdout",
     "output_type": "stream",
     "text": [
      "[CV 4/4] END colsample_bytree=0.7, learning_rate=0.05, max_depth=4, n_estimators=30, objective=binary:logistic, subsample=0.8;, score=0.615 total time=   0.3s\n",
      "[23:00:11] WARNING: /Users/travis/build/dmlc/xgboost/src/learner.cc:1095: Starting in XGBoost 1.3.0, the default evaluation metric used with the objective 'binary:logistic' was changed from 'error' to 'logloss'. Explicitly set eval_metric if you'd like to restore the old behavior.\n"
     ]
    },
    {
     "name": "stderr",
     "output_type": "stream",
     "text": [
      "/usr/local/lib/python3.9/site-packages/xgboost/sklearn.py:1146: UserWarning: The use of label encoder in XGBClassifier is deprecated and will be removed in a future release. To remove this warning, do the following: 1) Pass option use_label_encoder=False when constructing XGBClassifier object; and 2) Encode your labels (y) as integers starting with 0, i.e. 0, 1, 2, ..., [num_class - 1].\n",
      "  warnings.warn(label_encoder_deprecation_msg, UserWarning)\n",
      "/usr/local/lib/python3.9/site-packages/sklearn/utils/validation.py:63: DataConversionWarning: A column-vector y was passed when a 1d array was expected. Please change the shape of y to (n_samples, ), for example using ravel().\n",
      "  return f(*args, **kwargs)\n"
     ]
    },
    {
     "name": "stdout",
     "output_type": "stream",
     "text": [
      "[CV 1/4] END colsample_bytree=0.7, learning_rate=0.05, max_depth=4, n_estimators=40, objective=binary:logistic, subsample=0.8;, score=0.618 total time=   0.4s\n",
      "[23:00:11] WARNING: /Users/travis/build/dmlc/xgboost/src/learner.cc:1095: Starting in XGBoost 1.3.0, the default evaluation metric used with the objective 'binary:logistic' was changed from 'error' to 'logloss'. Explicitly set eval_metric if you'd like to restore the old behavior.\n"
     ]
    },
    {
     "name": "stderr",
     "output_type": "stream",
     "text": [
      "/usr/local/lib/python3.9/site-packages/xgboost/sklearn.py:1146: UserWarning: The use of label encoder in XGBClassifier is deprecated and will be removed in a future release. To remove this warning, do the following: 1) Pass option use_label_encoder=False when constructing XGBClassifier object; and 2) Encode your labels (y) as integers starting with 0, i.e. 0, 1, 2, ..., [num_class - 1].\n",
      "  warnings.warn(label_encoder_deprecation_msg, UserWarning)\n",
      "/usr/local/lib/python3.9/site-packages/sklearn/utils/validation.py:63: DataConversionWarning: A column-vector y was passed when a 1d array was expected. Please change the shape of y to (n_samples, ), for example using ravel().\n",
      "  return f(*args, **kwargs)\n"
     ]
    },
    {
     "name": "stdout",
     "output_type": "stream",
     "text": [
      "[CV 2/4] END colsample_bytree=0.7, learning_rate=0.05, max_depth=4, n_estimators=40, objective=binary:logistic, subsample=0.8;, score=0.617 total time=   0.4s\n",
      "[23:00:11] WARNING: /Users/travis/build/dmlc/xgboost/src/learner.cc:1095: Starting in XGBoost 1.3.0, the default evaluation metric used with the objective 'binary:logistic' was changed from 'error' to 'logloss'. Explicitly set eval_metric if you'd like to restore the old behavior.\n"
     ]
    },
    {
     "name": "stderr",
     "output_type": "stream",
     "text": [
      "/usr/local/lib/python3.9/site-packages/xgboost/sklearn.py:1146: UserWarning: The use of label encoder in XGBClassifier is deprecated and will be removed in a future release. To remove this warning, do the following: 1) Pass option use_label_encoder=False when constructing XGBClassifier object; and 2) Encode your labels (y) as integers starting with 0, i.e. 0, 1, 2, ..., [num_class - 1].\n",
      "  warnings.warn(label_encoder_deprecation_msg, UserWarning)\n",
      "/usr/local/lib/python3.9/site-packages/sklearn/utils/validation.py:63: DataConversionWarning: A column-vector y was passed when a 1d array was expected. Please change the shape of y to (n_samples, ), for example using ravel().\n",
      "  return f(*args, **kwargs)\n"
     ]
    },
    {
     "name": "stdout",
     "output_type": "stream",
     "text": [
      "[CV 3/4] END colsample_bytree=0.7, learning_rate=0.05, max_depth=4, n_estimators=40, objective=binary:logistic, subsample=0.8;, score=0.615 total time=   0.4s\n",
      "[23:00:12] WARNING: /Users/travis/build/dmlc/xgboost/src/learner.cc:1095: Starting in XGBoost 1.3.0, the default evaluation metric used with the objective 'binary:logistic' was changed from 'error' to 'logloss'. Explicitly set eval_metric if you'd like to restore the old behavior.\n"
     ]
    },
    {
     "name": "stderr",
     "output_type": "stream",
     "text": [
      "/usr/local/lib/python3.9/site-packages/xgboost/sklearn.py:1146: UserWarning: The use of label encoder in XGBClassifier is deprecated and will be removed in a future release. To remove this warning, do the following: 1) Pass option use_label_encoder=False when constructing XGBClassifier object; and 2) Encode your labels (y) as integers starting with 0, i.e. 0, 1, 2, ..., [num_class - 1].\n",
      "  warnings.warn(label_encoder_deprecation_msg, UserWarning)\n",
      "/usr/local/lib/python3.9/site-packages/sklearn/utils/validation.py:63: DataConversionWarning: A column-vector y was passed when a 1d array was expected. Please change the shape of y to (n_samples, ), for example using ravel().\n",
      "  return f(*args, **kwargs)\n"
     ]
    },
    {
     "name": "stdout",
     "output_type": "stream",
     "text": [
      "[CV 4/4] END colsample_bytree=0.7, learning_rate=0.05, max_depth=4, n_estimators=40, objective=binary:logistic, subsample=0.8;, score=0.622 total time=   0.4s\n",
      "[23:00:12] WARNING: /Users/travis/build/dmlc/xgboost/src/learner.cc:1095: Starting in XGBoost 1.3.0, the default evaluation metric used with the objective 'binary:logistic' was changed from 'error' to 'logloss'. Explicitly set eval_metric if you'd like to restore the old behavior.\n"
     ]
    },
    {
     "name": "stderr",
     "output_type": "stream",
     "text": [
      "/usr/local/lib/python3.9/site-packages/xgboost/sklearn.py:1146: UserWarning: The use of label encoder in XGBClassifier is deprecated and will be removed in a future release. To remove this warning, do the following: 1) Pass option use_label_encoder=False when constructing XGBClassifier object; and 2) Encode your labels (y) as integers starting with 0, i.e. 0, 1, 2, ..., [num_class - 1].\n",
      "  warnings.warn(label_encoder_deprecation_msg, UserWarning)\n",
      "/usr/local/lib/python3.9/site-packages/sklearn/utils/validation.py:63: DataConversionWarning: A column-vector y was passed when a 1d array was expected. Please change the shape of y to (n_samples, ), for example using ravel().\n",
      "  return f(*args, **kwargs)\n"
     ]
    },
    {
     "name": "stdout",
     "output_type": "stream",
     "text": [
      "[CV 1/4] END colsample_bytree=0.7, learning_rate=0.05, max_depth=4, n_estimators=50, objective=binary:logistic, subsample=0.8;, score=0.620 total time=   0.5s\n",
      "[23:00:13] WARNING: /Users/travis/build/dmlc/xgboost/src/learner.cc:1095: Starting in XGBoost 1.3.0, the default evaluation metric used with the objective 'binary:logistic' was changed from 'error' to 'logloss'. Explicitly set eval_metric if you'd like to restore the old behavior.\n"
     ]
    },
    {
     "name": "stderr",
     "output_type": "stream",
     "text": [
      "/usr/local/lib/python3.9/site-packages/xgboost/sklearn.py:1146: UserWarning: The use of label encoder in XGBClassifier is deprecated and will be removed in a future release. To remove this warning, do the following: 1) Pass option use_label_encoder=False when constructing XGBClassifier object; and 2) Encode your labels (y) as integers starting with 0, i.e. 0, 1, 2, ..., [num_class - 1].\n",
      "  warnings.warn(label_encoder_deprecation_msg, UserWarning)\n",
      "/usr/local/lib/python3.9/site-packages/sklearn/utils/validation.py:63: DataConversionWarning: A column-vector y was passed when a 1d array was expected. Please change the shape of y to (n_samples, ), for example using ravel().\n",
      "  return f(*args, **kwargs)\n"
     ]
    },
    {
     "name": "stdout",
     "output_type": "stream",
     "text": [
      "[CV 2/4] END colsample_bytree=0.7, learning_rate=0.05, max_depth=4, n_estimators=50, objective=binary:logistic, subsample=0.8;, score=0.623 total time=   0.5s\n",
      "[23:00:13] WARNING: /Users/travis/build/dmlc/xgboost/src/learner.cc:1095: Starting in XGBoost 1.3.0, the default evaluation metric used with the objective 'binary:logistic' was changed from 'error' to 'logloss'. Explicitly set eval_metric if you'd like to restore the old behavior.\n"
     ]
    },
    {
     "name": "stderr",
     "output_type": "stream",
     "text": [
      "/usr/local/lib/python3.9/site-packages/xgboost/sklearn.py:1146: UserWarning: The use of label encoder in XGBClassifier is deprecated and will be removed in a future release. To remove this warning, do the following: 1) Pass option use_label_encoder=False when constructing XGBClassifier object; and 2) Encode your labels (y) as integers starting with 0, i.e. 0, 1, 2, ..., [num_class - 1].\n",
      "  warnings.warn(label_encoder_deprecation_msg, UserWarning)\n",
      "/usr/local/lib/python3.9/site-packages/sklearn/utils/validation.py:63: DataConversionWarning: A column-vector y was passed when a 1d array was expected. Please change the shape of y to (n_samples, ), for example using ravel().\n",
      "  return f(*args, **kwargs)\n"
     ]
    },
    {
     "name": "stdout",
     "output_type": "stream",
     "text": [
      "[CV 3/4] END colsample_bytree=0.7, learning_rate=0.05, max_depth=4, n_estimators=50, objective=binary:logistic, subsample=0.8;, score=0.621 total time=   0.5s\n",
      "[23:00:14] WARNING: /Users/travis/build/dmlc/xgboost/src/learner.cc:1095: Starting in XGBoost 1.3.0, the default evaluation metric used with the objective 'binary:logistic' was changed from 'error' to 'logloss'. Explicitly set eval_metric if you'd like to restore the old behavior.\n"
     ]
    },
    {
     "name": "stderr",
     "output_type": "stream",
     "text": [
      "/usr/local/lib/python3.9/site-packages/xgboost/sklearn.py:1146: UserWarning: The use of label encoder in XGBClassifier is deprecated and will be removed in a future release. To remove this warning, do the following: 1) Pass option use_label_encoder=False when constructing XGBClassifier object; and 2) Encode your labels (y) as integers starting with 0, i.e. 0, 1, 2, ..., [num_class - 1].\n",
      "  warnings.warn(label_encoder_deprecation_msg, UserWarning)\n",
      "/usr/local/lib/python3.9/site-packages/sklearn/utils/validation.py:63: DataConversionWarning: A column-vector y was passed when a 1d array was expected. Please change the shape of y to (n_samples, ), for example using ravel().\n",
      "  return f(*args, **kwargs)\n"
     ]
    },
    {
     "name": "stdout",
     "output_type": "stream",
     "text": [
      "[CV 4/4] END colsample_bytree=0.7, learning_rate=0.05, max_depth=4, n_estimators=50, objective=binary:logistic, subsample=0.8;, score=0.628 total time=   0.5s\n",
      "[23:00:14] WARNING: /Users/travis/build/dmlc/xgboost/src/learner.cc:1095: Starting in XGBoost 1.3.0, the default evaluation metric used with the objective 'binary:logistic' was changed from 'error' to 'logloss'. Explicitly set eval_metric if you'd like to restore the old behavior.\n"
     ]
    },
    {
     "name": "stderr",
     "output_type": "stream",
     "text": [
      "/usr/local/lib/python3.9/site-packages/xgboost/sklearn.py:1146: UserWarning: The use of label encoder in XGBClassifier is deprecated and will be removed in a future release. To remove this warning, do the following: 1) Pass option use_label_encoder=False when constructing XGBClassifier object; and 2) Encode your labels (y) as integers starting with 0, i.e. 0, 1, 2, ..., [num_class - 1].\n",
      "  warnings.warn(label_encoder_deprecation_msg, UserWarning)\n",
      "/usr/local/lib/python3.9/site-packages/sklearn/utils/validation.py:63: DataConversionWarning: A column-vector y was passed when a 1d array was expected. Please change the shape of y to (n_samples, ), for example using ravel().\n",
      "  return f(*args, **kwargs)\n"
     ]
    },
    {
     "name": "stdout",
     "output_type": "stream",
     "text": [
      "[CV 1/4] END colsample_bytree=0.7, learning_rate=0.05, max_depth=5, n_estimators=30, objective=binary:logistic, subsample=0.8;, score=0.637 total time=   0.4s\n",
      "[23:00:15] WARNING: /Users/travis/build/dmlc/xgboost/src/learner.cc:1095: Starting in XGBoost 1.3.0, the default evaluation metric used with the objective 'binary:logistic' was changed from 'error' to 'logloss'. Explicitly set eval_metric if you'd like to restore the old behavior.\n"
     ]
    },
    {
     "name": "stderr",
     "output_type": "stream",
     "text": [
      "/usr/local/lib/python3.9/site-packages/xgboost/sklearn.py:1146: UserWarning: The use of label encoder in XGBClassifier is deprecated and will be removed in a future release. To remove this warning, do the following: 1) Pass option use_label_encoder=False when constructing XGBClassifier object; and 2) Encode your labels (y) as integers starting with 0, i.e. 0, 1, 2, ..., [num_class - 1].\n",
      "  warnings.warn(label_encoder_deprecation_msg, UserWarning)\n",
      "/usr/local/lib/python3.9/site-packages/sklearn/utils/validation.py:63: DataConversionWarning: A column-vector y was passed when a 1d array was expected. Please change the shape of y to (n_samples, ), for example using ravel().\n",
      "  return f(*args, **kwargs)\n"
     ]
    },
    {
     "name": "stdout",
     "output_type": "stream",
     "text": [
      "[CV 2/4] END colsample_bytree=0.7, learning_rate=0.05, max_depth=5, n_estimators=30, objective=binary:logistic, subsample=0.8;, score=0.633 total time=   0.4s\n",
      "[23:00:15] WARNING: /Users/travis/build/dmlc/xgboost/src/learner.cc:1095: Starting in XGBoost 1.3.0, the default evaluation metric used with the objective 'binary:logistic' was changed from 'error' to 'logloss'. Explicitly set eval_metric if you'd like to restore the old behavior.\n"
     ]
    },
    {
     "name": "stderr",
     "output_type": "stream",
     "text": [
      "/usr/local/lib/python3.9/site-packages/xgboost/sklearn.py:1146: UserWarning: The use of label encoder in XGBClassifier is deprecated and will be removed in a future release. To remove this warning, do the following: 1) Pass option use_label_encoder=False when constructing XGBClassifier object; and 2) Encode your labels (y) as integers starting with 0, i.e. 0, 1, 2, ..., [num_class - 1].\n",
      "  warnings.warn(label_encoder_deprecation_msg, UserWarning)\n",
      "/usr/local/lib/python3.9/site-packages/sklearn/utils/validation.py:63: DataConversionWarning: A column-vector y was passed when a 1d array was expected. Please change the shape of y to (n_samples, ), for example using ravel().\n",
      "  return f(*args, **kwargs)\n"
     ]
    },
    {
     "name": "stdout",
     "output_type": "stream",
     "text": [
      "[CV 3/4] END colsample_bytree=0.7, learning_rate=0.05, max_depth=5, n_estimators=30, objective=binary:logistic, subsample=0.8;, score=0.625 total time=   0.4s\n",
      "[23:00:16] WARNING: /Users/travis/build/dmlc/xgboost/src/learner.cc:1095: Starting in XGBoost 1.3.0, the default evaluation metric used with the objective 'binary:logistic' was changed from 'error' to 'logloss'. Explicitly set eval_metric if you'd like to restore the old behavior.\n"
     ]
    },
    {
     "name": "stderr",
     "output_type": "stream",
     "text": [
      "/usr/local/lib/python3.9/site-packages/xgboost/sklearn.py:1146: UserWarning: The use of label encoder in XGBClassifier is deprecated and will be removed in a future release. To remove this warning, do the following: 1) Pass option use_label_encoder=False when constructing XGBClassifier object; and 2) Encode your labels (y) as integers starting with 0, i.e. 0, 1, 2, ..., [num_class - 1].\n",
      "  warnings.warn(label_encoder_deprecation_msg, UserWarning)\n",
      "/usr/local/lib/python3.9/site-packages/sklearn/utils/validation.py:63: DataConversionWarning: A column-vector y was passed when a 1d array was expected. Please change the shape of y to (n_samples, ), for example using ravel().\n",
      "  return f(*args, **kwargs)\n"
     ]
    },
    {
     "name": "stdout",
     "output_type": "stream",
     "text": [
      "[CV 4/4] END colsample_bytree=0.7, learning_rate=0.05, max_depth=5, n_estimators=30, objective=binary:logistic, subsample=0.8;, score=0.635 total time=   0.4s\n",
      "[23:00:16] WARNING: /Users/travis/build/dmlc/xgboost/src/learner.cc:1095: Starting in XGBoost 1.3.0, the default evaluation metric used with the objective 'binary:logistic' was changed from 'error' to 'logloss'. Explicitly set eval_metric if you'd like to restore the old behavior.\n"
     ]
    },
    {
     "name": "stderr",
     "output_type": "stream",
     "text": [
      "/usr/local/lib/python3.9/site-packages/xgboost/sklearn.py:1146: UserWarning: The use of label encoder in XGBClassifier is deprecated and will be removed in a future release. To remove this warning, do the following: 1) Pass option use_label_encoder=False when constructing XGBClassifier object; and 2) Encode your labels (y) as integers starting with 0, i.e. 0, 1, 2, ..., [num_class - 1].\n",
      "  warnings.warn(label_encoder_deprecation_msg, UserWarning)\n",
      "/usr/local/lib/python3.9/site-packages/sklearn/utils/validation.py:63: DataConversionWarning: A column-vector y was passed when a 1d array was expected. Please change the shape of y to (n_samples, ), for example using ravel().\n",
      "  return f(*args, **kwargs)\n"
     ]
    },
    {
     "name": "stdout",
     "output_type": "stream",
     "text": [
      "[CV 1/4] END colsample_bytree=0.7, learning_rate=0.05, max_depth=5, n_estimators=40, objective=binary:logistic, subsample=0.8;, score=0.643 total time=   0.6s\n",
      "[23:00:17] WARNING: /Users/travis/build/dmlc/xgboost/src/learner.cc:1095: Starting in XGBoost 1.3.0, the default evaluation metric used with the objective 'binary:logistic' was changed from 'error' to 'logloss'. Explicitly set eval_metric if you'd like to restore the old behavior.\n"
     ]
    },
    {
     "name": "stderr",
     "output_type": "stream",
     "text": [
      "/usr/local/lib/python3.9/site-packages/xgboost/sklearn.py:1146: UserWarning: The use of label encoder in XGBClassifier is deprecated and will be removed in a future release. To remove this warning, do the following: 1) Pass option use_label_encoder=False when constructing XGBClassifier object; and 2) Encode your labels (y) as integers starting with 0, i.e. 0, 1, 2, ..., [num_class - 1].\n",
      "  warnings.warn(label_encoder_deprecation_msg, UserWarning)\n",
      "/usr/local/lib/python3.9/site-packages/sklearn/utils/validation.py:63: DataConversionWarning: A column-vector y was passed when a 1d array was expected. Please change the shape of y to (n_samples, ), for example using ravel().\n",
      "  return f(*args, **kwargs)\n"
     ]
    },
    {
     "name": "stdout",
     "output_type": "stream",
     "text": [
      "[CV 2/4] END colsample_bytree=0.7, learning_rate=0.05, max_depth=5, n_estimators=40, objective=binary:logistic, subsample=0.8;, score=0.642 total time=   0.6s\n",
      "[23:00:17] WARNING: /Users/travis/build/dmlc/xgboost/src/learner.cc:1095: Starting in XGBoost 1.3.0, the default evaluation metric used with the objective 'binary:logistic' was changed from 'error' to 'logloss'. Explicitly set eval_metric if you'd like to restore the old behavior.\n"
     ]
    },
    {
     "name": "stderr",
     "output_type": "stream",
     "text": [
      "/usr/local/lib/python3.9/site-packages/xgboost/sklearn.py:1146: UserWarning: The use of label encoder in XGBClassifier is deprecated and will be removed in a future release. To remove this warning, do the following: 1) Pass option use_label_encoder=False when constructing XGBClassifier object; and 2) Encode your labels (y) as integers starting with 0, i.e. 0, 1, 2, ..., [num_class - 1].\n",
      "  warnings.warn(label_encoder_deprecation_msg, UserWarning)\n",
      "/usr/local/lib/python3.9/site-packages/sklearn/utils/validation.py:63: DataConversionWarning: A column-vector y was passed when a 1d array was expected. Please change the shape of y to (n_samples, ), for example using ravel().\n",
      "  return f(*args, **kwargs)\n"
     ]
    },
    {
     "name": "stdout",
     "output_type": "stream",
     "text": [
      "[CV 3/4] END colsample_bytree=0.7, learning_rate=0.05, max_depth=5, n_estimators=40, objective=binary:logistic, subsample=0.8;, score=0.635 total time=   0.6s\n",
      "[23:00:18] WARNING: /Users/travis/build/dmlc/xgboost/src/learner.cc:1095: Starting in XGBoost 1.3.0, the default evaluation metric used with the objective 'binary:logistic' was changed from 'error' to 'logloss'. Explicitly set eval_metric if you'd like to restore the old behavior.\n"
     ]
    },
    {
     "name": "stderr",
     "output_type": "stream",
     "text": [
      "/usr/local/lib/python3.9/site-packages/xgboost/sklearn.py:1146: UserWarning: The use of label encoder in XGBClassifier is deprecated and will be removed in a future release. To remove this warning, do the following: 1) Pass option use_label_encoder=False when constructing XGBClassifier object; and 2) Encode your labels (y) as integers starting with 0, i.e. 0, 1, 2, ..., [num_class - 1].\n",
      "  warnings.warn(label_encoder_deprecation_msg, UserWarning)\n",
      "/usr/local/lib/python3.9/site-packages/sklearn/utils/validation.py:63: DataConversionWarning: A column-vector y was passed when a 1d array was expected. Please change the shape of y to (n_samples, ), for example using ravel().\n",
      "  return f(*args, **kwargs)\n"
     ]
    },
    {
     "name": "stdout",
     "output_type": "stream",
     "text": [
      "[CV 4/4] END colsample_bytree=0.7, learning_rate=0.05, max_depth=5, n_estimators=40, objective=binary:logistic, subsample=0.8;, score=0.643 total time=   0.6s\n",
      "[23:00:18] WARNING: /Users/travis/build/dmlc/xgboost/src/learner.cc:1095: Starting in XGBoost 1.3.0, the default evaluation metric used with the objective 'binary:logistic' was changed from 'error' to 'logloss'. Explicitly set eval_metric if you'd like to restore the old behavior.\n"
     ]
    },
    {
     "name": "stderr",
     "output_type": "stream",
     "text": [
      "/usr/local/lib/python3.9/site-packages/xgboost/sklearn.py:1146: UserWarning: The use of label encoder in XGBClassifier is deprecated and will be removed in a future release. To remove this warning, do the following: 1) Pass option use_label_encoder=False when constructing XGBClassifier object; and 2) Encode your labels (y) as integers starting with 0, i.e. 0, 1, 2, ..., [num_class - 1].\n",
      "  warnings.warn(label_encoder_deprecation_msg, UserWarning)\n",
      "/usr/local/lib/python3.9/site-packages/sklearn/utils/validation.py:63: DataConversionWarning: A column-vector y was passed when a 1d array was expected. Please change the shape of y to (n_samples, ), for example using ravel().\n",
      "  return f(*args, **kwargs)\n"
     ]
    },
    {
     "name": "stdout",
     "output_type": "stream",
     "text": [
      "[CV 1/4] END colsample_bytree=0.7, learning_rate=0.05, max_depth=5, n_estimators=50, objective=binary:logistic, subsample=0.8;, score=0.646 total time=   0.7s\n",
      "[23:00:19] WARNING: /Users/travis/build/dmlc/xgboost/src/learner.cc:1095: Starting in XGBoost 1.3.0, the default evaluation metric used with the objective 'binary:logistic' was changed from 'error' to 'logloss'. Explicitly set eval_metric if you'd like to restore the old behavior.\n"
     ]
    },
    {
     "name": "stderr",
     "output_type": "stream",
     "text": [
      "/usr/local/lib/python3.9/site-packages/xgboost/sklearn.py:1146: UserWarning: The use of label encoder in XGBClassifier is deprecated and will be removed in a future release. To remove this warning, do the following: 1) Pass option use_label_encoder=False when constructing XGBClassifier object; and 2) Encode your labels (y) as integers starting with 0, i.e. 0, 1, 2, ..., [num_class - 1].\n",
      "  warnings.warn(label_encoder_deprecation_msg, UserWarning)\n",
      "/usr/local/lib/python3.9/site-packages/sklearn/utils/validation.py:63: DataConversionWarning: A column-vector y was passed when a 1d array was expected. Please change the shape of y to (n_samples, ), for example using ravel().\n",
      "  return f(*args, **kwargs)\n"
     ]
    },
    {
     "name": "stdout",
     "output_type": "stream",
     "text": [
      "[CV 2/4] END colsample_bytree=0.7, learning_rate=0.05, max_depth=5, n_estimators=50, objective=binary:logistic, subsample=0.8;, score=0.652 total time=   0.9s\n",
      "[23:00:20] WARNING: /Users/travis/build/dmlc/xgboost/src/learner.cc:1095: Starting in XGBoost 1.3.0, the default evaluation metric used with the objective 'binary:logistic' was changed from 'error' to 'logloss'. Explicitly set eval_metric if you'd like to restore the old behavior.\n"
     ]
    },
    {
     "name": "stderr",
     "output_type": "stream",
     "text": [
      "/usr/local/lib/python3.9/site-packages/xgboost/sklearn.py:1146: UserWarning: The use of label encoder in XGBClassifier is deprecated and will be removed in a future release. To remove this warning, do the following: 1) Pass option use_label_encoder=False when constructing XGBClassifier object; and 2) Encode your labels (y) as integers starting with 0, i.e. 0, 1, 2, ..., [num_class - 1].\n",
      "  warnings.warn(label_encoder_deprecation_msg, UserWarning)\n",
      "/usr/local/lib/python3.9/site-packages/sklearn/utils/validation.py:63: DataConversionWarning: A column-vector y was passed when a 1d array was expected. Please change the shape of y to (n_samples, ), for example using ravel().\n",
      "  return f(*args, **kwargs)\n"
     ]
    },
    {
     "name": "stdout",
     "output_type": "stream",
     "text": [
      "[CV 3/4] END colsample_bytree=0.7, learning_rate=0.05, max_depth=5, n_estimators=50, objective=binary:logistic, subsample=0.8;, score=0.646 total time=   0.9s\n",
      "[23:00:21] WARNING: /Users/travis/build/dmlc/xgboost/src/learner.cc:1095: Starting in XGBoost 1.3.0, the default evaluation metric used with the objective 'binary:logistic' was changed from 'error' to 'logloss'. Explicitly set eval_metric if you'd like to restore the old behavior.\n"
     ]
    },
    {
     "name": "stderr",
     "output_type": "stream",
     "text": [
      "/usr/local/lib/python3.9/site-packages/xgboost/sklearn.py:1146: UserWarning: The use of label encoder in XGBClassifier is deprecated and will be removed in a future release. To remove this warning, do the following: 1) Pass option use_label_encoder=False when constructing XGBClassifier object; and 2) Encode your labels (y) as integers starting with 0, i.e. 0, 1, 2, ..., [num_class - 1].\n",
      "  warnings.warn(label_encoder_deprecation_msg, UserWarning)\n",
      "/usr/local/lib/python3.9/site-packages/sklearn/utils/validation.py:63: DataConversionWarning: A column-vector y was passed when a 1d array was expected. Please change the shape of y to (n_samples, ), for example using ravel().\n",
      "  return f(*args, **kwargs)\n"
     ]
    },
    {
     "name": "stdout",
     "output_type": "stream",
     "text": [
      "[CV 4/4] END colsample_bytree=0.7, learning_rate=0.05, max_depth=5, n_estimators=50, objective=binary:logistic, subsample=0.8;, score=0.652 total time=   0.9s\n",
      "[23:00:22] WARNING: /Users/travis/build/dmlc/xgboost/src/learner.cc:1095: Starting in XGBoost 1.3.0, the default evaluation metric used with the objective 'binary:logistic' was changed from 'error' to 'logloss'. Explicitly set eval_metric if you'd like to restore the old behavior.\n"
     ]
    },
    {
     "name": "stderr",
     "output_type": "stream",
     "text": [
      "/usr/local/lib/python3.9/site-packages/xgboost/sklearn.py:1146: UserWarning: The use of label encoder in XGBClassifier is deprecated and will be removed in a future release. To remove this warning, do the following: 1) Pass option use_label_encoder=False when constructing XGBClassifier object; and 2) Encode your labels (y) as integers starting with 0, i.e. 0, 1, 2, ..., [num_class - 1].\n",
      "  warnings.warn(label_encoder_deprecation_msg, UserWarning)\n",
      "/usr/local/lib/python3.9/site-packages/sklearn/utils/validation.py:63: DataConversionWarning: A column-vector y was passed when a 1d array was expected. Please change the shape of y to (n_samples, ), for example using ravel().\n",
      "  return f(*args, **kwargs)\n"
     ]
    },
    {
     "name": "stdout",
     "output_type": "stream",
     "text": [
      "[CV 1/4] END colsample_bytree=0.7, learning_rate=0.05, max_depth=6, n_estimators=30, objective=binary:logistic, subsample=0.8;, score=0.663 total time=   0.6s\n",
      "[23:00:22] WARNING: /Users/travis/build/dmlc/xgboost/src/learner.cc:1095: Starting in XGBoost 1.3.0, the default evaluation metric used with the objective 'binary:logistic' was changed from 'error' to 'logloss'. Explicitly set eval_metric if you'd like to restore the old behavior.\n"
     ]
    },
    {
     "name": "stderr",
     "output_type": "stream",
     "text": [
      "/usr/local/lib/python3.9/site-packages/xgboost/sklearn.py:1146: UserWarning: The use of label encoder in XGBClassifier is deprecated and will be removed in a future release. To remove this warning, do the following: 1) Pass option use_label_encoder=False when constructing XGBClassifier object; and 2) Encode your labels (y) as integers starting with 0, i.e. 0, 1, 2, ..., [num_class - 1].\n",
      "  warnings.warn(label_encoder_deprecation_msg, UserWarning)\n",
      "/usr/local/lib/python3.9/site-packages/sklearn/utils/validation.py:63: DataConversionWarning: A column-vector y was passed when a 1d array was expected. Please change the shape of y to (n_samples, ), for example using ravel().\n",
      "  return f(*args, **kwargs)\n"
     ]
    },
    {
     "name": "stdout",
     "output_type": "stream",
     "text": [
      "[CV 2/4] END colsample_bytree=0.7, learning_rate=0.05, max_depth=6, n_estimators=30, objective=binary:logistic, subsample=0.8;, score=0.652 total time=   0.9s\n",
      "[23:00:23] WARNING: /Users/travis/build/dmlc/xgboost/src/learner.cc:1095: Starting in XGBoost 1.3.0, the default evaluation metric used with the objective 'binary:logistic' was changed from 'error' to 'logloss'. Explicitly set eval_metric if you'd like to restore the old behavior.\n"
     ]
    },
    {
     "name": "stderr",
     "output_type": "stream",
     "text": [
      "/usr/local/lib/python3.9/site-packages/xgboost/sklearn.py:1146: UserWarning: The use of label encoder in XGBClassifier is deprecated and will be removed in a future release. To remove this warning, do the following: 1) Pass option use_label_encoder=False when constructing XGBClassifier object; and 2) Encode your labels (y) as integers starting with 0, i.e. 0, 1, 2, ..., [num_class - 1].\n",
      "  warnings.warn(label_encoder_deprecation_msg, UserWarning)\n",
      "/usr/local/lib/python3.9/site-packages/sklearn/utils/validation.py:63: DataConversionWarning: A column-vector y was passed when a 1d array was expected. Please change the shape of y to (n_samples, ), for example using ravel().\n",
      "  return f(*args, **kwargs)\n"
     ]
    },
    {
     "name": "stdout",
     "output_type": "stream",
     "text": [
      "[CV 3/4] END colsample_bytree=0.7, learning_rate=0.05, max_depth=6, n_estimators=30, objective=binary:logistic, subsample=0.8;, score=0.650 total time=   0.7s\n",
      "[23:00:24] WARNING: /Users/travis/build/dmlc/xgboost/src/learner.cc:1095: Starting in XGBoost 1.3.0, the default evaluation metric used with the objective 'binary:logistic' was changed from 'error' to 'logloss'. Explicitly set eval_metric if you'd like to restore the old behavior.\n"
     ]
    },
    {
     "name": "stderr",
     "output_type": "stream",
     "text": [
      "/usr/local/lib/python3.9/site-packages/xgboost/sklearn.py:1146: UserWarning: The use of label encoder in XGBClassifier is deprecated and will be removed in a future release. To remove this warning, do the following: 1) Pass option use_label_encoder=False when constructing XGBClassifier object; and 2) Encode your labels (y) as integers starting with 0, i.e. 0, 1, 2, ..., [num_class - 1].\n",
      "  warnings.warn(label_encoder_deprecation_msg, UserWarning)\n",
      "/usr/local/lib/python3.9/site-packages/sklearn/utils/validation.py:63: DataConversionWarning: A column-vector y was passed when a 1d array was expected. Please change the shape of y to (n_samples, ), for example using ravel().\n",
      "  return f(*args, **kwargs)\n"
     ]
    },
    {
     "name": "stdout",
     "output_type": "stream",
     "text": [
      "[CV 4/4] END colsample_bytree=0.7, learning_rate=0.05, max_depth=6, n_estimators=30, objective=binary:logistic, subsample=0.8;, score=0.654 total time=   0.6s\n",
      "[23:00:25] WARNING: /Users/travis/build/dmlc/xgboost/src/learner.cc:1095: Starting in XGBoost 1.3.0, the default evaluation metric used with the objective 'binary:logistic' was changed from 'error' to 'logloss'. Explicitly set eval_metric if you'd like to restore the old behavior.\n"
     ]
    },
    {
     "name": "stderr",
     "output_type": "stream",
     "text": [
      "/usr/local/lib/python3.9/site-packages/xgboost/sklearn.py:1146: UserWarning: The use of label encoder in XGBClassifier is deprecated and will be removed in a future release. To remove this warning, do the following: 1) Pass option use_label_encoder=False when constructing XGBClassifier object; and 2) Encode your labels (y) as integers starting with 0, i.e. 0, 1, 2, ..., [num_class - 1].\n",
      "  warnings.warn(label_encoder_deprecation_msg, UserWarning)\n",
      "/usr/local/lib/python3.9/site-packages/sklearn/utils/validation.py:63: DataConversionWarning: A column-vector y was passed when a 1d array was expected. Please change the shape of y to (n_samples, ), for example using ravel().\n",
      "  return f(*args, **kwargs)\n"
     ]
    },
    {
     "name": "stdout",
     "output_type": "stream",
     "text": [
      "[CV 1/4] END colsample_bytree=0.7, learning_rate=0.05, max_depth=6, n_estimators=40, objective=binary:logistic, subsample=0.8;, score=0.672 total time=   1.0s\n",
      "[23:00:26] WARNING: /Users/travis/build/dmlc/xgboost/src/learner.cc:1095: Starting in XGBoost 1.3.0, the default evaluation metric used with the objective 'binary:logistic' was changed from 'error' to 'logloss'. Explicitly set eval_metric if you'd like to restore the old behavior.\n"
     ]
    },
    {
     "name": "stderr",
     "output_type": "stream",
     "text": [
      "/usr/local/lib/python3.9/site-packages/xgboost/sklearn.py:1146: UserWarning: The use of label encoder in XGBClassifier is deprecated and will be removed in a future release. To remove this warning, do the following: 1) Pass option use_label_encoder=False when constructing XGBClassifier object; and 2) Encode your labels (y) as integers starting with 0, i.e. 0, 1, 2, ..., [num_class - 1].\n",
      "  warnings.warn(label_encoder_deprecation_msg, UserWarning)\n",
      "/usr/local/lib/python3.9/site-packages/sklearn/utils/validation.py:63: DataConversionWarning: A column-vector y was passed when a 1d array was expected. Please change the shape of y to (n_samples, ), for example using ravel().\n",
      "  return f(*args, **kwargs)\n"
     ]
    },
    {
     "name": "stdout",
     "output_type": "stream",
     "text": [
      "[CV 2/4] END colsample_bytree=0.7, learning_rate=0.05, max_depth=6, n_estimators=40, objective=binary:logistic, subsample=0.8;, score=0.658 total time=   1.4s\n",
      "[23:00:27] WARNING: /Users/travis/build/dmlc/xgboost/src/learner.cc:1095: Starting in XGBoost 1.3.0, the default evaluation metric used with the objective 'binary:logistic' was changed from 'error' to 'logloss'. Explicitly set eval_metric if you'd like to restore the old behavior.\n"
     ]
    },
    {
     "name": "stderr",
     "output_type": "stream",
     "text": [
      "/usr/local/lib/python3.9/site-packages/xgboost/sklearn.py:1146: UserWarning: The use of label encoder in XGBClassifier is deprecated and will be removed in a future release. To remove this warning, do the following: 1) Pass option use_label_encoder=False when constructing XGBClassifier object; and 2) Encode your labels (y) as integers starting with 0, i.e. 0, 1, 2, ..., [num_class - 1].\n",
      "  warnings.warn(label_encoder_deprecation_msg, UserWarning)\n",
      "/usr/local/lib/python3.9/site-packages/sklearn/utils/validation.py:63: DataConversionWarning: A column-vector y was passed when a 1d array was expected. Please change the shape of y to (n_samples, ), for example using ravel().\n",
      "  return f(*args, **kwargs)\n"
     ]
    },
    {
     "name": "stdout",
     "output_type": "stream",
     "text": [
      "[CV 3/4] END colsample_bytree=0.7, learning_rate=0.05, max_depth=6, n_estimators=40, objective=binary:logistic, subsample=0.8;, score=0.660 total time=   1.0s\n",
      "[23:00:28] WARNING: /Users/travis/build/dmlc/xgboost/src/learner.cc:1095: Starting in XGBoost 1.3.0, the default evaluation metric used with the objective 'binary:logistic' was changed from 'error' to 'logloss'. Explicitly set eval_metric if you'd like to restore the old behavior.\n"
     ]
    },
    {
     "name": "stderr",
     "output_type": "stream",
     "text": [
      "/usr/local/lib/python3.9/site-packages/xgboost/sklearn.py:1146: UserWarning: The use of label encoder in XGBClassifier is deprecated and will be removed in a future release. To remove this warning, do the following: 1) Pass option use_label_encoder=False when constructing XGBClassifier object; and 2) Encode your labels (y) as integers starting with 0, i.e. 0, 1, 2, ..., [num_class - 1].\n",
      "  warnings.warn(label_encoder_deprecation_msg, UserWarning)\n",
      "/usr/local/lib/python3.9/site-packages/sklearn/utils/validation.py:63: DataConversionWarning: A column-vector y was passed when a 1d array was expected. Please change the shape of y to (n_samples, ), for example using ravel().\n",
      "  return f(*args, **kwargs)\n"
     ]
    },
    {
     "name": "stdout",
     "output_type": "stream",
     "text": [
      "[CV 4/4] END colsample_bytree=0.7, learning_rate=0.05, max_depth=6, n_estimators=40, objective=binary:logistic, subsample=0.8;, score=0.662 total time=   1.0s\n",
      "[23:00:29] WARNING: /Users/travis/build/dmlc/xgboost/src/learner.cc:1095: Starting in XGBoost 1.3.0, the default evaluation metric used with the objective 'binary:logistic' was changed from 'error' to 'logloss'. Explicitly set eval_metric if you'd like to restore the old behavior.\n"
     ]
    },
    {
     "name": "stderr",
     "output_type": "stream",
     "text": [
      "/usr/local/lib/python3.9/site-packages/xgboost/sklearn.py:1146: UserWarning: The use of label encoder in XGBClassifier is deprecated and will be removed in a future release. To remove this warning, do the following: 1) Pass option use_label_encoder=False when constructing XGBClassifier object; and 2) Encode your labels (y) as integers starting with 0, i.e. 0, 1, 2, ..., [num_class - 1].\n",
      "  warnings.warn(label_encoder_deprecation_msg, UserWarning)\n",
      "/usr/local/lib/python3.9/site-packages/sklearn/utils/validation.py:63: DataConversionWarning: A column-vector y was passed when a 1d array was expected. Please change the shape of y to (n_samples, ), for example using ravel().\n",
      "  return f(*args, **kwargs)\n"
     ]
    },
    {
     "name": "stdout",
     "output_type": "stream",
     "text": [
      "[CV 1/4] END colsample_bytree=0.7, learning_rate=0.05, max_depth=6, n_estimators=50, objective=binary:logistic, subsample=0.8;, score=0.674 total time=   1.5s\n",
      "[23:00:30] WARNING: /Users/travis/build/dmlc/xgboost/src/learner.cc:1095: Starting in XGBoost 1.3.0, the default evaluation metric used with the objective 'binary:logistic' was changed from 'error' to 'logloss'. Explicitly set eval_metric if you'd like to restore the old behavior.\n"
     ]
    },
    {
     "name": "stderr",
     "output_type": "stream",
     "text": [
      "/usr/local/lib/python3.9/site-packages/xgboost/sklearn.py:1146: UserWarning: The use of label encoder in XGBClassifier is deprecated and will be removed in a future release. To remove this warning, do the following: 1) Pass option use_label_encoder=False when constructing XGBClassifier object; and 2) Encode your labels (y) as integers starting with 0, i.e. 0, 1, 2, ..., [num_class - 1].\n",
      "  warnings.warn(label_encoder_deprecation_msg, UserWarning)\n",
      "/usr/local/lib/python3.9/site-packages/sklearn/utils/validation.py:63: DataConversionWarning: A column-vector y was passed when a 1d array was expected. Please change the shape of y to (n_samples, ), for example using ravel().\n",
      "  return f(*args, **kwargs)\n"
     ]
    },
    {
     "name": "stdout",
     "output_type": "stream",
     "text": [
      "[CV 2/4] END colsample_bytree=0.7, learning_rate=0.05, max_depth=6, n_estimators=50, objective=binary:logistic, subsample=0.8;, score=0.664 total time=   1.5s\n",
      "[23:00:32] WARNING: /Users/travis/build/dmlc/xgboost/src/learner.cc:1095: Starting in XGBoost 1.3.0, the default evaluation metric used with the objective 'binary:logistic' was changed from 'error' to 'logloss'. Explicitly set eval_metric if you'd like to restore the old behavior.\n"
     ]
    },
    {
     "name": "stderr",
     "output_type": "stream",
     "text": [
      "/usr/local/lib/python3.9/site-packages/xgboost/sklearn.py:1146: UserWarning: The use of label encoder in XGBClassifier is deprecated and will be removed in a future release. To remove this warning, do the following: 1) Pass option use_label_encoder=False when constructing XGBClassifier object; and 2) Encode your labels (y) as integers starting with 0, i.e. 0, 1, 2, ..., [num_class - 1].\n",
      "  warnings.warn(label_encoder_deprecation_msg, UserWarning)\n",
      "/usr/local/lib/python3.9/site-packages/sklearn/utils/validation.py:63: DataConversionWarning: A column-vector y was passed when a 1d array was expected. Please change the shape of y to (n_samples, ), for example using ravel().\n",
      "  return f(*args, **kwargs)\n"
     ]
    },
    {
     "name": "stdout",
     "output_type": "stream",
     "text": [
      "[CV 3/4] END colsample_bytree=0.7, learning_rate=0.05, max_depth=6, n_estimators=50, objective=binary:logistic, subsample=0.8;, score=0.668 total time=   1.1s\n",
      "[23:00:33] WARNING: /Users/travis/build/dmlc/xgboost/src/learner.cc:1095: Starting in XGBoost 1.3.0, the default evaluation metric used with the objective 'binary:logistic' was changed from 'error' to 'logloss'. Explicitly set eval_metric if you'd like to restore the old behavior.\n"
     ]
    },
    {
     "name": "stderr",
     "output_type": "stream",
     "text": [
      "/usr/local/lib/python3.9/site-packages/xgboost/sklearn.py:1146: UserWarning: The use of label encoder in XGBClassifier is deprecated and will be removed in a future release. To remove this warning, do the following: 1) Pass option use_label_encoder=False when constructing XGBClassifier object; and 2) Encode your labels (y) as integers starting with 0, i.e. 0, 1, 2, ..., [num_class - 1].\n",
      "  warnings.warn(label_encoder_deprecation_msg, UserWarning)\n",
      "/usr/local/lib/python3.9/site-packages/sklearn/utils/validation.py:63: DataConversionWarning: A column-vector y was passed when a 1d array was expected. Please change the shape of y to (n_samples, ), for example using ravel().\n",
      "  return f(*args, **kwargs)\n"
     ]
    },
    {
     "name": "stdout",
     "output_type": "stream",
     "text": [
      "[CV 4/4] END colsample_bytree=0.7, learning_rate=0.05, max_depth=6, n_estimators=50, objective=binary:logistic, subsample=0.8;, score=0.670 total time=   1.1s\n",
      "[23:00:34] WARNING: /Users/travis/build/dmlc/xgboost/src/learner.cc:1095: Starting in XGBoost 1.3.0, the default evaluation metric used with the objective 'binary:logistic' was changed from 'error' to 'logloss'. Explicitly set eval_metric if you'd like to restore the old behavior.\n"
     ]
    },
    {
     "name": "stderr",
     "output_type": "stream",
     "text": [
      "/usr/local/lib/python3.9/site-packages/xgboost/sklearn.py:1146: UserWarning: The use of label encoder in XGBClassifier is deprecated and will be removed in a future release. To remove this warning, do the following: 1) Pass option use_label_encoder=False when constructing XGBClassifier object; and 2) Encode your labels (y) as integers starting with 0, i.e. 0, 1, 2, ..., [num_class - 1].\n",
      "  warnings.warn(label_encoder_deprecation_msg, UserWarning)\n",
      "/usr/local/lib/python3.9/site-packages/sklearn/utils/validation.py:63: DataConversionWarning: A column-vector y was passed when a 1d array was expected. Please change the shape of y to (n_samples, ), for example using ravel().\n",
      "  return f(*args, **kwargs)\n"
     ]
    },
    {
     "data": {
      "text/plain": [
       "RandomizedSearchCV(cv=<generator object _BaseKFold.split at 0x1388bc740>,\n",
       "                   estimator=XGBClassifier(base_score=None, booster=None,\n",
       "                                           colsample_bylevel=None,\n",
       "                                           colsample_bynode=None,\n",
       "                                           colsample_bytree=None, gamma=None,\n",
       "                                           gpu_id=None, importance_type='gain',\n",
       "                                           interaction_constraints=None,\n",
       "                                           learning_rate=None,\n",
       "                                           max_delta_step=None, max_depth=None,\n",
       "                                           min_child_weight=None, missing=na...\n",
       "                                           random_state=None, reg_alpha=None,\n",
       "                                           reg_lambda=None,\n",
       "                                           scale_pos_weight=None,\n",
       "                                           subsample=None, tree_method=None,\n",
       "                                           validate_parameters=None,\n",
       "                                           verbosity=None),\n",
       "                   param_distributions={'colsample_bytree': [0.7],\n",
       "                                        'learning_rate': [0.05],\n",
       "                                        'max_depth': [4, 5, 6],\n",
       "                                        'n_estimators': [30, 40, 50],\n",
       "                                        'objective': ['binary:logistic'],\n",
       "                                        'subsample': [0.8]},\n",
       "                   random_state=42, scoring='roc_auc', verbose=3)"
      ]
     },
     "execution_count": 50,
     "metadata": {},
     "output_type": "execute_result"
    }
   ],
   "source": [
    "random_search.fit(x_df1, y_df1)\n"
   ]
  },
  {
   "cell_type": "code",
   "execution_count": 52,
   "id": "ce791ff5",
   "metadata": {},
   "outputs": [
    {
     "name": "stdout",
     "output_type": "stream",
     "text": [
      "\n",
      " Best estimator:\n",
      "XGBClassifier(base_score=0.5, booster='gbtree', colsample_bylevel=1,\n",
      "              colsample_bynode=1, colsample_bytree=0.7, gamma=0, gpu_id=-1,\n",
      "              importance_type='gain', interaction_constraints='',\n",
      "              learning_rate=0.05, max_delta_step=0, max_depth=6,\n",
      "              min_child_weight=1, missing=nan, monotone_constraints='()',\n",
      "              n_estimators=50, n_jobs=8, num_parallel_tree=1, random_state=0,\n",
      "              reg_alpha=0, reg_lambda=1, scale_pos_weight=1, subsample=0.8,\n",
      "              tree_method='exact', validate_parameters=1, verbosity=None)\n",
      "\n",
      " Best hyperparameters:\n",
      "{'subsample': 0.8, 'objective': 'binary:logistic', 'n_estimators': 50, 'max_depth': 6, 'learning_rate': 0.05, 'colsample_bytree': 0.7}\n",
      "\n",
      " best score\n",
      "0.6691320771733934\n"
     ]
    }
   ],
   "source": [
    "print('\\n Best estimator:')\n",
    "print(random_search.best_estimator_)\n",
    "print('\\n Best hyperparameters:')\n",
    "print(random_search.best_params_)"
   ]
  },
  {
   "cell_type": "code",
   "execution_count": 54,
   "id": "4338da20",
   "metadata": {},
   "outputs": [
    {
     "name": "stdout",
     "output_type": "stream",
     "text": [
      "[23:04:33] WARNING: /Users/travis/build/dmlc/xgboost/src/learner.cc:1095: Starting in XGBoost 1.3.0, the default evaluation metric used with the objective 'binary:logistic' was changed from 'error' to 'logloss'. Explicitly set eval_metric if you'd like to restore the old behavior.\n",
      "Accuracy of Model:: 0.7127096204766108\n"
     ]
    }
   ],
   "source": [
    "clf = xgb.XGBClassifier(max_depth=6,subsample=0.8, n_estimators=50,objective='binary:logistic',learning_rate=0.05,colsample_bytree=0.7)\n",
    "# clf = xgb.XGBClassifier(max_depth=5, objective='multi:softprob', n_estimators=1000, \n",
    "#                         num_classes=2)\n",
    "\n",
    "clf.fit(X_train, y_train)  \n",
    "pred = clf.predict(X_test)\n",
    "print(\"Accuracy of Model::\",accuracy_score(y_test,pred))\n",
    "\n"
   ]
  },
  {
   "cell_type": "code",
   "execution_count": null,
   "id": "47fc0f1c",
   "metadata": {},
   "outputs": [],
   "source": []
  }
 ],
 "metadata": {
  "kernelspec": {
   "display_name": "Python 3.9.5 64-bit",
   "language": "python",
   "name": "python39564bit06fbe3f897f84088966ece48ea4b4239"
  },
  "language_info": {
   "codemirror_mode": {
    "name": "ipython",
    "version": 3
   },
   "file_extension": ".py",
   "mimetype": "text/x-python",
   "name": "python",
   "nbconvert_exporter": "python",
   "pygments_lexer": "ipython3",
   "version": "3.9.5"
  }
 },
 "nbformat": 4,
 "nbformat_minor": 5
}
