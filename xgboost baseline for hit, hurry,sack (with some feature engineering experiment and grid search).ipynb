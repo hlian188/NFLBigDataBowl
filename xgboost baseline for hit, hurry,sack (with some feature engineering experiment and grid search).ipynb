{
 "cells": [
  {
   "cell_type": "code",
   "execution_count": null,
   "id": "42a01708",
   "metadata": {},
   "outputs": [],
   "source": []
  },
  {
   "cell_type": "code",
   "execution_count": 26,
   "id": "30a4d76c",
   "metadata": {},
   "outputs": [],
   "source": [
    "import csv\n",
    "import pandas as pd\n",
    "import numpy as np\n",
    "from datetime import datetime\n",
    "import dateutil.parser\n",
    "from IPython.display import display\n",
    "import math\n",
    "import copy \n",
    "\n",
    "from sklearn.metrics import roc_curve, auc, precision_recall_curve, classification_report, average_precision_score\n",
    "import matplotlib.pyplot as plt\n",
    "\n",
    "import xgboost as xgb\n",
    "from sklearn.metrics import accuracy_score,classification_report, confusion_matrix\n",
    "\n",
    "from sklearn.model_selection import train_test_split\n",
    "\n",
    "\n",
    "\n",
    "pd.options.display.max_columns = None\n",
    "pd.set_option('display.max_rows', None)\n",
    "\n"
   ]
  },
  {
   "cell_type": "code",
   "execution_count": null,
   "id": "da291075",
   "metadata": {},
   "outputs": [],
   "source": [
    "print(len(meow))"
   ]
  },
  {
   "cell_type": "code",
   "execution_count": null,
   "id": "6a024d72",
   "metadata": {},
   "outputs": [],
   "source": [
    "#can skip to way later if using Jing Chun's preprocessed csv"
   ]
  },
  {
   "cell_type": "code",
   "execution_count": null,
   "id": "359b37f2",
   "metadata": {},
   "outputs": [],
   "source": [
    "df=pd.read_csv(\"/Users/joonghochoi/Desktop/NFLBigDataBowl/NFL/combined_per_player_block.csv\")\n",
    "df.head(3)"
   ]
  },
  {
   "cell_type": "code",
   "execution_count": null,
   "id": "c8374156",
   "metadata": {},
   "outputs": [],
   "source": [
    "df1=pd.read_csv(\"/Users/joonghochoi/Desktop/NFLBigDataBowl/NFL/combined_per_player_rush.csv\")\n",
    "df1.head(3)"
   ]
  },
  {
   "cell_type": "code",
   "execution_count": null,
   "id": "fa6cbdf9",
   "metadata": {},
   "outputs": [],
   "source": [
    "print(set(df.pff_role))\n",
    "print(set(df1.pff_role))\n",
    "print(df.shape)\n",
    "print(df1.shape)\n",
    "print(df2.shape)"
   ]
  },
  {
   "cell_type": "code",
   "execution_count": null,
   "id": "a5c10c34",
   "metadata": {},
   "outputs": [],
   "source": [
    "frames = [df,df1]\n",
    "\n",
    "result = pd.concat(frames)\n",
    "print(result.shape)\n",
    "result.head(3)"
   ]
  },
  {
   "cell_type": "code",
   "execution_count": null,
   "id": "8fb6b881",
   "metadata": {},
   "outputs": [],
   "source": [
    "result=result.drop(columns=['Unnamed: 0'])\n",
    "result.head(3)"
   ]
  },
  {
   "cell_type": "code",
   "execution_count": null,
   "id": "4c0be3fb",
   "metadata": {},
   "outputs": [],
   "source": [
    "print(set(result.pff_role))\n"
   ]
  },
  {
   "cell_type": "code",
   "execution_count": null,
   "id": "6944dbf9",
   "metadata": {},
   "outputs": [],
   "source": [
    "df2=pd.read_csv(\"/Users/joonghochoi/Desktop/NFLBigDataBowl/NFL/2023/pffScoutingData.csv\")\n",
    "set(df2.playId)"
   ]
  },
  {
   "cell_type": "code",
   "execution_count": null,
   "id": "d1bb1608",
   "metadata": {},
   "outputs": [],
   "source": [
    "df3=df2[df2.columns[df2.columns.isin(['gameId','playId','nflId','pff_hit','pff_hurry','pff_sack'])]]\n",
    "df3.head(3)"
   ]
  },
  {
   "cell_type": "code",
   "execution_count": null,
   "id": "37bab1aa",
   "metadata": {},
   "outputs": [],
   "source": [
    "print(result.shape)\n",
    "print(df3.shape)"
   ]
  },
  {
   "cell_type": "code",
   "execution_count": null,
   "id": "cf14df00",
   "metadata": {},
   "outputs": [],
   "source": [
    "df4=df3.merge(result, left_on=['gameId','playId','nflId'],right_on=['gameId','playId','nflId'])"
   ]
  },
  {
   "cell_type": "code",
   "execution_count": null,
   "id": "bdcb39fe",
   "metadata": {},
   "outputs": [],
   "source": [
    "print(df4.shape)\n",
    "df4.head(2)"
   ]
  },
  {
   "cell_type": "code",
   "execution_count": null,
   "id": "9729952a",
   "metadata": {},
   "outputs": [],
   "source": [
    "df5=df4.dropna()\n",
    "print(df5.shape)\n",
    "df5.head(2)"
   ]
  },
  {
   "cell_type": "code",
   "execution_count": null,
   "id": "0790715d",
   "metadata": {},
   "outputs": [],
   "source": [
    "df5['outcome']=0\n",
    "df5.loc[df5['pff_hurry'] == 1, 'outcome']='Hurry'\n",
    "df5.loc[df5['pff_hit'] == 1, 'outcome']='Hit'\n",
    "df5.loc[df5['pff_sack'] == 1, 'outcome']='Sack'"
   ]
  },
  {
   "cell_type": "code",
   "execution_count": null,
   "id": "81ae7e16",
   "metadata": {},
   "outputs": [],
   "source": [
    "df5.head(2)"
   ]
  },
  {
   "cell_type": "code",
   "execution_count": null,
   "id": "9e0b793e",
   "metadata": {},
   "outputs": [],
   "source": [
    "x_df=df5[df5.columns[~df5.columns.isin(['gameId','playId','nflId','outcome'])]]\n",
    "x_df.head(3)"
   ]
  },
  {
   "cell_type": "code",
   "execution_count": null,
   "id": "56f9b30a",
   "metadata": {},
   "outputs": [],
   "source": [
    "y_df=df5[df5.columns[df5.columns.isin(['outcome'])]]\n",
    "y_df.head(3)"
   ]
  },
  {
   "cell_type": "code",
   "execution_count": null,
   "id": "dd253a70",
   "metadata": {},
   "outputs": [],
   "source": []
  },
  {
   "cell_type": "code",
   "execution_count": null,
   "id": "bd91b9bf",
   "metadata": {},
   "outputs": [],
   "source": [
    "#continue from here using Jing chun's."
   ]
  },
  {
   "cell_type": "code",
   "execution_count": 42,
   "id": "98fc59be",
   "metadata": {},
   "outputs": [
    {
     "data": {
      "text/html": [
       "<div>\n",
       "<style scoped>\n",
       "    .dataframe tbody tr th:only-of-type {\n",
       "        vertical-align: middle;\n",
       "    }\n",
       "\n",
       "    .dataframe tbody tr th {\n",
       "        vertical-align: top;\n",
       "    }\n",
       "\n",
       "    .dataframe thead th {\n",
       "        text-align: right;\n",
       "    }\n",
       "</style>\n",
       "<table border=\"1\" class=\"dataframe\">\n",
       "  <thead>\n",
       "    <tr style=\"text-align: right;\">\n",
       "      <th></th>\n",
       "      <th>Unnamed: 0</th>\n",
       "      <th>playId</th>\n",
       "      <th>gameId</th>\n",
       "      <th>frameId</th>\n",
       "      <th>area_block</th>\n",
       "      <th>dist_block</th>\n",
       "      <th>dist_to_qb_block</th>\n",
       "      <th>x_force_block</th>\n",
       "      <th>y_force_block</th>\n",
       "      <th>norm_weighted_x_block</th>\n",
       "      <th>norm_weighted_y_block</th>\n",
       "      <th>area_rush</th>\n",
       "      <th>dist_rush</th>\n",
       "      <th>dist_to_qb_rush</th>\n",
       "      <th>x_force_rush</th>\n",
       "      <th>y_force_rush</th>\n",
       "      <th>norm_weighted_x_rush</th>\n",
       "      <th>norm_weighted_y_rush</th>\n",
       "      <th>X</th>\n",
       "      <th>net_x_force_bottom</th>\n",
       "      <th>net_y_force_bottom</th>\n",
       "      <th>net_x_force_middle</th>\n",
       "      <th>net_y_force_middle</th>\n",
       "      <th>net_x_force_top</th>\n",
       "      <th>net_y_force_top</th>\n",
       "      <th>hit</th>\n",
       "      <th>hurry</th>\n",
       "      <th>sack</th>\n",
       "      <th>bad_thing</th>\n",
       "    </tr>\n",
       "  </thead>\n",
       "  <tbody>\n",
       "    <tr>\n",
       "      <th>0</th>\n",
       "      <td>1</td>\n",
       "      <td>100</td>\n",
       "      <td>2021091205</td>\n",
       "      <td>1</td>\n",
       "      <td>79.224000</td>\n",
       "      <td>2.165379</td>\n",
       "      <td>4.273408</td>\n",
       "      <td>0.000000</td>\n",
       "      <td>0.000000</td>\n",
       "      <td>0.000000</td>\n",
       "      <td>0.000000</td>\n",
       "      <td>217.635233</td>\n",
       "      <td>3.941905</td>\n",
       "      <td>7.215590</td>\n",
       "      <td>0.000000</td>\n",
       "      <td>0.000000</td>\n",
       "      <td>0.000000</td>\n",
       "      <td>0.00000</td>\n",
       "      <td>12707</td>\n",
       "      <td>0.000000</td>\n",
       "      <td>0.000000</td>\n",
       "      <td>1471.153017</td>\n",
       "      <td>92.498591</td>\n",
       "      <td>116.641363</td>\n",
       "      <td>-99.199424</td>\n",
       "      <td>0</td>\n",
       "      <td>0</td>\n",
       "      <td>0</td>\n",
       "      <td>0</td>\n",
       "    </tr>\n",
       "    <tr>\n",
       "      <th>1</th>\n",
       "      <td>2</td>\n",
       "      <td>100</td>\n",
       "      <td>2021091205</td>\n",
       "      <td>10</td>\n",
       "      <td>54.340933</td>\n",
       "      <td>2.090488</td>\n",
       "      <td>4.285844</td>\n",
       "      <td>-346.873572</td>\n",
       "      <td>57.667929</td>\n",
       "      <td>-337.586230</td>\n",
       "      <td>73.375147</td>\n",
       "      <td>187.745233</td>\n",
       "      <td>3.529407</td>\n",
       "      <td>6.367005</td>\n",
       "      <td>-1217.339965</td>\n",
       "      <td>76.233066</td>\n",
       "      <td>-1202.548632</td>\n",
       "      <td>106.33097</td>\n",
       "      <td>12716</td>\n",
       "      <td>1363.057395</td>\n",
       "      <td>201.502240</td>\n",
       "      <td>1558.680496</td>\n",
       "      <td>501.458099</td>\n",
       "      <td>633.989718</td>\n",
       "      <td>-301.990233</td>\n",
       "      <td>0</td>\n",
       "      <td>0</td>\n",
       "      <td>0</td>\n",
       "      <td>0</td>\n",
       "    </tr>\n",
       "    <tr>\n",
       "      <th>2</th>\n",
       "      <td>3</td>\n",
       "      <td>100</td>\n",
       "      <td>2021091205</td>\n",
       "      <td>11</td>\n",
       "      <td>50.359333</td>\n",
       "      <td>2.084440</td>\n",
       "      <td>4.290909</td>\n",
       "      <td>-311.417633</td>\n",
       "      <td>45.599327</td>\n",
       "      <td>-302.820681</td>\n",
       "      <td>58.078608</td>\n",
       "      <td>230.288000</td>\n",
       "      <td>3.501304</td>\n",
       "      <td>6.150107</td>\n",
       "      <td>-1345.483725</td>\n",
       "      <td>70.183668</td>\n",
       "      <td>-1315.285185</td>\n",
       "      <td>98.73391</td>\n",
       "      <td>12717</td>\n",
       "      <td>1038.638081</td>\n",
       "      <td>139.671426</td>\n",
       "      <td>1330.320348</td>\n",
       "      <td>462.586594</td>\n",
       "      <td>452.505465</td>\n",
       "      <td>-190.680610</td>\n",
       "      <td>0</td>\n",
       "      <td>0</td>\n",
       "      <td>0</td>\n",
       "      <td>0</td>\n",
       "    </tr>\n",
       "  </tbody>\n",
       "</table>\n",
       "</div>"
      ],
      "text/plain": [
       "   Unnamed: 0  playId      gameId  frameId  area_block  dist_block  \\\n",
       "0           1     100  2021091205        1   79.224000    2.165379   \n",
       "1           2     100  2021091205       10   54.340933    2.090488   \n",
       "2           3     100  2021091205       11   50.359333    2.084440   \n",
       "\n",
       "   dist_to_qb_block  x_force_block  y_force_block  norm_weighted_x_block  \\\n",
       "0          4.273408       0.000000       0.000000               0.000000   \n",
       "1          4.285844    -346.873572      57.667929            -337.586230   \n",
       "2          4.290909    -311.417633      45.599327            -302.820681   \n",
       "\n",
       "   norm_weighted_y_block   area_rush  dist_rush  dist_to_qb_rush  \\\n",
       "0               0.000000  217.635233   3.941905         7.215590   \n",
       "1              73.375147  187.745233   3.529407         6.367005   \n",
       "2              58.078608  230.288000   3.501304         6.150107   \n",
       "\n",
       "   x_force_rush  y_force_rush  norm_weighted_x_rush  norm_weighted_y_rush  \\\n",
       "0      0.000000      0.000000              0.000000               0.00000   \n",
       "1  -1217.339965     76.233066          -1202.548632             106.33097   \n",
       "2  -1345.483725     70.183668          -1315.285185              98.73391   \n",
       "\n",
       "       X  net_x_force_bottom  net_y_force_bottom  net_x_force_middle  \\\n",
       "0  12707            0.000000            0.000000         1471.153017   \n",
       "1  12716         1363.057395          201.502240         1558.680496   \n",
       "2  12717         1038.638081          139.671426         1330.320348   \n",
       "\n",
       "   net_y_force_middle  net_x_force_top  net_y_force_top  hit  hurry  sack  \\\n",
       "0           92.498591       116.641363       -99.199424    0      0     0   \n",
       "1          501.458099       633.989718      -301.990233    0      0     0   \n",
       "2          462.586594       452.505465      -190.680610    0      0     0   \n",
       "\n",
       "   bad_thing  \n",
       "0          0  \n",
       "1          0  \n",
       "2          0  "
      ]
     },
     "execution_count": 42,
     "metadata": {},
     "output_type": "execute_result"
    }
   ],
   "source": [
    "new_df=pd.read_csv(\"/Users/joonghochoi/Desktop/NFLBigDataBowl/NFL/features_all_1.csv\")\n",
    "new_df.head(3)"
   ]
  },
  {
   "cell_type": "code",
   "execution_count": 43,
   "id": "8b3c2862",
   "metadata": {},
   "outputs": [],
   "source": [
    "# new_df=pd.read_csv(\"/Users/joonghochoi/Desktop/NFLBigDataBowl/NFL/2023/by_frame_all.csv\")\n",
    "# new_df.head(2)"
   ]
  },
  {
   "cell_type": "code",
   "execution_count": 44,
   "id": "a1ed6f9d",
   "metadata": {},
   "outputs": [],
   "source": [
    "#new_df[new_df.bad_thing==0,]"
   ]
  },
  {
   "cell_type": "code",
   "execution_count": 46,
   "id": "4b1a0fdc",
   "metadata": {},
   "outputs": [
    {
     "name": "stdout",
     "output_type": "stream",
     "text": [
      "(36617, 23)\n"
     ]
    }
   ],
   "source": [
    "#new_df1=new_df.drop(columns=['Unnamed: 0','playId','gameId.x','gameId.y','hit','hurry','sack'])\n",
    "new_df1=new_df.drop(columns=['Unnamed: 0','playId','gameId','hit','hurry','sack'])\n",
    "\n",
    "\n",
    "print(new_df1.shape)\n"
   ]
  },
  {
   "cell_type": "code",
   "execution_count": 47,
   "id": "171fbd11",
   "metadata": {},
   "outputs": [
    {
     "data": {
      "text/html": [
       "<div>\n",
       "<style scoped>\n",
       "    .dataframe tbody tr th:only-of-type {\n",
       "        vertical-align: middle;\n",
       "    }\n",
       "\n",
       "    .dataframe tbody tr th {\n",
       "        vertical-align: top;\n",
       "    }\n",
       "\n",
       "    .dataframe thead th {\n",
       "        text-align: right;\n",
       "    }\n",
       "</style>\n",
       "<table border=\"1\" class=\"dataframe\">\n",
       "  <thead>\n",
       "    <tr style=\"text-align: right;\">\n",
       "      <th></th>\n",
       "      <th>frameId</th>\n",
       "      <th>area_block</th>\n",
       "      <th>dist_block</th>\n",
       "      <th>dist_to_qb_block</th>\n",
       "      <th>x_force_block</th>\n",
       "      <th>y_force_block</th>\n",
       "      <th>norm_weighted_x_block</th>\n",
       "      <th>norm_weighted_y_block</th>\n",
       "      <th>area_rush</th>\n",
       "      <th>dist_rush</th>\n",
       "      <th>dist_to_qb_rush</th>\n",
       "      <th>x_force_rush</th>\n",
       "      <th>y_force_rush</th>\n",
       "      <th>norm_weighted_x_rush</th>\n",
       "      <th>norm_weighted_y_rush</th>\n",
       "      <th>X</th>\n",
       "      <th>net_x_force_bottom</th>\n",
       "      <th>net_y_force_bottom</th>\n",
       "      <th>net_x_force_middle</th>\n",
       "      <th>net_y_force_middle</th>\n",
       "      <th>net_x_force_top</th>\n",
       "      <th>net_y_force_top</th>\n",
       "      <th>bad_thing</th>\n",
       "    </tr>\n",
       "  </thead>\n",
       "  <tbody>\n",
       "    <tr>\n",
       "      <th>0</th>\n",
       "      <td>1</td>\n",
       "      <td>79.224000</td>\n",
       "      <td>2.165379</td>\n",
       "      <td>4.273408</td>\n",
       "      <td>0.000000</td>\n",
       "      <td>0.000000</td>\n",
       "      <td>0.00000</td>\n",
       "      <td>0.000000</td>\n",
       "      <td>217.635233</td>\n",
       "      <td>3.941905</td>\n",
       "      <td>7.215590</td>\n",
       "      <td>0.000000</td>\n",
       "      <td>0.000000</td>\n",
       "      <td>0.000000</td>\n",
       "      <td>0.00000</td>\n",
       "      <td>12707</td>\n",
       "      <td>0.000000</td>\n",
       "      <td>0.00000</td>\n",
       "      <td>1471.153017</td>\n",
       "      <td>92.498591</td>\n",
       "      <td>116.641363</td>\n",
       "      <td>-99.199424</td>\n",
       "      <td>0</td>\n",
       "    </tr>\n",
       "    <tr>\n",
       "      <th>1</th>\n",
       "      <td>10</td>\n",
       "      <td>54.340933</td>\n",
       "      <td>2.090488</td>\n",
       "      <td>4.285844</td>\n",
       "      <td>-346.873572</td>\n",
       "      <td>57.667929</td>\n",
       "      <td>-337.58623</td>\n",
       "      <td>73.375147</td>\n",
       "      <td>187.745233</td>\n",
       "      <td>3.529407</td>\n",
       "      <td>6.367005</td>\n",
       "      <td>-1217.339965</td>\n",
       "      <td>76.233066</td>\n",
       "      <td>-1202.548632</td>\n",
       "      <td>106.33097</td>\n",
       "      <td>12716</td>\n",
       "      <td>1363.057395</td>\n",
       "      <td>201.50224</td>\n",
       "      <td>1558.680496</td>\n",
       "      <td>501.458099</td>\n",
       "      <td>633.989718</td>\n",
       "      <td>-301.990233</td>\n",
       "      <td>0</td>\n",
       "    </tr>\n",
       "  </tbody>\n",
       "</table>\n",
       "</div>"
      ],
      "text/plain": [
       "   frameId  area_block  dist_block  dist_to_qb_block  x_force_block  \\\n",
       "0        1   79.224000    2.165379          4.273408       0.000000   \n",
       "1       10   54.340933    2.090488          4.285844    -346.873572   \n",
       "\n",
       "   y_force_block  norm_weighted_x_block  norm_weighted_y_block   area_rush  \\\n",
       "0       0.000000                0.00000               0.000000  217.635233   \n",
       "1      57.667929             -337.58623              73.375147  187.745233   \n",
       "\n",
       "   dist_rush  dist_to_qb_rush  x_force_rush  y_force_rush  \\\n",
       "0   3.941905         7.215590      0.000000      0.000000   \n",
       "1   3.529407         6.367005  -1217.339965     76.233066   \n",
       "\n",
       "   norm_weighted_x_rush  norm_weighted_y_rush      X  net_x_force_bottom  \\\n",
       "0              0.000000               0.00000  12707            0.000000   \n",
       "1          -1202.548632             106.33097  12716         1363.057395   \n",
       "\n",
       "   net_y_force_bottom  net_x_force_middle  net_y_force_middle  \\\n",
       "0             0.00000         1471.153017           92.498591   \n",
       "1           201.50224         1558.680496          501.458099   \n",
       "\n",
       "   net_x_force_top  net_y_force_top  bad_thing  \n",
       "0       116.641363       -99.199424          0  \n",
       "1       633.989718      -301.990233          0  "
      ]
     },
     "execution_count": 47,
     "metadata": {},
     "output_type": "execute_result"
    }
   ],
   "source": [
    "new_df1.head(2)"
   ]
  },
  {
   "cell_type": "code",
   "execution_count": 48,
   "id": "bf98c418",
   "metadata": {},
   "outputs": [
    {
     "data": {
      "text/html": [
       "<div>\n",
       "<style scoped>\n",
       "    .dataframe tbody tr th:only-of-type {\n",
       "        vertical-align: middle;\n",
       "    }\n",
       "\n",
       "    .dataframe tbody tr th {\n",
       "        vertical-align: top;\n",
       "    }\n",
       "\n",
       "    .dataframe thead th {\n",
       "        text-align: right;\n",
       "    }\n",
       "</style>\n",
       "<table border=\"1\" class=\"dataframe\">\n",
       "  <thead>\n",
       "    <tr style=\"text-align: right;\">\n",
       "      <th></th>\n",
       "      <th>frameId</th>\n",
       "      <th>area_block</th>\n",
       "      <th>dist_block</th>\n",
       "      <th>dist_to_qb_block</th>\n",
       "      <th>x_force_block</th>\n",
       "      <th>y_force_block</th>\n",
       "      <th>norm_weighted_x_block</th>\n",
       "      <th>norm_weighted_y_block</th>\n",
       "      <th>area_rush</th>\n",
       "      <th>dist_rush</th>\n",
       "      <th>dist_to_qb_rush</th>\n",
       "      <th>x_force_rush</th>\n",
       "      <th>y_force_rush</th>\n",
       "      <th>norm_weighted_x_rush</th>\n",
       "      <th>norm_weighted_y_rush</th>\n",
       "      <th>X</th>\n",
       "      <th>net_x_force_bottom</th>\n",
       "      <th>net_y_force_bottom</th>\n",
       "      <th>net_x_force_middle</th>\n",
       "      <th>net_y_force_middle</th>\n",
       "      <th>net_x_force_top</th>\n",
       "      <th>net_y_force_top</th>\n",
       "    </tr>\n",
       "  </thead>\n",
       "  <tbody>\n",
       "    <tr>\n",
       "      <th>0</th>\n",
       "      <td>1</td>\n",
       "      <td>79.224000</td>\n",
       "      <td>2.165379</td>\n",
       "      <td>4.273408</td>\n",
       "      <td>0.000000</td>\n",
       "      <td>0.000000</td>\n",
       "      <td>0.000000</td>\n",
       "      <td>0.000000</td>\n",
       "      <td>217.635233</td>\n",
       "      <td>3.941905</td>\n",
       "      <td>7.215590</td>\n",
       "      <td>0.000000</td>\n",
       "      <td>0.000000</td>\n",
       "      <td>0.000000</td>\n",
       "      <td>0.00000</td>\n",
       "      <td>12707</td>\n",
       "      <td>0.000000</td>\n",
       "      <td>0.000000</td>\n",
       "      <td>1471.153017</td>\n",
       "      <td>92.498591</td>\n",
       "      <td>116.641363</td>\n",
       "      <td>-99.199424</td>\n",
       "    </tr>\n",
       "    <tr>\n",
       "      <th>1</th>\n",
       "      <td>10</td>\n",
       "      <td>54.340933</td>\n",
       "      <td>2.090488</td>\n",
       "      <td>4.285844</td>\n",
       "      <td>-346.873572</td>\n",
       "      <td>57.667929</td>\n",
       "      <td>-337.586230</td>\n",
       "      <td>73.375147</td>\n",
       "      <td>187.745233</td>\n",
       "      <td>3.529407</td>\n",
       "      <td>6.367005</td>\n",
       "      <td>-1217.339965</td>\n",
       "      <td>76.233066</td>\n",
       "      <td>-1202.548632</td>\n",
       "      <td>106.33097</td>\n",
       "      <td>12716</td>\n",
       "      <td>1363.057395</td>\n",
       "      <td>201.502240</td>\n",
       "      <td>1558.680496</td>\n",
       "      <td>501.458099</td>\n",
       "      <td>633.989718</td>\n",
       "      <td>-301.990233</td>\n",
       "    </tr>\n",
       "    <tr>\n",
       "      <th>2</th>\n",
       "      <td>11</td>\n",
       "      <td>50.359333</td>\n",
       "      <td>2.084440</td>\n",
       "      <td>4.290909</td>\n",
       "      <td>-311.417633</td>\n",
       "      <td>45.599327</td>\n",
       "      <td>-302.820681</td>\n",
       "      <td>58.078608</td>\n",
       "      <td>230.288000</td>\n",
       "      <td>3.501304</td>\n",
       "      <td>6.150107</td>\n",
       "      <td>-1345.483725</td>\n",
       "      <td>70.183668</td>\n",
       "      <td>-1315.285185</td>\n",
       "      <td>98.73391</td>\n",
       "      <td>12717</td>\n",
       "      <td>1038.638081</td>\n",
       "      <td>139.671426</td>\n",
       "      <td>1330.320348</td>\n",
       "      <td>462.586594</td>\n",
       "      <td>452.505465</td>\n",
       "      <td>-190.680610</td>\n",
       "    </tr>\n",
       "  </tbody>\n",
       "</table>\n",
       "</div>"
      ],
      "text/plain": [
       "   frameId  area_block  dist_block  dist_to_qb_block  x_force_block  \\\n",
       "0        1   79.224000    2.165379          4.273408       0.000000   \n",
       "1       10   54.340933    2.090488          4.285844    -346.873572   \n",
       "2       11   50.359333    2.084440          4.290909    -311.417633   \n",
       "\n",
       "   y_force_block  norm_weighted_x_block  norm_weighted_y_block   area_rush  \\\n",
       "0       0.000000               0.000000               0.000000  217.635233   \n",
       "1      57.667929            -337.586230              73.375147  187.745233   \n",
       "2      45.599327            -302.820681              58.078608  230.288000   \n",
       "\n",
       "   dist_rush  dist_to_qb_rush  x_force_rush  y_force_rush  \\\n",
       "0   3.941905         7.215590      0.000000      0.000000   \n",
       "1   3.529407         6.367005  -1217.339965     76.233066   \n",
       "2   3.501304         6.150107  -1345.483725     70.183668   \n",
       "\n",
       "   norm_weighted_x_rush  norm_weighted_y_rush      X  net_x_force_bottom  \\\n",
       "0              0.000000               0.00000  12707            0.000000   \n",
       "1          -1202.548632             106.33097  12716         1363.057395   \n",
       "2          -1315.285185              98.73391  12717         1038.638081   \n",
       "\n",
       "   net_y_force_bottom  net_x_force_middle  net_y_force_middle  \\\n",
       "0            0.000000         1471.153017           92.498591   \n",
       "1          201.502240         1558.680496          501.458099   \n",
       "2          139.671426         1330.320348          462.586594   \n",
       "\n",
       "   net_x_force_top  net_y_force_top  \n",
       "0       116.641363       -99.199424  \n",
       "1       633.989718      -301.990233  \n",
       "2       452.505465      -190.680610  "
      ]
     },
     "execution_count": 48,
     "metadata": {},
     "output_type": "execute_result"
    }
   ],
   "source": [
    "x_df=new_df1[new_df1.columns[~new_df1.columns.isin(['bad_thing'])]]\n",
    "x_df.head(3)\n"
   ]
  },
  {
   "cell_type": "code",
   "execution_count": 49,
   "id": "53771509",
   "metadata": {},
   "outputs": [
    {
     "data": {
      "text/html": [
       "<div>\n",
       "<style scoped>\n",
       "    .dataframe tbody tr th:only-of-type {\n",
       "        vertical-align: middle;\n",
       "    }\n",
       "\n",
       "    .dataframe tbody tr th {\n",
       "        vertical-align: top;\n",
       "    }\n",
       "\n",
       "    .dataframe thead th {\n",
       "        text-align: right;\n",
       "    }\n",
       "</style>\n",
       "<table border=\"1\" class=\"dataframe\">\n",
       "  <thead>\n",
       "    <tr style=\"text-align: right;\">\n",
       "      <th></th>\n",
       "      <th>bad_thing</th>\n",
       "    </tr>\n",
       "  </thead>\n",
       "  <tbody>\n",
       "    <tr>\n",
       "      <th>0</th>\n",
       "      <td>0</td>\n",
       "    </tr>\n",
       "    <tr>\n",
       "      <th>1</th>\n",
       "      <td>0</td>\n",
       "    </tr>\n",
       "    <tr>\n",
       "      <th>2</th>\n",
       "      <td>0</td>\n",
       "    </tr>\n",
       "  </tbody>\n",
       "</table>\n",
       "</div>"
      ],
      "text/plain": [
       "   bad_thing\n",
       "0          0\n",
       "1          0\n",
       "2          0"
      ]
     },
     "execution_count": 49,
     "metadata": {},
     "output_type": "execute_result"
    }
   ],
   "source": [
    "y_df=new_df1[new_df1.columns[new_df1.columns.isin(['bad_thing'])]]\n",
    "y_df.head(3)"
   ]
  },
  {
   "cell_type": "code",
   "execution_count": 50,
   "id": "87241b4d",
   "metadata": {
    "scrolled": true
   },
   "outputs": [
    {
     "name": "stdout",
     "output_type": "stream",
     "text": [
      "(16106, 1)\n",
      "(20511, 1)\n"
     ]
    }
   ],
   "source": [
    "bad=y_df.loc[y_df['bad_thing'] == 1]\n",
    "\n",
    "not_bad=y_df.loc[y_df['bad_thing'] == 0]\n",
    "\n",
    "\n",
    "print(bad.shape)\n",
    "print(not_bad.shape) #imbalanced as expected"
   ]
  },
  {
   "cell_type": "code",
   "execution_count": null,
   "id": "eaacd552",
   "metadata": {},
   "outputs": [],
   "source": []
  },
  {
   "cell_type": "code",
   "execution_count": 51,
   "id": "c8e96174",
   "metadata": {},
   "outputs": [],
   "source": [
    "X_train, X_test, y_train, y_test = train_test_split(x_df, y_df, test_size=0.33, random_state=42)"
   ]
  },
  {
   "cell_type": "code",
   "execution_count": 52,
   "id": "810903d9",
   "metadata": {},
   "outputs": [
    {
     "data": {
      "text/html": [
       "<div>\n",
       "<style scoped>\n",
       "    .dataframe tbody tr th:only-of-type {\n",
       "        vertical-align: middle;\n",
       "    }\n",
       "\n",
       "    .dataframe tbody tr th {\n",
       "        vertical-align: top;\n",
       "    }\n",
       "\n",
       "    .dataframe thead th {\n",
       "        text-align: right;\n",
       "    }\n",
       "</style>\n",
       "<table border=\"1\" class=\"dataframe\">\n",
       "  <thead>\n",
       "    <tr style=\"text-align: right;\">\n",
       "      <th></th>\n",
       "      <th>bad_thing</th>\n",
       "    </tr>\n",
       "  </thead>\n",
       "  <tbody>\n",
       "    <tr>\n",
       "      <th>28274</th>\n",
       "      <td>0</td>\n",
       "    </tr>\n",
       "    <tr>\n",
       "      <th>23707</th>\n",
       "      <td>0</td>\n",
       "    </tr>\n",
       "  </tbody>\n",
       "</table>\n",
       "</div>"
      ],
      "text/plain": [
       "       bad_thing\n",
       "28274          0\n",
       "23707          0"
      ]
     },
     "execution_count": 52,
     "metadata": {},
     "output_type": "execute_result"
    }
   ],
   "source": [
    "X_train.head(2)\n",
    "y_train.head(2)"
   ]
  },
  {
   "cell_type": "code",
   "execution_count": 53,
   "id": "cbec8f78",
   "metadata": {},
   "outputs": [
    {
     "name": "stderr",
     "output_type": "stream",
     "text": [
      "/usr/local/lib/python3.9/site-packages/xgboost/sklearn.py:1146: UserWarning: The use of label encoder in XGBClassifier is deprecated and will be removed in a future release. To remove this warning, do the following: 1) Pass option use_label_encoder=False when constructing XGBClassifier object; and 2) Encode your labels (y) as integers starting with 0, i.e. 0, 1, 2, ..., [num_class - 1].\n",
      "  warnings.warn(label_encoder_deprecation_msg, UserWarning)\n",
      "/usr/local/lib/python3.9/site-packages/sklearn/utils/validation.py:63: DataConversionWarning: A column-vector y was passed when a 1d array was expected. Please change the shape of y to (n_samples, ), for example using ravel().\n",
      "  return f(*args, **kwargs)\n"
     ]
    },
    {
     "name": "stdout",
     "output_type": "stream",
     "text": [
      "[18:53:30] WARNING: /Users/travis/build/dmlc/xgboost/src/learner.cc:1095: Starting in XGBoost 1.3.0, the default evaluation metric used with the objective 'binary:logistic' was changed from 'error' to 'logloss'. Explicitly set eval_metric if you'd like to restore the old behavior.\n"
     ]
    }
   ],
   "source": [
    "clf = xgb.XGBClassifier(max_depth=5, n_estimators=30,objective='binary:logistic')\n",
    "# clf = xgb.XGBClassifier(max_depth=5, objective='multi:softprob', n_estimators=1000, \n",
    "#                         num_classes=2)\n",
    "\n",
    "clf.fit(X_train, y_train)  \n",
    "pred = clf.predict(X_test)"
   ]
  },
  {
   "cell_type": "code",
   "execution_count": 54,
   "id": "84a5a70a",
   "metadata": {},
   "outputs": [
    {
     "name": "stdout",
     "output_type": "stream",
     "text": [
      "Accuracy of Model:: 0.7345249917245945\n"
     ]
    }
   ],
   "source": [
    "\n",
    "print(\"Accuracy of Model::\",accuracy_score(y_test,pred))\n",
    "\n"
   ]
  },
  {
   "cell_type": "code",
   "execution_count": 55,
   "id": "ffc31a6c",
   "metadata": {},
   "outputs": [],
   "source": [
    "def plot_roc(fpr, tpr, roc_auc):\n",
    "    plt.plot(fpr, tpr)\n",
    "    plt.plot([0, 1], [0, 1], 'k--')\n",
    "    plt.xlim([0.0, 1.0])\n",
    "    plt.ylim([0.0, 1.05])\n",
    "    plt.xlabel('False Positive Rate')\n",
    "    plt.ylabel('True Positive Rate')\n",
    "    plt.title('ROC curve (area = %0.6f)' % roc_auc)\n",
    "    plt.legend(loc=\"lower right\")\n",
    "    plt.show()\n",
    "\n",
    "\n",
    "def plot_pr(recall,precision,average_precision):\n",
    "    plt.step(recall, precision, color='b', alpha=0.2, where='post')\n",
    "    plt.fill_between(recall, precision, step='post', alpha=0.2, color='b')\n",
    "    plt.xlabel('Recall')\n",
    "    plt.ylabel('Precision')\n",
    "    plt.ylim([0.0, 1.05])\n",
    "    plt.xlim([0.0, 1.0])\n",
    "    plt.title('Precision-Recall: {0:0.6f}'.format(average_precision))\n",
    "    plt.show()\n",
    "\n",
    "    \n",
    "def plot_learning_curve(results,epochs):\n",
    "    x_axis = range(0, epochs)\n",
    "    fig, ax = plt.subplots()\n",
    "    ax.plot(x_axis, results['validation_0']['logloss'], label='logloss-Train')\n",
    "    ax.plot(x_axis, results['validation_1']['logloss'], label='logloss-Test')\n",
    "    ax.plot(x_axis, results['validation_0']['auc'], label='auc-Train')\n",
    "    ax.plot(x_axis, results['validation_1']['auc'], label='auc-Test')\n",
    "    ax.legend()\n",
    "    plt.ylabel('Log Loss/AUC')\n",
    "    plt.title('XGBoost Log Loss and AUC evolution')\n",
    "    plt.show()\n",
    "\n",
    "\n",
    "def run_xgboost_and_calculate_auc(df,\n",
    "                                  target='target',\n",
    "                                  drop='variable_to_find_and_exclude',\n",
    "                                  w=1,\n",
    "                                  plot_variables=False,\n",
    "                                  plot_ROC_PR=False,\n",
    "                                  plot_confusion=False,\n",
    "                                  learning_rate=0.05,\n",
    "                                  max_depth=10,\n",
    "                                  esr=10,\n",
    "                                  CV=True,\n",
    "                                  title='',\n",
    "                                  plot_all=False,\n",
    "                                  ensembler=False,\n",
    "                                  test_size=.2):\n",
    "    '''\n",
    "    Generic function to run xgboost to test the added changes and plot roc, learning and others and save the model.\n",
    "    '''\n",
    "    # features\n",
    "    X = df.drop(target, axis=1)\n",
    "    X = pd.get_dummies(X)\n",
    "    \n",
    "    # targets\n",
    "    Y = df[target]\n",
    "\n",
    "    X_train, X_test, Y_train, Y_test = train_test_split(X, Y,\n",
    "                                                        test_size=test_size,\n",
    "                                                        random_state=12345,\n",
    "                                                        stratify=Y)\n",
    "\n",
    "    print(f'variables: {len(list(X))}, rows:{len(X)}, flags:{sum(list(df[target]))}')\n",
    "    \n",
    "        \n",
    "    clf = xgb.XGBClassifier(max_depth=5, n_estimators=30,objective='binary:logistic')\n",
    "\n",
    "    eval_set = [(X_train, Y_train), (X_test, Y_test)]\n",
    "\n",
    "    if plot_all:\n",
    "        plot_learning=True\n",
    "        plot_variables=True\n",
    "        plot_ROC_PR=True\n",
    "        plot_confusion=True\n",
    "        plot_graph_tree=True\n",
    "        \n",
    "    if CV:\n",
    "        X = pd.concat([X_train,X_test])\n",
    "        y = pd.concat([Y_train,Y_test])\n",
    "        xgb_param = clf.get_xgb_params()\n",
    "        xgtrain = xgb.DMatrix(X.values, y.values)\n",
    "        cvresult = xgb.cv(xgb_param,\n",
    "                          xgtrain,\n",
    "                          num_boost_round=clf.get_params()['n_estimators'],\n",
    "                          nfold=5,\n",
    "                          metrics='auc',\n",
    "                          early_stopping_rounds=esr)\n",
    "        print(cvresult.tail(1))\n",
    "        clf.set_params(n_estimators=cvresult.shape[0])\n",
    "\n",
    "    clf.fit(X_train,\n",
    "            Y_train,\n",
    "            early_stopping_rounds=25,\n",
    "            eval_metric=['auc','error','logloss'],\n",
    "            eval_set=eval_set,\n",
    "            verbose=False)\n",
    "\n",
    "    Y_pred = clf.predict_proba(X_test)\n",
    "    y_true = np.array(Y_test)\n",
    "    y_scores = Y_pred[:, 1]\n",
    "\n",
    "    fpr, tpr, _ = roc_curve(Y_test, y_scores)\n",
    "    roc_auc = auc(fpr, tpr)\n",
    "    average_precision = average_precision_score(Y_test, y_scores)\n",
    "    precision, recall, _ = precision_recall_curve(Y_test, y_scores)\n",
    "    \n",
    "    if plot_ROC_PR:\n",
    "        plot_roc(fpr, tpr, roc_auc)\n",
    "        plot_pr(recall,precision,average_precision)\n",
    "    else:\n",
    "        print('Area under ROC: %0.6f' % roc_auc)\n",
    "\n",
    "    print(\"plotting variables of importance\")\n",
    "    if plot_variables:\n",
    "        xgb.plot_importance(clf,max_num_features=20,importance_type='gain',xlabel='gain')\n",
    "    \n",
    "    print('\\n', classification_report(y_true, y_scores.round()))\n",
    "        \n",
    "    if ensembler:\n",
    "        return Y_test,Y_pred, y_scores\n",
    "\n",
    "    print('-------------END EXECUTION-------------')"
   ]
  },
  {
   "cell_type": "code",
   "execution_count": 56,
   "id": "bb5fad07",
   "metadata": {
    "scrolled": true
   },
   "outputs": [
    {
     "name": "stdout",
     "output_type": "stream",
     "text": [
      "variables: 22, rows:36617, flags:16106\n",
      "    train-auc-mean  train-auc-std  test-auc-mean  test-auc-std\n",
      "29        0.881614       0.005925       0.842118      0.006077\n"
     ]
    },
    {
     "name": "stderr",
     "output_type": "stream",
     "text": [
      "/usr/local/lib/python3.9/site-packages/xgboost/sklearn.py:1146: UserWarning: The use of label encoder in XGBClassifier is deprecated and will be removed in a future release. To remove this warning, do the following: 1) Pass option use_label_encoder=False when constructing XGBClassifier object; and 2) Encode your labels (y) as integers starting with 0, i.e. 0, 1, 2, ..., [num_class - 1].\n",
      "  warnings.warn(label_encoder_deprecation_msg, UserWarning)\n",
      "No handles with labels found to put in legend.\n"
     ]
    },
    {
     "data": {
      "image/png": "[encoded data removed]",
      "text/plain": [
       "<Figure size 432x288 with 1 Axes>"
      ]
     },
     "metadata": {
      "needs_background": "light"
     },
     "output_type": "display_data"
    },
    {
     "data": {
      "image/png": "[encoded data removed]",
      "text/plain": [
       "<Figure size 432x288 with 1 Axes>"
      ]
     },
     "metadata": {
      "needs_background": "light"
     },
     "output_type": "display_data"
    },
    {
     "name": "stdout",
     "output_type": "stream",
     "text": [
      "plotting variables of importance\n",
      "\n",
      "               precision    recall  f1-score   support\n",
      "\n",
      "           0       0.72      0.90      0.80      4103\n",
      "           1       0.81      0.56      0.66      3221\n",
      "\n",
      "    accuracy                           0.75      7324\n",
      "   macro avg       0.77      0.73      0.73      7324\n",
      "weighted avg       0.76      0.75      0.74      7324\n",
      "\n"
     ]
    },
    {
     "data": {
      "image/png": "[encoded data removed]",
      "text/plain": [
       "<Figure size 432x288 with 1 Axes>"
      ]
     },
     "metadata": {
      "needs_background": "light"
     },
     "output_type": "display_data"
    }
   ],
   "source": [
    "#ROC curves are appropriate when the observations are balanced between each class, \n",
    "#whereas precision-recall curves are appropriate for imbalanced datasets.\n",
    "Y_test, Y_pred,y_scores = run_xgboost_and_calculate_auc(new_df1,target='bad_thing',plot_all=True,ensembler=True)\n"
   ]
  },
  {
   "cell_type": "markdown",
   "id": "ae099833",
   "metadata": {},
   "source": [
    "<!-- From confusion matrix above, we always guess 0 and 1 correctly. However, \n",
    "precision= true positive/(true positive+false positive). Out of all positives guessed, we have a few false positives\n",
    "\n",
    "recall=true positive/(true positive+false negative). We have many false negative(0). \n",
    " -->\n",
    " \n",
    " From confusion matrix above, we always guess 0 and 1 correctly. However, \n",
    "precision= true positive/(true positive+false positive). Out of all positives guessed, we have a few false positives\n",
    "\n",
    "recall=true positive/(true positive+false negative). We have many false negative(0)\n"
   ]
  },
  {
   "cell_type": "code",
   "execution_count": 58,
   "id": "4084cf43",
   "metadata": {},
   "outputs": [
    {
     "name": "stdout",
     "output_type": "stream",
     "text": [
      "(16106, 1)\n",
      "(20511, 1)\n"
     ]
    }
   ],
   "source": [
    "bad=y_df.loc[y_df['bad_thing'] == 1]\n",
    "\n",
    "not_bad=y_df.loc[y_df['bad_thing'] == 0]\n",
    "\n",
    "\n",
    "print(bad.shape)\n",
    "print(not_bad.shape) #imbalanced as expected"
   ]
  },
  {
   "cell_type": "code",
   "execution_count": 37,
   "id": "3986c693",
   "metadata": {},
   "outputs": [
    {
     "data": {
      "text/plain": [
       "7333"
      ]
     },
     "execution_count": 37,
     "metadata": {},
     "output_type": "execute_result"
    }
   ],
   "source": [
    "len(Y_pred)"
   ]
  },
  {
   "cell_type": "code",
   "execution_count": null,
   "id": "c893d00b",
   "metadata": {},
   "outputs": [],
   "source": []
  },
  {
   "cell_type": "code",
   "execution_count": null,
   "id": "8fd0c930",
   "metadata": {},
   "outputs": [],
   "source": []
  },
  {
   "cell_type": "code",
   "execution_count": null,
   "id": "3da7e39f",
   "metadata": {},
   "outputs": [],
   "source": [
    "#check before feature engineering \n",
    "\n",
    "new_df2=copy.deepcopy(new_df1)\n",
    "new_df2['net_xy_force_middle_ratio']=new_df2['net_x_force_middle_name']/new_df2['net_y_force_middle_name']\n",
    "new_df2['net_xy_force_top_ratio']=new_df2['net_x_force_top_name']/new_df2['net_y_force_y_name']\n",
    "new_df2['dist_to_qb_ratio_area']=new_df2['dist_to_qb_name']/new_df2['area_name']\n",
    "new_df2.head(2)"
   ]
  },
  {
   "cell_type": "code",
   "execution_count": null,
   "id": "5969abef",
   "metadata": {},
   "outputs": [],
   "source": [
    "\n",
    "new_df2.replace([np.inf, -np.inf], np.nan, inplace=True)\n",
    "# Drop rows with NaN\n",
    "new_df2.dropna(inplace=True)\n",
    "print(new_df2.isnull().values.any())\n"
   ]
  },
  {
   "cell_type": "code",
   "execution_count": null,
   "id": "f0351a15",
   "metadata": {},
   "outputs": [],
   "source": [
    "x_df1=new_df2[new_df2.columns[~new_df2.columns.isin(['bad_thing'])]]\n",
    "y_df1=new_df2[new_df2.columns[new_df2.columns.isin(['bad_thing'])]]"
   ]
  },
  {
   "cell_type": "code",
   "execution_count": null,
   "id": "92de0972",
   "metadata": {},
   "outputs": [],
   "source": [
    "count = np.isinf(new_df2).values.sum()\n",
    "print(\"Infinity values... \",count)"
   ]
  },
  {
   "cell_type": "code",
   "execution_count": null,
   "id": "a3551d71",
   "metadata": {},
   "outputs": [],
   "source": [
    "X_train, X_test, y_train, y_test = train_test_split(x_df1, y_df1, test_size=0.33, random_state=42)"
   ]
  },
  {
   "cell_type": "code",
   "execution_count": null,
   "id": "922c10f4",
   "metadata": {},
   "outputs": [],
   "source": [
    "# print(X_train.shape)\n",
    "# print(X_test.shape)\n",
    "# print(y_train.shape)\n",
    "# print(y_test.shape)\n",
    "\n",
    "# print(X_train.isnull().values.any())\n",
    "# print(X_test.isnull().values.any())\n",
    "# print(y_train.isnull().values.any())\n",
    "# print(y_test.isnull().values.any())"
   ]
  },
  {
   "cell_type": "code",
   "execution_count": null,
   "id": "c0a9eaac",
   "metadata": {},
   "outputs": [],
   "source": [
    "clf = xgb.XGBClassifier(max_depth=5, n_estimators=30,objective='binary:logistic')\n",
    "# clf = xgb.XGBClassifier(max_depth=5, objective='multi:softprob', n_estimators=1000, \n",
    "#                         num_classes=2)\n",
    "\n",
    "clf.fit(X_train, y_train)  \n",
    "pred = clf.predict(X_test)"
   ]
  },
  {
   "cell_type": "code",
   "execution_count": null,
   "id": "8fa71f1a",
   "metadata": {},
   "outputs": [],
   "source": [
    "print(\"Accuracy of Model::\",accuracy_score(y_test,pred))\n",
    "\n",
    "#didn't perform better"
   ]
  },
  {
   "cell_type": "code",
   "execution_count": null,
   "id": "b905c25a",
   "metadata": {},
   "outputs": [],
   "source": []
  },
  {
   "cell_type": "code",
   "execution_count": null,
   "id": "444d8405",
   "metadata": {},
   "outputs": [],
   "source": [
    "#grid search\n",
    "from sklearn.model_selection import StratifiedKFold\n",
    "from sklearn.model_selection import RandomizedSearchCV, GridSearchCV\n",
    "from sklearn.metrics import roc_auc_score\n",
    "\n",
    "parameters = {\n",
    "              'objective':['binary:logistic'],\n",
    "              'learning_rate': [0.05], #so called `eta` value\n",
    "              'max_depth': [4,5,6],\n",
    "              'subsample': [0.8],\n",
    "              'colsample_bytree': [0.7],\n",
    "              'n_estimators': [30,40,50] #number of trees, change it to 1000 for better results\n",
    "            }"
   ]
  },
  {
   "cell_type": "code",
   "execution_count": null,
   "id": "76fa01eb",
   "metadata": {},
   "outputs": [],
   "source": [
    "skf = StratifiedKFold(n_splits=4, shuffle = True, random_state = 42)\n",
    "\n",
    "random_search = RandomizedSearchCV(xgb.XGBClassifier(), param_distributions=parameters, scoring='roc_auc', cv=skf.split(x_df1, y_df1), verbose=3, random_state=42 )"
   ]
  },
  {
   "cell_type": "code",
   "execution_count": null,
   "id": "b664d4ea",
   "metadata": {},
   "outputs": [],
   "source": [
    "random_search.fit(x_df1, y_df1)\n"
   ]
  },
  {
   "cell_type": "code",
   "execution_count": null,
   "id": "ce791ff5",
   "metadata": {},
   "outputs": [],
   "source": [
    "print('\\n Best estimator:')\n",
    "print(random_search.best_estimator_)\n",
    "print('\\n Best hyperparameters:')\n",
    "print(random_search.best_params_)"
   ]
  },
  {
   "cell_type": "code",
   "execution_count": null,
   "id": "4338da20",
   "metadata": {},
   "outputs": [],
   "source": [
    "clf = xgb.XGBClassifier(max_depth=6,subsample=0.8, n_estimators=50,objective='binary:logistic',learning_rate=0.05,colsample_bytree=0.7)\n",
    "# clf = xgb.XGBClassifier(max_depth=5, objective='multi:softprob', n_estimators=1000, \n",
    "#                         num_classes=2)\n",
    "\n",
    "clf.fit(X_train, y_train)  \n",
    "pred = clf.predict(X_test)\n",
    "print(\"Accuracy of Model::\",accuracy_score(y_test,pred))\n",
    "\n"
   ]
  },
  {
   "cell_type": "code",
   "execution_count": null,
   "id": "47fc0f1c",
   "metadata": {},
   "outputs": [],
   "source": [
    "#do some random forest"
   ]
  }
 ],
 "metadata": {
  "kernelspec": {
   "display_name": "stat_capstone",
   "language": "python",
   "name": "stat_capstone"
  },
  "language_info": {
   "codemirror_mode": {
    "name": "ipython",
    "version": 3
   },
   "file_extension": ".py",
   "mimetype": "text/x-python",
   "name": "python",
   "nbconvert_exporter": "python",
   "pygments_lexer": "ipython3",
   "version": "3.9.5"
  }
 },
 "nbformat": 4,
 "nbformat_minor": 5
}
