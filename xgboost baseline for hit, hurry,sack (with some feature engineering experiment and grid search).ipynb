{
 "cells": [
  {
   "cell_type": "code",
   "execution_count": null,
   "id": "42a01708",
   "metadata": {},
   "outputs": [],
   "source": []
  },
  {
   "cell_type": "code",
   "execution_count": 26,
   "id": "30a4d76c",
   "metadata": {},
   "outputs": [],
   "source": [
    "import csv\n",
    "import pandas as pd\n",
    "import numpy as np\n",
    "from datetime import datetime\n",
    "import dateutil.parser\n",
    "from IPython.display import display\n",
    "import math\n",
    "import copy \n",
    "\n",
    "from sklearn.metrics import roc_curve, auc, precision_recall_curve, classification_report, average_precision_score\n",
    "import matplotlib.pyplot as plt\n",
    "\n",
    "import xgboost as xgb\n",
    "from sklearn.metrics import accuracy_score,classification_report, confusion_matrix\n",
    "\n",
    "from sklearn.model_selection import train_test_split\n",
    "\n",
    "\n",
    "\n",
    "pd.options.display.max_columns = None\n",
    "pd.set_option('display.max_rows', None)\n",
    "\n"
   ]
  },
  {
   "cell_type": "code",
   "execution_count": 4,
   "id": "09c79061",
   "metadata": {},
   "outputs": [
    {
     "ename": "AttributeError",
     "evalue": "Can't get attribute '_unpickle_block' on <module 'pandas._libs.internals' from '/usr/local/lib/python3.9/site-packages/pandas/_libs/internals.cpython-39-darwin.so'>",
     "output_type": "error",
     "traceback": [
      "\u001b[0;31m---------------------------------------------------------------------------\u001b[0m",
      "\u001b[0;31mAttributeError\u001b[0m                            Traceback (most recent call last)",
      "\u001b[0;32m<ipython-input-4-91dafb774809>\u001b[0m in \u001b[0;36m<module>\u001b[0;34m\u001b[0m\n\u001b[0;32m----> 1\u001b[0;31m \u001b[0mdf\u001b[0m\u001b[0;34m=\u001b[0m\u001b[0mpd\u001b[0m\u001b[0;34m.\u001b[0m\u001b[0mread_pickle\u001b[0m\u001b[0;34m(\u001b[0m\u001b[0;34m\"./week1_clean_pickled.pkl\"\u001b[0m\u001b[0;34m)\u001b[0m\u001b[0;34m\u001b[0m\u001b[0;34m\u001b[0m\u001b[0m\n\u001b[0m\u001b[1;32m      2\u001b[0m \u001b[0;31m#df = pd.read_pickle('/Users/joonghochoi/Desktop/NFLBigDataBowl/NFL/week1_clean_pickled.pkl')\u001b[0m\u001b[0;34m\u001b[0m\u001b[0;34m\u001b[0m\u001b[0;34m\u001b[0m\u001b[0m\n",
      "\u001b[0;32m/usr/local/lib/python3.9/site-packages/pandas/io/pickle.py\u001b[0m in \u001b[0;36mread_pickle\u001b[0;34m(filepath_or_buffer, compression, storage_options)\u001b[0m\n\u001b[1;32m    206\u001b[0m                 \u001b[0;31m#  \"No module named 'pandas.core.sparse.series'\"\u001b[0m\u001b[0;34m\u001b[0m\u001b[0;34m\u001b[0m\u001b[0;34m\u001b[0m\u001b[0m\n\u001b[1;32m    207\u001b[0m                 \u001b[0;31m#  \"Can't get attribute '__nat_unpickle' on <module 'pandas._libs.tslib\"\u001b[0m\u001b[0;34m\u001b[0m\u001b[0;34m\u001b[0m\u001b[0;34m\u001b[0m\u001b[0m\n\u001b[0;32m--> 208\u001b[0;31m                 \u001b[0;32mreturn\u001b[0m \u001b[0mpc\u001b[0m\u001b[0;34m.\u001b[0m\u001b[0mload\u001b[0m\u001b[0;34m(\u001b[0m\u001b[0mhandles\u001b[0m\u001b[0;34m.\u001b[0m\u001b[0mhandle\u001b[0m\u001b[0;34m,\u001b[0m \u001b[0mencoding\u001b[0m\u001b[0;34m=\u001b[0m\u001b[0;32mNone\u001b[0m\u001b[0;34m)\u001b[0m\u001b[0;34m\u001b[0m\u001b[0;34m\u001b[0m\u001b[0m\n\u001b[0m\u001b[1;32m    209\u001b[0m         \u001b[0;32mexcept\u001b[0m \u001b[0mUnicodeDecodeError\u001b[0m\u001b[0;34m:\u001b[0m\u001b[0;34m\u001b[0m\u001b[0;34m\u001b[0m\u001b[0m\n\u001b[1;32m    210\u001b[0m             \u001b[0;31m# e.g. can occur for files written in py27; see GH#28645 and GH#31988\u001b[0m\u001b[0;34m\u001b[0m\u001b[0;34m\u001b[0m\u001b[0;34m\u001b[0m\u001b[0m\n",
      "\u001b[0;32m/usr/local/lib/python3.9/site-packages/pandas/compat/pickle_compat.py\u001b[0m in \u001b[0;36mload\u001b[0;34m(fh, encoding, is_verbose)\u001b[0m\n\u001b[1;32m    247\u001b[0m         \u001b[0mup\u001b[0m\u001b[0;34m.\u001b[0m\u001b[0mis_verbose\u001b[0m \u001b[0;34m=\u001b[0m \u001b[0mis_verbose\u001b[0m\u001b[0;34m\u001b[0m\u001b[0;34m\u001b[0m\u001b[0m\n\u001b[1;32m    248\u001b[0m \u001b[0;34m\u001b[0m\u001b[0m\n\u001b[0;32m--> 249\u001b[0;31m         \u001b[0;32mreturn\u001b[0m \u001b[0mup\u001b[0m\u001b[0;34m.\u001b[0m\u001b[0mload\u001b[0m\u001b[0;34m(\u001b[0m\u001b[0;34m)\u001b[0m\u001b[0;34m\u001b[0m\u001b[0;34m\u001b[0m\u001b[0m\n\u001b[0m\u001b[1;32m    250\u001b[0m     \u001b[0;32mexcept\u001b[0m \u001b[0;34m(\u001b[0m\u001b[0mValueError\u001b[0m\u001b[0;34m,\u001b[0m \u001b[0mTypeError\u001b[0m\u001b[0;34m)\u001b[0m\u001b[0;34m:\u001b[0m\u001b[0;34m\u001b[0m\u001b[0;34m\u001b[0m\u001b[0m\n\u001b[1;32m    251\u001b[0m         \u001b[0;32mraise\u001b[0m\u001b[0;34m\u001b[0m\u001b[0;34m\u001b[0m\u001b[0m\n",
      "\u001b[0;32m/usr/local/Cellar/python@3.9/3.9.5/Frameworks/Python.framework/Versions/3.9/lib/python3.9/pickle.py\u001b[0m in \u001b[0;36mload\u001b[0;34m(self)\u001b[0m\n\u001b[1;32m   1210\u001b[0m                     \u001b[0;32mraise\u001b[0m \u001b[0mEOFError\u001b[0m\u001b[0;34m\u001b[0m\u001b[0;34m\u001b[0m\u001b[0m\n\u001b[1;32m   1211\u001b[0m                 \u001b[0;32massert\u001b[0m \u001b[0misinstance\u001b[0m\u001b[0;34m(\u001b[0m\u001b[0mkey\u001b[0m\u001b[0;34m,\u001b[0m \u001b[0mbytes_types\u001b[0m\u001b[0;34m)\u001b[0m\u001b[0;34m\u001b[0m\u001b[0;34m\u001b[0m\u001b[0m\n\u001b[0;32m-> 1212\u001b[0;31m                 \u001b[0mdispatch\u001b[0m\u001b[0;34m[\u001b[0m\u001b[0mkey\u001b[0m\u001b[0;34m[\u001b[0m\u001b[0;36m0\u001b[0m\u001b[0;34m]\u001b[0m\u001b[0;34m]\u001b[0m\u001b[0;34m(\u001b[0m\u001b[0mself\u001b[0m\u001b[0;34m)\u001b[0m\u001b[0;34m\u001b[0m\u001b[0;34m\u001b[0m\u001b[0m\n\u001b[0m\u001b[1;32m   1213\u001b[0m         \u001b[0;32mexcept\u001b[0m \u001b[0m_Stop\u001b[0m \u001b[0;32mas\u001b[0m \u001b[0mstopinst\u001b[0m\u001b[0;34m:\u001b[0m\u001b[0;34m\u001b[0m\u001b[0;34m\u001b[0m\u001b[0m\n\u001b[1;32m   1214\u001b[0m             \u001b[0;32mreturn\u001b[0m \u001b[0mstopinst\u001b[0m\u001b[0;34m.\u001b[0m\u001b[0mvalue\u001b[0m\u001b[0;34m\u001b[0m\u001b[0;34m\u001b[0m\u001b[0m\n",
      "\u001b[0;32m/usr/local/Cellar/python@3.9/3.9.5/Frameworks/Python.framework/Versions/3.9/lib/python3.9/pickle.py\u001b[0m in \u001b[0;36mload_stack_global\u001b[0;34m(self)\u001b[0m\n\u001b[1;32m   1535\u001b[0m         \u001b[0;32mif\u001b[0m \u001b[0mtype\u001b[0m\u001b[0;34m(\u001b[0m\u001b[0mname\u001b[0m\u001b[0;34m)\u001b[0m \u001b[0;32mis\u001b[0m \u001b[0;32mnot\u001b[0m \u001b[0mstr\u001b[0m \u001b[0;32mor\u001b[0m \u001b[0mtype\u001b[0m\u001b[0;34m(\u001b[0m\u001b[0mmodule\u001b[0m\u001b[0;34m)\u001b[0m \u001b[0;32mis\u001b[0m \u001b[0;32mnot\u001b[0m \u001b[0mstr\u001b[0m\u001b[0;34m:\u001b[0m\u001b[0;34m\u001b[0m\u001b[0;34m\u001b[0m\u001b[0m\n\u001b[1;32m   1536\u001b[0m             \u001b[0;32mraise\u001b[0m \u001b[0mUnpicklingError\u001b[0m\u001b[0;34m(\u001b[0m\u001b[0;34m\"STACK_GLOBAL requires str\"\u001b[0m\u001b[0;34m)\u001b[0m\u001b[0;34m\u001b[0m\u001b[0;34m\u001b[0m\u001b[0m\n\u001b[0;32m-> 1537\u001b[0;31m         \u001b[0mself\u001b[0m\u001b[0;34m.\u001b[0m\u001b[0mappend\u001b[0m\u001b[0;34m(\u001b[0m\u001b[0mself\u001b[0m\u001b[0;34m.\u001b[0m\u001b[0mfind_class\u001b[0m\u001b[0;34m(\u001b[0m\u001b[0mmodule\u001b[0m\u001b[0;34m,\u001b[0m \u001b[0mname\u001b[0m\u001b[0;34m)\u001b[0m\u001b[0;34m)\u001b[0m\u001b[0;34m\u001b[0m\u001b[0;34m\u001b[0m\u001b[0m\n\u001b[0m\u001b[1;32m   1538\u001b[0m     \u001b[0mdispatch\u001b[0m\u001b[0;34m[\u001b[0m\u001b[0mSTACK_GLOBAL\u001b[0m\u001b[0;34m[\u001b[0m\u001b[0;36m0\u001b[0m\u001b[0;34m]\u001b[0m\u001b[0;34m]\u001b[0m \u001b[0;34m=\u001b[0m \u001b[0mload_stack_global\u001b[0m\u001b[0;34m\u001b[0m\u001b[0;34m\u001b[0m\u001b[0m\n\u001b[1;32m   1539\u001b[0m \u001b[0;34m\u001b[0m\u001b[0m\n",
      "\u001b[0;32m/usr/local/lib/python3.9/site-packages/pandas/compat/pickle_compat.py\u001b[0m in \u001b[0;36mfind_class\u001b[0;34m(self, module, name)\u001b[0m\n\u001b[1;32m    187\u001b[0m         \u001b[0mkey\u001b[0m \u001b[0;34m=\u001b[0m \u001b[0;34m(\u001b[0m\u001b[0mmodule\u001b[0m\u001b[0;34m,\u001b[0m \u001b[0mname\u001b[0m\u001b[0;34m)\u001b[0m\u001b[0;34m\u001b[0m\u001b[0;34m\u001b[0m\u001b[0m\n\u001b[1;32m    188\u001b[0m         \u001b[0mmodule\u001b[0m\u001b[0;34m,\u001b[0m \u001b[0mname\u001b[0m \u001b[0;34m=\u001b[0m \u001b[0m_class_locations_map\u001b[0m\u001b[0;34m.\u001b[0m\u001b[0mget\u001b[0m\u001b[0;34m(\u001b[0m\u001b[0mkey\u001b[0m\u001b[0;34m,\u001b[0m \u001b[0mkey\u001b[0m\u001b[0;34m)\u001b[0m\u001b[0;34m\u001b[0m\u001b[0;34m\u001b[0m\u001b[0m\n\u001b[0;32m--> 189\u001b[0;31m         \u001b[0;32mreturn\u001b[0m \u001b[0msuper\u001b[0m\u001b[0;34m(\u001b[0m\u001b[0;34m)\u001b[0m\u001b[0;34m.\u001b[0m\u001b[0mfind_class\u001b[0m\u001b[0;34m(\u001b[0m\u001b[0mmodule\u001b[0m\u001b[0;34m,\u001b[0m \u001b[0mname\u001b[0m\u001b[0;34m)\u001b[0m\u001b[0;34m\u001b[0m\u001b[0;34m\u001b[0m\u001b[0m\n\u001b[0m\u001b[1;32m    190\u001b[0m \u001b[0;34m\u001b[0m\u001b[0m\n\u001b[1;32m    191\u001b[0m \u001b[0;34m\u001b[0m\u001b[0m\n",
      "\u001b[0;32m/usr/local/Cellar/python@3.9/3.9.5/Frameworks/Python.framework/Versions/3.9/lib/python3.9/pickle.py\u001b[0m in \u001b[0;36mfind_class\u001b[0;34m(self, module, name)\u001b[0m\n\u001b[1;32m   1579\u001b[0m         \u001b[0m__import__\u001b[0m\u001b[0;34m(\u001b[0m\u001b[0mmodule\u001b[0m\u001b[0;34m,\u001b[0m \u001b[0mlevel\u001b[0m\u001b[0;34m=\u001b[0m\u001b[0;36m0\u001b[0m\u001b[0;34m)\u001b[0m\u001b[0;34m\u001b[0m\u001b[0;34m\u001b[0m\u001b[0m\n\u001b[1;32m   1580\u001b[0m         \u001b[0;32mif\u001b[0m \u001b[0mself\u001b[0m\u001b[0;34m.\u001b[0m\u001b[0mproto\u001b[0m \u001b[0;34m>=\u001b[0m \u001b[0;36m4\u001b[0m\u001b[0;34m:\u001b[0m\u001b[0;34m\u001b[0m\u001b[0;34m\u001b[0m\u001b[0m\n\u001b[0;32m-> 1581\u001b[0;31m             \u001b[0;32mreturn\u001b[0m \u001b[0m_getattribute\u001b[0m\u001b[0;34m(\u001b[0m\u001b[0msys\u001b[0m\u001b[0;34m.\u001b[0m\u001b[0mmodules\u001b[0m\u001b[0;34m[\u001b[0m\u001b[0mmodule\u001b[0m\u001b[0;34m]\u001b[0m\u001b[0;34m,\u001b[0m \u001b[0mname\u001b[0m\u001b[0;34m)\u001b[0m\u001b[0;34m[\u001b[0m\u001b[0;36m0\u001b[0m\u001b[0;34m]\u001b[0m\u001b[0;34m\u001b[0m\u001b[0;34m\u001b[0m\u001b[0m\n\u001b[0m\u001b[1;32m   1582\u001b[0m         \u001b[0;32melse\u001b[0m\u001b[0;34m:\u001b[0m\u001b[0;34m\u001b[0m\u001b[0;34m\u001b[0m\u001b[0m\n\u001b[1;32m   1583\u001b[0m             \u001b[0;32mreturn\u001b[0m \u001b[0mgetattr\u001b[0m\u001b[0;34m(\u001b[0m\u001b[0msys\u001b[0m\u001b[0;34m.\u001b[0m\u001b[0mmodules\u001b[0m\u001b[0;34m[\u001b[0m\u001b[0mmodule\u001b[0m\u001b[0;34m]\u001b[0m\u001b[0;34m,\u001b[0m \u001b[0mname\u001b[0m\u001b[0;34m)\u001b[0m\u001b[0;34m\u001b[0m\u001b[0;34m\u001b[0m\u001b[0m\n",
      "\u001b[0;32m/usr/local/Cellar/python@3.9/3.9.5/Frameworks/Python.framework/Versions/3.9/lib/python3.9/pickle.py\u001b[0m in \u001b[0;36m_getattribute\u001b[0;34m(obj, name)\u001b[0m\n\u001b[1;32m    329\u001b[0m             \u001b[0mobj\u001b[0m \u001b[0;34m=\u001b[0m \u001b[0mgetattr\u001b[0m\u001b[0;34m(\u001b[0m\u001b[0mobj\u001b[0m\u001b[0;34m,\u001b[0m \u001b[0msubpath\u001b[0m\u001b[0;34m)\u001b[0m\u001b[0;34m\u001b[0m\u001b[0;34m\u001b[0m\u001b[0m\n\u001b[1;32m    330\u001b[0m         \u001b[0;32mexcept\u001b[0m \u001b[0mAttributeError\u001b[0m\u001b[0;34m:\u001b[0m\u001b[0;34m\u001b[0m\u001b[0;34m\u001b[0m\u001b[0m\n\u001b[0;32m--> 331\u001b[0;31m             raise AttributeError(\"Can't get attribute {!r} on {!r}\"\n\u001b[0m\u001b[1;32m    332\u001b[0m                                  .format(name, obj)) from None\n\u001b[1;32m    333\u001b[0m     \u001b[0;32mreturn\u001b[0m \u001b[0mobj\u001b[0m\u001b[0;34m,\u001b[0m \u001b[0mparent\u001b[0m\u001b[0;34m\u001b[0m\u001b[0;34m\u001b[0m\u001b[0m\n",
      "\u001b[0;31mAttributeError\u001b[0m: Can't get attribute '_unpickle_block' on <module 'pandas._libs.internals' from '/usr/local/lib/python3.9/site-packages/pandas/_libs/internals.cpython-39-darwin.so'>"
     ]
    }
   ],
   "source": [
    "df=pd.read_pickle(\"./week1_clean_pickled.pkl\")\n",
    "#df = pd.read_pickle('/Users/joonghochoi/Desktop/NFLBigDataBowl/NFL/week1_clean_pickled.pkl')"
   ]
  },
  {
   "cell_type": "code",
   "execution_count": null,
   "id": "1f8282f1",
   "metadata": {},
   "outputs": [],
   "source": [
    "meow=pd.read_csv(\"/Users/joonghochoi/Desktop/NFLBigDataBowl/NFL/dec5_features_combined.csv\")\n",
    "meow.head(3)"
   ]
  },
  {
   "cell_type": "code",
   "execution_count": null,
   "id": "da291075",
   "metadata": {},
   "outputs": [],
   "source": [
    "print(len(meow))"
   ]
  },
  {
   "cell_type": "code",
   "execution_count": null,
   "id": "6a024d72",
   "metadata": {},
   "outputs": [],
   "source": [
    "#can skip to way later if using Jing Chun's preprocessed csv"
   ]
  },
  {
   "cell_type": "code",
   "execution_count": null,
   "id": "359b37f2",
   "metadata": {},
   "outputs": [],
   "source": [
    "df=pd.read_csv(\"/Users/joonghochoi/Desktop/NFLBigDataBowl/NFL/combined_per_player_block.csv\")\n",
    "df.head(3)"
   ]
  },
  {
   "cell_type": "code",
   "execution_count": null,
   "id": "c8374156",
   "metadata": {},
   "outputs": [],
   "source": [
    "df1=pd.read_csv(\"/Users/joonghochoi/Desktop/NFLBigDataBowl/NFL/combined_per_player_rush.csv\")\n",
    "df1.head(3)"
   ]
  },
  {
   "cell_type": "code",
   "execution_count": null,
   "id": "fa6cbdf9",
   "metadata": {},
   "outputs": [],
   "source": [
    "print(set(df.pff_role))\n",
    "print(set(df1.pff_role))\n",
    "print(df.shape)\n",
    "print(df1.shape)\n",
    "print(df2.shape)"
   ]
  },
  {
   "cell_type": "code",
   "execution_count": null,
   "id": "a5c10c34",
   "metadata": {},
   "outputs": [],
   "source": [
    "frames = [df,df1]\n",
    "\n",
    "result = pd.concat(frames)\n",
    "print(result.shape)\n",
    "result.head(3)"
   ]
  },
  {
   "cell_type": "code",
   "execution_count": null,
   "id": "8fb6b881",
   "metadata": {},
   "outputs": [],
   "source": [
    "result=result.drop(columns=['Unnamed: 0'])\n",
    "result.head(3)"
   ]
  },
  {
   "cell_type": "code",
   "execution_count": null,
   "id": "4c0be3fb",
   "metadata": {},
   "outputs": [],
   "source": [
    "print(set(result.pff_role))\n"
   ]
  },
  {
   "cell_type": "code",
   "execution_count": null,
   "id": "6944dbf9",
   "metadata": {},
   "outputs": [],
   "source": [
    "df2=pd.read_csv(\"/Users/joonghochoi/Desktop/NFLBigDataBowl/NFL/2023/pffScoutingData.csv\")\n",
    "set(df2.playId)"
   ]
  },
  {
   "cell_type": "code",
   "execution_count": null,
   "id": "d1bb1608",
   "metadata": {},
   "outputs": [],
   "source": [
    "df3=df2[df2.columns[df2.columns.isin(['gameId','playId','nflId','pff_hit','pff_hurry','pff_sack'])]]\n",
    "df3.head(3)"
   ]
  },
  {
   "cell_type": "code",
   "execution_count": null,
   "id": "37bab1aa",
   "metadata": {},
   "outputs": [],
   "source": [
    "print(result.shape)\n",
    "print(df3.shape)"
   ]
  },
  {
   "cell_type": "code",
   "execution_count": null,
   "id": "cf14df00",
   "metadata": {},
   "outputs": [],
   "source": [
    "df4=df3.merge(result, left_on=['gameId','playId','nflId'],right_on=['gameId','playId','nflId'])"
   ]
  },
  {
   "cell_type": "code",
   "execution_count": null,
   "id": "bdcb39fe",
   "metadata": {},
   "outputs": [],
   "source": [
    "print(df4.shape)\n",
    "df4.head(2)"
   ]
  },
  {
   "cell_type": "code",
   "execution_count": null,
   "id": "9729952a",
   "metadata": {},
   "outputs": [],
   "source": [
    "df5=df4.dropna()\n",
    "print(df5.shape)\n",
    "df5.head(2)"
   ]
  },
  {
   "cell_type": "code",
   "execution_count": null,
   "id": "0790715d",
   "metadata": {},
   "outputs": [],
   "source": [
    "df5['outcome']=0\n",
    "df5.loc[df5['pff_hurry'] == 1, 'outcome']='Hurry'\n",
    "df5.loc[df5['pff_hit'] == 1, 'outcome']='Hit'\n",
    "df5.loc[df5['pff_sack'] == 1, 'outcome']='Sack'"
   ]
  },
  {
   "cell_type": "code",
   "execution_count": null,
   "id": "81ae7e16",
   "metadata": {},
   "outputs": [],
   "source": [
    "df5.head(2)"
   ]
  },
  {
   "cell_type": "code",
   "execution_count": null,
   "id": "9e0b793e",
   "metadata": {},
   "outputs": [],
   "source": [
    "x_df=df5[df5.columns[~df5.columns.isin(['gameId','playId','nflId','outcome'])]]\n",
    "x_df.head(3)"
   ]
  },
  {
   "cell_type": "code",
   "execution_count": null,
   "id": "56f9b30a",
   "metadata": {},
   "outputs": [],
   "source": [
    "y_df=df5[df5.columns[df5.columns.isin(['outcome'])]]\n",
    "y_df.head(3)"
   ]
  },
  {
   "cell_type": "code",
   "execution_count": null,
   "id": "dd253a70",
   "metadata": {},
   "outputs": [],
   "source": []
  },
  {
   "cell_type": "code",
   "execution_count": null,
   "id": "bd91b9bf",
   "metadata": {},
   "outputs": [],
   "source": [
    "#continue from here using Jing chun's."
   ]
  },
  {
   "cell_type": "code",
   "execution_count": 6,
   "id": "8b3c2862",
   "metadata": {},
   "outputs": [
    {
     "data": {
      "text/html": [
       "<div>\n",
       "<style scoped>\n",
       "    .dataframe tbody tr th:only-of-type {\n",
       "        vertical-align: middle;\n",
       "    }\n",
       "\n",
       "    .dataframe tbody tr th {\n",
       "        vertical-align: top;\n",
       "    }\n",
       "\n",
       "    .dataframe thead th {\n",
       "        text-align: right;\n",
       "    }\n",
       "</style>\n",
       "<table border=\"1\" class=\"dataframe\">\n",
       "  <thead>\n",
       "    <tr style=\"text-align: right;\">\n",
       "      <th></th>\n",
       "      <th>Unnamed: 0</th>\n",
       "      <th>playId</th>\n",
       "      <th>gameId.x</th>\n",
       "      <th>frameId</th>\n",
       "      <th>dist_name</th>\n",
       "      <th>dist_to_qb_name</th>\n",
       "      <th>area_name</th>\n",
       "      <th>x_force_name</th>\n",
       "      <th>y_force_name</th>\n",
       "      <th>norm_weighted_x_name</th>\n",
       "      <th>norm_weighted_y_name</th>\n",
       "      <th>net_x_force_bottom_name</th>\n",
       "      <th>net_x_force_middle_name</th>\n",
       "      <th>net_x_force_top_name</th>\n",
       "      <th>net_y_force_bottom_name</th>\n",
       "      <th>net_y_force_middle_name</th>\n",
       "      <th>net_y_force_y_name</th>\n",
       "      <th>gameId.y</th>\n",
       "      <th>hit</th>\n",
       "      <th>hurry</th>\n",
       "      <th>sack</th>\n",
       "      <th>bad_thing</th>\n",
       "    </tr>\n",
       "  </thead>\n",
       "  <tbody>\n",
       "    <tr>\n",
       "      <th>0</th>\n",
       "      <td>1</td>\n",
       "      <td>55</td>\n",
       "      <td>2021091300</td>\n",
       "      <td>5</td>\n",
       "      <td>2.997692</td>\n",
       "      <td>4.280639</td>\n",
       "      <td>47.856033</td>\n",
       "      <td>-350.675972</td>\n",
       "      <td>18.667865</td>\n",
       "      <td>-336.460695</td>\n",
       "      <td>33.720778</td>\n",
       "      <td>0.0</td>\n",
       "      <td>-597.356840</td>\n",
       "      <td>-122.274350</td>\n",
       "      <td>0.0</td>\n",
       "      <td>-48.033561</td>\n",
       "      <td>281.792595</td>\n",
       "      <td>2021103112</td>\n",
       "      <td>0</td>\n",
       "      <td>1</td>\n",
       "      <td>1</td>\n",
       "      <td>1</td>\n",
       "    </tr>\n",
       "    <tr>\n",
       "      <th>1</th>\n",
       "      <td>2</td>\n",
       "      <td>55</td>\n",
       "      <td>2021091300</td>\n",
       "      <td>3</td>\n",
       "      <td>2.964995</td>\n",
       "      <td>4.353640</td>\n",
       "      <td>51.280733</td>\n",
       "      <td>-407.128155</td>\n",
       "      <td>38.829978</td>\n",
       "      <td>-392.110675</td>\n",
       "      <td>53.648174</td>\n",
       "      <td>0.0</td>\n",
       "      <td>60.448704</td>\n",
       "      <td>-86.818662</td>\n",
       "      <td>0.0</td>\n",
       "      <td>-11.572894</td>\n",
       "      <td>-38.766470</td>\n",
       "      <td>2021103112</td>\n",
       "      <td>0</td>\n",
       "      <td>1</td>\n",
       "      <td>1</td>\n",
       "      <td>1</td>\n",
       "    </tr>\n",
       "  </tbody>\n",
       "</table>\n",
       "</div>"
      ],
      "text/plain": [
       "   Unnamed: 0  playId    gameId.x  frameId  dist_name  dist_to_qb_name  \\\n",
       "0           1      55  2021091300        5   2.997692         4.280639   \n",
       "1           2      55  2021091300        3   2.964995         4.353640   \n",
       "\n",
       "   area_name  x_force_name  y_force_name  norm_weighted_x_name  \\\n",
       "0  47.856033   -350.675972     18.667865           -336.460695   \n",
       "1  51.280733   -407.128155     38.829978           -392.110675   \n",
       "\n",
       "   norm_weighted_y_name  net_x_force_bottom_name  net_x_force_middle_name  \\\n",
       "0             33.720778                      0.0              -597.356840   \n",
       "1             53.648174                      0.0                60.448704   \n",
       "\n",
       "   net_x_force_top_name  net_y_force_bottom_name  net_y_force_middle_name  \\\n",
       "0           -122.274350                      0.0               -48.033561   \n",
       "1            -86.818662                      0.0               -11.572894   \n",
       "\n",
       "   net_y_force_y_name    gameId.y  hit  hurry  sack  bad_thing  \n",
       "0          281.792595  2021103112    0      1     1          1  \n",
       "1          -38.766470  2021103112    0      1     1          1  "
      ]
     },
     "execution_count": 6,
     "metadata": {},
     "output_type": "execute_result"
    }
   ],
   "source": [
    "new_df=pd.read_csv(\"/Users/joonghochoi/Desktop/NFLBigDataBowl/NFL/2023/by_frame_all.csv\")\n",
    "new_df.head(2)"
   ]
  },
  {
   "cell_type": "code",
   "execution_count": 7,
   "id": "a1ed6f9d",
   "metadata": {},
   "outputs": [],
   "source": [
    "#new_df[new_df.bad_thing==0,]"
   ]
  },
  {
   "cell_type": "code",
   "execution_count": 8,
   "id": "4b1a0fdc",
   "metadata": {},
   "outputs": [
    {
     "name": "stdout",
     "output_type": "stream",
     "text": [
      "(36665, 15)\n"
     ]
    }
   ],
   "source": [
    "new_df1=new_df.drop(columns=['Unnamed: 0','playId','gameId.x','gameId.y','hit','hurry','sack'])\n",
    "print(new_df1.shape)\n"
   ]
  },
  {
   "cell_type": "code",
   "execution_count": 9,
   "id": "171fbd11",
   "metadata": {},
   "outputs": [
    {
     "data": {
      "text/html": [
       "<div>\n",
       "<style scoped>\n",
       "    .dataframe tbody tr th:only-of-type {\n",
       "        vertical-align: middle;\n",
       "    }\n",
       "\n",
       "    .dataframe tbody tr th {\n",
       "        vertical-align: top;\n",
       "    }\n",
       "\n",
       "    .dataframe thead th {\n",
       "        text-align: right;\n",
       "    }\n",
       "</style>\n",
       "<table border=\"1\" class=\"dataframe\">\n",
       "  <thead>\n",
       "    <tr style=\"text-align: right;\">\n",
       "      <th></th>\n",
       "      <th>frameId</th>\n",
       "      <th>dist_name</th>\n",
       "      <th>dist_to_qb_name</th>\n",
       "      <th>area_name</th>\n",
       "      <th>x_force_name</th>\n",
       "      <th>y_force_name</th>\n",
       "      <th>norm_weighted_x_name</th>\n",
       "      <th>norm_weighted_y_name</th>\n",
       "      <th>net_x_force_bottom_name</th>\n",
       "      <th>net_x_force_middle_name</th>\n",
       "      <th>net_x_force_top_name</th>\n",
       "      <th>net_y_force_bottom_name</th>\n",
       "      <th>net_y_force_middle_name</th>\n",
       "      <th>net_y_force_y_name</th>\n",
       "      <th>bad_thing</th>\n",
       "    </tr>\n",
       "  </thead>\n",
       "  <tbody>\n",
       "    <tr>\n",
       "      <th>0</th>\n",
       "      <td>5</td>\n",
       "      <td>2.997692</td>\n",
       "      <td>4.280639</td>\n",
       "      <td>47.856033</td>\n",
       "      <td>-350.675972</td>\n",
       "      <td>18.667865</td>\n",
       "      <td>-336.460695</td>\n",
       "      <td>33.720778</td>\n",
       "      <td>0.0</td>\n",
       "      <td>-597.356840</td>\n",
       "      <td>-122.274350</td>\n",
       "      <td>0.0</td>\n",
       "      <td>-48.033561</td>\n",
       "      <td>281.792595</td>\n",
       "      <td>1</td>\n",
       "    </tr>\n",
       "    <tr>\n",
       "      <th>1</th>\n",
       "      <td>3</td>\n",
       "      <td>2.964995</td>\n",
       "      <td>4.353640</td>\n",
       "      <td>51.280733</td>\n",
       "      <td>-407.128155</td>\n",
       "      <td>38.829978</td>\n",
       "      <td>-392.110675</td>\n",
       "      <td>53.648174</td>\n",
       "      <td>0.0</td>\n",
       "      <td>60.448704</td>\n",
       "      <td>-86.818662</td>\n",
       "      <td>0.0</td>\n",
       "      <td>-11.572894</td>\n",
       "      <td>-38.766470</td>\n",
       "      <td>1</td>\n",
       "    </tr>\n",
       "  </tbody>\n",
       "</table>\n",
       "</div>"
      ],
      "text/plain": [
       "   frameId  dist_name  dist_to_qb_name  area_name  x_force_name  y_force_name  \\\n",
       "0        5   2.997692         4.280639  47.856033   -350.675972     18.667865   \n",
       "1        3   2.964995         4.353640  51.280733   -407.128155     38.829978   \n",
       "\n",
       "   norm_weighted_x_name  norm_weighted_y_name  net_x_force_bottom_name  \\\n",
       "0           -336.460695             33.720778                      0.0   \n",
       "1           -392.110675             53.648174                      0.0   \n",
       "\n",
       "   net_x_force_middle_name  net_x_force_top_name  net_y_force_bottom_name  \\\n",
       "0              -597.356840           -122.274350                      0.0   \n",
       "1                60.448704            -86.818662                      0.0   \n",
       "\n",
       "   net_y_force_middle_name  net_y_force_y_name  bad_thing  \n",
       "0               -48.033561          281.792595          1  \n",
       "1               -11.572894          -38.766470          1  "
      ]
     },
     "execution_count": 9,
     "metadata": {},
     "output_type": "execute_result"
    }
   ],
   "source": [
    "new_df1.head(2)"
   ]
  },
  {
   "cell_type": "code",
   "execution_count": 10,
   "id": "bf98c418",
   "metadata": {},
   "outputs": [
    {
     "data": {
      "text/html": [
       "<div>\n",
       "<style scoped>\n",
       "    .dataframe tbody tr th:only-of-type {\n",
       "        vertical-align: middle;\n",
       "    }\n",
       "\n",
       "    .dataframe tbody tr th {\n",
       "        vertical-align: top;\n",
       "    }\n",
       "\n",
       "    .dataframe thead th {\n",
       "        text-align: right;\n",
       "    }\n",
       "</style>\n",
       "<table border=\"1\" class=\"dataframe\">\n",
       "  <thead>\n",
       "    <tr style=\"text-align: right;\">\n",
       "      <th></th>\n",
       "      <th>frameId</th>\n",
       "      <th>dist_name</th>\n",
       "      <th>dist_to_qb_name</th>\n",
       "      <th>area_name</th>\n",
       "      <th>x_force_name</th>\n",
       "      <th>y_force_name</th>\n",
       "      <th>norm_weighted_x_name</th>\n",
       "      <th>norm_weighted_y_name</th>\n",
       "      <th>net_x_force_bottom_name</th>\n",
       "      <th>net_x_force_middle_name</th>\n",
       "      <th>net_x_force_top_name</th>\n",
       "      <th>net_y_force_bottom_name</th>\n",
       "      <th>net_y_force_middle_name</th>\n",
       "      <th>net_y_force_y_name</th>\n",
       "    </tr>\n",
       "  </thead>\n",
       "  <tbody>\n",
       "    <tr>\n",
       "      <th>0</th>\n",
       "      <td>5</td>\n",
       "      <td>2.997692</td>\n",
       "      <td>4.280639</td>\n",
       "      <td>47.856033</td>\n",
       "      <td>-350.675972</td>\n",
       "      <td>18.667865</td>\n",
       "      <td>-336.460695</td>\n",
       "      <td>33.720778</td>\n",
       "      <td>0.0</td>\n",
       "      <td>-597.356840</td>\n",
       "      <td>-122.274350</td>\n",
       "      <td>0.0</td>\n",
       "      <td>-48.033561</td>\n",
       "      <td>281.792595</td>\n",
       "    </tr>\n",
       "    <tr>\n",
       "      <th>1</th>\n",
       "      <td>3</td>\n",
       "      <td>2.964995</td>\n",
       "      <td>4.353640</td>\n",
       "      <td>51.280733</td>\n",
       "      <td>-407.128155</td>\n",
       "      <td>38.829978</td>\n",
       "      <td>-392.110675</td>\n",
       "      <td>53.648174</td>\n",
       "      <td>0.0</td>\n",
       "      <td>60.448704</td>\n",
       "      <td>-86.818662</td>\n",
       "      <td>0.0</td>\n",
       "      <td>-11.572894</td>\n",
       "      <td>-38.766470</td>\n",
       "    </tr>\n",
       "    <tr>\n",
       "      <th>2</th>\n",
       "      <td>2</td>\n",
       "      <td>2.952259</td>\n",
       "      <td>4.371644</td>\n",
       "      <td>608.395633</td>\n",
       "      <td>-310.765476</td>\n",
       "      <td>39.107485</td>\n",
       "      <td>-298.388494</td>\n",
       "      <td>52.769109</td>\n",
       "      <td>0.0</td>\n",
       "      <td>2.063553</td>\n",
       "      <td>-36.320075</td>\n",
       "      <td>0.0</td>\n",
       "      <td>-6.810917</td>\n",
       "      <td>-32.231495</td>\n",
       "    </tr>\n",
       "  </tbody>\n",
       "</table>\n",
       "</div>"
      ],
      "text/plain": [
       "   frameId  dist_name  dist_to_qb_name   area_name  x_force_name  \\\n",
       "0        5   2.997692         4.280639   47.856033   -350.675972   \n",
       "1        3   2.964995         4.353640   51.280733   -407.128155   \n",
       "2        2   2.952259         4.371644  608.395633   -310.765476   \n",
       "\n",
       "   y_force_name  norm_weighted_x_name  norm_weighted_y_name  \\\n",
       "0     18.667865           -336.460695             33.720778   \n",
       "1     38.829978           -392.110675             53.648174   \n",
       "2     39.107485           -298.388494             52.769109   \n",
       "\n",
       "   net_x_force_bottom_name  net_x_force_middle_name  net_x_force_top_name  \\\n",
       "0                      0.0              -597.356840           -122.274350   \n",
       "1                      0.0                60.448704            -86.818662   \n",
       "2                      0.0                 2.063553            -36.320075   \n",
       "\n",
       "   net_y_force_bottom_name  net_y_force_middle_name  net_y_force_y_name  \n",
       "0                      0.0               -48.033561          281.792595  \n",
       "1                      0.0               -11.572894          -38.766470  \n",
       "2                      0.0                -6.810917          -32.231495  "
      ]
     },
     "execution_count": 10,
     "metadata": {},
     "output_type": "execute_result"
    }
   ],
   "source": [
    "x_df=new_df1[new_df1.columns[~new_df1.columns.isin(['bad_thing'])]]\n",
    "x_df.head(3)\n"
   ]
  },
  {
   "cell_type": "code",
   "execution_count": 11,
   "id": "53771509",
   "metadata": {},
   "outputs": [
    {
     "data": {
      "text/html": [
       "<div>\n",
       "<style scoped>\n",
       "    .dataframe tbody tr th:only-of-type {\n",
       "        vertical-align: middle;\n",
       "    }\n",
       "\n",
       "    .dataframe tbody tr th {\n",
       "        vertical-align: top;\n",
       "    }\n",
       "\n",
       "    .dataframe thead th {\n",
       "        text-align: right;\n",
       "    }\n",
       "</style>\n",
       "<table border=\"1\" class=\"dataframe\">\n",
       "  <thead>\n",
       "    <tr style=\"text-align: right;\">\n",
       "      <th></th>\n",
       "      <th>bad_thing</th>\n",
       "    </tr>\n",
       "  </thead>\n",
       "  <tbody>\n",
       "    <tr>\n",
       "      <th>0</th>\n",
       "      <td>1</td>\n",
       "    </tr>\n",
       "    <tr>\n",
       "      <th>1</th>\n",
       "      <td>1</td>\n",
       "    </tr>\n",
       "    <tr>\n",
       "      <th>2</th>\n",
       "      <td>1</td>\n",
       "    </tr>\n",
       "  </tbody>\n",
       "</table>\n",
       "</div>"
      ],
      "text/plain": [
       "   bad_thing\n",
       "0          1\n",
       "1          1\n",
       "2          1"
      ]
     },
     "execution_count": 11,
     "metadata": {},
     "output_type": "execute_result"
    }
   ],
   "source": [
    "y_df=new_df1[new_df1.columns[new_df1.columns.isin(['bad_thing'])]]\n",
    "y_df.head(3)"
   ]
  },
  {
   "cell_type": "code",
   "execution_count": 12,
   "id": "87241b4d",
   "metadata": {},
   "outputs": [
    {
     "name": "stdout",
     "output_type": "stream",
     "text": [
      "(26626, 1)\n",
      "(10039, 1)\n"
     ]
    }
   ],
   "source": [
    "bad=y_df.loc[y_df['bad_thing'] == 1]\n",
    "\n",
    "not_bad=y_df.loc[y_df['bad_thing'] == 0]\n",
    "\n",
    "\n",
    "print(bad.shape)\n",
    "print(not_bad.shape) #imbalanced as expected"
   ]
  },
  {
   "cell_type": "code",
   "execution_count": null,
   "id": "eaacd552",
   "metadata": {},
   "outputs": [],
   "source": []
  },
  {
   "cell_type": "code",
   "execution_count": 13,
   "id": "c8e96174",
   "metadata": {},
   "outputs": [],
   "source": [
    "X_train, X_test, y_train, y_test = train_test_split(x_df, y_df, test_size=0.33, random_state=42)"
   ]
  },
  {
   "cell_type": "code",
   "execution_count": 14,
   "id": "810903d9",
   "metadata": {},
   "outputs": [
    {
     "data": {
      "text/html": [
       "<div>\n",
       "<style scoped>\n",
       "    .dataframe tbody tr th:only-of-type {\n",
       "        vertical-align: middle;\n",
       "    }\n",
       "\n",
       "    .dataframe tbody tr th {\n",
       "        vertical-align: top;\n",
       "    }\n",
       "\n",
       "    .dataframe thead th {\n",
       "        text-align: right;\n",
       "    }\n",
       "</style>\n",
       "<table border=\"1\" class=\"dataframe\">\n",
       "  <thead>\n",
       "    <tr style=\"text-align: right;\">\n",
       "      <th></th>\n",
       "      <th>bad_thing</th>\n",
       "    </tr>\n",
       "  </thead>\n",
       "  <tbody>\n",
       "    <tr>\n",
       "      <th>32269</th>\n",
       "      <td>1</td>\n",
       "    </tr>\n",
       "    <tr>\n",
       "      <th>3181</th>\n",
       "      <td>1</td>\n",
       "    </tr>\n",
       "  </tbody>\n",
       "</table>\n",
       "</div>"
      ],
      "text/plain": [
       "       bad_thing\n",
       "32269          1\n",
       "3181           1"
      ]
     },
     "execution_count": 14,
     "metadata": {},
     "output_type": "execute_result"
    }
   ],
   "source": [
    "X_train.head(2)\n",
    "y_train.head(2)"
   ]
  },
  {
   "cell_type": "code",
   "execution_count": 15,
   "id": "cbec8f78",
   "metadata": {},
   "outputs": [
    {
     "name": "stderr",
     "output_type": "stream",
     "text": [
      "/usr/local/lib/python3.9/site-packages/xgboost/sklearn.py:1146: UserWarning: The use of label encoder in XGBClassifier is deprecated and will be removed in a future release. To remove this warning, do the following: 1) Pass option use_label_encoder=False when constructing XGBClassifier object; and 2) Encode your labels (y) as integers starting with 0, i.e. 0, 1, 2, ..., [num_class - 1].\n",
      "  warnings.warn(label_encoder_deprecation_msg, UserWarning)\n",
      "/usr/local/lib/python3.9/site-packages/sklearn/utils/validation.py:63: DataConversionWarning: A column-vector y was passed when a 1d array was expected. Please change the shape of y to (n_samples, ), for example using ravel().\n",
      "  return f(*args, **kwargs)\n"
     ]
    },
    {
     "name": "stdout",
     "output_type": "stream",
     "text": [
      "[16:53:27] WARNING: /Users/travis/build/dmlc/xgboost/src/learner.cc:1095: Starting in XGBoost 1.3.0, the default evaluation metric used with the objective 'binary:logistic' was changed from 'error' to 'logloss'. Explicitly set eval_metric if you'd like to restore the old behavior.\n"
     ]
    }
   ],
   "source": [
    "clf = xgb.XGBClassifier(max_depth=5, n_estimators=30,objective='binary:logistic')\n",
    "# clf = xgb.XGBClassifier(max_depth=5, objective='multi:softprob', n_estimators=1000, \n",
    "#                         num_classes=2)\n",
    "\n",
    "clf.fit(X_train, y_train)  \n",
    "pred = clf.predict(X_test)"
   ]
  },
  {
   "cell_type": "code",
   "execution_count": 16,
   "id": "84a5a70a",
   "metadata": {},
   "outputs": [
    {
     "name": "stdout",
     "output_type": "stream",
     "text": [
      "Accuracy of Model:: 0.7378512396694215\n"
     ]
    }
   ],
   "source": [
    "\n",
    "print(\"Accuracy of Model::\",accuracy_score(y_test,pred))\n",
    "\n"
   ]
  },
  {
   "cell_type": "code",
   "execution_count": 29,
   "id": "f70b32e3",
   "metadata": {},
   "outputs": [],
   "source": [
    "def plot_roc(fpr, tpr, roc_auc):\n",
    "    plt.plot(fpr, tpr)\n",
    "    plt.plot([0, 1], [0, 1], 'k--')\n",
    "    plt.xlim([0.0, 1.0])\n",
    "    plt.ylim([0.0, 1.05])\n",
    "    plt.xlabel('False Positive Rate')\n",
    "    plt.ylabel('True Positive Rate')\n",
    "    plt.title('ROC curve (area = %0.6f)' % roc_auc)\n",
    "    plt.legend(loc=\"lower right\")\n",
    "    plt.show()\n",
    "\n",
    "\n",
    "def plot_pr(recall,precision,average_precision):\n",
    "    plt.step(recall, precision, color='b', alpha=0.2, where='post')\n",
    "    plt.fill_between(recall, precision, step='post', alpha=0.2, color='b')\n",
    "    plt.xlabel('Recall')\n",
    "    plt.ylabel('Precision')\n",
    "    plt.ylim([0.0, 1.05])\n",
    "    plt.xlim([0.0, 1.0])\n",
    "    plt.title('Precision-Recall: {0:0.6f}'.format(average_precision))\n",
    "    plt.show()\n",
    "\n",
    "    \n",
    "def plot_learning_curve(results,epochs):\n",
    "    x_axis = range(0, epochs)\n",
    "    fig, ax = plt.subplots()\n",
    "    ax.plot(x_axis, results['validation_0']['logloss'], label='logloss-Train')\n",
    "    ax.plot(x_axis, results['validation_1']['logloss'], label='logloss-Test')\n",
    "    ax.plot(x_axis, results['validation_0']['auc'], label='auc-Train')\n",
    "    ax.plot(x_axis, results['validation_1']['auc'], label='auc-Test')\n",
    "    ax.legend()\n",
    "    plt.ylabel('Log Loss/AUC')\n",
    "    plt.title('XGBoost Log Loss and AUC evolution')\n",
    "    plt.show()\n",
    "\n",
    "\n",
    "def run_xgboost_and_calculate_auc(df,\n",
    "                                  target='target',\n",
    "                                  drop='variable_to_find_and_exclude',\n",
    "                                  w=1,\n",
    "                                  plot_variables=False,\n",
    "                                  plot_ROC_PR=False,\n",
    "                                  plot_confusion=False,\n",
    "                                  learning_rate=0.05,\n",
    "                                  max_depth=10,\n",
    "                                  esr=10,\n",
    "                                  CV=True,\n",
    "                                  title='',\n",
    "                                  plot_all=False,\n",
    "                                  ensembler=False,\n",
    "                                  test_size=.2):\n",
    "    '''\n",
    "    Generic function to run xgboost to test the added changes and plot roc, learning and others and save the model.\n",
    "    '''\n",
    "    # features\n",
    "    X = df.drop(target, axis=1)\n",
    "    X = pd.get_dummies(X)\n",
    "    \n",
    "    # targets\n",
    "    Y = df[target]\n",
    "\n",
    "    X_train, X_test, Y_train, Y_test = train_test_split(X, Y,\n",
    "                                                        test_size=test_size,\n",
    "                                                        random_state=12345,\n",
    "                                                        stratify=Y)\n",
    "\n",
    "    print(f'variables: {len(list(X))}, rows:{len(X)}, flags:{sum(list(df[target]))}')\n",
    "    \n",
    "        \n",
    "    clf = xgb.XGBClassifier(\n",
    "        learning_rate=learning_rate,\n",
    "        n_estimators=10,\n",
    "        max_depth=4,\n",
    "        min_child_weight=4,\n",
    "        gamma=0.6,\n",
    "        subsample=0.8,\n",
    "        colsample_bytree=0.8,\n",
    "        reg_alpha=5e-05,\n",
    "        objective='binary:logistic',\n",
    "        scale_pos_weight=w,\n",
    "        seed=27)\n",
    "\n",
    "    eval_set = [(X_train, Y_train), (X_test, Y_test)]\n",
    "\n",
    "    if plot_all:\n",
    "        plot_learning=True\n",
    "        plot_variables=True\n",
    "        plot_ROC_PR=True\n",
    "        plot_confusion=True\n",
    "        plot_graph_tree=True\n",
    "        \n",
    "    if CV:\n",
    "        X = pd.concat([X_train,X_test])\n",
    "        y = pd.concat([Y_train,Y_test])\n",
    "        xgb_param = clf.get_xgb_params()\n",
    "        xgtrain = xgb.DMatrix(X.values, y.values)\n",
    "        cvresult = xgb.cv(xgb_param,\n",
    "                          xgtrain,\n",
    "                          num_boost_round=clf.get_params()['n_estimators'],\n",
    "                          nfold=5,\n",
    "                          metrics='auc',\n",
    "                          early_stopping_rounds=esr)\n",
    "        print(cvresult.tail(1))\n",
    "        clf.set_params(n_estimators=cvresult.shape[0])\n",
    "\n",
    "    clf.fit(X_train,\n",
    "            Y_train,\n",
    "            early_stopping_rounds=25,\n",
    "            eval_metric=['auc','error','logloss'],\n",
    "            eval_set=eval_set,\n",
    "            verbose=False)\n",
    "\n",
    "    Y_pred = clf.predict_proba(X_test)\n",
    "    y_true = np.array(Y_test)\n",
    "    y_scores = Y_pred[:, 1]\n",
    "\n",
    "    fpr, tpr, _ = roc_curve(Y_test, y_scores)\n",
    "    roc_auc = auc(fpr, tpr)\n",
    "    average_precision = average_precision_score(Y_test, y_scores)\n",
    "    precision, recall, _ = precision_recall_curve(Y_test, y_scores)\n",
    "    \n",
    "    if plot_ROC_PR:\n",
    "        plot_roc(fpr, tpr, roc_auc)\n",
    "        plot_pr(recall,precision,average_precision)\n",
    "    else:\n",
    "        print('Area under ROC: %0.6f' % roc_auc)\n",
    "\n",
    "    print(\"plotting variables of importance\")\n",
    "    if plot_variables:\n",
    "        xgb.plot_importance(clf,max_num_features=20,importance_type='gain',xlabel='gain')\n",
    "    \n",
    "    print('\\n', classification_report(y_true, y_scores.round()))\n",
    "        \n",
    "    if ensembler:\n",
    "        return Y_test, y_scores\n",
    "\n",
    "    print('-------------END EXECUTION-------------')"
   ]
  },
  {
   "cell_type": "code",
   "execution_count": 30,
   "id": "20e28273",
   "metadata": {},
   "outputs": [
    {
     "name": "stdout",
     "output_type": "stream",
     "text": [
      "variables: 14, rows:36665, flags:26626\n",
      "   train-auc-mean  train-auc-std  test-auc-mean  test-auc-std\n",
      "9        0.635898       0.003528       0.616615      0.007805\n"
     ]
    },
    {
     "name": "stderr",
     "output_type": "stream",
     "text": [
      "/usr/local/lib/python3.9/site-packages/xgboost/sklearn.py:1146: UserWarning: The use of label encoder in XGBClassifier is deprecated and will be removed in a future release. To remove this warning, do the following: 1) Pass option use_label_encoder=False when constructing XGBClassifier object; and 2) Encode your labels (y) as integers starting with 0, i.e. 0, 1, 2, ..., [num_class - 1].\n",
      "  warnings.warn(label_encoder_deprecation_msg, UserWarning)\n",
      "No handles with labels found to put in legend.\n"
     ]
    },
    {
     "data": {
      "image/png": "[encoded data removed]",
      "text/plain": [
       "<Figure size 432x288 with 1 Axes>"
      ]
     },
     "metadata": {
      "needs_background": "light"
     },
     "output_type": "display_data"
    },
    {
     "data": {
      "image/png": "[encoded data removed]",
      "text/plain": [
       "<Figure size 432x288 with 1 Axes>"
      ]
     },
     "metadata": {
      "needs_background": "light"
     },
     "output_type": "display_data"
    },
    {
     "name": "stdout",
     "output_type": "stream",
     "text": [
      "plotting variables of importance\n",
      "meow\n",
      "\n",
      "               precision    recall  f1-score   support\n",
      "\n",
      "           0       1.00      0.01      0.02      2008\n",
      "           1       0.73      1.00      0.84      5325\n",
      "\n",
      "    accuracy                           0.73      7333\n",
      "   macro avg       0.86      0.50      0.43      7333\n",
      "weighted avg       0.80      0.73      0.62      7333\n",
      "\n"
     ]
    },
    {
     "data": {
      "image/png": "[encoded data removed]",
      "text/plain": [
       "<Figure size 432x288 with 1 Axes>"
      ]
     },
     "metadata": {
      "needs_background": "light"
     },
     "output_type": "display_data"
    }
   ],
   "source": [
    "#ROC curves are appropriate when the observations are balanced between each class, \n",
    "#whereas precision-recall curves are appropriate for imbalanced datasets.\n",
    "Y_test, y_scores = run_xgboost_and_calculate_auc(new_df1,target='bad_thing',plot_all=True,ensembler=True)\n"
   ]
  },
  {
   "cell_type": "markdown",
   "id": "64104dec",
   "metadata": {},
   "source": [
    "From confusion matrix above, we always guess 0 and 1 correctly. However, \n",
    "precision= true positive/(true positive+false positive). Out of all positives guessed, we have a few false positives\n",
    "\n",
    "recall=true positive/(true positive+false negative). We have many false negative(0). "
   ]
  },
  {
   "cell_type": "code",
   "execution_count": null,
   "id": "ae7e0fb0",
   "metadata": {},
   "outputs": [],
   "source": []
  },
  {
   "cell_type": "code",
   "execution_count": null,
   "id": "338fa19d",
   "metadata": {},
   "outputs": [],
   "source": []
  },
  {
   "cell_type": "code",
   "execution_count": null,
   "id": "7d947c64",
   "metadata": {},
   "outputs": [],
   "source": []
  },
  {
   "cell_type": "code",
   "execution_count": null,
   "id": "f24268d7",
   "metadata": {},
   "outputs": [],
   "source": []
  },
  {
   "cell_type": "code",
   "execution_count": null,
   "id": "3da7e39f",
   "metadata": {},
   "outputs": [],
   "source": [
    "#check before feature engineering \n",
    "\n",
    "new_df2=copy.deepcopy(new_df1)\n",
    "new_df2['net_xy_force_middle_ratio']=new_df2['net_x_force_middle_name']/new_df2['net_y_force_middle_name']\n",
    "new_df2['net_xy_force_top_ratio']=new_df2['net_x_force_top_name']/new_df2['net_y_force_y_name']\n",
    "new_df2['dist_to_qb_ratio_area']=new_df2['dist_to_qb_name']/new_df2['area_name']\n",
    "new_df2.head(2)"
   ]
  },
  {
   "cell_type": "code",
   "execution_count": null,
   "id": "5969abef",
   "metadata": {},
   "outputs": [],
   "source": [
    "\n",
    "new_df2.replace([np.inf, -np.inf], np.nan, inplace=True)\n",
    "# Drop rows with NaN\n",
    "new_df2.dropna(inplace=True)\n",
    "print(new_df2.isnull().values.any())\n"
   ]
  },
  {
   "cell_type": "code",
   "execution_count": null,
   "id": "f0351a15",
   "metadata": {},
   "outputs": [],
   "source": [
    "x_df1=new_df2[new_df2.columns[~new_df2.columns.isin(['bad_thing'])]]\n",
    "y_df1=new_df2[new_df2.columns[new_df2.columns.isin(['bad_thing'])]]"
   ]
  },
  {
   "cell_type": "code",
   "execution_count": null,
   "id": "92de0972",
   "metadata": {},
   "outputs": [],
   "source": [
    "count = np.isinf(new_df2).values.sum()\n",
    "print(\"Infinity values... \",count)"
   ]
  },
  {
   "cell_type": "code",
   "execution_count": null,
   "id": "a3551d71",
   "metadata": {},
   "outputs": [],
   "source": [
    "X_train, X_test, y_train, y_test = train_test_split(x_df1, y_df1, test_size=0.33, random_state=42)"
   ]
  },
  {
   "cell_type": "code",
   "execution_count": null,
   "id": "922c10f4",
   "metadata": {},
   "outputs": [],
   "source": [
    "# print(X_train.shape)\n",
    "# print(X_test.shape)\n",
    "# print(y_train.shape)\n",
    "# print(y_test.shape)\n",
    "\n",
    "# print(X_train.isnull().values.any())\n",
    "# print(X_test.isnull().values.any())\n",
    "# print(y_train.isnull().values.any())\n",
    "# print(y_test.isnull().values.any())"
   ]
  },
  {
   "cell_type": "code",
   "execution_count": null,
   "id": "c0a9eaac",
   "metadata": {},
   "outputs": [],
   "source": [
    "clf = xgb.XGBClassifier(max_depth=5, n_estimators=30,objective='binary:logistic')\n",
    "# clf = xgb.XGBClassifier(max_depth=5, objective='multi:softprob', n_estimators=1000, \n",
    "#                         num_classes=2)\n",
    "\n",
    "clf.fit(X_train, y_train)  \n",
    "pred = clf.predict(X_test)"
   ]
  },
  {
   "cell_type": "code",
   "execution_count": null,
   "id": "8fa71f1a",
   "metadata": {},
   "outputs": [],
   "source": [
    "print(\"Accuracy of Model::\",accuracy_score(y_test,pred))\n",
    "\n",
    "#didn't perform better"
   ]
  },
  {
   "cell_type": "code",
   "execution_count": null,
   "id": "b905c25a",
   "metadata": {},
   "outputs": [],
   "source": []
  },
  {
   "cell_type": "code",
   "execution_count": null,
   "id": "444d8405",
   "metadata": {},
   "outputs": [],
   "source": [
    "#grid search\n",
    "from sklearn.model_selection import StratifiedKFold\n",
    "from sklearn.model_selection import RandomizedSearchCV, GridSearchCV\n",
    "from sklearn.metrics import roc_auc_score\n",
    "\n",
    "parameters = {\n",
    "              'objective':['binary:logistic'],\n",
    "              'learning_rate': [0.05], #so called `eta` value\n",
    "              'max_depth': [4,5,6],\n",
    "              'subsample': [0.8],\n",
    "              'colsample_bytree': [0.7],\n",
    "              'n_estimators': [30,40,50] #number of trees, change it to 1000 for better results\n",
    "            }"
   ]
  },
  {
   "cell_type": "code",
   "execution_count": null,
   "id": "76fa01eb",
   "metadata": {},
   "outputs": [],
   "source": [
    "skf = StratifiedKFold(n_splits=4, shuffle = True, random_state = 42)\n",
    "\n",
    "random_search = RandomizedSearchCV(xgb.XGBClassifier(), param_distributions=parameters, scoring='roc_auc', cv=skf.split(x_df1, y_df1), verbose=3, random_state=42 )"
   ]
  },
  {
   "cell_type": "code",
   "execution_count": null,
   "id": "b664d4ea",
   "metadata": {},
   "outputs": [],
   "source": [
    "random_search.fit(x_df1, y_df1)\n"
   ]
  },
  {
   "cell_type": "code",
   "execution_count": null,
   "id": "ce791ff5",
   "metadata": {},
   "outputs": [],
   "source": [
    "print('\\n Best estimator:')\n",
    "print(random_search.best_estimator_)\n",
    "print('\\n Best hyperparameters:')\n",
    "print(random_search.best_params_)"
   ]
  },
  {
   "cell_type": "code",
   "execution_count": null,
   "id": "4338da20",
   "metadata": {},
   "outputs": [],
   "source": [
    "clf = xgb.XGBClassifier(max_depth=6,subsample=0.8, n_estimators=50,objective='binary:logistic',learning_rate=0.05,colsample_bytree=0.7)\n",
    "# clf = xgb.XGBClassifier(max_depth=5, objective='multi:softprob', n_estimators=1000, \n",
    "#                         num_classes=2)\n",
    "\n",
    "clf.fit(X_train, y_train)  \n",
    "pred = clf.predict(X_test)\n",
    "print(\"Accuracy of Model::\",accuracy_score(y_test,pred))\n",
    "\n"
   ]
  },
  {
   "cell_type": "code",
   "execution_count": null,
   "id": "47fc0f1c",
   "metadata": {},
   "outputs": [],
   "source": [
    "#do some random forest"
   ]
  }
 ],
 "metadata": {
  "kernelspec": {
   "display_name": "stat_capstone",
   "language": "python",
   "name": "stat_capstone"
  },
  "language_info": {
   "codemirror_mode": {
    "name": "ipython",
    "version": 3
   },
   "file_extension": ".py",
   "mimetype": "text/x-python",
   "name": "python",
   "nbconvert_exporter": "python",
   "pygments_lexer": "ipython3",
   "version": "3.9.5"
  }
 },
 "nbformat": 4,
 "nbformat_minor": 5
}
